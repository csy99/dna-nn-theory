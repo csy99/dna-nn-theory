{
  "nbformat": 4,
  "nbformat_minor": 0,
  "metadata": {
    "colab": {
      "name": "lstm_(supervised)_UCI.ipynb",
      "provenance": [],
      "collapsed_sections": [],
      "authorship_tag": "ABX9TyPAtpbc9jgoBO80NdUIsciZ",
      "include_colab_link": true
    },
    "kernelspec": {
      "name": "python3",
      "display_name": "Python 3"
    },
    "accelerator": "GPU"
  },
  "cells": [
    {
      "cell_type": "markdown",
      "metadata": {
        "id": "view-in-github",
        "colab_type": "text"
      },
      "source": [
        "<a href=\"https://colab.research.google.com/github/csy99/dna-nn-theory/blob/master/lstm_(supervised)_UCI.ipynb\" target=\"_parent\"><img src=\"https://colab.research.google.com/assets/colab-badge.svg\" alt=\"Open In Colab\"/></a>"
      ]
    },
    {
      "cell_type": "code",
      "metadata": {
        "id": "FiSO3GWw8FWG"
      },
      "source": [
        "import numpy as np\n",
        "import pandas as pd\n",
        "import matplotlib\n",
        "import matplotlib.pyplot as plt\n",
        "from itertools import product\n",
        "import re\n",
        "import time\n",
        "from sklearn.model_selection import train_test_split\n",
        "from sklearn.manifold import TSNE\n",
        "import tensorflow as tf\n",
        "from tensorflow import keras"
      ],
      "execution_count": 6,
      "outputs": []
    },
    {
      "cell_type": "markdown",
      "metadata": {
        "id": "GuvNh5Ia8vvD"
      },
      "source": [
        "# Read Data"
      ]
    },
    {
      "cell_type": "code",
      "metadata": {
        "id": "H5SYc4iv-RPC",
        "outputId": "a686bc19-723d-4547-c7cc-b504dd2727af",
        "colab": {
          "base_uri": "https://localhost:8080/",
          "height": 307
        }
      },
      "source": [
        "!pip install PyDrive\n",
        "from google.colab import drive\n",
        "drive.mount('/content/gdrive')"
      ],
      "execution_count": 7,
      "outputs": [
        {
          "output_type": "stream",
          "text": [
            "Requirement already satisfied: PyDrive in /usr/local/lib/python3.6/dist-packages (1.3.1)\n",
            "Requirement already satisfied: oauth2client>=4.0.0 in /usr/local/lib/python3.6/dist-packages (from PyDrive) (4.1.3)\n",
            "Requirement already satisfied: PyYAML>=3.0 in /usr/local/lib/python3.6/dist-packages (from PyDrive) (3.13)\n",
            "Requirement already satisfied: google-api-python-client>=1.2 in /usr/local/lib/python3.6/dist-packages (from PyDrive) (1.7.12)\n",
            "Requirement already satisfied: rsa>=3.1.4 in /usr/local/lib/python3.6/dist-packages (from oauth2client>=4.0.0->PyDrive) (4.6)\n",
            "Requirement already satisfied: six>=1.6.1 in /usr/local/lib/python3.6/dist-packages (from oauth2client>=4.0.0->PyDrive) (1.15.0)\n",
            "Requirement already satisfied: httplib2>=0.9.1 in /usr/local/lib/python3.6/dist-packages (from oauth2client>=4.0.0->PyDrive) (0.17.4)\n",
            "Requirement already satisfied: pyasn1-modules>=0.0.5 in /usr/local/lib/python3.6/dist-packages (from oauth2client>=4.0.0->PyDrive) (0.2.8)\n",
            "Requirement already satisfied: pyasn1>=0.1.7 in /usr/local/lib/python3.6/dist-packages (from oauth2client>=4.0.0->PyDrive) (0.4.8)\n",
            "Requirement already satisfied: uritemplate<4dev,>=3.0.0 in /usr/local/lib/python3.6/dist-packages (from google-api-python-client>=1.2->PyDrive) (3.0.1)\n",
            "Requirement already satisfied: google-auth>=1.4.1 in /usr/local/lib/python3.6/dist-packages (from google-api-python-client>=1.2->PyDrive) (1.17.2)\n",
            "Requirement already satisfied: google-auth-httplib2>=0.0.3 in /usr/local/lib/python3.6/dist-packages (from google-api-python-client>=1.2->PyDrive) (0.0.4)\n",
            "Requirement already satisfied: cachetools<5.0,>=2.0.0 in /usr/local/lib/python3.6/dist-packages (from google-auth>=1.4.1->google-api-python-client>=1.2->PyDrive) (4.1.1)\n",
            "Requirement already satisfied: setuptools>=40.3.0 in /usr/local/lib/python3.6/dist-packages (from google-auth>=1.4.1->google-api-python-client>=1.2->PyDrive) (50.3.0)\n",
            "Drive already mounted at /content/gdrive; to attempt to forcibly remount, call drive.mount(\"/content/gdrive\", force_remount=True).\n"
          ],
          "name": "stdout"
        }
      ]
    },
    {
      "cell_type": "code",
      "metadata": {
        "id": "GTavNzohPEjl"
      },
      "source": [
        "def convert_label(row):\n",
        "  if row[\"Classes\"] == 'EI':\n",
        "    return 0\n",
        "  if row[\"Classes\"] == 'IE':\n",
        "    return 1\n",
        "  if row[\"Classes\"] == 'N':\n",
        "    return 2"
      ],
      "execution_count": 8,
      "outputs": []
    },
    {
      "cell_type": "code",
      "metadata": {
        "id": "lAJOTdQfNGIB",
        "outputId": "534e3efb-1eb1-4148-cef1-0f5437cff6b0",
        "colab": {
          "base_uri": "https://localhost:8080/",
          "height": 220
        }
      },
      "source": [
        "data_path = '/content/gdrive/My Drive/Colab Notebooks/UCI/'\n",
        "splice_df = pd.read_csv(data_path + 'splice.data', header=None)\n",
        "splice_df.columns = ['Classes', 'Name', 'Seq']\n",
        "splice_df[\"Seq\"] = splice_df[\"Seq\"].str.replace(' ', '').str.replace('N', 'A').str.replace('D', 'T').str.replace('S', 'C').str.replace('R', 'G')\n",
        "splice_df[\"Label\"] = splice_df.apply(lambda row: convert_label(row), axis=1)\n",
        "print('The shape of the datasize is', splice_df.shape)\n",
        "splice_df.head()"
      ],
      "execution_count": 9,
      "outputs": [
        {
          "output_type": "stream",
          "text": [
            "The shape of the datasize is (3190, 4)\n"
          ],
          "name": "stdout"
        },
        {
          "output_type": "execute_result",
          "data": {
            "text/html": [
              "<div>\n",
              "<style scoped>\n",
              "    .dataframe tbody tr th:only-of-type {\n",
              "        vertical-align: middle;\n",
              "    }\n",
              "\n",
              "    .dataframe tbody tr th {\n",
              "        vertical-align: top;\n",
              "    }\n",
              "\n",
              "    .dataframe thead th {\n",
              "        text-align: right;\n",
              "    }\n",
              "</style>\n",
              "<table border=\"1\" class=\"dataframe\">\n",
              "  <thead>\n",
              "    <tr style=\"text-align: right;\">\n",
              "      <th></th>\n",
              "      <th>Classes</th>\n",
              "      <th>Name</th>\n",
              "      <th>Seq</th>\n",
              "      <th>Label</th>\n",
              "    </tr>\n",
              "  </thead>\n",
              "  <tbody>\n",
              "    <tr>\n",
              "      <th>0</th>\n",
              "      <td>EI</td>\n",
              "      <td>ATRINS-DONOR-521</td>\n",
              "      <td>CCAGCTGCATCACAGGAGGCCAGCGAGCAGGTCTGTTCCAAGGGCC...</td>\n",
              "      <td>0</td>\n",
              "    </tr>\n",
              "    <tr>\n",
              "      <th>1</th>\n",
              "      <td>EI</td>\n",
              "      <td>ATRINS-DONOR-905</td>\n",
              "      <td>AGACCCGCCGGGAGGCGGAGGACCTGCAGGGTGAGCCCCACCGCCC...</td>\n",
              "      <td>0</td>\n",
              "    </tr>\n",
              "    <tr>\n",
              "      <th>2</th>\n",
              "      <td>EI</td>\n",
              "      <td>BABAPOE-DONOR-30</td>\n",
              "      <td>GAGGTGAAGGACGTCCTTCCCCAGGAGCCGGTGAGAAGCGCAGTCG...</td>\n",
              "      <td>0</td>\n",
              "    </tr>\n",
              "    <tr>\n",
              "      <th>3</th>\n",
              "      <td>EI</td>\n",
              "      <td>BABAPOE-DONOR-867</td>\n",
              "      <td>GGGCTGCGTTGCTGGTCACATTCCTGGCAGGTATGGGGCGGGGCTT...</td>\n",
              "      <td>0</td>\n",
              "    </tr>\n",
              "    <tr>\n",
              "      <th>4</th>\n",
              "      <td>EI</td>\n",
              "      <td>BABAPOE-DONOR-2817</td>\n",
              "      <td>GCTCAGCCCCCAGGTCACCCAGGAACTGACGTGAGTGTCCCCATCC...</td>\n",
              "      <td>0</td>\n",
              "    </tr>\n",
              "  </tbody>\n",
              "</table>\n",
              "</div>"
            ],
            "text/plain": [
              "  Classes  ... Label\n",
              "0      EI  ...     0\n",
              "1      EI  ...     0\n",
              "2      EI  ...     0\n",
              "3      EI  ...     0\n",
              "4      EI  ...     0\n",
              "\n",
              "[5 rows x 4 columns]"
            ]
          },
          "metadata": {
            "tags": []
          },
          "execution_count": 9
        }
      ]
    },
    {
      "cell_type": "code",
      "metadata": {
        "id": "h_IFMicpqYIl"
      },
      "source": [
        "seq_num = 0\n",
        "for seq in splice_df[\"Seq\"]:\n",
        "  char_num = 0\n",
        "  for char in seq:\n",
        "    if char != 'A' and char != 'C' and char != 'T' and char != 'G':\n",
        "      print(\"seq\", seq_num, 'char', char_num, 'is', char)\n",
        "    char_num += 1\n",
        "  seq_num += 1"
      ],
      "execution_count": 10,
      "outputs": []
    },
    {
      "cell_type": "code",
      "metadata": {
        "id": "lSFFjXSJP88L",
        "outputId": "cb06e3b9-bf45-43dc-858a-1ce6a3de2a7d",
        "colab": {
          "base_uri": "https://localhost:8080/",
          "height": 35
        }
      },
      "source": [
        "# check if the length of the sequence is the same \n",
        "seq_len = len(splice_df.Seq[0])\n",
        "print(\"The length of the sequence is\", seq_len)\n",
        "for seq in splice_df.Seq[:200]:\n",
        "  assert len(seq) == seq_len"
      ],
      "execution_count": 11,
      "outputs": [
        {
          "output_type": "stream",
          "text": [
            "The length of the sequence is 60\n"
          ],
          "name": "stdout"
        }
      ]
    },
    {
      "cell_type": "code",
      "metadata": {
        "id": "DiHtYnLfkcrz",
        "outputId": "4fcc5d47-2926-492d-dd28-b1b206415525",
        "colab": {
          "base_uri": "https://localhost:8080/",
          "height": 53
        }
      },
      "source": [
        "xtrain_full, xtest, ytrain_full, ytest = train_test_split(splice_df, splice_df.Label, test_size=0.2, random_state=100, stratify=splice_df.Label)\n",
        "xtrain, xval, ytrain, yval = train_test_split(xtrain_full, ytrain_full, test_size=0.2, random_state=100, stratify=ytrain_full)\n",
        "print(\"shape of training, validation, test set\\n\", xtrain.shape, xval.shape, xtest.shape, ytrain.shape, yval.shape, ytest.shape)"
      ],
      "execution_count": 12,
      "outputs": [
        {
          "output_type": "stream",
          "text": [
            "shape of training, validation, test set\n",
            " (2041, 4) (511, 4) (638, 4) (2041,) (511,) (638,)\n"
          ],
          "name": "stdout"
        }
      ]
    },
    {
      "cell_type": "code",
      "metadata": {
        "id": "W2h9sGLCVtDn",
        "outputId": "8a5f6c82-b870-403d-ceb8-2471b11fdbcf",
        "colab": {
          "base_uri": "https://localhost:8080/",
          "height": 35
        }
      },
      "source": [
        "word_size = 1\n",
        "vocab = [''.join(p) for p in product('ACGT', repeat=word_size)]\n",
        "word_to_idx = {word: i for i, word in enumerate(vocab)}\n",
        "vocab_size = len(word_to_idx)\n",
        "print('vocab_size:', vocab_size)\n",
        "create1gram = keras.layers.experimental.preprocessing.TextVectorization(\n",
        "  standardize=lambda x: tf.strings.regex_replace(x, '(.)', '\\\\1 '), ngrams=1\n",
        ")\n",
        "create1gram.adapt(vocab)"
      ],
      "execution_count": 13,
      "outputs": [
        {
          "output_type": "stream",
          "text": [
            "vocab_size: 4\n"
          ],
          "name": "stdout"
        }
      ]
    },
    {
      "cell_type": "code",
      "metadata": {
        "id": "EHPvs2BCU_Mk"
      },
      "source": [
        "def ds_preprocess(x, y):\n",
        "  x_index = tf.subtract(create1gram(x), 2)\n",
        "  return x_index, y"
      ],
      "execution_count": 14,
      "outputs": []
    },
    {
      "cell_type": "code",
      "metadata": {
        "id": "TFvsJkEa0YuT",
        "outputId": "5701100a-bda0-4331-cfbe-dfd7c3d98ea6",
        "colab": {
          "base_uri": "https://localhost:8080/",
          "height": 35
        }
      },
      "source": [
        "# not sure the correct way to get mapping from word to its index\n",
        "create1gram('A C G T') - 2"
      ],
      "execution_count": null,
      "outputs": [
        {
          "output_type": "execute_result",
          "data": {
            "text/plain": [
              "<tf.Tensor: shape=(4,), dtype=int64, numpy=array([3, 2, 1, 0])>"
            ]
          },
          "metadata": {
            "tags": []
          },
          "execution_count": 11
        }
      ]
    },
    {
      "cell_type": "code",
      "metadata": {
        "id": "jzLRmqEjSitl"
      },
      "source": [
        "BATCH_SIZE = 256\n",
        "xtrain_ds = tf.data.Dataset.from_tensor_slices((xtrain['Seq'], ytrain)).map(ds_preprocess).batch(BATCH_SIZE)\n",
        "xval_ds = tf.data.Dataset.from_tensor_slices((xval['Seq'], yval)).map(ds_preprocess).batch(BATCH_SIZE)\n",
        "xtest_ds = tf.data.Dataset.from_tensor_slices((xtest['Seq'], ytest)).map(ds_preprocess).batch(BATCH_SIZE)"
      ],
      "execution_count": 15,
      "outputs": []
    },
    {
      "cell_type": "code",
      "metadata": {
        "id": "gVLaIchQUWQl",
        "outputId": "657dac4e-15b6-4a2c-852e-44d57393a2d1",
        "colab": {
          "base_uri": "https://localhost:8080/",
          "height": 557
        }
      },
      "source": [
        "latent_size = 30\n",
        "\n",
        "model = keras.Sequential([\n",
        "    keras.Input(shape=(seq_len,)),\n",
        "    keras.layers.Embedding(seq_len, latent_size),\n",
        "    keras.layers.LSTM(latent_size, return_sequences=False),\n",
        "    keras.layers.Dense(128, activation=\"relu\", input_shape=[latent_size]),\n",
        "    keras.layers.Dropout(0.2),\n",
        "    keras.layers.Dense(64, activation=\"relu\"),    \n",
        "    keras.layers.Dropout(0.2),\n",
        "    keras.layers.Dense(32, activation=\"relu\"),  \n",
        "    keras.layers.Dropout(0.2), \n",
        "    keras.layers.Dense(16, activation=\"relu\"), \n",
        "    keras.layers.Dropout(0.2),   \n",
        "    keras.layers.Dense(3, activation=\"softmax\")                                \n",
        "])\n",
        "model.summary()"
      ],
      "execution_count": 16,
      "outputs": [
        {
          "output_type": "stream",
          "text": [
            "Model: \"sequential\"\n",
            "_________________________________________________________________\n",
            "Layer (type)                 Output Shape              Param #   \n",
            "=================================================================\n",
            "embedding (Embedding)        (None, 60, 30)            1800      \n",
            "_________________________________________________________________\n",
            "lstm (LSTM)                  (None, 30)                7320      \n",
            "_________________________________________________________________\n",
            "dense (Dense)                (None, 128)               3968      \n",
            "_________________________________________________________________\n",
            "dropout (Dropout)            (None, 128)               0         \n",
            "_________________________________________________________________\n",
            "dense_1 (Dense)              (None, 64)                8256      \n",
            "_________________________________________________________________\n",
            "dropout_1 (Dropout)          (None, 64)                0         \n",
            "_________________________________________________________________\n",
            "dense_2 (Dense)              (None, 32)                2080      \n",
            "_________________________________________________________________\n",
            "dropout_2 (Dropout)          (None, 32)                0         \n",
            "_________________________________________________________________\n",
            "dense_3 (Dense)              (None, 16)                528       \n",
            "_________________________________________________________________\n",
            "dropout_3 (Dropout)          (None, 16)                0         \n",
            "_________________________________________________________________\n",
            "dense_4 (Dense)              (None, 3)                 51        \n",
            "=================================================================\n",
            "Total params: 24,003\n",
            "Trainable params: 24,003\n",
            "Non-trainable params: 0\n",
            "_________________________________________________________________\n"
          ],
          "name": "stdout"
        }
      ]
    },
    {
      "cell_type": "code",
      "metadata": {
        "id": "VMlnaNStWLNK",
        "outputId": "c3a49b6a-4186-4bc8-b317-90b164d01577",
        "colab": {
          "base_uri": "https://localhost:8080/",
          "height": 1000
        }
      },
      "source": [
        "es_cb = keras.callbacks.EarlyStopping(patience=20, restore_best_weights=True)\n",
        "model.compile(keras.optimizers.Adam(), loss=keras.losses.SparseCategoricalCrossentropy(), metrics=['accuracy'])\n",
        "hist = model.fit(xtrain_ds, validation_data=xval_ds, epochs=1000, callbacks=[es_cb])"
      ],
      "execution_count": 17,
      "outputs": [
        {
          "output_type": "stream",
          "text": [
            "Epoch 1/1000\n",
            "8/8 [==============================] - 1s 95ms/step - loss: 1.0893 - accuracy: 0.4988 - val_loss: 1.0735 - val_accuracy: 0.5186\n",
            "Epoch 2/1000\n",
            "8/8 [==============================] - 0s 56ms/step - loss: 1.0556 - accuracy: 0.5169 - val_loss: 1.0294 - val_accuracy: 0.5186\n",
            "Epoch 3/1000\n",
            "8/8 [==============================] - 1s 72ms/step - loss: 1.0372 - accuracy: 0.5169 - val_loss: 1.0262 - val_accuracy: 0.5186\n",
            "Epoch 4/1000\n",
            "8/8 [==============================] - 0s 56ms/step - loss: 1.0351 - accuracy: 0.5179 - val_loss: 1.0277 - val_accuracy: 0.5186\n",
            "Epoch 5/1000\n",
            "8/8 [==============================] - 0s 54ms/step - loss: 1.0318 - accuracy: 0.5189 - val_loss: 1.0232 - val_accuracy: 0.5186\n",
            "Epoch 6/1000\n",
            "8/8 [==============================] - 0s 57ms/step - loss: 1.0342 - accuracy: 0.5189 - val_loss: 1.0207 - val_accuracy: 0.5186\n",
            "Epoch 7/1000\n",
            "8/8 [==============================] - 0s 57ms/step - loss: 1.0252 - accuracy: 0.5189 - val_loss: 1.0174 - val_accuracy: 0.5186\n",
            "Epoch 8/1000\n",
            "8/8 [==============================] - 1s 75ms/step - loss: 1.0251 - accuracy: 0.5189 - val_loss: 1.0132 - val_accuracy: 0.5186\n",
            "Epoch 9/1000\n",
            "8/8 [==============================] - 0s 56ms/step - loss: 1.0234 - accuracy: 0.5189 - val_loss: 1.0073 - val_accuracy: 0.5186\n",
            "Epoch 10/1000\n",
            "8/8 [==============================] - 0s 56ms/step - loss: 1.0158 - accuracy: 0.5189 - val_loss: 1.0026 - val_accuracy: 0.5186\n",
            "Epoch 11/1000\n",
            "8/8 [==============================] - 0s 57ms/step - loss: 1.0126 - accuracy: 0.5184 - val_loss: 1.0007 - val_accuracy: 0.5186\n",
            "Epoch 12/1000\n",
            "8/8 [==============================] - 0s 51ms/step - loss: 1.0160 - accuracy: 0.5189 - val_loss: 1.0048 - val_accuracy: 0.5186\n",
            "Epoch 13/1000\n",
            "8/8 [==============================] - 0s 52ms/step - loss: 1.0119 - accuracy: 0.5189 - val_loss: 0.9988 - val_accuracy: 0.5186\n",
            "Epoch 14/1000\n",
            "8/8 [==============================] - 0s 54ms/step - loss: 1.0064 - accuracy: 0.5184 - val_loss: 1.0003 - val_accuracy: 0.5186\n",
            "Epoch 15/1000\n",
            "8/8 [==============================] - 0s 58ms/step - loss: 1.0100 - accuracy: 0.5189 - val_loss: 0.9962 - val_accuracy: 0.5186\n",
            "Epoch 16/1000\n",
            "8/8 [==============================] - 0s 62ms/step - loss: 1.0040 - accuracy: 0.5189 - val_loss: 0.9916 - val_accuracy: 0.5186\n",
            "Epoch 17/1000\n",
            "8/8 [==============================] - 0s 62ms/step - loss: 0.9946 - accuracy: 0.5189 - val_loss: 0.9835 - val_accuracy: 0.5186\n",
            "Epoch 18/1000\n",
            "8/8 [==============================] - 0s 62ms/step - loss: 0.9919 - accuracy: 0.5169 - val_loss: 0.9752 - val_accuracy: 0.5186\n",
            "Epoch 19/1000\n",
            "8/8 [==============================] - 0s 53ms/step - loss: 0.9835 - accuracy: 0.5247 - val_loss: 0.9776 - val_accuracy: 0.5264\n",
            "Epoch 20/1000\n",
            "8/8 [==============================] - 0s 55ms/step - loss: 0.9689 - accuracy: 0.5267 - val_loss: 0.9696 - val_accuracy: 0.5597\n",
            "Epoch 21/1000\n",
            "8/8 [==============================] - 0s 55ms/step - loss: 0.9576 - accuracy: 0.5399 - val_loss: 0.9402 - val_accuracy: 0.5538\n",
            "Epoch 22/1000\n",
            "8/8 [==============================] - 0s 53ms/step - loss: 0.9618 - accuracy: 0.5341 - val_loss: 0.9359 - val_accuracy: 0.5616\n",
            "Epoch 23/1000\n",
            "8/8 [==============================] - 0s 54ms/step - loss: 0.9345 - accuracy: 0.5306 - val_loss: 0.9037 - val_accuracy: 0.5519\n",
            "Epoch 24/1000\n",
            "8/8 [==============================] - 0s 57ms/step - loss: 0.9163 - accuracy: 0.5316 - val_loss: 0.8653 - val_accuracy: 0.5577\n",
            "Epoch 25/1000\n",
            "8/8 [==============================] - 0s 52ms/step - loss: 0.8785 - accuracy: 0.5439 - val_loss: 0.8345 - val_accuracy: 0.5656\n",
            "Epoch 26/1000\n",
            "8/8 [==============================] - 0s 54ms/step - loss: 0.8437 - accuracy: 0.5835 - val_loss: 0.8176 - val_accuracy: 0.6282\n",
            "Epoch 27/1000\n",
            "8/8 [==============================] - 0s 53ms/step - loss: 0.8198 - accuracy: 0.5963 - val_loss: 0.7904 - val_accuracy: 0.6243\n",
            "Epoch 28/1000\n",
            "8/8 [==============================] - 0s 54ms/step - loss: 0.7920 - accuracy: 0.6267 - val_loss: 0.7806 - val_accuracy: 0.6067\n",
            "Epoch 29/1000\n",
            "8/8 [==============================] - 0s 55ms/step - loss: 0.7687 - accuracy: 0.6477 - val_loss: 0.7701 - val_accuracy: 0.6517\n",
            "Epoch 30/1000\n",
            "8/8 [==============================] - 0s 53ms/step - loss: 0.7614 - accuracy: 0.6487 - val_loss: 0.7717 - val_accuracy: 0.6536\n",
            "Epoch 31/1000\n",
            "8/8 [==============================] - 1s 68ms/step - loss: 0.7757 - accuracy: 0.6492 - val_loss: 0.7779 - val_accuracy: 0.6380\n",
            "Epoch 32/1000\n",
            "8/8 [==============================] - 0s 55ms/step - loss: 0.7562 - accuracy: 0.6438 - val_loss: 0.7474 - val_accuracy: 0.6732\n",
            "Epoch 33/1000\n",
            "8/8 [==============================] - 0s 58ms/step - loss: 0.7435 - accuracy: 0.6605 - val_loss: 0.7436 - val_accuracy: 0.6634\n",
            "Epoch 34/1000\n",
            "8/8 [==============================] - 0s 53ms/step - loss: 0.7339 - accuracy: 0.6546 - val_loss: 0.7528 - val_accuracy: 0.6536\n",
            "Epoch 35/1000\n",
            "8/8 [==============================] - 0s 54ms/step - loss: 0.7455 - accuracy: 0.6526 - val_loss: 0.7426 - val_accuracy: 0.6673\n",
            "Epoch 36/1000\n",
            "8/8 [==============================] - 0s 56ms/step - loss: 0.7356 - accuracy: 0.6526 - val_loss: 0.7366 - val_accuracy: 0.6751\n",
            "Epoch 37/1000\n",
            "8/8 [==============================] - 0s 53ms/step - loss: 0.7313 - accuracy: 0.6595 - val_loss: 0.7434 - val_accuracy: 0.6791\n",
            "Epoch 38/1000\n",
            "8/8 [==============================] - 0s 53ms/step - loss: 0.7227 - accuracy: 0.6556 - val_loss: 0.7326 - val_accuracy: 0.6928\n",
            "Epoch 39/1000\n",
            "8/8 [==============================] - 0s 53ms/step - loss: 0.7231 - accuracy: 0.6614 - val_loss: 0.7312 - val_accuracy: 0.6791\n",
            "Epoch 40/1000\n",
            "8/8 [==============================] - 0s 53ms/step - loss: 0.7270 - accuracy: 0.6561 - val_loss: 0.7508 - val_accuracy: 0.6654\n",
            "Epoch 41/1000\n",
            "8/8 [==============================] - 0s 52ms/step - loss: 0.7219 - accuracy: 0.6659 - val_loss: 0.7354 - val_accuracy: 0.6712\n",
            "Epoch 42/1000\n",
            "8/8 [==============================] - 0s 53ms/step - loss: 0.7125 - accuracy: 0.6698 - val_loss: 0.7223 - val_accuracy: 0.6967\n",
            "Epoch 43/1000\n",
            "8/8 [==============================] - 0s 52ms/step - loss: 0.7068 - accuracy: 0.6825 - val_loss: 0.7307 - val_accuracy: 0.6888\n",
            "Epoch 44/1000\n",
            "8/8 [==============================] - 0s 54ms/step - loss: 0.7040 - accuracy: 0.6717 - val_loss: 0.7314 - val_accuracy: 0.6830\n",
            "Epoch 45/1000\n",
            "8/8 [==============================] - 0s 52ms/step - loss: 0.7111 - accuracy: 0.6786 - val_loss: 0.7284 - val_accuracy: 0.6928\n",
            "Epoch 46/1000\n",
            "8/8 [==============================] - 0s 52ms/step - loss: 0.6993 - accuracy: 0.6732 - val_loss: 0.7282 - val_accuracy: 0.6869\n",
            "Epoch 47/1000\n",
            "8/8 [==============================] - 0s 53ms/step - loss: 0.6967 - accuracy: 0.6913 - val_loss: 0.7266 - val_accuracy: 0.6830\n",
            "Epoch 48/1000\n",
            "8/8 [==============================] - 0s 61ms/step - loss: 0.6950 - accuracy: 0.6864 - val_loss: 0.7447 - val_accuracy: 0.6712\n",
            "Epoch 49/1000\n",
            "8/8 [==============================] - 1s 69ms/step - loss: 0.6993 - accuracy: 0.6796 - val_loss: 0.7100 - val_accuracy: 0.6928\n",
            "Epoch 50/1000\n",
            "8/8 [==============================] - 1s 67ms/step - loss: 0.6872 - accuracy: 0.6854 - val_loss: 0.7172 - val_accuracy: 0.6791\n",
            "Epoch 51/1000\n",
            "8/8 [==============================] - 1s 76ms/step - loss: 0.6803 - accuracy: 0.6923 - val_loss: 0.7210 - val_accuracy: 0.6869\n",
            "Epoch 52/1000\n",
            "8/8 [==============================] - 1s 63ms/step - loss: 0.6844 - accuracy: 0.6879 - val_loss: 0.7334 - val_accuracy: 0.6830\n",
            "Epoch 53/1000\n",
            "8/8 [==============================] - 1s 64ms/step - loss: 0.6825 - accuracy: 0.6982 - val_loss: 0.7210 - val_accuracy: 0.6888\n",
            "Epoch 54/1000\n",
            "8/8 [==============================] - 1s 67ms/step - loss: 0.6706 - accuracy: 0.7001 - val_loss: 0.7107 - val_accuracy: 0.6986\n",
            "Epoch 55/1000\n",
            "8/8 [==============================] - 1s 65ms/step - loss: 0.6534 - accuracy: 0.7104 - val_loss: 0.7069 - val_accuracy: 0.6928\n",
            "Epoch 56/1000\n",
            "8/8 [==============================] - 0s 62ms/step - loss: 0.6720 - accuracy: 0.7001 - val_loss: 0.7272 - val_accuracy: 0.6888\n",
            "Epoch 57/1000\n",
            "8/8 [==============================] - 0s 62ms/step - loss: 0.6680 - accuracy: 0.7050 - val_loss: 0.7056 - val_accuracy: 0.6908\n",
            "Epoch 58/1000\n",
            "8/8 [==============================] - 0s 58ms/step - loss: 0.6675 - accuracy: 0.7095 - val_loss: 0.7038 - val_accuracy: 0.6967\n",
            "Epoch 59/1000\n",
            "8/8 [==============================] - 0s 57ms/step - loss: 0.6631 - accuracy: 0.7006 - val_loss: 0.7010 - val_accuracy: 0.6986\n",
            "Epoch 60/1000\n",
            "8/8 [==============================] - 1s 65ms/step - loss: 0.6579 - accuracy: 0.7119 - val_loss: 0.7033 - val_accuracy: 0.7025\n",
            "Epoch 61/1000\n",
            "8/8 [==============================] - 0s 60ms/step - loss: 0.6479 - accuracy: 0.7168 - val_loss: 0.7152 - val_accuracy: 0.6908\n",
            "Epoch 62/1000\n",
            "8/8 [==============================] - 0s 62ms/step - loss: 0.6497 - accuracy: 0.7046 - val_loss: 0.7262 - val_accuracy: 0.6928\n",
            "Epoch 63/1000\n",
            "8/8 [==============================] - 0s 62ms/step - loss: 0.6584 - accuracy: 0.7119 - val_loss: 0.6922 - val_accuracy: 0.6947\n",
            "Epoch 64/1000\n",
            "8/8 [==============================] - 0s 62ms/step - loss: 0.6438 - accuracy: 0.7134 - val_loss: 0.6809 - val_accuracy: 0.6928\n",
            "Epoch 65/1000\n",
            "8/8 [==============================] - 0s 57ms/step - loss: 0.6263 - accuracy: 0.7246 - val_loss: 0.6919 - val_accuracy: 0.7065\n",
            "Epoch 66/1000\n",
            "8/8 [==============================] - 0s 53ms/step - loss: 0.6309 - accuracy: 0.7178 - val_loss: 0.7029 - val_accuracy: 0.6967\n",
            "Epoch 67/1000\n",
            "8/8 [==============================] - 0s 60ms/step - loss: 0.6352 - accuracy: 0.7168 - val_loss: 0.6768 - val_accuracy: 0.7006\n",
            "Epoch 68/1000\n",
            "8/8 [==============================] - 0s 51ms/step - loss: 0.6166 - accuracy: 0.7178 - val_loss: 0.6949 - val_accuracy: 0.7045\n",
            "Epoch 69/1000\n",
            "8/8 [==============================] - 0s 54ms/step - loss: 0.6412 - accuracy: 0.7202 - val_loss: 0.6925 - val_accuracy: 0.7065\n",
            "Epoch 70/1000\n",
            "8/8 [==============================] - 0s 53ms/step - loss: 0.6213 - accuracy: 0.7389 - val_loss: 0.6831 - val_accuracy: 0.6947\n",
            "Epoch 71/1000\n",
            "8/8 [==============================] - 0s 54ms/step - loss: 0.6107 - accuracy: 0.7344 - val_loss: 0.6796 - val_accuracy: 0.7006\n",
            "Epoch 72/1000\n",
            "8/8 [==============================] - 0s 56ms/step - loss: 0.6143 - accuracy: 0.7305 - val_loss: 0.6822 - val_accuracy: 0.7065\n",
            "Epoch 73/1000\n",
            "8/8 [==============================] - 0s 57ms/step - loss: 0.6084 - accuracy: 0.7193 - val_loss: 0.6885 - val_accuracy: 0.7025\n",
            "Epoch 74/1000\n",
            "8/8 [==============================] - 1s 72ms/step - loss: 0.5961 - accuracy: 0.7398 - val_loss: 0.6921 - val_accuracy: 0.7123\n",
            "Epoch 75/1000\n",
            "8/8 [==============================] - 0s 59ms/step - loss: 0.5925 - accuracy: 0.7428 - val_loss: 0.6948 - val_accuracy: 0.7006\n",
            "Epoch 76/1000\n",
            "8/8 [==============================] - 0s 55ms/step - loss: 0.5872 - accuracy: 0.7472 - val_loss: 0.6911 - val_accuracy: 0.7045\n",
            "Epoch 77/1000\n",
            "8/8 [==============================] - 1s 71ms/step - loss: 0.5872 - accuracy: 0.7487 - val_loss: 0.6822 - val_accuracy: 0.6986\n",
            "Epoch 78/1000\n",
            "8/8 [==============================] - 0s 62ms/step - loss: 0.5751 - accuracy: 0.7501 - val_loss: 0.6808 - val_accuracy: 0.7006\n",
            "Epoch 79/1000\n",
            "8/8 [==============================] - 0s 56ms/step - loss: 0.5926 - accuracy: 0.7349 - val_loss: 0.6759 - val_accuracy: 0.6928\n",
            "Epoch 80/1000\n",
            "8/8 [==============================] - 0s 60ms/step - loss: 0.5889 - accuracy: 0.7393 - val_loss: 0.6697 - val_accuracy: 0.6986\n",
            "Epoch 81/1000\n",
            "8/8 [==============================] - 0s 55ms/step - loss: 0.5887 - accuracy: 0.7320 - val_loss: 0.6839 - val_accuracy: 0.6908\n",
            "Epoch 82/1000\n",
            "8/8 [==============================] - 0s 55ms/step - loss: 0.5689 - accuracy: 0.7428 - val_loss: 0.6830 - val_accuracy: 0.6986\n",
            "Epoch 83/1000\n",
            "8/8 [==============================] - 0s 53ms/step - loss: 0.5785 - accuracy: 0.7462 - val_loss: 0.6721 - val_accuracy: 0.6986\n",
            "Epoch 84/1000\n",
            "8/8 [==============================] - 1s 66ms/step - loss: 0.5783 - accuracy: 0.7511 - val_loss: 0.6729 - val_accuracy: 0.7025\n",
            "Epoch 85/1000\n",
            "8/8 [==============================] - 1s 63ms/step - loss: 0.5640 - accuracy: 0.7570 - val_loss: 0.6935 - val_accuracy: 0.6986\n",
            "Epoch 86/1000\n",
            "8/8 [==============================] - 0s 53ms/step - loss: 0.5649 - accuracy: 0.7540 - val_loss: 0.6943 - val_accuracy: 0.7065\n",
            "Epoch 87/1000\n",
            "8/8 [==============================] - 0s 52ms/step - loss: 0.5799 - accuracy: 0.7506 - val_loss: 0.6956 - val_accuracy: 0.6986\n",
            "Epoch 88/1000\n",
            "8/8 [==============================] - 0s 55ms/step - loss: 0.5673 - accuracy: 0.7540 - val_loss: 0.7142 - val_accuracy: 0.7006\n",
            "Epoch 89/1000\n",
            "8/8 [==============================] - 0s 52ms/step - loss: 0.5565 - accuracy: 0.7575 - val_loss: 0.6834 - val_accuracy: 0.6928\n",
            "Epoch 90/1000\n",
            "8/8 [==============================] - 0s 52ms/step - loss: 0.5634 - accuracy: 0.7506 - val_loss: 0.6909 - val_accuracy: 0.7025\n",
            "Epoch 91/1000\n",
            "8/8 [==============================] - 0s 54ms/step - loss: 0.5481 - accuracy: 0.7585 - val_loss: 0.6956 - val_accuracy: 0.6967\n",
            "Epoch 92/1000\n",
            "8/8 [==============================] - 0s 54ms/step - loss: 0.5500 - accuracy: 0.7540 - val_loss: 0.7008 - val_accuracy: 0.6869\n",
            "Epoch 93/1000\n",
            "8/8 [==============================] - 0s 53ms/step - loss: 0.5550 - accuracy: 0.7511 - val_loss: 0.6910 - val_accuracy: 0.6947\n",
            "Epoch 94/1000\n",
            "8/8 [==============================] - 1s 68ms/step - loss: 0.5393 - accuracy: 0.7687 - val_loss: 0.6941 - val_accuracy: 0.6986\n",
            "Epoch 95/1000\n",
            "8/8 [==============================] - 1s 67ms/step - loss: 0.5408 - accuracy: 0.7624 - val_loss: 0.7053 - val_accuracy: 0.7025\n",
            "Epoch 96/1000\n",
            "8/8 [==============================] - 1s 68ms/step - loss: 0.5407 - accuracy: 0.7599 - val_loss: 0.7002 - val_accuracy: 0.6986\n",
            "Epoch 97/1000\n",
            "8/8 [==============================] - 0s 59ms/step - loss: 0.5395 - accuracy: 0.7521 - val_loss: 0.6948 - val_accuracy: 0.7104\n",
            "Epoch 98/1000\n",
            "8/8 [==============================] - 1s 66ms/step - loss: 0.5310 - accuracy: 0.7619 - val_loss: 0.7159 - val_accuracy: 0.6947\n",
            "Epoch 99/1000\n",
            "8/8 [==============================] - 1s 69ms/step - loss: 0.5401 - accuracy: 0.7560 - val_loss: 0.7005 - val_accuracy: 0.7123\n",
            "Epoch 100/1000\n",
            "8/8 [==============================] - 0s 55ms/step - loss: 0.5413 - accuracy: 0.7614 - val_loss: 0.7210 - val_accuracy: 0.6967\n"
          ],
          "name": "stdout"
        }
      ]
    },
    {
      "cell_type": "code",
      "metadata": {
        "id": "AjiRiXQHwNOS",
        "outputId": "b7a002bb-5488-43b9-9c75-4a040020fc10",
        "colab": {
          "base_uri": "https://localhost:8080/",
          "height": 369
        }
      },
      "source": [
        "fig, axes = plt.subplots(1, 2, figsize=(10, 5))\n",
        "for i in range(1):\n",
        "  ax1 = axes[0]\n",
        "  ax2 = axes[1]\n",
        "\n",
        "  ax1.plot(hist.history['loss'], label='training')\n",
        "  ax1.plot(hist.history['val_loss'], label='validation')\n",
        "  ax1.set_title('lstm autoencoder loss')\n",
        "  ax1.set_xlabel('epoch')\n",
        "  ax1.set_ylabel('loss')\n",
        "  ax1.legend(['train', 'validation'], loc='upper left')\n",
        "  \n",
        "  ax2.plot(hist.history['accuracy'], label='training')\n",
        "  ax2.plot(hist.history['val_accuracy'], label='validation')\n",
        "  ax2.set_title('lstm autoencoder accuracy')\n",
        "  ax2.set_xlabel('epoch')\n",
        "  ax2.set_ylabel('accuracy')\n",
        "  ax2.legend(['train', 'validation'], loc='upper left')\n",
        "fig.tight_layout()"
      ],
      "execution_count": 18,
      "outputs": [
        {
          "output_type": "display_data",
          "data": {
            "image/png": "[encoded data removed]",
            "text/plain": [
              "<Figure size 720x360 with 2 Axes>"
            ]
          },
          "metadata": {
            "tags": [],
            "needs_background": "light"
          }
        }
      ]
    },
    {
      "cell_type": "code",
      "metadata": {
        "id": "6sgxZ6qrU9-9"
      },
      "source": [
        "def eval_model(model, ds, ds_name=\"Training\"):\n",
        "  loss, acc = model.evaluate(ds, verbose=0)\n",
        "  print(\"{} Dataset: loss = {} and acccuracy = {}%\".format(ds_name, np.round(loss, 3), np.round(acc*100, 2)))"
      ],
      "execution_count": 19,
      "outputs": []
    },
    {
      "cell_type": "code",
      "metadata": {
        "id": "YwcedsFqDUnm",
        "outputId": "fe7e0f8a-de70-447b-cfe9-03606eadcdaa",
        "colab": {
          "base_uri": "https://localhost:8080/",
          "height": 71
        }
      },
      "source": [
        "eval_model(model, xtrain_ds, \"Training\")\n",
        "eval_model(model, xval_ds, \"Validation\")\n",
        "eval_model(model, xtest_ds, \"Test\")"
      ],
      "execution_count": 20,
      "outputs": [
        {
          "output_type": "stream",
          "text": [
            "Training Dataset: loss = 0.541 and acccuracy = 75.36%\n",
            "Validation Dataset: loss = 0.67 and acccuracy = 69.86%\n",
            "Test Dataset: loss = 0.604 and acccuracy = 74.45%\n"
          ],
          "name": "stdout"
        }
      ]
    }
  ]
}