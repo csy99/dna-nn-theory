{
  "nbformat": 4,
  "nbformat_minor": 0,
  "metadata": {
    "colab": {
      "name": "char-rnn.ipynb",
      "provenance": [],
      "collapsed_sections": [],
      "toc_visible": true,
      "authorship_tag": "ABX9TyMAxPBbnqFABWnmLlCtKeFw",
      "include_colab_link": true
    },
    "kernelspec": {
      "name": "python3",
      "display_name": "Python 3"
    }
  },
  "cells": [
    {
      "cell_type": "markdown",
      "metadata": {
        "id": "view-in-github",
        "colab_type": "text"
      },
      "source": [
        "<a href=\"https://colab.research.google.com/github/solislemuslab/dna-nn-theory/blob/master/char_rnn.ipynb\" target=\"_parent\"><img src=\"https://colab.research.google.com/assets/colab-badge.svg\" alt=\"Open In Colab\"/></a>"
      ]
    },
    {
      "cell_type": "markdown",
      "metadata": {
        "id": "vSAzj6-4koJH",
        "colab_type": "text"
      },
      "source": [
        "# Char-RNN on COVID-19 DNA sequences\n",
        "I implemented a Char-RNN in TensorFlow to generated COVID-19 DNA sequences for fun.\n",
        "\n",
        "Below are some notes for myself.\n",
        "\n",
        "Some takeaways:\n",
        "- there are 16 different symbols (characters) in the sequences\n",
        "- some of them appear extremely infrequently\n",
        "- huge amount of data: `14277 * (29903 - window_size)` samples\n",
        "- the loss got stuck at `~1.3` if using Adam optimizer\n",
        "\n",
        "Some ideas for :\n",
        "- [1D convolution](https://towardsdatascience.com/understanding-1d-and-3d-convolution-neural-network-keras-9d8f76e29610) as the first layer to shorten length\n",
        "- convolution, encoder-decoder structure"
      ]
    },
    {
      "cell_type": "markdown",
      "metadata": {
        "id": "foVBBQj8ox-c",
        "colab_type": "text"
      },
      "source": [
        "# Setup"
      ]
    },
    {
      "cell_type": "code",
      "metadata": {
        "id": "R7_E4k6bLlUL",
        "colab_type": "code",
        "colab": {
          "base_uri": "https://localhost:8080/",
          "height": 67
        },
        "outputId": "fc4fe203-75d6-4537-b8c6-a45d37ff60c0"
      },
      "source": [
        "!curl https://cog-uk.s3.climb.ac.uk/2020-05-08/cog_2020-05-08_alignment.fasta -o cog_2020-05-08_alignment.fasta"
      ],
      "execution_count": null,
      "outputs": [
        {
          "output_type": "stream",
          "text": [
            "  % Total    % Received % Xferd  Average Speed   Time    Time     Time  Current\n",
            "                                 Dload  Upload   Total   Spent    Left  Speed\n",
            "100  407M  100  407M    0     0  63.2M      0  0:00:06  0:00:06 --:--:-- 60.4M\n"
          ],
          "name": "stdout"
        }
      ]
    },
    {
      "cell_type": "code",
      "metadata": {
        "id": "na1xisUbM3xX",
        "colab_type": "code",
        "colab": {
          "base_uri": "https://localhost:8080/",
          "height": 50
        },
        "outputId": "f1492793-7037-442d-eadc-74987b4791de"
      },
      "source": [
        "!pip install biopython"
      ],
      "execution_count": null,
      "outputs": [
        {
          "output_type": "stream",
          "text": [
            "Requirement already satisfied: biopython in /usr/local/lib/python3.6/dist-packages (1.77)\n",
            "Requirement already satisfied: numpy in /usr/local/lib/python3.6/dist-packages (from biopython) (1.18.5)\n"
          ],
          "name": "stdout"
        }
      ]
    },
    {
      "cell_type": "code",
      "metadata": {
        "id": "b-ht_ve_L6IK",
        "colab_type": "code",
        "colab": {
          "base_uri": "https://localhost:8080/",
          "height": 70
        },
        "outputId": "a30f86ae-7b50-49f1-8b57-afc79b50af82"
      },
      "source": [
        "from collections import Counter\n",
        "\n",
        "from Bio import SeqIO\n",
        "import matplotlib as mpl\n",
        "import matplotlib.pyplot as plt\n",
        "import numpy as np\n",
        "import pandas as pd\n",
        "import seaborn as sns\n",
        "import tensorflow as tf\n",
        "from tensorflow import keras"
      ],
      "execution_count": null,
      "outputs": [
        {
          "output_type": "stream",
          "text": [
            "/usr/local/lib/python3.6/dist-packages/statsmodels/tools/_testing.py:19: FutureWarning: pandas.util.testing is deprecated. Use the functions in the public API at pandas.testing instead.\n",
            "  import pandas.util.testing as tm\n"
          ],
          "name": "stderr"
        }
      ]
    },
    {
      "cell_type": "markdown",
      "metadata": {
        "id": "2FefuBdHo5h_",
        "colab_type": "text"
      },
      "source": [
        "# Explore the data"
      ]
    },
    {
      "cell_type": "code",
      "metadata": {
        "id": "WUQuSAiZNAZz",
        "colab_type": "code",
        "colab": {
          "base_uri": "https://localhost:8080/",
          "height": 67
        },
        "outputId": "02e16780-2b0b-498a-f22b-4f37b11ed360"
      },
      "source": [
        "with open('cog_2020-05-08_alignment.fasta', 'r') as f:\n",
        "  records = np.array([record.seq._data.upper() for record in SeqIO.parse(f, 'fasta')])\n",
        "seq_len = len(records[0])\n",
        "print('Number of sequences :', len(records))\n",
        "print('Length of sequences :', seq_len)\n",
        "print('Number of characters:', round(len(records) * seq_len / 10e6, 2), 'M')"
      ],
      "execution_count": null,
      "outputs": [
        {
          "output_type": "stream",
          "text": [
            "Number of sequences : 14277\n",
            "Length of sequences : 29903\n",
            "Number of characters: 42.69 M\n"
          ],
          "name": "stdout"
        }
      ]
    },
    {
      "cell_type": "code",
      "metadata": {
        "id": "vzyY5db1P_gZ",
        "colab_type": "code",
        "colab": {
          "base_uri": "https://localhost:8080/",
          "height": 517
        },
        "outputId": "e1854776-b0a6-487a-9794-7340f2153409"
      },
      "source": [
        "plt.style.use('seaborn')\n",
        "colors = list(mpl.colors.TABLEAU_COLORS)\n",
        "rows, cols = 2, 3\n",
        "\n",
        "fig, axes = plt.subplots(rows, cols, sharex=False, figsize=(cols * 4, rows * 4))\n",
        "for i, ax in enumerate(axes.ravel()):\n",
        "  sample = np.random.randint(0, len(records))\n",
        "  data = pd.Series(Counter(records[sample]))\n",
        "  data.plot(ax=ax, kind='bar', alpha=0.7, color=colors[i], legend=False)\n",
        "  ax.set_title(f'sample #{sample}')\n",
        "  ax.tick_params(labelrotation=0)\n",
        "  if i % cols == 0:\n",
        "    ax.set_ylabel('count')\n",
        "fig.suptitle('DNA composition', y=0.94)\n",
        "plt.show()"
      ],
      "execution_count": null,
      "outputs": [
        {
          "output_type": "display_data",
          "data": {
            "image/png": "[encoded data removed]",
            "text/plain": [
              "<Figure size 864x576 with 6 Axes>"
            ]
          },
          "metadata": {
            "tags": []
          }
        }
      ]
    },
    {
      "cell_type": "code",
      "metadata": {
        "id": "OD1-_iS2lgAt",
        "colab_type": "code",
        "colab": {}
      },
      "source": [
        "# c = Counter()\n",
        "# for record in records:\n",
        "#   c.update(Counter(record))\n",
        "# c\n",
        "\n",
        "# output:\n",
        "# '-': 1577748,\n",
        "# 'A': 125543795,\n",
        "# 'B': 5,\n",
        "# 'C': 77254785,\n",
        "# 'D': 4,\n",
        "# 'G': 82536924,\n",
        "# 'H': 7,\n",
        "# 'K': 3085,\n",
        "# 'M': 388,\n",
        "# 'N': 4992745,\n",
        "# 'R': 1562,\n",
        "# 'S': 411,\n",
        "# 'T': 135009368,\n",
        "# 'V': 8,\n",
        "# 'W': 526,\n",
        "# 'Y': 3770"
      ],
      "execution_count": null,
      "outputs": []
    },
    {
      "cell_type": "markdown",
      "metadata": {
        "id": "ZiWMm43GVg7r",
        "colab_type": "text"
      },
      "source": [
        "# Experiment with a subset of the data"
      ]
    },
    {
      "cell_type": "markdown",
      "metadata": {
        "id": "9SRvNsdVGVMI",
        "colab_type": "text"
      },
      "source": [
        "## Sample and encode"
      ]
    },
    {
      "cell_type": "code",
      "metadata": {
        "id": "NmHYfn7BRolX",
        "colab_type": "code",
        "colab": {
          "base_uri": "https://localhost:8080/",
          "height": 34
        },
        "outputId": "9de6606e-1933-4ebf-e9f0-a26e552c7cf8"
      },
      "source": [
        "np.random.seed(3264)\n",
        "idx = np.random.choice(len(records), size=3, replace=False)\n",
        "records_sub = records[idx]\n",
        "print('taking', records_sub.shape[0], 'records')"
      ],
      "execution_count": null,
      "outputs": [
        {
          "output_type": "stream",
          "text": [
            "taking 3 records\n"
          ],
          "name": "stdout"
        }
      ]
    },
    {
      "cell_type": "code",
      "metadata": {
        "id": "lovk8RPWbr6z",
        "colab_type": "code",
        "colab": {
          "base_uri": "https://localhost:8080/",
          "height": 67
        },
        "outputId": "11421f24-deda-4262-f2ba-5bf5898ff7a6"
      },
      "source": [
        "tokenizer = keras.preprocessing.text.Tokenizer(lower=False, char_level=True)\n",
        "tokenizer.fit_on_texts(records_sub)\n",
        "sequences_sub = tokenizer.texts_to_sequences(records_sub)\n",
        "sequences_sub = np.asarray(sequences_sub) - 1\n",
        "n_vocabs = len(tokenizer.index_word)\n",
        "\n",
        "print('sequences_sub shape:', sequences_sub.shape)\n",
        "print('vocabs:', [key for key in tokenizer.word_index])\n",
        "print('n_vocabs:', n_vocabs)"
      ],
      "execution_count": null,
      "outputs": [
        {
          "output_type": "stream",
          "text": [
            "sequences_sub shape: (3, 29903)\n",
            "vocabs: ['T', 'A', 'G', 'C', 'N', '-', 'K']\n",
            "n_vocabs: 7\n"
          ],
          "name": "stdout"
        }
      ]
    },
    {
      "cell_type": "code",
      "metadata": {
        "id": "f6mFEAcbNEIr",
        "colab_type": "code",
        "colab": {
          "base_uri": "https://localhost:8080/",
          "height": 34
        },
        "outputId": "8be75f76-2a5a-4845-a688-a2732a022d6f"
      },
      "source": [
        "sequences_sub_encode = keras.utils.to_categorical(sequences_sub)\n",
        "\n",
        "print('sequences_sub_encode shape:', sequences_sub_encode.shape)"
      ],
      "execution_count": null,
      "outputs": [
        {
          "output_type": "stream",
          "text": [
            "sequences_sub_encode shape: (3, 29903, 7)\n"
          ],
          "name": "stdout"
        }
      ]
    },
    {
      "cell_type": "code",
      "metadata": {
        "id": "fuv4MlJEdKiY",
        "colab_type": "code",
        "colab": {
          "base_uri": "https://localhost:8080/",
          "height": 362
        },
        "outputId": "f6b35119-3c86-408c-e70d-1ab89e97ef57"
      },
      "source": [
        "data = pd.Series(tokenizer.word_counts)\n",
        "ax = data.plot(kind='bar', alpha=0.7, legend=False)\n",
        "ax.set_ylabel('count')\n",
        "ax.set_xticklabels(data.index)\n",
        "ax.set_title('DNA composition of 20 samples')\n",
        "ax.tick_params(labelrotation=0)\n",
        "for child in ax.get_children():\n",
        "    if isinstance(child, mpl.patches.Rectangle) and child.get_x():\n",
        "        ax.text(child.get_x() + 0.25, child.get_y() + child.get_height(),\n",
        "                child.get_height(), va='bottom', ha='center')\n",
        "plt.show()"
      ],
      "execution_count": null,
      "outputs": [
        {
          "output_type": "display_data",
          "data": {
            "image/png": "[encoded data removed]",
            "text/plain": [
              "<Figure size 576x396 with 1 Axes>"
            ]
          },
          "metadata": {
            "tags": []
          }
        }
      ]
    },
    {
      "cell_type": "markdown",
      "metadata": {
        "id": "1HLMwTv-T-Jx",
        "colab_type": "text"
      },
      "source": [
        "## Create the dataset"
      ]
    },
    {
      "cell_type": "code",
      "metadata": {
        "id": "KbKge4aQet7U",
        "colab_type": "code",
        "colab": {}
      },
      "source": [
        "window_size = 1000\n",
        "batch_size = 64\n",
        "\n",
        "def data_generator():\n",
        "    for i in range(len(records_sub)):\n",
        "        for t in range(seq_len - window_size):\n",
        "            yield (sequences_sub_encode[i][t:t + window_size],\n",
        "                   sequences_sub_encode[i][t + window_size])\n",
        "            \n",
        "dataset = tf.data.Dataset.from_generator(data_generator, (tf.float32, tf.float32),\n",
        "                                         ((window_size,n_vocabs), (n_vocabs)))\n",
        "dataset = dataset.shuffle(1000).batch(batch_size).prefetch(2)"
      ],
      "execution_count": null,
      "outputs": []
    },
    {
      "cell_type": "markdown",
      "metadata": {
        "id": "AyHyAecpU3eU",
        "colab_type": "text"
      },
      "source": [
        "## Build the model"
      ]
    },
    {
      "cell_type": "code",
      "metadata": {
        "id": "sEFplGCLREov",
        "colab_type": "code",
        "colab": {
          "base_uri": "https://localhost:8080/",
          "height": 218
        },
        "outputId": "0bb8ae51-b958-4d55-d055-95023113bd13"
      },
      "source": [
        "keras.backend.clear_session()\n",
        "\n",
        "model = keras.Sequential([\n",
        "    keras.layers.Input(shape=(window_size, n_vocabs)),\n",
        "    # keras.layers.LSTM(128, return_sequences=True),\n",
        "    keras.layers.LSTM(128),\n",
        "    keras.layers.Dense(n_vocabs, activation='softmax')\n",
        "])\n",
        "optimizer = keras.optimizers.RMSprop()\n",
        "model.compile(optimizer=optimizer, loss='categorical_crossentropy')\n",
        "model.summary()"
      ],
      "execution_count": null,
      "outputs": [
        {
          "output_type": "stream",
          "text": [
            "Model: \"sequential\"\n",
            "_________________________________________________________________\n",
            "Layer (type)                 Output Shape              Param #   \n",
            "=================================================================\n",
            "lstm (LSTM)                  (None, 128)               69632     \n",
            "_________________________________________________________________\n",
            "dense (Dense)                (None, 7)                 903       \n",
            "=================================================================\n",
            "Total params: 70,535\n",
            "Trainable params: 70,535\n",
            "Non-trainable params: 0\n",
            "_________________________________________________________________\n"
          ],
          "name": "stdout"
        }
      ]
    },
    {
      "cell_type": "code",
      "metadata": {
        "id": "vkvR7hZhVfjo",
        "colab_type": "code",
        "colab": {}
      },
      "source": [
        "def save_every_15(epoch, logs):\n",
        "    epoch += 1\n",
        "    if not epoch % 15:\n",
        "        model.save(f'coivd_sub_{epoch}.h5')\n",
        "\n",
        "callbacks = [\n",
        "    keras.callbacks.CSVLogger('log_sub.csv', append=True),\n",
        "    keras.callbacks.LambdaCallback(on_epoch_end=save_every_15)\n",
        "]\n",
        "\n",
        "model.fit(dataset, batch_size=batch_size, epochs=90, callbacks=callbacks)"
      ],
      "execution_count": null,
      "outputs": []
    },
    {
      "cell_type": "code",
      "metadata": {
        "id": "BUPnIvW6g3Iv",
        "colab_type": "code",
        "colab": {
          "base_uri": "https://localhost:8080/",
          "height": 365
        },
        "outputId": "9488de04-184d-4cf8-f55e-b63f39c19bfe"
      },
      "source": [
        "# 210s / 3600 * 90 = 5.25 hours\n",
        "# ~151ms/step\n",
        "ax = pd.read_csv('log_sub.csv', index_col=0).plot()"
      ],
      "execution_count": null,
      "outputs": [
        {
          "output_type": "display_data",
          "data": {
            "image/png": "[encoded data removed]",
            "text/plain": [
              "<Figure size 576x396 with 1 Axes>"
            ]
          },
          "metadata": {
            "tags": []
          }
        }
      ]
    },
    {
      "cell_type": "markdown",
      "metadata": {
        "id": "wpyQNPpOyYI3",
        "colab_type": "text"
      },
      "source": [
        "## Generate sequences"
      ]
    },
    {
      "cell_type": "code",
      "metadata": {
        "id": "sSZBwsYjv7gs",
        "colab_type": "code",
        "colab": {}
      },
      "source": [
        "model = keras.models.load_model('covid_sub_90.h5')\n",
        "\n",
        "def sample(preds, temperature=1.0):\n",
        "    preds = preds.astype(np.float64)\n",
        "    preds = np.log(preds) / temperature\n",
        "    exp_preds = np.exp(preds)\n",
        "    preds = exp_preds / np.sum(exp_preds)\n",
        "    return np.random.choice(len(preds), size=1, p=preds).item() + 1"
      ],
      "execution_count": null,
      "outputs": []
    },
    {
      "cell_type": "code",
      "metadata": {
        "id": "sEuHYC6HVzOM",
        "colab_type": "code",
        "colab": {
          "base_uri": "https://localhost:8080/",
          "height": 34
        },
        "outputId": "115cd27e-e75c-494f-c7dd-ce7ec4b28b6f"
      },
      "source": [
        "%%timeit\n",
        "preds = model.predict(sequences_sub_encode[0:1, :1000])[0]\n",
        "next_idx = sample(preds)\n",
        "next_idx"
      ],
      "execution_count": null,
      "outputs": [
        {
          "output_type": "stream",
          "text": [
            "10 loops, best of 3: 66.3 ms per loop\n"
          ],
          "name": "stdout"
        }
      ]
    },
    {
      "cell_type": "code",
      "metadata": {
        "id": "Dr6TLKgH9UL_",
        "colab_type": "code",
        "colab": {
          "base_uri": "https://localhost:8080/",
          "height": 34
        },
        "outputId": "31694465-d2c3-4b4c-9933-59e20c935894"
      },
      "source": [
        "seed = sequences_sub[0:1, :1000]\n",
        "generated = []\n",
        "target_len = seq_len - window_size\n",
        "x = keras.utils.to_categorical(seed, n_vocabs)\n",
        "print('target_len:', target_len)"
      ],
      "execution_count": null,
      "outputs": [
        {
          "output_type": "stream",
          "text": [
            "target_len: 28903\n"
          ],
          "name": "stdout"
        }
      ]
    },
    {
      "cell_type": "code",
      "metadata": {
        "id": "iKXxLPU_vhtl",
        "colab_type": "code",
        "colab": {
          "base_uri": "https://localhost:8080/",
          "height": 50
        },
        "outputId": "4b349ec6-f0bb-40aa-d0c7-b1d6428088df"
      },
      "source": [
        "%%time\n",
        "# 66ms / 1000 / 60 * 29900 = 33 minutes\n",
        "\n",
        "while len(generated) < target_len:\n",
        "    preds = model.predict(x)[0] # 66ms\n",
        "    next_idx = sample(preds)\n",
        "    generated.append(next_idx)\n",
        "\n",
        "    x_next = np.roll(x, shift=-1, axis=1)\n",
        "    x_next[:, -1, :] = 0\n",
        "    x_next[:, -1, next_idx - 1] = 1\n",
        "    x = x_next"
      ],
      "execution_count": null,
      "outputs": [
        {
          "output_type": "stream",
          "text": [
            "CPU times: user 28min 30s, sys: 5min 21s, total: 33min 52s\n",
            "Wall time: 33min 30s\n"
          ],
          "name": "stdout"
        }
      ]
    },
    {
      "cell_type": "code",
      "metadata": {
        "id": "ZqAFlPsw0dRv",
        "colab_type": "code",
        "colab": {
          "base_uri": "https://localhost:8080/",
          "height": 34
        },
        "outputId": "89f6291f-10ea-45f6-ec53-848de6ed272b"
      },
      "source": [
        "generated_text = ''.join([tokenizer.index_word[idx] for idx in generated])\n",
        "seed_text = ''.join([tokenizer.index_word[idx + 1] for idx in seed[0]])\n",
        "result = seed_text + generated_text\n",
        "print(len(result))"
      ],
      "execution_count": null,
      "outputs": [
        {
          "output_type": "stream",
          "text": [
            "29903\n"
          ],
          "name": "stdout"
        }
      ]
    },
    {
      "cell_type": "code",
      "metadata": {
        "id": "ETsRdIBlvHAH",
        "colab_type": "code",
        "colab": {
          "base_uri": "https://localhost:8080/",
          "height": 54
        },
        "outputId": "0c767ee8-46a3-4901-e185-2af262bdbbc5"
      },
      "source": [
        "print(result[1000:])"
      ],
      "execution_count": null,
      "outputs": [
        {
          "output_type": "stream",
          "text": [
            "GAAAAAGCCACGTCTAACAAAGGCTGTGATTTAGATGAGTTGGACCGTCAAGCACCTACGAGACCTAATGTTTCATTGCAGTGTGTCTATGCTGATTCTAAAGTAGATGCTTGCCTTACATGTTCACATGTAACACGCTATAAGAATGGTTCACTTATTGGTGGTTTCAATGTACCTGTAAAGTGCACACTTACATGGCTCAATCATTGCTACTCAGCTTTACCATCATCTTTAATCTTGTGTGCCAATCTTGACAATGGCACTTATGGTGCACGTCAGTCAGTGTCAACTGGAAACCAGTTCTGCCGTCAAGCTGCTCAGCCTCATGCACCAGGACCTAATTTCACAATGCCATTTGCTTCAAACGGTTTAGGGGCTGTTGTAGATTCAACATTAGATTCAGATGCTGCACCAGCAGTTCCAATTGACACAATCCAAGGTGTCGTCTCTAAGGATATCACACTACAGATGGCCACTCTTTGGAATGCAGAAGACAGTGAAGTAGTTGTTATATACTGGAATTCAGAATCTGACTATAGCTTCTCAAGGGAACTGGTAACACCAGTAGCTTACTCTAACTCATTGTTCTGACACTATTAAATGGCCATATTACGTACTAGATCCATTAATTGCTTTATTGTCTTAACTTAACTGTAGTACAAACGTTGGTAAGAGTGTACTCCTCGGAACTGGTGAAATGCTATTCACACAAGGTAAATTCTATGACATTGACAAGTCAAATCTTAATATGTTGTTGTTTTTTTGTGCATAACAGTTTCATGTCACTATAGTGTCAGACCAGTCTTGCTTCAGAGTTGTACGCACTAGTGGTTCAGTTCCTTCCCACTTCATTGGTTGCAGTAGTCGTGTTAGTAAATCTAAGTTAATGCTGGTTGAAAAGACGTGTAACCAAGGTAGATTGCTCTATAATTGGTGGTAAGGCTACACTTAAACTTCTTAACATTGCTAGGCTTTATCAACAAGGAAGACCTATTAATGGTGTTACACGGAGAATCAGGAATTTCCAAGGTTACTCAGAGTTATGGGCCTACAGATTTCAGGAAATGCTCGCAAAACAATTTAACGCCACTGAAGCACCAATGAATCTACTTGTTGGAGATTTATTCTCTGATAGACATTGTGATGTTAACATCACAAAAGGACATTTTGAACCTCAGGCTTCTGAAAAGTATAAACCTACGCAGGGAGCAATGGAAATACTTTTCTTTTACCTTACTAAAAGGAATATTGATTACTCTCAAGTTCCAGATGAACTTAAAGCTACTGAGGATGTCATAGCCTATAGTAATATGAAAATCACAATTGGTGTTGTTGACAGTGCAACAACATCAGGTTTTGAGTGGTTGGATCCTGATGCAGCTTTAAAGGTTGATTTCACTAAATCACATACAATTAATGCCTCTAATAAGGGAGTAACTCTCACTAATGGAGAAGTTCCATTAATTGGTGATTTACTCAAGGTTGTCAAACCGTCCAAATTAGCACATTCTCACATTCACTTTGAGAAACCAGGAAATTCTGAATTCTCTAAGTGTGTTGGTGATTCCTTTGTTGATTCAAACAGTTATGATGTCACTGTGCAATCACCAGAAATTAATGCCTTGTGTCCTGTTCAACCAGGTACCACAGCACCTAATGACACACTTGCTGGTTCTGCTAGTGATTGCACAGATGTAGACATCACTAACAAGGCCACTCCTCTTGGGAAAGCGAAACAAAAATATTCTAAGCCATTACCTAAAAAGAGCTATGTACTCGCTCAGGCTTCTGAAAAGTACAAATTGGATTTGAATTGGCCTAGATTTACTGTAGGTGACATGACATTAACTTGTGATAGACACAACATGTTAGGTGCTGTACATAAGAGAGACTGTGTTATGTGCTGGCGTTCTGTCTACTCTAGTTTGAAAGACATGCTCCAAGGTTTTGAAAATCAATTCAAGACAGACAGACTTTATCAAACTTTTAGCACCTCTAATCTTATCACTAATGAGCAGTCAAATTGCAAACAATTTAATCAATCATCTCAACCATTCACCAAAGGAGTACAAATTTAAACTTACACTTTCGGAACTTAGGAGAAATTCAACATTGGATGTACACACTGCTGGGAGACCTATTCCATTCTTAATGGTTGTTGACAGATGTACCTATTTGGAATTCCGCTGTAGATTATCGGCAATTGTAGCCGTAATTTGCGCGATGCACCTAAGAGTGCTATCAACTTAGCTGCGTGTTCTAACATAGTCACACCTGGAACACGTAACCAGGAGTCATCATCTTTCTTCTGAAGAGAAGTGGAACTTGGACATGGACCATGTAGAAGGTTCACTGAGTGCTGTCATACAACCTGCGTGTAATAATCAAATCAAATACAATTACCCCAGCAATTCAGCGTGTTGGGATCGTGAAACACACGCCACTTCTTGTAAAGAAACATTGTATTCTTACCTTGACCATGCTAACATAAAAGAACCTGCTTCTAGTGAAGCTGTAGACTTTGATAAATTACCTAAGAGGTATACTGGACCATCTGAATTACGTGCTGTAGCTGCACAGACTGCTTCTGCAGCTTGTAGACAAGCAGAGTGACCTAATCAGGTTGTTAGTGGTTTCAATTTCAAACAGAAAGATATTAACTTCCAAGAAAACAATGTACCATTTGAATATACTCAGCTTATACCGGGAACTAAATGTGCACGGTTTCTAGGTGGTGCTGCATTACCTATAGATTTACATAAAGATTATCTACCTAATGGAGAAGTTCAACTTAGTGGTGCAGCTAACACAACTGACAACTGTGTAACTGATGGTCACGATGTAGACAACTGTTACCTCTCTAATAAAGCTTTCCCACATCTAGTTTGTGCCGTTCACTACAGACAAGCTTCTTATAAGGCTTCACTTAAGTGTAGTCGTAGTCCTCAAGCAGCTGACCCACGTGAAGTCCTGTTGCCTTACACCAACACACAGTCCTTCACGGACCAGCTTGTGACTTACTACTACTTTACTTCATTGGCACTAGTTCCTTTTCAGCTACACAAACTCAGCCAATTAACGAGCTACGTGAAGATGCACACAATGTTACACGTTCATTGAGACTCTATGACAGAGTCTTGGGTGTTGGTCTTTTTGCATTATGTGGTTGTAGCCATCGTGTTATTGCAAAAGCCTGGTTTACCTTCAATGGCACAATGTCACCAAAATACACTAATGGAAACGCTGTTAAATCTACACTTTACTGGGATTTTGATGAATGTAGACAGTTGTATGGACGTTATAAACCATTCACAATACAGTATGTCCAATCCATGCCTTTCGTTTGCAGTTTACAGAGACTACGTAATTGTGGTAATGGACACTATGGTAATCAGGGTGGTGAAGGTGACTTCTATGATGTACTACTGCTCTACAAAGACATTCCACAAGGAGTCGTACTACGTCTGTCTGCTCAAGCTGCTCAGTCAATGCCTTATCAGACCTCTAACCAAGTCTACCCACTTGCTGGCACATGGCGTACTGGTCATGCTGCTAATCCTGTCTATTATAAACAACAAAAAAAAGGCAGTGGTGTTGAATATAACATTCTAGACCCTTATACTTATAAGGTGTCTATCGCCTTCTGTACTGGTACACTTAAGCTTAACCTCATGCTTCACTACAGAGTTGCTGTTCCTCTGGCTCAACAAGGTTACCGTCAGAGGCTTGATCGCATGCCTTATGCATTGTGCGCAAGTCCTATTCTTTTGATGAAAAAGTGTTCAGCTGTACAGCCGGGACTTCACACTTGCTGCAACCGTGTTGCAGGTCAATCAAATGGCACACAATTGCCACTCAACGGAGTCGTACTTGACCGTCAGAGTTCATTAGGTTATCATGAATATGACTTCTGCGCAGAACAAAGAGAAATTCAAGGCAATGCAGTGTACATGTACTTTAATCGTGCTAACATACTCTATAAGAAACCAGGAATTCTCGGCAACCGTGATAAGTATTACCCTAACTTACCTTCTGAATACAATGGCACATCATTGGTTAATGCCACTCTCAAAGGAGATAGAAACCTTAAGAGAGCTGGTATGCCTAACAACAAAGGTACACATATGGGATACAACCTTAACAGTGTTGAGTGTTCACCTTCTGTAATGTTGGACTTGATGTGCGCTAGATGTTGTGGTGAAGACACCAGAGAAATGCTTGGAAATTCACAGACTTCTAACAAAGTCGCCTTTGAAAATAAAAAAGCTTCTTTACAGATGGGTGTTAACACTGCTAACCCACAAGATATCTTCATCTCACATTTTGCTCGATTGCCTTATGCAGTTCCATTCCCTCTGTACATCATGTGTGCCAAACAATTGCCAGAAGAAGTCACACGCACTCGTGCTTGCAGATTACCTAAAGGACTCATCAACAACCTAGATCATGCTCAGGCTCAGTCAGCTCAACCTAAGCCTCACAATTACAAAGGCACAATCGTCACTGGCTCTAAAAACCTTGATCCCTGGAATTTTAACGGTGTTTTCATTGATAAGCTAACTAACAACCACACAGTAGGTTTACCACCTTTGGGAACTGTTCGTGTTGCGATCATGTACTCAGCTTTACAGCATGCTTTAGCTTGGATCTGCGTAGTCTGTATGCTGTTTTACTCACGAGAAACCACAGAACTATTGGTAATCTCAACAGTAGAATTCTTACAACATGGTACATATGAACTCGTCCTTGACGGTTTTAAGGATGGATTCCTACCTTATGCACAAAATAATGAGGAAGAAGAATTAAAGAAAGAAGATTCATTATGTGACCCTCTTGCACCAGAAACTAGAGAAGTGGCTATCGGTTTTGCTGCTAATCGTAATACATCTAGATTTGGACAAGGCTGGGAATTAGCTAGATATTACCCTCAAGAATTTAGTGCTGTTCAATTCAATTACAAAACAGATGGCTTCACATTATCGTATATTTACCTTTCCGCTTCAGAAGTTACATTTGCTTCAGTTTCATCAGGTTTACTCTGTAGACTTTGTGGTGTGGTGGCCAATCAAGATTACTTTAGCTTGTATTACACATTGTCTAAATCTGTGTACGAGTGGCATCTCAACTGGATTACATCAGCTTTATGTGCAGAACTAATAAGCTTTCTAATTGGAGTGTTTTATTGTGTGGATGTCAATTAAATTGTCTATATAATCTGGCCTCCTTTTGCTTTAGTTTCAGAGGTAGCTCATGTGTCATCACATGCTGTACTCTATTCTTTAATTGAAAGAAGAATTGATGAAGTTCAACCCACTACTTTACGTTCACCTAGAGTTTTTGTTTCAATGTGCGCCGACAGATCATCAGGTGTTGCTAACAGTTACCAGGCTAGACAGCCAGTGCCTCTCGCACAAGATACAACAGACACCTATTTACTTGCACCTGAAAAGAAGCTACCAAATGGAGAATTTGCCACTACAGTTTCTGCTTGGTTGCAATGCGCTGGTACAACACAGACACCTTGGAAGGCTGTTCGTACTAAATACCAACAACAGCTTAACCTCAGTGGTGTTCTCTTTGGTAACTACCATGCAATCATGACTAGGTCTATCACAGTGTACACAGGTCTTCCTAATGGCATAGCTTCTACTAAGTGTGTTAAATTGGAACAACAGGCTTCTGAAAAGTATAAATCTAGTCAGTCTGTGAACTTAGAAAATCAACCTCCTGCACCTTTTGCTTCAGAGTGTGTTCGTCTTGCTGAAAATACAGCTCAGTCTATAAGAGCTGTTCAGTCTATGCTTAAGTGCCTTATTAGCAATTCATTTATGATGTATGGAAAATTACCAGATGAAATTGTCCGCACAACTCTAGAAGGTGTACTCAAGGTTCATGGACATTTTGACGGTGAGTGGACATTATTAAAATCCTTAATTTTGGCTGTTTGCTGATTACACTAACAGTCAGTCTCTGTTTGTTCATCACACAATGATGTCTATTCTTTGCTGTTATTGCCATTCAGTGTAATCTTAATGAGAATTTTTGCTGGTTGTACTGACTGGCTGTTGTAATCCAGGGTAAAATGTCTAGTCAGTGCTTACAACGTTTATGGCTTTGTGTTTGCTGATTACTGATTACTTCTATTTGACACTTGTAGCCATTTCTTAGAACTAGTAACTGAAATGTTTGTCGCTTTAGAGAATTGGTCATCTCTTCAACAGAGCAAATTCAGAACAGATGCTTCATGGTGTTCCAACAGCTTTTTGCCGAACCTCAAAACAAATTCCAGACAGCTGTTCTTTACTTCATGGAAACACTCTCTGAAGAAACAATGCCTTATAATGTTAACTGTGTTGGTACACACACATCTTTCAAAGTTGTGTATAAGAGTATTGGAGAATTGAAACCACTTAATGGTGTCAGTCATGTTGCAATTGACAAATCACAGAAATCTATGAGTGGTAGATGCACCTCTTTTGCTTTGCAAGGTGACTGTAGCTTATCTCTTATAGATGGTTACCAGACTAGCAATATCACACAAGGACACAATAACAAGATGGACTTTGCTAATCAAACATTGTGTCGCTACCAACAAGGCTTACCCAATGGGTTGTGCTACCAACGTGAAATCCCTAAAGAAAAAATCAAAAACAAGTACATTCCTTATAAAAAGTGCGCTGATGTCCTGTTGCACCGTACACGTGCAGGTCCAATTCTACTTGGTGCTTGCACAAATGCAGACAGACTTCGTAAAGGTGCCTATTTAAGTGATATTGACACTAATGGAGAATTTTGCGAACAGTATGATTATTGTTGTTGTCTTAATGACAGTTGCTGCTTTAGTTTCTAAGAACTGTGTTACCTATACAGAACCTAAAGACCATGTAGCCAACCGTAATGGACTCAGCGTACAACCTGCTCGTTCTGCTAGAAATGCAGGTAGTGGAGTTGTTCTTATCTTGAGTACTCAGACTAATAACAATGTTTCTCACCATGCAGAATATAAGTTTTATTTCGCTGCAAAAGCTGTTCGTATGGGCCTGTATCCTGTAGATTCAAAATGTGCCATGAGTGCCTATGTAAAATACATGAATCCAGATGTTCTCTCTGACATTCCACTTACAAGACTCATTCCTTGCAGATTACAAAGGTATCTTCCATGGCATCTTGATGAAATGTTCTGGAAATCTCGAGGTTTTAAGTCAACTTATGATTATGAATGGGCTAGATACAACCTTTACCCTAAAGATTGCCTATCGAATGCTGTACGTGTTATGTTCTATAGAAGTTTTTGGAATAGACATGTCAAATTCTACAGAGTGTATTATCTCTCCTTAGACTTAAAGCGTGCTTGGAGATTGCCATTAGTAATGGACATACTTTTCTTATGGCACTTATTTTACTTACTACTGGAAACTTGCTCAAGTCCTAGCTTGTGCTTTCAGAGAAGTCACGCTTAATACCACTCTCACAATTTTGCGCCTTGCAGATGCTGGTACTGGTAATGCAGCTGTACTGCTGTTCTTAACAGAAAGGTCTAGCATTGCATTTTACTCTACAACGCAACAGAGTACACTCAACATGTTGTGCTGTCGTTTGTGCTGATTACTCTGTTATTAATTACAACAGTTTACCAACAATGGGTGCTTGCACACAAGGTGTAGACTTTTATAAAAATACTGTGTCTATGATGCGTGTAAAACTTCGCAAACCACGTATGGTACTTGTACAATGCTTTGCTTCAGTTGCTGATACTGCTAACACCTGTGACAACAGTGCTAACATAGTCATGCTTTACCTTCAAGAATTGTGTGTCAAGATCTTAAATCAATATGTCTCTTTCTGGGTTCTATGTTGCTTTAGTAGACTGTTTGGCTACATCAGCTTCTGTTACTGCACTTCAGGCTGTTAGCGGTTACATGCTAAAAACTAATGATGACCCTTATCATTTAGCTGTTTTGCGACCGTCTCGTGAAACTGGCACAACAGTGCAAACACCTTCTAAGGATGGCTTAAATTATGAAAAGCCTTGCATTACAGGCGTTGTTTTTGCTGATTCCATAGACAAAAGTTCACAGGGACTCAATCTTGCTACTAAAGGTGCTTATGAACAACTTGCTAAGTATAATGTTAATGGAGACATGAAAAACAGTGAAGAGTTCAGTGACGGTGCAGCAAATACATTTGCTAGACACAATTTTAATAGAGCTACAACAATCGTAATGGCCTCTATTAATGGTGTTATTACAACAGACAGTCTACTGCTTCAGACAGCTCAACGCACTCTTGAACGTCAACTTAAGTGTAGAAATTGGGAACAGAGGCCTGCCGTCATACCAGTCACTATAGGACCGTTTCTTACTATGGTTTGTAGCGTCATGTGCTTATCTCACTAATGGCTTGATGCCTGTTACAACGAGAAGGCGTACTTGTGGCTATCTAGCTATAGATCCGTCTAACATCACTTTTCTCACCCAAGCTTATTACAGATTAGAGGAAGCTGTCTGTAATGCAAAGAGAGAAGTTGAAGGTTTCAGTGTTGCATTGGCTTGCAACATAGCCTATTGTTCTATCTTACTGCACAGAACAAGAATTTGATGTTTTACTTCTTTTGCCTTCTGCCATTCTAATCATGGTGTTTCTATGTGTTGCCAGGGTACGTTTGTAATTGGCTGATTAGTTCCTAGGAGTTCTATTAGACAAGTGTGTCTCTTGTCCTTTTGCAGTTTCTAAGGTTTCATTGAGAGTGCCATGTGTTTACAACAAATACAATAAAATAAGAGCAACCATTGAACAGTATAAACTAGAAGATTTACTCAAAGTTCAGTTGCCTTCTGGTATTGTGGCTAACCAGGCCATTCAATCACCTCAATCTATAACATTGTGCGATGCAACTGAAATGCTTCAGACTTTGCTGGAAAATGCACAGTTAGAGTATCCAGAAACACGCCAACTAGGTCAAACCACAAACCTCCGCAAAGGAGTTGGTACACTTGTAATGTGCCTGATGCAGTCTAAACTAGTCATAATGTCAGATCCATATGATTATTATTTTAGCTTGTATAAACCTTATTTATTGTGTTTTAGTACTTTGCTCGATAACAACAACAATGTTAGTTCAATCGGTTCAATGGGTGCTGTCTCTATGCTTGCTAGGCGTTATGACCTTAAACCACCTGAAATGCCATTAACTCAACCAATCAATTGCATCAAAATGCCATTTTCTGCTGGTGCTAACCAACATGCTACAACTTGTGACAACCTGGACACTGTTGATCCACTGTCATCGGGTACTGCACTTGCTGAAAATGCTGATCTTAAAGCTTATGACATCCTAGAACAGCTTGACAAATTACCTGAATATAATCTTACACCAGGAGTTCTAGGACAGTTTGCTAAATGGGCTTACCATGCCATTCTTTACCAAAAGAAATACCCACAAATCGATGGTACCTTAGAGCTACTAGGTACACAGTCAATCCTTACACCAGAACAATGTTTCTTAAATTGGGCCACTCTCGCAGAAGGGTTGTTGCTGTAGATTCATTTGTAATGGGTGATCTCACACCTCATGAAGTGTGCCTTCGTACGCCTACAGGACATTCTGTCACAAACAACAAGAAGGGACCAGACATTGACCGGTCTTATAAACTAGCTAATCCGTCTGCTAGAGACAACGGTGTTTGTGCTAGTGGAGAAGTGCCATTTGTAATCACAGACAAGTCTAAACTACTTAACATTACTTGGCTTTTTCTACTAATGTCTTAATCATGGTTCTAACCTTAATGGTTTAATGTTGTAAATTAGGGACCAATTCCATTAGTATTGTACTTTTACCTTGTGTATTCACCAATTACCAGAGAAGATTTTCTCTTGTATGACACAAATCTTAGCCAGAGTTGTTAATGGTGACATTGACAAATCACAGAACCCTAATGAAAACAATGTCACACTAGATTGTGATAAGTACAGTGACGGTGTCATACATAACATGACATCAGGAGAACTTGAAGAACTCAAGGCCTGTATTACAGGTACACGTCAAGTAGACTTATGCTCTAATTCAACTAGAGCCTCAATTGGACTTCTCTCTAGTGAAGATGGTGCAGCACTTATGCTGTTAGACATGTCCTATTATGGAATTAAAGAAGAAAAGTTTCAGGCAGAAAAGAAAGAAAACACTCAAAATTCTAGTGGTGACACATGCATCTTCTATTATGCCTATAGCCGTACTAGCAATTGGAGAGGCGTAGACACTGTCAAAACACATAACAATGGTACAGAAGACGTAGGTGGTGTCACAATGGCAAAGTTACAACAAAAAGACCACAGAATTGAACTTGAACCAGAAGAATCAAGGGACGTGTACTTAGCTGGTGCCAACACAGCTTATTCTAAGCTTACTAATCTGTCTAACGGTTGTGTTGGTAATTCAAAAGTATTATGTTGCCATTCACATCATCATGAAATAGGTACACAGTGTGAACTTGAACCAGAAGAACACAATTTTAATGATGCTCAGACTATGCGCTATGCAGGTACGACAACTTACTGGAAAGGCGTACCTGTGGTACCAATTCAATTCTCTGATGCACACTATTATAAAAATATGGCTATGAATGCGTGCCCACCTTTAGCTTTTGCTCGCATACTTTCTGAGTTCTTTGGTACAAATACGTTGTCATCAGTTTCTGCTTCCTCAGGTTTACAGGGTACACTCATGCCTTCTGCTAAAATGTCAGAGTGTCTTAACAGAGTCTTTGACTGTACAGAAGTTCAAGTTCAAGTGTATCTGAACCAGGACAAGTTGGCACTTGTATATGTGTGTCTGAATATGATACTCGCTAAATACAGATGTACACCTGTTGAACCAGAAACTAAGCCTTGTAGGGAAGTGTCTTTTGTAAGAGATGTACCTATGTCCACTGTAGAATCAAAATGTGACACAGTCTCTTTACAACAACATAACCTCAAAGGAGTGGATGGACTTGAGGATGCTAACAACAGTGCTTATGAGTATGAAGGTGAAGTTCAAGTACATTTTTGTGCAAACAATTTAACTTACTTAATGTATGGTGATGATAGATTTGCTCAAGACAAAGTCTCACAACTTTCACTCACAGTGTACAAACAGTGGGATGAGAAGCTAGGCGCTTGCATAGGTCAGACTAAACATAAAGGTGTCCGTGATTTTACTTACAACAATGCAGCCTATAAGTGTGATATCCGTGATTTAAACAGTGTCACAGACGAGGCCGACGCAGCTAGTAATGCAGCTGACACAGCTCAAGATATAAGAGAAGCTGCTGGTAGTCAATTAACTTGTGACTGTGCCAATCCTGTGATGTGTGGTCAGGTCAAAGCCATGAAAGCTACTGGACCACAATTTTCTAACCTCACTAATGAAAACTATGGTCAGTTACACCTCAAACAGTACACACTCAATGGAGTTCAGGAAGTTCAACTCTGGGAAATTGGTGCTGACCCTGCTACGCAACCTGAACAACCACGCACTTCTGTTTTCAGAAACAAAGAACCTAAGGGTGGTATCAAAATGCTTAGAAATGCATTAGCTCAATCATTGAAACCTACACAATATGATTCTGGTTACCAGGCTAACTATGGTTACCGCGACAAGCCAGGGAATCTTTTAGAAACTATTCTCAAAGAAGAGGGTGAAGTTAACATTGCTAAGATGGCATCACATGTAGAACTCAAAACCTTCAACTGGAAATGGGCTTATTTGGCTGTTTACCAAGACATAAACCTCTACAGAGAAGTTGTACCTATTATGTGCGTACAACACTACTCAGAAGAAGACAAAGACAATTCATCTAAGTGTGTTTACCGTGAAGTGCCATGTGGTACCATACAAAGGTTCTTCTCTTACTTCAGAATTAAAATGACAGAAGTACTTGTAAATTAATTGGAGTGTCCTATTCCTTTTGCTGAAGATGGTGCTTACATGTCAGCTTGTAATGTACAAATGCTTTTCTTCTTCTTCTTGCTATTAACAGAGTCAAGTTCATCTTAGTGTTAGTGACATGATGGCTAGATGTCGTGTTACACAGACACCTAAAGGCTTTTAGGATTCACCTATTGTTACAGAAGCTGGTACTGAAAGGCTAGAACTTGTCTACAAAGACAATTCTAACCTCAAAGTGTACGAGAATTGTGCACTTTACTTTGAAGGTAATCCAGTTGTACAATCCTTTGGTAGTGAAAGTGCAGTACTTCTCTTTGATAAACAAGGTTCACTTAAGGGTGTTATTCCACTGTGTCCGGATTCACAAACAGGCACCAAATTCCTCACACAGGCTTCTGACCTCAGTGGTGTCCGTCTTTACCAAGGTACACTACCTAAGGGTGCACCAGGACTCAAGGAAGCAACAATTGAAGATACCTTTAGCTGCGCTGATCAAGCCATGCCTGCACGGCTACGTGCTGATACTGCTGATACAGAGCCTAATCCTTACCGAGACCAGGCACCAACAAACTTCTGCCCAGAAGTCGAGGGTACAACAGTACAAGGTTCATGGTATGATGAACGTCGCAATACAGCTATTAATGTTGCATATAAGTTTAATGGAGTTGACGTCACAGGGCATGGTGACTCTGTAATTGCCACGTGTAGACATATAGACACCTATAGAAAAATGTATGGTGATGGTGTTTCATTGACTAAATGACCAAAAGGTGTACGTCTTCTTTCGGAACCTAATGACACTCTCAAAATGCCAATTTTTAATTATACTTGGAACCTGATTTTCCCTTCTTTGGTGTTGTACAATCTGATTTTGATGAAATGATGGCCACAGACAACTGCTCACCTAATTTGCAACGACTCAGCGTGTTAAACATGGTCAACCAATTGGTTTACAACAGTATGGTTTTGCTGCAACAGGTACACTAGGTTGCGCAGATCAAGCTGTAGATTCATCTAGAGATCTTTTGGCTAAGTGGAACCACGAGTGTGATCGTACAGCGTATAATGGTTACCTCACTTCCCGTAATGTCTGTGGTTGCAATTACAATAACATAACCTTTACACAGTTTACTATTGAAGCTGTTAACAGGTCAAAAAAGTGTTATCAGCTCTTTGTAATGTATGTAGATGCTAACCTCAAAAACCATAAGTATACTCTCTATGCTTATGAGAATGTACCACTTATGTGTAGAGATGTTAAATTCCCTAAAGTGTACAACATACAAATCGGTACCTTTAACATGATGTACATTTAGTGTTGTCTAGAACCTATTTTTGTTGGTGGTTTCATCCAAATCAATGACTTCTCTGAAGAAAAAGAAATGCTCAAGAACTGCCTCGAAGAACTACTGGAACCACTTAAGCGTATGAACACTCTTGCGAAGACTTCTAAATTAGAAGGACTCTTAAACTTAGTGGGTGATGTCCCTATGGATATAGTTACAGTGCAAGGTTATGAGCACGTAAACAAGGAGTGTGTTAGTTTGCAATCTGAGTGTCCTATTTTTGCTGCTTGTAGTCCATTTAAGAAATCAACTCAAGGTGTTAATGCTTCATTCTTGTGTACATCAACACAGAGAGCAATGGAACTGGACCAGCTTATTGCTTCAACGCCTATCTTACAAGGTTTGTTACTAAAGGTTACCTAAAATGTGATGGTTACCCTCGTCAAGCTGGCACACCTAGTAACGTCTTTAGAGAAATTGTTCCAGTACATTCCACATTATGTAAACCCCTTACTTTTAGTGATACAGGTAGAGTAGTAGGTGACTTACAACCTAGCATTGCACAGTGCTCAGATCTAGCTCTTAAGCAGCCGCGAACTCCTAATGACACTAAGGACTGTGTTAGTGGTTTCAATGTACCTATAAACACTGCTGCACGGTTTGTGCGCAAACCACGCAGAGAGCTTAACGAAGAGTTAAGAGTTCAATTAGAGGAGTATACACCTTTGCTTAATGGTATAGTTTGTGATTATCAATACTTTTGTACATACCATGACAATAGTTTTGCCTTCAATAGTGATTGTGACAGATTCAAATATTTTAAATCACCCAAATTCATTACGGGCACAACTGCTAGTTACAGAGAGGAAGGTTCAGAGTGTAATGACCCTGAAGAACTCATGGCACAACTAGCTCAAGAAGAACCTAAAGAGAATGGATTCCGCCCTTACGCTTTGCGCGAAGACGGTTCTAATAAACAACTCACAACAGTGTATGTGTCTATTGCTTGGGCTGATGACACTGTTAATGCACTGTTACAACTCCCACCATGTAACCAACTAGTGGAACAAATAGCTCGTGCCTCAAAGGGTAAAGGTGACGTAAACTTTGATAGTGTTGCCATTAATTCACATAAACATGTACTTTTCCTTAATGAACTTAATGATAGAGTTAGAGCTTATATGATGACAGACAGTTTGAATTTACGTGCTAATAACCAGTCTTCTTATGAGGTTGTCCTCTACCAAGGTAACCTCATGCTACTAACAAAGGTTCTTTGCTTACACGTGCTGGTACTGTCATAGCTATGCTGATGACAATGCAGACATTCTCTTGTGCATATGCTGATCGTGTAGAATCATTTGTTAGAGATGGTTGTACTGGCACAGACAAAGGTTCACTACTTAATGGTTCATTGTGTGATCTTCAACCTGGTAAGTACAACTTAGAACTTCAAGGTCTCTTGGAACTTCGTCAAGGTGCTGAAAATTCATTGGATTCACATCAATTGTCAACCAACGTTTTTTGTGGTGTTGGCTTCATACCTACACGTGACCCACATCCTTCACGGAACCTTCTTTACTTAAGGGTGTTGATGCTCAAGTTGATGCTTGCATATTGCTGGCCACAACAGCTTGTGAACGACGTTCAGGATATAATGGTACACTTGGTTGCACTATAGACTTTTCTGGTTCTAATGTAGGCTTAACATCAGCAGGCACAAAATACAAAACACGCGTCTTCAGCATGTGTGGCCGTGATGCAGGTGCTGCACGTACAGCTTGCATAAGAGACTGGTTTACCGTACATGGCTTGACGCCTATTTACCGTGACTGTCTTTATGTTTTTGGTGTTTGCCATTTTAGTCAAGGTGTCCTGCTGTTCCTCCTTCAGGCAAAAGGTTTAGTAGTAGACACTTGCCCATTCCCTATCCTTCAGGACATGCTGCTAACCAAGTCATCCTTTACCTTAAGGTTGCTAATCATGCCACCTACACAACAGAGCTAAAAAGAACAATAGAAGAAGGCCACGAAGAAGTAGAGGAACTCACGCCCTCCAGGAAAATGAAGAAAAACAAGGAAGATGACACTGCCATACTTTATGCTGGTTATAGTGTAACAACTGGCATACACTTTTCTTCCACAGACTTACAACATCTTAACCGAGTTGAAGACTTTGAAAAATCAAAGTGTAAAGAATCAACTCTTAATGGTGCAGACACAATGTCATCAGCTTTTCAGCCTAATTTGCCAGGACACTATGGAAAATACATGAAAGCCGCCCCTTATGAAAAAGGTGACTTTAGCTTGCCTCACATGTCATCTGTAGAGCAGTCAGAATTAGATCTCTTGAACTTACGAGGACGGACAATGGGTCGTAATTCACATCCTTTACCTAAAGATGGTTCTGTTAAATCAAAGGATGGACTTAGACAGATGGTACTTATGTTTGTTGTGGATGAGAGTGCTGGCATACAGACAGACAAGTCTGGTAACCCTAAAGCCACTAAAGGCCATTTTGACACTCAGGCCTGTAGACCACTAGTAGTTACAACACGTAAGCGTAGGCACATGAACCTACAAAGCCATACTTTTGAGCGTTTTCTTGACGAGTGCTTTGACATAGCCATACAAACACAGTCTACCAGTGTTGTACAATGCTGGGCTGATCGTCAAATTGCCACGCCAGGTGCTCCTTTCCGAACTCGCGAAGCCGTACCAACTGGTACTAGAGAACTTAAACGTCTTAAGTTGTGTCGCCTTGCAGATCCATTTCCTTCTAGTAATTGACCAATATTAGGTTTTCTCCTAGAACCTGAAAAGCAAGATGTTAACACTGTGCTTCAACCTGATAATGTTGCCATTCCAATCCTTTACAACAAAGCCATTTCATTGCCACTATTAATTGAATGGAATTCTGTAATTGAAGAATTACTCTTAAATTGGAAAGAACTTGTAAATTCACATCAATCTGCTTCGTGGTATGCTGATGCTAAAATACAAGACATGCTAGGCAATGCAGCTCGTTTTGCTAAGCACAATTTAACAGTCTATGTTGGTGGAAACTGTGATGAAAACCAAGAACATTTTGGAAAATCACAGATCCGCTATGCTTCATTACGACTATGCTGTTTTCTGCAAACCCTTTTTCTTATGCAATTGCTTTGCAGAATGGGATTTCTCTAATTGTGGCTTAATTCCGTATGTCTTACAAATGTTATTCTTTGCTAGTTTAGTGCTGGCTATGTTAACACTAGCTGGCTGTAGACTTGGTTGTAGACTGTCACCTCTCTGGTGGTGGTGACATGGTTGTTCAAGATATAGACAAGTCACATCAACATAACACACTTAGTGCTTTGGTTTGTTGCAACTTACAGTGCACTTATGGACAATCACCTTCTAGTAATGCTGGTTACATGGTAGCCACATCATGTTCTAACCAACATGAAGAAGCCATCAATTTCCAACATTACTTGAAACCACAATTCATTCCACTGGCTCGCGACGAAATTGCCACAGGCATTCTACGGAGCTGGTTGGCAGATGGCACAATCCAGGCACCACCTCAAGGTTTTGACACTCAAGTCAACTTAGGTGAAATGTTTCAACCACCAGCAGCACATAATGACACAGATGAAGTCATAGACTTTGATTCACAGAACCAAATAGATGAGCAAGAAGATGATTGTTTCAATGTACAATTAAATCAATATTATAAGAAAGACCCTACCCTTAAGATTGGCGATACAACACAAATCACTAGCACTGCTGCTCAATCACCTAGAGTTTCATTCCGTAATGCAGCTCAGCCTACAAGAAATCCAATTAAGGGTGCATGCGTAGTAGAGGGTTGCAACCATGGTAATCAGACTAGTGAAATTGTTAACCCTGGTGAACGTGACGCTACGAGAGAAGCTGGCACAAATTCAGCTGACGGGACAACAACAGGCTACCAAAGGTTTGGTTGCTCTTGCGCTGCAGAAGCTGTTTATGAACATAAGCTTAACACTACACAAGGACCCAATTACATACGTAGTTGCATTAAGGGTGGTAAATTTGAAAAAGAATTTTCAAATTATAAGAAGTATATGCCTTGTGCAGAAAAGAAAGGTAATTTTGACAAAGCCATTAACTTACAAAAGTTTGCTCGGTGTACAGCAACTTATGATTATTGTGATTGCCCTAGTGTTTTTAATGCCACTTGTAGTGCAGCTGGTTTCCTACAGCCTGATGCACCCATACCTTCTGAAATGCGCAGATTTCCTATGAGTGCAGACAACTGTGATGTAGAAATACAAGTGCTTGATGGTTGCATTGTGGCAGATTCATCTAGCTTTGAGTATGACCGTAATGCACCACTTCTTTCAGAAGTTGTTCGCTATCCTTCACGTGCTGGTAACCTACGCGCAACTCCATTTCTTGCTTGGCATGCTGGTAATTCACCTATAGATACACAGACTCCTCATGAAGAAGCCTTAAAGAATAGTGTTAAATATCTCACACCCCATCCGCGTAATGCAGCGCGTACTATTGATGTGTTCATAGACACTGGGTCATCTCATTCTATGTTCTACTCAGAATTAACAACAATTGGTCGTGCACAAACGTCTGCACAACATGTTGTTAGATATTCTGATGGTTACCTCTATAAGTTTAATGCAACATTACTTGCACCTCTTTTGCAGAATCTAAAAAAGAACTTAGAGGACTTTGTCAGACAGTTTGCCACATTACAGAAAGACTATTCTAAGCAGTCTGACCTCTCTTGCATCATGCGCACGTGTAGGCGGCACAGGTGCTGCTGCTGCAGAAACTATAGGTGCCATAGATCCATTTGCTAGAGATGAAGCCAAGACTAATAAGTTCTCCAGGGTTTTTGATGCACACAGTCAGTCAATTGGTGGTGACCTAGTTAACTGGAACTTAACACAAACGTTCACAAATGGTGACTTTAATTCAATCTGAGGTGGTGCTGTTATTCAAAACTATTACATAATGATGACTGTCAATTTCCATCAGCTTTTAATGGATCCATACTTTCTCTTGCTTCACAAACCACTGAGAGACCTAAAATGAACTTTAACCTTGTGGCTATGATGTACGCTCAAGGACTCAACAATTGCAGAATTCCTATTGATTTGTTGGCTAAGTACACTCTCAAACGTTCACCTCAATACAGAGGTGTTGTTCTTTTCCAGAGTTGTGATACTGTAAAAAATGCGCCAAAAATATTGGATGGACAGTCTCACATTGGTGGTGACCTGTTTACTGAATTCCAGCGCACAGCCTATCAAAGACGTCTCAATGGGGAATGGAACTTTAAAAATACAGGCACAAACATTGTTCAACCAGCAAGAGTTCACAATGGAGTTAAATCAAATTATTGTAATCCAGGTCTTCAAGCTTGTCAGGGTATTGAAAGTTTACCTCTCTACCCACCAGGTATTAAGGAAGGTGAAGTTAAAAATGTCACCCTTGACCATACCTCAGAGTTTTCACAGCAGTGTGTTACTAACTGGAAATCACCTCAAGTTTGTCTTCCGTCCACTAATGGACCTAATAAGGGCTTTTACATTGAATTTCTTATTATTATGATAATGATGCATTGATTGTTACTTTACTTACAATTAATGATTATTCTTCTTGTGTTTACAATAATTGGACTTATGCATTGGGCTCATGGTGTAGACTACCTCTACATGGCAATTTTACAGTACTATTATGAATTGGGCTTCAGAATTACCTATAAATTCACACAGACCACTAATTGGTGCTTTAGCTGATACAGCTGACAAATTACAGGCTATTAACTGTGATGCTAGTCTTAACCAGACTACTAATGCACCTCAAGAAATGCTAGGTGCTTGTGCTAAGAACTATGATGGTTTCATTACACAAACAGGAAAATACAAATCTTCGCAGATTCTAGATGTGTCATCTTCTTGTTTTGCATCAGATCAAATCACTCACGACGGCGTAGGCAATATTGATGAACCTAAAGTGTACCGTGATGTACAAACACACAGTCCTTTACTTAACAGACTTATGAGAAACCTACGTGAGGCTGGTCATGCAGCTGCAAATACTTACAAATTAGTAGAGGGTGCACCATGTGTTCTTTGGCTTGATGATGCTGTCAGAGAAGTGAAGGATGGTTTCACTCAAGTAGAATGGCACTTCTGTATATAATACTGGTTTATTCCTGTAGACATTCATTTCATGTTAGAGAATATTGATGATTTGGCTAATCAGTCTGTTAGTGCGTTCAATACAAATTATAAACAAGAAGAAGAAAAAAAAGAAATTGTCAAGATTGTGGAGAGTTCTAATTTAGCACTTTATTCTACTTACACAGATGCAGCCAATTTCAGTGTTGTTAAAGTAGCAATGTACATTATCATGATTGATACTTATTATTGTGATGATCTTCACAATCTAACTGCATTAAACCTCATAACTTTACGCTTAGATCCGTCAATTGGAATTCTACTTCAGCATGCATCATCTAAACCACTAGTGGAACAAGTCAAATACAAATCTTTGCCTACAGAAAATGCCACTCAAGTTCCACTTATGGGAAAAGGTAAATTTGAGAATGCACCAAAAACGGTAGTGATACTTAGTGAACCTTGCGAAGATGTTAGAGCCTATATTAAACAAGGTTCACATATTGTTAATGTTGTCTGGGCAACTCTAACAGTTGTTTTTAGTGCTACAACATCACCAAAGGGTGCTCAAGAACAAATACTTCCTTTCGATCAAGGTTCTGATAGTTCAATGGCTACACACAAATGCCACAATCGTTTGTGCGCACAACAAAAGTGTAGACATGTCTCTGGGAATCCTAAGGCTAATTGTGACTACCCAGAAGATGCAGCTCAGCCTAATGACTTTGACAGACTCTGTGAGAAGTCATCAGCTTTTGAGTGGTTGGATACAGCCGACCCTACTAAAGCTCCTAAATTGAAATCTCCACAAGCAGCCAACAGATTGACTCAACAATGGCAAGATGTTGCATTCTGGCTTCAATTCAGCTGTCACAGATGAGCTAGATGAAAGTTTTCAGGCCAAAATGCCAATATTTTACGCTCAACCTATTAATATTGTTGGTAGACACTGCTTTGCAGCTTGTACTAACATAGCCTATAGTGATTCTATGACTTATGGACCTTATGCTTTAGAGTGTGATAACCCTAAAGCCCTTCTTCCTTCCCGAAATGCAGCTCGCTATGAGAATGTCACATGGAACTTCGAAAACACTCTCCAAACAGATTGCACAATACTACTTAAGAGTGCAGACACTACTGACCAGGCTGATCTTTCTAATCTGCTGTACAAACAAACATTGTCAGAAGAACCTCAAGGTAGTCAGTTCGATGGTACAATGCTGTTAAAACAAACTGTTACATGGATCTCAATGGTGTTGGTAGTGCGCAAATAGTTAAAATAAATCTTCAGCCATTACAGAAGATTTAATGAGTGCTGATGTCCTGGCTGATAAGAATCGTCAACTTGAGTTGCTGAAAAATGGTGATTTACCTAAAGGTACTGTGCTGTATCCGTCAAATTAAAAGAATGGTTTTGTGTGTGCTAATGGTCACTGTGTTGTAGAAACTACTCAGACTTATGAACAACTCATCCCTCAATACACAATAGAGTGCTTGTATGAATTAAGAGATGGTTACCCTATGATGTTCACAAGACATTTCTCTAAGGTTGCAGACACTACTAGAGACCTGCTTGCCAAACAAACTTCTCAGCAGTCTGTTAACTTAGGAGACTTTGCTAGGCAAATGTCCGACGTGTCTATGCTCACATGGATCAATCGCAGTCTCTTCTGTAATGGGCTTGAAGTTGCCAATTTATGTATTCCTAGATGAAACTCAGGCCAAATTCCCTAAAGAGAAGTTTAAGAGAGTTAAGCTGTTTACTTGGTTTCAATTAGAATTGTATTCACTTGGTACTAATTATGTCCCTTCCGGAGAAGGCAATTACCGAAACCAATTCTCAGCTTCTGATAAGTCAGCGCCTGAAGAGAAAGAAGAACAAGTTGAAATTGACTTCTGTGAATTGGGTGCTAGACCCGCTCCTGCACCACCAGAAAATACAGAAGTCGCACAGTTACCTGGACATACTAGAGAGGCTGCTGAAGACATAACAGGACTGAACAGTTCTAGGGATTTACTTACTCTTACTAAAAAGAAGTATAAATCATATTGTGATTCATTACCTGCACCTCATGAAGTTCTCATTACTAACAACTTAGCTTATGGTTTTAATAGTTTACCTGAAGAGCAAGGTAACATGATTAATACCTGTGTTTGCGAAGACAGACTTCGCAAATACCAATCAGAATATGACCCTTACCGAGCTGCTGAATCTCAGAGTGTAGGTGCTTTTGCTAATGGTGTTCCACTGAAGTTAACAGAACACATTTCTTTTTTGAACTTACTAGGACACCGTGTGTGTTGTGTTGTATGCCATGACAGATGTGACTTCTCTAATTTCTATATGCTTATGATGTCTGTCAAACATTATAAACAATTTGCCTCTAAAGAGTATGGTCAGTTACCTTCACCTACTGAACTTGAAAGACACTCTCTCTTTGATAAGAACAGTGTAGTCCCTATGGATTTTCCTATGCAAACGTCTCACCATGTTTTCTGGCCTTACGGACAAAGGAATTCAGAACCATACACAAAGGGTGGTAGAGATGTTGACTTCACTCTTCAGAGTACTACATTCTACTCAGATTGTGCACAGTCTAATGGTGCACCGAGAGTGACAATGCTTGTTACAGATGCTAACATAAACAGTCAGTTACCTTCAGAGTGTGATCTCTCTTACCGAACTCGTGTTCTTGCAGCTTTTCAGAGTATGAACAAGTGTGCACCTGTCTACTCATATGGTTTCACAAGGTCCTATTCAGGTGCAACGCAAACACGCTACTGCAGAGTTGCACCACGGAGACCTATACTGTTAGAGGAACTTACGCAGGACGGTACAGAAGGTGGACTTAATGACATGACATTCTCTAACTTAGAGCAGTGCTTCTGCGTTATGACGGACAGTCTCATTACAGGACAGACGTTCTGTCAAACCATTAGCTCTTGCTACTAATCATGCTGTCATACACACTGCTTGGAATACACCATATAGAGTTAATCTTCTTGGCACGTCTGATAAATGACCCACAATTACAGTTCGTATTCCTTGGCTTGATGCTGTTAATGCACAGAACAGTTACAGAAGAGTGTCTGTTGTTTGTGATTGCCATACAGGTACCACACTTAAGCATCCTAATCAGGAAGGTGCTGATGTTCTTGTCTTGGATAGTGTCACTGGGAATCTAATAGCTAGACAAATGCTAGCTAAGGTTGTCCGTGACATGCAAAAAGGACATTTCTCAATTAGTGTTGTACTACTTATGCTTGACTGTAATCTTAAAGACACTCAAAAATTCCCATATGAATATCCCACTAATTTCAACAGACAAGTACCATTTTCTTCCTGCTGCAGATGCTGTACTTCAGCCTGATAAGAATTTTAACTCTAGTGGTGTTGTTTCATCACAAAACAACACAAATGGTGGTGTTCTCACTCTTATGAGACCTAAAAAGGTCTCTGACCTTCACGTTGTTCTGTGTTTTGGAGATTTCTGTGATGTACATTCAGCTTGTAATGCATCAGAATGTGGTAAACACATAAACCAGGCCGTAACAGCAGTGACAAAATATTTCTCTAAATCCTTAACTCAAACATTGCCCACAGCAGTTGTTCGTACCGATAATTCTAACCTCATGCCTTACCCAAGAGGTAAATTGGCTAATTACCACTGTAAACCAACAGAAATGGCAGTTGAACAGTTTGGTGATTATTTTGATTACCCTACACAGATCATCATAATTACACTTCAGTCTGCTACTTGTGTTAACGGACTCAAGAGTTTGCTAATTATAGATGATGTCCTAGACATACCAGGTACTTGTACTAAACGCACGTCTGGTGATACCATGGCTTTAGACTACCCAGAGTATGGCCGCATTACAGTTCCAGGGCAATCATCAACAGGTGCCTATAAATTAGATGAACCCATTACTTTTCATGTTGGTGACCCTACTGTTACTAATATCTACTCTAGCAGAGTAGCAACTTTTAAGTGTGTTAGAAGTGCAACTTGTCTTTGTCCTGTCTATAACAGCTGTCACCTTTGCTTTGCATGGTGTTGTTGCAATGGCTAACCATGTAGATACACTCTACAGAGTACAAGCTGTCATGACCACTATGTCACAGGGTCTTCTTTACTGTCGTTATAATGTATTCCTAATGCGTAATAGGCTTTGTTCGTTCTGTTTCTATGCTATTGACACTAATCTTGCAAGGAAAAAGAATGTAGTTGAGCGTCCTACAATTACTAAAGGCACAATCGCTATTGAGTGTTCTGTTACTGCTTCCATAGTTTCACAGCACGAGTTCTCAGGTGTAGACAGGAAAGGAAAGCAGGAAAAAGATACAATCAGAGTTGCTAACCTTAAGTTTCCTCATGAAATCCTACGGAGACACGGTGATAGAGAAGCTGAAATGGTTAACACCTGTGAACTTCGTCAAGGTTTGAAAGAACTTGAGAAAGCCTTAACTCTTACTATTAAATACATGAAAATGCCAGATGTTTCACTTGCACCGCAACATGGCACAATTGACCGTCTTTGTGCTTTCAGAGTAACAGCTGAAGTCACAAGCCTTCATGATTCATCCAGAGTTGTAGGTTTTGCAATGTGTGGCTGATCACTCTTTATCATTAATAAAAATGACACAACAGAAGTGGATTGTACACTTTACTTTGCAGCTTATAACACTTCAGAGTGTTCAGAGGTTGTTAACCTTAACTCTAATCAGACACACGAATTAGATGCTACAGATGTTCAGTCTGTTGATTGGTTCAATGGTTACCTAATAGACTGGTATGTTGGTACATCCAAATTACTAGATCCACAAATTGATTCTGCTCAGTCCAATCTTAATGGTTCACTATTTGGTATTGGCTTAATCCTAGGACCGTTTTTGTGTACTTACATTGAAATGCTTGTAATGCCTATTAAGTGTAGACCTATCAATGGCGTAGCCTATTCTTGCAGAATGCAGAGAAAATCACAGAGACCTATTACTGAAAGTTCACCTCCAGGTACTGGTAACAGAGCTTATAAGTGAGAAGGCTTAAACATGATAATTATTAGTGAGTTTTTAGTTAAATGAAATGCCATTTTACTTTGCTCTTTTCTTGCTGCTGAAATTACATTTTTGGTTTGCAATGACTTTTTCGCTACATACATTAGTTTATTGCCTTTGTTTTCACACTTAAACGGAAAAAGAATTCTTCGCAACCGGAGGCTTCTATGCTGATAATGACAGTCAGTCTTTAGGTGCTAACCACACTACTCTTAAGCATCTCAACGGCTGTTTTGTAGCCATACACACTCGCAAAGCCTTTAACATTGAAGAATCAATGGCTGGTATTGACATACAAATGCTTTGCTATGCTAGACATATAGTTTGCTGTACGCGTGCTGGTGTCACATCAAACATCTTAGACCAATTACCTAAACAGACCTATGGCCCTAATGGTGTTGCCTTTGATTCAACTTACCAGAACAAAAGAAAGAAGAAGGGACAGAGAGGCAGTCAAAGCGTTGGTGGTTGCACTCGTGATGCAGCTGTCTTCAATAGTGACTGCACAGAGTTGGGTAATTATCTCACTCCCTTTCAAATTGAATCTGGTTGTAGCCTAGACAATGCAGCTGAAATGCTTGACACTACTGATTGTGACTTCTCTGGTGTTTGCTTTGGCATACATGCAGATTGTGAACCTTACTGGAATTGGCGAATTGTACAATTTTACTTCAAAACCCCACATCCACTTACCAGTGGCACAGCAAGTGCTGTTATGCGTATACCTAAGAACACACTTAACCTCTTTGCTAAAATGTTGAAGAACATTGATCAAGTCAATGGCAGGTACTTTGCAGCCAAATTGCACACAGCATCAGAAGAGCAAGACAATCCTATTACGAATGCTGGTTTTACTGGCACCTCTGAAGAAACATTGTCACTCAATGGCATTAATCCAGGACAAGCTGGCAAATTCAACCGTCAAACTGGTGAGTCATCACCAGAAGTTGGTATAGATTTTCTTAGAGAAGGTGTTGGACAAGTCAACCTTTCTGGAACTACTAAAGGTACACAAACACGACAAGCTGCTAGAAATGCCATGCATGTTCAACTACAACCACCTAATGTTGTTGGTATCCCTTGCCATCCTGTGTGCCGTTTTATATTAGATGAGTTTGCCACTAGTTGTCCTTCTGCACTGCAACCACTAGGAGCGCAAAAGGCCATATTGGATTCACAACAGCAAAATATAGTCGCTGATTCTAAACTACTCGCTAAAGAAAAGAAGTGCACTCTTGTTTCACAGTCTGCTAATCCTAATGCTTTACGTCAGCCGTCTGCACATCCTACTCAAGATCACAATTGTGTTAACATGAAATTCTCACAGGATTTTAATTCATCAGATGGTGTAGGCTTAATGATGCCAGACCATGCTGTTTACTGTCGTAGTTGGCGCACTACTAACCGCAATGGTGTTCAAGTTTATGAGAATAATGTCTTCAAACAATTTGCTACTGATGACCAGACTATTAGCGTTGTTAACAGCTGCGGCTTTATAACACAAGGTGAAGTCCAGACTACATTCTCAACCAGCAGTTGAAAAAGTAAATTTGACGCTTCAGCTTCTGGAATTCCATTTGCTTTACGTGCAGAGTGGTTGTTCGATACAGATTATCTAACATTGCTTATTAGTGGTTGTATTGGCAAATCATCTGAATCTAACCTTAACTCACTTGGACAATATAAATCTTGTTCTGCCGTCTACTATGCTGTTACATGGATCCTCGTAACGGGTAGAATGCCTTATTGGAATTCAGAGTTACTTGGAGCTTATGTTACAATGACGAGGAACTTGTCTAAATTGCAATTGTGCCGTCTAGAGGTTTGGTGTAAGCATGTGCAACAATTACATAAAACTATGGCCTGTGGAAAATTTGCTGGCACGCGTAATCCTACTAAAGTTCCTGTTCTTTACCAAGGTACCCTGGACAAACTAGCACGCACTGCTCAGTTTGCTACAGGTTCTAACAAACAAGGTATTGAGGCTGCTGATGCGCAGACATTATCTGAACAAGATGAATTCTCTAATTTGAAAGCCACGCAAGTCAAATTAGCTCTCTTATGCATTGATTTCTGTAGAATCAATTTTGTTCATTCCTTAGCCACTAGTTGTGTTACTAGGCAGACATTAAGAGAATCAAGAGAGCTTAAAGACTTCAAGATTCAAGGTTTAGCTGGTATCGGTGATTCTAAATTACAATTCTGCTGATCAGGATGGTGATTTAGACTACCAGAATGCACCAGAACCAACTAACATCATATTCTCACTTCTTGCTGTCATAGACAGTTGCAGTTTTACTGGAATCAATCTTCACAGTGTAGACAATCTTACACCAATAGAGTATGATCTTAAACTTACTCAAACAGGTGCTCTCTTCGGAAATGCAAAGGGAATTCAAAGAGCTACTGCCAAACAAACTCCTACAGAAGACTATGACTCTTTTGAAGTGTCAACATTACAATCTGACATTCACCTTAACGGACCCTATCAATTGTGGCAGCTTCAATTGGCTTCTTTCAGATTAACTGTCTTGAAGTATACAGCTTGTAATGTAGCCATACTACCTCCACAACCATTAGAACCAAAGGGTACATCTTTCAGAGAGGGTGGTAACCTAATAGAAACCCTTCAACTTCTGCTTAAGAAGGACATGTCTTATTATTATCGTCAAGAAAACAAAATGCCAGATACTTCACGGGCCGCTACTGGAACGTATGCATCTAGCAGTGCAGGAGCCGTACGTAATGTGTCATTAGGTGTCCCTATGCCACTACTCACACAAGATGAATCAAAGGGTAGTTTTTATGTACGAGATGTCGCTAGAGATGTCTATTACCTAACACAGGCCAATCTCTGTAAGAATACATGGTTTGATGATAGACTTGAGCAGACGTTTAAAAGAGTAATCGCTTTGCAGTTTGTGTGTAGAGAGAATCTTGCTAATGGTGTTCAAGTTAACTTACTTAGAGTTTGTGTTACGCAGTGCTTTAAAGGTAACCAGGTTGATGCACCCTTAAATTTAAACGCAGACAGACAGGCAGTCACAAACCTCTTCATGAGAAATTCACCATTCTCATTGTTGACTTACTAGTTCTTACAAGGTTTTATGATCACTGTGTATTCCTACAAAGGTTTTACGTGCAGAGTGGCTTCTTAAATGTGGCATTCTTCTTTACAACAAAATGTATAATGAAATGTTCTCAGATCCTTCTAACATCTCTGGTACTGTCTATGAAGTTTCAAAGGAATTACAGAGAGCTGAAGGCACAGCTTGTGCATCAGCTTCTGAATACCTACAAGGTACAGATGCACTGGTGCAACCGGCTAAAAACCAGAATGCACCCATAATTATGGGACGGCCACCAGGTACTAGACAGGGAGTCGATACAGCAAACATGTTAAATAAACCTTTGAGTGATGGTACATCATCTAAATGTCGCGCCTACACTCCTAGAACTACTGAAACCCAGGGTAGTTTTGGCTTACAGACTTCAATGCCTACTAACTACAAATGTGTCAGTGAAATGAGATTCCCAGAATATTTTAAGAAACCTTGGAAATATGCTGATAACCCTGAAGCACTTCCTCTTTGGCATATTGACTGTGTTAATGCACATTTACTAAAAAATTGTGATGGTTATACTCCACAACCACTCACAATGGTACCACTTTTAAATGCAGAAGACTGTTTGATTTGAAAGATTTTGTGTTGTCTGATGGTGATAGTCCTGTTGCAAACACAAGTCACGCCTCTAGCAAATTGCCAGATCTACATGCTGTCAGAGAGGTCAAGGAAATGATGATGATTACCTTCTACCTTAATGATATGGCCATACAATTTACTCTCATGGGCTTTGATAAGTGTACACTTATGATGTCAGCGTCTAATAAGTGTCACCGTAAATTAGGTGATGGTGTTCTCATTAACATACCAGGTTTACACTATAAACAATATGTCAAATCACACATACCAGTACCACTAGGTGCTGGTACAATAGCTGGTTTTAAGCTAGATGACTATGACTTTTCTAGTGATGATCTGTTTAACACACAAAAAAAGAAGTATATTAACCCTCAAGAAAAATTTAATCAACCAATGGGTGTTACTGGCATACCTAAGACTAACAAACACTCAAACCGAGTGTTTTTAGCTGGTGCTGATGGCATAGCAGCTTACTATTATATAAATGATTATCTCAAAGTTACAATGAAACATGTACTTTACTTTGACTGGAATGTTCGTAGTGCGTGGAACTTGGTAATGCCAGATGAAACTCGCTACCGAACTGCTCGCAATGAAGAAGACTGTGTTGTTTGCCATTTCGATAAAATAAAATGGGAAGAGTATTATTCTAAACCTCTCTACTTTAATAGATTGTACCGTGGTACGCCTATCGAAACACAACCCAAAGTGTTCAATTTGCTAGTTGTAACCAGGGTGGTTATCTTCTTACAAACAACAGCC\n"
          ],
          "name": "stdout"
        }
      ]
    },
    {
      "cell_type": "code",
      "metadata": {
        "id": "zwxMWvMovK6j",
        "colab_type": "code",
        "colab": {
          "base_uri": "https://localhost:8080/",
          "height": 54
        },
        "outputId": "31fd4fa1-cd3a-4c03-b334-b23b63645037"
      },
      "source": [
        "print(records_sub[0][1000:])"
      ],
      "execution_count": null,
      "outputs": [
        {
          "output_type": "stream",
          "text": [
            "GAAAAGAGCTATGAATTGCAGACACCTTTTGAAATTAAATTGGCAAAGAAATTTGACACCTTCAATGGGGAATGTCCAAATTTTGTATTTCCCTTAAATTCCATAATCAAGACTATTCAACCAAGGGTTGAAAAGAAAAAGCTTGATGGCTTTATGGGTAGAATTCGATCTGTCTATCCAGTTGCGTCACCAAATGAATGCAACCAAATGTGCCTTTCAACTCTCATGAAGTGTGATCATTGTGGTGAAACTTCATGGCAGACGGGCGATTTTGTTAAAGCCACTTGCGAATTTTGTGGCACTGAGAATTTGACTAAAGAAGGTGCCACTACTTGTGGTTACTTACCCCAAAATGCTGTTGTTAAAATTTATTGTCCAGCATGTCACAATTCAGAAGTAGGACCTGAGCATAGTCTTGCCGAATACCATAATGAATCTGGCTTGAAAACCATTCTTCGTAAGGGTGGTCGCACTATTGCCTTTGGAGGCTGTGTGTTCTCTTATGTTGGTTGCCATAACAAGTGTGCCTATTGGGTTCCACGTGCTAGCGCTAACATAGGTTGTAACCATACAGGTGTTGTTGGAGAAGGTTCCGAAGGTCTTAATGACAACCTTCTTGAAATACTCCAAAAAGAGAAAGTCAACATCAATATTGTTGGTGACTTTAAACTTAATGAAGAGATCGCCATTATTTTGGCATCTTTTTCTGCTTCCACAAGTGCTTTTGTGGAAACTGTGAAAGGTTTGGATTATAAAGCATTCAAACAAATTGTTGAATCCTGTGGTAATTTTAAAGTTACAAAAGGAAAAGCTAAAAAAGGTGCCTGGAATATTGGTGAACAGAAATCAATACTGAGTCCTCTTTATGCATTTGCATCAGAGGCTGCTCGTGTTGTACGATCAATTTTCTCCCGCACTCTTGAAACTGCTCAAAATTCTGTGCGTGTTTTACAGAAGGCCGCTATAACAATACTAGATGGAATTTCACAGTATTCACTGAGACTCATTGATGCTATGATGTTCACATCTGATTTGGCTACTAACAATCTAGTTGTAATGGCCTACATTACAGGTGGTGTTGTTCAGTTGACTTCGCAGTGGCTAACTAACATCTTTGGCACTGTTTATGAAAAACTCAAACCCGTCCTTGATTGGCTTGAAGAGAAGTTTAAGGAAGGTGTAGAGTTTCTTAGAGACGGTTGGGAAATTGTTAAATTTATCTCAACCTGTGCTTGTGAAATTGTCGGTGGACAAATTGTCACCTGTGCAAAGGAAATTAAGGAGAGTGTTCAGACATTCTTTAAGCTTGTAAATAAATTTTTGGCTTTGTGTGCTGACTCTATCATTATTGGTGGAGCTAAACTTAAAGCCTTGAATTTAGGTGAAACATTTGTCACGCACTCAAAGGGATTGTACAGAAAGTGTGTTAAATCCAGAGAAGAAACTGGCCTACTCATGCCTCTAAAAGCCCCAAAAGAAATTATCTTCTTAGAGGGAGAAACACTTCCCACAGAAGTGTTAACAGAGGAAGTTGTCTTGAAAACTGGTGATTTACAACCATTAGAACAACCTACTAGTGAAGCTGTTGAAGCTCCATTGGTTGGTACACCAGTTTGTATTAACGGGCTTATGTTGCTCGAAATCAAAGACACAGAAAAGTACTGTGCCCTTGCACCTAATATGATGGTAACAAACAATACCTTCACACTCAAAGGCGGTGCACCAACAAAGGTTACTTTTGGTGATGACACTGTGATAGAAGTGCAAGGTTACAAGAGTGTGAATATCACTTTTGAACTTGATGAAAGGATTGATAAAGTACTTAATGAGAAGTGCTCTGCCTATACAGTTGAACTCGGTACAGAAGTAAATGAGTTCGCCTGTGTTGTGGCAGATGCTGTCATAAAAACTTTGCAACCAGTATCTGAATTACTTACACCACTGGGCATTGATTTAGATGAGTGGAGTATGGCTACATACTACTTATTTGATGAGTCTGGTGAGTTTAAATTGGCTTCACATATGTATTGTTCTTTTTACCCTCCAGATGAGGATGAAGAAGAAGGTGATTGTGAAGAAGAAGAGTTTGAGCCATCAACTCAATATGAGTATGGTACTGAAGATGATTACCAAGGTAAACCTTTGGAATTTGGTGCCACTTCTGCTGCTCTTCAACCTGAAGAAGAGCAAGAAGAAGATTGGTTAGATGATGATAGTCAACAAACTGTTGGTCAACAAGACGGCAGTGAGGACAATCAGACAACTACTATTCAAACAATTGTTGAGGTTCAACCTCAATTAGAGATGGAACTTACACCAGTTGTTCAGACTATTGAAGTGAATAGTTTTAGTGGTTATTTAAAACTTACTGACAATGTATACATTAAAAATGCAGACATTGTGGAAGAAGCTAAAAAGGTAAAACCAACAGTGGTTGTTAATGCAGCCAATGTTTACCTTAAACATGGAGGAGGTGTTGCAGGAGCCTTAAATAAGGCTACTAACAATGCCATGCAAGTTGAATCTGATGATTACATAGCTACTAATGGACCACTTAAAGTGGGTGGTAGTTGTGTTTTAAGCGGACACAATCTTGCTAAACACTGTCTTCATGTTGTCGGCCCAAATGTTAACAAAGGTGAAGACATTCAACTTCTTAAGAGTGCTTATGAAAATTTTAATCAGCACGAAGTTCTACTTGCACCATTATTATCAGCTGGTATTTTTGGTGCTGACCCTATACATTCTTTAAGAGTTTGTGTAGATACTGTTCGCACAAATGTCTACTTAGCTGTCTTTGATAAAAATCTCTATGACAAACTTGTTTCAAGCTTTTTGGAAATGAAGAGTGAAAAGCAAGTTGAACAAAAGATCGCTGAGATTCCTAAAGAGGAAGTTAAGCCATTTATAACTGAAAGTAAACCTTCAGTTGAACAGAGAAAACAAGATGATAAGAAAATCAAAGCTTGTGTTGAAGAAGTTACAACAACTCTGGAAGAAACTAAGTTCCTCACAGAAAACTTGTTACTTTATATTGACATTAATGGCAATCTTCATCCAGATTCTGCCACTCTTGTTAGTGACATTGACATCACTTTCTTAAAGAAAGATGCTCCATATATAGTGGGTGATGTTGTTCAAGAGGGTGTTTTAACTGCTGTGGTTATACCTACTAAAAAGGCTGGTGGCACTACTGAAATGCTAGCGAAAGCTTTGAGAAAAGTGCCAACAGACAATTATATAACCACTTACCCGGGTCAGGGTTTAAATGGTTACACTGTAGAGGAGGCAAAGACAGTGCTTAAAAAGTGTAAAAGTGCCTTTTACATTCTACCATCTATTATCTCTAATGAGAAGCAAGAAATTCTTGGAACTGTTTCTTGGAATTTGCGAGAAATGCTTGCACATGCAGAAGAAACACGCAAATTAATGCCTGTCTGTGTGGAAACTAAAGCCATAGTTTCAACTATACAGCGTAAATATAAGGGTATTAAAATACAAGAGGGTGTGGTTGATTATGGTGCTAGATTTTACTTTTACACCAGTAAAACAACTGTAGCGTCACTTATCAACACACTTAACGATCTAAATGAAACTCTTGTTACAATGCCACTTGGCTATGTAACACATGGCTTAAATTTGGAAGAAGCTGCTCGGTATATGAGATCTCTCAAAGTGCCAGCTACAGTTTCTGTTTCTTCACCTGATGCTGTTACAGCGTATAATGGTTATCTTACTTCTTCTTCTAAAACACCTGAAGAACATTTTATTGAAACCATCTCACTTGCTGGTTCCTATAAAGATTGGTCCTATTCTGGACAATCTACACAACTAGGTATAGAATTTCTTAAGAGAGGTGATAAAAGTGTATATTACACTAGTAATCCTACCACATTCCACCTAGATGGTGAAGTTATCACCTTTGACAATCTTAAGACACTTCTTTCTTTGAGAGAAGTGAGGACTATTAAGGTGTTTACAACAGTAGACAACATTAACCTCCACACGCAAGTTGTGGACATGTCAATGACATATGGACAACAGTTTGGTCCAACTTATTTGGATGGAGCTGATGTTACTAAAATAAAACCTCATAATTCACATGAAGGTAAAACATTTTATGTTTTACCTAATGATGACACTCTACGTGTTGAGGCTTTTGAGTACTACCACACAACTGATCCTAGTTTTCTGGGTAGGTACATGTCAGCATTAAATCACACTAAAAAGTGGAAATACCCACAAGTTAATGGTTTAACTTCTATTAAATGGGCAGATAACAACTGTTATCTTGCCACTGCATTGTTAACACTCCAACAAATAGAGTTGAAGTTTAATCCACCTGCTCTACAAGATGCTTATTACAGAGCAAGGGCTGGTGAAGCTGCTAACTTTTGTGCACTTATCTTAGCCTACTGTAATAAGACAGTAGGTGAGTTAGGTGATGTTAGAGAAACAATGAGTTACTTGTTTCAACATGCCAATTTAGATTCTTGCAAAAGAGTCTTGAACGTGGTGTGTAAAACTTGTGGACAACAGCAGACAACCCTTAAGGGTGTAGAAGCTGTTATGTACATGGGCACACTTTCTTATGAACAATTTAAGAAAGGTGTTCAGATACCTTGTACGTGTGGTAAACAAGCTACAAAATATCTAGTACAACAGGAGTCACCTTTTGTTATGATGTCAGCACCACCTGCTCAGTATGAACTTAAGCATGGTACATTTACTTGTGCTAGTGAGTACACTGGTAATTACCAGTGTGGTCACTATAAACATATAACTTCTAAAGAAACTTTGTATTGCATAGACGGTGCTTTACTTACAAAGTCCTCAGAATACAAAGGTCCTATTACGGATGTTTTCTACAAAGAAAACAGTTACACAACAACCATAAAACCAGTTACTTATAAATTGGATGGTGTTGTTTGTACAGAAATTGACCCTAAGTTGGACAATTATTATAAGAAAGACAATTCTTATTTCACAGAGCAACCAATTGATCTTGTACCAAACCAACCATATCCAAACGCAAGCTTCGATAATTTTAAGTTTGTATGTGATAATATCAAATTTGCTGATGATTTAAACCAGTTAACTGGTTATAAGAAACCTGCTTCAAGAGAGCTTAAAGTTACATTTTTCCCTGACTTAAATGGTGATGTGGTGGCTATTGATTATAAACACTACACACCCTCTTTTAAGAAAGGAGCTAAATTGTTACATAAACCTATTGTTTGGCATGTTAACAATGCAACTAATAAAGCCACGTATAAACCAAATACCTGGTGTATACGTTGTCTTTGGAGCACAAAACCAGTTGAAACATCAAATTCGTTTGATGTACTGAAGTCAGAGGACGCGCAGGGAATGGATAATCTTGCCTGCGAAGATCTAAAACCAGTCTCTGAAGAAGTAGTGGAAAATCCTACCATACAGAAAGACGTTCTTGAGTGTAATGTGAAAACTACCGAAGTTGTAGGAGACATTATACTTAAACCAGCAAATAATAGTTTAAAAATTACAGAAGAGGTTGGCCACACAGATCTAATGGCTGCTTATGTAGACAATTCTAGTCTTACTATTAAGAAACCTAATGAATTATCTAGAGTATTAGGTTTGAAAACCCTTGCTACTCATGGTTTAGCTGCTGTTAATAGTGTCCCTTGGGATACTATAGCTAATTATGCTAAGCCTTTTCTTAACAAAGTTGTTAGTACAACTACTAACATAGTTACACGGTGTTTAAACCGTGTTTGTACTAATTATATGCCTTATTTCTTTACTTTATTGCTACAATTGTGTACTTTTACTAGAAGTACAAATTCTAGAATTAAAGCATCTATGCCGACTACTATAGCAAAGAATACTGTTAAGAGTGTCGGTAAATTTTGTCTAGAGGCTTCATTTAATTATTTGAAGTCACCTAATTTTTCTAAACTGATAAATATTATAATTTGGTTTTTACTATTAAGTGTTTGCCTAGGTTCTTTAATCTACTCAACCGCTGCTTTAGGTGTTTTAATGTCTAATTTAGGCATGCCTTCTTACTGTACTGGTTACAGAGAAGGCTATTTGAACTCTACTAATGTCACTATTGCAACCTACTGTACTGGTTCTATACCTTGTAGTGTTTGTCTTAGTGGTTTAGATTCTTTAGACACCTATCCTTCTTTAGAAACTATACAAATTACCATTTCATCTTTTAAATGGGATTTAACTGCTTTTGGCTTAGTTGCAGAGTGGTTTTTGGCATATATTCTTTTCACTAGGTTTTTCTATGTACTTGGATTGGCTGCAATCATGCAATTGTTTTTCAGCTATTTTGCAGTACATTTTATTAGTAATTCTTGGCTTATGTGGTTAATAATTAATCTTGTACAAATGGCCCCGATTTCAGCTATGGTTAGAATGTACATCTTCTTTGCATCATTTTATTATGTATGGAAAAGTTATGTGCATGTTGTAGACGGTTGTAATTCATCAACTTGTATGATGTGTTACAAACGTAATAGAGCAACAAGAGTCGAATGTACAACTATTGTTAATGGTGTTAGAAGGTCCTTTTATGTCTATGCTAATGGAGGTAAAGGCTTTTGCAAACTACACAATTGGAATTGTGTTAATTGTGATACATTCTGTGCTGGTAGTACATTTATTAGTGATGAAGTTGCGAGAGACTTGTCACTACAGTTTAAAAGACCAATAAATCCTACTGACCAGTCTTCTTACATCGTTGATAGTGTTACAGTGAAGAATGGTTCCATCCATCTTTACTTTGATAAAGCTGGTCAAAAGACTTATGAAAGACATTCTCTCTCTCATTTTGTTAACTTAGACAACCTGAGAGCTAATAACACTAAAGGTTCATTGCCTATTAATGTTATAGTTTTTGATGGTAAATCAAAATGTGAAGAATCATCTGCAAAATCAGCGTCTGTTTACTACAGTCAGCTTATGTGTCAACCTATACTGTTACTAGATCAGGCATTAGTGTCTGATGTTGGTGATAGTGCGGAAGTTGCAGTTAAAATGTTTGATGCTTACGTTAATACGTTTTCATCAACTTTTAACGTACCAATGGAAAAACTCAAAACACTAGTTGCAACTGCAGAAGCTGAACTTGCAAAGAATGTGTCCTTAGACAATGTCTTATCTACTTTTATTTCAGCAGCTCGGCAAGGGTTTGTTGATTCAGATGTAGAAACTAAAGATGTTGTTGAATGTCTTAAATTGTCACATCAATCTGACATAGAAGTTACTGGCGATAGTTGTAATAACTATATGCTCACCTATAACAAAGTTGAAAACATGACACCCCGTGACCTTGGTGCTTGTATTGACTGTAGTGCGCGTCATATTAATGCGCAGGTAGCAAAAAGTCACAACATTGCTTTGATATGGAACGTTAAAGATTTCATGTCATTGTCTGAACAACTACGAAAACAAATACGTAGTGCTGCTAAAAAGAATAACTTACCTTTTAAGTTGACATGTGCAACTACTAGACAAGTTGTTAATGTTGTAACAACAAAGATAGCACTTAAGGGTGGTAAAATTGTTAATAATTGGTTGAAGCAGTTAATTAAAGTTACACTTGTGTTCCTTTTTGTTGCTGCTATTTTCTATTTAATAACACCTGTTCATGTCATGTCTAAACATACTGACTTTTCAAGTGAAATCATAGGATACAAGGCTATTGATGGTGGTGTCACTCGTGACATAGCATCTACAGATACTTGTTTTGCTAACAAACATGCTGATTTTGACACATGGTTTAGCCAGCGTGGTGGTAGTTATACTAATGACAAAGCTTGCCCATTGATTGCTGCAGTCATAACAAGAGAAGTGGGTTTTGTCGTGCCTGGTTTGCCTGGCACGATATTACGCACAACTAATGGTGACTTTTTGCATTTCTTACCTAGAGTTTTTAGTGCAGTTGGTAACATCTGTTACACACCATCAAAACTTATAGAGTACACTGACTTTGCAACATCAGCTTGTGTTTTGGCTGCTGAATGTACAATTTTTAAAGATGCTTCTGGTAAGCCAGTACCATATTGTTATGATACCAATGTACTAGAAGGTTCTGTTGCTTATGAAAGTTTACGCCCTGACACACGTTATGTGCTCATGGATGGCTCTATTATTCAATTTCCTAACACCTACCTTGAAGGTTCTGTTAGAGTGGTAACAACTTTTGATTCTGAGTACTGTAGGCACGGCACTTGTGAAAGATCAGAAGCTGGTGTTTGTGTATCTACTAGTGGTAGATGGGTACTTAACAATGATTATTACAGATCTTTACCAGGAGTTTTCTGTGGTGTAGATGCTGTAAATTTACTTACTAATATGTTTACACCACTAATTCAACCTATTGGTGCTTTGGACATATCAGCATCTATAGTAGCTGGTGGTATTGTAGCTATCGTAGTAACATGCCTTGCCTACTATTTTATGAGGTTTAGAAGAGCTTTTGGTGAATACAGTCATGTAGTTGCCTTTAATACTTTACTATTCCTTATGTCATTCACTGTACTCTGTTTAACACCAGTTTACTCATTCTTACCTGGTGTTTATTCTGTTATTTACTTGTACTTGACATTTTATCTTACTAATGATGTTTCTTTTTTAGCACATATTCAGTGGATGGTTATGTTCACACCTTTAGTACCTTTCTGGATAACAATTGCTTATATCATTTGTATTTCCACAAAGCATTTCTATTGGTTCTTTAGTAATTACCTAAAGAGACGTGTAGTCTTTAATGGTGTTTCCTTTAGTACTTTTGAAGAAGCTGCGCTGTGCACCTTTTTGTTAAATAAAGAAATGTATCTAAAGTTGCGTAGTGATGTGCTATTACCTCTTACGCAATATAATAGATACTTAGCTCTTTATAATAAGTACAAGTATTTTAGTGGAGCAATGGATACAACTAGCTACAGAGAAGCTGCTTGTTGTCATCTCGCAAAGGCTCTCAATGACTTCAGTAACTCAGGTTCTGATGTTCTTTACCAACCACCACAAACCTCTATCACCTCAGCTGTTTTGCAGAGTGGTTTTAGAAAAATGGCATTCCCATCTGGTAAAGTTGAGGGTTGTATGGTACAAGTAACTTGTGGTACAACTACACTTAACGGTCTTTGGCTTGATGACGTAGTTTACTGTCCAAGACATGTGATCTGCACCTCTGAAGACATGCTTAACCCTAATTATGAAGATTTACTCATTCGTAAGTCTAATCATAATTTCTTGGTACAGGCTGGTAATGTTCAACTCAGGGTTATTGGACATTCTATGCAAAATTGTGTACTTAAGCTTAAGGTTGATACAGCCAATCCTAAGACACCTAAGTATAAGTTTGTTCGCATTCAACCAGGACAGACTTTTTCAGTGTTAGCTTGTTACAATGGTTCACCATCTGGTGTTTACCAATGTGCTATGAGGCCCAATTTCACTATTAAGGGTTCATTCCTTAATGGTTCATGTGGTAGTGTTGGTTTTAACATAGATTATGACTGTGTCTCTTTTTGTTACATGCACCATATGGAATTACCAACTGGAGTTCATGCTGGCACAGACTTAGAAGGTAACTTTTATGGACCTTTTGTTGACAGGCAAACAGCACAAGCAGCTGGTACGGACACAACTATTACAGTTAATGTTTTAGCTTGGTTGTACGCTGCTGTTATAAATGGAGACAGGTGGTTTCTCAATCGATTTACCACAACTCTTAATGACTTTAACCTTGTGGCTATGAAGTACAATTATGAACCTCTAACACAAGACCATGTTGACATACTAGGACCTCTTTCTGCTCAAACTGGAATTGCCGTTTTAGATATGTGTGCTTCATTAAAAGAATTACTGCAAAATGGTATGAATGGACGTACCATATTGGGTAGTGCTTTATTAGAAGATGAATTTACACCTTTTGATGTTGTTAGACAATGCTCAGGTGTTACTTTCCAAAGTGCAGTGAAAAGAACAATCAAGGGTACACACCACTGGTTGTTACTCACAATTTTGACTTCACTTTTAGTTTTAGTCCAGAGTACTCAATGGTCTTTGTTCTTTTTTTTGTATGAAAATGCCTTTTTACCTTTTGCTATGGGTATTATTGCTATGTCTGCTTTTGCAATGATGTTTGTCAAACATAAGCATGCATTTCTCTGTTTGTTTTTGTTACCTTCTCTTGCCACTGTAGCTTATTTTAATATGGTCTATATGCCTGCTAGTTGGGTGATGCGTATTATGACATGGTTGGATATGGTTGATACTAGTTTGTCTGGTTTTAAGCTAAAAGACTGTGTTATGTATGCATCAGCTGTAGTGTTACTAATCCTTATGACAGCAAGAACTGTGTATGATGATGGTGCTAGGAGAGTGTGGACACTTATGAATGTCTTGACACTCGTTTATAAAGTTTATTATGGTAATGCTTTAGATCAAGCCATTTCCATGTGGGCTCTTATAATCTCTGTTACTTCTAACTACTCAGGTGTAGTTACAACTGTCATGTTTTTGGCCAGAGGTATTGTTTTTATGTGTGTTGAGTATTGCCCTATTTTCTTCATAACTGGTAATACACTTCAGTGTATAATGCTAGTTTATTGTTTCTTAGGCTATTTTTGTACTTGTTACTTTGGCCTCTTTTGTTTACTCAACCGCTACTTTAGACTGACTCTTGGTGTTTATGATTACTTAGTTTCTACACAGGAGTTTAGATATATGAATTCACAGGGACTACTCCCACCCAAGAATAGCATAGATGCCTTCAAACTCAACATTAAATTGTTGGGTGTTGGTGGCAAACCTTGTATCAAAGTAGCCACTGTACAGTCTAAAATGTCAGATGTAAAGTGCACATCAGTAGTCTTACTCTCAGTTTTGCAACAACTCAGAGTAGAATCATCATCTAAATTGTGGGCTCAATGTGTCCAGTTACACAATGACATTCTCTTAGCTAAAGATACTACTGAAGCCTTTGAAAAAATGGTTTCACTACTTTCTGTTTTGCTTTCCATGCAGGGTGCTGTAGACATAAACAAGCTTTGTGAAGAAATGCTGGACAACAGGGCAACCTTACAAGCTATAGCCTCAGAGTTTAGTTCCCTTCCATCATATGCAGCTTTTGCTACTGCTCAAGAAGCTTATGAGCAGGCTGTTGCTAATGGTGATTCTGAAGTTGTTCTTAAAAAGTTGAAGAAGTCTTTGAATGTGGCTAAATCTGAATTTGACCGTGATGCAGCCATGCAACGTAAGTTGGAAAAGATGGCTGATCAAGCTATGACCCAAATGTATAAACAGGCTAGATCTGAGGACAAGAGGGCAAAAGTTACTAGTGCTATGCAGACAATGCTTTTCACTATGCTTAGAAAGTTGGATAATGATGCACTCAACAACATTATCAACAATGCAAGAGATGGTTGTGTTCCCTTGAACATAATACCTCTTACAACAGCAGCCAAACTAATGGTTGTCATACCAGACTATAACACATATAAAAATACGTGTGATGGTACAACATTTACTTATGCATCAGCATTGTGGGAAATCCAACAGGTTGTAGATGCAGATAGTAAAATTGTTCAACTTAGTGAAATTAGTATGGACAATTCACCTAATTTAGCATGGCCTCTTATTGTAACAGCTTTAAGGGCCAATTCTGCTGTCAAATTACAGAATAATGAGCTTAGTCCTGTTGCACTACGACAGATGTCTTGTGCTGCCGGTACTACACAAACTGCTTGCACTGATGACAATGCGTTAGCTTACTACAACACAACAAAGGGAGGTAGGTTTGTACTTGCACTGTTATCCGATTTACAGGATTTGAAATGGGCTAGATTCCCTAAGAGTGATGGAACTGGTACTATCTATACAGAACTGGAACCACCTTGTAGGTTTGTTACAGACACACCTAAAGGTCCTAAAGTGAAGTATTTATACTTTATTAAAGGATTAAACAACCTAAATAGAGGTATGGTACTTGGTAGTTTAGCTGCCACAGTACGTCTACAAGCTGGTAATGCAACAGAAGTGCCTGCCAATTCAACTGTATTATCTTTCTGTGCTTTTGCTGTAGATGCTGCTAAAGCTTACAAAGATTATCTAGCTAGTGGGGGACAACCAATCACTAATTGTGTTAAGATGTTGTGTACACACACTGGTACTGGTCAGGCAATAACAGTTACACCGGAAGCCAATATGGATCAAGAATCCTTTGGTGGTGCATCGTGTTGTCTGTACTGCCGTTGCCACATAGATCATCCAAATCCTAAAGGATTTTGTGACTTAAAAGGTAAGTATGTACAAATACCTACAACTTGTGCTAATGACCCTGTGGGTTTTACACTTAAAAACACAGTCTGTACCGTCTGCGGTATGTGGAAAGGTTATGGCTGTAGTTGTGATCAACTCCGCGAACCCATGCTTCAGTCAGCTGATGCACAATCGTTTTTAAACGGGTTTGCGGTGTAAGTGCAGCCCGTCTTACACCGTGCGGCACAGGCACTAGTACTGATGTCGTATACAGGGCTTTTGACATCTACAATGATAAAGTAGCTGGTTTTGCTAAATTCCTAAAAACTAATTGTTGTCGCTTCCAAGAAAAGGACGAAGATGACAATTTAATTGATTCTTACTTTGTAGTTAAGAGACACACTTTCTCTAACTACCAACATGAAGAAACAATTTATAATTTACTTAAGGATTGTCCAGCTGTTGCTAAACATGACTTCTTTAAGTTTAGAATAGACGGTGACATGGTACCACATATATCACGTCAACGTCTTACTAAATACACAATGGCAGACCTCGTCTATGCTTTAAGGCATTTTGATGAAGGTAATTGTGACACATTAAAAGAAATACTTGTCACATACAATTGTTGTGATGATGATTATTTCAATAAAAAGGACTGGTATGATTTTGTAGAAAACCCAGATATATTACGCGTATACGCCAACTTAGGTGAACGTGTACGCCAAGCTTTGTTAAAAACAGTACAATTCTGTGATGCCATGCGAAATGCTGGTATTGTTGGTGTACTGACATTAGATAATCAAGATCTCAATGGTAACTGGTATGATTTCGGTGATTTCATACAAACCACGCCAGGTAGTGGAGTTCCTGTTGTAGATTCTTATTATTCATTGTTAATGCCTATATTAACCTTGACCAGGGCTTTAACTGCAGAGTCACATGTTGACACTGACTTAACAAAGCCTTACATTAAGTGGGATTTGTTAAAATATGACTTCACGGAAGAGAGGTTAAAACTCTTTGACCGTTATTTTAAATATTGGGATCAGACATACCACCCAAATTGTGTTAACTGTTTGGATGACAGATGCATTCTGCATTGTGCAAACTTTAATGTTTTATTCTCTACAGTGTTCCCACTTACAAGTTTTGGACCACTAGTGAGAAAAATATTTGTTGATGGTGTTCCATTTGTAGTTTCAACTGGATACCACTTCAGAGAGCTAGGTGTTGTACATAATCAGGATGTAAACTTACATAGCTCTAGACTTAGTTTTAAGGAATTACTTGTGTATGCTGCTGACCCTGCTATGCACGCTGCTTCTGGTAATCTATTACTAGATAAACGCACTACGTGCTTTTCAGTAGCTGCACTTACTAACAATGTTGCTTTTCAAACTGTCAAACCCGGTAATTTTAACAAAGACTTCTATGACTTTGCTGTGTCTAAGGGTTTCTTTAAGGAAGGAAGTTCTGTTGAATTAAAACACTTCTTCTTTGCTCAGGATGGTAATGCTGCTATCAGCGATTATGACTACTATCGTTATAATCTACCAACAATGTGTGATATCAGACAACTACTATTTGTAGTTGAAGTTGTTGATAAGTACTTTGATTGTTACGATGGTGGCTGTATTAATGCTAACCAAGTCATCGTCAACAACCTAGACAAATCAGCTGGTTTTCCATTTAATAAATGGGGTAAGGCTAGACTTTATTATGATTCAATGAGTTATGAGGATCAAGATGCACTTTTCGCATATACAAAACGTAATGTCATCCCTACTATAACTCAAATGAATCTTAAGTATGCCATTAGTGCAAAGAATAGAGCTCGCACCGTAGCTGGTGTCTCTATCTGTAGTACTATGACCAATAGACAGTTTCATCAAAAATTATTGAAATCAATAGCCGCCACTAGAGGAGCTACTGTAGTAATTGGAACAAGCAAATTCTATGGTGGTTGGCACAACATGTTAAAAACTGTTTATAGTGATGTAGAAAACCCTCACCTTATGGGTTGGGATTATCCTAAATGTGATAGAGCCATGCCTAACATGCTTAGAATTATGGCCTCACTTGTTCTTGCTCGCAAACATACAACGTGTTGTAGCTTGTCACACCGTTTCTATAGATTAGCTAATGAGTGTGCTCAAGTATTGAGTGAAATGGTCATGTGTGGCGGTTCACTATATGTTAAACCAGGTGGAACCTCATCAGGAGATGCCACAACTGCTTATGCTAATAGTGTTTTTAACATTTGTCAAGCTGTCACGGCCAATGTTAATGCACTTTTATCTACTGATGGTAACAAAATTGCCGATAAGTATGTCCGCAATTTACAACACAGACTTTATGAGTGTCTCTATAGAAATAGAGATGTTGACACAGACTTTGTGAATGAGTTTTACGCATATTTGCGTAAACATTTCTCAATGATGATACTCTCTGACGATGCTGTTGTGTGTTTCAATAGCACTTATGCATCTCAAGGTCTAGTGGCTAGCATAAAGAACTTTAAGTCAGTTCTTTATTATCAAAACAATGTTTTTATGTCTGAAGCAAAATGTTGGACTGAGACTGACCTTACTAAAGGACCTCATGAATTTTGCTCTCAACATACAATGCTAGTTAAACAGGGTGATGATTATGTGTACCTTCCTTACCCAGATCCATCAAGAATCCTAGGGGCCGGCTGTTTTGTAGATGATATCGTAAAAACAGATGGTACACTTATGATTGAACGGTTCGTGTCTTTAGCTATAGATGCTTACCCACTTACTAAACATCCTAATCAGGAGTATGCTGATGTCTTTCATTTGTACTTACAATACATAAGAAAGCTACATGATGAGTTAACAGGACACATGTTAGACATGTATTCTGTTATGCTTACTAATGATAACACTTCAAGGTATTGGGAACCTGAGTTTTATGAGGCTATGTACACACCGCATACAGTCTTACAGGCTGTTGGGGCTTGTGTTCTTTGCAATTCACAGACTTCATTAAGATGTGGTGCTTGCATACGTAGACCATTCTTATGTTGTAAATGCTGTTACGACCATGTCATATCAACATCACATAAATTAGTCTTGTCTGTTAATCCGTATGTTTGCAATGCTCCAGGTTGTGATGTCACAGATGTGACTCAACTTTACTTAGGAGGTATGAGCTATTATTGTAAATCACATAAACCACCCATTAGTTTTCCATTGTGTGCTAATGGACAAGTTTTTGGTTTATATAAAAATACATGTGTTGGTAGCGATAATGTTACTGACTTTAATGCAATTGCAACATGTGACTGGACAAATGCTGGTGATTACATTTTAGCTAACACCTGTACTGAAAGACTCAAGCTTTTTGCAGCAGAAACGCTCAAAGCTACTGAGGAGACATTTAAACTGTCTTATGGTATTGCTACTGTACGTGAAGTGCTGTCTGACAGAGAATTACATCTTTCATGGGAAGTTGGTAAACCTAGACCACCACTTAACCGAAATTATGTCTTTACTGGTTATCGTGTAACTAAAAACAGTAAAGTACAAATAGGAGAGTACACCTTTGAAAAAGGTGACTATGGTGATGCTGTTGTTTACCGAGGTACAACAACTTACAAATTAAATGTTGGTGATTATTTTGTGCTGACATCACATACAGTAATGCCATTAAGTGCACCTACACTAGTGCCACAAGAGCACTATGTTAGAATTACTGGCTTATACCCAACACTCAATATCTCAGATGAGTTTTCTAGCAATGTTGCAAATTATCAAAAGGTTGGTATGCAAAAGTATTCTACACTCCAGGGACCACCTGGTACTGGTAAGAGTCATTTTGCTATTGGCCTAGCTCTCTACTACCCTTCTGCTCGCATAGTGTATACAGCTTGCTCTCATGCCGCTGTTGATGCACTATGTGAGAAGGCATTAAAATATTTGCCTATAGATAAATGTAGTAGAATTATACCTGCACGTGCTCGTGTAGAGTGTTTTGATAAATTCAAAGTGAATTCAACATTAGAACAGTATGTCTTTTGTACTGTAAATGCATTGCCTGAGACGACAGCAGATATAGTTGTCTTTGATGAAATTTCAATGGCCACAAATTATGATTTGAGTGTTGTCAATGCCAGATTACGTGCTAAGCACTATGTGTACATTGGCGACCCTGCTCAATTACCTGCACCACGCACATTGCTAACTAAGGGCACACTAGAACCAGAATATTTCAATTCAGTGTGTAGACTTATGAAAACTATAGGTCCAGACATGTTCCTCGGAACTTGTCGGCGTTGTCCTGCTGAAATTGTTGACACTGTGAGTGCTTTGGTTTATGATAATAAGCTTAAAGCACATAAAGACAAATCAGCTCAATGCTTTAAAATGTTTTATAAGGGTGTTATCACGCATGATGTTTCATCTGCAATTAACAGGCCACAAATAGGCGTGGTAAGAGAATTCCTTACACGTAACCCTGCTTGGAGAAAAGCTGTCTTTATTTCACCTTATAATTCACAGAATGCTGTAGCCTCAAAGATTTTGGGACTACCAACTCAAACTGTTGATTCATCACAGGGCTCAGAATATGACTATGTCATATTCACTCAAACCACTGAAACAGCTCACTCTTGTAATGTAAACAGATTTAATGTTGCTATTACCAGAGCAAAAGTAGGCATACTTTGCATAATGTCTGATAGAGACCTTTATGACAAGTTGCAATTTACAAGTCTTGAAATTCCACGTAGGAATGTGGCAACTTTACAAGCTGAAAATGTAACAGGACTCTTTAAAGATTGTAGTAAGGTAATCACTGGGTTACATCCTACACAGGCACCTACACACCTCAGTGTTGACACTAAATTCAAAACTGAAGGTTTATGTGTTGACATACCTGGCATACCTAAGGACATGACCTATAGAAGACTCATCTCTATGATGGGTTTTAAAATGAATTATCAAGTTAATGGTTACCCTAACATGTTTATCACCCGCGAAGAAGCTATAAGACATGTACGTGCATGGATTGGCTTCGATGTCGAGGGGTGTCATGCTACTAGAGAAGCTGTTGGTACCAATTTACCTTTACAGCTAGGTTTTTCTACAGGTGTTAACCTAGTTGCTGTACCTACAGGTTATGTTGATACACCTAATAATACAGATTTTTCCAGAGTTAGTGCTAAACCACCGCCTGGAGATCAATTTAAACACCTCATACCACTTATGTACAAAGGACTTCCTTGGAATGTAGTGCGTATAAAGATTGTACAAATGTTAAGTGACACACTTAAAAATCTCTCTGACAGAGTCGTATTTGTCTTATGGGCACATGGCTTTGAGTTGACATCTATGAAGTATTTTGTGAAAATAGGACCTGAGCGCACCTGTTGTCTATGTGATAGACGTGCCACATGCTTTTCCACTGCTTCAGACACTTATGCCTGTTGGCATCATTCTATTGGATTTGATTACGTCTATAATCCGTTTATGATTGATGTTCAACAATGGGGTTTTACAGGTAACCTACAAAGCAACCATGATCTGTATTGTCAAGTCCATGGTAATGCACATGTAGCTAGTTGTGATGCAATCATGACTAGGTGTCTAGCTGTCCACGAGTGCTTTGTTAAGCGTGTTGACTGGACTATTGAATATCCTATAATTGGTGATGAACTGAAGATTAATGCGGCTTGTAGAAAGGTTCAACACATGGTTGTTAAAGCTGCATTATTAGCAGACAAATTCCCAGTTCTTCACGACATTGGTAACCCTAAAGCTATTAAGTGTGTACCTCAAGCTGATGTAGAATGGAAGTTCTATGATGCACAGCCTTGTAGTGACAAAGCTTATAAAATAGAAGAATTATTCTATTCTTATGCCACACATTCTGACAAATTCACAGATGGTGTATGCCTATTTTGGAATTGCAATGTCGATAGATATCCTGCTAATTCCATTGTTTGTAGATTTGACACTAGAGTGCTATCTAACCTTAACTTGCCTGGTTGTGATGGTGGCAGTTTGTATGTAAATAAACATGCATTCCACACACCAGCTTTTGATAAAAGTGCTTTTGTTAATTTAAAACAATTACCATTTTTCTATTACTCTGACAGTCCATGTGAGTCTCATGGAAAACAAGTAGTGTCAGATATAGATTATGTACCACTAAAGTCTGCTACGTGTATAACACGTTGCAATTTAGGTGGTGCTGTCTGTAGACATCATGCTAATGAGTACAGATTGTATCTCGATGCTTATAACATGATGATCTCAGCTGGCTTTAGCTTGTGGGTTTACAAACAATTTGATACTTATAACCTCTGGAACACTTTTACAAGACTTCAGAGTTTAGAAAATGTGGCTTTTAATGTTGTAAATAAGGGACACTTTGATGGACAACAGGGTGAAGTACCAGTTTCTATCATTAATAACACTGTTTACACAAAAGTTGATGGTGTTGATGTAGAATTGTTTGAAAATAAAACAACATTACCTGTTAATGTAGCATTTGAGCTTTGGGCTAAGCGCAACATTAAACCAGTACCAGAGGTGAAAATACTCAATAATTTGGGTGTGGACATTGCTGCTAATACTGTGATCTGGGACTACAAAAGAGATGCTCCAGCACATATATCTACTATTGGTGTTTGTTCTATGACTGACATAGCCAAGAAACCAACTGAAACGATTTGTGCACCACTCACTGTCTTTTTTGATGGTAGAGTTGATGGTCAAGTAGACTTATTTAGAAATGCCCGTAATGGTGTTCTTATTACAGAAGGTAGTGTTAAAGGTTTACAACCATCTGTAGGTCCCAAACAAGCTAGTCTTAATGGAGTCACATTAATTGGAGAAGCCGTAAAAACACAGTTCAATTATTATAAGAAAGTTGATGGTGTTGTCCAACAATTACCTGAAACTTACTTTACTCAGAGTAGAAATTTACAAGAATTTAAACCCAGGAGTCAAATGGAAATTGATTTCTTAGAATTAGCTATGGATGAATTCATTGAACGGTATAAATTAGAAGGCTATGCCTTCGAACATATCGTTTATGGAGATTTTAGTCATAGTCAGTTAGGTGGTTTACATCTACTGATTGGACTAGCTAAACGTTTTAAGGAATCACCTTTTGAATTAGAAGATTTTATTCCTATGGACAGTACAGTTAAAAACTATTTCATAACAGATGCGCAAACAGGTTCATCTAAGTGTGTGTGTTCTGTTATTGATTTATTACTTGATGATTTTGTTGAAATAATAAAATCCCAAGATTTATCTGTAGTTTCTAAGGTTGTCAAAGTGACTATTGACTATACAGAAATTTCATTTATGCTTTGGTGTAAAGATGGCCATGTAGAAACATTTTACCCAAAATTACAATCTAGTCAAGCGTGGCAACCGGGTGTTGCTATGCCTAATCTTTACAAAATGCAAAGAATGCTATTAGAAAAGTGTGACCTTCAAAATTATGGTGATAGTGCAACATTACCTAAAGGCATAATGATGAATGTCGCAAAATATACTCAACTGTGTCAATATTTAAACACATTAACATTAGCTGTACCCTATAATATGAGAGTTATACATTTTGGTGCTGGTTCTGATAAAGGAGTTGCACCAGGTACAGCTGTTTTAAGACAGTGGTTGCCTACGGGTACGCTGCTTGTCGATTCAGATCTTAATGACTTTGTCTCTGATGCAGATTCAACTTTGATTGGTGATTGTGCAACTGTACATACAGCTAATAAATGGGATCTCATTATTAGTGATATGTACGACCCTAAGACTAAAAATGTTACAAAAGAAAATGACTCTAAAGAGGGTTTTTTCACTTACATTTGTGGGTTTATACAACAAAAGCTAGCTCTTGGAGGTTCCGTGGCTATAAAGATAACAGAACATTCTTGGAATGCTGATCTTTATAAGCTCATGGGACACTTCGCATGGTGGACAGCCTTTGTTACTAATGTGAATGCGTCATCATCTGAAGCATTTTTAATTGGATGTAATTATCTTGGCAAACCACGCGAACAAATAGATGGTTATGTCATGCATGCAAATTACATATTTTGGAGGAATACAAATCCAATTCAGTTGTCTTCCTATTCTTTATTTGACATGAGTAAATTTCCCCTTAAATTAAGGGGTACTGCTGTTATGTCTTTAAAAGAAGGTCAAATCAATGATATGATTTTATCTCTTCTTAGTAAAGGTAGACTTATAATTAGAGAAAACAACAGAGTTGTTATTTCTAGTGATGTTCTTGTTAACAACTAAACGAACAATGTTTGTTTTTCTTGTTTTATTGCCACTAGTCTCTAGTCAGTGTGTTAATCTTACAACCAGAACTCAATTACCCCCTGCATACACTAATTCTTTCACACGTGGTGTTTATTACCCTGACAAAGTTTTCAGATCCTCAGTTTTACATTCAACTCAGGACTTGTTCTTACCTTTCTTTTCCAATGTTACTTGGTTCCATGCTATACATGTCTCTGGGACCAATGGTACTAAGAGGTTTGATAACCCTGTCCTACCATTTAATGATGGTGTTTATTTTGCTTCCACTGAGAAGTCTAACATAATAAGAGGCTGGATTTTTGGTACTACTTTAGATTCGAAGACCCAGTCCCTACTTATTGTTAATAACGCTACTAATGTTGTTATTAAAGTCTGTGAATTTCAATTTTGTAATGATCCATTTTTGGGTGTTTATTACCACAAAAACAACAAAAGTTGGATGGAAAGTGAGTTCAGAGTTTATTCTAGTGCGAATAATTGCACTTTTGAATATGTCTCTCAGCCTTTTCTTATGGACCTTGAAGGAAAACAGGGTAATTTCAAAAATCTTAGGGAATTTGTGTTTAAGAATATTGATGGTTATTTTAAAATATATTCTAAGCACACGCCTATTAATTTAGTGCGTGATCTCCCTCAGGGTTTTTCGGCTTTAGAACCATTGGTAGATTTGCCAATAGGTATTAACATCACTAGGTTTCAAACTTTACTTGCTTTACATAGAAGTTATTTGACTCCTGGTGATTCTTCTTCAGGTTGGACAGCTGGTGCTGCAGCTTATTATGTGGGTTATCTTCAACCTAGGACTTTTCTATTAAAATATAATGAAAATGGAACCATTACAGATGCTGTAGACTGTGCACTTGACCCTCTCTCAGAAACAAAGTGTACGTTGAAATCCTTCACTGTAGAAAAAGGAATCTATCAAACTTCTAACTTTAGAGTCCAACCAACAGAATCTATTGTTAGATTTCCTAATATTACAAACTTGTGCCCTTTTGGTGAAGTTTTTAACGCCACCAGATTTGCATCTGTTTATGCTTGGAACAGGAAGAGAATCAGCAACTGTGTTGCTGATTATTCTGTCCTATATAATTCCGCATCATTTTCCACTTTTAAGTGTTATGGAGTGTCTCCTACTAAATTAAATGATCTCTGCTTTACTAATGTCTATGCAGATTCATTTGTAATTAGAGGTGATGAAGTCAGACAAATCGCTCCAGGGCAAACTGGAAAGATTGCTGATTATAATTATAAATTACCAGATGATTTTACAGGCTGCGTTATAGCTTGGAATTCTAACAATCTTGATTCTAAGGTTGGTGGTAATTATAATTACCTGTATAGATTGTTTAGGAAGTCTAATCTCAAACCTTTTGAGAGAGATATTTCAACTGAAATCTATCAGGCCGGTAGCACACCTTGTAATGGTGTTGAAGGTTTTAATTGTTACTTTCCTTTACAATCATATGGTTTCCAACCCACTAATGGTGTTGGTTACCAACCATACAGAGTAGTAGTACTTTCTTTTGAACTTCTACATGCACCAGCAACTGTTTGTGGACCTAAAAAGTCTACTAATTTGGTTAAAAACAAATGTGTCAATTTCAACTTCAATGGTTTAACAGGCACAGGTGTTCTTACTGAGTCTAACAAAAAGTTTCTGCCTTTCCAACAATTTGGCAGAGACATTGCTGACACTACTGATGCTGTCCGTGATCCACAGACACTTGAGATTCTTGACATTACACCATGTTCTTTTGGTGGTGTCAGTGTTATAACACCAGGAACAAATACTTCTAACCAGGTTGCTGTTCTTTATCAGGGTGTTAACTGCACAGAAGTCCCTGTTGCTATTCATGCAGATCAACTTACTCCTACTTGGCGTGTTTATTCTACAGGTTCTAATGTTTTTCAAACACGTGCAGGCTGTTTAATAGGGGCTGAACATGTCAACAACTCATATGAGTGTGACATACCCATTGGTGCAGGTATATGCGCTAGTTATCAGACTCAGACTAATTCTCCTCGGCGGGCACGTAGTGTAGCTAGTCAATCCATCATTGCCTACACTATGTCACTTGGTGCAGAAAATTCAGTTGCTTACTCTAATAACTCTATTGCCATACCCACAAATTTTACTATTAGTGTTACCACAGAAATTCTACCAGTGTCTATGACCAAGACATCAGTAGATTGTACAATGTACATTTGTGGTGATTCAACTGAATGCAGCAATCTTTTGTTGCAATATGGCAGTTTTTGTACACAATTAAACCGTGCTTTAACTGGAATAGCTGTTGAACAAGACAAAAACACCCAAGAAGTTTTTGCACAAGTCAAACAAATTTACAAAACACCACCAATTAAAGATTTTGGTGGTTTTAATTTTTCACAAATATTACCAGATCCATCAAAACCAAGCAAGAGGTCATTTATTGAAGATCTACTTTTCAACAAAGTGACACTTGCAGATGCTGGCTTCATCAAACAATATGGTGATTGCCTTGGTGATATTGCTGCTAGAGACCTCATTTGTGCACAAAAGTTTAACGGCCTTACTGTTTTGCCACCTTTGCTCACAGATGAAATGATTGCTCAATACACTTCTGCACTGTTAGCGGGTACAATCACTTCTGGTTGGACCTTTGGTGCAGGTGCTGCATTACAAATACCATTTGCTATGCAAATGGCTTATAGGTTTAATGGTATTGGAGTTACACAGAATGTTCTCTATGAGAACCAAAAATTGATTGCCAACCAATTTAATAGTGCTATTGGCAAAATTCAAGACTCACTTTCTTCCACAGCAAGTGCACTTGGAAAACTTCAAGATGTGGTCAACCAAAATGCACAAGCTTTAAACACGCTTGTTAAACAACTTAGCTCCAATTTTGGTGCAATTTCAAGTGTTTTAAATGATATCCTTTCACGTCTTGACAAAGTTGAGGCTGAAGTGCAAATTGATAGGTTGATCACAGGCAGACTTCAAAGTTTGCAGACATATGTGACTCAACAATTAATTAGAGCTGCAGAAATCAGAGCTTCTGCTAATCTTGCTGCTACTAAAATGTCAGAGTGTGTACTTGGACAATCAAAAAGAGTTGATTTTTGTGGAAAGGGCTATCATCTTATGTCCTTCCCTCAGTCAGCACCTCATGGTGTAGTCTTCTTGCATGTGACTTATGTCCCTGCACAAGAAAAGAACTTCACAACTGCTCCTGCCATTTGTCATGATGGAAAAGCACACTTTCCTCGTGAAGGTGTCTTTGTTTCAAATGGCACACACTGGTTTGTAACACAAAGGAATTTTTATGAACCACAAATCATTACTACAGACAACACATTTGTGTCTGGTAACTGTGATGTTGTAATAGGAATTGTCAACAACACAGTTTATGATCCTTTGCAACCTGAATTAGACTCATTCAAGGAGGAGTTAGATAAATATTTTAAGAATCATACATCACCAGATGTTGATTTAGGTGACATCTCTGGCATTAATGCTTCAGTTGTAAACATTCAAAAAGAAATTGACCGCCTCAATGAGGTTGCCAAGAATTTAAATGAATCTCTCATCGATCTCCAAGAACTTGGAAAGTATGAGCAGTATATAAAATGGCCATGGTACATTTGGCTAGGTTTTATAGCTGGCTTGATTGCCATAGTAATGGTGACAATTATGCTTTGCTGTATGACCAGTTGCTGTAGTTGTCTCAAGGGCTGTTGTTCTTGTGGATCCTGCTGCAAATTTGATGAAGACGACTCTGAGCCAGTGCTCAAAGGAGTCAAATTACATTACACATAAACGAACTTATGGATTTGTTTATGAGAATCTTCACAATTGGAACTGTAACTTTGAAGCAAGGTGAAATCAAGGATGCTACTCCTTCAGATTTTGTTCGCGCTACTGCAACGATACCGATACAAGCCTCACTCCCTTTCGGATGGCTTATTGTTGGCGTTGCACTTCTTGCTGTTTTTCAGAGCGCTTCCAAAATCATAACCCTCAAAAAGAGATGGCAACTAGCACTCTCCAAGGGTGTTCACTTTGTTTGCAACTTGCTGTTGTTGTTTGTAACAGTTTACTCACACCTTTTGCTCGTTGCTGCTGGCCTTGAAGCCCCTTTTCTCTATCTTTATGCTTTAGTCTACTTCTTGCAGAGTATAAACTTTGTAAGAATAATAATGAGGCTTTGGCTTTGCTGGAAATGCCGTTCCAAAAACCCATTACTTTATGATGCCAACTATTTTCTTTGCTGGCATACTAATTGTTACGACTATTGTATACCTTACAATAGTGTAACTTCTTCAATTGTCATTACTTCAGGTGATGGCACAACAAGTCCTATTTCTGAACATGACTACCAGATTGGTGGTTATACTGAAAAATGGGAATCTGGAGTAAAAGACTGTGTTGTATTACACAGTTACTTCACTTCAGACTATTACCAGCTGTACTCAACTCAATTGAGTACAGACACTGGTGTTGAACATGTTACCTTCTTCATCTACAATAAAATTGTTGATGAGCCTGAAGAACATGTCCAAATTCACACAATCGACGGTTCATCCGGAGTTGTTAATCCAGTAATGGAACCAATTTATGATGAACCGACGACGACTACTAGCGTGCCTTTGTAAGCACAAGCTGATGAGTACGAACTTATGTACTCATTCGTTTCGGAAGAGACAGGTACGTTAATAGTTAATAGCGTACTTCTTTTTCTTGCTTTCGTGGTATTCTTGCTAGTTACACTAGCCATCCTTACTGCGCTTCGATTGTGTGCGTACTGCTGCAATATTGTTAACGTGAGTCTTGTAAAACCTTCTTTTTACGTTTACTCTCGTGTTAAAAATCTGAATTCTTCTAGAGTTCCTGATCTTCTGGTCTAAACGAACTAAATATTATATTAGTTTTTCTGTTTGGAACTTTAATTTTAGCCATGGCAGATTCCAACGGTACTATTACCGTTGAAGAGCTTAAAAAGCTCCTTGAACAATGGAACCTAGTAATAGGTTTCCTATTCCTTACATGGATTTGTCTTCTACAATTTGCCTATGCCAACAGGAATAGGTTTTTGTATATAATTAAGTTAATTTTCCTCTGGCTGTTATGGCCAGTAACTTTAGCTTGTTTTGTGCTTGCTGCTGTTTACAGAATAAATTGGATCACCGGTGGAATTGCTATCGCAATGGCTTGTCTTGTAGGCTTGATGTGGCTCAGCTACTTCATTGCTTCTTTCAGACTGTTTGCGCGTACGCGTTCCATGTGGTCATTCAATCCAGAAACTAACATTCTTCTCAACGTGCCACTCCATGGCACTATTCTGACCAGACCGCTTCTAGAAAGTGAACTCGTAATCGGAGCTGTGATCCTTCGTGGACATCTTCGTATTGCTGGACACCATCTAGGACGCTGTGACATCAAGGACCTGCCTAAAGAAATCACTGTTGCTACATCACGAACGCTTTCTTATTACAAATTGGGAGCTTCGCAGCGTGTAGCAGGTGACTCAGGTTTTGCTGCATACAGTCGCTACAGGATTGGCAACTATAAATTAAACACAGACCATTCCAGTAGCAGTGACAATATTGCTTTGCTTGTACAGTAAGTGACAACAGATGTTTCATCTCGTTGACTTTCAGGTTACTATAGCAGAGATATTACTAATTATTATGAGGACTTTTAAAGTTTCCATTTGGAATCTTGATTACATCATAAACCTCATAATTAAAAATTTATCTAAGTCACTAACTGAGAATAAATATTCTCAATTAGATGAAGAGCAACCAATGGAGATTGATTAAACGAACATGAAAATTATTCTTTTCTTGGCACTGATAACACTCGCTACTTGTGAGCTTTATCACTACCAAGAGTGTGTTAGAGGTACAACAGTACTTTTAAAAGAACCTTGCTCTTCTGGAACATACGAGGGCAATTCACCATTTCATCCTCTAGCTGATAACAAATTTGCACTGACTTGCTTTAGCACTCAATTTGCTTTTGCTTGTCCTGACGGCGTAAAACACGTCTATCAGTTACGTGCCAGATCAGTTTCACCTAAACTGTTCATCAGACAAGAGGAAGTTCAAGAACTTTACTCTCCAATTTTTCTTATTGTTGCGGCAATAGTGTTTATAACACTTTGCTTCACACTCAAAAGAAAGACAGAATGATTGAACTTTCATTAATTGACTTCTATTTGTGCTTTTTAGCCTTTCTGCTATTCCTTGTTTTAATTATGCTTATTATCTTTTGGTTCTCACTTGAACTGCAAGATCATAATGAAACTTGTCACGCCTAAACGAACATGAAATTTCTTGTTTTCTTAGGAATCATCACAACTGTAGCTGCATTTCACCAAGAATGTAGTTTACAGTCATGTACTCAACATCAACCATATGTAGTTGATGACCCGTGTCCTATTCACTTCTATTCTAAATGGTATATTAGAGTAGGAGCTAGAAAATCAGCACCTTTAATTGAATTGTGCGTGGATGAGGCTGGTTCTAAATCACCCATTCAGTACATCGATATCGGTAATTATACAGTTTCCTGTTTACCTTTTACAATTAATTGCCAGGAACCTAAATTGGGTAGTCTTGTAGTGCGTTGTTCGTTCTATGAAGACTTTTTAGAGTATCATGACGTTCGTGTTGTTTTAGATTTCATCTAAACGAACAAACTAAAATGTCTGATAATGGACCCCAAAATCAGCGAAATGCACCCCGCATTACGTTTGGTGGACCCTCAGATTCAACTGGCAGTAACCAGAATGGAGAACGCAGTGGGGCGCGATCAAAACAACGTCGGCCCCAAGGTTTACCCAATAATACTGCGTCTTGGTTCACCGCTCTCACTCAACATGGCAAGGAAGACCTTAAATTCCCTCGAGGACAAGGCGTTCCAATTAACACCAATAGCAGTCCAGATGACCAAATTGGCTACTACCGAAGAGCTACCAGACGAATTCGTGGTGGTGACGGTAAAATGAAAGATCTCAGTCCAAGATGGTATTTCTACTACCTAGGAACTGGGCCAGAAGCTGGACTTCCCTATGGTGCTAACAAAGACGGCATCATATGGGTTGCAACTGAGGGAGCCTTGAATACACCAAAAGATCACATTGGCACCCGCAATCCTGCTAACAATGCTGCAATCGTGCTACAACTTCCTCAAGGAACAACATTGCCAAAAGGCTTCTACGCAGAAGGGAGCAGAGGCGGCAGTCAAGCCTCTTCTCGTTCCTCATCACGTAGTCGCAACAGTTCAAGAAATTCAACTCCAGGCAGCAGTAAACGAACTTCTCCTTCTAGAATGGCTGGCAATGGCGGTGATGCTGCTCTTGCTTTGCTGCTGCTTGACAGATTGAACCAGCTTGAGAGCAAAATGTCTGGTAAAGGCCAACAACAACAAGGCCAAACTGTCACTAAGAAATCTGCTGCTGAGGCTTCTAAGAAGCCTCGGCAAAAACGTACTGCCACTAAAGCATACAATGTAACACAAGCTTTCGGCAGACGTGGTCCAGAACAAACCCAAGGAAATTTTGGGGACCAGGAACTAATCAGACAAGGAACTGATTACAAACATTGGCCGCAAATTGCACAATTTGCCCCCAGCGCTTCAGCGTTCTTCGGAATGTCGCGCATTGGCATGGAAGTCACACCTTCGGGAACGTGGTTGACCTACACAGGTGCCATCAAATTGGATGACAAAGATCCAAATTTCAAAGATCAAGTCATTTTGCTGAATAAGCATATTGACGCATACAAAACATTCCCACCAACAGAGCCTAAAAAGGACAAAAAGAAGAAGGCTGATGAAACTCAAGCCTTACCGCAGAGACAGAAGAAACAGCAAACTGTGACTCTTCTTCCTGCTGCAGATTTGGATGATTTCTCCAAACAATTGCAACAATCCATGAGCAGTGCTGACTCAACTCAGGCCTAAACTCATGCAGACCACACAAGGCAGATGGGCTATATAAACGTTTTCGCTTTTCCGTTTACGATATATAGTCTACTCTTGTGCAGAATGAATTCTCGTAACTACATAGCACAAGTAGATGTAGTTAACTTTAATCTCACATAGCAATCTTTAATCAGTGTGTAACATTAGGGAGGACTTGAAAGAGCCACCACATTTTCACCGAGGCCACGCGGAGTACGATCGAGTGTACAGTGAACAATGCTAGGGAGAGCTGCCTATATGGAAGAGCCCTAATGTGTAAAATTAATTTTAGTAGTGCTATCCCCATGTGATTTTAATAGCTTCTTAGGAGAATGACAAAAAAAAAAAAAAAAAAAAAAAAAAAAAAAAA\n"
          ],
          "name": "stdout"
        }
      ]
    },
    {
      "cell_type": "markdown",
      "metadata": {
        "id": "k-JayiMdnF2a",
        "colab_type": "text"
      },
      "source": [
        "# Train on full dataset\n",
        "\n",
        "Training was very slow due to the huge amount of samples, so I did not train the model."
      ]
    },
    {
      "cell_type": "markdown",
      "metadata": {
        "id": "C2QARSk9n7Js",
        "colab_type": "text"
      },
      "source": [
        "## Encode"
      ]
    },
    {
      "cell_type": "code",
      "metadata": {
        "id": "YdYsN2X_n51w",
        "colab_type": "code",
        "colab": {
          "base_uri": "https://localhost:8080/",
          "height": 101
        },
        "outputId": "b92f13c3-5cdd-4764-ac6f-13757f37d8cc"
      },
      "source": [
        "%%time\n",
        "tokenizer = keras.preprocessing.text.Tokenizer(lower=False, char_level=True)\n",
        "tokenizer.fit_on_texts(records)\n",
        "sequences = tokenizer.texts_to_sequences(records)\n",
        "sequences = np.asarray(sequences) - 1\n",
        "n_vocabs = len(tokenizer.index_word)\n",
        "\n",
        "print('sequences_sub shape:', sequences.shape)\n",
        "print('vocabs:', [key for key in tokenizer.word_index])\n",
        "print('n_vocabs:', n_vocabs)"
      ],
      "execution_count": null,
      "outputs": [
        {
          "output_type": "stream",
          "text": [
            "sequences_sub shape: (14277, 29903)\n",
            "vocabs: ['T', 'A', 'G', 'C', 'N', '-', 'Y', 'K', 'R', 'W', 'S', 'M', 'V', 'H', 'B', 'D']\n",
            "n_vocabs: 16\n",
            "CPU times: user 3min 18s, sys: 10.6 s, total: 3min 29s\n",
            "Wall time: 3min 29s\n"
          ],
          "name": "stdout"
        }
      ]
    },
    {
      "cell_type": "markdown",
      "metadata": {
        "id": "AeP6-6wuoRlm",
        "colab_type": "text"
      },
      "source": [
        "## Create the dataset"
      ]
    },
    {
      "cell_type": "code",
      "metadata": {
        "id": "xhe84lMzoNDD",
        "colab_type": "code",
        "colab": {}
      },
      "source": [
        "window_size = 10000\n",
        "batch_size = 128\n",
        "\n",
        "def data_generator():\n",
        "    for i in range(len(records)):\n",
        "        for t in range(seq_len - window_size):\n",
        "            yield (keras.utils.to_categorical(sequences[i][t:t + window_size], n_vocabs),\n",
        "                   keras.utils.to_categorical(sequences[i][t + window_size], n_vocabs))\n",
        "            \n",
        "dataset = tf.data.Dataset.from_generator(data_generator, (tf.float32, tf.float32),\n",
        "                                         ((window_size,n_vocabs), (n_vocabs)))\n",
        "dataset = dataset.shuffle(1000).batch(batch_size).prefetch(2)"
      ],
      "execution_count": null,
      "outputs": []
    },
    {
      "cell_type": "markdown",
      "metadata": {
        "id": "pngzpnwct_Dj",
        "colab_type": "text"
      },
      "source": [
        "## Build the model"
      ]
    },
    {
      "cell_type": "code",
      "metadata": {
        "id": "Em94rfv2EG75",
        "colab_type": "code",
        "colab": {
          "base_uri": "https://localhost:8080/",
          "height": 218
        },
        "outputId": "f8870680-f1c2-4571-9945-4b0d9b170504"
      },
      "source": [
        "keras.backend.clear_session()\n",
        "\n",
        "model = keras.Sequential([\n",
        "    keras.layers.Input(shape=(window_size, n_vocabs)),\n",
        "    # keras.layers.LSTM(128, return_sequences=True),\n",
        "    keras.layers.LSTM(128),\n",
        "    keras.layers.Dense(n_vocabs, activation='softmax')\n",
        "])\n",
        "optimizer = keras.optimizers.RMSprop()\n",
        "model.compile(optimizer=optimizer, loss='categorical_crossentropy')\n",
        "model.summary()"
      ],
      "execution_count": null,
      "outputs": [
        {
          "output_type": "stream",
          "text": [
            "Model: \"sequential\"\n",
            "_________________________________________________________________\n",
            "Layer (type)                 Output Shape              Param #   \n",
            "=================================================================\n",
            "lstm (LSTM)                  (None, 128)               74240     \n",
            "_________________________________________________________________\n",
            "dense (Dense)                (None, 16)                2064      \n",
            "=================================================================\n",
            "Total params: 76,304\n",
            "Trainable params: 76,304\n",
            "Non-trainable params: 0\n",
            "_________________________________________________________________\n"
          ],
          "name": "stdout"
        }
      ]
    },
    {
      "cell_type": "code",
      "metadata": {
        "id": "M7ThMbkF1wum",
        "colab_type": "code",
        "colab": {}
      },
      "source": [
        "# 2s/step\n",
        "# 2562/Unknown - 3896s 2s/step - loss: 1.3352\n",
        "# model.fit(dataset, batch_size=batch_size, epochs=1)"
      ],
      "execution_count": null,
      "outputs": []
    },
    {
      "cell_type": "code",
      "metadata": {
        "id": "vsAariDzG5Io",
        "colab_type": "code",
        "colab": {}
      },
      "source": [
        ""
      ],
      "execution_count": null,
      "outputs": []
    }
  ]
}