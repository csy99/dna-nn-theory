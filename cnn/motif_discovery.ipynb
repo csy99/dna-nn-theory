{
  "nbformat": 4,
  "nbformat_minor": 0,
  "metadata": {
    "colab": {
      "name": "motif-discovery.ipynb",
      "provenance": [],
      "collapsed_sections": [],
      "mount_file_id": "10s6gDLOxjWTT6VEBueXcKulu35raQJ3B",
      "authorship_tag": "ABX9TyN/gCksEawPutJyfPbp6Nt0"
    },
    "kernelspec": {
      "name": "python3",
      "display_name": "Python 3"
    },
    "accelerator": "GPU"
  },
  "cells": [
    {
      "cell_type": "code",
      "metadata": {
        "colab": {
          "base_uri": "https://localhost:8080/"
        },
        "id": "70oa96_TmSd0",
        "outputId": "07c813f5-1539-4f4e-bfc8-80f93c993b5d"
      },
      "source": [
        "!pip install -q biopython\n",
        "\n",
        "%load_ext autoreload\n",
        "%autoreload 2\n",
        "\n",
        "from google.colab import drive\n",
        "drive.mount('/content/drive')"
      ],
      "execution_count": null,
      "outputs": [
        {
          "output_type": "stream",
          "text": [
            "\u001b[?25l\r\u001b[K     |▏                               | 10kB 23.6MB/s eta 0:00:01\r\u001b[K     |▎                               | 20kB 16.4MB/s eta 0:00:01\r\u001b[K     |▍                               | 30kB 14.0MB/s eta 0:00:01\r\u001b[K     |▋                               | 40kB 12.9MB/s eta 0:00:01\r\u001b[K     |▊                               | 51kB 8.9MB/s eta 0:00:01\r\u001b[K     |▉                               | 61kB 9.3MB/s eta 0:00:01\r\u001b[K     |█                               | 71kB 9.5MB/s eta 0:00:01\r\u001b[K     |█▏                              | 81kB 10.5MB/s eta 0:00:01\r\u001b[K     |█▎                              | 92kB 9.4MB/s eta 0:00:01\r\u001b[K     |█▌                              | 102kB 8.6MB/s eta 0:00:01\r\u001b[K     |█▋                              | 112kB 8.6MB/s eta 0:00:01\r\u001b[K     |█▊                              | 122kB 8.6MB/s eta 0:00:01\r\u001b[K     |██                              | 133kB 8.6MB/s eta 0:00:01\r\u001b[K     |██                              | 143kB 8.6MB/s eta 0:00:01\r\u001b[K     |██▏                             | 153kB 8.6MB/s eta 0:00:01\r\u001b[K     |██▎                             | 163kB 8.6MB/s eta 0:00:01\r\u001b[K     |██▌                             | 174kB 8.6MB/s eta 0:00:01\r\u001b[K     |██▋                             | 184kB 8.6MB/s eta 0:00:01\r\u001b[K     |██▊                             | 194kB 8.6MB/s eta 0:00:01\r\u001b[K     |███                             | 204kB 8.6MB/s eta 0:00:01\r\u001b[K     |███                             | 215kB 8.6MB/s eta 0:00:01\r\u001b[K     |███▏                            | 225kB 8.6MB/s eta 0:00:01\r\u001b[K     |███▍                            | 235kB 8.6MB/s eta 0:00:01\r\u001b[K     |███▌                            | 245kB 8.6MB/s eta 0:00:01\r\u001b[K     |███▋                            | 256kB 8.6MB/s eta 0:00:01\r\u001b[K     |███▉                            | 266kB 8.6MB/s eta 0:00:01\r\u001b[K     |████                            | 276kB 8.6MB/s eta 0:00:01\r\u001b[K     |████                            | 286kB 8.6MB/s eta 0:00:01\r\u001b[K     |████▏                           | 296kB 8.6MB/s eta 0:00:01\r\u001b[K     |████▍                           | 307kB 8.6MB/s eta 0:00:01\r\u001b[K     |████▌                           | 317kB 8.6MB/s eta 0:00:01\r\u001b[K     |████▋                           | 327kB 8.6MB/s eta 0:00:01\r\u001b[K     |████▉                           | 337kB 8.6MB/s eta 0:00:01\r\u001b[K     |█████                           | 348kB 8.6MB/s eta 0:00:01\r\u001b[K     |█████                           | 358kB 8.6MB/s eta 0:00:01\r\u001b[K     |█████▎                          | 368kB 8.6MB/s eta 0:00:01\r\u001b[K     |█████▍                          | 378kB 8.6MB/s eta 0:00:01\r\u001b[K     |█████▌                          | 389kB 8.6MB/s eta 0:00:01\r\u001b[K     |█████▊                          | 399kB 8.6MB/s eta 0:00:01\r\u001b[K     |█████▉                          | 409kB 8.6MB/s eta 0:00:01\r\u001b[K     |██████                          | 419kB 8.6MB/s eta 0:00:01\r\u001b[K     |██████                          | 430kB 8.6MB/s eta 0:00:01\r\u001b[K     |██████▎                         | 440kB 8.6MB/s eta 0:00:01\r\u001b[K     |██████▍                         | 450kB 8.6MB/s eta 0:00:01\r\u001b[K     |██████▌                         | 460kB 8.6MB/s eta 0:00:01\r\u001b[K     |██████▊                         | 471kB 8.6MB/s eta 0:00:01\r\u001b[K     |██████▉                         | 481kB 8.6MB/s eta 0:00:01\r\u001b[K     |███████                         | 491kB 8.6MB/s eta 0:00:01\r\u001b[K     |███████▏                        | 501kB 8.6MB/s eta 0:00:01\r\u001b[K     |███████▎                        | 512kB 8.6MB/s eta 0:00:01\r\u001b[K     |███████▍                        | 522kB 8.6MB/s eta 0:00:01\r\u001b[K     |███████▋                        | 532kB 8.6MB/s eta 0:00:01\r\u001b[K     |███████▊                        | 542kB 8.6MB/s eta 0:00:01\r\u001b[K     |███████▉                        | 552kB 8.6MB/s eta 0:00:01\r\u001b[K     |████████                        | 563kB 8.6MB/s eta 0:00:01\r\u001b[K     |████████▏                       | 573kB 8.6MB/s eta 0:00:01\r\u001b[K     |████████▎                       | 583kB 8.6MB/s eta 0:00:01\r\u001b[K     |████████▍                       | 593kB 8.6MB/s eta 0:00:01\r\u001b[K     |████████▋                       | 604kB 8.6MB/s eta 0:00:01\r\u001b[K     |████████▊                       | 614kB 8.6MB/s eta 0:00:01\r\u001b[K     |████████▉                       | 624kB 8.6MB/s eta 0:00:01\r\u001b[K     |█████████                       | 634kB 8.6MB/s eta 0:00:01\r\u001b[K     |█████████▏                      | 645kB 8.6MB/s eta 0:00:01\r\u001b[K     |█████████▎                      | 655kB 8.6MB/s eta 0:00:01\r\u001b[K     |█████████▌                      | 665kB 8.6MB/s eta 0:00:01\r\u001b[K     |█████████▋                      | 675kB 8.6MB/s eta 0:00:01\r\u001b[K     |█████████▊                      | 686kB 8.6MB/s eta 0:00:01\r\u001b[K     |█████████▉                      | 696kB 8.6MB/s eta 0:00:01\r\u001b[K     |██████████                      | 706kB 8.6MB/s eta 0:00:01\r\u001b[K     |██████████▏                     | 716kB 8.6MB/s eta 0:00:01\r\u001b[K     |██████████▎                     | 727kB 8.6MB/s eta 0:00:01\r\u001b[K     |██████████▌                     | 737kB 8.6MB/s eta 0:00:01\r\u001b[K     |██████████▋                     | 747kB 8.6MB/s eta 0:00:01\r\u001b[K     |██████████▊                     | 757kB 8.6MB/s eta 0:00:01\r\u001b[K     |███████████                     | 768kB 8.6MB/s eta 0:00:01\r\u001b[K     |███████████                     | 778kB 8.6MB/s eta 0:00:01\r\u001b[K     |███████████▏                    | 788kB 8.6MB/s eta 0:00:01\r\u001b[K     |███████████▍                    | 798kB 8.6MB/s eta 0:00:01\r\u001b[K     |███████████▌                    | 808kB 8.6MB/s eta 0:00:01\r\u001b[K     |███████████▋                    | 819kB 8.6MB/s eta 0:00:01\r\u001b[K     |███████████▉                    | 829kB 8.6MB/s eta 0:00:01\r\u001b[K     |████████████                    | 839kB 8.6MB/s eta 0:00:01\r\u001b[K     |████████████                    | 849kB 8.6MB/s eta 0:00:01\r\u001b[K     |████████████▏                   | 860kB 8.6MB/s eta 0:00:01\r\u001b[K     |████████████▍                   | 870kB 8.6MB/s eta 0:00:01\r\u001b[K     |████████████▌                   | 880kB 8.6MB/s eta 0:00:01\r\u001b[K     |████████████▋                   | 890kB 8.6MB/s eta 0:00:01\r\u001b[K     |████████████▉                   | 901kB 8.6MB/s eta 0:00:01\r\u001b[K     |█████████████                   | 911kB 8.6MB/s eta 0:00:01\r\u001b[K     |█████████████                   | 921kB 8.6MB/s eta 0:00:01\r\u001b[K     |█████████████▎                  | 931kB 8.6MB/s eta 0:00:01\r\u001b[K     |█████████████▍                  | 942kB 8.6MB/s eta 0:00:01\r\u001b[K     |█████████████▌                  | 952kB 8.6MB/s eta 0:00:01\r\u001b[K     |█████████████▊                  | 962kB 8.6MB/s eta 0:00:01\r\u001b[K     |█████████████▉                  | 972kB 8.6MB/s eta 0:00:01\r\u001b[K     |██████████████                  | 983kB 8.6MB/s eta 0:00:01\r\u001b[K     |██████████████                  | 993kB 8.6MB/s eta 0:00:01\r\u001b[K     |██████████████▎                 | 1.0MB 8.6MB/s eta 0:00:01\r\u001b[K     |██████████████▍                 | 1.0MB 8.6MB/s eta 0:00:01\r\u001b[K     |██████████████▌                 | 1.0MB 8.6MB/s eta 0:00:01\r\u001b[K     |██████████████▊                 | 1.0MB 8.6MB/s eta 0:00:01\r\u001b[K     |██████████████▉                 | 1.0MB 8.6MB/s eta 0:00:01\r\u001b[K     |███████████████                 | 1.1MB 8.6MB/s eta 0:00:01\r\u001b[K     |███████████████▏                | 1.1MB 8.6MB/s eta 0:00:01\r\u001b[K     |███████████████▎                | 1.1MB 8.6MB/s eta 0:00:01\r\u001b[K     |███████████████▍                | 1.1MB 8.6MB/s eta 0:00:01\r\u001b[K     |███████████████▋                | 1.1MB 8.6MB/s eta 0:00:01\r\u001b[K     |███████████████▊                | 1.1MB 8.6MB/s eta 0:00:01\r\u001b[K     |███████████████▉                | 1.1MB 8.6MB/s eta 0:00:01\r\u001b[K     |████████████████                | 1.1MB 8.6MB/s eta 0:00:01\r\u001b[K     |████████████████▏               | 1.1MB 8.6MB/s eta 0:00:01\r\u001b[K     |████████████████▎               | 1.1MB 8.6MB/s eta 0:00:01\r\u001b[K     |████████████████▍               | 1.2MB 8.6MB/s eta 0:00:01\r\u001b[K     |████████████████▋               | 1.2MB 8.6MB/s eta 0:00:01\r\u001b[K     |████████████████▊               | 1.2MB 8.6MB/s eta 0:00:01\r\u001b[K     |████████████████▉               | 1.2MB 8.6MB/s eta 0:00:01\r\u001b[K     |█████████████████               | 1.2MB 8.6MB/s eta 0:00:01\r\u001b[K     |█████████████████▏              | 1.2MB 8.6MB/s eta 0:00:01\r\u001b[K     |█████████████████▎              | 1.2MB 8.6MB/s eta 0:00:01\r\u001b[K     |█████████████████▌              | 1.2MB 8.6MB/s eta 0:00:01\r\u001b[K     |█████████████████▋              | 1.2MB 8.6MB/s eta 0:00:01\r\u001b[K     |█████████████████▊              | 1.2MB 8.6MB/s eta 0:00:01\r\u001b[K     |█████████████████▉              | 1.3MB 8.6MB/s eta 0:00:01\r\u001b[K     |██████████████████              | 1.3MB 8.6MB/s eta 0:00:01\r\u001b[K     |██████████████████▏             | 1.3MB 8.6MB/s eta 0:00:01\r\u001b[K     |██████████████████▎             | 1.3MB 8.6MB/s eta 0:00:01\r\u001b[K     |██████████████████▌             | 1.3MB 8.6MB/s eta 0:00:01\r\u001b[K     |██████████████████▋             | 1.3MB 8.6MB/s eta 0:00:01\r\u001b[K     |██████████████████▊             | 1.3MB 8.6MB/s eta 0:00:01\r\u001b[K     |███████████████████             | 1.3MB 8.6MB/s eta 0:00:01\r\u001b[K     |███████████████████             | 1.3MB 8.6MB/s eta 0:00:01\r\u001b[K     |███████████████████▏            | 1.4MB 8.6MB/s eta 0:00:01\r\u001b[K     |███████████████████▍            | 1.4MB 8.6MB/s eta 0:00:01\r\u001b[K     |███████████████████▌            | 1.4MB 8.6MB/s eta 0:00:01\r\u001b[K     |███████████████████▋            | 1.4MB 8.6MB/s eta 0:00:01\r\u001b[K     |███████████████████▊            | 1.4MB 8.6MB/s eta 0:00:01\r\u001b[K     |████████████████████            | 1.4MB 8.6MB/s eta 0:00:01\r\u001b[K     |████████████████████            | 1.4MB 8.6MB/s eta 0:00:01\r\u001b[K     |████████████████████▏           | 1.4MB 8.6MB/s eta 0:00:01\r\u001b[K     |████████████████████▍           | 1.4MB 8.6MB/s eta 0:00:01\r\u001b[K     |████████████████████▌           | 1.4MB 8.6MB/s eta 0:00:01\r\u001b[K     |████████████████████▋           | 1.5MB 8.6MB/s eta 0:00:01\r\u001b[K     |████████████████████▉           | 1.5MB 8.6MB/s eta 0:00:01\r\u001b[K     |█████████████████████           | 1.5MB 8.6MB/s eta 0:00:01\r\u001b[K     |█████████████████████           | 1.5MB 8.6MB/s eta 0:00:01\r\u001b[K     |█████████████████████▎          | 1.5MB 8.6MB/s eta 0:00:01\r\u001b[K     |█████████████████████▍          | 1.5MB 8.6MB/s eta 0:00:01\r\u001b[K     |█████████████████████▌          | 1.5MB 8.6MB/s eta 0:00:01\r\u001b[K     |█████████████████████▊          | 1.5MB 8.6MB/s eta 0:00:01\r\u001b[K     |█████████████████████▉          | 1.5MB 8.6MB/s eta 0:00:01\r\u001b[K     |██████████████████████          | 1.5MB 8.6MB/s eta 0:00:01\r\u001b[K     |██████████████████████          | 1.6MB 8.6MB/s eta 0:00:01\r\u001b[K     |██████████████████████▎         | 1.6MB 8.6MB/s eta 0:00:01\r\u001b[K     |██████████████████████▍         | 1.6MB 8.6MB/s eta 0:00:01\r\u001b[K     |██████████████████████▌         | 1.6MB 8.6MB/s eta 0:00:01\r\u001b[K     |██████████████████████▊         | 1.6MB 8.6MB/s eta 0:00:01\r\u001b[K     |██████████████████████▉         | 1.6MB 8.6MB/s eta 0:00:01\r\u001b[K     |███████████████████████         | 1.6MB 8.6MB/s eta 0:00:01\r\u001b[K     |███████████████████████▏        | 1.6MB 8.6MB/s eta 0:00:01\r\u001b[K     |███████████████████████▎        | 1.6MB 8.6MB/s eta 0:00:01\r\u001b[K     |███████████████████████▍        | 1.6MB 8.6MB/s eta 0:00:01\r\u001b[K     |███████████████████████▋        | 1.7MB 8.6MB/s eta 0:00:01\r\u001b[K     |███████████████████████▊        | 1.7MB 8.6MB/s eta 0:00:01\r\u001b[K     |███████████████████████▉        | 1.7MB 8.6MB/s eta 0:00:01\r\u001b[K     |████████████████████████        | 1.7MB 8.6MB/s eta 0:00:01\r\u001b[K     |████████████████████████▏       | 1.7MB 8.6MB/s eta 0:00:01\r\u001b[K     |████████████████████████▎       | 1.7MB 8.6MB/s eta 0:00:01\r\u001b[K     |████████████████████████▍       | 1.7MB 8.6MB/s eta 0:00:01\r\u001b[K     |████████████████████████▋       | 1.7MB 8.6MB/s eta 0:00:01\r\u001b[K     |████████████████████████▊       | 1.7MB 8.6MB/s eta 0:00:01\r\u001b[K     |████████████████████████▉       | 1.8MB 8.6MB/s eta 0:00:01\r\u001b[K     |█████████████████████████       | 1.8MB 8.6MB/s eta 0:00:01\r\u001b[K     |█████████████████████████▏      | 1.8MB 8.6MB/s eta 0:00:01\r\u001b[K     |█████████████████████████▎      | 1.8MB 8.6MB/s eta 0:00:01\r\u001b[K     |█████████████████████████▌      | 1.8MB 8.6MB/s eta 0:00:01\r\u001b[K     |█████████████████████████▋      | 1.8MB 8.6MB/s eta 0:00:01\r\u001b[K     |█████████████████████████▊      | 1.8MB 8.6MB/s eta 0:00:01\r\u001b[K     |█████████████████████████▉      | 1.8MB 8.6MB/s eta 0:00:01\r\u001b[K     |██████████████████████████      | 1.8MB 8.6MB/s eta 0:00:01\r\u001b[K     |██████████████████████████▏     | 1.8MB 8.6MB/s eta 0:00:01\r\u001b[K     |██████████████████████████▎     | 1.9MB 8.6MB/s eta 0:00:01\r\u001b[K     |██████████████████████████▌     | 1.9MB 8.6MB/s eta 0:00:01\r\u001b[K     |██████████████████████████▋     | 1.9MB 8.6MB/s eta 0:00:01\r\u001b[K     |██████████████████████████▊     | 1.9MB 8.6MB/s eta 0:00:01\r\u001b[K     |███████████████████████████     | 1.9MB 8.6MB/s eta 0:00:01\r\u001b[K     |███████████████████████████     | 1.9MB 8.6MB/s eta 0:00:01\r\u001b[K     |███████████████████████████▏    | 1.9MB 8.6MB/s eta 0:00:01\r\u001b[K     |███████████████████████████▍    | 1.9MB 8.6MB/s eta 0:00:01\r\u001b[K     |███████████████████████████▌    | 1.9MB 8.6MB/s eta 0:00:01\r\u001b[K     |███████████████████████████▋    | 1.9MB 8.6MB/s eta 0:00:01\r\u001b[K     |███████████████████████████▊    | 2.0MB 8.6MB/s eta 0:00:01\r\u001b[K     |████████████████████████████    | 2.0MB 8.6MB/s eta 0:00:01\r\u001b[K     |████████████████████████████    | 2.0MB 8.6MB/s eta 0:00:01\r\u001b[K     |████████████████████████████▏   | 2.0MB 8.6MB/s eta 0:00:01\r\u001b[K     |████████████████████████████▍   | 2.0MB 8.6MB/s eta 0:00:01\r\u001b[K     |████████████████████████████▌   | 2.0MB 8.6MB/s eta 0:00:01\r\u001b[K     |████████████████████████████▋   | 2.0MB 8.6MB/s eta 0:00:01\r\u001b[K     |████████████████████████████▉   | 2.0MB 8.6MB/s eta 0:00:01\r\u001b[K     |█████████████████████████████   | 2.0MB 8.6MB/s eta 0:00:01\r\u001b[K     |█████████████████████████████   | 2.0MB 8.6MB/s eta 0:00:01\r\u001b[K     |█████████████████████████████▎  | 2.1MB 8.6MB/s eta 0:00:01\r\u001b[K     |█████████████████████████████▍  | 2.1MB 8.6MB/s eta 0:00:01\r\u001b[K     |█████████████████████████████▌  | 2.1MB 8.6MB/s eta 0:00:01\r\u001b[K     |█████████████████████████████▋  | 2.1MB 8.6MB/s eta 0:00:01\r\u001b[K     |█████████████████████████████▉  | 2.1MB 8.6MB/s eta 0:00:01\r\u001b[K     |██████████████████████████████  | 2.1MB 8.6MB/s eta 0:00:01\r\u001b[K     |██████████████████████████████  | 2.1MB 8.6MB/s eta 0:00:01\r\u001b[K     |██████████████████████████████▎ | 2.1MB 8.6MB/s eta 0:00:01\r\u001b[K     |██████████████████████████████▍ | 2.1MB 8.6MB/s eta 0:00:01\r\u001b[K     |██████████████████████████████▌ | 2.2MB 8.6MB/s eta 0:00:01\r\u001b[K     |██████████████████████████████▊ | 2.2MB 8.6MB/s eta 0:00:01\r\u001b[K     |██████████████████████████████▉ | 2.2MB 8.6MB/s eta 0:00:01\r\u001b[K     |███████████████████████████████ | 2.2MB 8.6MB/s eta 0:00:01\r\u001b[K     |███████████████████████████████▏| 2.2MB 8.6MB/s eta 0:00:01\r\u001b[K     |███████████████████████████████▎| 2.2MB 8.6MB/s eta 0:00:01\r\u001b[K     |███████████████████████████████▍| 2.2MB 8.6MB/s eta 0:00:01\r\u001b[K     |███████████████████████████████▋| 2.2MB 8.6MB/s eta 0:00:01\r\u001b[K     |███████████████████████████████▊| 2.2MB 8.6MB/s eta 0:00:01\r\u001b[K     |███████████████████████████████▉| 2.2MB 8.6MB/s eta 0:00:01\r\u001b[K     |████████████████████████████████| 2.3MB 8.6MB/s eta 0:00:01\r\u001b[K     |████████████████████████████████| 2.3MB 8.6MB/s \n",
            "\u001b[?25hDrive already mounted at /content/drive; to attempt to forcibly remount, call drive.mount(\"/content/drive\", force_remount=True).\n"
          ],
          "name": "stdout"
        }
      ]
    },
    {
      "cell_type": "code",
      "metadata": {
        "id": "GXhKzxZwmjfT"
      },
      "source": [
        "DATA_DIR = '/content/drive/MyDrive/data/chip-seq/'\n",
        "LOG_DIR = '/content/drive/MyDrive/dna-nn/results/'"
      ],
      "execution_count": null,
      "outputs": []
    },
    {
      "cell_type": "code",
      "metadata": {
        "colab": {
          "base_uri": "https://localhost:8080/"
        },
        "id": "DjhjdHC-mtlb",
        "outputId": "2bc52412-6fd1-4b2f-a36b-a10a9cef35f2"
      },
      "source": [
        "!cp -r '/content/drive/MyDrive/dna-nn/dna_nn' .\n",
        "!ls dna_nn"
      ],
      "execution_count": null,
      "outputs": [
        {
          "output_type": "stream",
          "text": [
            "dataset.py  download.py  load.py  model.py\n"
          ],
          "name": "stdout"
        }
      ]
    },
    {
      "cell_type": "code",
      "metadata": {
        "id": "SUeuhg48mt6M"
      },
      "source": [
        "import gc\n",
        "\n",
        "import matplotlib.pyplot as plt\n",
        "import pandas as pd\n",
        "from tensorflow import keras\n",
        "\n",
        "from dna_nn.dataset import motif_discovery, motif_discovery_raw\n",
        "from dna_nn.model import models, evaluate"
      ],
      "execution_count": null,
      "outputs": []
    },
    {
      "cell_type": "markdown",
      "metadata": {
        "id": "yGaIa7cpPknU"
      },
      "source": [
        "# 2D features"
      ]
    },
    {
      "cell_type": "code",
      "metadata": {
        "id": "lUB3vX2Tm9S_"
      },
      "source": [
        "x_shape, train_ds, validation_data, test_ds = motif_discovery(DATA_DIR + 'motif_discovery_train.fasta', \n",
        "                                                              DATA_DIR + 'motif_discovery_test.fasta')"
      ],
      "execution_count": null,
      "outputs": []
    },
    {
      "cell_type": "code",
      "metadata": {
        "id": "zpSudDzz13JQ"
      },
      "source": [
        "models"
      ],
      "execution_count": null,
      "outputs": []
    },
    {
      "cell_type": "code",
      "metadata": {
        "id": "mu-w23Xho1Yz"
      },
      "source": [
        "key = 'cnn_zeng_4_conv2d_l2'\n",
        "dataset = 'motif_discovery'\n",
        "\n",
        "keras.backend.clear_session()\n",
        "model = models[key](x_shape)\n",
        "model.compile(optimizer='adam', loss='binary_crossentropy', metrics='accuracy')\n",
        "model.summary()"
      ],
      "execution_count": null,
      "outputs": []
    },
    {
      "cell_type": "code",
      "metadata": {
        "id": "GAEyIUUhrpLV"
      },
      "source": [
        "csv_path = LOG_DIR + f'{key}-{dataset}-dynamics.csv'\n",
        "model_path = LOG_DIR + f'{key}-{dataset}.h5'\n",
        "\n",
        "callbacks = [\n",
        "    keras.callbacks.CSVLogger(csv_path),\n",
        "    keras.callbacks.LambdaCallback(\n",
        "        on_epoch_end=lambda epoch, logs: gc.collect(),\n",
        "        # on_train_end=lambda logs: model.save(model_path)\n",
        "    ),\n",
        "    keras.callbacks.ModelCheckpoint(model_path, save_best_only=True)\n",
        "]\n",
        "\n",
        "history = model.fit(train_ds, epochs=50, validation_data=validation_data,\n",
        "                    callbacks=callbacks, verbose=3)"
      ],
      "execution_count": null,
      "outputs": []
    },
    {
      "cell_type": "code",
      "metadata": {
        "id": "sNSZsfVHvYyK"
      },
      "source": [
        "model = keras.models.load_model(model_path)\n",
        "test_loss, test_accuracy = model.evaluate(test_ds, verbose=3)\n",
        "\n",
        "y_score = model.predict(test_ds)\n",
        "y_true = [int(y) for x, y in test_ds.unbatch()]\n",
        "evaluate(model, history, test_accuracy, y_score, y_true, LOG_DIR, key, dataset)"
      ],
      "execution_count": null,
      "outputs": []
    },
    {
      "cell_type": "code",
      "metadata": {
        "id": "DrdgIRlP8wvR"
      },
      "source": [
        "models"
      ],
      "execution_count": null,
      "outputs": []
    },
    {
      "cell_type": "code",
      "metadata": {
        "id": "Z6PheT5qQ5dD"
      },
      "source": [
        "from sklearn.metrics import roc_curve, precision_recall_curve\n",
        "import numpy as np\n",
        "\n",
        "dataset = 'motif_discovery'\n",
        "key = 'cnn_zeng_4_conv2d'\n",
        "model_path = LOG_DIR + f'{key}-motif_discovery.h5'\n",
        "\n",
        "model = keras.models.load_model(model_path)\n",
        "test_loss, test_accuracy = model.evaluate(test_ds, verbose=3)\n",
        "\n",
        "y_score = model.predict(test_ds)\n",
        "y_true = [int(y) for x, y in test_ds.unbatch()]\n",
        "\n",
        "precision, recall, thresholds = precision_recall_curve(y_true, y_score)\n",
        "pr = pd.DataFrame({\n",
        "    'precision': precision,\n",
        "    'recall': recall,\n",
        "    'thresholds': np.append(thresholds, np.nan)\n",
        "})\n",
        "pr.to_csv(LOG_DIR + f'{key}-{dataset}-pr.csv', index=False)"
      ],
      "execution_count": null,
      "outputs": []
    },
    {
      "cell_type": "markdown",
      "metadata": {
        "id": "vUcCQfuwPiOu"
      },
      "source": [
        "# 1D features"
      ]
    },
    {
      "cell_type": "code",
      "metadata": {
        "id": "nsR34H69Ppgl"
      },
      "source": [
        "x_shape, train_ds, validation_data, test_ds = motif_discovery(DATA_DIR + 'motif_discovery_train.fasta', \n",
        "                                                              DATA_DIR + 'motif_discovery_test.fasta',\n",
        "                                                              3, 2, False)"
      ],
      "execution_count": null,
      "outputs": []
    },
    {
      "cell_type": "code",
      "metadata": {
        "id": "G7h0XbEXPu9k"
      },
      "source": [
        "models"
      ],
      "execution_count": null,
      "outputs": []
    },
    {
      "cell_type": "code",
      "metadata": {
        "id": "e89iuLp9Pxf7"
      },
      "source": [
        "key = 'deepram_recurrent_onehot'\n",
        "dataset = 'motif_discovery'\n",
        "\n",
        "keras.backend.clear_session()\n",
        "model = models[key](x_shape)\n",
        "model.compile(optimizer='adam', loss='binary_crossentropy', metrics='accuracy')\n",
        "model.summary()"
      ],
      "execution_count": null,
      "outputs": []
    },
    {
      "cell_type": "code",
      "metadata": {
        "id": "dsJFH0KUP0wB"
      },
      "source": [
        "csv_path = LOG_DIR + f'{key}-{dataset}-dynamics.csv'\n",
        "model_path = LOG_DIR + f'{key}-{dataset}.h5'\n",
        "\n",
        "callbacks = [\n",
        "    keras.callbacks.CSVLogger(csv_path),\n",
        "    keras.callbacks.LambdaCallback(\n",
        "        on_epoch_end=lambda epoch, logs: gc.collect(),\n",
        "        # on_train_end=lambda logs: model.save(model_path)\n",
        "    ),\n",
        "    keras.callbacks.ModelCheckpoint(model_path, save_best_only=True)\n",
        "]\n",
        "\n",
        "history = model.fit(train_ds, epochs=50, validation_data=validation_data,\n",
        "                    callbacks=callbacks, verbose=3)"
      ],
      "execution_count": null,
      "outputs": []
    },
    {
      "cell_type": "code",
      "metadata": {
        "id": "bPz7lWU0QKza"
      },
      "source": [
        "model = keras.models.load_model(model_path)\n",
        "test_loss, test_accuracy = model.evaluate(test_ds, verbose=3)\n",
        "\n",
        "y_score = model.predict(test_ds)\n",
        "y_true = [int(y) for x, y in test_ds.unbatch()]\n",
        "evaluate(model, history, test_accuracy, y_score, y_true, LOG_DIR, key, dataset)"
      ],
      "execution_count": null,
      "outputs": []
    },
    {
      "cell_type": "markdown",
      "metadata": {
        "id": "PNOraFrUQMvK"
      },
      "source": [
        "# Raw features"
      ]
    },
    {
      "cell_type": "code",
      "metadata": {
        "id": "W97NJ1hHQOl1"
      },
      "source": [
        "x_shape, train_ds, validation_data, test_ds = motif_discovery_raw(DATA_DIR + 'motif_discovery_train.fasta', \n",
        "                                                                  DATA_DIR + 'motif_discovery_test.fasta')"
      ],
      "execution_count": null,
      "outputs": []
    },
    {
      "cell_type": "code",
      "metadata": {
        "id": "tr5hbjWW6l_l"
      },
      "source": [
        "models"
      ],
      "execution_count": null,
      "outputs": []
    },
    {
      "cell_type": "code",
      "metadata": {
        "colab": {
          "base_uri": "https://localhost:8080/"
        },
        "id": "mROY9bp26oJv",
        "outputId": "b54b7781-c403-4ebb-a9be-2de1f26fdab3"
      },
      "source": [
        "key = 'deepram_recurrent_embed'\n",
        "dataset = 'motif_discovery'\n",
        "\n",
        "keras.backend.clear_session()\n",
        "model = models[key](x_shape)\n",
        "model.compile(optimizer='adam', loss='binary_crossentropy', metrics='accuracy')\n",
        "model.summary()"
      ],
      "execution_count": null,
      "outputs": [
        {
          "output_type": "stream",
          "text": [
            "Model: \"sequential\"\n",
            "_________________________________________________________________\n",
            "Layer (type)                 Output Shape              Param #   \n",
            "=================================================================\n",
            "embedding (Embedding)        (None, 101, 256)          25856     \n",
            "_________________________________________________________________\n",
            "dropout (Dropout)            (None, 101, 256)          0         \n",
            "_________________________________________________________________\n",
            "lstm (LSTM)                  (None, 101, 64)           82176     \n",
            "_________________________________________________________________\n",
            "lstm_1 (LSTM)                (None, 128)               98816     \n",
            "_________________________________________________________________\n",
            "dense (Dense)                (None, 128)               16512     \n",
            "_________________________________________________________________\n",
            "dropout_1 (Dropout)          (None, 128)               0         \n",
            "_________________________________________________________________\n",
            "dense_1 (Dense)              (None, 1)                 129       \n",
            "=================================================================\n",
            "Total params: 223,489\n",
            "Trainable params: 223,489\n",
            "Non-trainable params: 0\n",
            "_________________________________________________________________\n"
          ],
          "name": "stdout"
        }
      ]
    },
    {
      "cell_type": "code",
      "metadata": {
        "id": "K9z8KXSO6qUz"
      },
      "source": [
        "csv_path = LOG_DIR + f'{key}-{dataset}-dynamics.csv'\n",
        "model_path = LOG_DIR + f'{key}-{dataset}.h5'\n",
        "\n",
        "callbacks = [\n",
        "    keras.callbacks.CSVLogger(csv_path),\n",
        "    keras.callbacks.LambdaCallback(\n",
        "        on_epoch_end=lambda epoch, logs: gc.collect(),\n",
        "        # on_train_end=lambda logs: model.save(model_path)\n",
        "    ),\n",
        "    keras.callbacks.ModelCheckpoint(model_path, save_best_only=True)\n",
        "]\n",
        "\n",
        "history = model.fit(train_ds, epochs=50, validation_data=validation_data,\n",
        "                    callbacks=callbacks, verbose=3)"
      ],
      "execution_count": null,
      "outputs": []
    },
    {
      "cell_type": "code",
      "metadata": {
        "id": "dhXYYg7S6tGH"
      },
      "source": [
        "model = keras.models.load_model(model_path)\n",
        "test_loss, test_accuracy = model.evaluate(test_ds, verbose=3)\n",
        "\n",
        "y_score = model.predict(test_ds)\n",
        "y_true = [int(y) for x, y in test_ds.unbatch()]\n",
        "evaluate(model, history, test_accuracy, y_score, y_true, LOG_DIR, key, dataset)"
      ],
      "execution_count": null,
      "outputs": []
    },
    {
      "cell_type": "code",
      "metadata": {
        "id": "pJZ83u_y6ylF"
      },
      "source": [
        ""
      ],
      "execution_count": null,
      "outputs": []
    }
  ]
}