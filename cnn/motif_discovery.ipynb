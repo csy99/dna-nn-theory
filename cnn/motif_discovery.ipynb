{
  "nbformat": 4,
  "nbformat_minor": 0,
  "metadata": {
    "colab": {
      "name": "motif-discovery.ipynb",
      "provenance": [],
      "collapsed_sections": [],
      "mount_file_id": "10s6gDLOxjWTT6VEBueXcKulu35raQJ3B",
      "authorship_tag": "ABX9TyMIX0Vdlir21ahcPA3Ez9qN"
    },
    "kernelspec": {
      "name": "python3",
      "display_name": "Python 3"
    },
    "accelerator": "GPU"
  },
  "cells": [
    {
      "cell_type": "code",
      "metadata": {
        "colab": {
          "base_uri": "https://localhost:8080/"
        },
        "id": "70oa96_TmSd0",
        "outputId": "e23f5258-0bbe-42a8-943a-62084ccae908"
      },
      "source": [
        "!pip install -q biopython\n",
        "\n",
        "%load_ext autoreload\n",
        "%autoreload 2\n",
        "\n",
        "from google.colab import drive\n",
        "drive.mount('/content/drive')"
      ],
      "execution_count": null,
      "outputs": [
        {
          "output_type": "stream",
          "text": [
            "\u001b[?25l\r\u001b[K     |▏                               | 10kB 25.9MB/s eta 0:00:01\r\u001b[K     |▎                               | 20kB 32.3MB/s eta 0:00:01\r\u001b[K     |▍                               | 30kB 18.5MB/s eta 0:00:01\r\u001b[K     |▋                               | 40kB 21.9MB/s eta 0:00:01\r\u001b[K     |▊                               | 51kB 24.6MB/s eta 0:00:01\r\u001b[K     |▉                               | 61kB 27.3MB/s eta 0:00:01\r\u001b[K     |█                               | 71kB 18.9MB/s eta 0:00:01\r\u001b[K     |█▏                              | 81kB 19.0MB/s eta 0:00:01\r\u001b[K     |█▎                              | 92kB 17.7MB/s eta 0:00:01\r\u001b[K     |█▌                              | 102kB 19.0MB/s eta 0:00:01\r\u001b[K     |█▋                              | 112kB 19.0MB/s eta 0:00:01\r\u001b[K     |█▊                              | 122kB 19.0MB/s eta 0:00:01\r\u001b[K     |██                              | 133kB 19.0MB/s eta 0:00:01\r\u001b[K     |██                              | 143kB 19.0MB/s eta 0:00:01\r\u001b[K     |██▏                             | 153kB 19.0MB/s eta 0:00:01\r\u001b[K     |██▎                             | 163kB 19.0MB/s eta 0:00:01\r\u001b[K     |██▌                             | 174kB 19.0MB/s eta 0:00:01\r\u001b[K     |██▋                             | 184kB 19.0MB/s eta 0:00:01\r\u001b[K     |██▊                             | 194kB 19.0MB/s eta 0:00:01\r\u001b[K     |███                             | 204kB 19.0MB/s eta 0:00:01\r\u001b[K     |███                             | 215kB 19.0MB/s eta 0:00:01\r\u001b[K     |███▏                            | 225kB 19.0MB/s eta 0:00:01\r\u001b[K     |███▍                            | 235kB 19.0MB/s eta 0:00:01\r\u001b[K     |███▌                            | 245kB 19.0MB/s eta 0:00:01\r\u001b[K     |███▋                            | 256kB 19.0MB/s eta 0:00:01\r\u001b[K     |███▉                            | 266kB 19.0MB/s eta 0:00:01\r\u001b[K     |████                            | 276kB 19.0MB/s eta 0:00:01\r\u001b[K     |████                            | 286kB 19.0MB/s eta 0:00:01\r\u001b[K     |████▏                           | 296kB 19.0MB/s eta 0:00:01\r\u001b[K     |████▍                           | 307kB 19.0MB/s eta 0:00:01\r\u001b[K     |████▌                           | 317kB 19.0MB/s eta 0:00:01\r\u001b[K     |████▋                           | 327kB 19.0MB/s eta 0:00:01\r\u001b[K     |████▉                           | 337kB 19.0MB/s eta 0:00:01\r\u001b[K     |█████                           | 348kB 19.0MB/s eta 0:00:01\r\u001b[K     |█████                           | 358kB 19.0MB/s eta 0:00:01\r\u001b[K     |█████▎                          | 368kB 19.0MB/s eta 0:00:01\r\u001b[K     |█████▍                          | 378kB 19.0MB/s eta 0:00:01\r\u001b[K     |█████▌                          | 389kB 19.0MB/s eta 0:00:01\r\u001b[K     |█████▊                          | 399kB 19.0MB/s eta 0:00:01\r\u001b[K     |█████▉                          | 409kB 19.0MB/s eta 0:00:01\r\u001b[K     |██████                          | 419kB 19.0MB/s eta 0:00:01\r\u001b[K     |██████                          | 430kB 19.0MB/s eta 0:00:01\r\u001b[K     |██████▎                         | 440kB 19.0MB/s eta 0:00:01\r\u001b[K     |██████▍                         | 450kB 19.0MB/s eta 0:00:01\r\u001b[K     |██████▌                         | 460kB 19.0MB/s eta 0:00:01\r\u001b[K     |██████▊                         | 471kB 19.0MB/s eta 0:00:01\r\u001b[K     |██████▉                         | 481kB 19.0MB/s eta 0:00:01\r\u001b[K     |███████                         | 491kB 19.0MB/s eta 0:00:01\r\u001b[K     |███████▏                        | 501kB 19.0MB/s eta 0:00:01\r\u001b[K     |███████▎                        | 512kB 19.0MB/s eta 0:00:01\r\u001b[K     |███████▍                        | 522kB 19.0MB/s eta 0:00:01\r\u001b[K     |███████▋                        | 532kB 19.0MB/s eta 0:00:01\r\u001b[K     |███████▊                        | 542kB 19.0MB/s eta 0:00:01\r\u001b[K     |███████▉                        | 552kB 19.0MB/s eta 0:00:01\r\u001b[K     |████████                        | 563kB 19.0MB/s eta 0:00:01\r\u001b[K     |████████▏                       | 573kB 19.0MB/s eta 0:00:01\r\u001b[K     |████████▎                       | 583kB 19.0MB/s eta 0:00:01\r\u001b[K     |████████▍                       | 593kB 19.0MB/s eta 0:00:01\r\u001b[K     |████████▋                       | 604kB 19.0MB/s eta 0:00:01\r\u001b[K     |████████▊                       | 614kB 19.0MB/s eta 0:00:01\r\u001b[K     |████████▉                       | 624kB 19.0MB/s eta 0:00:01\r\u001b[K     |█████████                       | 634kB 19.0MB/s eta 0:00:01\r\u001b[K     |█████████▏                      | 645kB 19.0MB/s eta 0:00:01\r\u001b[K     |█████████▎                      | 655kB 19.0MB/s eta 0:00:01\r\u001b[K     |█████████▌                      | 665kB 19.0MB/s eta 0:00:01\r\u001b[K     |█████████▋                      | 675kB 19.0MB/s eta 0:00:01\r\u001b[K     |█████████▊                      | 686kB 19.0MB/s eta 0:00:01\r\u001b[K     |█████████▉                      | 696kB 19.0MB/s eta 0:00:01\r\u001b[K     |██████████                      | 706kB 19.0MB/s eta 0:00:01\r\u001b[K     |██████████▏                     | 716kB 19.0MB/s eta 0:00:01\r\u001b[K     |██████████▎                     | 727kB 19.0MB/s eta 0:00:01\r\u001b[K     |██████████▌                     | 737kB 19.0MB/s eta 0:00:01\r\u001b[K     |██████████▋                     | 747kB 19.0MB/s eta 0:00:01\r\u001b[K     |██████████▊                     | 757kB 19.0MB/s eta 0:00:01\r\u001b[K     |███████████                     | 768kB 19.0MB/s eta 0:00:01\r\u001b[K     |███████████                     | 778kB 19.0MB/s eta 0:00:01\r\u001b[K     |███████████▏                    | 788kB 19.0MB/s eta 0:00:01\r\u001b[K     |███████████▍                    | 798kB 19.0MB/s eta 0:00:01\r\u001b[K     |███████████▌                    | 808kB 19.0MB/s eta 0:00:01\r\u001b[K     |███████████▋                    | 819kB 19.0MB/s eta 0:00:01\r\u001b[K     |███████████▉                    | 829kB 19.0MB/s eta 0:00:01\r\u001b[K     |████████████                    | 839kB 19.0MB/s eta 0:00:01\r\u001b[K     |████████████                    | 849kB 19.0MB/s eta 0:00:01\r\u001b[K     |████████████▏                   | 860kB 19.0MB/s eta 0:00:01\r\u001b[K     |████████████▍                   | 870kB 19.0MB/s eta 0:00:01\r\u001b[K     |████████████▌                   | 880kB 19.0MB/s eta 0:00:01\r\u001b[K     |████████████▋                   | 890kB 19.0MB/s eta 0:00:01\r\u001b[K     |████████████▉                   | 901kB 19.0MB/s eta 0:00:01\r\u001b[K     |█████████████                   | 911kB 19.0MB/s eta 0:00:01\r\u001b[K     |█████████████                   | 921kB 19.0MB/s eta 0:00:01\r\u001b[K     |█████████████▎                  | 931kB 19.0MB/s eta 0:00:01\r\u001b[K     |█████████████▍                  | 942kB 19.0MB/s eta 0:00:01\r\u001b[K     |█████████████▌                  | 952kB 19.0MB/s eta 0:00:01\r\u001b[K     |█████████████▊                  | 962kB 19.0MB/s eta 0:00:01\r\u001b[K     |█████████████▉                  | 972kB 19.0MB/s eta 0:00:01\r\u001b[K     |██████████████                  | 983kB 19.0MB/s eta 0:00:01\r\u001b[K     |██████████████                  | 993kB 19.0MB/s eta 0:00:01\r\u001b[K     |██████████████▎                 | 1.0MB 19.0MB/s eta 0:00:01\r\u001b[K     |██████████████▍                 | 1.0MB 19.0MB/s eta 0:00:01\r\u001b[K     |██████████████▌                 | 1.0MB 19.0MB/s eta 0:00:01\r\u001b[K     |██████████████▊                 | 1.0MB 19.0MB/s eta 0:00:01\r\u001b[K     |██████████████▉                 | 1.0MB 19.0MB/s eta 0:00:01\r\u001b[K     |███████████████                 | 1.1MB 19.0MB/s eta 0:00:01\r\u001b[K     |███████████████▏                | 1.1MB 19.0MB/s eta 0:00:01\r\u001b[K     |███████████████▎                | 1.1MB 19.0MB/s eta 0:00:01\r\u001b[K     |███████████████▍                | 1.1MB 19.0MB/s eta 0:00:01\r\u001b[K     |███████████████▋                | 1.1MB 19.0MB/s eta 0:00:01\r\u001b[K     |███████████████▊                | 1.1MB 19.0MB/s eta 0:00:01\r\u001b[K     |███████████████▉                | 1.1MB 19.0MB/s eta 0:00:01\r\u001b[K     |████████████████                | 1.1MB 19.0MB/s eta 0:00:01\r\u001b[K     |████████████████▏               | 1.1MB 19.0MB/s eta 0:00:01\r\u001b[K     |████████████████▎               | 1.1MB 19.0MB/s eta 0:00:01\r\u001b[K     |████████████████▍               | 1.2MB 19.0MB/s eta 0:00:01\r\u001b[K     |████████████████▋               | 1.2MB 19.0MB/s eta 0:00:01\r\u001b[K     |████████████████▊               | 1.2MB 19.0MB/s eta 0:00:01\r\u001b[K     |████████████████▉               | 1.2MB 19.0MB/s eta 0:00:01\r\u001b[K     |█████████████████               | 1.2MB 19.0MB/s eta 0:00:01\r\u001b[K     |█████████████████▏              | 1.2MB 19.0MB/s eta 0:00:01\r\u001b[K     |█████████████████▎              | 1.2MB 19.0MB/s eta 0:00:01\r\u001b[K     |█████████████████▌              | 1.2MB 19.0MB/s eta 0:00:01\r\u001b[K     |█████████████████▋              | 1.2MB 19.0MB/s eta 0:00:01\r\u001b[K     |█████████████████▊              | 1.2MB 19.0MB/s eta 0:00:01\r\u001b[K     |█████████████████▉              | 1.3MB 19.0MB/s eta 0:00:01\r\u001b[K     |██████████████████              | 1.3MB 19.0MB/s eta 0:00:01\r\u001b[K     |██████████████████▏             | 1.3MB 19.0MB/s eta 0:00:01\r\u001b[K     |██████████████████▎             | 1.3MB 19.0MB/s eta 0:00:01\r\u001b[K     |██████████████████▌             | 1.3MB 19.0MB/s eta 0:00:01\r\u001b[K     |██████████████████▋             | 1.3MB 19.0MB/s eta 0:00:01\r\u001b[K     |██████████████████▊             | 1.3MB 19.0MB/s eta 0:00:01\r\u001b[K     |███████████████████             | 1.3MB 19.0MB/s eta 0:00:01\r\u001b[K     |███████████████████             | 1.3MB 19.0MB/s eta 0:00:01\r\u001b[K     |███████████████████▏            | 1.4MB 19.0MB/s eta 0:00:01\r\u001b[K     |███████████████████▍            | 1.4MB 19.0MB/s eta 0:00:01\r\u001b[K     |███████████████████▌            | 1.4MB 19.0MB/s eta 0:00:01\r\u001b[K     |███████████████████▋            | 1.4MB 19.0MB/s eta 0:00:01\r\u001b[K     |███████████████████▊            | 1.4MB 19.0MB/s eta 0:00:01\r\u001b[K     |████████████████████            | 1.4MB 19.0MB/s eta 0:00:01\r\u001b[K     |████████████████████            | 1.4MB 19.0MB/s eta 0:00:01\r\u001b[K     |████████████████████▏           | 1.4MB 19.0MB/s eta 0:00:01\r\u001b[K     |████████████████████▍           | 1.4MB 19.0MB/s eta 0:00:01\r\u001b[K     |████████████████████▌           | 1.4MB 19.0MB/s eta 0:00:01\r\u001b[K     |████████████████████▋           | 1.5MB 19.0MB/s eta 0:00:01\r\u001b[K     |████████████████████▉           | 1.5MB 19.0MB/s eta 0:00:01\r\u001b[K     |█████████████████████           | 1.5MB 19.0MB/s eta 0:00:01\r\u001b[K     |█████████████████████           | 1.5MB 19.0MB/s eta 0:00:01\r\u001b[K     |█████████████████████▎          | 1.5MB 19.0MB/s eta 0:00:01\r\u001b[K     |█████████████████████▍          | 1.5MB 19.0MB/s eta 0:00:01\r\u001b[K     |█████████████████████▌          | 1.5MB 19.0MB/s eta 0:00:01\r\u001b[K     |█████████████████████▊          | 1.5MB 19.0MB/s eta 0:00:01\r\u001b[K     |█████████████████████▉          | 1.5MB 19.0MB/s eta 0:00:01\r\u001b[K     |██████████████████████          | 1.5MB 19.0MB/s eta 0:00:01\r\u001b[K     |██████████████████████          | 1.6MB 19.0MB/s eta 0:00:01\r\u001b[K     |██████████████████████▎         | 1.6MB 19.0MB/s eta 0:00:01\r\u001b[K     |██████████████████████▍         | 1.6MB 19.0MB/s eta 0:00:01\r\u001b[K     |██████████████████████▌         | 1.6MB 19.0MB/s eta 0:00:01\r\u001b[K     |██████████████████████▊         | 1.6MB 19.0MB/s eta 0:00:01\r\u001b[K     |██████████████████████▉         | 1.6MB 19.0MB/s eta 0:00:01\r\u001b[K     |███████████████████████         | 1.6MB 19.0MB/s eta 0:00:01\r\u001b[K     |███████████████████████▏        | 1.6MB 19.0MB/s eta 0:00:01\r\u001b[K     |███████████████████████▎        | 1.6MB 19.0MB/s eta 0:00:01\r\u001b[K     |███████████████████████▍        | 1.6MB 19.0MB/s eta 0:00:01\r\u001b[K     |███████████████████████▋        | 1.7MB 19.0MB/s eta 0:00:01\r\u001b[K     |███████████████████████▊        | 1.7MB 19.0MB/s eta 0:00:01\r\u001b[K     |███████████████████████▉        | 1.7MB 19.0MB/s eta 0:00:01\r\u001b[K     |████████████████████████        | 1.7MB 19.0MB/s eta 0:00:01\r\u001b[K     |████████████████████████▏       | 1.7MB 19.0MB/s eta 0:00:01\r\u001b[K     |████████████████████████▎       | 1.7MB 19.0MB/s eta 0:00:01\r\u001b[K     |████████████████████████▍       | 1.7MB 19.0MB/s eta 0:00:01\r\u001b[K     |████████████████████████▋       | 1.7MB 19.0MB/s eta 0:00:01\r\u001b[K     |████████████████████████▊       | 1.7MB 19.0MB/s eta 0:00:01\r\u001b[K     |████████████████████████▉       | 1.8MB 19.0MB/s eta 0:00:01\r\u001b[K     |█████████████████████████       | 1.8MB 19.0MB/s eta 0:00:01\r\u001b[K     |█████████████████████████▏      | 1.8MB 19.0MB/s eta 0:00:01\r\u001b[K     |█████████████████████████▎      | 1.8MB 19.0MB/s eta 0:00:01\r\u001b[K     |█████████████████████████▌      | 1.8MB 19.0MB/s eta 0:00:01\r\u001b[K     |█████████████████████████▋      | 1.8MB 19.0MB/s eta 0:00:01\r\u001b[K     |█████████████████████████▊      | 1.8MB 19.0MB/s eta 0:00:01\r\u001b[K     |█████████████████████████▉      | 1.8MB 19.0MB/s eta 0:00:01\r\u001b[K     |██████████████████████████      | 1.8MB 19.0MB/s eta 0:00:01\r\u001b[K     |██████████████████████████▏     | 1.8MB 19.0MB/s eta 0:00:01\r\u001b[K     |██████████████████████████▎     | 1.9MB 19.0MB/s eta 0:00:01\r\u001b[K     |██████████████████████████▌     | 1.9MB 19.0MB/s eta 0:00:01\r\u001b[K     |██████████████████████████▋     | 1.9MB 19.0MB/s eta 0:00:01\r\u001b[K     |██████████████████████████▊     | 1.9MB 19.0MB/s eta 0:00:01\r\u001b[K     |███████████████████████████     | 1.9MB 19.0MB/s eta 0:00:01\r\u001b[K     |███████████████████████████     | 1.9MB 19.0MB/s eta 0:00:01\r\u001b[K     |███████████████████████████▏    | 1.9MB 19.0MB/s eta 0:00:01\r\u001b[K     |███████████████████████████▍    | 1.9MB 19.0MB/s eta 0:00:01\r\u001b[K     |███████████████████████████▌    | 1.9MB 19.0MB/s eta 0:00:01\r\u001b[K     |███████████████████████████▋    | 1.9MB 19.0MB/s eta 0:00:01\r\u001b[K     |███████████████████████████▊    | 2.0MB 19.0MB/s eta 0:00:01\r\u001b[K     |████████████████████████████    | 2.0MB 19.0MB/s eta 0:00:01\r\u001b[K     |████████████████████████████    | 2.0MB 19.0MB/s eta 0:00:01\r\u001b[K     |████████████████████████████▏   | 2.0MB 19.0MB/s eta 0:00:01\r\u001b[K     |████████████████████████████▍   | 2.0MB 19.0MB/s eta 0:00:01\r\u001b[K     |████████████████████████████▌   | 2.0MB 19.0MB/s eta 0:00:01\r\u001b[K     |████████████████████████████▋   | 2.0MB 19.0MB/s eta 0:00:01\r\u001b[K     |████████████████████████████▉   | 2.0MB 19.0MB/s eta 0:00:01\r\u001b[K     |█████████████████████████████   | 2.0MB 19.0MB/s eta 0:00:01\r\u001b[K     |█████████████████████████████   | 2.0MB 19.0MB/s eta 0:00:01\r\u001b[K     |█████████████████████████████▎  | 2.1MB 19.0MB/s eta 0:00:01\r\u001b[K     |█████████████████████████████▍  | 2.1MB 19.0MB/s eta 0:00:01\r\u001b[K     |█████████████████████████████▌  | 2.1MB 19.0MB/s eta 0:00:01\r\u001b[K     |█████████████████████████████▋  | 2.1MB 19.0MB/s eta 0:00:01\r\u001b[K     |█████████████████████████████▉  | 2.1MB 19.0MB/s eta 0:00:01\r\u001b[K     |██████████████████████████████  | 2.1MB 19.0MB/s eta 0:00:01\r\u001b[K     |██████████████████████████████  | 2.1MB 19.0MB/s eta 0:00:01\r\u001b[K     |██████████████████████████████▎ | 2.1MB 19.0MB/s eta 0:00:01\r\u001b[K     |██████████████████████████████▍ | 2.1MB 19.0MB/s eta 0:00:01\r\u001b[K     |██████████████████████████████▌ | 2.2MB 19.0MB/s eta 0:00:01\r\u001b[K     |██████████████████████████████▊ | 2.2MB 19.0MB/s eta 0:00:01\r\u001b[K     |██████████████████████████████▉ | 2.2MB 19.0MB/s eta 0:00:01\r\u001b[K     |███████████████████████████████ | 2.2MB 19.0MB/s eta 0:00:01\r\u001b[K     |███████████████████████████████▏| 2.2MB 19.0MB/s eta 0:00:01\r\u001b[K     |███████████████████████████████▎| 2.2MB 19.0MB/s eta 0:00:01\r\u001b[K     |███████████████████████████████▍| 2.2MB 19.0MB/s eta 0:00:01\r\u001b[K     |███████████████████████████████▋| 2.2MB 19.0MB/s eta 0:00:01\r\u001b[K     |███████████████████████████████▊| 2.2MB 19.0MB/s eta 0:00:01\r\u001b[K     |███████████████████████████████▉| 2.2MB 19.0MB/s eta 0:00:01\r\u001b[K     |████████████████████████████████| 2.3MB 19.0MB/s eta 0:00:01\r\u001b[K     |████████████████████████████████| 2.3MB 19.0MB/s \n",
            "\u001b[?25hDrive already mounted at /content/drive; to attempt to forcibly remount, call drive.mount(\"/content/drive\", force_remount=True).\n"
          ],
          "name": "stdout"
        }
      ]
    },
    {
      "cell_type": "code",
      "metadata": {
        "id": "GXhKzxZwmjfT"
      },
      "source": [
        "DATA_DIR = '/content/drive/MyDrive/data/chip-seq/'\n",
        "LOG_DIR = '/content/drive/MyDrive/dna-nn/results/'"
      ],
      "execution_count": null,
      "outputs": []
    },
    {
      "cell_type": "code",
      "metadata": {
        "colab": {
          "base_uri": "https://localhost:8080/"
        },
        "id": "DjhjdHC-mtlb",
        "outputId": "fefacac2-2a15-48f8-d8b1-3ba374532fa0"
      },
      "source": [
        "!cp -r '/content/drive/MyDrive/dna-nn/dna_nn' .\n",
        "!ls dna_nn"
      ],
      "execution_count": null,
      "outputs": [
        {
          "output_type": "stream",
          "text": [
            "dataset.py  download.py  load.py  model.py\n"
          ],
          "name": "stdout"
        }
      ]
    },
    {
      "cell_type": "code",
      "metadata": {
        "id": "SUeuhg48mt6M"
      },
      "source": [
        "import gc\n",
        "\n",
        "import matplotlib.pyplot as plt\n",
        "import pandas as pd\n",
        "from tensorflow import keras\n",
        "\n",
        "from dna_nn.dataset import motif_discovery\n",
        "from dna_nn.model import models, evaluate"
      ],
      "execution_count": null,
      "outputs": []
    },
    {
      "cell_type": "code",
      "metadata": {
        "id": "lUB3vX2Tm9S_"
      },
      "source": [
        "x_shape, train_ds, validation_data, test_ds = motif_discovery(DATA_DIR + 'motif_discovery_train.fasta', \n",
        "                                                              DATA_DIR + 'motif_discovery_test.fasta')"
      ],
      "execution_count": null,
      "outputs": []
    },
    {
      "cell_type": "code",
      "metadata": {
        "colab": {
          "base_uri": "https://localhost:8080/"
        },
        "id": "zpSudDzz13JQ",
        "outputId": "91c2e2a8-399c-40e9-8b8f-774e978a3f46"
      },
      "source": [
        "models"
      ],
      "execution_count": null,
      "outputs": [
        {
          "output_type": "execute_result",
          "data": {
            "text/plain": [
              "{'cnn_deepdbp': <function dna_nn.model.cnn_deepdbp>,\n",
              " 'cnn_nguyen_2_conv2d': <function dna_nn.model.cnn_nguyen_2_conv2d>,\n",
              " 'cnn_nguyen_conv1d_2_conv2d': <function dna_nn.model.cnn_nguyen_conv1d_2_conv2d>,\n",
              " 'cnn_zeng_2_conv2d': <function dna_nn.model.cnn_zeng_2_conv2d>,\n",
              " 'cnn_zeng_3_conv2d': <function dna_nn.model.cnn_zeng_3_conv2d>,\n",
              " 'cnn_zeng_4_conv2d': <function dna_nn.model.cnn_zeng_4_conv2d>}"
            ]
          },
          "metadata": {
            "tags": []
          },
          "execution_count": 10
        }
      ]
    },
    {
      "cell_type": "code",
      "metadata": {
        "colab": {
          "base_uri": "https://localhost:8080/"
        },
        "id": "mu-w23Xho1Yz",
        "outputId": "271d10c6-5b2a-4b57-aaeb-09c93a156afe"
      },
      "source": [
        "key = 'cnn_zeng_4_conv2d'\n",
        "dataset = 'motif_discovery'\n",
        "\n",
        "keras.backend.clear_session()\n",
        "model = models[key](x_shape)\n",
        "model.compile(optimizer='adam', loss='binary_crossentropy', metrics='accuracy')\n",
        "model.summary()"
      ],
      "execution_count": null,
      "outputs": [
        {
          "output_type": "stream",
          "text": [
            "Model: \"sequential\"\n",
            "_________________________________________________________________\n",
            "Layer (type)                 Output Shape              Param #   \n",
            "=================================================================\n",
            "conv2d (Conv2D)              (None, 97, 190, 16)       160       \n",
            "_________________________________________________________________\n",
            "batch_normalization (BatchNo (None, 97, 190, 16)       64        \n",
            "_________________________________________________________________\n",
            "max_pooling2d (MaxPooling2D) (None, 48, 95, 16)        0         \n",
            "_________________________________________________________________\n",
            "conv2d_1 (Conv2D)            (None, 46, 93, 32)        4640      \n",
            "_________________________________________________________________\n",
            "batch_normalization_1 (Batch (None, 46, 93, 32)        128       \n",
            "_________________________________________________________________\n",
            "max_pooling2d_1 (MaxPooling2 (None, 23, 46, 32)        0         \n",
            "_________________________________________________________________\n",
            "conv2d_2 (Conv2D)            (None, 21, 44, 64)        18496     \n",
            "_________________________________________________________________\n",
            "batch_normalization_2 (Batch (None, 21, 44, 64)        256       \n",
            "_________________________________________________________________\n",
            "max_pooling2d_2 (MaxPooling2 (None, 10, 22, 64)        0         \n",
            "_________________________________________________________________\n",
            "conv2d_3 (Conv2D)            (None, 8, 20, 128)        73856     \n",
            "_________________________________________________________________\n",
            "batch_normalization_3 (Batch (None, 8, 20, 128)        512       \n",
            "_________________________________________________________________\n",
            "global_max_pooling2d (Global (None, 128)               0         \n",
            "_________________________________________________________________\n",
            "flatten (Flatten)            (None, 128)               0         \n",
            "_________________________________________________________________\n",
            "dense (Dense)                (None, 32)                4128      \n",
            "_________________________________________________________________\n",
            "dropout (Dropout)            (None, 32)                0         \n",
            "_________________________________________________________________\n",
            "dense_1 (Dense)              (None, 1)                 33        \n",
            "=================================================================\n",
            "Total params: 102,273\n",
            "Trainable params: 101,793\n",
            "Non-trainable params: 480\n",
            "_________________________________________________________________\n"
          ],
          "name": "stdout"
        }
      ]
    },
    {
      "cell_type": "code",
      "metadata": {
        "colab": {
          "base_uri": "https://localhost:8080/"
        },
        "id": "GAEyIUUhrpLV",
        "outputId": "d6872bb0-3512-40fd-e64e-d0968b088409"
      },
      "source": [
        "csv_path = LOG_DIR + f'{key}-{dataset}-dynamics.csv'\n",
        "model_path = LOG_DIR + f'{key}-{dataset}.h5'\n",
        "\n",
        "callbacks = [\n",
        "    keras.callbacks.CSVLogger(csv_path),\n",
        "    keras.callbacks.LambdaCallback(\n",
        "        on_epoch_end=lambda epoch, logs: gc.collect(),\n",
        "        # on_train_end=lambda logs: model.save(model_path)\n",
        "    ),\n",
        "    keras.callbacks.ModelCheckpoint(model_path, save_best_only=True)\n",
        "]\n",
        "\n",
        "history = model.fit(train_ds, epochs=50, validation_data=validation_data,\n",
        "                    callbacks=callbacks, verbose=2)"
      ],
      "execution_count": null,
      "outputs": [
        {
          "output_type": "stream",
          "text": [
            "Epoch 1/50\n",
            "257/257 - 70s - loss: 0.7162 - accuracy: 0.5202 - val_loss: 0.7059 - val_accuracy: 0.5059\n",
            "Epoch 2/50\n",
            "257/257 - 70s - loss: 0.6802 - accuracy: 0.5557 - val_loss: 0.8291 - val_accuracy: 0.5059\n",
            "Epoch 3/50\n",
            "257/257 - 70s - loss: 0.6629 - accuracy: 0.5936 - val_loss: 0.6569 - val_accuracy: 0.6132\n",
            "Epoch 4/50\n",
            "257/257 - 69s - loss: 0.6492 - accuracy: 0.6192 - val_loss: 0.6601 - val_accuracy: 0.5820\n",
            "Epoch 5/50\n",
            "257/257 - 70s - loss: 0.6360 - accuracy: 0.6392 - val_loss: 0.6463 - val_accuracy: 0.6200\n",
            "Epoch 6/50\n",
            "257/257 - 70s - loss: 0.6218 - accuracy: 0.6552 - val_loss: 0.7765 - val_accuracy: 0.5330\n",
            "Epoch 7/50\n",
            "257/257 - 70s - loss: 0.6076 - accuracy: 0.6711 - val_loss: 0.7089 - val_accuracy: 0.5703\n",
            "Epoch 8/50\n",
            "257/257 - 70s - loss: 0.5935 - accuracy: 0.6848 - val_loss: 0.8451 - val_accuracy: 0.5257\n",
            "Epoch 9/50\n",
            "257/257 - 70s - loss: 0.5813 - accuracy: 0.6948 - val_loss: 0.6001 - val_accuracy: 0.6790\n",
            "Epoch 10/50\n",
            "257/257 - 69s - loss: 0.5662 - accuracy: 0.7080 - val_loss: 0.6734 - val_accuracy: 0.6243\n",
            "Epoch 11/50\n",
            "257/257 - 70s - loss: 0.5532 - accuracy: 0.7189 - val_loss: 0.6320 - val_accuracy: 0.6707\n",
            "Epoch 12/50\n",
            "257/257 - 70s - loss: 0.5394 - accuracy: 0.7309 - val_loss: 0.5916 - val_accuracy: 0.6783\n",
            "Epoch 13/50\n",
            "257/257 - 69s - loss: 0.5294 - accuracy: 0.7345 - val_loss: 0.6314 - val_accuracy: 0.6617\n",
            "Epoch 14/50\n",
            "257/257 - 70s - loss: 0.5137 - accuracy: 0.7479 - val_loss: 0.6438 - val_accuracy: 0.6741\n",
            "Epoch 15/50\n",
            "257/257 - 69s - loss: 0.4941 - accuracy: 0.7606 - val_loss: 0.6561 - val_accuracy: 0.6557\n",
            "Epoch 16/50\n",
            "257/257 - 69s - loss: 0.4825 - accuracy: 0.7679 - val_loss: 0.8038 - val_accuracy: 0.6454\n",
            "Epoch 17/50\n",
            "257/257 - 69s - loss: 0.4665 - accuracy: 0.7779 - val_loss: 0.6995 - val_accuracy: 0.6600\n",
            "Epoch 18/50\n",
            "257/257 - 69s - loss: 0.4521 - accuracy: 0.7858 - val_loss: 0.6393 - val_accuracy: 0.6852\n",
            "Epoch 19/50\n",
            "257/257 - 69s - loss: 0.4358 - accuracy: 0.7967 - val_loss: 0.6794 - val_accuracy: 0.6801\n",
            "Epoch 20/50\n",
            "257/257 - 70s - loss: 0.4242 - accuracy: 0.8025 - val_loss: 0.7256 - val_accuracy: 0.6732\n",
            "Epoch 21/50\n",
            "257/257 - 69s - loss: 0.4020 - accuracy: 0.8147 - val_loss: 0.7240 - val_accuracy: 0.6757\n",
            "Epoch 22/50\n",
            "257/257 - 69s - loss: 0.3888 - accuracy: 0.8212 - val_loss: 0.9145 - val_accuracy: 0.6538\n",
            "Epoch 23/50\n",
            "257/257 - 70s - loss: 0.3752 - accuracy: 0.8295 - val_loss: 0.8499 - val_accuracy: 0.6726\n",
            "Epoch 24/50\n",
            "257/257 - 69s - loss: 0.3578 - accuracy: 0.8373 - val_loss: 0.8818 - val_accuracy: 0.6652\n",
            "Epoch 25/50\n",
            "257/257 - 69s - loss: 0.3502 - accuracy: 0.8408 - val_loss: 0.8128 - val_accuracy: 0.6751\n",
            "Epoch 26/50\n",
            "257/257 - 69s - loss: 0.3378 - accuracy: 0.8474 - val_loss: 0.9159 - val_accuracy: 0.6712\n",
            "Epoch 27/50\n",
            "257/257 - 70s - loss: 0.3234 - accuracy: 0.8536 - val_loss: 0.9329 - val_accuracy: 0.6628\n",
            "Epoch 28/50\n",
            "257/257 - 69s - loss: 0.3132 - accuracy: 0.8591 - val_loss: 1.0304 - val_accuracy: 0.6568\n",
            "Epoch 29/50\n",
            "257/257 - 70s - loss: 0.2930 - accuracy: 0.8695 - val_loss: 0.9831 - val_accuracy: 0.6683\n",
            "Epoch 30/50\n",
            "257/257 - 70s - loss: 0.2861 - accuracy: 0.8732 - val_loss: 1.0971 - val_accuracy: 0.6590\n",
            "Epoch 31/50\n",
            "257/257 - 70s - loss: 0.2800 - accuracy: 0.8764 - val_loss: 1.3270 - val_accuracy: 0.6399\n",
            "Epoch 32/50\n",
            "257/257 - 70s - loss: 0.2933 - accuracy: 0.8679 - val_loss: 1.3905 - val_accuracy: 0.6354\n",
            "Epoch 33/50\n",
            "257/257 - 69s - loss: 0.2889 - accuracy: 0.8718 - val_loss: 1.0521 - val_accuracy: 0.6713\n",
            "Epoch 34/50\n",
            "257/257 - 70s - loss: 0.2547 - accuracy: 0.8874 - val_loss: 1.5447 - val_accuracy: 0.6386\n",
            "Epoch 35/50\n",
            "257/257 - 70s - loss: 0.2504 - accuracy: 0.8904 - val_loss: 1.1859 - val_accuracy: 0.6601\n",
            "Epoch 36/50\n",
            "257/257 - 69s - loss: 0.2518 - accuracy: 0.8904 - val_loss: 1.1977 - val_accuracy: 0.6558\n",
            "Epoch 37/50\n",
            "257/257 - 69s - loss: 0.2378 - accuracy: 0.8968 - val_loss: 1.1729 - val_accuracy: 0.6617\n",
            "Epoch 38/50\n",
            "257/257 - 70s - loss: 0.2216 - accuracy: 0.9039 - val_loss: 1.3990 - val_accuracy: 0.6642\n",
            "Epoch 39/50\n",
            "257/257 - 69s - loss: 0.2202 - accuracy: 0.9046 - val_loss: 1.3886 - val_accuracy: 0.6619\n",
            "Epoch 40/50\n",
            "257/257 - 70s - loss: 0.2303 - accuracy: 0.8995 - val_loss: 1.4737 - val_accuracy: 0.6616\n",
            "Epoch 41/50\n",
            "257/257 - 70s - loss: 0.2132 - accuracy: 0.9082 - val_loss: 1.5240 - val_accuracy: 0.6622\n",
            "Epoch 42/50\n",
            "257/257 - 69s - loss: 0.2191 - accuracy: 0.9057 - val_loss: 1.9042 - val_accuracy: 0.6335\n",
            "Epoch 43/50\n",
            "257/257 - 70s - loss: 0.2089 - accuracy: 0.9110 - val_loss: 1.6598 - val_accuracy: 0.6552\n",
            "Epoch 44/50\n",
            "257/257 - 69s - loss: 0.1969 - accuracy: 0.9165 - val_loss: 2.2577 - val_accuracy: 0.6207\n",
            "Epoch 45/50\n",
            "257/257 - 70s - loss: 0.1937 - accuracy: 0.9176 - val_loss: 1.6016 - val_accuracy: 0.6596\n",
            "Epoch 46/50\n",
            "257/257 - 70s - loss: 0.2098 - accuracy: 0.9096 - val_loss: 1.4155 - val_accuracy: 0.6604\n",
            "Epoch 47/50\n",
            "257/257 - 70s - loss: 0.1962 - accuracy: 0.9180 - val_loss: 1.3748 - val_accuracy: 0.6670\n",
            "Epoch 48/50\n",
            "257/257 - 70s - loss: 0.2061 - accuracy: 0.9116 - val_loss: 1.9653 - val_accuracy: 0.6332\n",
            "Epoch 49/50\n",
            "257/257 - 69s - loss: 0.1936 - accuracy: 0.9177 - val_loss: 2.3984 - val_accuracy: 0.6139\n",
            "Epoch 50/50\n",
            "257/257 - 69s - loss: 0.1812 - accuracy: 0.9234 - val_loss: 2.3833 - val_accuracy: 0.6190\n"
          ],
          "name": "stdout"
        }
      ]
    },
    {
      "cell_type": "code",
      "metadata": {
        "id": "sNSZsfVHvYyK"
      },
      "source": [
        "model = keras.models.load_model(model_path)\n",
        "test_loss, test_accuracy = model.evaluate(test_ds, verbose=3)\n",
        "\n",
        "y_score = model.predict(test_ds)\n",
        "y_true = [int(y) for x, y in test_ds.unbatch()]\n",
        "evaluate(model, history, test_accuracy, y_score, y_true, LOG_DIR, key, dataset)"
      ],
      "execution_count": null,
      "outputs": []
    },
    {
      "cell_type": "code",
      "metadata": {
        "id": "Z6PheT5qQ5dD"
      },
      "source": [
        ""
      ],
      "execution_count": null,
      "outputs": []
    }
  ]
}