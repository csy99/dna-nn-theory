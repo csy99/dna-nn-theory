{
  "nbformat": 4,
  "nbformat_minor": 0,
  "metadata": {
    "colab": {
      "name": "histone.ipynb",
      "provenance": [],
      "collapsed_sections": [],
      "mount_file_id": "1dJsXfxqSAZEVdBh9M3wmqgqcKapISQo9",
      "authorship_tag": "ABX9TyMPHOPcyUhXWNe44JSB4XbK"
    },
    "kernelspec": {
      "name": "python3",
      "display_name": "Python 3"
    },
    "accelerator": "GPU"
  },
  "cells": [
    {
      "cell_type": "code",
      "metadata": {
        "colab": {
          "base_uri": "https://localhost:8080/"
        },
        "id": "70oa96_TmSd0",
        "outputId": "0b6f613d-7496-4e5d-fda3-069f1afbfe85"
      },
      "source": [
        "!pip install -q biopython\n",
        "\n",
        "%load_ext autoreload\n",
        "%autoreload 2\n",
        "\n",
        "from google.colab import drive\n",
        "drive.mount('/content/drive')"
      ],
      "execution_count": null,
      "outputs": [
        {
          "output_type": "stream",
          "text": [
            "\u001b[?25l\r\u001b[K     |▏                               | 10kB 21.9MB/s eta 0:00:01\r\u001b[K     |▎                               | 20kB 25.9MB/s eta 0:00:01\r\u001b[K     |▍                               | 30kB 12.4MB/s eta 0:00:01\r\u001b[K     |▋                               | 40kB 9.7MB/s eta 0:00:01\r\u001b[K     |▊                               | 51kB 9.8MB/s eta 0:00:01\r\u001b[K     |▉                               | 61kB 9.9MB/s eta 0:00:01\r\u001b[K     |█                               | 71kB 9.1MB/s eta 0:00:01\r\u001b[K     |█▏                              | 81kB 9.5MB/s eta 0:00:01\r\u001b[K     |█▎                              | 92kB 8.9MB/s eta 0:00:01\r\u001b[K     |█▌                              | 102kB 9.0MB/s eta 0:00:01\r\u001b[K     |█▋                              | 112kB 9.0MB/s eta 0:00:01\r\u001b[K     |█▊                              | 122kB 9.0MB/s eta 0:00:01\r\u001b[K     |██                              | 133kB 9.0MB/s eta 0:00:01\r\u001b[K     |██                              | 143kB 9.0MB/s eta 0:00:01\r\u001b[K     |██▏                             | 153kB 9.0MB/s eta 0:00:01\r\u001b[K     |██▎                             | 163kB 9.0MB/s eta 0:00:01\r\u001b[K     |██▌                             | 174kB 9.0MB/s eta 0:00:01\r\u001b[K     |██▋                             | 184kB 9.0MB/s eta 0:00:01\r\u001b[K     |██▊                             | 194kB 9.0MB/s eta 0:00:01\r\u001b[K     |███                             | 204kB 9.0MB/s eta 0:00:01\r\u001b[K     |███                             | 215kB 9.0MB/s eta 0:00:01\r\u001b[K     |███▏                            | 225kB 9.0MB/s eta 0:00:01\r\u001b[K     |███▍                            | 235kB 9.0MB/s eta 0:00:01\r\u001b[K     |███▌                            | 245kB 9.0MB/s eta 0:00:01\r\u001b[K     |███▋                            | 256kB 9.0MB/s eta 0:00:01\r\u001b[K     |███▉                            | 266kB 9.0MB/s eta 0:00:01\r\u001b[K     |████                            | 276kB 9.0MB/s eta 0:00:01\r\u001b[K     |████                            | 286kB 9.0MB/s eta 0:00:01\r\u001b[K     |████▏                           | 296kB 9.0MB/s eta 0:00:01\r\u001b[K     |████▍                           | 307kB 9.0MB/s eta 0:00:01\r\u001b[K     |████▌                           | 317kB 9.0MB/s eta 0:00:01\r\u001b[K     |████▋                           | 327kB 9.0MB/s eta 0:00:01\r\u001b[K     |████▉                           | 337kB 9.0MB/s eta 0:00:01\r\u001b[K     |█████                           | 348kB 9.0MB/s eta 0:00:01\r\u001b[K     |█████                           | 358kB 9.0MB/s eta 0:00:01\r\u001b[K     |█████▎                          | 368kB 9.0MB/s eta 0:00:01\r\u001b[K     |█████▍                          | 378kB 9.0MB/s eta 0:00:01\r\u001b[K     |█████▌                          | 389kB 9.0MB/s eta 0:00:01\r\u001b[K     |█████▊                          | 399kB 9.0MB/s eta 0:00:01\r\u001b[K     |█████▉                          | 409kB 9.0MB/s eta 0:00:01\r\u001b[K     |██████                          | 419kB 9.0MB/s eta 0:00:01\r\u001b[K     |██████                          | 430kB 9.0MB/s eta 0:00:01\r\u001b[K     |██████▎                         | 440kB 9.0MB/s eta 0:00:01\r\u001b[K     |██████▍                         | 450kB 9.0MB/s eta 0:00:01\r\u001b[K     |██████▌                         | 460kB 9.0MB/s eta 0:00:01\r\u001b[K     |██████▊                         | 471kB 9.0MB/s eta 0:00:01\r\u001b[K     |██████▉                         | 481kB 9.0MB/s eta 0:00:01\r\u001b[K     |███████                         | 491kB 9.0MB/s eta 0:00:01\r\u001b[K     |███████▏                        | 501kB 9.0MB/s eta 0:00:01\r\u001b[K     |███████▎                        | 512kB 9.0MB/s eta 0:00:01\r\u001b[K     |███████▍                        | 522kB 9.0MB/s eta 0:00:01\r\u001b[K     |███████▋                        | 532kB 9.0MB/s eta 0:00:01\r\u001b[K     |███████▊                        | 542kB 9.0MB/s eta 0:00:01\r\u001b[K     |███████▉                        | 552kB 9.0MB/s eta 0:00:01\r\u001b[K     |████████                        | 563kB 9.0MB/s eta 0:00:01\r\u001b[K     |████████▏                       | 573kB 9.0MB/s eta 0:00:01\r\u001b[K     |████████▎                       | 583kB 9.0MB/s eta 0:00:01\r\u001b[K     |████████▍                       | 593kB 9.0MB/s eta 0:00:01\r\u001b[K     |████████▋                       | 604kB 9.0MB/s eta 0:00:01\r\u001b[K     |████████▊                       | 614kB 9.0MB/s eta 0:00:01\r\u001b[K     |████████▉                       | 624kB 9.0MB/s eta 0:00:01\r\u001b[K     |█████████                       | 634kB 9.0MB/s eta 0:00:01\r\u001b[K     |█████████▏                      | 645kB 9.0MB/s eta 0:00:01\r\u001b[K     |█████████▎                      | 655kB 9.0MB/s eta 0:00:01\r\u001b[K     |█████████▌                      | 665kB 9.0MB/s eta 0:00:01\r\u001b[K     |█████████▋                      | 675kB 9.0MB/s eta 0:00:01\r\u001b[K     |█████████▊                      | 686kB 9.0MB/s eta 0:00:01\r\u001b[K     |█████████▉                      | 696kB 9.0MB/s eta 0:00:01\r\u001b[K     |██████████                      | 706kB 9.0MB/s eta 0:00:01\r\u001b[K     |██████████▏                     | 716kB 9.0MB/s eta 0:00:01\r\u001b[K     |██████████▎                     | 727kB 9.0MB/s eta 0:00:01\r\u001b[K     |██████████▌                     | 737kB 9.0MB/s eta 0:00:01\r\u001b[K     |██████████▋                     | 747kB 9.0MB/s eta 0:00:01\r\u001b[K     |██████████▊                     | 757kB 9.0MB/s eta 0:00:01\r\u001b[K     |███████████                     | 768kB 9.0MB/s eta 0:00:01\r\u001b[K     |███████████                     | 778kB 9.0MB/s eta 0:00:01\r\u001b[K     |███████████▏                    | 788kB 9.0MB/s eta 0:00:01\r\u001b[K     |███████████▍                    | 798kB 9.0MB/s eta 0:00:01\r\u001b[K     |███████████▌                    | 808kB 9.0MB/s eta 0:00:01\r\u001b[K     |███████████▋                    | 819kB 9.0MB/s eta 0:00:01\r\u001b[K     |███████████▉                    | 829kB 9.0MB/s eta 0:00:01\r\u001b[K     |████████████                    | 839kB 9.0MB/s eta 0:00:01\r\u001b[K     |████████████                    | 849kB 9.0MB/s eta 0:00:01\r\u001b[K     |████████████▏                   | 860kB 9.0MB/s eta 0:00:01\r\u001b[K     |████████████▍                   | 870kB 9.0MB/s eta 0:00:01\r\u001b[K     |████████████▌                   | 880kB 9.0MB/s eta 0:00:01\r\u001b[K     |████████████▋                   | 890kB 9.0MB/s eta 0:00:01\r\u001b[K     |████████████▉                   | 901kB 9.0MB/s eta 0:00:01\r\u001b[K     |█████████████                   | 911kB 9.0MB/s eta 0:00:01\r\u001b[K     |█████████████                   | 921kB 9.0MB/s eta 0:00:01\r\u001b[K     |█████████████▎                  | 931kB 9.0MB/s eta 0:00:01\r\u001b[K     |█████████████▍                  | 942kB 9.0MB/s eta 0:00:01\r\u001b[K     |█████████████▌                  | 952kB 9.0MB/s eta 0:00:01\r\u001b[K     |█████████████▊                  | 962kB 9.0MB/s eta 0:00:01\r\u001b[K     |█████████████▉                  | 972kB 9.0MB/s eta 0:00:01\r\u001b[K     |██████████████                  | 983kB 9.0MB/s eta 0:00:01\r\u001b[K     |██████████████                  | 993kB 9.0MB/s eta 0:00:01\r\u001b[K     |██████████████▎                 | 1.0MB 9.0MB/s eta 0:00:01\r\u001b[K     |██████████████▍                 | 1.0MB 9.0MB/s eta 0:00:01\r\u001b[K     |██████████████▌                 | 1.0MB 9.0MB/s eta 0:00:01\r\u001b[K     |██████████████▊                 | 1.0MB 9.0MB/s eta 0:00:01\r\u001b[K     |██████████████▉                 | 1.0MB 9.0MB/s eta 0:00:01\r\u001b[K     |███████████████                 | 1.1MB 9.0MB/s eta 0:00:01\r\u001b[K     |███████████████▏                | 1.1MB 9.0MB/s eta 0:00:01\r\u001b[K     |███████████████▎                | 1.1MB 9.0MB/s eta 0:00:01\r\u001b[K     |███████████████▍                | 1.1MB 9.0MB/s eta 0:00:01\r\u001b[K     |███████████████▋                | 1.1MB 9.0MB/s eta 0:00:01\r\u001b[K     |███████████████▊                | 1.1MB 9.0MB/s eta 0:00:01\r\u001b[K     |███████████████▉                | 1.1MB 9.0MB/s eta 0:00:01\r\u001b[K     |████████████████                | 1.1MB 9.0MB/s eta 0:00:01\r\u001b[K     |████████████████▏               | 1.1MB 9.0MB/s eta 0:00:01\r\u001b[K     |████████████████▎               | 1.1MB 9.0MB/s eta 0:00:01\r\u001b[K     |████████████████▍               | 1.2MB 9.0MB/s eta 0:00:01\r\u001b[K     |████████████████▋               | 1.2MB 9.0MB/s eta 0:00:01\r\u001b[K     |████████████████▊               | 1.2MB 9.0MB/s eta 0:00:01\r\u001b[K     |████████████████▉               | 1.2MB 9.0MB/s eta 0:00:01\r\u001b[K     |█████████████████               | 1.2MB 9.0MB/s eta 0:00:01\r\u001b[K     |█████████████████▏              | 1.2MB 9.0MB/s eta 0:00:01\r\u001b[K     |█████████████████▎              | 1.2MB 9.0MB/s eta 0:00:01\r\u001b[K     |█████████████████▌              | 1.2MB 9.0MB/s eta 0:00:01\r\u001b[K     |█████████████████▋              | 1.2MB 9.0MB/s eta 0:00:01\r\u001b[K     |█████████████████▊              | 1.2MB 9.0MB/s eta 0:00:01\r\u001b[K     |█████████████████▉              | 1.3MB 9.0MB/s eta 0:00:01\r\u001b[K     |██████████████████              | 1.3MB 9.0MB/s eta 0:00:01\r\u001b[K     |██████████████████▏             | 1.3MB 9.0MB/s eta 0:00:01\r\u001b[K     |██████████████████▎             | 1.3MB 9.0MB/s eta 0:00:01\r\u001b[K     |██████████████████▌             | 1.3MB 9.0MB/s eta 0:00:01\r\u001b[K     |██████████████████▋             | 1.3MB 9.0MB/s eta 0:00:01\r\u001b[K     |██████████████████▊             | 1.3MB 9.0MB/s eta 0:00:01\r\u001b[K     |███████████████████             | 1.3MB 9.0MB/s eta 0:00:01\r\u001b[K     |███████████████████             | 1.3MB 9.0MB/s eta 0:00:01\r\u001b[K     |███████████████████▏            | 1.4MB 9.0MB/s eta 0:00:01\r\u001b[K     |███████████████████▍            | 1.4MB 9.0MB/s eta 0:00:01\r\u001b[K     |███████████████████▌            | 1.4MB 9.0MB/s eta 0:00:01\r\u001b[K     |███████████████████▋            | 1.4MB 9.0MB/s eta 0:00:01\r\u001b[K     |███████████████████▊            | 1.4MB 9.0MB/s eta 0:00:01\r\u001b[K     |████████████████████            | 1.4MB 9.0MB/s eta 0:00:01\r\u001b[K     |████████████████████            | 1.4MB 9.0MB/s eta 0:00:01\r\u001b[K     |████████████████████▏           | 1.4MB 9.0MB/s eta 0:00:01\r\u001b[K     |████████████████████▍           | 1.4MB 9.0MB/s eta 0:00:01\r\u001b[K     |████████████████████▌           | 1.4MB 9.0MB/s eta 0:00:01\r\u001b[K     |████████████████████▋           | 1.5MB 9.0MB/s eta 0:00:01\r\u001b[K     |████████████████████▉           | 1.5MB 9.0MB/s eta 0:00:01\r\u001b[K     |█████████████████████           | 1.5MB 9.0MB/s eta 0:00:01\r\u001b[K     |█████████████████████           | 1.5MB 9.0MB/s eta 0:00:01\r\u001b[K     |█████████████████████▎          | 1.5MB 9.0MB/s eta 0:00:01\r\u001b[K     |█████████████████████▍          | 1.5MB 9.0MB/s eta 0:00:01\r\u001b[K     |█████████████████████▌          | 1.5MB 9.0MB/s eta 0:00:01\r\u001b[K     |█████████████████████▊          | 1.5MB 9.0MB/s eta 0:00:01\r\u001b[K     |█████████████████████▉          | 1.5MB 9.0MB/s eta 0:00:01\r\u001b[K     |██████████████████████          | 1.5MB 9.0MB/s eta 0:00:01\r\u001b[K     |██████████████████████          | 1.6MB 9.0MB/s eta 0:00:01\r\u001b[K     |██████████████████████▎         | 1.6MB 9.0MB/s eta 0:00:01\r\u001b[K     |██████████████████████▍         | 1.6MB 9.0MB/s eta 0:00:01\r\u001b[K     |██████████████████████▌         | 1.6MB 9.0MB/s eta 0:00:01\r\u001b[K     |██████████████████████▊         | 1.6MB 9.0MB/s eta 0:00:01\r\u001b[K     |██████████████████████▉         | 1.6MB 9.0MB/s eta 0:00:01\r\u001b[K     |███████████████████████         | 1.6MB 9.0MB/s eta 0:00:01\r\u001b[K     |███████████████████████▏        | 1.6MB 9.0MB/s eta 0:00:01\r\u001b[K     |███████████████████████▎        | 1.6MB 9.0MB/s eta 0:00:01\r\u001b[K     |███████████████████████▍        | 1.6MB 9.0MB/s eta 0:00:01\r\u001b[K     |███████████████████████▋        | 1.7MB 9.0MB/s eta 0:00:01\r\u001b[K     |███████████████████████▊        | 1.7MB 9.0MB/s eta 0:00:01\r\u001b[K     |███████████████████████▉        | 1.7MB 9.0MB/s eta 0:00:01\r\u001b[K     |████████████████████████        | 1.7MB 9.0MB/s eta 0:00:01\r\u001b[K     |████████████████████████▏       | 1.7MB 9.0MB/s eta 0:00:01\r\u001b[K     |████████████████████████▎       | 1.7MB 9.0MB/s eta 0:00:01\r\u001b[K     |████████████████████████▍       | 1.7MB 9.0MB/s eta 0:00:01\r\u001b[K     |████████████████████████▋       | 1.7MB 9.0MB/s eta 0:00:01\r\u001b[K     |████████████████████████▊       | 1.7MB 9.0MB/s eta 0:00:01\r\u001b[K     |████████████████████████▉       | 1.8MB 9.0MB/s eta 0:00:01\r\u001b[K     |█████████████████████████       | 1.8MB 9.0MB/s eta 0:00:01\r\u001b[K     |█████████████████████████▏      | 1.8MB 9.0MB/s eta 0:00:01\r\u001b[K     |█████████████████████████▎      | 1.8MB 9.0MB/s eta 0:00:01\r\u001b[K     |█████████████████████████▌      | 1.8MB 9.0MB/s eta 0:00:01\r\u001b[K     |█████████████████████████▋      | 1.8MB 9.0MB/s eta 0:00:01\r\u001b[K     |█████████████████████████▊      | 1.8MB 9.0MB/s eta 0:00:01\r\u001b[K     |█████████████████████████▉      | 1.8MB 9.0MB/s eta 0:00:01\r\u001b[K     |██████████████████████████      | 1.8MB 9.0MB/s eta 0:00:01\r\u001b[K     |██████████████████████████▏     | 1.8MB 9.0MB/s eta 0:00:01\r\u001b[K     |██████████████████████████▎     | 1.9MB 9.0MB/s eta 0:00:01\r\u001b[K     |██████████████████████████▌     | 1.9MB 9.0MB/s eta 0:00:01\r\u001b[K     |██████████████████████████▋     | 1.9MB 9.0MB/s eta 0:00:01\r\u001b[K     |██████████████████████████▊     | 1.9MB 9.0MB/s eta 0:00:01\r\u001b[K     |███████████████████████████     | 1.9MB 9.0MB/s eta 0:00:01\r\u001b[K     |███████████████████████████     | 1.9MB 9.0MB/s eta 0:00:01\r\u001b[K     |███████████████████████████▏    | 1.9MB 9.0MB/s eta 0:00:01\r\u001b[K     |███████████████████████████▍    | 1.9MB 9.0MB/s eta 0:00:01\r\u001b[K     |███████████████████████████▌    | 1.9MB 9.0MB/s eta 0:00:01\r\u001b[K     |███████████████████████████▋    | 1.9MB 9.0MB/s eta 0:00:01\r\u001b[K     |███████████████████████████▊    | 2.0MB 9.0MB/s eta 0:00:01\r\u001b[K     |████████████████████████████    | 2.0MB 9.0MB/s eta 0:00:01\r\u001b[K     |████████████████████████████    | 2.0MB 9.0MB/s eta 0:00:01\r\u001b[K     |████████████████████████████▏   | 2.0MB 9.0MB/s eta 0:00:01\r\u001b[K     |████████████████████████████▍   | 2.0MB 9.0MB/s eta 0:00:01\r\u001b[K     |████████████████████████████▌   | 2.0MB 9.0MB/s eta 0:00:01\r\u001b[K     |████████████████████████████▋   | 2.0MB 9.0MB/s eta 0:00:01\r\u001b[K     |████████████████████████████▉   | 2.0MB 9.0MB/s eta 0:00:01\r\u001b[K     |█████████████████████████████   | 2.0MB 9.0MB/s eta 0:00:01\r\u001b[K     |█████████████████████████████   | 2.0MB 9.0MB/s eta 0:00:01\r\u001b[K     |█████████████████████████████▎  | 2.1MB 9.0MB/s eta 0:00:01\r\u001b[K     |█████████████████████████████▍  | 2.1MB 9.0MB/s eta 0:00:01\r\u001b[K     |█████████████████████████████▌  | 2.1MB 9.0MB/s eta 0:00:01\r\u001b[K     |█████████████████████████████▋  | 2.1MB 9.0MB/s eta 0:00:01\r\u001b[K     |█████████████████████████████▉  | 2.1MB 9.0MB/s eta 0:00:01\r\u001b[K     |██████████████████████████████  | 2.1MB 9.0MB/s eta 0:00:01\r\u001b[K     |██████████████████████████████  | 2.1MB 9.0MB/s eta 0:00:01\r\u001b[K     |██████████████████████████████▎ | 2.1MB 9.0MB/s eta 0:00:01\r\u001b[K     |██████████████████████████████▍ | 2.1MB 9.0MB/s eta 0:00:01\r\u001b[K     |██████████████████████████████▌ | 2.2MB 9.0MB/s eta 0:00:01\r\u001b[K     |██████████████████████████████▊ | 2.2MB 9.0MB/s eta 0:00:01\r\u001b[K     |██████████████████████████████▉ | 2.2MB 9.0MB/s eta 0:00:01\r\u001b[K     |███████████████████████████████ | 2.2MB 9.0MB/s eta 0:00:01\r\u001b[K     |███████████████████████████████▏| 2.2MB 9.0MB/s eta 0:00:01\r\u001b[K     |███████████████████████████████▎| 2.2MB 9.0MB/s eta 0:00:01\r\u001b[K     |███████████████████████████████▍| 2.2MB 9.0MB/s eta 0:00:01\r\u001b[K     |███████████████████████████████▋| 2.2MB 9.0MB/s eta 0:00:01\r\u001b[K     |███████████████████████████████▊| 2.2MB 9.0MB/s eta 0:00:01\r\u001b[K     |███████████████████████████████▉| 2.2MB 9.0MB/s eta 0:00:01\r\u001b[K     |████████████████████████████████| 2.3MB 9.0MB/s eta 0:00:01\r\u001b[K     |████████████████████████████████| 2.3MB 9.0MB/s \n",
            "\u001b[?25hDrive already mounted at /content/drive; to attempt to forcibly remount, call drive.mount(\"/content/drive\", force_remount=True).\n"
          ],
          "name": "stdout"
        }
      ]
    },
    {
      "cell_type": "code",
      "metadata": {
        "id": "GXhKzxZwmjfT"
      },
      "source": [
        "DATA_DIR = '/content/drive/MyDrive/data/histone/'\n",
        "LOG_DIR = '/content/drive/MyDrive/dna-nn/results/'"
      ],
      "execution_count": null,
      "outputs": []
    },
    {
      "cell_type": "code",
      "metadata": {
        "colab": {
          "base_uri": "https://localhost:8080/"
        },
        "id": "DjhjdHC-mtlb",
        "outputId": "0f28eb52-6c83-41ef-acc5-3167f6edff82"
      },
      "source": [
        "!cp -r '/content/drive/MyDrive/dna-nn/dna_nn' .\n",
        "!ls dna_nn"
      ],
      "execution_count": null,
      "outputs": [
        {
          "output_type": "stream",
          "text": [
            "dataset.py  download.py  load.py  model.py\n"
          ],
          "name": "stdout"
        }
      ]
    },
    {
      "cell_type": "code",
      "metadata": {
        "id": "SUeuhg48mt6M"
      },
      "source": [
        "import gc\n",
        "\n",
        "import matplotlib.pyplot as plt\n",
        "import pandas as pd\n",
        "from tensorflow import keras\n",
        "\n",
        "from dna_nn.dataset import h3, h3_raw\n",
        "from dna_nn.model import models, evaluate"
      ],
      "execution_count": null,
      "outputs": []
    },
    {
      "cell_type": "markdown",
      "metadata": {
        "id": "HR5kf7a4CwH8"
      },
      "source": [
        "# 2D features"
      ]
    },
    {
      "cell_type": "code",
      "metadata": {
        "colab": {
          "base_uri": "https://localhost:8080/"
        },
        "id": "lUB3vX2Tm9S_",
        "outputId": "0577e2d5-1dd5-43b7-f4a0-b0df448ecf1c"
      },
      "source": [
        "x_shape, train_ds, validation_data, test_ds = h3(DATA_DIR + 'H3.fasta')"
      ],
      "execution_count": null,
      "outputs": [
        {
          "output_type": "stream",
          "text": [
            "14963 samples loaded\n"
          ],
          "name": "stdout"
        }
      ]
    },
    {
      "cell_type": "code",
      "metadata": {
        "id": "zpSudDzz13JQ"
      },
      "source": [
        "models"
      ],
      "execution_count": null,
      "outputs": []
    },
    {
      "cell_type": "code",
      "metadata": {
        "id": "mu-w23Xho1Yz"
      },
      "source": [
        "key = 'cnn_zeng_4_conv2d_l2'\n",
        "\n",
        "keras.backend.clear_session()\n",
        "model = models[key](x_shape)\n",
        "model.compile(optimizer='adam', loss='binary_crossentropy', metrics='accuracy')\n",
        "model.summary()"
      ],
      "execution_count": null,
      "outputs": []
    },
    {
      "cell_type": "code",
      "metadata": {
        "id": "GAEyIUUhrpLV"
      },
      "source": [
        "csv_path = LOG_DIR + f'{key}-histone-dynamics.csv'\n",
        "model_path = LOG_DIR + f'{key}-histone.h5'\n",
        "\n",
        "callbacks = [\n",
        "    keras.callbacks.CSVLogger(csv_path),\n",
        "    keras.callbacks.LambdaCallback(\n",
        "        on_epoch_end=lambda epoch, logs: gc.collect(),\n",
        "        # on_train_end=lambda logs: model.save(model_path)\n",
        "    ),\n",
        "    keras.callbacks.ModelCheckpoint(model_path, save_best_only=True)\n",
        "]\n",
        "\n",
        "history = model.fit(train_ds, epochs=50, validation_data=validation_data,\n",
        "                    callbacks=callbacks, verbose=3)"
      ],
      "execution_count": null,
      "outputs": []
    },
    {
      "cell_type": "code",
      "metadata": {
        "id": "sNSZsfVHvYyK"
      },
      "source": [
        "model = keras.models.load_model(model_path)\n",
        "test_loss, test_accuracy = model.evaluate(test_ds, verbose=3)\n",
        "\n",
        "y_score = model.predict(test_ds)\n",
        "y_true = [int(y) for x, y in test_ds.unbatch()]\n",
        "evaluate(model, history, test_accuracy, y_score, y_true, LOG_DIR, key, 'histone')"
      ],
      "execution_count": null,
      "outputs": []
    },
    {
      "cell_type": "code",
      "metadata": {
        "id": "HLx-TWAC5EAd"
      },
      "source": [
        "from sklearn.metrics import roc_curve, precision_recall_curve\n",
        "import numpy as np\n",
        "\n",
        "dataset = 'histone'\n",
        "key = 'cnn_zeng_4_conv2d'\n",
        "model_path = LOG_DIR + f'{key}-histone.h5'\n",
        "\n",
        "model = keras.models.load_model(model_path)\n",
        "test_loss, test_accuracy = model.evaluate(test_ds, verbose=3)\n",
        "x_shape, train_ds, validation_data, test_ds = h3(DATA_DIR + 'H3.fasta')\n",
        "y_score = model.predict(test_ds)\n",
        "y_true = [int(y) for x, y in test_ds.unbatch()]\n",
        "\n",
        "precision, recall, thresholds = precision_recall_curve(y_true, y_score)\n",
        "pr = pd.DataFrame({\n",
        "    'precision': precision,\n",
        "    'recall': recall,\n",
        "    'thresholds': np.append(thresholds, np.nan)\n",
        "})\n",
        "pr.to_csv(LOG_DIR + f'{key}-{dataset}-pr.csv', index=False)"
      ],
      "execution_count": null,
      "outputs": []
    },
    {
      "cell_type": "markdown",
      "metadata": {
        "id": "uRB0VLwWEv4q"
      },
      "source": [
        "# 1D features"
      ]
    },
    {
      "cell_type": "code",
      "metadata": {
        "colab": {
          "base_uri": "https://localhost:8080/"
        },
        "id": "d1fEKVh8CoVA",
        "outputId": "a38dd661-c7ec-44c0-cde2-dd77a7f4ce74"
      },
      "source": [
        "x_shape, train_ds, validation_data, test_ds = h3(DATA_DIR + 'H3.fasta', 3, 2, False)"
      ],
      "execution_count": null,
      "outputs": [
        {
          "output_type": "stream",
          "text": [
            "14963 samples loaded\n"
          ],
          "name": "stdout"
        }
      ]
    },
    {
      "cell_type": "code",
      "metadata": {
        "id": "_s_Tl1cEFnLK"
      },
      "source": [
        "models"
      ],
      "execution_count": null,
      "outputs": []
    },
    {
      "cell_type": "code",
      "metadata": {
        "id": "Otz5dRuMGGV0"
      },
      "source": [
        "key = 'deepram_recurrent_onehot'\n",
        "\n",
        "keras.backend.clear_session()\n",
        "model = models[key](x_shape)\n",
        "model.compile(optimizer='adam', loss='binary_crossentropy', metrics='accuracy')\n",
        "model.summary()"
      ],
      "execution_count": null,
      "outputs": []
    },
    {
      "cell_type": "code",
      "metadata": {
        "id": "uVG_of7lGKSX"
      },
      "source": [
        "csv_path = LOG_DIR + f'{key}-histone-dynamics.csv'\n",
        "model_path = LOG_DIR + f'{key}-histone.h5'\n",
        "\n",
        "callbacks = [\n",
        "    keras.callbacks.CSVLogger(csv_path),\n",
        "    keras.callbacks.LambdaCallback(\n",
        "        on_epoch_end=lambda epoch, logs: gc.collect(),\n",
        "        # on_train_end=lambda logs: model.save(model_path)\n",
        "    ),\n",
        "    keras.callbacks.ModelCheckpoint(model_path, save_best_only=True)\n",
        "]\n",
        "\n",
        "history = model.fit(train_ds, epochs=50, validation_data=validation_data,\n",
        "                    callbacks=callbacks, verbose=3)"
      ],
      "execution_count": null,
      "outputs": []
    },
    {
      "cell_type": "code",
      "metadata": {
        "id": "tSBln-NZIiqJ"
      },
      "source": [
        "model = keras.models.load_model(model_path)\n",
        "test_loss, test_accuracy = model.evaluate(test_ds, verbose=3)\n",
        "\n",
        "y_score = model.predict(test_ds)\n",
        "y_true = [int(y) for x, y in test_ds.unbatch()]\n",
        "evaluate(model, history, test_accuracy, y_score, y_true, LOG_DIR, key, 'histone')"
      ],
      "execution_count": null,
      "outputs": []
    },
    {
      "cell_type": "markdown",
      "metadata": {
        "id": "kdefU0ewFbte"
      },
      "source": [
        "# Raw features"
      ]
    },
    {
      "cell_type": "code",
      "metadata": {
        "colab": {
          "base_uri": "https://localhost:8080/"
        },
        "id": "XjjZO8x-Fdth",
        "outputId": "971f72a8-a641-430c-a597-2c2120fa1df8"
      },
      "source": [
        "x_shape, train_ds, validation_data, test_ds = h3_raw(DATA_DIR + 'H3.fasta')"
      ],
      "execution_count": null,
      "outputs": [
        {
          "output_type": "stream",
          "text": [
            "14963 samples loaded\n"
          ],
          "name": "stdout"
        }
      ]
    },
    {
      "cell_type": "code",
      "metadata": {
        "id": "1-lhSDqdQAC0"
      },
      "source": [
        "models"
      ],
      "execution_count": null,
      "outputs": []
    },
    {
      "cell_type": "code",
      "metadata": {
        "id": "sxn6-rhGQP_i"
      },
      "source": [
        "key = 'deepram_recurrent_embed'\n",
        "\n",
        "keras.backend.clear_session()\n",
        "model = models[key](x_shape)\n",
        "model.compile(optimizer='adam', loss='binary_crossentropy', metrics='accuracy')\n",
        "model.summary()"
      ],
      "execution_count": null,
      "outputs": []
    },
    {
      "cell_type": "code",
      "metadata": {
        "id": "KkQLUvNUQR8W"
      },
      "source": [
        "csv_path = LOG_DIR + f'{key}-histone-dynamics.csv'\n",
        "model_path = LOG_DIR + f'{key}-histone.h5'\n",
        "\n",
        "callbacks = [\n",
        "    keras.callbacks.CSVLogger(csv_path),\n",
        "    keras.callbacks.LambdaCallback(\n",
        "        on_epoch_end=lambda epoch, logs: gc.collect(),\n",
        "        # on_train_end=lambda logs: model.save(model_path)\n",
        "    ),\n",
        "    keras.callbacks.ModelCheckpoint(model_path, save_best_only=True)\n",
        "]\n",
        "\n",
        "history = model.fit(train_ds, epochs=50, validation_data=validation_data,\n",
        "                    callbacks=callbacks, verbose=3)"
      ],
      "execution_count": null,
      "outputs": []
    },
    {
      "cell_type": "code",
      "metadata": {
        "id": "fvGUz9TRQVp5"
      },
      "source": [
        "model = keras.models.load_model(model_path)\n",
        "test_loss, test_accuracy = model.evaluate(test_ds, verbose=3)\n",
        "\n",
        "y_score = model.predict(test_ds)\n",
        "y_true = [int(y) for x, y in test_ds.unbatch()]\n",
        "evaluate(model, history, test_accuracy, y_score, y_true, LOG_DIR, key, 'histone')"
      ],
      "execution_count": null,
      "outputs": []
    },
    {
      "cell_type": "code",
      "metadata": {
        "id": "fhdojnhxudAT"
      },
      "source": [
        ""
      ],
      "execution_count": null,
      "outputs": []
    }
  ]
}