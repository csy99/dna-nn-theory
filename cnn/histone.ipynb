{
  "nbformat": 4,
  "nbformat_minor": 0,
  "metadata": {
    "colab": {
      "name": "histone.ipynb",
      "provenance": [],
      "collapsed_sections": [],
      "mount_file_id": "1dJsXfxqSAZEVdBh9M3wmqgqcKapISQo9",
      "authorship_tag": "ABX9TyPIZca6SICXOkSZUdXfB9+g"
    },
    "kernelspec": {
      "name": "python3",
      "display_name": "Python 3"
    },
    "accelerator": "GPU"
  },
  "cells": [
    {
      "cell_type": "code",
      "metadata": {
        "colab": {
          "base_uri": "https://localhost:8080/"
        },
        "id": "70oa96_TmSd0",
        "outputId": "28e0e427-bcec-4c00-8733-3226fe7eb5c3"
      },
      "source": [
        "!pip install -q biopython\n",
        "\n",
        "%load_ext autoreload\n",
        "%autoreload 2\n",
        "\n",
        "from google.colab import drive\n",
        "drive.mount('/content/drive')"
      ],
      "execution_count": null,
      "outputs": [
        {
          "output_type": "stream",
          "text": [
            "\u001b[K     |████████████████████████████████| 2.3MB 8.0MB/s \n",
            "\u001b[?25h"
          ],
          "name": "stdout"
        }
      ]
    },
    {
      "cell_type": "code",
      "metadata": {
        "colab": {
          "base_uri": "https://localhost:8080/"
        },
        "id": "GXhKzxZwmjfT",
        "outputId": "7be4ca27-8e95-4fa5-9e35-f8a1bd9f2ab3"
      },
      "source": [
        "DATA_DIR = '/content/drive/MyDrive/data/histone/'\n",
        "LOG_DIR = '/content/drive/MyDrive/dna-nn/results/'"
      ],
      "execution_count": null,
      "outputs": [
        {
          "output_type": "stream",
          "text": [
            "Drive already mounted at /content/drive; to attempt to forcibly remount, call drive.mount(\"/content/drive\", force_remount=True).\n"
          ],
          "name": "stdout"
        }
      ]
    },
    {
      "cell_type": "code",
      "metadata": {
        "colab": {
          "base_uri": "https://localhost:8080/"
        },
        "id": "DjhjdHC-mtlb",
        "outputId": "ae616f0c-43a8-4e33-f669-8319382e614a"
      },
      "source": [
        "!cp -r '/content/drive/MyDrive/dna-nn/dna_nn' .\n",
        "!ls dna_nn"
      ],
      "execution_count": null,
      "outputs": [
        {
          "output_type": "stream",
          "text": [
            "dataset.py  download.py  load.py  model.py\n"
          ],
          "name": "stdout"
        }
      ]
    },
    {
      "cell_type": "code",
      "metadata": {
        "id": "SUeuhg48mt6M"
      },
      "source": [
        "import gc\n",
        "\n",
        "import matplotlib.pyplot as plt\n",
        "import pandas as pd\n",
        "from tensorflow import keras\n",
        "\n",
        "from dna_nn.dataset import h3\n",
        "from dna_nn.model import models, evaluate"
      ],
      "execution_count": null,
      "outputs": []
    },
    {
      "cell_type": "code",
      "metadata": {
        "colab": {
          "base_uri": "https://localhost:8080/"
        },
        "id": "lUB3vX2Tm9S_",
        "outputId": "bd6802f9-f1c9-4ad7-d323-d8f30cd3dc0f"
      },
      "source": [
        "x_shape, train_ds, validation_data, test_ds = h3(DATA_DIR + 'H3.fasta')"
      ],
      "execution_count": null,
      "outputs": [
        {
          "output_type": "stream",
          "text": [
            "14963 samples loaded\n"
          ],
          "name": "stdout"
        }
      ]
    },
    {
      "cell_type": "code",
      "metadata": {
        "colab": {
          "base_uri": "https://localhost:8080/"
        },
        "id": "zpSudDzz13JQ",
        "outputId": "49836d4c-03c8-4cac-d3f0-05bb634bbd95"
      },
      "source": [
        "models"
      ],
      "execution_count": null,
      "outputs": [
        {
          "output_type": "execute_result",
          "data": {
            "text/plain": [
              "{'cnn_deepdbp': <function dna_nn.model.cnn_deepdbp>,\n",
              " 'cnn_nguyen_2_conv2d': <function dna_nn.model.cnn_nguyen_2_conv2d>,\n",
              " 'cnn_nguyen_conv1d_2_conv2d': <function dna_nn.model.cnn_nguyen_conv1d_2_conv2d>,\n",
              " 'cnn_zeng_2_conv2d': <function dna_nn.model.cnn_zeng_2_conv2d>,\n",
              " 'cnn_zeng_3_conv2d': <function dna_nn.model.cnn_zeng_3_conv2d>,\n",
              " 'cnn_zeng_4_conv2d': <function dna_nn.model.cnn_zeng_4_conv2d>}"
            ]
          },
          "metadata": {
            "tags": []
          },
          "execution_count": 37
        }
      ]
    },
    {
      "cell_type": "code",
      "metadata": {
        "colab": {
          "base_uri": "https://localhost:8080/"
        },
        "id": "mu-w23Xho1Yz",
        "outputId": "4db45776-b971-4293-a505-45825597a5b6"
      },
      "source": [
        "key = 'cnn_zeng_4_conv2d'\n",
        "\n",
        "keras.backend.clear_session()\n",
        "model = models[key](x_shape)\n",
        "model.compile(optimizer='adam', loss='binary_crossentropy', metrics='accuracy')\n",
        "model.summary()"
      ],
      "execution_count": null,
      "outputs": [
        {
          "output_type": "stream",
          "text": [
            "Model: \"sequential\"\n",
            "_________________________________________________________________\n",
            "Layer (type)                 Output Shape              Param #   \n",
            "=================================================================\n",
            "conv2d (Conv2D)              (None, 496, 62, 16)       160       \n",
            "_________________________________________________________________\n",
            "batch_normalization (BatchNo (None, 496, 62, 16)       64        \n",
            "_________________________________________________________________\n",
            "max_pooling2d (MaxPooling2D) (None, 248, 31, 16)       0         \n",
            "_________________________________________________________________\n",
            "conv2d_1 (Conv2D)            (None, 246, 29, 32)       4640      \n",
            "_________________________________________________________________\n",
            "batch_normalization_1 (Batch (None, 246, 29, 32)       128       \n",
            "_________________________________________________________________\n",
            "max_pooling2d_1 (MaxPooling2 (None, 123, 14, 32)       0         \n",
            "_________________________________________________________________\n",
            "conv2d_2 (Conv2D)            (None, 121, 12, 64)       18496     \n",
            "_________________________________________________________________\n",
            "batch_normalization_2 (Batch (None, 121, 12, 64)       256       \n",
            "_________________________________________________________________\n",
            "max_pooling2d_2 (MaxPooling2 (None, 60, 6, 64)         0         \n",
            "_________________________________________________________________\n",
            "conv2d_3 (Conv2D)            (None, 58, 4, 128)        73856     \n",
            "_________________________________________________________________\n",
            "batch_normalization_3 (Batch (None, 58, 4, 128)        512       \n",
            "_________________________________________________________________\n",
            "global_max_pooling2d (Global (None, 128)               0         \n",
            "_________________________________________________________________\n",
            "flatten (Flatten)            (None, 128)               0         \n",
            "_________________________________________________________________\n",
            "dense (Dense)                (None, 32)                4128      \n",
            "_________________________________________________________________\n",
            "dropout (Dropout)            (None, 32)                0         \n",
            "_________________________________________________________________\n",
            "dense_1 (Dense)              (None, 1)                 33        \n",
            "=================================================================\n",
            "Total params: 102,273\n",
            "Trainable params: 101,793\n",
            "Non-trainable params: 480\n",
            "_________________________________________________________________\n"
          ],
          "name": "stdout"
        }
      ]
    },
    {
      "cell_type": "code",
      "metadata": {
        "colab": {
          "base_uri": "https://localhost:8080/"
        },
        "id": "GAEyIUUhrpLV",
        "outputId": "7ffafa19-75c7-4bfe-c89b-603e520d8077"
      },
      "source": [
        "csv_path = LOG_DIR + f'{key}-histone-dynamics.csv'\n",
        "model_path = LOG_DIR + f'{key}-histone.h5'\n",
        "\n",
        "callbacks = [\n",
        "    keras.callbacks.CSVLogger(csv_path),\n",
        "    keras.callbacks.LambdaCallback(\n",
        "        on_epoch_end=lambda epoch, logs: gc.collect(),\n",
        "        # on_train_end=lambda logs: model.save(model_path)\n",
        "    ),\n",
        "    keras.callbacks.ModelCheckpoint(model_path, save_best_only=True)\n",
        "]\n",
        "\n",
        "history = model.fit(train_ds, epochs=50, validation_data=validation_data,\n",
        "                    callbacks=callbacks, verbose=2)"
      ],
      "execution_count": null,
      "outputs": [
        {
          "output_type": "stream",
          "text": [
            "Epoch 1/50\n",
            "328/328 - 10s - loss: 0.6489 - accuracy: 0.6534 - val_loss: 2.0164 - val_accuracy: 0.4878\n",
            "Epoch 2/50\n",
            "328/328 - 9s - loss: 0.5744 - accuracy: 0.6892 - val_loss: 1.0048 - val_accuracy: 0.4895\n",
            "Epoch 3/50\n",
            "328/328 - 9s - loss: 0.5485 - accuracy: 0.7215 - val_loss: 0.4924 - val_accuracy: 0.7751\n",
            "Epoch 4/50\n",
            "328/328 - 9s - loss: 0.5406 - accuracy: 0.7261 - val_loss: 0.5164 - val_accuracy: 0.7590\n",
            "Epoch 5/50\n",
            "328/328 - 9s - loss: 0.5278 - accuracy: 0.7365 - val_loss: 0.4947 - val_accuracy: 0.7661\n",
            "Epoch 6/50\n",
            "328/328 - 9s - loss: 0.5141 - accuracy: 0.7393 - val_loss: 0.4711 - val_accuracy: 0.7826\n",
            "Epoch 7/50\n",
            "328/328 - 9s - loss: 0.4884 - accuracy: 0.7637 - val_loss: 0.5016 - val_accuracy: 0.7688\n",
            "Epoch 8/50\n",
            "328/328 - 9s - loss: 0.4777 - accuracy: 0.7644 - val_loss: 0.5004 - val_accuracy: 0.7528\n",
            "Epoch 9/50\n",
            "328/328 - 9s - loss: 0.4515 - accuracy: 0.7813 - val_loss: 0.4695 - val_accuracy: 0.7906\n",
            "Epoch 10/50\n",
            "328/328 - 9s - loss: 0.4377 - accuracy: 0.7879 - val_loss: 0.6022 - val_accuracy: 0.7238\n",
            "Epoch 11/50\n",
            "328/328 - 9s - loss: 0.4209 - accuracy: 0.8068 - val_loss: 0.4377 - val_accuracy: 0.7964\n",
            "Epoch 12/50\n",
            "328/328 - 9s - loss: 0.3833 - accuracy: 0.8278 - val_loss: 0.4723 - val_accuracy: 0.7933\n",
            "Epoch 13/50\n",
            "328/328 - 9s - loss: 0.3608 - accuracy: 0.8360 - val_loss: 0.4759 - val_accuracy: 0.7875\n",
            "Epoch 14/50\n",
            "328/328 - 9s - loss: 0.3383 - accuracy: 0.8537 - val_loss: 0.4918 - val_accuracy: 0.7915\n",
            "Epoch 15/50\n",
            "328/328 - 9s - loss: 0.2986 - accuracy: 0.8677 - val_loss: 0.7746 - val_accuracy: 0.7581\n",
            "Epoch 16/50\n",
            "328/328 - 9s - loss: 0.2748 - accuracy: 0.8786 - val_loss: 0.8636 - val_accuracy: 0.7514\n",
            "Epoch 17/50\n",
            "328/328 - 9s - loss: 0.2558 - accuracy: 0.8919 - val_loss: 1.0012 - val_accuracy: 0.7038\n",
            "Epoch 18/50\n",
            "328/328 - 9s - loss: 0.2287 - accuracy: 0.8976 - val_loss: 0.6757 - val_accuracy: 0.7857\n",
            "Epoch 19/50\n",
            "328/328 - 9s - loss: 0.2252 - accuracy: 0.9061 - val_loss: 0.7720 - val_accuracy: 0.7719\n",
            "Epoch 20/50\n",
            "328/328 - 9s - loss: 0.1969 - accuracy: 0.9177 - val_loss: 1.6062 - val_accuracy: 0.6722\n",
            "Epoch 21/50\n",
            "328/328 - 9s - loss: 0.1767 - accuracy: 0.9254 - val_loss: 0.7731 - val_accuracy: 0.7782\n",
            "Epoch 22/50\n",
            "328/328 - 9s - loss: 0.1644 - accuracy: 0.9290 - val_loss: 0.6962 - val_accuracy: 0.7586\n",
            "Epoch 23/50\n",
            "328/328 - 9s - loss: 0.1498 - accuracy: 0.9353 - val_loss: 1.7868 - val_accuracy: 0.6886\n",
            "Epoch 24/50\n",
            "328/328 - 9s - loss: 0.1413 - accuracy: 0.9386 - val_loss: 1.3660 - val_accuracy: 0.7136\n",
            "Epoch 25/50\n",
            "328/328 - 9s - loss: 0.1404 - accuracy: 0.9386 - val_loss: 0.7751 - val_accuracy: 0.7920\n",
            "Epoch 26/50\n",
            "328/328 - 9s - loss: 0.1323 - accuracy: 0.9417 - val_loss: 1.2151 - val_accuracy: 0.7305\n",
            "Epoch 27/50\n",
            "328/328 - 9s - loss: 0.1267 - accuracy: 0.9472 - val_loss: 1.4223 - val_accuracy: 0.7109\n",
            "Epoch 28/50\n",
            "328/328 - 9s - loss: 0.1350 - accuracy: 0.9421 - val_loss: 0.8268 - val_accuracy: 0.7710\n",
            "Epoch 29/50\n",
            "328/328 - 9s - loss: 0.1284 - accuracy: 0.9458 - val_loss: 0.9326 - val_accuracy: 0.7742\n",
            "Epoch 30/50\n",
            "328/328 - 9s - loss: 0.1230 - accuracy: 0.9448 - val_loss: 1.1003 - val_accuracy: 0.7639\n",
            "Epoch 31/50\n",
            "328/328 - 9s - loss: 0.1187 - accuracy: 0.9461 - val_loss: 1.0673 - val_accuracy: 0.7693\n",
            "Epoch 32/50\n",
            "328/328 - 9s - loss: 0.1201 - accuracy: 0.9451 - val_loss: 0.9195 - val_accuracy: 0.7813\n",
            "Epoch 33/50\n",
            "328/328 - 9s - loss: 0.1299 - accuracy: 0.9427 - val_loss: 1.5577 - val_accuracy: 0.7122\n",
            "Epoch 34/50\n",
            "328/328 - 9s - loss: 0.1105 - accuracy: 0.9518 - val_loss: 0.8395 - val_accuracy: 0.7795\n",
            "Epoch 35/50\n",
            "328/328 - 9s - loss: 0.1110 - accuracy: 0.9477 - val_loss: 1.5463 - val_accuracy: 0.7457\n",
            "Epoch 36/50\n",
            "328/328 - 9s - loss: 0.1161 - accuracy: 0.9489 - val_loss: 0.9611 - val_accuracy: 0.7653\n",
            "Epoch 37/50\n",
            "328/328 - 9s - loss: 0.0932 - accuracy: 0.9532 - val_loss: 1.6317 - val_accuracy: 0.6820\n",
            "Epoch 38/50\n",
            "328/328 - 9s - loss: 0.0925 - accuracy: 0.9537 - val_loss: 0.9335 - val_accuracy: 0.7857\n",
            "Epoch 39/50\n",
            "328/328 - 9s - loss: 0.1073 - accuracy: 0.9489 - val_loss: 1.8357 - val_accuracy: 0.7078\n",
            "Epoch 40/50\n",
            "328/328 - 9s - loss: 0.1042 - accuracy: 0.9468 - val_loss: 1.3438 - val_accuracy: 0.7421\n",
            "Epoch 41/50\n",
            "328/328 - 9s - loss: 0.0828 - accuracy: 0.9571 - val_loss: 1.5720 - val_accuracy: 0.7390\n",
            "Epoch 42/50\n",
            "328/328 - 9s - loss: 0.0888 - accuracy: 0.9531 - val_loss: 1.2077 - val_accuracy: 0.7777\n",
            "Epoch 43/50\n",
            "328/328 - 9s - loss: 0.0866 - accuracy: 0.9536 - val_loss: 1.1817 - val_accuracy: 0.7938\n",
            "Epoch 44/50\n",
            "328/328 - 9s - loss: 0.0682 - accuracy: 0.9593 - val_loss: 1.4166 - val_accuracy: 0.7768\n",
            "Epoch 45/50\n",
            "328/328 - 9s - loss: 0.0890 - accuracy: 0.9545 - val_loss: 1.9009 - val_accuracy: 0.7465\n",
            "Epoch 46/50\n",
            "328/328 - 9s - loss: 0.0888 - accuracy: 0.9533 - val_loss: 1.4638 - val_accuracy: 0.7644\n",
            "Epoch 47/50\n",
            "328/328 - 9s - loss: 0.0814 - accuracy: 0.9558 - val_loss: 0.9789 - val_accuracy: 0.7991\n",
            "Epoch 48/50\n",
            "328/328 - 9s - loss: 0.0961 - accuracy: 0.9505 - val_loss: 1.0825 - val_accuracy: 0.7987\n",
            "Epoch 49/50\n",
            "328/328 - 9s - loss: 0.0741 - accuracy: 0.9591 - val_loss: 1.5091 - val_accuracy: 0.7670\n",
            "Epoch 50/50\n",
            "328/328 - 9s - loss: 0.0753 - accuracy: 0.9558 - val_loss: 1.2478 - val_accuracy: 0.7889\n"
          ],
          "name": "stdout"
        }
      ]
    },
    {
      "cell_type": "code",
      "metadata": {
        "id": "sNSZsfVHvYyK"
      },
      "source": [
        "model = keras.models.load_model(model_path)\n",
        "test_loss, test_accuracy = model.evaluate(test_ds, verbose=3)\n",
        "\n",
        "y_score = model.predict(test_ds)\n",
        "y_true = [int(y) for x, y in test_ds.unbatch()]\n",
        "evaluate(model, history, test_accuracy, y_score, y_true, LOG_DIR, key, 'histone')"
      ],
      "execution_count": null,
      "outputs": []
    }
  ]
}