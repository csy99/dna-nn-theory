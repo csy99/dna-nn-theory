{
  "nbformat": 4,
  "nbformat_minor": 0,
  "metadata": {
    "colab": {
      "name": "splice.ipynb",
      "provenance": [],
      "collapsed_sections": [],
      "authorship_tag": "ABX9TyPAG4Cf0XX9rRNsFAGZEXXu"
    },
    "kernelspec": {
      "name": "python3",
      "display_name": "Python 3"
    }
  },
  "cells": [
    {
      "cell_type": "code",
      "metadata": {
        "colab": {
          "base_uri": "https://localhost:8080/"
        },
        "id": "70oa96_TmSd0",
        "outputId": "4764e7c5-8067-44ad-8b08-86309dbb7755"
      },
      "source": [
        "!pip install -q biopython\n",
        "\n",
        "%load_ext autoreload\n",
        "%autoreload 2\n",
        "\n",
        "from google.colab import drive\n",
        "drive.mount('/content/drive')"
      ],
      "execution_count": null,
      "outputs": [
        {
          "output_type": "stream",
          "text": [
            "\u001b[?25l\r\u001b[K     |▏                               | 10kB 11.7MB/s eta 0:00:01\r\u001b[K     |▎                               | 20kB 17.4MB/s eta 0:00:01\r\u001b[K     |▍                               | 30kB 21.6MB/s eta 0:00:01\r\u001b[K     |▋                               | 40kB 18.7MB/s eta 0:00:01\r\u001b[K     |▊                               | 51kB 17.8MB/s eta 0:00:01\r\u001b[K     |▉                               | 61kB 16.1MB/s eta 0:00:01\r\u001b[K     |█                               | 71kB 14.0MB/s eta 0:00:01\r\u001b[K     |█▏                              | 81kB 12.4MB/s eta 0:00:01\r\u001b[K     |█▎                              | 92kB 12.0MB/s eta 0:00:01\r\u001b[K     |█▌                              | 102kB 11.9MB/s eta 0:00:01\r\u001b[K     |█▋                              | 112kB 11.9MB/s eta 0:00:01\r\u001b[K     |█▊                              | 122kB 11.9MB/s eta 0:00:01\r\u001b[K     |██                              | 133kB 11.9MB/s eta 0:00:01\r\u001b[K     |██                              | 143kB 11.9MB/s eta 0:00:01\r\u001b[K     |██▏                             | 153kB 11.9MB/s eta 0:00:01\r\u001b[K     |██▎                             | 163kB 11.9MB/s eta 0:00:01\r\u001b[K     |██▌                             | 174kB 11.9MB/s eta 0:00:01\r\u001b[K     |██▋                             | 184kB 11.9MB/s eta 0:00:01\r\u001b[K     |██▊                             | 194kB 11.9MB/s eta 0:00:01\r\u001b[K     |███                             | 204kB 11.9MB/s eta 0:00:01\r\u001b[K     |███                             | 215kB 11.9MB/s eta 0:00:01\r\u001b[K     |███▏                            | 225kB 11.9MB/s eta 0:00:01\r\u001b[K     |███▍                            | 235kB 11.9MB/s eta 0:00:01\r\u001b[K     |███▌                            | 245kB 11.9MB/s eta 0:00:01\r\u001b[K     |███▋                            | 256kB 11.9MB/s eta 0:00:01\r\u001b[K     |███▉                            | 266kB 11.9MB/s eta 0:00:01\r\u001b[K     |████                            | 276kB 11.9MB/s eta 0:00:01\r\u001b[K     |████                            | 286kB 11.9MB/s eta 0:00:01\r\u001b[K     |████▏                           | 296kB 11.9MB/s eta 0:00:01\r\u001b[K     |████▍                           | 307kB 11.9MB/s eta 0:00:01\r\u001b[K     |████▌                           | 317kB 11.9MB/s eta 0:00:01\r\u001b[K     |████▋                           | 327kB 11.9MB/s eta 0:00:01\r\u001b[K     |████▉                           | 337kB 11.9MB/s eta 0:00:01\r\u001b[K     |█████                           | 348kB 11.9MB/s eta 0:00:01\r\u001b[K     |█████                           | 358kB 11.9MB/s eta 0:00:01\r\u001b[K     |█████▎                          | 368kB 11.9MB/s eta 0:00:01\r\u001b[K     |█████▍                          | 378kB 11.9MB/s eta 0:00:01\r\u001b[K     |█████▌                          | 389kB 11.9MB/s eta 0:00:01\r\u001b[K     |█████▊                          | 399kB 11.9MB/s eta 0:00:01\r\u001b[K     |█████▉                          | 409kB 11.9MB/s eta 0:00:01\r\u001b[K     |██████                          | 419kB 11.9MB/s eta 0:00:01\r\u001b[K     |██████                          | 430kB 11.9MB/s eta 0:00:01\r\u001b[K     |██████▎                         | 440kB 11.9MB/s eta 0:00:01\r\u001b[K     |██████▍                         | 450kB 11.9MB/s eta 0:00:01\r\u001b[K     |██████▌                         | 460kB 11.9MB/s eta 0:00:01\r\u001b[K     |██████▊                         | 471kB 11.9MB/s eta 0:00:01\r\u001b[K     |██████▉                         | 481kB 11.9MB/s eta 0:00:01\r\u001b[K     |███████                         | 491kB 11.9MB/s eta 0:00:01\r\u001b[K     |███████▏                        | 501kB 11.9MB/s eta 0:00:01\r\u001b[K     |███████▎                        | 512kB 11.9MB/s eta 0:00:01\r\u001b[K     |███████▍                        | 522kB 11.9MB/s eta 0:00:01\r\u001b[K     |███████▋                        | 532kB 11.9MB/s eta 0:00:01\r\u001b[K     |███████▊                        | 542kB 11.9MB/s eta 0:00:01\r\u001b[K     |███████▉                        | 552kB 11.9MB/s eta 0:00:01\r\u001b[K     |████████                        | 563kB 11.9MB/s eta 0:00:01\r\u001b[K     |████████▏                       | 573kB 11.9MB/s eta 0:00:01\r\u001b[K     |████████▎                       | 583kB 11.9MB/s eta 0:00:01\r\u001b[K     |████████▍                       | 593kB 11.9MB/s eta 0:00:01\r\u001b[K     |████████▋                       | 604kB 11.9MB/s eta 0:00:01\r\u001b[K     |████████▊                       | 614kB 11.9MB/s eta 0:00:01\r\u001b[K     |████████▉                       | 624kB 11.9MB/s eta 0:00:01\r\u001b[K     |█████████                       | 634kB 11.9MB/s eta 0:00:01\r\u001b[K     |█████████▏                      | 645kB 11.9MB/s eta 0:00:01\r\u001b[K     |█████████▎                      | 655kB 11.9MB/s eta 0:00:01\r\u001b[K     |█████████▌                      | 665kB 11.9MB/s eta 0:00:01\r\u001b[K     |█████████▋                      | 675kB 11.9MB/s eta 0:00:01\r\u001b[K     |█████████▊                      | 686kB 11.9MB/s eta 0:00:01\r\u001b[K     |█████████▉                      | 696kB 11.9MB/s eta 0:00:01\r\u001b[K     |██████████                      | 706kB 11.9MB/s eta 0:00:01\r\u001b[K     |██████████▏                     | 716kB 11.9MB/s eta 0:00:01\r\u001b[K     |██████████▎                     | 727kB 11.9MB/s eta 0:00:01\r\u001b[K     |██████████▌                     | 737kB 11.9MB/s eta 0:00:01\r\u001b[K     |██████████▋                     | 747kB 11.9MB/s eta 0:00:01\r\u001b[K     |██████████▊                     | 757kB 11.9MB/s eta 0:00:01\r\u001b[K     |███████████                     | 768kB 11.9MB/s eta 0:00:01\r\u001b[K     |███████████                     | 778kB 11.9MB/s eta 0:00:01\r\u001b[K     |███████████▏                    | 788kB 11.9MB/s eta 0:00:01\r\u001b[K     |███████████▍                    | 798kB 11.9MB/s eta 0:00:01\r\u001b[K     |███████████▌                    | 808kB 11.9MB/s eta 0:00:01\r\u001b[K     |███████████▋                    | 819kB 11.9MB/s eta 0:00:01\r\u001b[K     |███████████▉                    | 829kB 11.9MB/s eta 0:00:01\r\u001b[K     |████████████                    | 839kB 11.9MB/s eta 0:00:01\r\u001b[K     |████████████                    | 849kB 11.9MB/s eta 0:00:01\r\u001b[K     |████████████▏                   | 860kB 11.9MB/s eta 0:00:01\r\u001b[K     |████████████▍                   | 870kB 11.9MB/s eta 0:00:01\r\u001b[K     |████████████▌                   | 880kB 11.9MB/s eta 0:00:01\r\u001b[K     |████████████▋                   | 890kB 11.9MB/s eta 0:00:01\r\u001b[K     |████████████▉                   | 901kB 11.9MB/s eta 0:00:01\r\u001b[K     |█████████████                   | 911kB 11.9MB/s eta 0:00:01\r\u001b[K     |█████████████                   | 921kB 11.9MB/s eta 0:00:01\r\u001b[K     |█████████████▎                  | 931kB 11.9MB/s eta 0:00:01\r\u001b[K     |█████████████▍                  | 942kB 11.9MB/s eta 0:00:01\r\u001b[K     |█████████████▌                  | 952kB 11.9MB/s eta 0:00:01\r\u001b[K     |█████████████▊                  | 962kB 11.9MB/s eta 0:00:01\r\u001b[K     |█████████████▉                  | 972kB 11.9MB/s eta 0:00:01\r\u001b[K     |██████████████                  | 983kB 11.9MB/s eta 0:00:01\r\u001b[K     |██████████████                  | 993kB 11.9MB/s eta 0:00:01\r\u001b[K     |██████████████▎                 | 1.0MB 11.9MB/s eta 0:00:01\r\u001b[K     |██████████████▍                 | 1.0MB 11.9MB/s eta 0:00:01\r\u001b[K     |██████████████▌                 | 1.0MB 11.9MB/s eta 0:00:01\r\u001b[K     |██████████████▊                 | 1.0MB 11.9MB/s eta 0:00:01\r\u001b[K     |██████████████▉                 | 1.0MB 11.9MB/s eta 0:00:01\r\u001b[K     |███████████████                 | 1.1MB 11.9MB/s eta 0:00:01\r\u001b[K     |███████████████▏                | 1.1MB 11.9MB/s eta 0:00:01\r\u001b[K     |███████████████▎                | 1.1MB 11.9MB/s eta 0:00:01\r\u001b[K     |███████████████▍                | 1.1MB 11.9MB/s eta 0:00:01\r\u001b[K     |███████████████▋                | 1.1MB 11.9MB/s eta 0:00:01\r\u001b[K     |███████████████▊                | 1.1MB 11.9MB/s eta 0:00:01\r\u001b[K     |███████████████▉                | 1.1MB 11.9MB/s eta 0:00:01\r\u001b[K     |████████████████                | 1.1MB 11.9MB/s eta 0:00:01\r\u001b[K     |████████████████▏               | 1.1MB 11.9MB/s eta 0:00:01\r\u001b[K     |████████████████▎               | 1.1MB 11.9MB/s eta 0:00:01\r\u001b[K     |████████████████▍               | 1.2MB 11.9MB/s eta 0:00:01\r\u001b[K     |████████████████▋               | 1.2MB 11.9MB/s eta 0:00:01\r\u001b[K     |████████████████▊               | 1.2MB 11.9MB/s eta 0:00:01\r\u001b[K     |████████████████▉               | 1.2MB 11.9MB/s eta 0:00:01\r\u001b[K     |█████████████████               | 1.2MB 11.9MB/s eta 0:00:01\r\u001b[K     |█████████████████▏              | 1.2MB 11.9MB/s eta 0:00:01\r\u001b[K     |█████████████████▎              | 1.2MB 11.9MB/s eta 0:00:01\r\u001b[K     |█████████████████▌              | 1.2MB 11.9MB/s eta 0:00:01\r\u001b[K     |█████████████████▋              | 1.2MB 11.9MB/s eta 0:00:01\r\u001b[K     |█████████████████▊              | 1.2MB 11.9MB/s eta 0:00:01\r\u001b[K     |█████████████████▉              | 1.3MB 11.9MB/s eta 0:00:01\r\u001b[K     |██████████████████              | 1.3MB 11.9MB/s eta 0:00:01\r\u001b[K     |██████████████████▏             | 1.3MB 11.9MB/s eta 0:00:01\r\u001b[K     |██████████████████▎             | 1.3MB 11.9MB/s eta 0:00:01\r\u001b[K     |██████████████████▌             | 1.3MB 11.9MB/s eta 0:00:01\r\u001b[K     |██████████████████▋             | 1.3MB 11.9MB/s eta 0:00:01\r\u001b[K     |██████████████████▊             | 1.3MB 11.9MB/s eta 0:00:01\r\u001b[K     |███████████████████             | 1.3MB 11.9MB/s eta 0:00:01\r\u001b[K     |███████████████████             | 1.3MB 11.9MB/s eta 0:00:01\r\u001b[K     |███████████████████▏            | 1.4MB 11.9MB/s eta 0:00:01\r\u001b[K     |███████████████████▍            | 1.4MB 11.9MB/s eta 0:00:01\r\u001b[K     |███████████████████▌            | 1.4MB 11.9MB/s eta 0:00:01\r\u001b[K     |███████████████████▋            | 1.4MB 11.9MB/s eta 0:00:01\r\u001b[K     |███████████████████▊            | 1.4MB 11.9MB/s eta 0:00:01\r\u001b[K     |████████████████████            | 1.4MB 11.9MB/s eta 0:00:01\r\u001b[K     |████████████████████            | 1.4MB 11.9MB/s eta 0:00:01\r\u001b[K     |████████████████████▏           | 1.4MB 11.9MB/s eta 0:00:01\r\u001b[K     |████████████████████▍           | 1.4MB 11.9MB/s eta 0:00:01\r\u001b[K     |████████████████████▌           | 1.4MB 11.9MB/s eta 0:00:01\r\u001b[K     |████████████████████▋           | 1.5MB 11.9MB/s eta 0:00:01\r\u001b[K     |████████████████████▉           | 1.5MB 11.9MB/s eta 0:00:01\r\u001b[K     |█████████████████████           | 1.5MB 11.9MB/s eta 0:00:01\r\u001b[K     |█████████████████████           | 1.5MB 11.9MB/s eta 0:00:01\r\u001b[K     |█████████████████████▎          | 1.5MB 11.9MB/s eta 0:00:01\r\u001b[K     |█████████████████████▍          | 1.5MB 11.9MB/s eta 0:00:01\r\u001b[K     |█████████████████████▌          | 1.5MB 11.9MB/s eta 0:00:01\r\u001b[K     |█████████████████████▊          | 1.5MB 11.9MB/s eta 0:00:01\r\u001b[K     |█████████████████████▉          | 1.5MB 11.9MB/s eta 0:00:01\r\u001b[K     |██████████████████████          | 1.5MB 11.9MB/s eta 0:00:01\r\u001b[K     |██████████████████████          | 1.6MB 11.9MB/s eta 0:00:01\r\u001b[K     |██████████████████████▎         | 1.6MB 11.9MB/s eta 0:00:01\r\u001b[K     |██████████████████████▍         | 1.6MB 11.9MB/s eta 0:00:01\r\u001b[K     |██████████████████████▌         | 1.6MB 11.9MB/s eta 0:00:01\r\u001b[K     |██████████████████████▊         | 1.6MB 11.9MB/s eta 0:00:01\r\u001b[K     |██████████████████████▉         | 1.6MB 11.9MB/s eta 0:00:01\r\u001b[K     |███████████████████████         | 1.6MB 11.9MB/s eta 0:00:01\r\u001b[K     |███████████████████████▏        | 1.6MB 11.9MB/s eta 0:00:01\r\u001b[K     |███████████████████████▎        | 1.6MB 11.9MB/s eta 0:00:01\r\u001b[K     |███████████████████████▍        | 1.6MB 11.9MB/s eta 0:00:01\r\u001b[K     |███████████████████████▋        | 1.7MB 11.9MB/s eta 0:00:01\r\u001b[K     |███████████████████████▊        | 1.7MB 11.9MB/s eta 0:00:01\r\u001b[K     |███████████████████████▉        | 1.7MB 11.9MB/s eta 0:00:01\r\u001b[K     |████████████████████████        | 1.7MB 11.9MB/s eta 0:00:01\r\u001b[K     |████████████████████████▏       | 1.7MB 11.9MB/s eta 0:00:01\r\u001b[K     |████████████████████████▎       | 1.7MB 11.9MB/s eta 0:00:01\r\u001b[K     |████████████████████████▍       | 1.7MB 11.9MB/s eta 0:00:01\r\u001b[K     |████████████████████████▋       | 1.7MB 11.9MB/s eta 0:00:01\r\u001b[K     |████████████████████████▊       | 1.7MB 11.9MB/s eta 0:00:01\r\u001b[K     |████████████████████████▉       | 1.8MB 11.9MB/s eta 0:00:01\r\u001b[K     |█████████████████████████       | 1.8MB 11.9MB/s eta 0:00:01\r\u001b[K     |█████████████████████████▏      | 1.8MB 11.9MB/s eta 0:00:01\r\u001b[K     |█████████████████████████▎      | 1.8MB 11.9MB/s eta 0:00:01\r\u001b[K     |█████████████████████████▌      | 1.8MB 11.9MB/s eta 0:00:01\r\u001b[K     |█████████████████████████▋      | 1.8MB 11.9MB/s eta 0:00:01\r\u001b[K     |█████████████████████████▊      | 1.8MB 11.9MB/s eta 0:00:01\r\u001b[K     |█████████████████████████▉      | 1.8MB 11.9MB/s eta 0:00:01\r\u001b[K     |██████████████████████████      | 1.8MB 11.9MB/s eta 0:00:01\r\u001b[K     |██████████████████████████▏     | 1.8MB 11.9MB/s eta 0:00:01\r\u001b[K     |██████████████████████████▎     | 1.9MB 11.9MB/s eta 0:00:01\r\u001b[K     |██████████████████████████▌     | 1.9MB 11.9MB/s eta 0:00:01\r\u001b[K     |██████████████████████████▋     | 1.9MB 11.9MB/s eta 0:00:01\r\u001b[K     |██████████████████████████▊     | 1.9MB 11.9MB/s eta 0:00:01\r\u001b[K     |███████████████████████████     | 1.9MB 11.9MB/s eta 0:00:01\r\u001b[K     |███████████████████████████     | 1.9MB 11.9MB/s eta 0:00:01\r\u001b[K     |███████████████████████████▏    | 1.9MB 11.9MB/s eta 0:00:01\r\u001b[K     |███████████████████████████▍    | 1.9MB 11.9MB/s eta 0:00:01\r\u001b[K     |███████████████████████████▌    | 1.9MB 11.9MB/s eta 0:00:01\r\u001b[K     |███████████████████████████▋    | 1.9MB 11.9MB/s eta 0:00:01\r\u001b[K     |███████████████████████████▊    | 2.0MB 11.9MB/s eta 0:00:01\r\u001b[K     |████████████████████████████    | 2.0MB 11.9MB/s eta 0:00:01\r\u001b[K     |████████████████████████████    | 2.0MB 11.9MB/s eta 0:00:01\r\u001b[K     |████████████████████████████▏   | 2.0MB 11.9MB/s eta 0:00:01\r\u001b[K     |████████████████████████████▍   | 2.0MB 11.9MB/s eta 0:00:01\r\u001b[K     |████████████████████████████▌   | 2.0MB 11.9MB/s eta 0:00:01\r\u001b[K     |████████████████████████████▋   | 2.0MB 11.9MB/s eta 0:00:01\r\u001b[K     |████████████████████████████▉   | 2.0MB 11.9MB/s eta 0:00:01\r\u001b[K     |█████████████████████████████   | 2.0MB 11.9MB/s eta 0:00:01\r\u001b[K     |█████████████████████████████   | 2.0MB 11.9MB/s eta 0:00:01\r\u001b[K     |█████████████████████████████▎  | 2.1MB 11.9MB/s eta 0:00:01\r\u001b[K     |█████████████████████████████▍  | 2.1MB 11.9MB/s eta 0:00:01\r\u001b[K     |█████████████████████████████▌  | 2.1MB 11.9MB/s eta 0:00:01\r\u001b[K     |█████████████████████████████▋  | 2.1MB 11.9MB/s eta 0:00:01\r\u001b[K     |█████████████████████████████▉  | 2.1MB 11.9MB/s eta 0:00:01\r\u001b[K     |██████████████████████████████  | 2.1MB 11.9MB/s eta 0:00:01\r\u001b[K     |██████████████████████████████  | 2.1MB 11.9MB/s eta 0:00:01\r\u001b[K     |██████████████████████████████▎ | 2.1MB 11.9MB/s eta 0:00:01\r\u001b[K     |██████████████████████████████▍ | 2.1MB 11.9MB/s eta 0:00:01\r\u001b[K     |██████████████████████████████▌ | 2.2MB 11.9MB/s eta 0:00:01\r\u001b[K     |██████████████████████████████▊ | 2.2MB 11.9MB/s eta 0:00:01\r\u001b[K     |██████████████████████████████▉ | 2.2MB 11.9MB/s eta 0:00:01\r\u001b[K     |███████████████████████████████ | 2.2MB 11.9MB/s eta 0:00:01\r\u001b[K     |███████████████████████████████▏| 2.2MB 11.9MB/s eta 0:00:01\r\u001b[K     |███████████████████████████████▎| 2.2MB 11.9MB/s eta 0:00:01\r\u001b[K     |███████████████████████████████▍| 2.2MB 11.9MB/s eta 0:00:01\r\u001b[K     |███████████████████████████████▋| 2.2MB 11.9MB/s eta 0:00:01\r\u001b[K     |███████████████████████████████▊| 2.2MB 11.9MB/s eta 0:00:01\r\u001b[K     |███████████████████████████████▉| 2.2MB 11.9MB/s eta 0:00:01\r\u001b[K     |████████████████████████████████| 2.3MB 11.9MB/s eta 0:00:01\r\u001b[K     |████████████████████████████████| 2.3MB 11.9MB/s \n",
            "\u001b[?25hMounted at /content/drive\n"
          ],
          "name": "stdout"
        }
      ]
    },
    {
      "cell_type": "code",
      "metadata": {
        "id": "GXhKzxZwmjfT"
      },
      "source": [
        "DATA_DIR = '/content/drive/MyDrive/data/uci/'\n",
        "LOG_DIR = '/content/drive/MyDrive/dna-nn/results/'"
      ],
      "execution_count": null,
      "outputs": []
    },
    {
      "cell_type": "code",
      "metadata": {
        "colab": {
          "base_uri": "https://localhost:8080/"
        },
        "id": "DjhjdHC-mtlb",
        "outputId": "991e5ebd-4f9d-4e29-c00a-efec6d59819e"
      },
      "source": [
        "!cp -r '/content/drive/MyDrive/dna-nn/dna_nn' .\n",
        "!ls dna_nn"
      ],
      "execution_count": null,
      "outputs": [
        {
          "output_type": "stream",
          "text": [
            "dataset.py  download.py  load.py  model.py\n"
          ],
          "name": "stdout"
        }
      ]
    },
    {
      "cell_type": "code",
      "metadata": {
        "id": "SUeuhg48mt6M"
      },
      "source": [
        "import gc\n",
        "\n",
        "import matplotlib.pyplot as plt\n",
        "import pandas as pd\n",
        "from tensorflow import keras\n",
        "\n",
        "from dna_nn.dataset import splice, splice_raw\n",
        "from dna_nn.model import models, evaluate"
      ],
      "execution_count": null,
      "outputs": []
    },
    {
      "cell_type": "markdown",
      "metadata": {
        "id": "YnVvDRV1vjb5"
      },
      "source": [
        "# 2D features"
      ]
    },
    {
      "cell_type": "code",
      "metadata": {
        "id": "lUB3vX2Tm9S_"
      },
      "source": [
        "x_shape, x_train, x_test, y_train, y_test = splice(DATA_DIR + 'splice.data')"
      ],
      "execution_count": null,
      "outputs": []
    },
    {
      "cell_type": "code",
      "metadata": {
        "id": "zpSudDzz13JQ"
      },
      "source": [
        "models"
      ],
      "execution_count": null,
      "outputs": []
    },
    {
      "cell_type": "code",
      "metadata": {
        "id": "mu-w23Xho1Yz"
      },
      "source": [
        "key = 'cnn_zeng_4_conv2d_l2'\n",
        "dataset = 'splice'\n",
        "\n",
        "keras.backend.clear_session()\n",
        "model = models[key](x_shape, 3)\n",
        "model.compile(optimizer='adam', loss='sparse_categorical_crossentropy', metrics='accuracy')\n",
        "model.summary()"
      ],
      "execution_count": null,
      "outputs": []
    },
    {
      "cell_type": "code",
      "metadata": {
        "id": "GAEyIUUhrpLV"
      },
      "source": [
        "csv_path = LOG_DIR + f'{key}-{dataset}-dynamics.csv'\n",
        "model_path = LOG_DIR + f'{key}-{dataset}.h5'\n",
        "\n",
        "callbacks = [\n",
        "    keras.callbacks.CSVLogger(csv_path),\n",
        "    keras.callbacks.LambdaCallback(\n",
        "        on_epoch_end=lambda epoch, logs: gc.collect(),\n",
        "        # on_train_end=lambda logs: model.save(model_path)\n",
        "    ),\n",
        "    keras.callbacks.ModelCheckpoint(model_path, save_best_only=True)\n",
        "]\n",
        "\n",
        "history = model.fit(x_train, y_train, epochs=50, validation_split=0.15,\n",
        "                    callbacks=callbacks, verbose=3)"
      ],
      "execution_count": null,
      "outputs": []
    },
    {
      "cell_type": "code",
      "metadata": {
        "id": "sNSZsfVHvYyK"
      },
      "source": [
        "model = keras.models.load_model(model_path)\n",
        "test_loss, test_accuracy = model.evaluate(x_test, y_test, verbose=3)\n",
        "\n",
        "y_score = model.predict(x_test)\n",
        "y_true = [int(y) for y in y_test]\n",
        "evaluate(model, history, test_accuracy, y_score, y_true, LOG_DIR, key, dataset, 3)"
      ],
      "execution_count": null,
      "outputs": []
    },
    {
      "cell_type": "code",
      "metadata": {
        "id": "Rv24u0XgYlXs"
      },
      "source": [
        "from sklearn.metrics import roc_curve, precision_recall_curve\n",
        "import numpy as np\n",
        "\n",
        "dataset = 'splice'\n",
        "key = 'cnn_zeng_4_conv2d'\n",
        "model_path = LOG_DIR + f'{key}-{dataset}.h5'\n",
        "\n",
        "model = keras.models.load_model(model_path)\n",
        "test_loss, test_accuracy = model.evaluate(x_test, y_test, verbose=3)\n",
        "\n",
        "y_score = model.predict(x_test)\n",
        "y_true = [int(y) for y in y_test]\n",
        "\n",
        "pr = pd.DataFrame()\n",
        "for cls in range(3):\n",
        "    precision, recall, thresholds = precision_recall_curve(y_true, y_score[:, cls], pos_label=cls)\n",
        "    temp = pd.DataFrame({\n",
        "        'ovr': cls,\n",
        "        'precision': precision,\n",
        "        'recall': recall,\n",
        "        'thresholds': np.append(thresholds, np.nan)\n",
        "    })\n",
        "    pr = pd.concat([pr, temp])\n",
        "pr.to_csv(LOG_DIR + f'{key}-{dataset}-pr.csv', index=False)"
      ],
      "execution_count": null,
      "outputs": []
    },
    {
      "cell_type": "markdown",
      "metadata": {
        "id": "y3qPyJTWv5vc"
      },
      "source": [
        "# 1D features"
      ]
    },
    {
      "cell_type": "code",
      "metadata": {
        "id": "mmJIzoRFzWCK"
      },
      "source": [
        "x_shape, x_train, x_test, y_train, y_test = splice(DATA_DIR + 'splice.data', 3, 2, False)"
      ],
      "execution_count": null,
      "outputs": []
    },
    {
      "cell_type": "code",
      "metadata": {
        "id": "3YCdOnoTzX8m"
      },
      "source": [
        "models"
      ],
      "execution_count": null,
      "outputs": []
    },
    {
      "cell_type": "code",
      "metadata": {
        "id": "f1yiYeD3zbg6"
      },
      "source": [
        "key = 'deepram_recurrent_onehot'\n",
        "dataset = 'splice'\n",
        "\n",
        "keras.backend.clear_session()\n",
        "model = models[key](x_shape, 3)\n",
        "model.compile(optimizer='adam', loss='sparse_categorical_crossentropy', metrics='accuracy')\n",
        "model.summary()"
      ],
      "execution_count": null,
      "outputs": []
    },
    {
      "cell_type": "code",
      "metadata": {
        "id": "dJnudLbize3B"
      },
      "source": [
        "csv_path = LOG_DIR + f'{key}-{dataset}-dynamics.csv'\n",
        "model_path = LOG_DIR + f'{key}-{dataset}.h5'\n",
        "\n",
        "callbacks = [\n",
        "    keras.callbacks.CSVLogger(csv_path),\n",
        "    keras.callbacks.LambdaCallback(\n",
        "        on_epoch_end=lambda epoch, logs: gc.collect(),\n",
        "        # on_train_end=lambda logs: model.save(model_path)\n",
        "    ),\n",
        "    keras.callbacks.ModelCheckpoint(model_path, save_best_only=True)\n",
        "]\n",
        "\n",
        "history = model.fit(x_train, y_train, epochs=50, validation_split=0.15,\n",
        "                    callbacks=callbacks, verbose=3)"
      ],
      "execution_count": null,
      "outputs": []
    },
    {
      "cell_type": "code",
      "metadata": {
        "id": "7xg7o3e-0B3E"
      },
      "source": [
        "model = keras.models.load_model(model_path)\n",
        "test_loss, test_accuracy = model.evaluate(x_test, y_test, verbose=3)\n",
        "\n",
        "y_score = model.predict(x_test)\n",
        "y_true = [int(y) for y in y_test]\n",
        "evaluate(model, history, test_accuracy, y_score, y_true, LOG_DIR, key, dataset, 3)"
      ],
      "execution_count": null,
      "outputs": []
    },
    {
      "cell_type": "markdown",
      "metadata": {
        "id": "9g8-fxNZv7u5"
      },
      "source": [
        "# Raw features"
      ]
    },
    {
      "cell_type": "code",
      "metadata": {
        "id": "4n5maGvf0hog"
      },
      "source": [
        "x_shape, x_train, x_test, y_train, y_test = splice_raw(DATA_DIR + 'splice.data')"
      ],
      "execution_count": null,
      "outputs": []
    },
    {
      "cell_type": "code",
      "metadata": {
        "colab": {
          "base_uri": "https://localhost:8080/"
        },
        "id": "0FYUVH1A0jxC",
        "outputId": "7bef3b1f-f704-480e-f7ad-93fc75129fda"
      },
      "source": [
        "models"
      ],
      "execution_count": null,
      "outputs": [
        {
          "output_type": "execute_result",
          "data": {
            "text/plain": [
              "{'cnn_deepdbp': <function dna_nn.model.cnn_deepdbp>,\n",
              " 'cnn_nguyen_2_conv2d': <function dna_nn.model.cnn_nguyen_2_conv2d>,\n",
              " 'cnn_nguyen_conv1d_2_conv2d': <function dna_nn.model.cnn_nguyen_conv1d_2_conv2d>,\n",
              " 'cnn_zeng_2_conv2d': <function dna_nn.model.cnn_zeng_2_conv2d>,\n",
              " 'cnn_zeng_3_conv2d': <function dna_nn.model.cnn_zeng_3_conv2d>,\n",
              " 'cnn_zeng_4_conv2d': <function dna_nn.model.cnn_zeng_4_conv2d>,\n",
              " 'cnn_zeng_4_conv2d_l2': <function dna_nn.model.cnn_zeng_4_conv2d_l2>,\n",
              " 'deepram_conv1d_embed': <function dna_nn.model.deepram_conv1d_embed>,\n",
              " 'deepram_conv1d_onehot': <function dna_nn.model.deepram_conv1d_onehot>,\n",
              " 'deepram_conv1d_recurrent_embed': <function dna_nn.model.deepram_conv1d_recurrent_embed>,\n",
              " 'deepram_conv1d_recurrent_onehot': <function dna_nn.model.deepram_conv1d_recurrent_onehot>,\n",
              " 'deepram_recurrent_embed': <function dna_nn.model.deepram_recurrent_embed>,\n",
              " 'deepram_recurrent_onehot': <function dna_nn.model.deepram_recurrent_onehot>}"
            ]
          },
          "metadata": {
            "tags": []
          },
          "execution_count": 25
        }
      ]
    },
    {
      "cell_type": "code",
      "metadata": {
        "colab": {
          "base_uri": "https://localhost:8080/"
        },
        "id": "Z6rl2Kdz0qcS",
        "outputId": "5f15fe46-de6b-4d41-d4c0-0f9fc05cf917"
      },
      "source": [
        "key = 'cnn_deepdbp'\n",
        "dataset = 'splice'\n",
        "\n",
        "keras.backend.clear_session()\n",
        "model = models[key](x_shape, 3)\n",
        "model.compile(optimizer='adam', loss='sparse_categorical_crossentropy', metrics='accuracy')\n",
        "model.summary()"
      ],
      "execution_count": null,
      "outputs": [
        {
          "output_type": "stream",
          "text": [
            "Model: \"sequential\"\n",
            "_________________________________________________________________\n",
            "Layer (type)                 Output Shape              Param #   \n",
            "=================================================================\n",
            "embedding (Embedding)        (None, 60, 128)           7680      \n",
            "_________________________________________________________________\n",
            "reshape (Reshape)            (None, 60, 128, 1)        0         \n",
            "_________________________________________________________________\n",
            "conv2d (Conv2D)              (None, 60, 128, 128)      4096      \n",
            "_________________________________________________________________\n",
            "max_pooling2d (MaxPooling2D) (None, 60, 4, 128)        0         \n",
            "_________________________________________________________________\n",
            "flatten (Flatten)            (None, 30720)             0         \n",
            "_________________________________________________________________\n",
            "dropout (Dropout)            (None, 30720)             0         \n",
            "_________________________________________________________________\n",
            "dense (Dense)                (None, 32)                983072    \n",
            "_________________________________________________________________\n",
            "dropout_1 (Dropout)          (None, 32)                0         \n",
            "_________________________________________________________________\n",
            "dense_1 (Dense)              (None, 16)                528       \n",
            "_________________________________________________________________\n",
            "dropout_2 (Dropout)          (None, 16)                0         \n",
            "_________________________________________________________________\n",
            "dense_2 (Dense)              (None, 3)                 51        \n",
            "=================================================================\n",
            "Total params: 995,427\n",
            "Trainable params: 995,427\n",
            "Non-trainable params: 0\n",
            "_________________________________________________________________\n"
          ],
          "name": "stdout"
        }
      ]
    },
    {
      "cell_type": "code",
      "metadata": {
        "colab": {
          "base_uri": "https://localhost:8080/"
        },
        "id": "8RVmEugk0sVH",
        "outputId": "3f9777a3-d4f6-4a6b-9974-6bf06afa5e13"
      },
      "source": [
        "csv_path = LOG_DIR + f'{key}-{dataset}-dynamics.csv'\n",
        "model_path = LOG_DIR + f'{key}-{dataset}.h5'\n",
        "\n",
        "callbacks = [\n",
        "    keras.callbacks.CSVLogger(csv_path),\n",
        "    keras.callbacks.LambdaCallback(\n",
        "        on_epoch_end=lambda epoch, logs: gc.collect(),\n",
        "        # on_train_end=lambda logs: model.save(model_path)\n",
        "    ),\n",
        "    keras.callbacks.ModelCheckpoint(model_path, save_best_only=True)\n",
        "]\n",
        "\n",
        "history = model.fit(x_train, y_train, epochs=50, validation_split=0.15,\n",
        "                    callbacks=callbacks, verbose=3)"
      ],
      "execution_count": null,
      "outputs": [
        {
          "output_type": "stream",
          "text": [
            "Epoch 1/50\n",
            "Epoch 2/50\n",
            "Epoch 3/50\n",
            "Epoch 4/50\n",
            "Epoch 5/50\n",
            "Epoch 6/50\n",
            "Epoch 7/50\n",
            "Epoch 8/50\n",
            "Epoch 9/50\n",
            "Epoch 10/50\n",
            "Epoch 11/50\n",
            "Epoch 12/50\n",
            "Epoch 13/50\n",
            "Epoch 14/50\n",
            "Epoch 15/50\n",
            "Epoch 16/50\n",
            "Epoch 17/50\n",
            "Epoch 18/50\n",
            "Epoch 19/50\n",
            "Epoch 20/50\n",
            "Epoch 21/50\n",
            "Epoch 22/50\n",
            "Epoch 23/50\n",
            "Epoch 24/50\n",
            "Epoch 25/50\n",
            "Epoch 26/50\n",
            "Epoch 27/50\n",
            "Epoch 28/50\n",
            "Epoch 29/50\n",
            "Epoch 30/50\n",
            "Epoch 31/50\n",
            "Epoch 32/50\n",
            "Epoch 33/50\n",
            "Epoch 34/50\n",
            "Epoch 35/50\n",
            "Epoch 36/50\n",
            "Epoch 37/50\n",
            "Epoch 38/50\n",
            "Epoch 39/50\n",
            "Epoch 40/50\n",
            "Epoch 41/50\n",
            "Epoch 42/50\n",
            "Epoch 43/50\n",
            "Epoch 44/50\n",
            "Epoch 45/50\n",
            "Epoch 46/50\n",
            "Epoch 47/50\n",
            "Epoch 48/50\n",
            "Epoch 49/50\n",
            "Epoch 50/50\n"
          ],
          "name": "stdout"
        }
      ]
    },
    {
      "cell_type": "code",
      "metadata": {
        "id": "bM8ur7K40tjF"
      },
      "source": [
        "model = keras.models.load_model(model_path)\n",
        "test_loss, test_accuracy = model.evaluate(x_test, y_test, verbose=3)\n",
        "\n",
        "y_score = model.predict(x_test)\n",
        "y_true = [int(y) for y in y_test]\n",
        "evaluate(model, history, test_accuracy, y_score, y_true, LOG_DIR, key, dataset, 3)"
      ],
      "execution_count": null,
      "outputs": []
    },
    {
      "cell_type": "code",
      "metadata": {
        "id": "oNE3Ckx-21Jm"
      },
      "source": [
        ""
      ],
      "execution_count": null,
      "outputs": []
    }
  ]
}