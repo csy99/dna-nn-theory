{
  "nbformat": 4,
  "nbformat_minor": 0,
  "metadata": {
    "colab": {
      "name": "splice.ipynb",
      "provenance": [],
      "collapsed_sections": [],
      "authorship_tag": "ABX9TyMEY4J2KVgLWGKfkUzXOBMO"
    },
    "kernelspec": {
      "name": "python3",
      "display_name": "Python 3"
    }
  },
  "cells": [
    {
      "cell_type": "code",
      "metadata": {
        "colab": {
          "base_uri": "https://localhost:8080/"
        },
        "id": "70oa96_TmSd0",
        "outputId": "d4696d38-0e79-415c-83b0-1adb9bc38122"
      },
      "source": [
        "!pip install -q biopython\n",
        "\n",
        "%load_ext autoreload\n",
        "%autoreload 2\n",
        "\n",
        "from google.colab import drive\n",
        "drive.mount('/content/drive')"
      ],
      "execution_count": null,
      "outputs": [
        {
          "output_type": "stream",
          "text": [
            "Drive already mounted at /content/drive; to attempt to forcibly remount, call drive.mount(\"/content/drive\", force_remount=True).\n"
          ],
          "name": "stdout"
        }
      ]
    },
    {
      "cell_type": "code",
      "metadata": {
        "id": "GXhKzxZwmjfT"
      },
      "source": [
        "DATA_DIR = '/content/drive/MyDrive/data/uci/'\n",
        "LOG_DIR = '/content/drive/MyDrive/dna-nn/results/'"
      ],
      "execution_count": null,
      "outputs": []
    },
    {
      "cell_type": "code",
      "metadata": {
        "colab": {
          "base_uri": "https://localhost:8080/"
        },
        "id": "DjhjdHC-mtlb",
        "outputId": "3fe19899-c7a9-4b78-ecbf-7f2163ba3bf6"
      },
      "source": [
        "!cp -r '/content/drive/MyDrive/dna-nn/dna_nn' .\n",
        "!ls dna_nn"
      ],
      "execution_count": null,
      "outputs": [
        {
          "output_type": "stream",
          "text": [
            "dataset.py  download.py  load.py  model.py  __pycache__\n"
          ],
          "name": "stdout"
        }
      ]
    },
    {
      "cell_type": "code",
      "metadata": {
        "id": "SUeuhg48mt6M"
      },
      "source": [
        "import gc\n",
        "\n",
        "import matplotlib.pyplot as plt\n",
        "import pandas as pd\n",
        "from tensorflow import keras\n",
        "\n",
        "from dna_nn.dataset import splice\n",
        "from dna_nn.model import models, evaluate"
      ],
      "execution_count": null,
      "outputs": []
    },
    {
      "cell_type": "code",
      "metadata": {
        "id": "lUB3vX2Tm9S_"
      },
      "source": [
        "x_shape, x_train, x_test, y_train, y_test = splice(DATA_DIR + 'splice.data')"
      ],
      "execution_count": null,
      "outputs": []
    },
    {
      "cell_type": "code",
      "metadata": {
        "colab": {
          "base_uri": "https://localhost:8080/"
        },
        "id": "zpSudDzz13JQ",
        "outputId": "5e9eb7cc-9290-4c4b-c1d4-345a7682fd8a"
      },
      "source": [
        "models"
      ],
      "execution_count": null,
      "outputs": [
        {
          "output_type": "execute_result",
          "data": {
            "text/plain": [
              "{'cnn_deepdbp': <function dna_nn.model.cnn_deepdbp>,\n",
              " 'cnn_nguyen_2_conv2d': <function dna_nn.model.cnn_nguyen_2_conv2d>,\n",
              " 'cnn_nguyen_conv1d_2_conv2d': <function dna_nn.model.cnn_nguyen_conv1d_2_conv2d>,\n",
              " 'cnn_zeng_2_conv2d': <function dna_nn.model.cnn_zeng_2_conv2d>,\n",
              " 'cnn_zeng_3_conv2d': <function dna_nn.model.cnn_zeng_3_conv2d>,\n",
              " 'cnn_zeng_4_conv2d': <function dna_nn.model.cnn_zeng_4_conv2d>}"
            ]
          },
          "metadata": {
            "tags": []
          },
          "execution_count": 6
        }
      ]
    },
    {
      "cell_type": "code",
      "metadata": {
        "colab": {
          "base_uri": "https://localhost:8080/"
        },
        "id": "mu-w23Xho1Yz",
        "outputId": "fb9036f5-33fc-41f1-dbda-d40c33863929"
      },
      "source": [
        "key = 'cnn_nguyen_conv1d_2_conv2d'\n",
        "dataset = 'splice'\n",
        "\n",
        "keras.backend.clear_session()\n",
        "model = models[key](x_shape, 3)\n",
        "model.compile(optimizer='adam', loss='sparse_categorical_crossentropy', metrics='accuracy')\n",
        "model.summary()"
      ],
      "execution_count": null,
      "outputs": [
        {
          "output_type": "stream",
          "text": [
            "something\n",
            "Model: \"sequential\"\n",
            "_________________________________________________________________\n",
            "Layer (type)                 Output Shape              Param #   \n",
            "=================================================================\n",
            "conv2d (Conv2D)              (None, 58, 58, 16)        128       \n",
            "_________________________________________________________________\n",
            "max_pooling2d (MaxPooling2D) (None, 29, 29, 16)        0         \n",
            "_________________________________________________________________\n",
            "conv2d_1 (Conv2D)            (None, 27, 27, 16)        2320      \n",
            "_________________________________________________________________\n",
            "max_pooling2d_1 (MaxPooling2 (None, 13, 13, 16)        0         \n",
            "_________________________________________________________________\n",
            "conv2d_2 (Conv2D)            (None, 11, 11, 32)        4640      \n",
            "_________________________________________________________________\n",
            "max_pooling2d_2 (MaxPooling2 (None, 5, 5, 32)          0         \n",
            "_________________________________________________________________\n",
            "flatten (Flatten)            (None, 800)               0         \n",
            "_________________________________________________________________\n",
            "dense (Dense)                (None, 32)                25632     \n",
            "_________________________________________________________________\n",
            "dropout (Dropout)            (None, 32)                0         \n",
            "_________________________________________________________________\n",
            "dense_1 (Dense)              (None, 3)                 99        \n",
            "=================================================================\n",
            "Total params: 32,819\n",
            "Trainable params: 32,819\n",
            "Non-trainable params: 0\n",
            "_________________________________________________________________\n"
          ],
          "name": "stdout"
        }
      ]
    },
    {
      "cell_type": "code",
      "metadata": {
        "colab": {
          "base_uri": "https://localhost:8080/"
        },
        "id": "GAEyIUUhrpLV",
        "outputId": "a2533580-0b17-4386-a4dc-c97a820ddda5"
      },
      "source": [
        "csv_path = LOG_DIR + f'{key}-{dataset}-dynamics.csv'\n",
        "model_path = LOG_DIR + f'{key}-{dataset}.h5'\n",
        "\n",
        "callbacks = [\n",
        "    keras.callbacks.CSVLogger(csv_path),\n",
        "    keras.callbacks.LambdaCallback(\n",
        "        on_epoch_end=lambda epoch, logs: gc.collect(),\n",
        "        # on_train_end=lambda logs: model.save(model_path)\n",
        "    ),\n",
        "    keras.callbacks.ModelCheckpoint(model_path, save_best_only=True)\n",
        "]\n",
        "\n",
        "history = model.fit(x_train, y_train, epochs=50, validation_split=0.15,\n",
        "                    callbacks=callbacks, verbose=2)"
      ],
      "execution_count": null,
      "outputs": [
        {
          "output_type": "stream",
          "text": [
            "Epoch 1/50\n",
            "64/64 - 5s - loss: 0.9806 - accuracy: 0.5229 - val_loss: 0.7850 - val_accuracy: 0.7131\n",
            "Epoch 2/50\n",
            "64/64 - 4s - loss: 0.6311 - accuracy: 0.7295 - val_loss: 0.4465 - val_accuracy: 0.8440\n",
            "Epoch 3/50\n",
            "64/64 - 4s - loss: 0.4502 - accuracy: 0.8136 - val_loss: 0.3151 - val_accuracy: 0.8858\n",
            "Epoch 4/50\n",
            "64/64 - 4s - loss: 0.3886 - accuracy: 0.8431 - val_loss: 0.2838 - val_accuracy: 0.9081\n",
            "Epoch 5/50\n",
            "64/64 - 4s - loss: 0.3250 - accuracy: 0.8775 - val_loss: 0.2684 - val_accuracy: 0.8997\n",
            "Epoch 6/50\n",
            "64/64 - 4s - loss: 0.2916 - accuracy: 0.8913 - val_loss: 0.2173 - val_accuracy: 0.9248\n",
            "Epoch 7/50\n",
            "64/64 - 4s - loss: 0.2291 - accuracy: 0.9213 - val_loss: 0.2016 - val_accuracy: 0.9276\n",
            "Epoch 8/50\n",
            "64/64 - 4s - loss: 0.2061 - accuracy: 0.9336 - val_loss: 0.2054 - val_accuracy: 0.9387\n",
            "Epoch 9/50\n",
            "64/64 - 4s - loss: 0.1892 - accuracy: 0.9380 - val_loss: 0.2132 - val_accuracy: 0.9387\n",
            "Epoch 10/50\n",
            "64/64 - 4s - loss: 0.1656 - accuracy: 0.9439 - val_loss: 0.1964 - val_accuracy: 0.9359\n",
            "Epoch 11/50\n",
            "64/64 - 4s - loss: 0.1356 - accuracy: 0.9552 - val_loss: 0.1955 - val_accuracy: 0.9471\n",
            "Epoch 12/50\n",
            "64/64 - 4s - loss: 0.1401 - accuracy: 0.9474 - val_loss: 0.2061 - val_accuracy: 0.9415\n",
            "Epoch 13/50\n",
            "64/64 - 4s - loss: 0.1155 - accuracy: 0.9631 - val_loss: 0.1825 - val_accuracy: 0.9471\n",
            "Epoch 14/50\n",
            "64/64 - 4s - loss: 0.0948 - accuracy: 0.9695 - val_loss: 0.1946 - val_accuracy: 0.9443\n",
            "Epoch 15/50\n",
            "64/64 - 4s - loss: 0.0871 - accuracy: 0.9729 - val_loss: 0.1948 - val_accuracy: 0.9582\n",
            "Epoch 16/50\n",
            "64/64 - 4s - loss: 0.0777 - accuracy: 0.9710 - val_loss: 0.2208 - val_accuracy: 0.9526\n",
            "Epoch 17/50\n",
            "64/64 - 4s - loss: 0.0892 - accuracy: 0.9690 - val_loss: 0.2178 - val_accuracy: 0.9554\n",
            "Epoch 18/50\n",
            "64/64 - 4s - loss: 0.0813 - accuracy: 0.9695 - val_loss: 0.2030 - val_accuracy: 0.9526\n",
            "Epoch 19/50\n",
            "64/64 - 4s - loss: 0.0825 - accuracy: 0.9680 - val_loss: 0.2081 - val_accuracy: 0.9499\n",
            "Epoch 20/50\n",
            "64/64 - 4s - loss: 0.0709 - accuracy: 0.9734 - val_loss: 0.2018 - val_accuracy: 0.9499\n",
            "Epoch 21/50\n",
            "64/64 - 4s - loss: 0.0703 - accuracy: 0.9744 - val_loss: 0.2575 - val_accuracy: 0.9471\n",
            "Epoch 22/50\n",
            "64/64 - 4s - loss: 0.0648 - accuracy: 0.9788 - val_loss: 0.2210 - val_accuracy: 0.9499\n",
            "Epoch 23/50\n",
            "64/64 - 4s - loss: 0.0486 - accuracy: 0.9838 - val_loss: 0.2596 - val_accuracy: 0.9471\n",
            "Epoch 24/50\n",
            "64/64 - 4s - loss: 0.0540 - accuracy: 0.9818 - val_loss: 0.2432 - val_accuracy: 0.9526\n",
            "Epoch 25/50\n",
            "64/64 - 4s - loss: 0.0575 - accuracy: 0.9749 - val_loss: 0.2613 - val_accuracy: 0.9443\n",
            "Epoch 26/50\n",
            "64/64 - 4s - loss: 0.0536 - accuracy: 0.9784 - val_loss: 0.2621 - val_accuracy: 0.9443\n",
            "Epoch 27/50\n",
            "64/64 - 4s - loss: 0.0470 - accuracy: 0.9852 - val_loss: 0.2649 - val_accuracy: 0.9471\n",
            "Epoch 28/50\n",
            "64/64 - 4s - loss: 0.0490 - accuracy: 0.9828 - val_loss: 0.2871 - val_accuracy: 0.9526\n",
            "Epoch 29/50\n",
            "64/64 - 4s - loss: 0.0455 - accuracy: 0.9828 - val_loss: 0.3210 - val_accuracy: 0.9471\n",
            "Epoch 30/50\n",
            "64/64 - 4s - loss: 0.0488 - accuracy: 0.9803 - val_loss: 0.2662 - val_accuracy: 0.9526\n",
            "Epoch 31/50\n",
            "64/64 - 4s - loss: 0.0562 - accuracy: 0.9774 - val_loss: 0.2626 - val_accuracy: 0.9499\n",
            "Epoch 32/50\n",
            "64/64 - 4s - loss: 0.0458 - accuracy: 0.9838 - val_loss: 0.2414 - val_accuracy: 0.9554\n",
            "Epoch 33/50\n",
            "64/64 - 4s - loss: 0.0418 - accuracy: 0.9818 - val_loss: 0.3211 - val_accuracy: 0.9526\n",
            "Epoch 34/50\n",
            "64/64 - 4s - loss: 0.0333 - accuracy: 0.9867 - val_loss: 0.2714 - val_accuracy: 0.9638\n",
            "Epoch 35/50\n",
            "64/64 - 4s - loss: 0.0428 - accuracy: 0.9833 - val_loss: 0.3652 - val_accuracy: 0.9471\n",
            "Epoch 36/50\n",
            "64/64 - 4s - loss: 0.0432 - accuracy: 0.9823 - val_loss: 0.2978 - val_accuracy: 0.9443\n",
            "Epoch 37/50\n",
            "64/64 - 4s - loss: 0.0502 - accuracy: 0.9788 - val_loss: 0.2844 - val_accuracy: 0.9471\n",
            "Epoch 38/50\n",
            "64/64 - 4s - loss: 0.0390 - accuracy: 0.9833 - val_loss: 0.3297 - val_accuracy: 0.9554\n",
            "Epoch 39/50\n",
            "64/64 - 4s - loss: 0.0347 - accuracy: 0.9887 - val_loss: 0.3016 - val_accuracy: 0.9499\n",
            "Epoch 40/50\n",
            "64/64 - 4s - loss: 0.0293 - accuracy: 0.9902 - val_loss: 0.3110 - val_accuracy: 0.9582\n",
            "Epoch 41/50\n",
            "64/64 - 4s - loss: 0.0314 - accuracy: 0.9877 - val_loss: 0.2917 - val_accuracy: 0.9582\n",
            "Epoch 42/50\n",
            "64/64 - 4s - loss: 0.0391 - accuracy: 0.9843 - val_loss: 0.2725 - val_accuracy: 0.9610\n",
            "Epoch 43/50\n",
            "64/64 - 4s - loss: 0.0330 - accuracy: 0.9902 - val_loss: 0.3472 - val_accuracy: 0.9554\n",
            "Epoch 44/50\n",
            "64/64 - 4s - loss: 0.0378 - accuracy: 0.9848 - val_loss: 0.3997 - val_accuracy: 0.9443\n",
            "Epoch 45/50\n",
            "64/64 - 4s - loss: 0.0424 - accuracy: 0.9818 - val_loss: 0.3585 - val_accuracy: 0.9526\n",
            "Epoch 46/50\n",
            "64/64 - 4s - loss: 0.0353 - accuracy: 0.9867 - val_loss: 0.3459 - val_accuracy: 0.9526\n",
            "Epoch 47/50\n",
            "64/64 - 4s - loss: 0.0446 - accuracy: 0.9798 - val_loss: 0.3518 - val_accuracy: 0.9526\n",
            "Epoch 48/50\n",
            "64/64 - 4s - loss: 0.0352 - accuracy: 0.9852 - val_loss: 0.3502 - val_accuracy: 0.9526\n",
            "Epoch 49/50\n",
            "64/64 - 4s - loss: 0.0327 - accuracy: 0.9857 - val_loss: 0.4106 - val_accuracy: 0.9554\n",
            "Epoch 50/50\n",
            "64/64 - 4s - loss: 0.0338 - accuracy: 0.9843 - val_loss: 0.3933 - val_accuracy: 0.9499\n"
          ],
          "name": "stdout"
        }
      ]
    },
    {
      "cell_type": "code",
      "metadata": {
        "id": "sNSZsfVHvYyK"
      },
      "source": [
        "model = keras.models.load_model(model_path)\n",
        "test_loss, test_accuracy = model.evaluate(x_test, y_test, verbose=3)\n",
        "\n",
        "y_score = model.predict(x_test)\n",
        "y_true = [int(y) for y in y_test]\n",
        "evaluate(model, history, test_accuracy, y_score, y_true, LOG_DIR, key, dataset, 3)"
      ],
      "execution_count": null,
      "outputs": []
    },
    {
      "cell_type": "code",
      "metadata": {
        "id": "Rv24u0XgYlXs"
      },
      "source": [
        ""
      ],
      "execution_count": null,
      "outputs": []
    }
  ]
}