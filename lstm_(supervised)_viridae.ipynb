{
  "nbformat": 4,
  "nbformat_minor": 0,
  "metadata": {
    "colab": {
      "name": "lstm_(supervised)_viridae.ipynb",
      "provenance": [],
      "collapsed_sections": [],
      "authorship_tag": "ABX9TyMoPcPo1zMx8oJvopgiDqc4",
      "include_colab_link": true
    },
    "kernelspec": {
      "name": "python3",
      "display_name": "Python 3"
    },
    "accelerator": "GPU"
  },
  "cells": [
    {
      "cell_type": "markdown",
      "metadata": {
        "id": "view-in-github",
        "colab_type": "text"
      },
      "source": [
        "<a href=\"https://colab.research.google.com/github/csy99/dna-nn-theory/blob/master/lstm_(supervised)_viridae.ipynb\" target=\"_parent\"><img src=\"https://colab.research.google.com/assets/colab-badge.svg\" alt=\"Open In Colab\"/></a>"
      ]
    },
    {
      "cell_type": "code",
      "metadata": {
        "id": "FiSO3GWw8FWG"
      },
      "source": [
        "import numpy as np\n",
        "import pandas as pd\n",
        "import matplotlib\n",
        "import matplotlib.pyplot as plt\n",
        "from itertools import product\n",
        "import re\n",
        "import time\n",
        "import tensorflow as tf\n",
        "from tensorflow import keras"
      ],
      "execution_count": 1,
      "outputs": []
    },
    {
      "cell_type": "markdown",
      "metadata": {
        "id": "GuvNh5Ia8vvD"
      },
      "source": [
        "# Read Data"
      ]
    },
    {
      "cell_type": "code",
      "metadata": {
        "id": "H5SYc4iv-RPC",
        "outputId": "b58174bb-4a23-43e5-ab6d-f307b7984bb6",
        "colab": {
          "base_uri": "https://localhost:8080/",
          "height": 307
        }
      },
      "source": [
        "!pip install PyDrive\n",
        "from google.colab import drive\n",
        "drive.mount('/content/gdrive')"
      ],
      "execution_count": 2,
      "outputs": [
        {
          "output_type": "stream",
          "text": [
            "Requirement already satisfied: PyDrive in /usr/local/lib/python3.6/dist-packages (1.3.1)\n",
            "Requirement already satisfied: oauth2client>=4.0.0 in /usr/local/lib/python3.6/dist-packages (from PyDrive) (4.1.3)\n",
            "Requirement already satisfied: google-api-python-client>=1.2 in /usr/local/lib/python3.6/dist-packages (from PyDrive) (1.7.12)\n",
            "Requirement already satisfied: PyYAML>=3.0 in /usr/local/lib/python3.6/dist-packages (from PyDrive) (3.13)\n",
            "Requirement already satisfied: pyasn1-modules>=0.0.5 in /usr/local/lib/python3.6/dist-packages (from oauth2client>=4.0.0->PyDrive) (0.2.8)\n",
            "Requirement already satisfied: pyasn1>=0.1.7 in /usr/local/lib/python3.6/dist-packages (from oauth2client>=4.0.0->PyDrive) (0.4.8)\n",
            "Requirement already satisfied: six>=1.6.1 in /usr/local/lib/python3.6/dist-packages (from oauth2client>=4.0.0->PyDrive) (1.15.0)\n",
            "Requirement already satisfied: httplib2>=0.9.1 in /usr/local/lib/python3.6/dist-packages (from oauth2client>=4.0.0->PyDrive) (0.17.4)\n",
            "Requirement already satisfied: rsa>=3.1.4 in /usr/local/lib/python3.6/dist-packages (from oauth2client>=4.0.0->PyDrive) (4.6)\n",
            "Requirement already satisfied: google-auth-httplib2>=0.0.3 in /usr/local/lib/python3.6/dist-packages (from google-api-python-client>=1.2->PyDrive) (0.0.4)\n",
            "Requirement already satisfied: uritemplate<4dev,>=3.0.0 in /usr/local/lib/python3.6/dist-packages (from google-api-python-client>=1.2->PyDrive) (3.0.1)\n",
            "Requirement already satisfied: google-auth>=1.4.1 in /usr/local/lib/python3.6/dist-packages (from google-api-python-client>=1.2->PyDrive) (1.17.2)\n",
            "Requirement already satisfied: cachetools<5.0,>=2.0.0 in /usr/local/lib/python3.6/dist-packages (from google-auth>=1.4.1->google-api-python-client>=1.2->PyDrive) (4.1.1)\n",
            "Requirement already satisfied: setuptools>=40.3.0 in /usr/local/lib/python3.6/dist-packages (from google-auth>=1.4.1->google-api-python-client>=1.2->PyDrive) (50.3.0)\n",
            "Mounted at /content/gdrive\n"
          ],
          "name": "stdout"
        }
      ]
    },
    {
      "cell_type": "code",
      "metadata": {
        "id": "GTavNzohPEjl",
        "outputId": "f7d1cf19-539f-4111-f444-f8682609a8b3",
        "colab": {
          "base_uri": "https://localhost:8080/",
          "height": 202
        }
      },
      "source": [
        "data_path = '/content/gdrive/My Drive/Colab Notebooks/viridae/'\n",
        "records_df = pd.read_csv(data_path + 'clean.csv')\n",
        "# replace all '-' with N (stands for any nt)\n",
        "records_df.seq = records_df.seq.str.replace('-', 'N')\n",
        "records_df.head()"
      ],
      "execution_count": 3,
      "outputs": [
        {
          "output_type": "execute_result",
          "data": {
            "text/html": [
              "<div>\n",
              "<style scoped>\n",
              "    .dataframe tbody tr th:only-of-type {\n",
              "        vertical-align: middle;\n",
              "    }\n",
              "\n",
              "    .dataframe tbody tr th {\n",
              "        vertical-align: top;\n",
              "    }\n",
              "\n",
              "    .dataframe thead th {\n",
              "        text-align: right;\n",
              "    }\n",
              "</style>\n",
              "<table border=\"1\" class=\"dataframe\">\n",
              "  <thead>\n",
              "    <tr style=\"text-align: right;\">\n",
              "      <th></th>\n",
              "      <th>id</th>\n",
              "      <th>seq</th>\n",
              "      <th>label</th>\n",
              "    </tr>\n",
              "  </thead>\n",
              "  <tbody>\n",
              "    <tr>\n",
              "      <th>0</th>\n",
              "      <td>NC_036588.1</td>\n",
              "      <td>NNNNNNNNNNNNNNNNNNNNNNNNNNNNNNNNNNNNNNNNNNNNNN...</td>\n",
              "      <td>0</td>\n",
              "    </tr>\n",
              "    <tr>\n",
              "      <th>1</th>\n",
              "      <td>NC_014412.1</td>\n",
              "      <td>NNNNNNNNNNNNNNNNNNNNNNNNNNNNNNNNNNNNNNNNNNNNNN...</td>\n",
              "      <td>0</td>\n",
              "    </tr>\n",
              "    <tr>\n",
              "      <th>2</th>\n",
              "      <td>NC_014413.1</td>\n",
              "      <td>GNNNNNNNNNNNNNNNNNNNNNNNNNNNNNNNNNNNNNNNNNNNNN...</td>\n",
              "      <td>0</td>\n",
              "    </tr>\n",
              "    <tr>\n",
              "      <th>3</th>\n",
              "      <td>NC_025890.1</td>\n",
              "      <td>NNNNNNNNNNNNNNNNNNNNNNNNNNNNNNNNNNNNNNNNNNNNNN...</td>\n",
              "      <td>0</td>\n",
              "    </tr>\n",
              "    <tr>\n",
              "      <th>4</th>\n",
              "      <td>NC_023162.1</td>\n",
              "      <td>NNNNNNNNNNNNNNNNNNNNNNNNNNNNNNNNNNNNNNNNNNNNNN...</td>\n",
              "      <td>0</td>\n",
              "    </tr>\n",
              "  </tbody>\n",
              "</table>\n",
              "</div>"
            ],
            "text/plain": [
              "            id                                                seq  label\n",
              "0  NC_036588.1  NNNNNNNNNNNNNNNNNNNNNNNNNNNNNNNNNNNNNNNNNNNNNN...      0\n",
              "1  NC_014412.1  NNNNNNNNNNNNNNNNNNNNNNNNNNNNNNNNNNNNNNNNNNNNNN...      0\n",
              "2  NC_014413.1  GNNNNNNNNNNNNNNNNNNNNNNNNNNNNNNNNNNNNNNNNNNNNN...      0\n",
              "3  NC_025890.1  NNNNNNNNNNNNNNNNNNNNNNNNNNNNNNNNNNNNNNNNNNNNNN...      0\n",
              "4  NC_023162.1  NNNNNNNNNNNNNNNNNNNNNNNNNNNNNNNNNNNNNNNNNNNNNN...      0"
            ]
          },
          "metadata": {
            "tags": []
          },
          "execution_count": 3
        }
      ]
    },
    {
      "cell_type": "code",
      "metadata": {
        "id": "h_IFMicpqYIl",
        "outputId": "ae529635-1610-4d54-9c86-327a9f97782a",
        "colab": {
          "base_uri": "https://localhost:8080/",
          "height": 89
        }
      },
      "source": [
        "seq_num = 0\n",
        "for seq in records_df[\"seq\"]:\n",
        "  char_num = 0\n",
        "  for char in seq:\n",
        "    if char != 'A' and char != 'C' and char != 'T' and char != 'G' and char != 'N':\n",
        "      print(\"seq\", seq_num, 'char', char_num, 'is', char)\n",
        "    char_num += 1\n",
        "  seq_num += 1"
      ],
      "execution_count": null,
      "outputs": [
        {
          "output_type": "stream",
          "text": [
            "seq 67 char 3290 is R\n",
            "seq 67 char 3858 is R\n",
            "seq 82 char 1766 is Y\n",
            "seq 241 char 2298 is R\n"
          ],
          "name": "stdout"
        }
      ]
    },
    {
      "cell_type": "code",
      "metadata": {
        "id": "myCtGYFV37Re"
      },
      "source": [
        "records_df.seq = records_df.seq.str.replace('R', 'N')\n",
        "records_df.seq = records_df.seq.str.replace('Y', 'N')"
      ],
      "execution_count": 4,
      "outputs": []
    },
    {
      "cell_type": "code",
      "metadata": {
        "id": "lSFFjXSJP88L",
        "outputId": "0048c955-3e74-4339-ede9-2c6bc38b49a5",
        "colab": {
          "base_uri": "https://localhost:8080/",
          "height": 35
        }
      },
      "source": [
        "# check if the length of the sequence is the same \n",
        "seq_len = len(records_df.seq[0])\n",
        "print(\"The length of the sequence is\", seq_len)\n",
        "for seq in records_df.seq[:200]:\n",
        "  assert len(seq) == seq_len"
      ],
      "execution_count": 5,
      "outputs": [
        {
          "output_type": "stream",
          "text": [
            "The length of the sequence is 4132\n"
          ],
          "name": "stdout"
        }
      ]
    },
    {
      "cell_type": "code",
      "metadata": {
        "id": "sUWH2qMJ4MlM"
      },
      "source": [
        "# records_df[\"unigram\"] = records_df.seq.str.replace('', ' ')"
      ],
      "execution_count": null,
      "outputs": []
    },
    {
      "cell_type": "code",
      "metadata": {
        "id": "DiHtYnLfkcrz",
        "outputId": "6bdda2cf-b6da-456f-a94f-c3b91b26c1f0",
        "colab": {
          "base_uri": "https://localhost:8080/",
          "height": 53
        }
      },
      "source": [
        "from sklearn.model_selection import train_test_split\n",
        "from sklearn.manifold import TSNE\n",
        "xtrain_full, xtest, ytrain_full, ytest = train_test_split(records_df, records_df.label, test_size=0.2, random_state=100, stratify=records_df.label)\n",
        "xtrain, xval, ytrain, yval = train_test_split(xtrain_full, ytrain_full, test_size=0.2, random_state=100, stratify=ytrain_full)\n",
        "print(\"shape of training, validation, test set\\n\", xtrain.shape, xval.shape, xtest.shape, ytrain.shape, yval.shape, ytest.shape)"
      ],
      "execution_count": 6,
      "outputs": [
        {
          "output_type": "stream",
          "text": [
            "shape of training, validation, test set\n",
            " (179, 3) (45, 3) (57, 3) (179,) (45,) (57,)\n"
          ],
          "name": "stdout"
        }
      ]
    },
    {
      "cell_type": "code",
      "metadata": {
        "id": "W2h9sGLCVtDn",
        "outputId": "c5f32c3e-f0e3-45b8-9138-5a2e7b48db5f",
        "colab": {
          "base_uri": "https://localhost:8080/",
          "height": 35
        }
      },
      "source": [
        "word_size = 1\n",
        "vocab = [''.join(p) for p in product('ACGTN', repeat=word_size)]\n",
        "# word_to_idx = {word: i for i, word in enumerate(vocab)}\n",
        "vocab_size = 5\n",
        "print('vocab_size:', vocab_size)\n",
        "# print(\"word_to_idx\", word_to_idx)\n",
        "create1gram = keras.layers.experimental.preprocessing.TextVectorization(\n",
        "  standardize=lambda x: tf.strings.regex_replace(x, '(.)', '\\\\1 '), ngrams=1\n",
        ")\n",
        "create1gram.adapt(vocab)"
      ],
      "execution_count": 8,
      "outputs": [
        {
          "output_type": "stream",
          "text": [
            "vocab_size: 5\n"
          ],
          "name": "stdout"
        }
      ]
    },
    {
      "cell_type": "code",
      "metadata": {
        "id": "EHPvs2BCU_Mk"
      },
      "source": [
        "def ds_preprocess(x, y):\n",
        "  x_index = tf.subtract(create1gram(x), 2)\n",
        "  return x_index, y"
      ],
      "execution_count": 9,
      "outputs": []
    },
    {
      "cell_type": "code",
      "metadata": {
        "id": "TFvsJkEa0YuT",
        "outputId": "cf63b1b7-a01e-4fc1-ec63-360387f9ce9d",
        "colab": {
          "base_uri": "https://localhost:8080/",
          "height": 35
        }
      },
      "source": [
        "# not sure the correct way to get mapping from word to its index\n",
        "create1gram('A C G T N') - 2"
      ],
      "execution_count": null,
      "outputs": [
        {
          "output_type": "execute_result",
          "data": {
            "text/plain": [
              "<tf.Tensor: shape=(5,), dtype=int64, numpy=array([4, 3, 2, 0, 1])>"
            ]
          },
          "metadata": {
            "tags": []
          },
          "execution_count": 21
        }
      ]
    },
    {
      "cell_type": "code",
      "metadata": {
        "id": "jzLRmqEjSitl"
      },
      "source": [
        "BATCH_SIZE = 256\n",
        "xtrain_ds = tf.data.Dataset.from_tensor_slices((xtrain['seq'], ytrain)).map(ds_preprocess).batch(BATCH_SIZE)\n",
        "xval_ds = tf.data.Dataset.from_tensor_slices((xval['seq'], yval)).map(ds_preprocess).batch(BATCH_SIZE)\n",
        "xtest_ds = tf.data.Dataset.from_tensor_slices((xtest['seq'], ytest)).map(ds_preprocess).batch(BATCH_SIZE)"
      ],
      "execution_count": 10,
      "outputs": []
    },
    {
      "cell_type": "code",
      "metadata": {
        "id": "gVLaIchQUWQl",
        "outputId": "c36b76a4-019d-43cc-e79b-d6c242118852",
        "colab": {
          "base_uri": "https://localhost:8080/",
          "height": 557
        }
      },
      "source": [
        "latent_size = 256\n",
        "\n",
        "model = keras.Sequential([\n",
        "    keras.Input(shape=(seq_len,)),\n",
        "    keras.layers.Embedding(seq_len, latent_size),\n",
        "    keras.layers.LSTM(latent_size, return_sequences=False),\n",
        "    keras.layers.Dense(128, activation=\"relu\"),\n",
        "    keras.layers.Dropout(0.2),\n",
        "    keras.layers.Dense(64, activation=\"relu\"),    \n",
        "    keras.layers.Dropout(0.2),\n",
        "    keras.layers.Dense(32, activation=\"relu\"),  \n",
        "    keras.layers.Dropout(0.2), \n",
        "    keras.layers.Dense(16, activation=\"relu\"), \n",
        "    keras.layers.Dropout(0.2),   \n",
        "    keras.layers.Dense(1, activation=\"sigmoid\")                               \n",
        "])\n",
        "model.summary()"
      ],
      "execution_count": 11,
      "outputs": [
        {
          "output_type": "stream",
          "text": [
            "Model: \"sequential\"\n",
            "_________________________________________________________________\n",
            "Layer (type)                 Output Shape              Param #   \n",
            "=================================================================\n",
            "embedding (Embedding)        (None, 4132, 256)         1057792   \n",
            "_________________________________________________________________\n",
            "lstm (LSTM)                  (None, 256)               525312    \n",
            "_________________________________________________________________\n",
            "dense (Dense)                (None, 128)               32896     \n",
            "_________________________________________________________________\n",
            "dropout (Dropout)            (None, 128)               0         \n",
            "_________________________________________________________________\n",
            "dense_1 (Dense)              (None, 64)                8256      \n",
            "_________________________________________________________________\n",
            "dropout_1 (Dropout)          (None, 64)                0         \n",
            "_________________________________________________________________\n",
            "dense_2 (Dense)              (None, 32)                2080      \n",
            "_________________________________________________________________\n",
            "dropout_2 (Dropout)          (None, 32)                0         \n",
            "_________________________________________________________________\n",
            "dense_3 (Dense)              (None, 16)                528       \n",
            "_________________________________________________________________\n",
            "dropout_3 (Dropout)          (None, 16)                0         \n",
            "_________________________________________________________________\n",
            "dense_4 (Dense)              (None, 1)                 17        \n",
            "=================================================================\n",
            "Total params: 1,626,881\n",
            "Trainable params: 1,626,881\n",
            "Non-trainable params: 0\n",
            "_________________________________________________________________\n"
          ],
          "name": "stdout"
        }
      ]
    },
    {
      "cell_type": "code",
      "metadata": {
        "id": "VMlnaNStWLNK",
        "outputId": "62b764c8-be16-412c-d30e-f4f86f784af6",
        "colab": {
          "base_uri": "https://localhost:8080/",
          "height": 1000
        }
      },
      "source": [
        "model.compile(optimizer=tf.optimizers.Adam(0.01), loss=tf.losses.BinaryCrossentropy(), metrics='accuracy')\n",
        "es_cb = keras.callbacks.EarlyStopping(patience=20, restore_best_weights=True)\n",
        "hist = model.fit(xtrain_ds, validation_data=xval_ds, epochs=1000, callbacks=[es_cb])"
      ],
      "execution_count": 14,
      "outputs": [
        {
          "output_type": "stream",
          "text": [
            "Epoch 1/1000\n",
            "1/1 [==============================] - 1s 603ms/step - loss: 0.6905 - accuracy: 0.5419 - val_loss: 0.6913 - val_accuracy: 0.5333\n",
            "Epoch 2/1000\n",
            "1/1 [==============================] - 0s 278ms/step - loss: 0.6921 - accuracy: 0.5419 - val_loss: 0.6925 - val_accuracy: 0.5333\n",
            "Epoch 3/1000\n",
            "1/1 [==============================] - 0s 289ms/step - loss: 0.6879 - accuracy: 0.5363 - val_loss: 0.7016 - val_accuracy: 0.5333\n",
            "Epoch 4/1000\n",
            "1/1 [==============================] - 0s 287ms/step - loss: 0.7060 - accuracy: 0.5307 - val_loss: 0.7175 - val_accuracy: 0.3333\n",
            "Epoch 5/1000\n",
            "1/1 [==============================] - 0s 293ms/step - loss: 0.7246 - accuracy: 0.3855 - val_loss: 0.6944 - val_accuracy: 0.5556\n",
            "Epoch 6/1000\n",
            "1/1 [==============================] - 0s 296ms/step - loss: 0.6900 - accuracy: 0.5251 - val_loss: 0.6931 - val_accuracy: 0.5333\n",
            "Epoch 7/1000\n",
            "1/1 [==============================] - 0s 295ms/step - loss: 0.7029 - accuracy: 0.4916 - val_loss: 0.6888 - val_accuracy: 0.5333\n",
            "Epoch 8/1000\n",
            "1/1 [==============================] - 0s 310ms/step - loss: 0.6828 - accuracy: 0.5196 - val_loss: 0.6912 - val_accuracy: 0.5333\n",
            "Epoch 9/1000\n",
            "1/1 [==============================] - 0s 285ms/step - loss: 0.6945 - accuracy: 0.5363 - val_loss: 0.6940 - val_accuracy: 0.5333\n",
            "Epoch 10/1000\n",
            "1/1 [==============================] - 0s 286ms/step - loss: 0.6811 - accuracy: 0.5307 - val_loss: 0.7087 - val_accuracy: 0.4222\n",
            "Epoch 11/1000\n",
            "1/1 [==============================] - 0s 328ms/step - loss: 0.7254 - accuracy: 0.4637 - val_loss: 0.6852 - val_accuracy: 0.6222\n",
            "Epoch 12/1000\n",
            "1/1 [==============================] - 0s 292ms/step - loss: 0.6851 - accuracy: 0.5307 - val_loss: 0.6940 - val_accuracy: 0.5333\n",
            "Epoch 13/1000\n",
            "1/1 [==============================] - 0s 290ms/step - loss: 0.7023 - accuracy: 0.5084 - val_loss: 0.6942 - val_accuracy: 0.5333\n",
            "Epoch 14/1000\n",
            "1/1 [==============================] - 0s 295ms/step - loss: 0.6921 - accuracy: 0.5251 - val_loss: 0.7062 - val_accuracy: 0.4000\n",
            "Epoch 15/1000\n",
            "1/1 [==============================] - 0s 295ms/step - loss: 0.7042 - accuracy: 0.5363 - val_loss: 0.7179 - val_accuracy: 0.4667\n",
            "Epoch 16/1000\n",
            "1/1 [==============================] - 0s 310ms/step - loss: 0.7265 - accuracy: 0.4358 - val_loss: 0.7059 - val_accuracy: 0.3778\n",
            "Epoch 17/1000\n",
            "1/1 [==============================] - 0s 305ms/step - loss: 0.7255 - accuracy: 0.5251 - val_loss: 0.7102 - val_accuracy: 0.3111\n",
            "Epoch 18/1000\n",
            "1/1 [==============================] - 0s 286ms/step - loss: 0.7146 - accuracy: 0.4469 - val_loss: 0.7031 - val_accuracy: 0.3556\n",
            "Epoch 19/1000\n",
            "1/1 [==============================] - 0s 310ms/step - loss: 0.6816 - accuracy: 0.5978 - val_loss: 0.7010 - val_accuracy: 0.1556\n",
            "Epoch 20/1000\n",
            "1/1 [==============================] - 0s 308ms/step - loss: 0.7151 - accuracy: 0.4246 - val_loss: 0.6734 - val_accuracy: 0.7778\n",
            "Epoch 21/1000\n",
            "1/1 [==============================] - 0s 297ms/step - loss: 0.6663 - accuracy: 0.6201 - val_loss: 0.7351 - val_accuracy: 0.5333\n",
            "Epoch 22/1000\n",
            "1/1 [==============================] - 0s 293ms/step - loss: 0.7453 - accuracy: 0.5084 - val_loss: 0.8044 - val_accuracy: 0.1333\n",
            "Epoch 23/1000\n",
            "1/1 [==============================] - 0s 296ms/step - loss: 0.7994 - accuracy: 0.3128 - val_loss: 0.7009 - val_accuracy: 0.5333\n",
            "Epoch 24/1000\n",
            "1/1 [==============================] - 0s 295ms/step - loss: 0.6964 - accuracy: 0.5307 - val_loss: 0.6845 - val_accuracy: 0.3778\n",
            "Epoch 25/1000\n",
            "1/1 [==============================] - 0s 316ms/step - loss: 0.6740 - accuracy: 0.5642 - val_loss: 0.6950 - val_accuracy: 0.2889\n",
            "Epoch 26/1000\n",
            "1/1 [==============================] - 0s 302ms/step - loss: 0.7006 - accuracy: 0.5084 - val_loss: 0.6944 - val_accuracy: 0.4667\n",
            "Epoch 27/1000\n",
            "1/1 [==============================] - 0s 336ms/step - loss: 0.7189 - accuracy: 0.4134 - val_loss: 0.6700 - val_accuracy: 0.6000\n",
            "Epoch 28/1000\n",
            "1/1 [==============================] - 0s 297ms/step - loss: 0.6817 - accuracy: 0.5754 - val_loss: 0.6899 - val_accuracy: 0.5333\n",
            "Epoch 29/1000\n",
            "1/1 [==============================] - 0s 319ms/step - loss: 0.6999 - accuracy: 0.5531 - val_loss: 0.6912 - val_accuracy: 0.5333\n",
            "Epoch 30/1000\n",
            "1/1 [==============================] - 0s 297ms/step - loss: 0.6981 - accuracy: 0.4972 - val_loss: 0.6912 - val_accuracy: 0.5333\n",
            "Epoch 31/1000\n",
            "1/1 [==============================] - 0s 327ms/step - loss: 0.6935 - accuracy: 0.5251 - val_loss: 0.6911 - val_accuracy: 0.5333\n",
            "Epoch 32/1000\n",
            "1/1 [==============================] - 0s 311ms/step - loss: 0.6914 - accuracy: 0.5363 - val_loss: 0.6912 - val_accuracy: 0.5333\n",
            "Epoch 33/1000\n",
            "1/1 [==============================] - 0s 312ms/step - loss: 0.6903 - accuracy: 0.5419 - val_loss: 0.6912 - val_accuracy: 0.5333\n",
            "Epoch 34/1000\n",
            "1/1 [==============================] - 0s 310ms/step - loss: 0.6937 - accuracy: 0.5363 - val_loss: 0.6911 - val_accuracy: 0.5333\n",
            "Epoch 35/1000\n",
            "1/1 [==============================] - 0s 315ms/step - loss: 0.6887 - accuracy: 0.5363 - val_loss: 0.6910 - val_accuracy: 0.5333\n",
            "Epoch 36/1000\n",
            "1/1 [==============================] - 0s 294ms/step - loss: 0.6900 - accuracy: 0.5419 - val_loss: 0.6909 - val_accuracy: 0.5333\n",
            "Epoch 37/1000\n",
            "1/1 [==============================] - 0s 292ms/step - loss: 0.6883 - accuracy: 0.5475 - val_loss: 0.6909 - val_accuracy: 0.5333\n",
            "Epoch 38/1000\n",
            "1/1 [==============================] - 0s 306ms/step - loss: 0.6865 - accuracy: 0.5475 - val_loss: 0.6910 - val_accuracy: 0.5333\n",
            "Epoch 39/1000\n",
            "1/1 [==============================] - 0s 291ms/step - loss: 0.6904 - accuracy: 0.5307 - val_loss: 0.6910 - val_accuracy: 0.5333\n",
            "Epoch 40/1000\n",
            "1/1 [==============================] - 0s 285ms/step - loss: 0.6902 - accuracy: 0.5363 - val_loss: 0.6910 - val_accuracy: 0.5333\n",
            "Epoch 41/1000\n",
            "1/1 [==============================] - 0s 295ms/step - loss: 0.6874 - accuracy: 0.5307 - val_loss: 0.6911 - val_accuracy: 0.5333\n",
            "Epoch 42/1000\n",
            "1/1 [==============================] - 0s 316ms/step - loss: 0.6882 - accuracy: 0.5419 - val_loss: 0.6914 - val_accuracy: 0.5333\n",
            "Epoch 43/1000\n",
            "1/1 [==============================] - 0s 282ms/step - loss: 0.6982 - accuracy: 0.5307 - val_loss: 0.6921 - val_accuracy: 0.5333\n",
            "Epoch 44/1000\n",
            "1/1 [==============================] - 0s 289ms/step - loss: 0.7050 - accuracy: 0.5363 - val_loss: 0.6910 - val_accuracy: 0.5333\n",
            "Epoch 45/1000\n",
            "1/1 [==============================] - 0s 334ms/step - loss: 0.6860 - accuracy: 0.5419 - val_loss: 0.6910 - val_accuracy: 0.5333\n",
            "Epoch 46/1000\n",
            "1/1 [==============================] - 0s 283ms/step - loss: 0.6891 - accuracy: 0.5419 - val_loss: 0.6910 - val_accuracy: 0.5333\n",
            "Epoch 47/1000\n",
            "1/1 [==============================] - 0s 304ms/step - loss: 0.6938 - accuracy: 0.5419 - val_loss: 0.6910 - val_accuracy: 0.5333\n"
          ],
          "name": "stdout"
        }
      ]
    },
    {
      "cell_type": "code",
      "metadata": {
        "id": "AjiRiXQHwNOS",
        "outputId": "c48bf501-b04b-4509-be95-5c66e0dd4c64",
        "colab": {
          "base_uri": "https://localhost:8080/",
          "height": 369
        }
      },
      "source": [
        "fig, axes = plt.subplots(1, 2, figsize=(10, 5))\n",
        "for i in range(1):\n",
        "  ax1 = axes[0]\n",
        "  ax2 = axes[1]\n",
        "\n",
        "  ax1.plot(hist.history['loss'], label='training')\n",
        "  ax1.plot(hist.history['val_loss'], label='validation')\n",
        "  ax1.set_title('lstm autoencoder loss')\n",
        "  ax1.set_xlabel('epoch')\n",
        "  ax1.set_ylabel('loss')\n",
        "  ax1.legend(['train', 'validation'], loc='upper left')\n",
        "  \n",
        "  ax2.plot(hist.history['accuracy'], label='training')\n",
        "  ax2.plot(hist.history['val_accuracy'], label='validation')\n",
        "  ax2.set_title('lstm autoencoder accuracy')\n",
        "  ax2.set_xlabel('epoch')\n",
        "  ax2.set_ylabel('accuracy')\n",
        "  ax2.legend(['train', 'validation'], loc='upper left')\n",
        "fig.tight_layout()"
      ],
      "execution_count": 17,
      "outputs": [
        {
          "output_type": "display_data",
          "data": {
            "image/png": "[encoded data removed]",
            "text/plain": [
              "<Figure size 720x360 with 2 Axes>"
            ]
          },
          "metadata": {
            "tags": [],
            "needs_background": "light"
          }
        }
      ]
    },
    {
      "cell_type": "code",
      "metadata": {
        "id": "6sgxZ6qrU9-9"
      },
      "source": [
        "def eval_model(model, ds, ds_name=\"Training\"):\n",
        "  loss, acc = model.evaluate(ds, verbose=0)\n",
        "  print(\"{} Dataset: loss = {} and acccuracy = {}%\".format(ds_name, np.round(loss, 3), np.round(acc*100, 2)))"
      ],
      "execution_count": 20,
      "outputs": []
    },
    {
      "cell_type": "code",
      "metadata": {
        "id": "YwcedsFqDUnm",
        "outputId": "1f8dfe14-1f1b-4272-90ea-abfec8262348",
        "colab": {
          "base_uri": "https://localhost:8080/",
          "height": 71
        }
      },
      "source": [
        "eval_model(model, xtrain_ds, \"Training\")\n",
        "eval_model(model, xval_ds, \"Validation\")\n",
        "eval_model(model, xtest_ds, \"Test\")"
      ],
      "execution_count": 21,
      "outputs": [
        {
          "output_type": "stream",
          "text": [
            "Training Dataset: loss = 0.674 and acccuracy = 56.42%\n",
            "Validation Dataset: loss = 0.67 and acccuracy = 60.0%\n",
            "Test Dataset: loss = 0.676 and acccuracy = 56.14%\n"
          ],
          "name": "stdout"
        }
      ]
    }
  ]
}