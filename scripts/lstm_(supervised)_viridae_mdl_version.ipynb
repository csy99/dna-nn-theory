{
  "nbformat": 4,
  "nbformat_minor": 0,
  "metadata": {
    "colab": {
      "name": "lstm_(supervised)_viridae_mdl version.ipynb",
      "provenance": [],
      "collapsed_sections": [],
      "authorship_tag": "ABX9TyOVasjY9RVIdChk5+aQY5zM",
      "include_colab_link": true
    },
    "kernelspec": {
      "name": "python3",
      "display_name": "Python 3"
    },
    "accelerator": "GPU"
  },
  "cells": [
    {
      "cell_type": "markdown",
      "metadata": {
        "id": "view-in-github",
        "colab_type": "text"
      },
      "source": [
        "<a href=\"https://colab.research.google.com/github/csy99/dna-nn-theory/blob/master/lstm_(supervised)_viridae_mdl_version.ipynb\" target=\"_parent\"><img src=\"https://colab.research.google.com/assets/colab-badge.svg\" alt=\"Open In Colab\"/></a>"
      ]
    },
    {
      "cell_type": "code",
      "metadata": {
        "id": "FiSO3GWw8FWG"
      },
      "source": [
        "import numpy as np\n",
        "import pandas as pd\n",
        "import matplotlib\n",
        "import matplotlib.pyplot as plt\n",
        "from itertools import product\n",
        "import re\n",
        "import time\n",
        "import tensorflow as tf\n",
        "from tensorflow import keras"
      ],
      "execution_count": 1,
      "outputs": []
    },
    {
      "cell_type": "markdown",
      "metadata": {
        "id": "GuvNh5Ia8vvD"
      },
      "source": [
        "# Read Data"
      ]
    },
    {
      "cell_type": "code",
      "metadata": {
        "id": "H5SYc4iv-RPC",
        "outputId": "064a3c8e-db83-4a64-c28a-1b23bc2bcd51",
        "colab": {
          "base_uri": "https://localhost:8080/",
          "height": 307
        }
      },
      "source": [
        "!pip install PyDrive\n",
        "from google.colab import drive\n",
        "drive.mount('/content/gdrive')"
      ],
      "execution_count": 2,
      "outputs": [
        {
          "output_type": "stream",
          "text": [
            "Requirement already satisfied: PyDrive in /usr/local/lib/python3.6/dist-packages (1.3.1)\n",
            "Requirement already satisfied: PyYAML>=3.0 in /usr/local/lib/python3.6/dist-packages (from PyDrive) (3.13)\n",
            "Requirement already satisfied: google-api-python-client>=1.2 in /usr/local/lib/python3.6/dist-packages (from PyDrive) (1.7.12)\n",
            "Requirement already satisfied: oauth2client>=4.0.0 in /usr/local/lib/python3.6/dist-packages (from PyDrive) (4.1.3)\n",
            "Requirement already satisfied: uritemplate<4dev,>=3.0.0 in /usr/local/lib/python3.6/dist-packages (from google-api-python-client>=1.2->PyDrive) (3.0.1)\n",
            "Requirement already satisfied: google-auth-httplib2>=0.0.3 in /usr/local/lib/python3.6/dist-packages (from google-api-python-client>=1.2->PyDrive) (0.0.4)\n",
            "Requirement already satisfied: google-auth>=1.4.1 in /usr/local/lib/python3.6/dist-packages (from google-api-python-client>=1.2->PyDrive) (1.17.2)\n",
            "Requirement already satisfied: httplib2<1dev,>=0.17.0 in /usr/local/lib/python3.6/dist-packages (from google-api-python-client>=1.2->PyDrive) (0.17.4)\n",
            "Requirement already satisfied: six<2dev,>=1.6.1 in /usr/local/lib/python3.6/dist-packages (from google-api-python-client>=1.2->PyDrive) (1.15.0)\n",
            "Requirement already satisfied: pyasn1-modules>=0.0.5 in /usr/local/lib/python3.6/dist-packages (from oauth2client>=4.0.0->PyDrive) (0.2.8)\n",
            "Requirement already satisfied: rsa>=3.1.4 in /usr/local/lib/python3.6/dist-packages (from oauth2client>=4.0.0->PyDrive) (4.6)\n",
            "Requirement already satisfied: pyasn1>=0.1.7 in /usr/local/lib/python3.6/dist-packages (from oauth2client>=4.0.0->PyDrive) (0.4.8)\n",
            "Requirement already satisfied: setuptools>=40.3.0 in /usr/local/lib/python3.6/dist-packages (from google-auth>=1.4.1->google-api-python-client>=1.2->PyDrive) (50.3.0)\n",
            "Requirement already satisfied: cachetools<5.0,>=2.0.0 in /usr/local/lib/python3.6/dist-packages (from google-auth>=1.4.1->google-api-python-client>=1.2->PyDrive) (4.1.1)\n",
            "Mounted at /content/gdrive\n"
          ],
          "name": "stdout"
        }
      ]
    },
    {
      "cell_type": "code",
      "metadata": {
        "id": "GTavNzohPEjl",
        "outputId": "1b9a6b1a-7a21-4c42-b01a-7acc93cfd284",
        "colab": {
          "base_uri": "https://localhost:8080/",
          "height": 219
        }
      },
      "source": [
        "data_path = '/content/gdrive/My Drive/Colab Notebooks/viridae/'\n",
        "records_df = pd.read_csv(data_path + 'reduced_viridae.csv')\n",
        "# replace all '-' with N (stands for any nt)\n",
        "records_df.seq = records_df.seq.str.replace('-', 'N')\n",
        "records_df.head()"
      ],
      "execution_count": 3,
      "outputs": [
        {
          "output_type": "execute_result",
          "data": {
            "text/html": [
              "<div>\n",
              "<style scoped>\n",
              "    .dataframe tbody tr th:only-of-type {\n",
              "        vertical-align: middle;\n",
              "    }\n",
              "\n",
              "    .dataframe tbody tr th {\n",
              "        vertical-align: top;\n",
              "    }\n",
              "\n",
              "    .dataframe thead th {\n",
              "        text-align: right;\n",
              "    }\n",
              "</style>\n",
              "<table border=\"1\" class=\"dataframe\">\n",
              "  <thead>\n",
              "    <tr style=\"text-align: right;\">\n",
              "      <th></th>\n",
              "      <th>Unnamed: 0</th>\n",
              "      <th>id</th>\n",
              "      <th>seq</th>\n",
              "      <th>label</th>\n",
              "      <th>ngram</th>\n",
              "    </tr>\n",
              "  </thead>\n",
              "  <tbody>\n",
              "    <tr>\n",
              "      <th>0</th>\n",
              "      <td>0</td>\n",
              "      <td>NC_000947.1</td>\n",
              "      <td>NNNNNNNNNNNNNNNNNNNNNNNNNNNNNNNNNNNNNNNNNNNNNN...</td>\n",
              "      <td>1</td>\n",
              "      <td>['NNN', 'NNN', 'NNN', 'NNN', 'NNN', 'NNN', 'NN...</td>\n",
              "    </tr>\n",
              "    <tr>\n",
              "      <th>1</th>\n",
              "      <td>1</td>\n",
              "      <td>NC_001366.1</td>\n",
              "      <td>NNNNNNNNNNTTGAAAGGGGGCCCGGGGGNNNNNNNNNNNNNNNAC...</td>\n",
              "      <td>0</td>\n",
              "      <td>['NNN', 'NNN', 'NNN', 'NNN', 'NNN', 'NNN', 'NN...</td>\n",
              "    </tr>\n",
              "    <tr>\n",
              "      <th>2</th>\n",
              "      <td>2</td>\n",
              "      <td>NC_001430.1</td>\n",
              "      <td>NNNNNNNNNNNNNNNNNNNNNNNNNNNNNNNNNNNNNNNNNNNNNN...</td>\n",
              "      <td>0</td>\n",
              "      <td>['NNN', 'NNN', 'NNN', 'NNN', 'NNN', 'NNN', 'NN...</td>\n",
              "    </tr>\n",
              "    <tr>\n",
              "      <th>3</th>\n",
              "      <td>3</td>\n",
              "      <td>NC_001445.1</td>\n",
              "      <td>NNNNNNNNNNNNNNNNNNNNNNNNNNNNNNNNNNNNNNNNNNNNNN...</td>\n",
              "      <td>1</td>\n",
              "      <td>['NNN', 'NNN', 'NNN', 'NNN', 'NNN', 'NNN', 'NN...</td>\n",
              "    </tr>\n",
              "    <tr>\n",
              "      <th>4</th>\n",
              "      <td>4</td>\n",
              "      <td>NC_001472.1</td>\n",
              "      <td>NNNNNNNNNNNNNNNNNNNNNNNNNNNNNNNNNNNNNNNNNNNNNN...</td>\n",
              "      <td>0</td>\n",
              "      <td>['NNN', 'NNN', 'NNN', 'NNN', 'NNN', 'NNN', 'NN...</td>\n",
              "    </tr>\n",
              "  </tbody>\n",
              "</table>\n",
              "</div>"
            ],
            "text/plain": [
              "   Unnamed: 0  ...                                              ngram\n",
              "0           0  ...  ['NNN', 'NNN', 'NNN', 'NNN', 'NNN', 'NNN', 'NN...\n",
              "1           1  ...  ['NNN', 'NNN', 'NNN', 'NNN', 'NNN', 'NNN', 'NN...\n",
              "2           2  ...  ['NNN', 'NNN', 'NNN', 'NNN', 'NNN', 'NNN', 'NN...\n",
              "3           3  ...  ['NNN', 'NNN', 'NNN', 'NNN', 'NNN', 'NNN', 'NN...\n",
              "4           4  ...  ['NNN', 'NNN', 'NNN', 'NNN', 'NNN', 'NNN', 'NN...\n",
              "\n",
              "[5 rows x 5 columns]"
            ]
          },
          "metadata": {
            "tags": []
          },
          "execution_count": 3
        }
      ]
    },
    {
      "cell_type": "code",
      "metadata": {
        "id": "h_IFMicpqYIl",
        "outputId": "ae529635-1610-4d54-9c86-327a9f97782a",
        "colab": {
          "base_uri": "https://localhost:8080/",
          "height": 89
        }
      },
      "source": [
        "seq_num = 0\n",
        "for seq in records_df[\"seq\"]:\n",
        "  char_num = 0\n",
        "  for char in seq:\n",
        "    if char != 'A' and char != 'C' and char != 'T' and char != 'G' and char != 'N':\n",
        "      print(\"seq\", seq_num, 'char', char_num, 'is', char)\n",
        "    char_num += 1\n",
        "  seq_num += 1"
      ],
      "execution_count": null,
      "outputs": [
        {
          "output_type": "stream",
          "text": [
            "seq 67 char 3290 is R\n",
            "seq 67 char 3858 is R\n",
            "seq 82 char 1766 is Y\n",
            "seq 241 char 2298 is R\n"
          ],
          "name": "stdout"
        }
      ]
    },
    {
      "cell_type": "code",
      "metadata": {
        "id": "myCtGYFV37Re"
      },
      "source": [
        "records_df.seq = records_df.seq.str.replace('R', 'N')\n",
        "records_df.seq = records_df.seq.str.replace('Y', 'N')"
      ],
      "execution_count": 4,
      "outputs": []
    },
    {
      "cell_type": "code",
      "metadata": {
        "id": "lSFFjXSJP88L",
        "outputId": "b7b91978-226b-4384-9ebb-028d9ea387d0",
        "colab": {
          "base_uri": "https://localhost:8080/",
          "height": 35
        }
      },
      "source": [
        "# check if the length of the sequence is the same \n",
        "seq_len = len(records_df.seq[0])\n",
        "print(\"The length of the sequence is\", seq_len)\n",
        "for seq in records_df.seq[:200]:\n",
        "  assert len(seq) == seq_len"
      ],
      "execution_count": 5,
      "outputs": [
        {
          "output_type": "stream",
          "text": [
            "The length of the sequence is 2449\n"
          ],
          "name": "stdout"
        }
      ]
    },
    {
      "cell_type": "code",
      "metadata": {
        "id": "DiHtYnLfkcrz",
        "outputId": "bde28017-ea16-4165-9953-92fe68f58cd4",
        "colab": {
          "base_uri": "https://localhost:8080/",
          "height": 53
        }
      },
      "source": [
        "from sklearn.model_selection import train_test_split\n",
        "from sklearn.manifold import TSNE\n",
        "xtrain_full, xtest, ytrain_full, ytest = train_test_split(records_df, records_df.label, test_size=0.2, random_state=100, stratify=records_df.label)\n",
        "xtrain, xval, ytrain, yval = train_test_split(xtrain_full, ytrain_full, test_size=0.2, random_state=100, stratify=ytrain_full)\n",
        "print(\"shape of training, validation, test set\\n\", xtrain.shape, xval.shape, xtest.shape, ytrain.shape, yval.shape, ytest.shape)"
      ],
      "execution_count": 6,
      "outputs": [
        {
          "output_type": "stream",
          "text": [
            "shape of training, validation, test set\n",
            " (179, 5) (45, 5) (57, 5) (179,) (45,) (57,)\n"
          ],
          "name": "stdout"
        }
      ]
    },
    {
      "cell_type": "code",
      "metadata": {
        "id": "W2h9sGLCVtDn",
        "outputId": "bd22f152-7908-41f3-84f4-f323d99c6ede",
        "colab": {
          "base_uri": "https://localhost:8080/",
          "height": 35
        }
      },
      "source": [
        "word_size = 1\n",
        "vocab = [''.join(p) for p in product('ACGTN', repeat=word_size)]\n",
        "# word_to_idx = {word: i for i, word in enumerate(vocab)}\n",
        "vocab_size = 5\n",
        "print('vocab_size:', vocab_size)\n",
        "# print(\"word_to_idx\", word_to_idx)\n",
        "create1gram = keras.layers.experimental.preprocessing.TextVectorization(\n",
        "  standardize=lambda x: tf.strings.regex_replace(x, '(.)', '\\\\1 '), ngrams=1\n",
        ")\n",
        "create1gram.adapt(vocab)"
      ],
      "execution_count": 7,
      "outputs": [
        {
          "output_type": "stream",
          "text": [
            "vocab_size: 5\n"
          ],
          "name": "stdout"
        }
      ]
    },
    {
      "cell_type": "code",
      "metadata": {
        "id": "EHPvs2BCU_Mk"
      },
      "source": [
        "def ds_preprocess(x, y):\n",
        "  x_index = tf.subtract(create1gram(x), 2)\n",
        "  return x_index, y"
      ],
      "execution_count": 8,
      "outputs": []
    },
    {
      "cell_type": "code",
      "metadata": {
        "id": "TFvsJkEa0YuT",
        "outputId": "f38f7d88-a13b-44dd-ede1-e01bb154fbef",
        "colab": {
          "base_uri": "https://localhost:8080/",
          "height": 35
        }
      },
      "source": [
        "# not sure the correct way to get mapping from word to its index\n",
        "create1gram('A C G T N') - 2"
      ],
      "execution_count": 9,
      "outputs": [
        {
          "output_type": "execute_result",
          "data": {
            "text/plain": [
              "<tf.Tensor: shape=(5,), dtype=int64, numpy=array([4, 3, 2, 0, 1])>"
            ]
          },
          "metadata": {
            "tags": []
          },
          "execution_count": 9
        }
      ]
    },
    {
      "cell_type": "code",
      "metadata": {
        "id": "jzLRmqEjSitl"
      },
      "source": [
        "BATCH_SIZE = 256\n",
        "xtrain_ds = tf.data.Dataset.from_tensor_slices((xtrain['seq'], ytrain)).map(ds_preprocess).batch(BATCH_SIZE)\n",
        "xval_ds = tf.data.Dataset.from_tensor_slices((xval['seq'], yval)).map(ds_preprocess).batch(BATCH_SIZE)\n",
        "xtest_ds = tf.data.Dataset.from_tensor_slices((xtest['seq'], ytest)).map(ds_preprocess).batch(BATCH_SIZE)"
      ],
      "execution_count": 10,
      "outputs": []
    },
    {
      "cell_type": "code",
      "metadata": {
        "id": "gVLaIchQUWQl",
        "outputId": "fbf535f0-4bc9-4ce4-f476-6b227d766d04",
        "colab": {
          "base_uri": "https://localhost:8080/",
          "height": 629
        }
      },
      "source": [
        "latent_size = 256\n",
        "\n",
        "model = keras.Sequential([\n",
        "    keras.Input(shape=(seq_len,)),\n",
        "    keras.layers.Embedding(seq_len, latent_size),\n",
        "    keras.layers.LSTM(latent_size, return_sequences=False),\n",
        "    keras.layers.Dense(256, activation=\"relu\"),\n",
        "    keras.layers.Dropout(0.2),\n",
        "    keras.layers.Dense(128, activation=\"relu\"),\n",
        "    keras.layers.Dropout(0.2),\n",
        "    keras.layers.Dense(64, activation=\"relu\"),    \n",
        "    keras.layers.Dropout(0.2),\n",
        "    keras.layers.Dense(32, activation=\"relu\"),  \n",
        "    keras.layers.Dropout(0.2), \n",
        "    keras.layers.Dense(16, activation=\"relu\"), \n",
        "    keras.layers.Dropout(0.2),   \n",
        "    keras.layers.Dense(1, activation=\"sigmoid\")                               \n",
        "])\n",
        "model.summary()"
      ],
      "execution_count": 11,
      "outputs": [
        {
          "output_type": "stream",
          "text": [
            "Model: \"sequential\"\n",
            "_________________________________________________________________\n",
            "Layer (type)                 Output Shape              Param #   \n",
            "=================================================================\n",
            "embedding (Embedding)        (None, 2449, 256)         626944    \n",
            "_________________________________________________________________\n",
            "lstm (LSTM)                  (None, 256)               525312    \n",
            "_________________________________________________________________\n",
            "dense (Dense)                (None, 256)               65792     \n",
            "_________________________________________________________________\n",
            "dropout (Dropout)            (None, 256)               0         \n",
            "_________________________________________________________________\n",
            "dense_1 (Dense)              (None, 128)               32896     \n",
            "_________________________________________________________________\n",
            "dropout_1 (Dropout)          (None, 128)               0         \n",
            "_________________________________________________________________\n",
            "dense_2 (Dense)              (None, 64)                8256      \n",
            "_________________________________________________________________\n",
            "dropout_2 (Dropout)          (None, 64)                0         \n",
            "_________________________________________________________________\n",
            "dense_3 (Dense)              (None, 32)                2080      \n",
            "_________________________________________________________________\n",
            "dropout_3 (Dropout)          (None, 32)                0         \n",
            "_________________________________________________________________\n",
            "dense_4 (Dense)              (None, 16)                528       \n",
            "_________________________________________________________________\n",
            "dropout_4 (Dropout)          (None, 16)                0         \n",
            "_________________________________________________________________\n",
            "dense_5 (Dense)              (None, 1)                 17        \n",
            "=================================================================\n",
            "Total params: 1,261,825\n",
            "Trainable params: 1,261,825\n",
            "Non-trainable params: 0\n",
            "_________________________________________________________________\n"
          ],
          "name": "stdout"
        }
      ]
    },
    {
      "cell_type": "code",
      "metadata": {
        "id": "VMlnaNStWLNK",
        "outputId": "656e115c-b381-49fd-a1f2-2d8cde3262be",
        "colab": {
          "base_uri": "https://localhost:8080/",
          "height": 1000
        }
      },
      "source": [
        "model.compile(optimizer=tf.optimizers.Adam(0.001), loss=tf.losses.BinaryCrossentropy(), metrics='accuracy')\n",
        "es_cb = keras.callbacks.EarlyStopping(patience=20, restore_best_weights=True)\n",
        "hist = model.fit(xtrain_ds, validation_data=xval_ds, epochs=1000, callbacks=[es_cb])"
      ],
      "execution_count": 12,
      "outputs": [
        {
          "output_type": "stream",
          "text": [
            "Epoch 1/1000\n",
            "1/1 [==============================] - 1s 645ms/step - loss: 0.6934 - accuracy: 0.4804 - val_loss: 0.6931 - val_accuracy: 0.4667\n",
            "Epoch 2/1000\n",
            "1/1 [==============================] - 0s 203ms/step - loss: 0.6930 - accuracy: 0.5307 - val_loss: 0.6921 - val_accuracy: 0.6000\n",
            "Epoch 3/1000\n",
            "1/1 [==============================] - 0s 198ms/step - loss: 0.6916 - accuracy: 0.5531 - val_loss: 0.6911 - val_accuracy: 0.5778\n",
            "Epoch 4/1000\n",
            "1/1 [==============================] - 0s 192ms/step - loss: 0.6894 - accuracy: 0.5810 - val_loss: 0.6892 - val_accuracy: 0.5556\n",
            "Epoch 5/1000\n",
            "1/1 [==============================] - 0s 196ms/step - loss: 0.6881 - accuracy: 0.5922 - val_loss: 0.6872 - val_accuracy: 0.5556\n",
            "Epoch 6/1000\n",
            "1/1 [==============================] - 0s 193ms/step - loss: 0.6840 - accuracy: 0.6034 - val_loss: 0.6849 - val_accuracy: 0.5556\n",
            "Epoch 7/1000\n",
            "1/1 [==============================] - 0s 193ms/step - loss: 0.6814 - accuracy: 0.6034 - val_loss: 0.6830 - val_accuracy: 0.5778\n",
            "Epoch 8/1000\n",
            "1/1 [==============================] - 0s 194ms/step - loss: 0.6806 - accuracy: 0.5754 - val_loss: 0.6779 - val_accuracy: 0.6000\n",
            "Epoch 9/1000\n",
            "1/1 [==============================] - 0s 192ms/step - loss: 0.6684 - accuracy: 0.6034 - val_loss: 0.6697 - val_accuracy: 0.6000\n",
            "Epoch 10/1000\n",
            "1/1 [==============================] - 0s 196ms/step - loss: 0.6682 - accuracy: 0.5866 - val_loss: 0.6641 - val_accuracy: 0.6222\n",
            "Epoch 11/1000\n",
            "1/1 [==============================] - 0s 205ms/step - loss: 0.6733 - accuracy: 0.6089 - val_loss: 0.7260 - val_accuracy: 0.4667\n",
            "Epoch 12/1000\n",
            "1/1 [==============================] - 0s 189ms/step - loss: 0.7133 - accuracy: 0.5084 - val_loss: 0.6662 - val_accuracy: 0.6000\n",
            "Epoch 13/1000\n",
            "1/1 [==============================] - 0s 194ms/step - loss: 0.6772 - accuracy: 0.5698 - val_loss: 0.6756 - val_accuracy: 0.6000\n",
            "Epoch 14/1000\n",
            "1/1 [==============================] - 0s 191ms/step - loss: 0.6754 - accuracy: 0.5866 - val_loss: 0.6765 - val_accuracy: 0.5778\n",
            "Epoch 15/1000\n",
            "1/1 [==============================] - 0s 188ms/step - loss: 0.6706 - accuracy: 0.5978 - val_loss: 0.6753 - val_accuracy: 0.6000\n",
            "Epoch 16/1000\n",
            "1/1 [==============================] - 0s 191ms/step - loss: 0.6704 - accuracy: 0.5866 - val_loss: 0.6738 - val_accuracy: 0.6000\n",
            "Epoch 17/1000\n",
            "1/1 [==============================] - 0s 188ms/step - loss: 0.6684 - accuracy: 0.5978 - val_loss: 0.6727 - val_accuracy: 0.6000\n",
            "Epoch 18/1000\n",
            "1/1 [==============================] - 0s 190ms/step - loss: 0.6756 - accuracy: 0.5978 - val_loss: 0.6716 - val_accuracy: 0.6000\n",
            "Epoch 19/1000\n",
            "1/1 [==============================] - 0s 187ms/step - loss: 0.6674 - accuracy: 0.5866 - val_loss: 0.6702 - val_accuracy: 0.6000\n",
            "Epoch 20/1000\n",
            "1/1 [==============================] - 0s 192ms/step - loss: 0.6633 - accuracy: 0.6034 - val_loss: 0.6682 - val_accuracy: 0.6000\n",
            "Epoch 21/1000\n",
            "1/1 [==============================] - 0s 191ms/step - loss: 0.6654 - accuracy: 0.5866 - val_loss: 0.6655 - val_accuracy: 0.6000\n",
            "Epoch 22/1000\n",
            "1/1 [==============================] - 0s 194ms/step - loss: 0.6676 - accuracy: 0.6145 - val_loss: 0.6620 - val_accuracy: 0.6222\n",
            "Epoch 23/1000\n",
            "1/1 [==============================] - 0s 206ms/step - loss: 0.6633 - accuracy: 0.5978 - val_loss: 0.6581 - val_accuracy: 0.6222\n",
            "Epoch 24/1000\n",
            "1/1 [==============================] - 0s 196ms/step - loss: 0.6591 - accuracy: 0.6034 - val_loss: 0.6538 - val_accuracy: 0.6222\n",
            "Epoch 25/1000\n",
            "1/1 [==============================] - 0s 197ms/step - loss: 0.6524 - accuracy: 0.6145 - val_loss: 0.6489 - val_accuracy: 0.6222\n",
            "Epoch 26/1000\n",
            "1/1 [==============================] - 0s 198ms/step - loss: 0.6476 - accuracy: 0.5922 - val_loss: 0.6441 - val_accuracy: 0.6222\n",
            "Epoch 27/1000\n",
            "1/1 [==============================] - 0s 200ms/step - loss: 0.6482 - accuracy: 0.5922 - val_loss: 0.6406 - val_accuracy: 0.6222\n",
            "Epoch 28/1000\n",
            "1/1 [==============================] - 0s 198ms/step - loss: 0.6408 - accuracy: 0.6034 - val_loss: 0.6383 - val_accuracy: 0.6222\n",
            "Epoch 29/1000\n",
            "1/1 [==============================] - 0s 202ms/step - loss: 0.6451 - accuracy: 0.5866 - val_loss: 0.6367 - val_accuracy: 0.6222\n",
            "Epoch 30/1000\n",
            "1/1 [==============================] - 0s 204ms/step - loss: 0.6533 - accuracy: 0.6145 - val_loss: 0.6352 - val_accuracy: 0.6222\n",
            "Epoch 31/1000\n",
            "1/1 [==============================] - 0s 202ms/step - loss: 0.6442 - accuracy: 0.5978 - val_loss: 0.6336 - val_accuracy: 0.6222\n",
            "Epoch 32/1000\n",
            "1/1 [==============================] - 0s 198ms/step - loss: 0.6356 - accuracy: 0.6034 - val_loss: 0.6320 - val_accuracy: 0.6222\n",
            "Epoch 33/1000\n",
            "1/1 [==============================] - 0s 200ms/step - loss: 0.6484 - accuracy: 0.6089 - val_loss: 0.6225 - val_accuracy: 0.6222\n",
            "Epoch 34/1000\n",
            "1/1 [==============================] - 0s 195ms/step - loss: 0.7131 - accuracy: 0.5587 - val_loss: 0.6310 - val_accuracy: 0.6000\n",
            "Epoch 35/1000\n",
            "1/1 [==============================] - 0s 191ms/step - loss: 0.6570 - accuracy: 0.6089 - val_loss: 0.6311 - val_accuracy: 0.6000\n",
            "Epoch 36/1000\n",
            "1/1 [==============================] - 0s 212ms/step - loss: 0.6412 - accuracy: 0.6145 - val_loss: 0.6316 - val_accuracy: 0.6000\n",
            "Epoch 37/1000\n",
            "1/1 [==============================] - 0s 195ms/step - loss: 0.6425 - accuracy: 0.6145 - val_loss: 0.6327 - val_accuracy: 0.6000\n",
            "Epoch 38/1000\n",
            "1/1 [==============================] - 0s 198ms/step - loss: 0.6443 - accuracy: 0.6034 - val_loss: 0.6335 - val_accuracy: 0.6000\n",
            "Epoch 39/1000\n",
            "1/1 [==============================] - 0s 190ms/step - loss: 0.6387 - accuracy: 0.6089 - val_loss: 0.6341 - val_accuracy: 0.6000\n",
            "Epoch 40/1000\n",
            "1/1 [==============================] - 0s 191ms/step - loss: 0.6350 - accuracy: 0.6201 - val_loss: 0.6345 - val_accuracy: 0.6000\n",
            "Epoch 41/1000\n",
            "1/1 [==============================] - 0s 196ms/step - loss: 0.6352 - accuracy: 0.6257 - val_loss: 0.6348 - val_accuracy: 0.6000\n",
            "Epoch 42/1000\n",
            "1/1 [==============================] - 0s 188ms/step - loss: 0.6397 - accuracy: 0.6313 - val_loss: 0.6350 - val_accuracy: 0.6000\n",
            "Epoch 43/1000\n",
            "1/1 [==============================] - 0s 197ms/step - loss: 0.6345 - accuracy: 0.6257 - val_loss: 0.6355 - val_accuracy: 0.6000\n",
            "Epoch 44/1000\n",
            "1/1 [==============================] - 0s 192ms/step - loss: 0.6376 - accuracy: 0.6145 - val_loss: 0.6361 - val_accuracy: 0.6000\n",
            "Epoch 45/1000\n",
            "1/1 [==============================] - 0s 198ms/step - loss: 0.6421 - accuracy: 0.6145 - val_loss: 0.6369 - val_accuracy: 0.6000\n",
            "Epoch 46/1000\n",
            "1/1 [==============================] - 0s 190ms/step - loss: 0.6350 - accuracy: 0.6145 - val_loss: 0.6380 - val_accuracy: 0.6000\n",
            "Epoch 47/1000\n",
            "1/1 [==============================] - 0s 195ms/step - loss: 0.6357 - accuracy: 0.6257 - val_loss: 0.6394 - val_accuracy: 0.6000\n",
            "Epoch 48/1000\n",
            "1/1 [==============================] - 0s 188ms/step - loss: 0.6318 - accuracy: 0.6257 - val_loss: 0.6410 - val_accuracy: 0.6000\n",
            "Epoch 49/1000\n",
            "1/1 [==============================] - 0s 197ms/step - loss: 0.6324 - accuracy: 0.6201 - val_loss: 0.6429 - val_accuracy: 0.6000\n",
            "Epoch 50/1000\n",
            "1/1 [==============================] - 0s 197ms/step - loss: 0.6294 - accuracy: 0.6201 - val_loss: 0.6452 - val_accuracy: 0.6000\n",
            "Epoch 51/1000\n",
            "1/1 [==============================] - 0s 195ms/step - loss: 0.6439 - accuracy: 0.6201 - val_loss: 0.6477 - val_accuracy: 0.6000\n",
            "Epoch 52/1000\n",
            "1/1 [==============================] - 0s 188ms/step - loss: 0.6194 - accuracy: 0.6145 - val_loss: 0.6506 - val_accuracy: 0.6000\n",
            "Epoch 53/1000\n",
            "1/1 [==============================] - 0s 215ms/step - loss: 0.6285 - accuracy: 0.6257 - val_loss: 0.6538 - val_accuracy: 0.6000\n"
          ],
          "name": "stdout"
        }
      ]
    },
    {
      "cell_type": "code",
      "metadata": {
        "id": "AjiRiXQHwNOS",
        "outputId": "a5271631-9930-443b-94cd-28b5eb29c1c9",
        "colab": {
          "base_uri": "https://localhost:8080/",
          "height": 369
        }
      },
      "source": [
        "fig, axes = plt.subplots(1, 2, figsize=(10, 5))\n",
        "for i in range(1):\n",
        "  ax1 = axes[0]\n",
        "  ax2 = axes[1]\n",
        "\n",
        "  ax1.plot(hist.history['loss'], label='training')\n",
        "  ax1.plot(hist.history['val_loss'], label='validation')\n",
        "  ax1.set_title('lstm autoencoder loss')\n",
        "  ax1.set_xlabel('epoch')\n",
        "  ax1.set_ylabel('loss')\n",
        "  ax1.legend(['train', 'validation'], loc='upper left')\n",
        "  \n",
        "  ax2.plot(hist.history['accuracy'], label='training')\n",
        "  ax2.plot(hist.history['val_accuracy'], label='validation')\n",
        "  ax2.set_title('lstm autoencoder accuracy')\n",
        "  ax2.set_xlabel('epoch')\n",
        "  ax2.set_ylabel('accuracy')\n",
        "  ax2.legend(['train', 'validation'], loc='upper left')\n",
        "fig.tight_layout()"
      ],
      "execution_count": 13,
      "outputs": [
        {
          "output_type": "display_data",
          "data": {
            "image/png": "[encoded data removed]",
            "text/plain": [
              "<Figure size 720x360 with 2 Axes>"
            ]
          },
          "metadata": {
            "tags": [],
            "needs_background": "light"
          }
        }
      ]
    },
    {
      "cell_type": "code",
      "metadata": {
        "id": "6sgxZ6qrU9-9"
      },
      "source": [
        "def eval_model(model, ds, ds_name=\"Training\"):\n",
        "  loss, acc = model.evaluate(ds, verbose=0)\n",
        "  print(\"{} Dataset: loss = {} and acccuracy = {}%\".format(ds_name, np.round(loss, 3), np.round(acc*100, 2)))"
      ],
      "execution_count": 14,
      "outputs": []
    },
    {
      "cell_type": "code",
      "metadata": {
        "id": "YwcedsFqDUnm",
        "outputId": "1cc27784-1091-48b4-9f37-b622e1469354",
        "colab": {
          "base_uri": "https://localhost:8080/",
          "height": 71
        }
      },
      "source": [
        "eval_model(model, xtrain_ds, \"Training\")\n",
        "eval_model(model, xval_ds, \"Validation\")\n",
        "eval_model(model, xtest_ds, \"Test\")"
      ],
      "execution_count": 15,
      "outputs": [
        {
          "output_type": "stream",
          "text": [
            "Training Dataset: loss = 0.693 and acccuracy = 59.22%\n",
            "Validation Dataset: loss = 0.622 and acccuracy = 62.22%\n",
            "Test Dataset: loss = 0.827 and acccuracy = 63.16%\n"
          ],
          "name": "stdout"
        }
      ]
    }
  ]
}
