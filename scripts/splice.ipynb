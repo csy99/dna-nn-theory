{
 "cells": [
  {
   "cell_type": "code",
   "execution_count": 1,
   "metadata": {},
   "outputs": [],
   "source": [
    "import gc\n",
    "from itertools import product\n",
    "import re\n",
    "\n",
    "import numpy as np\n",
    "import pandas as pd\n",
    "from sklearn.model_selection import train_test_split\n",
    "import tensorflow as tf\n",
    "from tensorflow import keras"
   ]
  },
  {
   "cell_type": "code",
   "execution_count": 2,
   "metadata": {},
   "outputs": [],
   "source": [
    "d = {'EI': 0, 'IE': 1, 'N': 2}\n",
    "\n",
    "def load_splice(file):\n",
    "    with open(file) as f:\n",
    "        l = []\n",
    "        for record in f:\n",
    "            record = re.split(',\\\\s+', record.strip())\n",
    "            record[2] = record[2].replace('N','A').replace('D','G').replace('S','C').replace('R','G')\n",
    "            l.append(record)\n",
    "\n",
    "    x = [list(line[2]) for line in l]\n",
    "    y = list(map(lambda y: d[y], (line[0] for line in l)))\n",
    "    return x, y\n",
    "\n",
    "x, y = load_splice('../data/splice/splice.data')"
   ]
  },
  {
   "cell_type": "code",
   "execution_count": 3,
   "metadata": {},
   "outputs": [
    {
     "name": "stdout",
     "output_type": "stream",
     "text": [
      "# features: 60 bp\n"
     ]
    },
    {
     "data": {
      "image/png": "[encoded data removed]",
      "text/plain": [
       "<Figure size 432x288 with 1 Axes>"
      ]
     },
     "metadata": {
      "needs_background": "light"
     },
     "output_type": "display_data"
    }
   ],
   "source": [
    "ax = pd.Series(y).value_counts().sort_index().plot(kind='bar')\n",
    "ax.set_title('class distribution')\n",
    "ax.set_xlabel('class')\n",
    "ax.set_ylabel('count')\n",
    "ax.set_xticklabels(d.keys())\n",
    "ax.tick_params(rotation=0)\n",
    "\n",
    "print('# features:', len(x[0]), 'bp')"
   ]
  },
  {
   "cell_type": "code",
   "execution_count": 4,
   "metadata": {},
   "outputs": [
    {
     "name": "stdout",
     "output_type": "stream",
     "text": [
      "vocab_size: 64\n"
     ]
    }
   ],
   "source": [
    "word_size = 3\n",
    "\n",
    "words = [''.join(p) for p in product('ACGT', repeat=word_size)]\n",
    "word_to_idx = {word: i for i, word in enumerate(words)}\n",
    "vocab_size = len(word_to_idx)\n",
    "\n",
    "print('vocab_size:', vocab_size)"
   ]
  },
  {
   "cell_type": "code",
   "execution_count": 5,
   "metadata": {},
   "outputs": [],
   "source": [
    "# transform word array into index array\n",
    "word_to_idx_func = np.vectorize(lambda word: word_to_idx[word], otypes=[np.int8])\n",
    "\n",
    "def x_to_encoding(x, word_size=3, region_size=2, expand=True):\n",
    "    '''transform index array into one-hot encoded array'''\n",
    "    # word to index\n",
    "    words_ = tf.strings.ngrams(x, ngram_width=word_size, separator='').numpy()\n",
    "    idx = word_to_idx_func(words_.astype('U'))\n",
    "    # one-hot encode\n",
    "    encoding = np.zeros((len(idx), len(word_to_idx)))\n",
    "    encoding[range(len(idx)), idx] = 1\n",
    "    # concat\n",
    "    result = np.hstack([np.roll(encoding, -shift, axis=0)\n",
    "                        for shift in range(region_size + 1)])\n",
    "    if expand:\n",
    "        return np.expand_dims(result, axis=-1)\n",
    "    else:\n",
    "        return result"
   ]
  },
  {
   "cell_type": "markdown",
   "metadata": {},
   "source": [
    "# Conv2d"
   ]
  },
  {
   "cell_type": "code",
   "execution_count": 6,
   "metadata": {},
   "outputs": [],
   "source": [
    "region_size = 0\n",
    "\n",
    "x_ = np.apply_along_axis(x_to_encoding, 1, x, region_size=region_size)\n",
    "y_ = pd.get_dummies(y).to_numpy(dtype='float32')"
   ]
  },
  {
   "cell_type": "code",
   "execution_count": 7,
   "metadata": {},
   "outputs": [
    {
     "data": {
      "text/plain": [
       "(2392, 798)"
      ]
     },
     "execution_count": 7,
     "metadata": {},
     "output_type": "execute_result"
    }
   ],
   "source": [
    "x_train, x_test, y_train, y_test = train_test_split(x_, y_, stratify=y)\n",
    "len(x_train), len(x_test)"
   ]
  },
  {
   "cell_type": "code",
   "execution_count": 8,
   "metadata": {},
   "outputs": [
    {
     "name": "stdout",
     "output_type": "stream",
     "text": [
      "Model: \"sequential\"\n",
      "_________________________________________________________________\n",
      "Layer (type)                 Output Shape              Param #   \n",
      "=================================================================\n",
      "conv2d (Conv2D)              (None, 56, 62, 54)        540       \n",
      "_________________________________________________________________\n",
      "max_pooling2d (MaxPooling2D) (None, 28, 31, 54)        0         \n",
      "_________________________________________________________________\n",
      "dropout (Dropout)            (None, 28, 31, 54)        0         \n",
      "_________________________________________________________________\n",
      "flatten (Flatten)            (None, 46872)             0         \n",
      "_________________________________________________________________\n",
      "dense (Dense)                (None, 128)               5999744   \n",
      "_________________________________________________________________\n",
      "dropout_1 (Dropout)          (None, 128)               0         \n",
      "_________________________________________________________________\n",
      "dense_1 (Dense)              (None, 3)                 387       \n",
      "=================================================================\n",
      "Total params: 6,000,671\n",
      "Trainable params: 6,000,671\n",
      "Non-trainable params: 0\n",
      "_________________________________________________________________\n"
     ]
    }
   ],
   "source": [
    "keras.backend.clear_session()\n",
    "\n",
    "model = keras.Sequential([\n",
    "    keras.layers.Conv2D(54, 3, activation='relu', input_shape=x_train.shape[1:]),\n",
    "    keras.layers.MaxPooling2D(),\n",
    "    keras.layers.Dropout(0.25),\n",
    "    keras.layers.Flatten(),\n",
    "    keras.layers.Dense(128, activation='relu'),\n",
    "    keras.layers.Dropout(0.5),\n",
    "    keras.layers.Dense(3, activation='softmax'),\n",
    "])\n",
    "model.compile(optimizer='adam', loss='categorical_crossentropy', metrics=['accuracy'])\n",
    "model.summary()"
   ]
  },
  {
   "cell_type": "code",
   "execution_count": 9,
   "metadata": {},
   "outputs": [
    {
     "name": "stdout",
     "output_type": "stream",
     "text": [
      "Epoch 1/15\n",
      "64/64 - 5s - loss: 0.3412 - accuracy: 0.8578 - val_loss: 0.2007 - val_accuracy: 0.9220\n",
      "Epoch 2/15\n",
      "64/64 - 7s - loss: 0.1076 - accuracy: 0.9680 - val_loss: 0.1441 - val_accuracy: 0.9582\n",
      "Epoch 3/15\n",
      "64/64 - 5s - loss: 0.0530 - accuracy: 0.9843 - val_loss: 0.1459 - val_accuracy: 0.9499\n",
      "Epoch 4/15\n",
      "64/64 - 4s - loss: 0.0310 - accuracy: 0.9897 - val_loss: 0.2264 - val_accuracy: 0.9331\n",
      "Epoch 5/15\n",
      "64/64 - 5s - loss: 0.0183 - accuracy: 0.9941 - val_loss: 0.1911 - val_accuracy: 0.9359\n",
      "Epoch 6/15\n",
      "64/64 - 4s - loss: 0.0146 - accuracy: 0.9956 - val_loss: 0.2794 - val_accuracy: 0.9304\n",
      "Epoch 7/15\n",
      "64/64 - 4s - loss: 0.0129 - accuracy: 0.9961 - val_loss: 0.2708 - val_accuracy: 0.9331\n",
      "Epoch 8/15\n",
      "64/64 - 4s - loss: 0.0121 - accuracy: 0.9970 - val_loss: 0.2606 - val_accuracy: 0.9387\n",
      "Epoch 9/15\n",
      "64/64 - 4s - loss: 0.0081 - accuracy: 0.9990 - val_loss: 0.2415 - val_accuracy: 0.9443\n",
      "Epoch 10/15\n",
      "64/64 - 4s - loss: 0.0140 - accuracy: 0.9956 - val_loss: 0.2393 - val_accuracy: 0.9443\n",
      "Epoch 11/15\n",
      "64/64 - 4s - loss: 0.0072 - accuracy: 0.9975 - val_loss: 0.2965 - val_accuracy: 0.9276\n",
      "Epoch 12/15\n",
      "64/64 - 4s - loss: 0.0059 - accuracy: 0.9980 - val_loss: 0.3739 - val_accuracy: 0.9192\n",
      "Epoch 13/15\n",
      "64/64 - 4s - loss: 0.0107 - accuracy: 0.9961 - val_loss: 0.3140 - val_accuracy: 0.9276\n",
      "Epoch 14/15\n",
      "64/64 - 4s - loss: 0.0117 - accuracy: 0.9956 - val_loss: 0.3217 - val_accuracy: 0.9331\n",
      "Epoch 15/15\n",
      "64/64 - 4s - loss: 0.0118 - accuracy: 0.9946 - val_loss: 0.3094 - val_accuracy: 0.9415\n"
     ]
    }
   ],
   "source": [
    "history = model.fit(x_train, y_train, epochs=15, validation_split=0.15, verbose=2)"
   ]
  },
  {
   "cell_type": "code",
   "execution_count": 10,
   "metadata": {},
   "outputs": [
    {
     "data": {
      "image/png": "[encoded data removed]",
      "text/plain": [
       "<Figure size 432x288 with 1 Axes>"
      ]
     },
     "metadata": {
      "needs_background": "light"
     },
     "output_type": "display_data"
    }
   ],
   "source": [
    "ax = pd.DataFrame(history.history).plot()\n",
    "ax.legend(bbox_to_anchor=(1, 1), loc='upper left')\n",
    "ax.grid()"
   ]
  },
  {
   "cell_type": "code",
   "execution_count": 11,
   "metadata": {},
   "outputs": [
    {
     "name": "stdout",
     "output_type": "stream",
     "text": [
      "25/25 - 0s - loss: 0.2910 - accuracy: 0.9486\n"
     ]
    },
    {
     "data": {
      "text/plain": [
       "[0.2910248041152954, 0.9486215710639954]"
      ]
     },
     "execution_count": 11,
     "metadata": {},
     "output_type": "execute_result"
    }
   ],
   "source": [
    "model.evaluate(x_test, y_test, verbose=2)"
   ]
  },
  {
   "cell_type": "code",
   "execution_count": 12,
   "metadata": {},
   "outputs": [
    {
     "data": {
      "text/plain": [
       "5423"
      ]
     },
     "execution_count": 12,
     "metadata": {},
     "output_type": "execute_result"
    }
   ],
   "source": [
    "gc.collect()"
   ]
  },
  {
   "cell_type": "markdown",
   "metadata": {},
   "source": [
    "# Conv1d"
   ]
  },
  {
   "cell_type": "code",
   "execution_count": 13,
   "metadata": {},
   "outputs": [],
   "source": [
    "region_size = 0\n",
    "\n",
    "x_ = np.apply_along_axis(x_to_encoding, 1, x, region_size=region_size, expand=False)\n",
    "y_ = pd.get_dummies(y).to_numpy(dtype='float32')"
   ]
  },
  {
   "cell_type": "code",
   "execution_count": 14,
   "metadata": {},
   "outputs": [
    {
     "data": {
      "text/plain": [
       "(2392, 798)"
      ]
     },
     "execution_count": 14,
     "metadata": {},
     "output_type": "execute_result"
    }
   ],
   "source": [
    "x_train, x_test, y_train, y_test = train_test_split(x_, y_, stratify=y)\n",
    "len(x_train), len(x_test)"
   ]
  },
  {
   "cell_type": "code",
   "execution_count": 15,
   "metadata": {},
   "outputs": [
    {
     "name": "stdout",
     "output_type": "stream",
     "text": [
      "Model: \"sequential\"\n",
      "_________________________________________________________________\n",
      "Layer (type)                 Output Shape              Param #   \n",
      "=================================================================\n",
      "conv1d (Conv1D)              (None, 56, 54)            10422     \n",
      "_________________________________________________________________\n",
      "max_pooling1d (MaxPooling1D) (None, 28, 54)            0         \n",
      "_________________________________________________________________\n",
      "dropout (Dropout)            (None, 28, 54)            0         \n",
      "_________________________________________________________________\n",
      "flatten (Flatten)            (None, 1512)              0         \n",
      "_________________________________________________________________\n",
      "dense (Dense)                (None, 128)               193664    \n",
      "_________________________________________________________________\n",
      "dropout_1 (Dropout)          (None, 128)               0         \n",
      "_________________________________________________________________\n",
      "dense_1 (Dense)              (None, 3)                 387       \n",
      "=================================================================\n",
      "Total params: 204,473\n",
      "Trainable params: 204,473\n",
      "Non-trainable params: 0\n",
      "_________________________________________________________________\n"
     ]
    }
   ],
   "source": [
    "keras.backend.clear_session()\n",
    "\n",
    "model = keras.Sequential([\n",
    "    keras.layers.Conv1D(54, 3, activation='relu', input_shape=x_train.shape[1:]),\n",
    "    keras.layers.MaxPooling1D(),\n",
    "    keras.layers.Dropout(0.25),\n",
    "    keras.layers.Flatten(),\n",
    "    keras.layers.Dense(128, activation='relu'),\n",
    "    keras.layers.Dropout(0.5),\n",
    "    keras.layers.Dense(3, activation='softmax'),\n",
    "])\n",
    "model.compile(optimizer='adam', loss='categorical_crossentropy', metrics=['accuracy'])\n",
    "model.summary()"
   ]
  },
  {
   "cell_type": "code",
   "execution_count": 16,
   "metadata": {},
   "outputs": [
    {
     "name": "stdout",
     "output_type": "stream",
     "text": [
      "Epoch 1/15\n",
      "64/64 - 1s - loss: 0.8382 - accuracy: 0.6296 - val_loss: 0.4323 - val_accuracy: 0.9192\n",
      "Epoch 2/15\n",
      "64/64 - 0s - loss: 0.2827 - accuracy: 0.9198 - val_loss: 0.1318 - val_accuracy: 0.9638\n",
      "Epoch 3/15\n",
      "64/64 - 0s - loss: 0.1437 - accuracy: 0.9523 - val_loss: 0.0858 - val_accuracy: 0.9721\n",
      "Epoch 4/15\n",
      "64/64 - 0s - loss: 0.0985 - accuracy: 0.9734 - val_loss: 0.0853 - val_accuracy: 0.9694\n",
      "Epoch 5/15\n",
      "64/64 - 0s - loss: 0.0878 - accuracy: 0.9710 - val_loss: 0.1016 - val_accuracy: 0.9694\n",
      "Epoch 6/15\n",
      "64/64 - 1s - loss: 0.0658 - accuracy: 0.9818 - val_loss: 0.0916 - val_accuracy: 0.9694\n",
      "Epoch 7/15\n",
      "64/64 - 1s - loss: 0.0416 - accuracy: 0.9872 - val_loss: 0.0776 - val_accuracy: 0.9666\n",
      "Epoch 8/15\n",
      "64/64 - 1s - loss: 0.0334 - accuracy: 0.9916 - val_loss: 0.0777 - val_accuracy: 0.9749\n",
      "Epoch 9/15\n",
      "64/64 - 1s - loss: 0.0244 - accuracy: 0.9961 - val_loss: 0.0750 - val_accuracy: 0.9694\n",
      "Epoch 10/15\n",
      "64/64 - 1s - loss: 0.0165 - accuracy: 0.9961 - val_loss: 0.0719 - val_accuracy: 0.9721\n",
      "Epoch 11/15\n",
      "64/64 - 1s - loss: 0.0250 - accuracy: 0.9941 - val_loss: 0.0904 - val_accuracy: 0.9666\n",
      "Epoch 12/15\n",
      "64/64 - 1s - loss: 0.0183 - accuracy: 0.9970 - val_loss: 0.1052 - val_accuracy: 0.9666\n",
      "Epoch 13/15\n",
      "64/64 - 1s - loss: 0.0159 - accuracy: 0.9956 - val_loss: 0.0907 - val_accuracy: 0.9694\n",
      "Epoch 14/15\n",
      "64/64 - 1s - loss: 0.0086 - accuracy: 0.9990 - val_loss: 0.1272 - val_accuracy: 0.9721\n",
      "Epoch 15/15\n",
      "64/64 - 1s - loss: 0.0099 - accuracy: 0.9975 - val_loss: 0.0935 - val_accuracy: 0.9694\n"
     ]
    }
   ],
   "source": [
    "history = model.fit(x_train, y_train, epochs=15, validation_split=0.15, verbose=2)"
   ]
  },
  {
   "cell_type": "code",
   "execution_count": 17,
   "metadata": {},
   "outputs": [
    {
     "data": {
      "image/png": "[encoded data removed]",
      "text/plain": [
       "<Figure size 432x288 with 1 Axes>"
      ]
     },
     "metadata": {
      "needs_background": "light"
     },
     "output_type": "display_data"
    }
   ],
   "source": [
    "ax = pd.DataFrame(history.history).plot()\n",
    "ax.legend(bbox_to_anchor=(1, 1), loc='upper left')\n",
    "ax.grid()"
   ]
  },
  {
   "cell_type": "code",
   "execution_count": 18,
   "metadata": {},
   "outputs": [
    {
     "name": "stdout",
     "output_type": "stream",
     "text": [
      "25/25 - 0s - loss: 0.1471 - accuracy: 0.9712\n"
     ]
    },
    {
     "data": {
      "text/plain": [
       "[0.14707927405834198, 0.9711779356002808]"
      ]
     },
     "execution_count": 18,
     "metadata": {},
     "output_type": "execute_result"
    }
   ],
   "source": [
    "model.evaluate(x_test, y_test, verbose=2)"
   ]
  },
  {
   "cell_type": "code",
   "execution_count": 19,
   "metadata": {},
   "outputs": [
    {
     "data": {
      "text/plain": [
       "8508"
      ]
     },
     "execution_count": 19,
     "metadata": {},
     "output_type": "execute_result"
    }
   ],
   "source": [
    "gc.collect()"
   ]
  },
  {
   "cell_type": "code",
   "execution_count": null,
   "metadata": {},
   "outputs": [],
   "source": []
  }
 ],
 "metadata": {
  "kernelspec": {
   "display_name": "Python 3",
   "language": "python",
   "name": "python3"
  },
  "language_info": {
   "codemirror_mode": {
    "name": "ipython",
    "version": 3
   },
   "file_extension": ".py",
   "mimetype": "text/x-python",
   "name": "python",
   "nbconvert_exporter": "python",
   "pygments_lexer": "ipython3",
   "version": "3.7.7"
  }
 },
 "nbformat": 4,
 "nbformat_minor": 4
}
