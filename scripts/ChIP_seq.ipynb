{
  "nbformat": 4,
  "nbformat_minor": 0,
  "metadata": {
    "colab": {
      "name": "ChIP-seq.ipynb",
      "provenance": [],
      "collapsed_sections": [
        "EQBoPabQt-Tb",
        "W7nGlOp1up6Z",
        "b4llXOmI-nQa",
        "5psd7xa9BAuK",
        "H6f-u0DCBGhI",
        "at9QGbOt0Br_",
        "uH8Z9R4NngWb"
      ],
      "authorship_tag": "ABX9TyOLbz6rCcMmuSBkyUQnIE9l",
      "include_colab_link": true
    },
    "kernelspec": {
      "name": "python3",
      "display_name": "Python 3"
    },
    "widgets": {
      "application/vnd.jupyter.widget-state+json": {
        "66cda8c7e3e744f1b0b77bdccb3fdeef": {
          "model_module": "@jupyter-widgets/controls",
          "model_name": "HBoxModel",
          "state": {
            "_view_name": "HBoxView",
            "_dom_classes": [],
            "_model_name": "HBoxModel",
            "_view_module": "@jupyter-widgets/controls",
            "_model_module_version": "1.5.0",
            "_view_count": null,
            "_view_module_version": "1.5.0",
            "box_style": "",
            "layout": "IPY_MODEL_18ad3b14b8c14aba9eccf9834663ba7f",
            "_model_module": "@jupyter-widgets/controls",
            "children": [
              "IPY_MODEL_43df4fd17f3c43b9a4ec18a068926c02",
              "IPY_MODEL_f2f8d1172e3644979ee2ca72e9e5abcc"
            ]
          }
        },
        "18ad3b14b8c14aba9eccf9834663ba7f": {
          "model_module": "@jupyter-widgets/base",
          "model_name": "LayoutModel",
          "state": {
            "_view_name": "LayoutView",
            "grid_template_rows": null,
            "right": null,
            "justify_content": null,
            "_view_module": "@jupyter-widgets/base",
            "overflow": null,
            "_model_module_version": "1.2.0",
            "_view_count": null,
            "flex_flow": null,
            "width": null,
            "min_width": null,
            "border": null,
            "align_items": null,
            "bottom": null,
            "_model_module": "@jupyter-widgets/base",
            "top": null,
            "grid_column": null,
            "overflow_y": null,
            "overflow_x": null,
            "grid_auto_flow": null,
            "grid_area": null,
            "grid_template_columns": null,
            "flex": null,
            "_model_name": "LayoutModel",
            "justify_items": null,
            "grid_row": null,
            "max_height": null,
            "align_content": null,
            "visibility": null,
            "align_self": null,
            "height": null,
            "min_height": null,
            "padding": null,
            "grid_auto_rows": null,
            "grid_gap": null,
            "max_width": null,
            "order": null,
            "_view_module_version": "1.2.0",
            "grid_template_areas": null,
            "object_position": null,
            "object_fit": null,
            "grid_auto_columns": null,
            "margin": null,
            "display": null,
            "left": null
          }
        },
        "43df4fd17f3c43b9a4ec18a068926c02": {
          "model_module": "@jupyter-widgets/controls",
          "model_name": "FloatProgressModel",
          "state": {
            "_view_name": "ProgressView",
            "style": "IPY_MODEL_a663aa7b62dd453eb3aed4c53440c1ef",
            "_dom_classes": [],
            "description": "100%",
            "_model_name": "FloatProgressModel",
            "bar_style": "success",
            "max": 690,
            "_view_module": "@jupyter-widgets/controls",
            "_model_module_version": "1.5.0",
            "value": 690,
            "_view_count": null,
            "_view_module_version": "1.5.0",
            "orientation": "horizontal",
            "min": 0,
            "description_tooltip": null,
            "_model_module": "@jupyter-widgets/controls",
            "layout": "IPY_MODEL_c605ca561b2d4183a9ed251fdfbe2387"
          }
        },
        "f2f8d1172e3644979ee2ca72e9e5abcc": {
          "model_module": "@jupyter-widgets/controls",
          "model_name": "HTMLModel",
          "state": {
            "_view_name": "HTMLView",
            "style": "IPY_MODEL_1f0bb9f4efba427dbde90a7fb31fa702",
            "_dom_classes": [],
            "description": "",
            "_model_name": "HTMLModel",
            "placeholder": "​",
            "_view_module": "@jupyter-widgets/controls",
            "_model_module_version": "1.5.0",
            "value": " 690/690 [06:19&lt;00:00,  1.82it/s]",
            "_view_count": null,
            "_view_module_version": "1.5.0",
            "description_tooltip": null,
            "_model_module": "@jupyter-widgets/controls",
            "layout": "IPY_MODEL_b0d87b7f30444af3aaf947f37a6c0134"
          }
        },
        "a663aa7b62dd453eb3aed4c53440c1ef": {
          "model_module": "@jupyter-widgets/controls",
          "model_name": "ProgressStyleModel",
          "state": {
            "_view_name": "StyleView",
            "_model_name": "ProgressStyleModel",
            "description_width": "initial",
            "_view_module": "@jupyter-widgets/base",
            "_model_module_version": "1.5.0",
            "_view_count": null,
            "_view_module_version": "1.2.0",
            "bar_color": null,
            "_model_module": "@jupyter-widgets/controls"
          }
        },
        "c605ca561b2d4183a9ed251fdfbe2387": {
          "model_module": "@jupyter-widgets/base",
          "model_name": "LayoutModel",
          "state": {
            "_view_name": "LayoutView",
            "grid_template_rows": null,
            "right": null,
            "justify_content": null,
            "_view_module": "@jupyter-widgets/base",
            "overflow": null,
            "_model_module_version": "1.2.0",
            "_view_count": null,
            "flex_flow": null,
            "width": null,
            "min_width": null,
            "border": null,
            "align_items": null,
            "bottom": null,
            "_model_module": "@jupyter-widgets/base",
            "top": null,
            "grid_column": null,
            "overflow_y": null,
            "overflow_x": null,
            "grid_auto_flow": null,
            "grid_area": null,
            "grid_template_columns": null,
            "flex": null,
            "_model_name": "LayoutModel",
            "justify_items": null,
            "grid_row": null,
            "max_height": null,
            "align_content": null,
            "visibility": null,
            "align_self": null,
            "height": null,
            "min_height": null,
            "padding": null,
            "grid_auto_rows": null,
            "grid_gap": null,
            "max_width": null,
            "order": null,
            "_view_module_version": "1.2.0",
            "grid_template_areas": null,
            "object_position": null,
            "object_fit": null,
            "grid_auto_columns": null,
            "margin": null,
            "display": null,
            "left": null
          }
        },
        "1f0bb9f4efba427dbde90a7fb31fa702": {
          "model_module": "@jupyter-widgets/controls",
          "model_name": "DescriptionStyleModel",
          "state": {
            "_view_name": "StyleView",
            "_model_name": "DescriptionStyleModel",
            "description_width": "",
            "_view_module": "@jupyter-widgets/base",
            "_model_module_version": "1.5.0",
            "_view_count": null,
            "_view_module_version": "1.2.0",
            "_model_module": "@jupyter-widgets/controls"
          }
        },
        "b0d87b7f30444af3aaf947f37a6c0134": {
          "model_module": "@jupyter-widgets/base",
          "model_name": "LayoutModel",
          "state": {
            "_view_name": "LayoutView",
            "grid_template_rows": null,
            "right": null,
            "justify_content": null,
            "_view_module": "@jupyter-widgets/base",
            "overflow": null,
            "_model_module_version": "1.2.0",
            "_view_count": null,
            "flex_flow": null,
            "width": null,
            "min_width": null,
            "border": null,
            "align_items": null,
            "bottom": null,
            "_model_module": "@jupyter-widgets/base",
            "top": null,
            "grid_column": null,
            "overflow_y": null,
            "overflow_x": null,
            "grid_auto_flow": null,
            "grid_area": null,
            "grid_template_columns": null,
            "flex": null,
            "_model_name": "LayoutModel",
            "justify_items": null,
            "grid_row": null,
            "max_height": null,
            "align_content": null,
            "visibility": null,
            "align_self": null,
            "height": null,
            "min_height": null,
            "padding": null,
            "grid_auto_rows": null,
            "grid_gap": null,
            "max_width": null,
            "order": null,
            "_view_module_version": "1.2.0",
            "grid_template_areas": null,
            "object_position": null,
            "object_fit": null,
            "grid_auto_columns": null,
            "margin": null,
            "display": null,
            "left": null
          }
        },
        "0dff2ecad868408bb0b04fab06c4c750": {
          "model_module": "@jupyter-widgets/controls",
          "model_name": "HBoxModel",
          "state": {
            "_view_name": "HBoxView",
            "_dom_classes": [],
            "_model_name": "HBoxModel",
            "_view_module": "@jupyter-widgets/controls",
            "_model_module_version": "1.5.0",
            "_view_count": null,
            "_view_module_version": "1.5.0",
            "box_style": "",
            "layout": "IPY_MODEL_1dd79da1d86d478dbcec291505645eba",
            "_model_module": "@jupyter-widgets/controls",
            "children": [
              "IPY_MODEL_9d3e32250c59440c991c55cdf43f5779",
              "IPY_MODEL_226f585b1b114181b14aea60f02ceb63"
            ]
          }
        },
        "1dd79da1d86d478dbcec291505645eba": {
          "model_module": "@jupyter-widgets/base",
          "model_name": "LayoutModel",
          "state": {
            "_view_name": "LayoutView",
            "grid_template_rows": null,
            "right": null,
            "justify_content": null,
            "_view_module": "@jupyter-widgets/base",
            "overflow": null,
            "_model_module_version": "1.2.0",
            "_view_count": null,
            "flex_flow": null,
            "width": null,
            "min_width": null,
            "border": null,
            "align_items": null,
            "bottom": null,
            "_model_module": "@jupyter-widgets/base",
            "top": null,
            "grid_column": null,
            "overflow_y": null,
            "overflow_x": null,
            "grid_auto_flow": null,
            "grid_area": null,
            "grid_template_columns": null,
            "flex": null,
            "_model_name": "LayoutModel",
            "justify_items": null,
            "grid_row": null,
            "max_height": null,
            "align_content": null,
            "visibility": null,
            "align_self": null,
            "height": null,
            "min_height": null,
            "padding": null,
            "grid_auto_rows": null,
            "grid_gap": null,
            "max_width": null,
            "order": null,
            "_view_module_version": "1.2.0",
            "grid_template_areas": null,
            "object_position": null,
            "object_fit": null,
            "grid_auto_columns": null,
            "margin": null,
            "display": null,
            "left": null
          }
        },
        "9d3e32250c59440c991c55cdf43f5779": {
          "model_module": "@jupyter-widgets/controls",
          "model_name": "FloatProgressModel",
          "state": {
            "_view_name": "ProgressView",
            "style": "IPY_MODEL_d8d6568af0034f0d90ef53f10e324982",
            "_dom_classes": [],
            "description": "100%",
            "_model_name": "FloatProgressModel",
            "bar_style": "success",
            "max": 422,
            "_view_module": "@jupyter-widgets/controls",
            "_model_module_version": "1.5.0",
            "value": 422,
            "_view_count": null,
            "_view_module_version": "1.5.0",
            "orientation": "horizontal",
            "min": 0,
            "description_tooltip": null,
            "_model_module": "@jupyter-widgets/controls",
            "layout": "IPY_MODEL_5b8c3af2fe3a49dc88ef37d94dd67258"
          }
        },
        "226f585b1b114181b14aea60f02ceb63": {
          "model_module": "@jupyter-widgets/controls",
          "model_name": "HTMLModel",
          "state": {
            "_view_name": "HTMLView",
            "style": "IPY_MODEL_7c243a2f702d47e1bbad4cbcec887024",
            "_dom_classes": [],
            "description": "",
            "_model_name": "HTMLModel",
            "placeholder": "​",
            "_view_module": "@jupyter-widgets/controls",
            "_model_module_version": "1.5.0",
            "value": " 422/422 [06:21&lt;00:00,  1.11it/s]",
            "_view_count": null,
            "_view_module_version": "1.5.0",
            "description_tooltip": null,
            "_model_module": "@jupyter-widgets/controls",
            "layout": "IPY_MODEL_9a9514c1deab4b47a75bde2c37ff8661"
          }
        },
        "d8d6568af0034f0d90ef53f10e324982": {
          "model_module": "@jupyter-widgets/controls",
          "model_name": "ProgressStyleModel",
          "state": {
            "_view_name": "StyleView",
            "_model_name": "ProgressStyleModel",
            "description_width": "initial",
            "_view_module": "@jupyter-widgets/base",
            "_model_module_version": "1.5.0",
            "_view_count": null,
            "_view_module_version": "1.2.0",
            "bar_color": null,
            "_model_module": "@jupyter-widgets/controls"
          }
        },
        "5b8c3af2fe3a49dc88ef37d94dd67258": {
          "model_module": "@jupyter-widgets/base",
          "model_name": "LayoutModel",
          "state": {
            "_view_name": "LayoutView",
            "grid_template_rows": null,
            "right": null,
            "justify_content": null,
            "_view_module": "@jupyter-widgets/base",
            "overflow": null,
            "_model_module_version": "1.2.0",
            "_view_count": null,
            "flex_flow": null,
            "width": null,
            "min_width": null,
            "border": null,
            "align_items": null,
            "bottom": null,
            "_model_module": "@jupyter-widgets/base",
            "top": null,
            "grid_column": null,
            "overflow_y": null,
            "overflow_x": null,
            "grid_auto_flow": null,
            "grid_area": null,
            "grid_template_columns": null,
            "flex": null,
            "_model_name": "LayoutModel",
            "justify_items": null,
            "grid_row": null,
            "max_height": null,
            "align_content": null,
            "visibility": null,
            "align_self": null,
            "height": null,
            "min_height": null,
            "padding": null,
            "grid_auto_rows": null,
            "grid_gap": null,
            "max_width": null,
            "order": null,
            "_view_module_version": "1.2.0",
            "grid_template_areas": null,
            "object_position": null,
            "object_fit": null,
            "grid_auto_columns": null,
            "margin": null,
            "display": null,
            "left": null
          }
        },
        "7c243a2f702d47e1bbad4cbcec887024": {
          "model_module": "@jupyter-widgets/controls",
          "model_name": "DescriptionStyleModel",
          "state": {
            "_view_name": "StyleView",
            "_model_name": "DescriptionStyleModel",
            "description_width": "",
            "_view_module": "@jupyter-widgets/base",
            "_model_module_version": "1.5.0",
            "_view_count": null,
            "_view_module_version": "1.2.0",
            "_model_module": "@jupyter-widgets/controls"
          }
        },
        "9a9514c1deab4b47a75bde2c37ff8661": {
          "model_module": "@jupyter-widgets/base",
          "model_name": "LayoutModel",
          "state": {
            "_view_name": "LayoutView",
            "grid_template_rows": null,
            "right": null,
            "justify_content": null,
            "_view_module": "@jupyter-widgets/base",
            "overflow": null,
            "_model_module_version": "1.2.0",
            "_view_count": null,
            "flex_flow": null,
            "width": null,
            "min_width": null,
            "border": null,
            "align_items": null,
            "bottom": null,
            "_model_module": "@jupyter-widgets/base",
            "top": null,
            "grid_column": null,
            "overflow_y": null,
            "overflow_x": null,
            "grid_auto_flow": null,
            "grid_area": null,
            "grid_template_columns": null,
            "flex": null,
            "_model_name": "LayoutModel",
            "justify_items": null,
            "grid_row": null,
            "max_height": null,
            "align_content": null,
            "visibility": null,
            "align_self": null,
            "height": null,
            "min_height": null,
            "padding": null,
            "grid_auto_rows": null,
            "grid_gap": null,
            "max_width": null,
            "order": null,
            "_view_module_version": "1.2.0",
            "grid_template_areas": null,
            "object_position": null,
            "object_fit": null,
            "grid_auto_columns": null,
            "margin": null,
            "display": null,
            "left": null
          }
        },
        "5460db47cf794e4094d34ae95b2ce22b": {
          "model_module": "@jupyter-widgets/controls",
          "model_name": "HBoxModel",
          "state": {
            "_view_name": "HBoxView",
            "_dom_classes": [],
            "_model_name": "HBoxModel",
            "_view_module": "@jupyter-widgets/controls",
            "_model_module_version": "1.5.0",
            "_view_count": null,
            "_view_module_version": "1.5.0",
            "box_style": "",
            "layout": "IPY_MODEL_49e7f57f9a824209bd12f21a17cf8c05",
            "_model_module": "@jupyter-widgets/controls",
            "children": [
              "IPY_MODEL_7dbefa6804d94dcd856bb83e46d66d71",
              "IPY_MODEL_82f19a26f4ac48399150573ec789c50b"
            ]
          }
        },
        "49e7f57f9a824209bd12f21a17cf8c05": {
          "model_module": "@jupyter-widgets/base",
          "model_name": "LayoutModel",
          "state": {
            "_view_name": "LayoutView",
            "grid_template_rows": null,
            "right": null,
            "justify_content": null,
            "_view_module": "@jupyter-widgets/base",
            "overflow": null,
            "_model_module_version": "1.2.0",
            "_view_count": null,
            "flex_flow": null,
            "width": null,
            "min_width": null,
            "border": null,
            "align_items": null,
            "bottom": null,
            "_model_module": "@jupyter-widgets/base",
            "top": null,
            "grid_column": null,
            "overflow_y": null,
            "overflow_x": null,
            "grid_auto_flow": null,
            "grid_area": null,
            "grid_template_columns": null,
            "flex": null,
            "_model_name": "LayoutModel",
            "justify_items": null,
            "grid_row": null,
            "max_height": null,
            "align_content": null,
            "visibility": null,
            "align_self": null,
            "height": null,
            "min_height": null,
            "padding": null,
            "grid_auto_rows": null,
            "grid_gap": null,
            "max_width": null,
            "order": null,
            "_view_module_version": "1.2.0",
            "grid_template_areas": null,
            "object_position": null,
            "object_fit": null,
            "grid_auto_columns": null,
            "margin": null,
            "display": null,
            "left": null
          }
        },
        "7dbefa6804d94dcd856bb83e46d66d71": {
          "model_module": "@jupyter-widgets/controls",
          "model_name": "FloatProgressModel",
          "state": {
            "_view_name": "ProgressView",
            "style": "IPY_MODEL_8832518c74594d0ba925038c2025e948",
            "_dom_classes": [],
            "description": "100%",
            "_model_name": "FloatProgressModel",
            "bar_style": "success",
            "max": 690,
            "_view_module": "@jupyter-widgets/controls",
            "_model_module_version": "1.5.0",
            "value": 690,
            "_view_count": null,
            "_view_module_version": "1.5.0",
            "orientation": "horizontal",
            "min": 0,
            "description_tooltip": null,
            "_model_module": "@jupyter-widgets/controls",
            "layout": "IPY_MODEL_060a3dc7efd64f2d8ef5e67185d10d9d"
          }
        },
        "82f19a26f4ac48399150573ec789c50b": {
          "model_module": "@jupyter-widgets/controls",
          "model_name": "HTMLModel",
          "state": {
            "_view_name": "HTMLView",
            "style": "IPY_MODEL_a130cfbae6fc4681bd15e00ec3938bda",
            "_dom_classes": [],
            "description": "",
            "_model_name": "HTMLModel",
            "placeholder": "​",
            "_view_module": "@jupyter-widgets/controls",
            "_model_module_version": "1.5.0",
            "value": " 690/690 [01:13&lt;00:00,  9.34it/s]",
            "_view_count": null,
            "_view_module_version": "1.5.0",
            "description_tooltip": null,
            "_model_module": "@jupyter-widgets/controls",
            "layout": "IPY_MODEL_ce6379715ab14ba19aea4f16985d8160"
          }
        },
        "8832518c74594d0ba925038c2025e948": {
          "model_module": "@jupyter-widgets/controls",
          "model_name": "ProgressStyleModel",
          "state": {
            "_view_name": "StyleView",
            "_model_name": "ProgressStyleModel",
            "description_width": "initial",
            "_view_module": "@jupyter-widgets/base",
            "_model_module_version": "1.5.0",
            "_view_count": null,
            "_view_module_version": "1.2.0",
            "bar_color": null,
            "_model_module": "@jupyter-widgets/controls"
          }
        },
        "060a3dc7efd64f2d8ef5e67185d10d9d": {
          "model_module": "@jupyter-widgets/base",
          "model_name": "LayoutModel",
          "state": {
            "_view_name": "LayoutView",
            "grid_template_rows": null,
            "right": null,
            "justify_content": null,
            "_view_module": "@jupyter-widgets/base",
            "overflow": null,
            "_model_module_version": "1.2.0",
            "_view_count": null,
            "flex_flow": null,
            "width": null,
            "min_width": null,
            "border": null,
            "align_items": null,
            "bottom": null,
            "_model_module": "@jupyter-widgets/base",
            "top": null,
            "grid_column": null,
            "overflow_y": null,
            "overflow_x": null,
            "grid_auto_flow": null,
            "grid_area": null,
            "grid_template_columns": null,
            "flex": null,
            "_model_name": "LayoutModel",
            "justify_items": null,
            "grid_row": null,
            "max_height": null,
            "align_content": null,
            "visibility": null,
            "align_self": null,
            "height": null,
            "min_height": null,
            "padding": null,
            "grid_auto_rows": null,
            "grid_gap": null,
            "max_width": null,
            "order": null,
            "_view_module_version": "1.2.0",
            "grid_template_areas": null,
            "object_position": null,
            "object_fit": null,
            "grid_auto_columns": null,
            "margin": null,
            "display": null,
            "left": null
          }
        },
        "a130cfbae6fc4681bd15e00ec3938bda": {
          "model_module": "@jupyter-widgets/controls",
          "model_name": "DescriptionStyleModel",
          "state": {
            "_view_name": "StyleView",
            "_model_name": "DescriptionStyleModel",
            "description_width": "",
            "_view_module": "@jupyter-widgets/base",
            "_model_module_version": "1.5.0",
            "_view_count": null,
            "_view_module_version": "1.2.0",
            "_model_module": "@jupyter-widgets/controls"
          }
        },
        "ce6379715ab14ba19aea4f16985d8160": {
          "model_module": "@jupyter-widgets/base",
          "model_name": "LayoutModel",
          "state": {
            "_view_name": "LayoutView",
            "grid_template_rows": null,
            "right": null,
            "justify_content": null,
            "_view_module": "@jupyter-widgets/base",
            "overflow": null,
            "_model_module_version": "1.2.0",
            "_view_count": null,
            "flex_flow": null,
            "width": null,
            "min_width": null,
            "border": null,
            "align_items": null,
            "bottom": null,
            "_model_module": "@jupyter-widgets/base",
            "top": null,
            "grid_column": null,
            "overflow_y": null,
            "overflow_x": null,
            "grid_auto_flow": null,
            "grid_area": null,
            "grid_template_columns": null,
            "flex": null,
            "_model_name": "LayoutModel",
            "justify_items": null,
            "grid_row": null,
            "max_height": null,
            "align_content": null,
            "visibility": null,
            "align_self": null,
            "height": null,
            "min_height": null,
            "padding": null,
            "grid_auto_rows": null,
            "grid_gap": null,
            "max_width": null,
            "order": null,
            "_view_module_version": "1.2.0",
            "grid_template_areas": null,
            "object_position": null,
            "object_fit": null,
            "grid_auto_columns": null,
            "margin": null,
            "display": null,
            "left": null
          }
        },
        "66318099c1184eefb6e202c03fadbf35": {
          "model_module": "@jupyter-widgets/controls",
          "model_name": "HBoxModel",
          "state": {
            "_view_name": "HBoxView",
            "_dom_classes": [],
            "_model_name": "HBoxModel",
            "_view_module": "@jupyter-widgets/controls",
            "_model_module_version": "1.5.0",
            "_view_count": null,
            "_view_module_version": "1.5.0",
            "box_style": "",
            "layout": "IPY_MODEL_5c590bea15d046ee82313d23ae07f669",
            "_model_module": "@jupyter-widgets/controls",
            "children": [
              "IPY_MODEL_13394f6c803c4d5cadeb7f73ee492636",
              "IPY_MODEL_aeb4095e953144f79b96bf9b360d7cef"
            ]
          }
        },
        "5c590bea15d046ee82313d23ae07f669": {
          "model_module": "@jupyter-widgets/base",
          "model_name": "LayoutModel",
          "state": {
            "_view_name": "LayoutView",
            "grid_template_rows": null,
            "right": null,
            "justify_content": null,
            "_view_module": "@jupyter-widgets/base",
            "overflow": null,
            "_model_module_version": "1.2.0",
            "_view_count": null,
            "flex_flow": null,
            "width": null,
            "min_width": null,
            "border": null,
            "align_items": null,
            "bottom": null,
            "_model_module": "@jupyter-widgets/base",
            "top": null,
            "grid_column": null,
            "overflow_y": null,
            "overflow_x": null,
            "grid_auto_flow": null,
            "grid_area": null,
            "grid_template_columns": null,
            "flex": null,
            "_model_name": "LayoutModel",
            "justify_items": null,
            "grid_row": null,
            "max_height": null,
            "align_content": null,
            "visibility": null,
            "align_self": null,
            "height": null,
            "min_height": null,
            "padding": null,
            "grid_auto_rows": null,
            "grid_gap": null,
            "max_width": null,
            "order": null,
            "_view_module_version": "1.2.0",
            "grid_template_areas": null,
            "object_position": null,
            "object_fit": null,
            "grid_auto_columns": null,
            "margin": null,
            "display": null,
            "left": null
          }
        },
        "13394f6c803c4d5cadeb7f73ee492636": {
          "model_module": "@jupyter-widgets/controls",
          "model_name": "FloatProgressModel",
          "state": {
            "_view_name": "ProgressView",
            "style": "IPY_MODEL_52f1a573b3af4ef28dfdffba67e888bf",
            "_dom_classes": [],
            "description": "",
            "_model_name": "FloatProgressModel",
            "bar_style": "success",
            "max": 1,
            "_view_module": "@jupyter-widgets/controls",
            "_model_module_version": "1.5.0",
            "value": 1,
            "_view_count": null,
            "_view_module_version": "1.5.0",
            "orientation": "horizontal",
            "min": 0,
            "description_tooltip": null,
            "_model_module": "@jupyter-widgets/controls",
            "layout": "IPY_MODEL_d782dbf2a70e4c43827fb64e23191b31"
          }
        },
        "aeb4095e953144f79b96bf9b360d7cef": {
          "model_module": "@jupyter-widgets/controls",
          "model_name": "HTMLModel",
          "state": {
            "_view_name": "HTMLView",
            "style": "IPY_MODEL_bc2c32b81e5f4a17b451e59b0f6883b0",
            "_dom_classes": [],
            "description": "",
            "_model_name": "HTMLModel",
            "placeholder": "​",
            "_view_module": "@jupyter-widgets/controls",
            "_model_module_version": "1.5.0",
            "value": " 20464114/? [1:03:31&lt;00:00, 5369.74it/s]",
            "_view_count": null,
            "_view_module_version": "1.5.0",
            "description_tooltip": null,
            "_model_module": "@jupyter-widgets/controls",
            "layout": "IPY_MODEL_664479e906ae4daea7adfcc7f58ae08b"
          }
        },
        "52f1a573b3af4ef28dfdffba67e888bf": {
          "model_module": "@jupyter-widgets/controls",
          "model_name": "ProgressStyleModel",
          "state": {
            "_view_name": "StyleView",
            "_model_name": "ProgressStyleModel",
            "description_width": "initial",
            "_view_module": "@jupyter-widgets/base",
            "_model_module_version": "1.5.0",
            "_view_count": null,
            "_view_module_version": "1.2.0",
            "bar_color": null,
            "_model_module": "@jupyter-widgets/controls"
          }
        },
        "d782dbf2a70e4c43827fb64e23191b31": {
          "model_module": "@jupyter-widgets/base",
          "model_name": "LayoutModel",
          "state": {
            "_view_name": "LayoutView",
            "grid_template_rows": null,
            "right": null,
            "justify_content": null,
            "_view_module": "@jupyter-widgets/base",
            "overflow": null,
            "_model_module_version": "1.2.0",
            "_view_count": null,
            "flex_flow": null,
            "width": null,
            "min_width": null,
            "border": null,
            "align_items": null,
            "bottom": null,
            "_model_module": "@jupyter-widgets/base",
            "top": null,
            "grid_column": null,
            "overflow_y": null,
            "overflow_x": null,
            "grid_auto_flow": null,
            "grid_area": null,
            "grid_template_columns": null,
            "flex": null,
            "_model_name": "LayoutModel",
            "justify_items": null,
            "grid_row": null,
            "max_height": null,
            "align_content": null,
            "visibility": null,
            "align_self": null,
            "height": null,
            "min_height": null,
            "padding": null,
            "grid_auto_rows": null,
            "grid_gap": null,
            "max_width": null,
            "order": null,
            "_view_module_version": "1.2.0",
            "grid_template_areas": null,
            "object_position": null,
            "object_fit": null,
            "grid_auto_columns": null,
            "margin": null,
            "display": null,
            "left": null
          }
        },
        "bc2c32b81e5f4a17b451e59b0f6883b0": {
          "model_module": "@jupyter-widgets/controls",
          "model_name": "DescriptionStyleModel",
          "state": {
            "_view_name": "StyleView",
            "_model_name": "DescriptionStyleModel",
            "description_width": "",
            "_view_module": "@jupyter-widgets/base",
            "_model_module_version": "1.5.0",
            "_view_count": null,
            "_view_module_version": "1.2.0",
            "_model_module": "@jupyter-widgets/controls"
          }
        },
        "664479e906ae4daea7adfcc7f58ae08b": {
          "model_module": "@jupyter-widgets/base",
          "model_name": "LayoutModel",
          "state": {
            "_view_name": "LayoutView",
            "grid_template_rows": null,
            "right": null,
            "justify_content": null,
            "_view_module": "@jupyter-widgets/base",
            "overflow": null,
            "_model_module_version": "1.2.0",
            "_view_count": null,
            "flex_flow": null,
            "width": null,
            "min_width": null,
            "border": null,
            "align_items": null,
            "bottom": null,
            "_model_module": "@jupyter-widgets/base",
            "top": null,
            "grid_column": null,
            "overflow_y": null,
            "overflow_x": null,
            "grid_auto_flow": null,
            "grid_area": null,
            "grid_template_columns": null,
            "flex": null,
            "_model_name": "LayoutModel",
            "justify_items": null,
            "grid_row": null,
            "max_height": null,
            "align_content": null,
            "visibility": null,
            "align_self": null,
            "height": null,
            "min_height": null,
            "padding": null,
            "grid_auto_rows": null,
            "grid_gap": null,
            "max_width": null,
            "order": null,
            "_view_module_version": "1.2.0",
            "grid_template_areas": null,
            "object_position": null,
            "object_fit": null,
            "grid_auto_columns": null,
            "margin": null,
            "display": null,
            "left": null
          }
        },
        "979581673e234c089556817f4f17d732": {
          "model_module": "@jupyter-widgets/controls",
          "model_name": "HBoxModel",
          "state": {
            "_view_name": "HBoxView",
            "_dom_classes": [],
            "_model_name": "HBoxModel",
            "_view_module": "@jupyter-widgets/controls",
            "_model_module_version": "1.5.0",
            "_view_count": null,
            "_view_module_version": "1.5.0",
            "box_style": "",
            "layout": "IPY_MODEL_3d9dadfe3bf34b9680aff4b7518273f3",
            "_model_module": "@jupyter-widgets/controls",
            "children": [
              "IPY_MODEL_32a935c39a8d4259809d0f57a4065dcd",
              "IPY_MODEL_6fd4e22de5ef46b88ce9f2e6244a7aa3"
            ]
          }
        },
        "3d9dadfe3bf34b9680aff4b7518273f3": {
          "model_module": "@jupyter-widgets/base",
          "model_name": "LayoutModel",
          "state": {
            "_view_name": "LayoutView",
            "grid_template_rows": null,
            "right": null,
            "justify_content": null,
            "_view_module": "@jupyter-widgets/base",
            "overflow": null,
            "_model_module_version": "1.2.0",
            "_view_count": null,
            "flex_flow": null,
            "width": null,
            "min_width": null,
            "border": null,
            "align_items": null,
            "bottom": null,
            "_model_module": "@jupyter-widgets/base",
            "top": null,
            "grid_column": null,
            "overflow_y": null,
            "overflow_x": null,
            "grid_auto_flow": null,
            "grid_area": null,
            "grid_template_columns": null,
            "flex": null,
            "_model_name": "LayoutModel",
            "justify_items": null,
            "grid_row": null,
            "max_height": null,
            "align_content": null,
            "visibility": null,
            "align_self": null,
            "height": null,
            "min_height": null,
            "padding": null,
            "grid_auto_rows": null,
            "grid_gap": null,
            "max_width": null,
            "order": null,
            "_view_module_version": "1.2.0",
            "grid_template_areas": null,
            "object_position": null,
            "object_fit": null,
            "grid_auto_columns": null,
            "margin": null,
            "display": null,
            "left": null
          }
        },
        "32a935c39a8d4259809d0f57a4065dcd": {
          "model_module": "@jupyter-widgets/controls",
          "model_name": "FloatProgressModel",
          "state": {
            "_view_name": "ProgressView",
            "style": "IPY_MODEL_438a462afabb49faa5beb8c1b4e23b47",
            "_dom_classes": [],
            "description": "100%",
            "_model_name": "FloatProgressModel",
            "bar_style": "success",
            "max": 422,
            "_view_module": "@jupyter-widgets/controls",
            "_model_module_version": "1.5.0",
            "value": 422,
            "_view_count": null,
            "_view_module_version": "1.5.0",
            "orientation": "horizontal",
            "min": 0,
            "description_tooltip": null,
            "_model_module": "@jupyter-widgets/controls",
            "layout": "IPY_MODEL_f60690c804034ff7b28f0ef1f7f9a9ed"
          }
        },
        "6fd4e22de5ef46b88ce9f2e6244a7aa3": {
          "model_module": "@jupyter-widgets/controls",
          "model_name": "HTMLModel",
          "state": {
            "_view_name": "HTMLView",
            "style": "IPY_MODEL_1c3557bb176e4cd3baaf7990cb0b62bf",
            "_dom_classes": [],
            "description": "",
            "_model_name": "HTMLModel",
            "placeholder": "​",
            "_view_module": "@jupyter-widgets/controls",
            "_model_module_version": "1.5.0",
            "value": " 422/422 [1:33:02&lt;00:00, 13.23s/it]",
            "_view_count": null,
            "_view_module_version": "1.5.0",
            "description_tooltip": null,
            "_model_module": "@jupyter-widgets/controls",
            "layout": "IPY_MODEL_c807d6fb54d64347bc5ce72449ea18b1"
          }
        },
        "438a462afabb49faa5beb8c1b4e23b47": {
          "model_module": "@jupyter-widgets/controls",
          "model_name": "ProgressStyleModel",
          "state": {
            "_view_name": "StyleView",
            "_model_name": "ProgressStyleModel",
            "description_width": "initial",
            "_view_module": "@jupyter-widgets/base",
            "_model_module_version": "1.5.0",
            "_view_count": null,
            "_view_module_version": "1.2.0",
            "bar_color": null,
            "_model_module": "@jupyter-widgets/controls"
          }
        },
        "f60690c804034ff7b28f0ef1f7f9a9ed": {
          "model_module": "@jupyter-widgets/base",
          "model_name": "LayoutModel",
          "state": {
            "_view_name": "LayoutView",
            "grid_template_rows": null,
            "right": null,
            "justify_content": null,
            "_view_module": "@jupyter-widgets/base",
            "overflow": null,
            "_model_module_version": "1.2.0",
            "_view_count": null,
            "flex_flow": null,
            "width": null,
            "min_width": null,
            "border": null,
            "align_items": null,
            "bottom": null,
            "_model_module": "@jupyter-widgets/base",
            "top": null,
            "grid_column": null,
            "overflow_y": null,
            "overflow_x": null,
            "grid_auto_flow": null,
            "grid_area": null,
            "grid_template_columns": null,
            "flex": null,
            "_model_name": "LayoutModel",
            "justify_items": null,
            "grid_row": null,
            "max_height": null,
            "align_content": null,
            "visibility": null,
            "align_self": null,
            "height": null,
            "min_height": null,
            "padding": null,
            "grid_auto_rows": null,
            "grid_gap": null,
            "max_width": null,
            "order": null,
            "_view_module_version": "1.2.0",
            "grid_template_areas": null,
            "object_position": null,
            "object_fit": null,
            "grid_auto_columns": null,
            "margin": null,
            "display": null,
            "left": null
          }
        },
        "1c3557bb176e4cd3baaf7990cb0b62bf": {
          "model_module": "@jupyter-widgets/controls",
          "model_name": "DescriptionStyleModel",
          "state": {
            "_view_name": "StyleView",
            "_model_name": "DescriptionStyleModel",
            "description_width": "",
            "_view_module": "@jupyter-widgets/base",
            "_model_module_version": "1.5.0",
            "_view_count": null,
            "_view_module_version": "1.2.0",
            "_model_module": "@jupyter-widgets/controls"
          }
        },
        "c807d6fb54d64347bc5ce72449ea18b1": {
          "model_module": "@jupyter-widgets/base",
          "model_name": "LayoutModel",
          "state": {
            "_view_name": "LayoutView",
            "grid_template_rows": null,
            "right": null,
            "justify_content": null,
            "_view_module": "@jupyter-widgets/base",
            "overflow": null,
            "_model_module_version": "1.2.0",
            "_view_count": null,
            "flex_flow": null,
            "width": null,
            "min_width": null,
            "border": null,
            "align_items": null,
            "bottom": null,
            "_model_module": "@jupyter-widgets/base",
            "top": null,
            "grid_column": null,
            "overflow_y": null,
            "overflow_x": null,
            "grid_auto_flow": null,
            "grid_area": null,
            "grid_template_columns": null,
            "flex": null,
            "_model_name": "LayoutModel",
            "justify_items": null,
            "grid_row": null,
            "max_height": null,
            "align_content": null,
            "visibility": null,
            "align_self": null,
            "height": null,
            "min_height": null,
            "padding": null,
            "grid_auto_rows": null,
            "grid_gap": null,
            "max_width": null,
            "order": null,
            "_view_module_version": "1.2.0",
            "grid_template_areas": null,
            "object_position": null,
            "object_fit": null,
            "grid_auto_columns": null,
            "margin": null,
            "display": null,
            "left": null
          }
        },
        "bd7db6c726484e5c9e307b75ad977e72": {
          "model_module": "@jupyter-widgets/controls",
          "model_name": "HBoxModel",
          "state": {
            "_view_name": "HBoxView",
            "_dom_classes": [],
            "_model_name": "HBoxModel",
            "_view_module": "@jupyter-widgets/controls",
            "_model_module_version": "1.5.0",
            "_view_count": null,
            "_view_module_version": "1.5.0",
            "box_style": "",
            "layout": "IPY_MODEL_de188ea39cb94b85a8d2ad9096669473",
            "_model_module": "@jupyter-widgets/controls",
            "children": [
              "IPY_MODEL_7ad064ce713945d1b4d9d17532211fd3",
              "IPY_MODEL_7119d56a76cc41f3b22df14fa7c99ef2"
            ]
          }
        },
        "de188ea39cb94b85a8d2ad9096669473": {
          "model_module": "@jupyter-widgets/base",
          "model_name": "LayoutModel",
          "state": {
            "_view_name": "LayoutView",
            "grid_template_rows": null,
            "right": null,
            "justify_content": null,
            "_view_module": "@jupyter-widgets/base",
            "overflow": null,
            "_model_module_version": "1.2.0",
            "_view_count": null,
            "flex_flow": null,
            "width": null,
            "min_width": null,
            "border": null,
            "align_items": null,
            "bottom": null,
            "_model_module": "@jupyter-widgets/base",
            "top": null,
            "grid_column": null,
            "overflow_y": null,
            "overflow_x": null,
            "grid_auto_flow": null,
            "grid_area": null,
            "grid_template_columns": null,
            "flex": null,
            "_model_name": "LayoutModel",
            "justify_items": null,
            "grid_row": null,
            "max_height": null,
            "align_content": null,
            "visibility": null,
            "align_self": null,
            "height": null,
            "min_height": null,
            "padding": null,
            "grid_auto_rows": null,
            "grid_gap": null,
            "max_width": null,
            "order": null,
            "_view_module_version": "1.2.0",
            "grid_template_areas": null,
            "object_position": null,
            "object_fit": null,
            "grid_auto_columns": null,
            "margin": null,
            "display": null,
            "left": null
          }
        },
        "7ad064ce713945d1b4d9d17532211fd3": {
          "model_module": "@jupyter-widgets/controls",
          "model_name": "FloatProgressModel",
          "state": {
            "_view_name": "ProgressView",
            "style": "IPY_MODEL_8179b709724f4833b3ad3ab9930b42c7",
            "_dom_classes": [],
            "description": "",
            "_model_name": "FloatProgressModel",
            "bar_style": "success",
            "max": 1,
            "_view_module": "@jupyter-widgets/controls",
            "_model_module_version": "1.5.0",
            "value": 1,
            "_view_count": null,
            "_view_module_version": "1.5.0",
            "orientation": "horizontal",
            "min": 0,
            "description_tooltip": null,
            "_model_module": "@jupyter-widgets/controls",
            "layout": "IPY_MODEL_fba91ede799c4fd29793cdc74ab9bca4"
          }
        },
        "7119d56a76cc41f3b22df14fa7c99ef2": {
          "model_module": "@jupyter-widgets/controls",
          "model_name": "HTMLModel",
          "state": {
            "_view_name": "HTMLView",
            "style": "IPY_MODEL_d46653ae8fee4b1aaf143ca0e2e7f131",
            "_dom_classes": [],
            "description": "",
            "_model_name": "HTMLModel",
            "placeholder": "​",
            "_view_module": "@jupyter-widgets/controls",
            "_model_module_version": "1.5.0",
            "value": " 28693897/? [1:18:46&lt;00:00, 6070.40it/s]",
            "_view_count": null,
            "_view_module_version": "1.5.0",
            "description_tooltip": null,
            "_model_module": "@jupyter-widgets/controls",
            "layout": "IPY_MODEL_fcfdb7cf9bff40f5976c3d4b046bbbba"
          }
        },
        "8179b709724f4833b3ad3ab9930b42c7": {
          "model_module": "@jupyter-widgets/controls",
          "model_name": "ProgressStyleModel",
          "state": {
            "_view_name": "StyleView",
            "_model_name": "ProgressStyleModel",
            "description_width": "initial",
            "_view_module": "@jupyter-widgets/base",
            "_model_module_version": "1.5.0",
            "_view_count": null,
            "_view_module_version": "1.2.0",
            "bar_color": null,
            "_model_module": "@jupyter-widgets/controls"
          }
        },
        "fba91ede799c4fd29793cdc74ab9bca4": {
          "model_module": "@jupyter-widgets/base",
          "model_name": "LayoutModel",
          "state": {
            "_view_name": "LayoutView",
            "grid_template_rows": null,
            "right": null,
            "justify_content": null,
            "_view_module": "@jupyter-widgets/base",
            "overflow": null,
            "_model_module_version": "1.2.0",
            "_view_count": null,
            "flex_flow": null,
            "width": null,
            "min_width": null,
            "border": null,
            "align_items": null,
            "bottom": null,
            "_model_module": "@jupyter-widgets/base",
            "top": null,
            "grid_column": null,
            "overflow_y": null,
            "overflow_x": null,
            "grid_auto_flow": null,
            "grid_area": null,
            "grid_template_columns": null,
            "flex": null,
            "_model_name": "LayoutModel",
            "justify_items": null,
            "grid_row": null,
            "max_height": null,
            "align_content": null,
            "visibility": null,
            "align_self": null,
            "height": null,
            "min_height": null,
            "padding": null,
            "grid_auto_rows": null,
            "grid_gap": null,
            "max_width": null,
            "order": null,
            "_view_module_version": "1.2.0",
            "grid_template_areas": null,
            "object_position": null,
            "object_fit": null,
            "grid_auto_columns": null,
            "margin": null,
            "display": null,
            "left": null
          }
        },
        "d46653ae8fee4b1aaf143ca0e2e7f131": {
          "model_module": "@jupyter-widgets/controls",
          "model_name": "DescriptionStyleModel",
          "state": {
            "_view_name": "StyleView",
            "_model_name": "DescriptionStyleModel",
            "description_width": "",
            "_view_module": "@jupyter-widgets/base",
            "_model_module_version": "1.5.0",
            "_view_count": null,
            "_view_module_version": "1.2.0",
            "_model_module": "@jupyter-widgets/controls"
          }
        },
        "fcfdb7cf9bff40f5976c3d4b046bbbba": {
          "model_module": "@jupyter-widgets/base",
          "model_name": "LayoutModel",
          "state": {
            "_view_name": "LayoutView",
            "grid_template_rows": null,
            "right": null,
            "justify_content": null,
            "_view_module": "@jupyter-widgets/base",
            "overflow": null,
            "_model_module_version": "1.2.0",
            "_view_count": null,
            "flex_flow": null,
            "width": null,
            "min_width": null,
            "border": null,
            "align_items": null,
            "bottom": null,
            "_model_module": "@jupyter-widgets/base",
            "top": null,
            "grid_column": null,
            "overflow_y": null,
            "overflow_x": null,
            "grid_auto_flow": null,
            "grid_area": null,
            "grid_template_columns": null,
            "flex": null,
            "_model_name": "LayoutModel",
            "justify_items": null,
            "grid_row": null,
            "max_height": null,
            "align_content": null,
            "visibility": null,
            "align_self": null,
            "height": null,
            "min_height": null,
            "padding": null,
            "grid_auto_rows": null,
            "grid_gap": null,
            "max_width": null,
            "order": null,
            "_view_module_version": "1.2.0",
            "grid_template_areas": null,
            "object_position": null,
            "object_fit": null,
            "grid_auto_columns": null,
            "margin": null,
            "display": null,
            "left": null
          }
        },
        "42a760d7e1d04acda945d86c0644b04e": {
          "model_module": "@jupyter-widgets/controls",
          "model_name": "HBoxModel",
          "state": {
            "_view_name": "HBoxView",
            "_dom_classes": [],
            "_model_name": "HBoxModel",
            "_view_module": "@jupyter-widgets/controls",
            "_model_module_version": "1.5.0",
            "_view_count": null,
            "_view_module_version": "1.5.0",
            "box_style": "",
            "layout": "IPY_MODEL_2ea6e0c3698a4da3950c4330f94b6285",
            "_model_module": "@jupyter-widgets/controls",
            "children": [
              "IPY_MODEL_ea609aeab0904080bee2d4e32e9efc5d",
              "IPY_MODEL_5cc75aa0c29047bca9da049050e27a49"
            ]
          }
        },
        "2ea6e0c3698a4da3950c4330f94b6285": {
          "model_module": "@jupyter-widgets/base",
          "model_name": "LayoutModel",
          "state": {
            "_view_name": "LayoutView",
            "grid_template_rows": null,
            "right": null,
            "justify_content": null,
            "_view_module": "@jupyter-widgets/base",
            "overflow": null,
            "_model_module_version": "1.2.0",
            "_view_count": null,
            "flex_flow": null,
            "width": null,
            "min_width": null,
            "border": null,
            "align_items": null,
            "bottom": null,
            "_model_module": "@jupyter-widgets/base",
            "top": null,
            "grid_column": null,
            "overflow_y": null,
            "overflow_x": null,
            "grid_auto_flow": null,
            "grid_area": null,
            "grid_template_columns": null,
            "flex": null,
            "_model_name": "LayoutModel",
            "justify_items": null,
            "grid_row": null,
            "max_height": null,
            "align_content": null,
            "visibility": null,
            "align_self": null,
            "height": null,
            "min_height": null,
            "padding": null,
            "grid_auto_rows": null,
            "grid_gap": null,
            "max_width": null,
            "order": null,
            "_view_module_version": "1.2.0",
            "grid_template_areas": null,
            "object_position": null,
            "object_fit": null,
            "grid_auto_columns": null,
            "margin": null,
            "display": null,
            "left": null
          }
        },
        "ea609aeab0904080bee2d4e32e9efc5d": {
          "model_module": "@jupyter-widgets/controls",
          "model_name": "FloatProgressModel",
          "state": {
            "_view_name": "ProgressView",
            "style": "IPY_MODEL_78168a61bcc44f8c9a5c6dd7b5d10f22",
            "_dom_classes": [],
            "description": "100%",
            "_model_name": "FloatProgressModel",
            "bar_style": "success",
            "max": 690,
            "_view_module": "@jupyter-widgets/controls",
            "_model_module_version": "1.5.0",
            "value": 690,
            "_view_count": null,
            "_view_module_version": "1.5.0",
            "orientation": "horizontal",
            "min": 0,
            "description_tooltip": null,
            "_model_module": "@jupyter-widgets/controls",
            "layout": "IPY_MODEL_2cbac528c635426ebd6f4f0c4f6c1a06"
          }
        },
        "5cc75aa0c29047bca9da049050e27a49": {
          "model_module": "@jupyter-widgets/controls",
          "model_name": "HTMLModel",
          "state": {
            "_view_name": "HTMLView",
            "style": "IPY_MODEL_4ec74a47009a48eaa942fe14de1c8a2f",
            "_dom_classes": [],
            "description": "",
            "_model_name": "HTMLModel",
            "placeholder": "​",
            "_view_module": "@jupyter-widgets/controls",
            "_model_module_version": "1.5.0",
            "value": " 690/690 [14:26&lt;00:00,  1.26s/it]",
            "_view_count": null,
            "_view_module_version": "1.5.0",
            "description_tooltip": null,
            "_model_module": "@jupyter-widgets/controls",
            "layout": "IPY_MODEL_44e5b3afc15644c3bcf5fbb0f85b9d4e"
          }
        },
        "78168a61bcc44f8c9a5c6dd7b5d10f22": {
          "model_module": "@jupyter-widgets/controls",
          "model_name": "ProgressStyleModel",
          "state": {
            "_view_name": "StyleView",
            "_model_name": "ProgressStyleModel",
            "description_width": "initial",
            "_view_module": "@jupyter-widgets/base",
            "_model_module_version": "1.5.0",
            "_view_count": null,
            "_view_module_version": "1.2.0",
            "bar_color": null,
            "_model_module": "@jupyter-widgets/controls"
          }
        },
        "2cbac528c635426ebd6f4f0c4f6c1a06": {
          "model_module": "@jupyter-widgets/base",
          "model_name": "LayoutModel",
          "state": {
            "_view_name": "LayoutView",
            "grid_template_rows": null,
            "right": null,
            "justify_content": null,
            "_view_module": "@jupyter-widgets/base",
            "overflow": null,
            "_model_module_version": "1.2.0",
            "_view_count": null,
            "flex_flow": null,
            "width": null,
            "min_width": null,
            "border": null,
            "align_items": null,
            "bottom": null,
            "_model_module": "@jupyter-widgets/base",
            "top": null,
            "grid_column": null,
            "overflow_y": null,
            "overflow_x": null,
            "grid_auto_flow": null,
            "grid_area": null,
            "grid_template_columns": null,
            "flex": null,
            "_model_name": "LayoutModel",
            "justify_items": null,
            "grid_row": null,
            "max_height": null,
            "align_content": null,
            "visibility": null,
            "align_self": null,
            "height": null,
            "min_height": null,
            "padding": null,
            "grid_auto_rows": null,
            "grid_gap": null,
            "max_width": null,
            "order": null,
            "_view_module_version": "1.2.0",
            "grid_template_areas": null,
            "object_position": null,
            "object_fit": null,
            "grid_auto_columns": null,
            "margin": null,
            "display": null,
            "left": null
          }
        },
        "4ec74a47009a48eaa942fe14de1c8a2f": {
          "model_module": "@jupyter-widgets/controls",
          "model_name": "DescriptionStyleModel",
          "state": {
            "_view_name": "StyleView",
            "_model_name": "DescriptionStyleModel",
            "description_width": "",
            "_view_module": "@jupyter-widgets/base",
            "_model_module_version": "1.5.0",
            "_view_count": null,
            "_view_module_version": "1.2.0",
            "_model_module": "@jupyter-widgets/controls"
          }
        },
        "44e5b3afc15644c3bcf5fbb0f85b9d4e": {
          "model_module": "@jupyter-widgets/base",
          "model_name": "LayoutModel",
          "state": {
            "_view_name": "LayoutView",
            "grid_template_rows": null,
            "right": null,
            "justify_content": null,
            "_view_module": "@jupyter-widgets/base",
            "overflow": null,
            "_model_module_version": "1.2.0",
            "_view_count": null,
            "flex_flow": null,
            "width": null,
            "min_width": null,
            "border": null,
            "align_items": null,
            "bottom": null,
            "_model_module": "@jupyter-widgets/base",
            "top": null,
            "grid_column": null,
            "overflow_y": null,
            "overflow_x": null,
            "grid_auto_flow": null,
            "grid_area": null,
            "grid_template_columns": null,
            "flex": null,
            "_model_name": "LayoutModel",
            "justify_items": null,
            "grid_row": null,
            "max_height": null,
            "align_content": null,
            "visibility": null,
            "align_self": null,
            "height": null,
            "min_height": null,
            "padding": null,
            "grid_auto_rows": null,
            "grid_gap": null,
            "max_width": null,
            "order": null,
            "_view_module_version": "1.2.0",
            "grid_template_areas": null,
            "object_position": null,
            "object_fit": null,
            "grid_auto_columns": null,
            "margin": null,
            "display": null,
            "left": null
          }
        },
        "97fdaa47d8b74215a521f8a6979c57d0": {
          "model_module": "@jupyter-widgets/controls",
          "model_name": "HBoxModel",
          "state": {
            "_view_name": "HBoxView",
            "_dom_classes": [],
            "_model_name": "HBoxModel",
            "_view_module": "@jupyter-widgets/controls",
            "_model_module_version": "1.5.0",
            "_view_count": null,
            "_view_module_version": "1.5.0",
            "box_style": "",
            "layout": "IPY_MODEL_eb49dc708281464d8ce395cc82d7a1b1",
            "_model_module": "@jupyter-widgets/controls",
            "children": [
              "IPY_MODEL_c780643a5268440bb7d5cb388f01cfcf",
              "IPY_MODEL_b096b034622f46348747e905e78c3dbd"
            ]
          }
        },
        "eb49dc708281464d8ce395cc82d7a1b1": {
          "model_module": "@jupyter-widgets/base",
          "model_name": "LayoutModel",
          "state": {
            "_view_name": "LayoutView",
            "grid_template_rows": null,
            "right": null,
            "justify_content": null,
            "_view_module": "@jupyter-widgets/base",
            "overflow": null,
            "_model_module_version": "1.2.0",
            "_view_count": null,
            "flex_flow": null,
            "width": null,
            "min_width": null,
            "border": null,
            "align_items": null,
            "bottom": null,
            "_model_module": "@jupyter-widgets/base",
            "top": null,
            "grid_column": null,
            "overflow_y": null,
            "overflow_x": null,
            "grid_auto_flow": null,
            "grid_area": null,
            "grid_template_columns": null,
            "flex": null,
            "_model_name": "LayoutModel",
            "justify_items": null,
            "grid_row": null,
            "max_height": null,
            "align_content": null,
            "visibility": null,
            "align_self": null,
            "height": null,
            "min_height": null,
            "padding": null,
            "grid_auto_rows": null,
            "grid_gap": null,
            "max_width": null,
            "order": null,
            "_view_module_version": "1.2.0",
            "grid_template_areas": null,
            "object_position": null,
            "object_fit": null,
            "grid_auto_columns": null,
            "margin": null,
            "display": null,
            "left": null
          }
        },
        "c780643a5268440bb7d5cb388f01cfcf": {
          "model_module": "@jupyter-widgets/controls",
          "model_name": "FloatProgressModel",
          "state": {
            "_view_name": "ProgressView",
            "style": "IPY_MODEL_ff5a8b5b958f474f9194e491c05f92e0",
            "_dom_classes": [],
            "description": "",
            "_model_name": "FloatProgressModel",
            "bar_style": "success",
            "max": 1,
            "_view_module": "@jupyter-widgets/controls",
            "_model_module_version": "1.5.0",
            "value": 1,
            "_view_count": null,
            "_view_module_version": "1.5.0",
            "orientation": "horizontal",
            "min": 0,
            "description_tooltip": null,
            "_model_module": "@jupyter-widgets/controls",
            "layout": "IPY_MODEL_7bc6a3b6646f485fa80d055261aead7f"
          }
        },
        "b096b034622f46348747e905e78c3dbd": {
          "model_module": "@jupyter-widgets/controls",
          "model_name": "HTMLModel",
          "state": {
            "_view_name": "HTMLView",
            "style": "IPY_MODEL_49dcd93098864664b5b418c85f0f4bd3",
            "_dom_classes": [],
            "description": "",
            "_model_name": "HTMLModel",
            "placeholder": "​",
            "_view_module": "@jupyter-widgets/controls",
            "_model_module_version": "1.5.0",
            "value": " 5116376/? [13:59&lt;00:00, 6098.10it/s]",
            "_view_count": null,
            "_view_module_version": "1.5.0",
            "description_tooltip": null,
            "_model_module": "@jupyter-widgets/controls",
            "layout": "IPY_MODEL_949c628e42a749898e4b8c1a51dd3bce"
          }
        },
        "ff5a8b5b958f474f9194e491c05f92e0": {
          "model_module": "@jupyter-widgets/controls",
          "model_name": "ProgressStyleModel",
          "state": {
            "_view_name": "StyleView",
            "_model_name": "ProgressStyleModel",
            "description_width": "initial",
            "_view_module": "@jupyter-widgets/base",
            "_model_module_version": "1.5.0",
            "_view_count": null,
            "_view_module_version": "1.2.0",
            "bar_color": null,
            "_model_module": "@jupyter-widgets/controls"
          }
        },
        "7bc6a3b6646f485fa80d055261aead7f": {
          "model_module": "@jupyter-widgets/base",
          "model_name": "LayoutModel",
          "state": {
            "_view_name": "LayoutView",
            "grid_template_rows": null,
            "right": null,
            "justify_content": null,
            "_view_module": "@jupyter-widgets/base",
            "overflow": null,
            "_model_module_version": "1.2.0",
            "_view_count": null,
            "flex_flow": null,
            "width": null,
            "min_width": null,
            "border": null,
            "align_items": null,
            "bottom": null,
            "_model_module": "@jupyter-widgets/base",
            "top": null,
            "grid_column": null,
            "overflow_y": null,
            "overflow_x": null,
            "grid_auto_flow": null,
            "grid_area": null,
            "grid_template_columns": null,
            "flex": null,
            "_model_name": "LayoutModel",
            "justify_items": null,
            "grid_row": null,
            "max_height": null,
            "align_content": null,
            "visibility": null,
            "align_self": null,
            "height": null,
            "min_height": null,
            "padding": null,
            "grid_auto_rows": null,
            "grid_gap": null,
            "max_width": null,
            "order": null,
            "_view_module_version": "1.2.0",
            "grid_template_areas": null,
            "object_position": null,
            "object_fit": null,
            "grid_auto_columns": null,
            "margin": null,
            "display": null,
            "left": null
          }
        },
        "49dcd93098864664b5b418c85f0f4bd3": {
          "model_module": "@jupyter-widgets/controls",
          "model_name": "DescriptionStyleModel",
          "state": {
            "_view_name": "StyleView",
            "_model_name": "DescriptionStyleModel",
            "description_width": "",
            "_view_module": "@jupyter-widgets/base",
            "_model_module_version": "1.5.0",
            "_view_count": null,
            "_view_module_version": "1.2.0",
            "_model_module": "@jupyter-widgets/controls"
          }
        },
        "949c628e42a749898e4b8c1a51dd3bce": {
          "model_module": "@jupyter-widgets/base",
          "model_name": "LayoutModel",
          "state": {
            "_view_name": "LayoutView",
            "grid_template_rows": null,
            "right": null,
            "justify_content": null,
            "_view_module": "@jupyter-widgets/base",
            "overflow": null,
            "_model_module_version": "1.2.0",
            "_view_count": null,
            "flex_flow": null,
            "width": null,
            "min_width": null,
            "border": null,
            "align_items": null,
            "bottom": null,
            "_model_module": "@jupyter-widgets/base",
            "top": null,
            "grid_column": null,
            "overflow_y": null,
            "overflow_x": null,
            "grid_auto_flow": null,
            "grid_area": null,
            "grid_template_columns": null,
            "flex": null,
            "_model_name": "LayoutModel",
            "justify_items": null,
            "grid_row": null,
            "max_height": null,
            "align_content": null,
            "visibility": null,
            "align_self": null,
            "height": null,
            "min_height": null,
            "padding": null,
            "grid_auto_rows": null,
            "grid_gap": null,
            "max_width": null,
            "order": null,
            "_view_module_version": "1.2.0",
            "grid_template_areas": null,
            "object_position": null,
            "object_fit": null,
            "grid_auto_columns": null,
            "margin": null,
            "display": null,
            "left": null
          }
        },
        "cdbe6216a1ba481e9e12734d8a8c7c55": {
          "model_module": "@jupyter-widgets/controls",
          "model_name": "HBoxModel",
          "state": {
            "_view_name": "HBoxView",
            "_dom_classes": [],
            "_model_name": "HBoxModel",
            "_view_module": "@jupyter-widgets/controls",
            "_model_module_version": "1.5.0",
            "_view_count": null,
            "_view_module_version": "1.5.0",
            "box_style": "",
            "layout": "IPY_MODEL_c9f7ed403056423e878822842c11ddc6",
            "_model_module": "@jupyter-widgets/controls",
            "children": [
              "IPY_MODEL_f07327127ea9432eb920eec12d11744a",
              "IPY_MODEL_e49bd000061a4b2783fa33ea52e1d08c"
            ]
          }
        },
        "c9f7ed403056423e878822842c11ddc6": {
          "model_module": "@jupyter-widgets/base",
          "model_name": "LayoutModel",
          "state": {
            "_view_name": "LayoutView",
            "grid_template_rows": null,
            "right": null,
            "justify_content": null,
            "_view_module": "@jupyter-widgets/base",
            "overflow": null,
            "_model_module_version": "1.2.0",
            "_view_count": null,
            "flex_flow": null,
            "width": null,
            "min_width": null,
            "border": null,
            "align_items": null,
            "bottom": null,
            "_model_module": "@jupyter-widgets/base",
            "top": null,
            "grid_column": null,
            "overflow_y": null,
            "overflow_x": null,
            "grid_auto_flow": null,
            "grid_area": null,
            "grid_template_columns": null,
            "flex": null,
            "_model_name": "LayoutModel",
            "justify_items": null,
            "grid_row": null,
            "max_height": null,
            "align_content": null,
            "visibility": null,
            "align_self": null,
            "height": null,
            "min_height": null,
            "padding": null,
            "grid_auto_rows": null,
            "grid_gap": null,
            "max_width": null,
            "order": null,
            "_view_module_version": "1.2.0",
            "grid_template_areas": null,
            "object_position": null,
            "object_fit": null,
            "grid_auto_columns": null,
            "margin": null,
            "display": null,
            "left": null
          }
        },
        "f07327127ea9432eb920eec12d11744a": {
          "model_module": "@jupyter-widgets/controls",
          "model_name": "FloatProgressModel",
          "state": {
            "_view_name": "ProgressView",
            "style": "IPY_MODEL_8ef0b8f171c140aa97984a8542f9edf9",
            "_dom_classes": [],
            "description": "100%",
            "_model_name": "FloatProgressModel",
            "bar_style": "success",
            "max": 422,
            "_view_module": "@jupyter-widgets/controls",
            "_model_module_version": "1.5.0",
            "value": 422,
            "_view_count": null,
            "_view_module_version": "1.5.0",
            "orientation": "horizontal",
            "min": 0,
            "description_tooltip": null,
            "_model_module": "@jupyter-widgets/controls",
            "layout": "IPY_MODEL_da71d637e05d4e1f816a6e5d26086499"
          }
        },
        "e49bd000061a4b2783fa33ea52e1d08c": {
          "model_module": "@jupyter-widgets/controls",
          "model_name": "HTMLModel",
          "state": {
            "_view_name": "HTMLView",
            "style": "IPY_MODEL_c1d5b97e39664a2299894d13642f6002",
            "_dom_classes": [],
            "description": "",
            "_model_name": "HTMLModel",
            "placeholder": "​",
            "_view_module": "@jupyter-widgets/controls",
            "_model_module_version": "1.5.0",
            "value": " 422/422 [20:16&lt;00:00,  2.88s/it]",
            "_view_count": null,
            "_view_module_version": "1.5.0",
            "description_tooltip": null,
            "_model_module": "@jupyter-widgets/controls",
            "layout": "IPY_MODEL_c3eee119b39f4df08bbd9748fb450276"
          }
        },
        "8ef0b8f171c140aa97984a8542f9edf9": {
          "model_module": "@jupyter-widgets/controls",
          "model_name": "ProgressStyleModel",
          "state": {
            "_view_name": "StyleView",
            "_model_name": "ProgressStyleModel",
            "description_width": "initial",
            "_view_module": "@jupyter-widgets/base",
            "_model_module_version": "1.5.0",
            "_view_count": null,
            "_view_module_version": "1.2.0",
            "bar_color": null,
            "_model_module": "@jupyter-widgets/controls"
          }
        },
        "da71d637e05d4e1f816a6e5d26086499": {
          "model_module": "@jupyter-widgets/base",
          "model_name": "LayoutModel",
          "state": {
            "_view_name": "LayoutView",
            "grid_template_rows": null,
            "right": null,
            "justify_content": null,
            "_view_module": "@jupyter-widgets/base",
            "overflow": null,
            "_model_module_version": "1.2.0",
            "_view_count": null,
            "flex_flow": null,
            "width": null,
            "min_width": null,
            "border": null,
            "align_items": null,
            "bottom": null,
            "_model_module": "@jupyter-widgets/base",
            "top": null,
            "grid_column": null,
            "overflow_y": null,
            "overflow_x": null,
            "grid_auto_flow": null,
            "grid_area": null,
            "grid_template_columns": null,
            "flex": null,
            "_model_name": "LayoutModel",
            "justify_items": null,
            "grid_row": null,
            "max_height": null,
            "align_content": null,
            "visibility": null,
            "align_self": null,
            "height": null,
            "min_height": null,
            "padding": null,
            "grid_auto_rows": null,
            "grid_gap": null,
            "max_width": null,
            "order": null,
            "_view_module_version": "1.2.0",
            "grid_template_areas": null,
            "object_position": null,
            "object_fit": null,
            "grid_auto_columns": null,
            "margin": null,
            "display": null,
            "left": null
          }
        },
        "c1d5b97e39664a2299894d13642f6002": {
          "model_module": "@jupyter-widgets/controls",
          "model_name": "DescriptionStyleModel",
          "state": {
            "_view_name": "StyleView",
            "_model_name": "DescriptionStyleModel",
            "description_width": "",
            "_view_module": "@jupyter-widgets/base",
            "_model_module_version": "1.5.0",
            "_view_count": null,
            "_view_module_version": "1.2.0",
            "_model_module": "@jupyter-widgets/controls"
          }
        },
        "c3eee119b39f4df08bbd9748fb450276": {
          "model_module": "@jupyter-widgets/base",
          "model_name": "LayoutModel",
          "state": {
            "_view_name": "LayoutView",
            "grid_template_rows": null,
            "right": null,
            "justify_content": null,
            "_view_module": "@jupyter-widgets/base",
            "overflow": null,
            "_model_module_version": "1.2.0",
            "_view_count": null,
            "flex_flow": null,
            "width": null,
            "min_width": null,
            "border": null,
            "align_items": null,
            "bottom": null,
            "_model_module": "@jupyter-widgets/base",
            "top": null,
            "grid_column": null,
            "overflow_y": null,
            "overflow_x": null,
            "grid_auto_flow": null,
            "grid_area": null,
            "grid_template_columns": null,
            "flex": null,
            "_model_name": "LayoutModel",
            "justify_items": null,
            "grid_row": null,
            "max_height": null,
            "align_content": null,
            "visibility": null,
            "align_self": null,
            "height": null,
            "min_height": null,
            "padding": null,
            "grid_auto_rows": null,
            "grid_gap": null,
            "max_width": null,
            "order": null,
            "_view_module_version": "1.2.0",
            "grid_template_areas": null,
            "object_position": null,
            "object_fit": null,
            "grid_auto_columns": null,
            "margin": null,
            "display": null,
            "left": null
          }
        },
        "89e7495125d742a8a7b71eab9f8c2950": {
          "model_module": "@jupyter-widgets/controls",
          "model_name": "HBoxModel",
          "state": {
            "_view_name": "HBoxView",
            "_dom_classes": [],
            "_model_name": "HBoxModel",
            "_view_module": "@jupyter-widgets/controls",
            "_model_module_version": "1.5.0",
            "_view_count": null,
            "_view_module_version": "1.5.0",
            "box_style": "",
            "layout": "IPY_MODEL_caa0b893fc224067a82574c3b4fea45f",
            "_model_module": "@jupyter-widgets/controls",
            "children": [
              "IPY_MODEL_a393fcdefba1423798af3c6c302b159c",
              "IPY_MODEL_cd4b2497d06c4ab291ca53e24a2a719a"
            ]
          }
        },
        "caa0b893fc224067a82574c3b4fea45f": {
          "model_module": "@jupyter-widgets/base",
          "model_name": "LayoutModel",
          "state": {
            "_view_name": "LayoutView",
            "grid_template_rows": null,
            "right": null,
            "justify_content": null,
            "_view_module": "@jupyter-widgets/base",
            "overflow": null,
            "_model_module_version": "1.2.0",
            "_view_count": null,
            "flex_flow": null,
            "width": null,
            "min_width": null,
            "border": null,
            "align_items": null,
            "bottom": null,
            "_model_module": "@jupyter-widgets/base",
            "top": null,
            "grid_column": null,
            "overflow_y": null,
            "overflow_x": null,
            "grid_auto_flow": null,
            "grid_area": null,
            "grid_template_columns": null,
            "flex": null,
            "_model_name": "LayoutModel",
            "justify_items": null,
            "grid_row": null,
            "max_height": null,
            "align_content": null,
            "visibility": null,
            "align_self": null,
            "height": null,
            "min_height": null,
            "padding": null,
            "grid_auto_rows": null,
            "grid_gap": null,
            "max_width": null,
            "order": null,
            "_view_module_version": "1.2.0",
            "grid_template_areas": null,
            "object_position": null,
            "object_fit": null,
            "grid_auto_columns": null,
            "margin": null,
            "display": null,
            "left": null
          }
        },
        "a393fcdefba1423798af3c6c302b159c": {
          "model_module": "@jupyter-widgets/controls",
          "model_name": "FloatProgressModel",
          "state": {
            "_view_name": "ProgressView",
            "style": "IPY_MODEL_7d572d139b00416ba4c9a2530679ae07",
            "_dom_classes": [],
            "description": "",
            "_model_name": "FloatProgressModel",
            "bar_style": "success",
            "max": 1,
            "_view_module": "@jupyter-widgets/controls",
            "_model_module_version": "1.5.0",
            "value": 1,
            "_view_count": null,
            "_view_module_version": "1.5.0",
            "orientation": "horizontal",
            "min": 0,
            "description_tooltip": null,
            "_model_module": "@jupyter-widgets/controls",
            "layout": "IPY_MODEL_18001d18cc3f4743b191eed08a2f2542"
          }
        },
        "cd4b2497d06c4ab291ca53e24a2a719a": {
          "model_module": "@jupyter-widgets/controls",
          "model_name": "HTMLModel",
          "state": {
            "_view_name": "HTMLView",
            "style": "IPY_MODEL_61e4cf62ad344410a51dfd09a521d1b0",
            "_dom_classes": [],
            "description": "",
            "_model_name": "HTMLModel",
            "placeholder": "​",
            "_view_module": "@jupyter-widgets/controls",
            "_model_module_version": "1.5.0",
            "value": " 7178779/? [19:42&lt;00:00, 6070.59it/s]",
            "_view_count": null,
            "_view_module_version": "1.5.0",
            "description_tooltip": null,
            "_model_module": "@jupyter-widgets/controls",
            "layout": "IPY_MODEL_959df0038c4e499f8ee038f8bedfd3fc"
          }
        },
        "7d572d139b00416ba4c9a2530679ae07": {
          "model_module": "@jupyter-widgets/controls",
          "model_name": "ProgressStyleModel",
          "state": {
            "_view_name": "StyleView",
            "_model_name": "ProgressStyleModel",
            "description_width": "initial",
            "_view_module": "@jupyter-widgets/base",
            "_model_module_version": "1.5.0",
            "_view_count": null,
            "_view_module_version": "1.2.0",
            "bar_color": null,
            "_model_module": "@jupyter-widgets/controls"
          }
        },
        "18001d18cc3f4743b191eed08a2f2542": {
          "model_module": "@jupyter-widgets/base",
          "model_name": "LayoutModel",
          "state": {
            "_view_name": "LayoutView",
            "grid_template_rows": null,
            "right": null,
            "justify_content": null,
            "_view_module": "@jupyter-widgets/base",
            "overflow": null,
            "_model_module_version": "1.2.0",
            "_view_count": null,
            "flex_flow": null,
            "width": null,
            "min_width": null,
            "border": null,
            "align_items": null,
            "bottom": null,
            "_model_module": "@jupyter-widgets/base",
            "top": null,
            "grid_column": null,
            "overflow_y": null,
            "overflow_x": null,
            "grid_auto_flow": null,
            "grid_area": null,
            "grid_template_columns": null,
            "flex": null,
            "_model_name": "LayoutModel",
            "justify_items": null,
            "grid_row": null,
            "max_height": null,
            "align_content": null,
            "visibility": null,
            "align_self": null,
            "height": null,
            "min_height": null,
            "padding": null,
            "grid_auto_rows": null,
            "grid_gap": null,
            "max_width": null,
            "order": null,
            "_view_module_version": "1.2.0",
            "grid_template_areas": null,
            "object_position": null,
            "object_fit": null,
            "grid_auto_columns": null,
            "margin": null,
            "display": null,
            "left": null
          }
        },
        "61e4cf62ad344410a51dfd09a521d1b0": {
          "model_module": "@jupyter-widgets/controls",
          "model_name": "DescriptionStyleModel",
          "state": {
            "_view_name": "StyleView",
            "_model_name": "DescriptionStyleModel",
            "description_width": "",
            "_view_module": "@jupyter-widgets/base",
            "_model_module_version": "1.5.0",
            "_view_count": null,
            "_view_module_version": "1.2.0",
            "_model_module": "@jupyter-widgets/controls"
          }
        },
        "959df0038c4e499f8ee038f8bedfd3fc": {
          "model_module": "@jupyter-widgets/base",
          "model_name": "LayoutModel",
          "state": {
            "_view_name": "LayoutView",
            "grid_template_rows": null,
            "right": null,
            "justify_content": null,
            "_view_module": "@jupyter-widgets/base",
            "overflow": null,
            "_model_module_version": "1.2.0",
            "_view_count": null,
            "flex_flow": null,
            "width": null,
            "min_width": null,
            "border": null,
            "align_items": null,
            "bottom": null,
            "_model_module": "@jupyter-widgets/base",
            "top": null,
            "grid_column": null,
            "overflow_y": null,
            "overflow_x": null,
            "grid_auto_flow": null,
            "grid_area": null,
            "grid_template_columns": null,
            "flex": null,
            "_model_name": "LayoutModel",
            "justify_items": null,
            "grid_row": null,
            "max_height": null,
            "align_content": null,
            "visibility": null,
            "align_self": null,
            "height": null,
            "min_height": null,
            "padding": null,
            "grid_auto_rows": null,
            "grid_gap": null,
            "max_width": null,
            "order": null,
            "_view_module_version": "1.2.0",
            "grid_template_areas": null,
            "object_position": null,
            "object_fit": null,
            "grid_auto_columns": null,
            "margin": null,
            "display": null,
            "left": null
          }
        }
      }
    }
  },
  "cells": [
    {
      "cell_type": "markdown",
      "metadata": {
        "id": "view-in-github",
        "colab_type": "text"
      },
      "source": [
        "<a href=\"https://colab.research.google.com/github/solislemuslab/dna-nn-theory/blob/master/scripts/ChIP_seq.ipynb\" target=\"_parent\"><img src=\"https://colab.research.google.com/assets/colab-badge.svg\" alt=\"Open In Colab\"/></a>"
      ]
    },
    {
      "cell_type": "markdown",
      "metadata": {
        "id": "EmvkZKcx4J24",
        "colab_type": "text"
      },
      "source": [
        "Resourse usage\n",
        "\n",
        "- CPU: 2.77 GB\n",
        "- GPU: 2.66 GB"
      ]
    },
    {
      "cell_type": "markdown",
      "metadata": {
        "id": "aH6zuDwgt3Er",
        "colab_type": "text"
      },
      "source": [
        "# Setup"
      ]
    },
    {
      "cell_type": "code",
      "metadata": {
        "id": "UIY0MfCJoPK6",
        "colab_type": "code",
        "colab": {
          "base_uri": "https://localhost:8080/",
          "height": 34
        },
        "outputId": "98b82690-0353-4863-bc93-21b69905b41c"
      },
      "source": [
        "!pip install -q biopython"
      ],
      "execution_count": null,
      "outputs": [
        {
          "output_type": "stream",
          "text": [
            "\u001b[K     |████████████████████████████████| 2.3MB 2.7MB/s \n",
            "\u001b[?25h"
          ],
          "name": "stdout"
        }
      ]
    },
    {
      "cell_type": "code",
      "metadata": {
        "id": "737cygb8wRIC",
        "colab_type": "code",
        "colab": {}
      },
      "source": [
        "import gc\n",
        "import os\n",
        "\n",
        "from Bio import SeqIO\n",
        "import matplotlib.pyplot as plt\n",
        "import numpy as np\n",
        "import pandas as pd\n",
        "import tensorflow as tf\n",
        "from tensorflow import keras\n",
        "\n",
        "pd.options.display.max_colwidth = 10"
      ],
      "execution_count": null,
      "outputs": []
    },
    {
      "cell_type": "code",
      "metadata": {
        "id": "afDk77Xcw8_z",
        "colab_type": "code",
        "colab": {
          "base_uri": "https://localhost:8080/",
          "height": 154
        },
        "outputId": "525a063f-b21e-49eb-a562-ae5a9bfc89ec"
      },
      "source": [
        "from google.colab import drive\n",
        "drive.mount('/content/drive', force_remount=True)\n",
        "DATA_PATH = '/content/drive/My Drive/Colab Notebooks/data/ChIP-seq/'\n",
        "!ls '{DATA_PATH}'"
      ],
      "execution_count": null,
      "outputs": [
        {
          "output_type": "stream",
          "text": [
            "Go to this URL in a browser: https://accounts.google.com/o/oauth2/auth?client_id=947318989803-6bn6qk8qdgf4n4g3pfee6491hc0brc4i.apps.googleusercontent.com&redirect_uri=urn%3aietf%3awg%3aoauth%3a2.0%3aoob&response_type=code&scope=email%20https%3a%2f%2fwww.googleapis.com%2fauth%2fdocs.test%20https%3a%2f%2fwww.googleapis.com%2fauth%2fdrive%20https%3a%2f%2fwww.googleapis.com%2fauth%2fdrive.photos.readonly%20https%3a%2f%2fwww.googleapis.com%2fauth%2fpeopleapi.readonly\n",
            "\n",
            "Enter your authorization code:\n",
            "··········\n",
            "Mounted at /content/drive\n",
            "motif_discovery_test.fasta   motif_occupancy_test.fasta\n",
            "motif_discovery_train.fasta  motif_occupancy_train.fasta\n"
          ],
          "name": "stdout"
        }
      ]
    },
    {
      "cell_type": "markdown",
      "metadata": {
        "id": "EQBoPabQt-Tb",
        "colab_type": "text"
      },
      "source": [
        "## Inspect the files included in the dataset"
      ]
    },
    {
      "cell_type": "code",
      "metadata": {
        "id": "fxoN5DAcrqoW",
        "colab_type": "code",
        "colab": {}
      },
      "source": [
        "import re\n",
        "\n",
        "base_url = 'http://hgdownload.cse.ucsc.edu/goldenPath/hg19/encodeDCC/wgEncodeAwgTfbsUniform/{}'\n",
        "!curl {base_url.format('files.txt')} -so files.txt"
      ],
      "execution_count": null,
      "outputs": []
    },
    {
      "cell_type": "code",
      "metadata": {
        "id": "9grjvmFmwHY9",
        "colab_type": "code",
        "colab": {
          "base_uri": "https://localhost:8080/",
          "height": 215
        },
        "outputId": "4ef99898-197a-4695-cd96-c950d17e57d6"
      },
      "source": [
        "with open('files.txt', 'r') as f:\n",
        "    with open('output.txt', 'w') as out:\n",
        "        for line in f:\n",
        "            out.write(re.sub('control=.+?; ', '', line))\n",
        "\n",
        "files = pd.read_csv('output.txt', header=None, index_col=0, sep=';?\\\\s+', engine='python')\n",
        "files.drop(columns=[10, 11, 12], inplace=True)\n",
        "files.index.name ='file'\n",
        "files.columns = files.iloc[0].str.split('=', expand=True)[0]\n",
        "files = files.apply(lambda ser: ser.str.split('=', expand=True)[1]\n",
        "                    if ser.str.count('=').all() else ser)\n",
        "files.reset_index(inplace=True)\n",
        "files.to_csv('output.csv', index=False)\n",
        "files['file'] = files['file'].str.replace('.narrowPeak.gz', '')\n",
        "files.head()"
      ],
      "execution_count": null,
      "outputs": [
        {
          "output_type": "execute_result",
          "data": {
            "text/html": [
              "<div>\n",
              "<style scoped>\n",
              "    .dataframe tbody tr th:only-of-type {\n",
              "        vertical-align: middle;\n",
              "    }\n",
              "\n",
              "    .dataframe tbody tr th {\n",
              "        vertical-align: top;\n",
              "    }\n",
              "\n",
              "    .dataframe thead th {\n",
              "        text-align: right;\n",
              "    }\n",
              "</style>\n",
              "<table border=\"1\" class=\"dataframe\">\n",
              "  <thead>\n",
              "    <tr style=\"text-align: right;\">\n",
              "      <th></th>\n",
              "      <th>file</th>\n",
              "      <th>project</th>\n",
              "      <th>lab</th>\n",
              "      <th>composite</th>\n",
              "      <th>dataType</th>\n",
              "      <th>view</th>\n",
              "      <th>cell</th>\n",
              "      <th>treatment</th>\n",
              "      <th>antibody</th>\n",
              "      <th>dataVersion</th>\n",
              "      <th>dccAccession</th>\n",
              "      <th>controlId</th>\n",
              "      <th>quality</th>\n",
              "      <th>tableName</th>\n",
              "      <th>type</th>\n",
              "      <th>md5sum</th>\n",
              "      <th>size</th>\n",
              "    </tr>\n",
              "  </thead>\n",
              "  <tbody>\n",
              "    <tr>\n",
              "      <th>0</th>\n",
              "      <td>wgEnco...</td>\n",
              "      <td>wgEncode</td>\n",
              "      <td>Broad</td>\n",
              "      <td>wgEnco...</td>\n",
              "      <td>ChipSeq</td>\n",
              "      <td>Peaks</td>\n",
              "      <td>Dnd41</td>\n",
              "      <td>None</td>\n",
              "      <td>CTCF</td>\n",
              "      <td>ENCODE</td>\n",
              "      <td>wgEnco...</td>\n",
              "      <td>wgEnco...</td>\n",
              "      <td>good</td>\n",
              "      <td>wgEnco...</td>\n",
              "      <td>narrow...</td>\n",
              "      <td>d24dcb...</td>\n",
              "      <td>966K</td>\n",
              "    </tr>\n",
              "    <tr>\n",
              "      <th>1</th>\n",
              "      <td>wgEnco...</td>\n",
              "      <td>wgEncode</td>\n",
              "      <td>Broad</td>\n",
              "      <td>wgEnco...</td>\n",
              "      <td>ChipSeq</td>\n",
              "      <td>Peaks</td>\n",
              "      <td>Dnd41</td>\n",
              "      <td>None</td>\n",
              "      <td>EZH2_(...</td>\n",
              "      <td>ENCODE</td>\n",
              "      <td>wgEnco...</td>\n",
              "      <td>wgEnco...</td>\n",
              "      <td>caution</td>\n",
              "      <td>wgEnco...</td>\n",
              "      <td>narrow...</td>\n",
              "      <td>effd48...</td>\n",
              "      <td>43K</td>\n",
              "    </tr>\n",
              "    <tr>\n",
              "      <th>2</th>\n",
              "      <td>wgEnco...</td>\n",
              "      <td>wgEncode</td>\n",
              "      <td>Broad</td>\n",
              "      <td>wgEnco...</td>\n",
              "      <td>ChipSeq</td>\n",
              "      <td>Peaks</td>\n",
              "      <td>GM12878</td>\n",
              "      <td>None</td>\n",
              "      <td>CTCF</td>\n",
              "      <td>ENCODE</td>\n",
              "      <td>wgEnco...</td>\n",
              "      <td>wgEnco...</td>\n",
              "      <td>good</td>\n",
              "      <td>wgEnco...</td>\n",
              "      <td>narrow...</td>\n",
              "      <td>fef0af...</td>\n",
              "      <td>982K</td>\n",
              "    </tr>\n",
              "    <tr>\n",
              "      <th>3</th>\n",
              "      <td>wgEnco...</td>\n",
              "      <td>wgEncode</td>\n",
              "      <td>Broad</td>\n",
              "      <td>wgEnco...</td>\n",
              "      <td>ChipSeq</td>\n",
              "      <td>Peaks</td>\n",
              "      <td>GM12878</td>\n",
              "      <td>None</td>\n",
              "      <td>EZH2_(...</td>\n",
              "      <td>ENCODE</td>\n",
              "      <td>wgEnco...</td>\n",
              "      <td>wgEnco...</td>\n",
              "      <td>good</td>\n",
              "      <td>wgEnco...</td>\n",
              "      <td>narrow...</td>\n",
              "      <td>9a8766...</td>\n",
              "      <td>66K</td>\n",
              "    </tr>\n",
              "    <tr>\n",
              "      <th>4</th>\n",
              "      <td>wgEnco...</td>\n",
              "      <td>wgEncode</td>\n",
              "      <td>Broad</td>\n",
              "      <td>wgEnco...</td>\n",
              "      <td>ChipSeq</td>\n",
              "      <td>Peaks</td>\n",
              "      <td>H1-hESC</td>\n",
              "      <td>None</td>\n",
              "      <td>CHD1_(...</td>\n",
              "      <td>ENCODE</td>\n",
              "      <td>wgEnco...</td>\n",
              "      <td>wgEnco...</td>\n",
              "      <td>good</td>\n",
              "      <td>wgEnco...</td>\n",
              "      <td>narrow...</td>\n",
              "      <td>71891a...</td>\n",
              "      <td>184K</td>\n",
              "    </tr>\n",
              "  </tbody>\n",
              "</table>\n",
              "</div>"
            ],
            "text/plain": [
              "0       file   project    lab  composite  ...  tableName       type     md5sum  size\n",
              "0  wgEnco...  wgEncode  Broad  wgEnco...  ...  wgEnco...  narrow...  d24dcb...  966K\n",
              "1  wgEnco...  wgEncode  Broad  wgEnco...  ...  wgEnco...  narrow...  effd48...   43K\n",
              "2  wgEnco...  wgEncode  Broad  wgEnco...  ...  wgEnco...  narrow...  fef0af...  982K\n",
              "3  wgEnco...  wgEncode  Broad  wgEnco...  ...  wgEnco...  narrow...  9a8766...   66K\n",
              "4  wgEnco...  wgEncode  Broad  wgEnco...  ...  wgEnco...  narrow...  71891a...  184K\n",
              "\n",
              "[5 rows x 17 columns]"
            ]
          },
          "metadata": {
            "tags": []
          },
          "execution_count": 3
        }
      ]
    },
    {
      "cell_type": "markdown",
      "metadata": {
        "id": "UQzBLVrbuI5F",
        "colab_type": "text"
      },
      "source": [
        "# Download data"
      ]
    },
    {
      "cell_type": "code",
      "metadata": {
        "id": "Gp8qAb_ufymW",
        "colab_type": "code",
        "colab": {}
      },
      "source": [
        "from bs4 import BeautifulSoup\n",
        "from Bio.Seq import Seq\n",
        "from Bio.SeqRecord import SeqRecord\n",
        "import requests\n",
        "from tqdm.notebook import tqdm"
      ],
      "execution_count": null,
      "outputs": []
    },
    {
      "cell_type": "code",
      "metadata": {
        "id": "zcGeakaTTa3f",
        "colab_type": "code",
        "colab": {}
      },
      "source": [
        "tasks = {'motif_discovery', 'motif_occupancy'}\n",
        "\n",
        "def mkdir(path):\n",
        "    try:\n",
        "        os.mkdir(path)\n",
        "    except:\n",
        "        pass\n",
        "\n",
        "def zeng_2016(task):\n",
        "    if task not in tasks:\n",
        "        raise ValueError(f'task can only be in {tasks}, got \\'{task}\\'')\n",
        "    r = requests.get(f'http://cnn.csail.mit.edu/{task}/')\n",
        "    soup = BeautifulSoup(r.text)\n",
        "    trs = soup.find('table').find_all('tr')[3:-1]\n",
        "    folders = [tr.a.text for tr in trs]\n",
        "    mkdir(task)\n",
        "\n",
        "    for folder in tqdm(folders):\n",
        "        mkdir(os.path.join(task, folder))\n",
        "        for data in ['train.data', 'test.data']:\n",
        "            r = requests.get(f'http://cnn.csail.mit.edu/{task}/{folder}/{data}')\n",
        "            with open(os.path.join(task, folder, data), 'w') as f:\n",
        "                f.write(r.text)"
      ],
      "execution_count": null,
      "outputs": []
    },
    {
      "cell_type": "code",
      "metadata": {
        "id": "S-zeU4iTVe_f",
        "colab_type": "code",
        "colab": {
          "base_uri": "https://localhost:8080/",
          "height": 114,
          "referenced_widgets": [
            "66cda8c7e3e744f1b0b77bdccb3fdeef",
            "18ad3b14b8c14aba9eccf9834663ba7f",
            "43df4fd17f3c43b9a4ec18a068926c02",
            "f2f8d1172e3644979ee2ca72e9e5abcc",
            "a663aa7b62dd453eb3aed4c53440c1ef",
            "c605ca561b2d4183a9ed251fdfbe2387",
            "1f0bb9f4efba427dbde90a7fb31fa702",
            "b0d87b7f30444af3aaf947f37a6c0134",
            "0dff2ecad868408bb0b04fab06c4c750",
            "1dd79da1d86d478dbcec291505645eba",
            "9d3e32250c59440c991c55cdf43f5779",
            "226f585b1b114181b14aea60f02ceb63",
            "d8d6568af0034f0d90ef53f10e324982",
            "5b8c3af2fe3a49dc88ef37d94dd67258",
            "7c243a2f702d47e1bbad4cbcec887024",
            "9a9514c1deab4b47a75bde2c37ff8661"
          ]
        },
        "outputId": "938494fb-b07a-4076-b939-dbe5be093329"
      },
      "source": [
        "# 5~9 minutes each depending on the network\n",
        "zeng_2016('motif_discovery')\n",
        "zeng_2016('motif_occupancy')"
      ],
      "execution_count": null,
      "outputs": [
        {
          "output_type": "display_data",
          "data": {
            "application/vnd.jupyter.widget-view+json": {
              "model_id": "66cda8c7e3e744f1b0b77bdccb3fdeef",
              "version_minor": 0,
              "version_major": 2
            },
            "text/plain": [
              "HBox(children=(FloatProgress(value=0.0, max=690.0), HTML(value='')))"
            ]
          },
          "metadata": {
            "tags": []
          }
        },
        {
          "output_type": "stream",
          "text": [
            "\n"
          ],
          "name": "stdout"
        },
        {
          "output_type": "display_data",
          "data": {
            "application/vnd.jupyter.widget-view+json": {
              "model_id": "0dff2ecad868408bb0b04fab06c4c750",
              "version_minor": 0,
              "version_major": 2
            },
            "text/plain": [
              "HBox(children=(FloatProgress(value=0.0, max=422.0), HTML(value='')))"
            ]
          },
          "metadata": {
            "tags": []
          }
        },
        {
          "output_type": "stream",
          "text": [
            "\n"
          ],
          "name": "stdout"
        }
      ]
    },
    {
      "cell_type": "code",
      "metadata": {
        "id": "nK_biySgeil7",
        "colab_type": "code",
        "colab": {
          "base_uri": "https://localhost:8080/",
          "height": 195
        },
        "outputId": "229ed28a-30b0-48e1-d2f7-894dbba1744e"
      },
      "source": [
        "df = pd.read_csv('motif_discovery/wgEncodeAwgTfbsBroadDnd41CtcfUniPk/train.data', sep=' ', header=None, nrows=5)\n",
        "df"
      ],
      "execution_count": null,
      "outputs": [
        {
          "output_type": "execute_result",
          "data": {
            "text/html": [
              "<div>\n",
              "<style scoped>\n",
              "    .dataframe tbody tr th:only-of-type {\n",
              "        vertical-align: middle;\n",
              "    }\n",
              "\n",
              "    .dataframe tbody tr th {\n",
              "        vertical-align: top;\n",
              "    }\n",
              "\n",
              "    .dataframe thead th {\n",
              "        text-align: right;\n",
              "    }\n",
              "</style>\n",
              "<table border=\"1\" class=\"dataframe\">\n",
              "  <thead>\n",
              "    <tr style=\"text-align: right;\">\n",
              "      <th></th>\n",
              "      <th>0</th>\n",
              "      <th>1</th>\n",
              "      <th>2</th>\n",
              "    </tr>\n",
              "  </thead>\n",
              "  <tbody>\n",
              "    <tr>\n",
              "      <th>0</th>\n",
              "      <td>&gt;chr3:...</td>\n",
              "      <td>CTGGCT...</td>\n",
              "      <td>1</td>\n",
              "    </tr>\n",
              "    <tr>\n",
              "      <th>1</th>\n",
              "      <td>&gt;chr1:...</td>\n",
              "      <td>TGAAGT...</td>\n",
              "      <td>1</td>\n",
              "    </tr>\n",
              "    <tr>\n",
              "      <th>2</th>\n",
              "      <td>&gt;chr5:...</td>\n",
              "      <td>GACCTT...</td>\n",
              "      <td>0</td>\n",
              "    </tr>\n",
              "    <tr>\n",
              "      <th>3</th>\n",
              "      <td>&gt;chr3:...</td>\n",
              "      <td>ACTCAC...</td>\n",
              "      <td>1</td>\n",
              "    </tr>\n",
              "    <tr>\n",
              "      <th>4</th>\n",
              "      <td>&gt;chr13...</td>\n",
              "      <td>TCCGCT...</td>\n",
              "      <td>0</td>\n",
              "    </tr>\n",
              "  </tbody>\n",
              "</table>\n",
              "</div>"
            ],
            "text/plain": [
              "           0          1  2\n",
              "0  >chr3:...  CTGGCT...  1\n",
              "1  >chr1:...  TGAAGT...  1\n",
              "2  >chr5:...  GACCTT...  0\n",
              "3  >chr3:...  ACTCAC...  1\n",
              "4  >chr13...  TCCGCT...  0"
            ]
          },
          "metadata": {
            "tags": []
          },
          "execution_count": 7
        }
      ]
    },
    {
      "cell_type": "markdown",
      "metadata": {
        "id": "W7nGlOp1up6Z",
        "colab_type": "text"
      },
      "source": [
        "# Load and transform raw data"
      ]
    },
    {
      "cell_type": "code",
      "metadata": {
        "id": "nXb60pcVi8vK",
        "colab_type": "code",
        "colab": {}
      },
      "source": [
        "def load_zeng_2016_as_df(path, file):\n",
        "    '''load the downloaded files into a single DataFrame'''\n",
        "    dfs = []\n",
        "    for folder in tqdm(os.listdir(path)):\n",
        "        try:\n",
        "            df = pd.read_csv(os.path.join(path, folder, file), sep=' ', header=None)\n",
        "            dfs.append(df)\n",
        "        except:\n",
        "            print(f'Skip {folder}')\n",
        "            continue\n",
        "    result = pd.concat(dfs)\n",
        "    result.sort_index(inplace=True)\n",
        "    return result\n",
        "\n",
        "def df_to_fasta(df, file):\n",
        "    '''dump the DataFrame as a .fasta file, skip sequenecs that have N'''\n",
        "    gen = (\n",
        "        SeqRecord(Seq(record[1]), id='', name='', description=str(record[2]))\n",
        "        for idx, record in df.iterrows()\n",
        "        if not 'N' in record[1]\n",
        "    )\n",
        "    with open(DATA_PATH + file, 'w') as f:\n",
        "        SeqIO.write(tqdm(gen), f, 'fasta')\n",
        "\n",
        "def summary(df):\n",
        "    '''\n",
        "    plot stats for the class distribution\n",
        "\n",
        "    the top figure shows the number of files with certain number of sequences\n",
        "    the bottom figure shows the class distribution if we take certain number of\n",
        "    sequences from each file (a file doesn't contribute any more after all its\n",
        "    sequences are taken)\n",
        "    '''\n",
        "    stats = df.groupby(by=df.index)[2].agg(['count', 'sum'])\n",
        "    cumsum = stats.cumsum()\n",
        "    ratio = cumsum['sum'] / cumsum['count']\n",
        "\n",
        "    fig, (ax0, ax1) = plt.subplots(2, 1, sharex=True, figsize=(6, 6))\n",
        "    stats['count'].plot(ax=ax0)\n",
        "    ratio.plot(ax=ax1)\n",
        "\n",
        "    ax0.set_xlabel('# sequences')\n",
        "    ax0.set_ylabel('# files')\n",
        "    ax1.set_xlabel('# sequences taken from each file')\n",
        "    ax1.set_ylabel('% of positive samples')\n",
        "\n",
        "    ax0.grid();ax1.grid()"
      ],
      "execution_count": null,
      "outputs": []
    },
    {
      "cell_type": "markdown",
      "metadata": {
        "id": "b4llXOmI-nQa",
        "colab_type": "text"
      },
      "source": [
        "## Motif discovery training set"
      ]
    },
    {
      "cell_type": "code",
      "metadata": {
        "id": "uCsQaCABpIlT",
        "colab_type": "code",
        "colab": {
          "base_uri": "https://localhost:8080/",
          "height": 437,
          "referenced_widgets": [
            "5460db47cf794e4094d34ae95b2ce22b",
            "49e7f57f9a824209bd12f21a17cf8c05",
            "7dbefa6804d94dcd856bb83e46d66d71",
            "82f19a26f4ac48399150573ec789c50b",
            "8832518c74594d0ba925038c2025e948",
            "060a3dc7efd64f2d8ef5e67185d10d9d",
            "a130cfbae6fc4681bd15e00ec3938bda",
            "ce6379715ab14ba19aea4f16985d8160"
          ]
        },
        "outputId": "cdfe9ff0-32d7-4d40-b5f6-b3eecda792f2"
      },
      "source": [
        "motif_discovery_train = load_zeng_2016_as_df('motif_discovery', 'train.data')\n",
        "summary(motif_discovery_train)"
      ],
      "execution_count": null,
      "outputs": [
        {
          "output_type": "display_data",
          "data": {
            "application/vnd.jupyter.widget-view+json": {
              "model_id": "5460db47cf794e4094d34ae95b2ce22b",
              "version_minor": 0,
              "version_major": 2
            },
            "text/plain": [
              "HBox(children=(FloatProgress(value=0.0, max=690.0), HTML(value='')))"
            ]
          },
          "metadata": {
            "tags": []
          }
        },
        {
          "output_type": "stream",
          "text": [
            "\n"
          ],
          "name": "stdout"
        },
        {
          "output_type": "display_data",
          "data": {
            "image/png": "[encoded data removed]",
            "text/plain": [
              "<Figure size 432x432 with 2 Axes>"
            ]
          },
          "metadata": {
            "tags": [],
            "needs_background": "light"
          }
        }
      ]
    },
    {
      "cell_type": "code",
      "metadata": {
        "id": "Vdx1lOLh9y8u",
        "colab_type": "code",
        "colab": {
          "base_uri": "https://localhost:8080/",
          "height": 66,
          "referenced_widgets": [
            "66318099c1184eefb6e202c03fadbf35",
            "5c590bea15d046ee82313d23ae07f669",
            "13394f6c803c4d5cadeb7f73ee492636",
            "aeb4095e953144f79b96bf9b360d7cef",
            "52f1a573b3af4ef28dfdffba67e888bf",
            "d782dbf2a70e4c43827fb64e23191b31",
            "bc2c32b81e5f4a17b451e59b0f6883b0",
            "664479e906ae4daea7adfcc7f58ae08b"
          ]
        },
        "outputId": "84a2f791-23bd-4d29-82b4-46ad0222968f"
      },
      "source": [
        "# 20464149it [49:16, 6922.75it/s]\n",
        "df_to_fasta(motif_discovery_train, 'motif_discovery_train.fasta')"
      ],
      "execution_count": null,
      "outputs": [
        {
          "output_type": "display_data",
          "data": {
            "application/vnd.jupyter.widget-view+json": {
              "model_id": "66318099c1184eefb6e202c03fadbf35",
              "version_minor": 0,
              "version_major": 2
            },
            "text/plain": [
              "HBox(children=(FloatProgress(value=1.0, bar_style='info', max=1.0), HTML(value='')))"
            ]
          },
          "metadata": {
            "tags": []
          }
        },
        {
          "output_type": "stream",
          "text": [
            "\n"
          ],
          "name": "stdout"
        }
      ]
    },
    {
      "cell_type": "code",
      "metadata": {
        "id": "vI_7sW6JoXuB",
        "colab_type": "code",
        "colab": {
          "base_uri": "https://localhost:8080/",
          "height": 34
        },
        "outputId": "ee5e38e7-eacf-4588-b944-5f6b02e4deb8"
      },
      "source": [
        "del motif_discovery_train\n",
        "gc.collect()"
      ],
      "execution_count": null,
      "outputs": [
        {
          "output_type": "execute_result",
          "data": {
            "text/plain": [
              "4"
            ]
          },
          "metadata": {
            "tags": []
          },
          "execution_count": 12
        }
      ]
    },
    {
      "cell_type": "markdown",
      "metadata": {
        "id": "5psd7xa9BAuK",
        "colab_type": "text"
      },
      "source": [
        "## Motit occupancy training set"
      ]
    },
    {
      "cell_type": "code",
      "metadata": {
        "id": "dQ0Q8klTWPQJ",
        "colab_type": "code",
        "colab": {
          "base_uri": "https://localhost:8080/",
          "height": 454,
          "referenced_widgets": [
            "979581673e234c089556817f4f17d732",
            "3d9dadfe3bf34b9680aff4b7518273f3",
            "32a935c39a8d4259809d0f57a4065dcd",
            "6fd4e22de5ef46b88ce9f2e6244a7aa3",
            "438a462afabb49faa5beb8c1b4e23b47",
            "f60690c804034ff7b28f0ef1f7f9a9ed",
            "1c3557bb176e4cd3baaf7990cb0b62bf",
            "c807d6fb54d64347bc5ce72449ea18b1"
          ]
        },
        "outputId": "c4e6fbf9-c865-4ce7-e46e-056b4aa7717a"
      },
      "source": [
        "# motif_occupancy/wgEncodeAwgTfbsHaibEcc1GrV0416102Dex100nmUniPk/train.data is corrupted\n",
        "motif_occupancy_train = load_zeng_2016_as_df('motif_occupancy', 'train.data')\n",
        "summary(motif_occupancy_train)"
      ],
      "execution_count": null,
      "outputs": [
        {
          "output_type": "display_data",
          "data": {
            "application/vnd.jupyter.widget-view+json": {
              "model_id": "979581673e234c089556817f4f17d732",
              "version_minor": 0,
              "version_major": 2
            },
            "text/plain": [
              "HBox(children=(FloatProgress(value=0.0, max=422.0), HTML(value='')))"
            ]
          },
          "metadata": {
            "tags": []
          }
        },
        {
          "output_type": "stream",
          "text": [
            "Skip wgEncodeAwgTfbsHaibEcc1GrV0416102Dex100nmUniPk\n",
            "\n"
          ],
          "name": "stdout"
        },
        {
          "output_type": "display_data",
          "data": {
            "image/png": "[encoded data removed]",
            "text/plain": [
              "<Figure size 432x432 with 2 Axes>"
            ]
          },
          "metadata": {
            "tags": [],
            "needs_background": "light"
          }
        }
      ]
    },
    {
      "cell_type": "code",
      "metadata": {
        "id": "nF4pNde-fhlT",
        "colab_type": "code",
        "colab": {
          "base_uri": "https://localhost:8080/",
          "height": 66,
          "referenced_widgets": [
            "bd7db6c726484e5c9e307b75ad977e72",
            "de188ea39cb94b85a8d2ad9096669473",
            "7ad064ce713945d1b4d9d17532211fd3",
            "7119d56a76cc41f3b22df14fa7c99ef2",
            "8179b709724f4833b3ad3ab9930b42c7",
            "fba91ede799c4fd29793cdc74ab9bca4",
            "d46653ae8fee4b1aaf143ca0e2e7f131",
            "fcfdb7cf9bff40f5976c3d4b046bbbba"
          ]
        },
        "outputId": "83557b14-6250-45f8-928d-2e7d3bec361e"
      },
      "source": [
        "# 28694274it [1:10:03, 6826.32it/s]\n",
        "df_to_fasta(motif_occupancy_train, 'motif_occupancy_train.fasta')"
      ],
      "execution_count": null,
      "outputs": [
        {
          "output_type": "display_data",
          "data": {
            "application/vnd.jupyter.widget-view+json": {
              "model_id": "bd7db6c726484e5c9e307b75ad977e72",
              "version_minor": 0,
              "version_major": 2
            },
            "text/plain": [
              "HBox(children=(FloatProgress(value=1.0, bar_style='info', max=1.0), HTML(value='')))"
            ]
          },
          "metadata": {
            "tags": []
          }
        },
        {
          "output_type": "stream",
          "text": [
            "\n"
          ],
          "name": "stdout"
        }
      ]
    },
    {
      "cell_type": "code",
      "metadata": {
        "id": "gDSw4aA2-c-H",
        "colab_type": "code",
        "colab": {
          "base_uri": "https://localhost:8080/",
          "height": 34
        },
        "outputId": "d25b34a6-f456-4f27-ea78-2f30d89ac106"
      },
      "source": [
        "del motif_occupancy_train\n",
        "gc.collect()"
      ],
      "execution_count": null,
      "outputs": [
        {
          "output_type": "execute_result",
          "data": {
            "text/plain": [
              "4969"
            ]
          },
          "metadata": {
            "tags": []
          },
          "execution_count": 15
        }
      ]
    },
    {
      "cell_type": "markdown",
      "metadata": {
        "id": "H6f-u0DCBGhI",
        "colab_type": "text"
      },
      "source": [
        "## Test set"
      ]
    },
    {
      "cell_type": "code",
      "metadata": {
        "id": "0s17t_rmWQU2",
        "colab_type": "code",
        "colab": {
          "base_uri": "https://localhost:8080/",
          "height": 229,
          "referenced_widgets": [
            "42a760d7e1d04acda945d86c0644b04e",
            "2ea6e0c3698a4da3950c4330f94b6285",
            "ea609aeab0904080bee2d4e32e9efc5d",
            "5cc75aa0c29047bca9da049050e27a49",
            "78168a61bcc44f8c9a5c6dd7b5d10f22",
            "2cbac528c635426ebd6f4f0c4f6c1a06",
            "4ec74a47009a48eaa942fe14de1c8a2f",
            "44e5b3afc15644c3bcf5fbb0f85b9d4e",
            "97fdaa47d8b74215a521f8a6979c57d0",
            "eb49dc708281464d8ce395cc82d7a1b1",
            "c780643a5268440bb7d5cb388f01cfcf",
            "b096b034622f46348747e905e78c3dbd",
            "ff5a8b5b958f474f9194e491c05f92e0",
            "7bc6a3b6646f485fa80d055261aead7f",
            "49dcd93098864664b5b418c85f0f4bd3",
            "949c628e42a749898e4b8c1a51dd3bce",
            "cdbe6216a1ba481e9e12734d8a8c7c55",
            "c9f7ed403056423e878822842c11ddc6",
            "f07327127ea9432eb920eec12d11744a",
            "e49bd000061a4b2783fa33ea52e1d08c",
            "8ef0b8f171c140aa97984a8542f9edf9",
            "da71d637e05d4e1f816a6e5d26086499",
            "c1d5b97e39664a2299894d13642f6002",
            "c3eee119b39f4df08bbd9748fb450276",
            "89e7495125d742a8a7b71eab9f8c2950",
            "caa0b893fc224067a82574c3b4fea45f",
            "a393fcdefba1423798af3c6c302b159c",
            "cd4b2497d06c4ab291ca53e24a2a719a",
            "7d572d139b00416ba4c9a2530679ae07",
            "18001d18cc3f4743b191eed08a2f2542",
            "61e4cf62ad344410a51dfd09a521d1b0",
            "959df0038c4e499f8ee038f8bedfd3fc"
          ]
        },
        "outputId": "76d200e6-7c3d-42d9-bc94-0d18f9275af0"
      },
      "source": [
        "# test data\n",
        "\n",
        "# 5116385it [12:25, 6860.87it/s]\n",
        "motif_discovery_test = load_zeng_2016_as_df('motif_discovery', 'test.data')\n",
        "df_to_fasta(motif_discovery_test, 'motif_discovery_test.fasta')\n",
        "del motif_discovery_test\n",
        "gc.collect()\n",
        "\n",
        "# 7178864it [17:34, 6826.32it/s]\n",
        "motif_occupancy_test = load_zeng_2016_as_df('motif_occupancy', 'test.data')\n",
        "df_to_fasta(motif_occupancy_test, 'motif_occupancy_test.fasta')\n",
        "del motif_occupancy_test\n",
        "gc.collect()"
      ],
      "execution_count": null,
      "outputs": [
        {
          "output_type": "display_data",
          "data": {
            "application/vnd.jupyter.widget-view+json": {
              "model_id": "42a760d7e1d04acda945d86c0644b04e",
              "version_minor": 0,
              "version_major": 2
            },
            "text/plain": [
              "HBox(children=(FloatProgress(value=0.0, max=690.0), HTML(value='')))"
            ]
          },
          "metadata": {
            "tags": []
          }
        },
        {
          "output_type": "stream",
          "text": [
            "\n"
          ],
          "name": "stdout"
        },
        {
          "output_type": "display_data",
          "data": {
            "application/vnd.jupyter.widget-view+json": {
              "model_id": "97fdaa47d8b74215a521f8a6979c57d0",
              "version_minor": 0,
              "version_major": 2
            },
            "text/plain": [
              "HBox(children=(FloatProgress(value=1.0, bar_style='info', max=1.0), HTML(value='')))"
            ]
          },
          "metadata": {
            "tags": []
          }
        },
        {
          "output_type": "stream",
          "text": [
            "\n"
          ],
          "name": "stdout"
        },
        {
          "output_type": "display_data",
          "data": {
            "application/vnd.jupyter.widget-view+json": {
              "model_id": "cdbe6216a1ba481e9e12734d8a8c7c55",
              "version_minor": 0,
              "version_major": 2
            },
            "text/plain": [
              "HBox(children=(FloatProgress(value=0.0, max=422.0), HTML(value='')))"
            ]
          },
          "metadata": {
            "tags": []
          }
        },
        {
          "output_type": "stream",
          "text": [
            "\n"
          ],
          "name": "stdout"
        },
        {
          "output_type": "display_data",
          "data": {
            "application/vnd.jupyter.widget-view+json": {
              "model_id": "89e7495125d742a8a7b71eab9f8c2950",
              "version_minor": 0,
              "version_major": 2
            },
            "text/plain": [
              "HBox(children=(FloatProgress(value=1.0, bar_style='info', max=1.0), HTML(value='')))"
            ]
          },
          "metadata": {
            "tags": []
          }
        },
        {
          "output_type": "stream",
          "text": [
            "\n"
          ],
          "name": "stdout"
        },
        {
          "output_type": "execute_result",
          "data": {
            "text/plain": [
              "8"
            ]
          },
          "metadata": {
            "tags": []
          },
          "execution_count": 16
        }
      ]
    },
    {
      "cell_type": "markdown",
      "metadata": {
        "id": "I0NWjd15gUAM",
        "colab_type": "text"
      },
      "source": [
        "# Prepare tokenizer and data generator"
      ]
    },
    {
      "cell_type": "code",
      "metadata": {
        "id": "LFJ-kaZj0Wwj",
        "colab_type": "code",
        "colab": {}
      },
      "source": [
        "tokenizer = keras.preprocessing.text.Tokenizer(char_level=True, lower=False)\n",
        "tokenizer.fit_on_texts('ATCG')\n",
        "\n",
        "def data_generator_from_fasta(file):\n",
        "    def generator():\n",
        "        f = open(DATA_PATH + file, 'r')\n",
        "        for record in SeqIO.parse(f, 'fasta'):\n",
        "            try:\n",
        "                x = np.array(tokenizer.texts_to_sequences(record)) - 1\n",
        "            except:\n",
        "                x = np.array(tokenizer.texts_to_sequences(record.seq._data.replace('N', 'A'))) - 1\n",
        "                print('skip')\n",
        "            x = np.expand_dims(keras.utils.to_categorical(x, 4), axis=-1)\n",
        "            yield (x, record.name)\n",
        "        f.close()\n",
        "    return generator"
      ],
      "execution_count": null,
      "outputs": []
    },
    {
      "cell_type": "markdown",
      "metadata": {
        "id": "at9QGbOt0Br_",
        "colab_type": "text"
      },
      "source": [
        "# Motif Discovery"
      ]
    },
    {
      "cell_type": "markdown",
      "metadata": {
        "id": "9VQILnQLov9b",
        "colab_type": "text"
      },
      "source": [
        "- 35 sequences have `N`"
      ]
    },
    {
      "cell_type": "markdown",
      "metadata": {
        "id": "YcjH_ZTUuwAJ",
        "colab_type": "text"
      },
      "source": [
        "## Create dataset"
      ]
    },
    {
      "cell_type": "code",
      "metadata": {
        "id": "gvsCmYLE1ffD",
        "colab_type": "code",
        "colab": {
          "base_uri": "https://localhost:8080/",
          "height": 50
        },
        "outputId": "c007d3ef-1bb8-4356-917c-f5c7b47a8e3e"
      },
      "source": [
        "batch_size = 1024\n",
        "dataset = tf.data.Dataset.from_generator(\n",
        "    data_generator_from_fasta('motif_discovery_train.fasta'),\n",
        "    output_types=(tf.float32, tf.float32),\n",
        "    output_shapes=((101, 4, 1), ())\n",
        ")\n",
        "dataset = dataset.shuffle(10000).batch(batch_size).prefetch(2)\n",
        "print('input shape: ', dataset.element_spec[0].shape)\n",
        "print('output shape:', dataset.element_spec[1].shape)"
      ],
      "execution_count": null,
      "outputs": [
        {
          "output_type": "stream",
          "text": [
            "input shape:  (None, 101, 4, 1)\n",
            "output shape: (None,)\n"
          ],
          "name": "stdout"
        }
      ]
    },
    {
      "cell_type": "markdown",
      "metadata": {
        "id": "wEuLcLAUluei",
        "colab_type": "text"
      },
      "source": [
        "## Build model"
      ]
    },
    {
      "cell_type": "code",
      "metadata": {
        "id": "8eDkJNcl2sWi",
        "colab_type": "code",
        "colab": {
          "base_uri": "https://localhost:8080/",
          "height": 353
        },
        "outputId": "8d20b352-5847-41f3-9a2c-8292da2c8770"
      },
      "source": [
        "keras.backend.clear_session()\n",
        "\n",
        "model = keras.Sequential([\n",
        "    keras.layers.Conv2D(128, (24, 1), padding='same', activation='relu', input_shape=(101, 4, 1)),\n",
        "    keras.layers.GlobalMaxPooling2D(),\n",
        "    keras.layers.Flatten(),\n",
        "    keras.layers.Dense(32, activation='relu'),\n",
        "    keras.layers.Dropout(0.2),\n",
        "    keras.layers.Dense(2, activation='softmax')\n",
        "])\n",
        "model.compile(optimizer='adadelta', loss='sparse_categorical_crossentropy', metrics='accuracy')\n",
        "model.summary()"
      ],
      "execution_count": null,
      "outputs": [
        {
          "output_type": "stream",
          "text": [
            "Model: \"sequential\"\n",
            "_________________________________________________________________\n",
            "Layer (type)                 Output Shape              Param #   \n",
            "=================================================================\n",
            "conv2d (Conv2D)              (None, 101, 4, 128)       3200      \n",
            "_________________________________________________________________\n",
            "global_max_pooling2d (Global (None, 128)               0         \n",
            "_________________________________________________________________\n",
            "flatten (Flatten)            (None, 128)               0         \n",
            "_________________________________________________________________\n",
            "dense (Dense)                (None, 32)                4128      \n",
            "_________________________________________________________________\n",
            "dropout (Dropout)            (None, 32)                0         \n",
            "_________________________________________________________________\n",
            "dense_1 (Dense)              (None, 2)                 66        \n",
            "=================================================================\n",
            "Total params: 7,394\n",
            "Trainable params: 7,394\n",
            "Non-trainable params: 0\n",
            "_________________________________________________________________\n"
          ],
          "name": "stdout"
        }
      ]
    },
    {
      "cell_type": "code",
      "metadata": {
        "id": "pQMs3MEz3RwC",
        "colab_type": "code",
        "colab": {}
      },
      "source": [
        "log = open('log_discovery.csv', mode='w')\n",
        "writer = DictWriter(log, ['batch', 'loss', 'accuracy'])\n",
        "\n",
        "log_callback = keras.callbacks.LambdaCallback(\n",
        "    on_batch_end=lambda batch, logs: writer.writerow({'batch': batch, 'loss': logs['loss'], 'accuracy': logs['accuracy']}),\n",
        "    on_train_end=lambda logs: log.close()\n",
        ")"
      ],
      "execution_count": null,
      "outputs": []
    },
    {
      "cell_type": "code",
      "metadata": {
        "id": "XLxGTj__lAJS",
        "colab_type": "code",
        "colab": {}
      },
      "source": [
        "# 33ms/step\n",
        "# 319752steps\n",
        "# 20464149 / 64 * 33 / 1000 / 3600 = 2.9 hours\n",
        "history = model.fit(dataset, batch_size=batch_size, epochs=1, callbacks=[log_callback])"
      ],
      "execution_count": null,
      "outputs": []
    },
    {
      "cell_type": "markdown",
      "metadata": {
        "id": "uH8Z9R4NngWb",
        "colab_type": "text"
      },
      "source": [
        "# Motif occupancy"
      ]
    },
    {
      "cell_type": "markdown",
      "metadata": {
        "id": "auFsSX2phShu",
        "colab_type": "text"
      },
      "source": [
        "## Create dataset"
      ]
    },
    {
      "cell_type": "code",
      "metadata": {
        "id": "-YV48TFSheQk",
        "colab_type": "code",
        "colab": {
          "base_uri": "https://localhost:8080/",
          "height": 50
        },
        "outputId": "9dbca9e6-69cf-4b31-ce8a-5856c09a94dd"
      },
      "source": [
        "batch_size = 1024\n",
        "dataset = tf.data.Dataset.from_generator(\n",
        "    data_generator_from_fasta('motif_occupancy_train.fasta'),\n",
        "    output_types=(tf.float32, tf.float32),\n",
        "    output_shapes=((101, 4, 1), ())\n",
        ")\n",
        "dataset = dataset.shuffle(10000).batch(batch_size).prefetch(2)\n",
        "print('input shape: ', dataset.element_spec[0].shape)\n",
        "print('output shape:', dataset.element_spec[1].shape)"
      ],
      "execution_count": null,
      "outputs": [
        {
          "output_type": "stream",
          "text": [
            "input shape:  (None, 101, 4, 1)\n",
            "output shape: (None,)\n"
          ],
          "name": "stdout"
        }
      ]
    },
    {
      "cell_type": "markdown",
      "metadata": {
        "id": "iShyLIfdhtc8",
        "colab_type": "text"
      },
      "source": [
        "## Build model"
      ]
    },
    {
      "cell_type": "code",
      "metadata": {
        "id": "sURygQySh7Bu",
        "colab_type": "code",
        "colab": {
          "base_uri": "https://localhost:8080/",
          "height": 353
        },
        "outputId": "0df44d7a-7022-4db8-869e-ef773f91d350"
      },
      "source": [
        "keras.backend.clear_session()\n",
        "\n",
        "model = keras.Sequential([\n",
        "    keras.layers.Conv2D(128, (24, 1), padding='same', activation='relu', input_shape=(101, 4, 1)),\n",
        "    keras.layers.GlobalMaxPooling2D(),\n",
        "    keras.layers.Flatten(),\n",
        "    keras.layers.Dense(32, activation='relu'),\n",
        "    keras.layers.Dropout(0.2),\n",
        "    keras.layers.Dense(2, activation='softmax')\n",
        "])\n",
        "model.compile(optimizer='adadelta', loss='sparse_categorical_crossentropy', metrics='accuracy')\n",
        "model.summary()"
      ],
      "execution_count": null,
      "outputs": [
        {
          "output_type": "stream",
          "text": [
            "Model: \"sequential\"\n",
            "_________________________________________________________________\n",
            "Layer (type)                 Output Shape              Param #   \n",
            "=================================================================\n",
            "conv2d (Conv2D)              (None, 101, 4, 128)       3200      \n",
            "_________________________________________________________________\n",
            "global_max_pooling2d (Global (None, 128)               0         \n",
            "_________________________________________________________________\n",
            "flatten (Flatten)            (None, 128)               0         \n",
            "_________________________________________________________________\n",
            "dense (Dense)                (None, 32)                4128      \n",
            "_________________________________________________________________\n",
            "dropout (Dropout)            (None, 32)                0         \n",
            "_________________________________________________________________\n",
            "dense_1 (Dense)              (None, 2)                 66        \n",
            "=================================================================\n",
            "Total params: 7,394\n",
            "Trainable params: 7,394\n",
            "Non-trainable params: 0\n",
            "_________________________________________________________________\n"
          ],
          "name": "stdout"
        }
      ]
    },
    {
      "cell_type": "code",
      "metadata": {
        "id": "nfK9bHTbh8V_",
        "colab_type": "code",
        "colab": {}
      },
      "source": [
        "log = open('log_occupancy.csv', mode='w')\n",
        "writer = DictWriter(log, ['batch', 'loss', 'accuracy'])\n",
        "\n",
        "log_callback = keras.callbacks.LambdaCallback(\n",
        "    on_batch_end=lambda batch, logs: writer.writerow({'batch': batch, 'loss': logs['loss'], 'accuracy': logs['accuracy']}),\n",
        "    on_train_end=lambda logs: log.close()\n",
        ")"
      ],
      "execution_count": null,
      "outputs": []
    },
    {
      "cell_type": "code",
      "metadata": {
        "id": "U7mywkbGiGjJ",
        "colab_type": "code",
        "colab": {
          "base_uri": "https://localhost:8080/",
          "height": 1000
        },
        "outputId": "93d0f4eb-970c-47e3-b545-dd539246ec05"
      },
      "source": [
        "# 453ms/step\n",
        "# 28021steps\n",
        "# 28694274 / 1024 * 453 / 1000 / 3600 = 3.5 hours\n",
        "history = model.fit(dataset, batch_size=batch_size, epochs=1, callbacks=[log_callback])"
      ],
      "execution_count": null,
      "outputs": [
        {
          "output_type": "stream",
          "text": [
            "     21/Unknown - 10s 453ms/step - loss: 0.6969 - accuracy: 0.5005skip\n",
            "     81/Unknown - 36s 449ms/step - loss: 0.6964 - accuracy: 0.5018skip\n",
            "    203/Unknown - 91s 447ms/step - loss: 0.6960 - accuracy: 0.5015skip\n",
            "    353/Unknown - 157s 446ms/step - loss: 0.6957 - accuracy: 0.5015skip\n",
            "    565/Unknown - 251s 445ms/step - loss: 0.6952 - accuracy: 0.5012skip\n",
            "    584/Unknown - 260s 445ms/step - loss: 0.6951 - accuracy: 0.5014skip\n",
            "    763/Unknown - 340s 446ms/step - loss: 0.6947 - accuracy: 0.5016skip\n",
            "    802/Unknown - 358s 446ms/step - loss: 0.6947 - accuracy: 0.5017skip\n",
            "    809/Unknown - 361s 446ms/step - loss: 0.6947 - accuracy: 0.5017skip\n",
            "    823/Unknown - 367s 446ms/step - loss: 0.6946 - accuracy: 0.5017skip\n",
            "    908/Unknown - 406s 447ms/step - loss: 0.6946 - accuracy: 0.5012skip\n",
            "    920/Unknown - 412s 447ms/step - loss: 0.6946 - accuracy: 0.5012skip\n",
            "    945/Unknown - 423s 448ms/step - loss: 0.6946 - accuracy: 0.5011skip\n",
            "    990/Unknown - 444s 448ms/step - loss: 0.6946 - accuracy: 0.5011skip\n",
            "   1000/Unknown - 448s 448ms/step - loss: 0.6946 - accuracy: 0.5012skip\n",
            "   1026/Unknown - 460s 448ms/step - loss: 0.6945 - accuracy: 0.5011skip\n",
            "   1050/Unknown - 470s 448ms/step - loss: 0.6945 - accuracy: 0.5010skip\n",
            "   1119/Unknown - 501s 447ms/step - loss: 0.6945 - accuracy: 0.5011skip\n",
            "   1133/Unknown - 507s 447ms/step - loss: 0.6944 - accuracy: 0.5012skip\n",
            "   1187/Unknown - 531s 447ms/step - loss: 0.6944 - accuracy: 0.5015skip\n",
            "   1189/Unknown - 532s 447ms/step - loss: 0.6944 - accuracy: 0.5015skip\n",
            "   1190/Unknown - 532s 447ms/step - loss: 0.6944 - accuracy: 0.5015skip\n",
            "   1271/Unknown - 568s 447ms/step - loss: 0.6943 - accuracy: 0.5016skip\n",
            "   1278/Unknown - 571s 447ms/step - loss: 0.6943 - accuracy: 0.5017skip\n",
            "   1299/Unknown - 581s 447ms/step - loss: 0.6943 - accuracy: 0.5017skip\n",
            "   1306/Unknown - 584s 447ms/step - loss: 0.6943 - accuracy: 0.5017skip\n",
            "skip\n",
            "   1384/Unknown - 618s 447ms/step - loss: 0.6942 - accuracy: 0.5022skip\n",
            "   1452/Unknown - 649s 447ms/step - loss: 0.6942 - accuracy: 0.5027skip\n",
            "   1487/Unknown - 665s 447ms/step - loss: 0.6941 - accuracy: 0.5028skip\n",
            "   1506/Unknown - 673s 447ms/step - loss: 0.6941 - accuracy: 0.5028skip\n",
            "   1549/Unknown - 692s 447ms/step - loss: 0.6941 - accuracy: 0.5030skip\n",
            "   1662/Unknown - 743s 447ms/step - loss: 0.6940 - accuracy: 0.5031skip\n",
            "   1704/Unknown - 761s 447ms/step - loss: 0.6940 - accuracy: 0.5032skip\n",
            "   1753/Unknown - 783s 446ms/step - loss: 0.6940 - accuracy: 0.5035skip\n",
            "   2027/Unknown - 903s 446ms/step - loss: 0.6938 - accuracy: 0.5044skip\n",
            "   2074/Unknown - 924s 446ms/step - loss: 0.6938 - accuracy: 0.5046skip\n",
            "   2119/Unknown - 945s 446ms/step - loss: 0.6938 - accuracy: 0.5049skip\n",
            "   2308/Unknown - 1028s 446ms/step - loss: 0.6938 - accuracy: 0.5048skip\n",
            "   2430/Unknown - 1082s 445ms/step - loss: 0.6937 - accuracy: 0.5054skip\n",
            "   2464/Unknown - 1097s 445ms/step - loss: 0.6937 - accuracy: 0.5055skip\n",
            "skip\n",
            "   2584/Unknown - 1150s 445ms/step - loss: 0.6936 - accuracy: 0.5058skip\n",
            "   2610/Unknown - 1161s 445ms/step - loss: 0.6936 - accuracy: 0.5059skip\n",
            "   2670/Unknown - 1188s 445ms/step - loss: 0.6936 - accuracy: 0.5060skip\n",
            "   2745/Unknown - 1221s 445ms/step - loss: 0.6936 - accuracy: 0.5063skip\n",
            "   2919/Unknown - 1299s 445ms/step - loss: 0.6935 - accuracy: 0.5067skip\n",
            "   2950/Unknown - 1313s 445ms/step - loss: 0.6935 - accuracy: 0.5069skip\n",
            "   2987/Unknown - 1330s 445ms/step - loss: 0.6935 - accuracy: 0.5070skip\n",
            "   3084/Unknown - 1373s 445ms/step - loss: 0.6935 - accuracy: 0.5073skip\n",
            "   3155/Unknown - 1404s 445ms/step - loss: 0.6934 - accuracy: 0.5077skip\n",
            "   3186/Unknown - 1418s 445ms/step - loss: 0.6934 - accuracy: 0.5078skip\n",
            "   3233/Unknown - 1439s 445ms/step - loss: 0.6934 - accuracy: 0.5080skip\n",
            "   3246/Unknown - 1445s 445ms/step - loss: 0.6934 - accuracy: 0.5081skip\n",
            "   3258/Unknown - 1450s 445ms/step - loss: 0.6934 - accuracy: 0.5081skip\n",
            "   3341/Unknown - 1487s 445ms/step - loss: 0.6934 - accuracy: 0.5083skip\n",
            "   3345/Unknown - 1489s 445ms/step - loss: 0.6934 - accuracy: 0.5084skip\n",
            "   3355/Unknown - 1494s 445ms/step - loss: 0.6934 - accuracy: 0.5084skip\n",
            "   3439/Unknown - 1531s 445ms/step - loss: 0.6933 - accuracy: 0.5088skip\n",
            "   3515/Unknown - 1565s 445ms/step - loss: 0.6933 - accuracy: 0.5089skip\n",
            "   3551/Unknown - 1581s 445ms/step - loss: 0.6933 - accuracy: 0.5091skip\n",
            "   3619/Unknown - 1611s 445ms/step - loss: 0.6933 - accuracy: 0.5094skip\n",
            "   3668/Unknown - 1633s 445ms/step - loss: 0.6933 - accuracy: 0.5097skip\n",
            "   3914/Unknown - 1742s 445ms/step - loss: 0.6932 - accuracy: 0.5107skip\n",
            "   3915/Unknown - 1742s 445ms/step - loss: 0.6932 - accuracy: 0.5107skip\n",
            "   3955/Unknown - 1760s 445ms/step - loss: 0.6932 - accuracy: 0.5108skip\n",
            "   3998/Unknown - 1779s 445ms/step - loss: 0.6932 - accuracy: 0.5108skip\n",
            "   4037/Unknown - 1796s 445ms/step - loss: 0.6931 - accuracy: 0.5110skip\n",
            "   4080/Unknown - 1815s 445ms/step - loss: 0.6931 - accuracy: 0.5112skip\n",
            "   4085/Unknown - 1817s 445ms/step - loss: 0.6931 - accuracy: 0.5112skip\n",
            "   4101/Unknown - 1824s 445ms/step - loss: 0.6931 - accuracy: 0.5113skip\n",
            "   4170/Unknown - 1855s 445ms/step - loss: 0.6931 - accuracy: 0.5116skip\n",
            "   4176/Unknown - 1858s 445ms/step - loss: 0.6931 - accuracy: 0.5116skip\n",
            "   4278/Unknown - 1903s 445ms/step - loss: 0.6931 - accuracy: 0.5118skip\n",
            "   4516/Unknown - 2009s 445ms/step - loss: 0.6930 - accuracy: 0.5121skip\n",
            "   4537/Unknown - 2018s 445ms/step - loss: 0.6930 - accuracy: 0.5122skip\n",
            "   4590/Unknown - 2042s 445ms/step - loss: 0.6930 - accuracy: 0.5124skip\n",
            "   4691/Unknown - 2087s 445ms/step - loss: 0.6930 - accuracy: 0.5124skip\n",
            "   4729/Unknown - 2104s 445ms/step - loss: 0.6930 - accuracy: 0.5125skip\n",
            "   4783/Unknown - 2128s 445ms/step - loss: 0.6930 - accuracy: 0.5126skip\n",
            "   4813/Unknown - 2141s 445ms/step - loss: 0.6930 - accuracy: 0.5127skip\n",
            "   4908/Unknown - 2184s 445ms/step - loss: 0.6929 - accuracy: 0.5132skip\n",
            "   5146/Unknown - 2291s 445ms/step - loss: 0.6928 - accuracy: 0.5142skip\n",
            "   5210/Unknown - 2319s 445ms/step - loss: 0.6928 - accuracy: 0.5143skip\n",
            "   5218/Unknown - 2323s 445ms/step - loss: 0.6928 - accuracy: 0.5144skip\n",
            "   5236/Unknown - 2330s 445ms/step - loss: 0.6928 - accuracy: 0.5144skip\n",
            "   5245/Unknown - 2334s 445ms/step - loss: 0.6928 - accuracy: 0.5144skip\n",
            "   5270/Unknown - 2346s 445ms/step - loss: 0.6928 - accuracy: 0.5145skip\n",
            "   5293/Unknown - 2356s 445ms/step - loss: 0.6928 - accuracy: 0.5145skip\n",
            "   5393/Unknown - 2400s 445ms/step - loss: 0.6928 - accuracy: 0.5147skip\n",
            "   5457/Unknown - 2429s 445ms/step - loss: 0.6928 - accuracy: 0.5149skip\n",
            "   5461/Unknown - 2430s 445ms/step - loss: 0.6928 - accuracy: 0.5149skip\n",
            "   5548/Unknown - 2469s 445ms/step - loss: 0.6928 - accuracy: 0.5151skip\n",
            "   5725/Unknown - 2548s 445ms/step - loss: 0.6927 - accuracy: 0.5157skip\n",
            "   5736/Unknown - 2552s 445ms/step - loss: 0.6927 - accuracy: 0.5157skip\n",
            "   5789/Unknown - 2576s 445ms/step - loss: 0.6927 - accuracy: 0.5158skip\n",
            "   5798/Unknown - 2580s 445ms/step - loss: 0.6927 - accuracy: 0.5159skip\n",
            "   5917/Unknown - 2633s 445ms/step - loss: 0.6927 - accuracy: 0.5158skip\n",
            "   5968/Unknown - 2655s 445ms/step - loss: 0.6927 - accuracy: 0.5157skip\n",
            "   6009/Unknown - 2673s 445ms/step - loss: 0.6927 - accuracy: 0.5157skip\n",
            "   6056/Unknown - 2694s 445ms/step - loss: 0.6927 - accuracy: 0.5158skip\n",
            "   6093/Unknown - 2711s 445ms/step - loss: 0.6927 - accuracy: 0.5160skip\n",
            "   6142/Unknown - 2733s 445ms/step - loss: 0.6927 - accuracy: 0.5161skip\n",
            "   6170/Unknown - 2745s 445ms/step - loss: 0.6926 - accuracy: 0.5162skip\n",
            "   6179/Unknown - 2749s 445ms/step - loss: 0.6926 - accuracy: 0.5163skip\n",
            "   6274/Unknown - 2791s 445ms/step - loss: 0.6926 - accuracy: 0.5165skip\n",
            "   6352/Unknown - 2826s 445ms/step - loss: 0.6926 - accuracy: 0.5165skip\n",
            "   6380/Unknown - 2839s 445ms/step - loss: 0.6926 - accuracy: 0.5165skip\n",
            "   6613/Unknown - 2942s 445ms/step - loss: 0.6926 - accuracy: 0.5171skip\n",
            "   6693/Unknown - 2977s 445ms/step - loss: 0.6926 - accuracy: 0.5171skip\n",
            "   6891/Unknown - 3065s 445ms/step - loss: 0.6926 - accuracy: 0.5170skip\n",
            "   6950/Unknown - 3091s 445ms/step - loss: 0.6926 - accuracy: 0.5171skip\n",
            "   7009/Unknown - 3118s 445ms/step - loss: 0.6925 - accuracy: 0.5172skip\n",
            "   7019/Unknown - 3122s 445ms/step - loss: 0.6925 - accuracy: 0.5173skip\n",
            "   7074/Unknown - 3146s 445ms/step - loss: 0.6925 - accuracy: 0.5174skip\n",
            "   7088/Unknown - 3152s 445ms/step - loss: 0.6925 - accuracy: 0.5174skip\n",
            "   7097/Unknown - 3156s 445ms/step - loss: 0.6925 - accuracy: 0.5175skip\n",
            "   7191/Unknown - 3198s 445ms/step - loss: 0.6925 - accuracy: 0.5177skip\n",
            "   7419/Unknown - 3300s 445ms/step - loss: 0.6925 - accuracy: 0.5177skip\n",
            "   7491/Unknown - 3332s 445ms/step - loss: 0.6925 - accuracy: 0.5179skip\n",
            "   7792/Unknown - 3466s 445ms/step - loss: 0.6925 - accuracy: 0.5179skip\n",
            "   7957/Unknown - 3539s 445ms/step - loss: 0.6925 - accuracy: 0.5180skip\n",
            "   8026/Unknown - 3570s 445ms/step - loss: 0.6924 - accuracy: 0.5182skip\n",
            "   8137/Unknown - 3619s 445ms/step - loss: 0.6924 - accuracy: 0.5183skip\n",
            "   8149/Unknown - 3624s 445ms/step - loss: 0.6924 - accuracy: 0.5184skip\n",
            "   8157/Unknown - 3628s 445ms/step - loss: 0.6924 - accuracy: 0.5184skip\n",
            "   8303/Unknown - 3693s 445ms/step - loss: 0.6924 - accuracy: 0.5188skip\n",
            "   8309/Unknown - 3696s 445ms/step - loss: 0.6924 - accuracy: 0.5188skip\n",
            "   8319/Unknown - 3700s 445ms/step - loss: 0.6924 - accuracy: 0.5188skip\n",
            "   8642/Unknown - 3844s 445ms/step - loss: 0.6924 - accuracy: 0.5188skip\n",
            "   8722/Unknown - 3879s 445ms/step - loss: 0.6924 - accuracy: 0.5188skip\n",
            "skip\n",
            "   8725/Unknown - 3880s 445ms/step - loss: 0.6924 - accuracy: 0.5188skip\n",
            "   8738/Unknown - 3886s 445ms/step - loss: 0.6924 - accuracy: 0.5188skip\n",
            "   8778/Unknown - 3904s 445ms/step - loss: 0.6924 - accuracy: 0.5189skip\n",
            "   8857/Unknown - 3939s 445ms/step - loss: 0.6923 - accuracy: 0.5191skip\n",
            "   9012/Unknown - 4007s 445ms/step - loss: 0.6923 - accuracy: 0.5192skip\n",
            "   9016/Unknown - 4009s 445ms/step - loss: 0.6923 - accuracy: 0.5192skip\n",
            "   9114/Unknown - 4053s 445ms/step - loss: 0.6923 - accuracy: 0.5195skip\n",
            "   9523/Unknown - 4235s 445ms/step - loss: 0.6923 - accuracy: 0.5197skip\n",
            "   9584/Unknown - 4262s 445ms/step - loss: 0.6923 - accuracy: 0.5197skip\n",
            "   9644/Unknown - 4288s 445ms/step - loss: 0.6923 - accuracy: 0.5199skip\n",
            "   9649/Unknown - 4290s 445ms/step - loss: 0.6923 - accuracy: 0.5199skip\n",
            "   9703/Unknown - 4314s 445ms/step - loss: 0.6922 - accuracy: 0.5201skip\n",
            "   9864/Unknown - 4386s 445ms/step - loss: 0.6922 - accuracy: 0.5202skip\n",
            "  10010/Unknown - 4450s 445ms/step - loss: 0.6922 - accuracy: 0.5203skip\n",
            "  10444/Unknown - 4642s 444ms/step - loss: 0.6922 - accuracy: 0.5207skip\n",
            "  10535/Unknown - 4683s 445ms/step - loss: 0.6922 - accuracy: 0.5207skip\n",
            "  10545/Unknown - 4687s 445ms/step - loss: 0.6922 - accuracy: 0.5207skip\n",
            "  10613/Unknown - 4717s 444ms/step - loss: 0.6922 - accuracy: 0.5209skip\n",
            "  10740/Unknown - 4773s 444ms/step - loss: 0.6921 - accuracy: 0.5213skip\n",
            "  10751/Unknown - 4778s 444ms/step - loss: 0.6921 - accuracy: 0.5213skip\n",
            "  10753/Unknown - 4779s 444ms/step - loss: 0.6921 - accuracy: 0.5213skip\n",
            "  10811/Unknown - 4805s 444ms/step - loss: 0.6921 - accuracy: 0.5214skip\n",
            "  10851/Unknown - 4822s 444ms/step - loss: 0.6921 - accuracy: 0.5214skip\n",
            "skip\n",
            "  10869/Unknown - 4830s 444ms/step - loss: 0.6921 - accuracy: 0.5214skip\n",
            "  10877/Unknown - 4834s 444ms/step - loss: 0.6921 - accuracy: 0.5214skip\n",
            "  10979/Unknown - 4879s 444ms/step - loss: 0.6921 - accuracy: 0.5217skip\n",
            "  11125/Unknown - 4944s 444ms/step - loss: 0.6921 - accuracy: 0.5216\n",
            "  11249/Unknown - 4999s 444ms/step - loss: 0.6921 - accuracy: 0.5217skip\n",
            "  11271/Unknownskip\n",
            "  11450/Unknown - 5088s 444ms/step - loss: 0.6921 - accuracy: 0.5220skip\n",
            "  11496/Unknown - 5109s 444ms/step - loss: 0.6921 - accuracy: 0.5220skip\n",
            "  11587/Unknown - 5149s 444ms/step - loss: 0.6920 - accuracy: 0.5223skip\n",
            "  11603/Unknown - 5157s 444ms/step - loss: 0.6920 - accuracy: 0.5223skip\n",
            "  11676/Unknown - 5189s 444ms/step - loss: 0.6920 - accuracy: 0.5225skip\n",
            "  11714/Unknown - 5206s 444ms/step - loss: 0.6920 - accuracy: 0.5227skip\n",
            "  11777/Unknown - 5234s 444ms/step - loss: 0.6920 - accuracy: 0.5229skip\n",
            "  11786/Unknown - 5238s 444ms/step - loss: 0.6920 - accuracy: 0.5229skip\n",
            "  11956/Unknown - 5314s 444ms/step - loss: 0.6920 - accuracy: 0.5231skip\n",
            "  11957/Unknown - 5314s 444ms/step - loss: 0.6920 - accuracy: 0.5231skip\n",
            "  12023/Unknown - 5344s 444ms/step - loss: 0.6920 - accuracy: 0.5231skip\n",
            "  12044/Unknown - 5353s 444ms/step - loss: 0.6920 - accuracy: 0.5231skip\n",
            "  12234/Unknown - 5437s 444ms/step - loss: 0.6919 - accuracy: 0.5235skip\n",
            "  12282/Unknown - 5459s 444ms/step - loss: 0.6919 - accuracy: 0.5235skip\n",
            "  12357/Unknown - 5492s 444ms/step - loss: 0.6919 - accuracy: 0.5234skip\n",
            "  12436/Unknown - 5527s 444ms/step - loss: 0.6919 - accuracy: 0.5234skip\n",
            "  12474/Unknown - 5544s 444ms/step - loss: 0.6919 - accuracy: 0.5234skip\n",
            "  12491/Unknown - 5551s 444ms/step - loss: 0.6919 - accuracy: 0.5235skip\n",
            "  12515/Unknown - 5562s 444ms/step - loss: 0.6919 - accuracy: 0.5235skip\n",
            "  12695/Unknown - 5642s 444ms/step - loss: 0.6919 - accuracy: 0.5236skip\n",
            "  12838/Unknown - 5705s 444ms/step - loss: 0.6919 - accuracy: 0.5237skip\n",
            "  12842/Unknown - 5707s 444ms/step - loss: 0.6919 - accuracy: 0.5237skip\n",
            "  12862/Unknown - 5716s 444ms/step - loss: 0.6919 - accuracy: 0.5237skip\n",
            "  12863/Unknown - 5716s 444ms/step - loss: 0.6919 - accuracy: 0.5237skip\n",
            "  12885/Unknown - 5726s 444ms/step - loss: 0.6919 - accuracy: 0.5238skip\n",
            "skip\n",
            "  12962/Unknown - 5760s 444ms/step - loss: 0.6919 - accuracy: 0.5240skip\n",
            "  12968/Unknown - 5762s 444ms/step - loss: 0.6919 - accuracy: 0.5241skip\n",
            "  12980/Unknown - 5768s 444ms/step - loss: 0.6919 - accuracy: 0.5241skip\n",
            "  12990/Unknown - 5772s 444ms/step - loss: 0.6919 - accuracy: 0.5241skip\n",
            "  13113/Unknown - 5826s 444ms/step - loss: 0.6918 - accuracy: 0.5244skip\n",
            "  13127/Unknown - 5833s 444ms/step - loss: 0.6918 - accuracy: 0.5244skip\n",
            "  13371/Unknown - 5941s 444ms/step - loss: 0.6918 - accuracy: 0.5247skip\n",
            "  13865/Unknown - 6159s 444ms/step - loss: 0.6918 - accuracy: 0.5250skip\n",
            "  14129/Unknown - 6277s 444ms/step - loss: 0.6918 - accuracy: 0.5251skip\n",
            "  14149/Unknown - 6286s 444ms/step - loss: 0.6918 - accuracy: 0.5251skip\n",
            "  14180/Unknown - 6300s 444ms/step - loss: 0.6918 - accuracy: 0.5252skip\n",
            "  14202/Unknown - 6309s 444ms/step - loss: 0.6918 - accuracy: 0.5252skip\n",
            "  14210/Unknown - 6313s 444ms/step - loss: 0.6918 - accuracy: 0.5252skip\n",
            "  14292/Unknown - 6349s 444ms/step - loss: 0.6918 - accuracy: 0.5253skip\n",
            "  14310/Unknown - 6357s 444ms/step - loss: 0.6918 - accuracy: 0.5254skip\n",
            "  14437/Unknown - 6413s 444ms/step - loss: 0.6918 - accuracy: 0.5254skip\n",
            "  14496/Unknown - 6439s 444ms/step - loss: 0.6918 - accuracy: 0.5253skip\n",
            "  14529/Unknown - 6454s 444ms/step - loss: 0.6918 - accuracy: 0.5253skip\n",
            "  14585/Unknown - 6479s 444ms/step - loss: 0.6917 - accuracy: 0.5254skip\n",
            "  14637/Unknown - 6502s 444ms/step - loss: 0.6917 - accuracy: 0.5255skip\n",
            "  14679/Unknown - 6520s 444ms/step - loss: 0.6917 - accuracy: 0.5256skip\n",
            "  14771/Unknown - 6561s 444ms/step - loss: 0.6917 - accuracy: 0.5258skip\n",
            "  14844/Unknown - 6593s 444ms/step - loss: 0.6917 - accuracy: 0.5259skip\n",
            "  15038/Unknown - 6680s 444ms/step - loss: 0.6917 - accuracy: 0.5263skip\n",
            "  15058/Unknown - 6689s 444ms/step - loss: 0.6917 - accuracy: 0.5263skip\n",
            "  15068/Unknown - 6693s 444ms/step - loss: 0.6917 - accuracy: 0.5263skip\n",
            "  15154/Unknown - 6731s 444ms/step - loss: 0.6917 - accuracy: 0.5263skip\n",
            "  15495/Unknown - 6884s 444ms/step - loss: 0.6916 - accuracy: 0.5269skip\n",
            "  15515/Unknown - 6893s 444ms/step - loss: 0.6916 - accuracy: 0.5270skip\n",
            "skip\n",
            "  15723/Unknown - 6985s 444ms/step - loss: 0.6916 - accuracy: 0.5273skip\n",
            "  15836/Unknown - 7035s 444ms/step - loss: 0.6915 - accuracy: 0.5276skip\n",
            "  15894/Unknown - 7061s 444ms/step - loss: 0.6915 - accuracy: 0.5276skip\n",
            "  15959/Unknown - 7090s 444ms/step - loss: 0.6915 - accuracy: 0.5276skip\n",
            "  15975/Unknown - 7097s 444ms/step - loss: 0.6915 - accuracy: 0.5276skip\n",
            "  16058/Unknown - 7134s 444ms/step - loss: 0.6915 - accuracy: 0.5278skip\n",
            "  16114/Unknown - 7159s 444ms/step - loss: 0.6915 - accuracy: 0.5278skip\n",
            "  16143/Unknown - 7172s 444ms/step - loss: 0.6915 - accuracy: 0.5279skip\n",
            "  16172/Unknown - 7186s 444ms/step - loss: 0.6915 - accuracy: 0.5279skip\n",
            "  16275/Unknown - 7231s 444ms/step - loss: 0.6915 - accuracy: 0.5281skip\n",
            "  16282/Unknown - 7234s 444ms/step - loss: 0.6915 - accuracy: 0.5281skip\n",
            "  16342/Unknown - 7261s 444ms/step - loss: 0.6915 - accuracy: 0.5281skip\n",
            "  16516/Unknown - 7338s 444ms/step - loss: 0.6915 - accuracy: 0.5282skip\n",
            "  16639/Unknown - 7392s 444ms/step - loss: 0.6915 - accuracy: 0.5285skip\n",
            "  16691/Unknown - 7415s 444ms/step - loss: 0.6914 - accuracy: 0.5286skip\n",
            "  16705/Unknown - 7422s 444ms/step - loss: 0.6914 - accuracy: 0.5286skip\n",
            "  16761/Unknown - 7446s 444ms/step - loss: 0.6914 - accuracy: 0.5287skip\n",
            "  16946/Unknown - 7528s 444ms/step - loss: 0.6914 - accuracy: 0.5292skip\n",
            "  16988/Unknown - 7547s 444ms/step - loss: 0.6914 - accuracy: 0.5293skip\n",
            "  17069/Unknown - 7583s 444ms/step - loss: 0.6913 - accuracy: 0.5296skip\n",
            "  17238/Unknown - 7658s 444ms/step - loss: 0.6913 - accuracy: 0.5298skip\n",
            "  17252/Unknown - 7664s 444ms/step - loss: 0.6913 - accuracy: 0.5298skip\n",
            "  17659/Unknown - 7845s 444ms/step - loss: 0.6913 - accuracy: 0.5301skip\n",
            "  17694/Unknown - 7861s 444ms/step - loss: 0.6913 - accuracy: 0.5302skip\n",
            "  17761/Unknown - 7890s 444ms/step - loss: 0.6913 - accuracy: 0.5303skip\n",
            "  17770/Unknown - 7894s 444ms/step - loss: 0.6913 - accuracy: 0.5303skip\n",
            "  17889/Unknown - 7947s 444ms/step - loss: 0.6913 - accuracy: 0.5304skip\n",
            "  17904/Unknown - 7954s 444ms/step - loss: 0.6913 - accuracy: 0.5304skip\n",
            "  17951/Unknown - 7975s 444ms/step - loss: 0.6912 - accuracy: 0.5304skip\n",
            "  18090/Unknown - 8037s 444ms/step - loss: 0.6912 - accuracy: 0.5307skip\n",
            "  18103/Unknown - 8043s 444ms/step - loss: 0.6912 - accuracy: 0.5308skip\n",
            "  18123/Unknown - 8052s 444ms/step - loss: 0.6912 - accuracy: 0.5308skip\n",
            "  18145/Unknown - 8062s 444ms/step - loss: 0.6912 - accuracy: 0.5308skip\n",
            "  18149/Unknown - 8063s 444ms/step - loss: 0.6912 - accuracy: 0.5309skip\n",
            "  18240/Unknown - 8104s 444ms/step - loss: 0.6912 - accuracy: 0.5310skip\n",
            "  18394/Unknown - 8172s 444ms/step - loss: 0.6912 - accuracy: 0.5312skip\n",
            "  18405/Unknown - 8177s 444ms/step - loss: 0.6912 - accuracy: 0.5312skip\n",
            "  18426/Unknown - 8187s 444ms/step - loss: 0.6912 - accuracy: 0.5313skip\n",
            "  18594/Unknown - 8261s 444ms/step - loss: 0.6911 - accuracy: 0.5314skip\n",
            "  18602/Unknown - 8264s 444ms/step - loss: 0.6911 - accuracy: 0.5314skip\n",
            "  18603/Unknown - 8265s 444ms/step - loss: 0.6911 - accuracy: 0.5314skip\n",
            "  18614/Unknown - 8270s 444ms/step - loss: 0.6911 - accuracy: 0.5314skip\n",
            "  18616/Unknown - 8271s 444ms/step - loss: 0.6911 - accuracy: 0.5314skip\n",
            "  18617/Unknown - 8271s 444ms/step - loss: 0.6911 - accuracy: 0.5314skip\n",
            "  18649/Unknown - 8285s 444ms/step - loss: 0.6911 - accuracy: 0.5315skip\n",
            "  18679/Unknown - 8299s 444ms/step - loss: 0.6911 - accuracy: 0.5315skip\n",
            "  18920/Unknown - 8406s 444ms/step - loss: 0.6911 - accuracy: 0.5319skip\n",
            "  18955/Unknown - 8422s 444ms/step - loss: 0.6911 - accuracy: 0.5319skip\n",
            "  19147/Unknown - 8507s 444ms/step - loss: 0.6911 - accuracy: 0.5319skip\n",
            "  19185/Unknown - 8524s 444ms/step - loss: 0.6911 - accuracy: 0.5320skip\n",
            "  19461/Unknown - 8646s 444ms/step - loss: 0.6910 - accuracy: 0.5324skip\n",
            "  19464/Unknown - 8648s 444ms/step - loss: 0.6910 - accuracy: 0.5324skip\n",
            "  19466/Unknown - 8649s 444ms/step - loss: 0.6910 - accuracy: 0.5324skip\n",
            "  19505/Unknown - 8666s 444ms/step - loss: 0.6910 - accuracy: 0.5325skip\n",
            "  19763/Unknown - 8781s 444ms/step - loss: 0.6910 - accuracy: 0.5325skip\n",
            "  19775/Unknown - 8786s 444ms/step - loss: 0.6910 - accuracy: 0.5325skip\n",
            "  19813/Unknown - 8803s 444ms/step - loss: 0.6910 - accuracy: 0.5325skip\n",
            "  19842/Unknown - 8816s 444ms/step - loss: 0.6910 - accuracy: 0.5325skip\n",
            "  19874/Unknown - 8830s 444ms/step - loss: 0.6910 - accuracy: 0.5325skip\n",
            "  19930/Unknown - 8855s 444ms/step - loss: 0.6910 - accuracy: 0.5326skip\n",
            "  19946/Unknown - 8862s 444ms/step - loss: 0.6910 - accuracy: 0.5326skip\n",
            "  20011/Unknown - 8891s 444ms/step - loss: 0.6910 - accuracy: 0.5327skip\n",
            "  20102/Unknown - 8931s 444ms/step - loss: 0.6910 - accuracy: 0.5327skip\n",
            "  20186/Unknown - 8968s 444ms/step - loss: 0.6910 - accuracy: 0.5327skip\n",
            "  20486/Unknown - 9103s 444ms/step - loss: 0.6910 - accuracy: 0.5326skip\n",
            "  20500/Unknown - 9109s 444ms/step - loss: 0.6910 - accuracy: 0.5326skip\n",
            "  20539/Unknown - 9126s 444ms/step - loss: 0.6910 - accuracy: 0.5327skip\n",
            "  20545/Unknown - 9129s 444ms/step - loss: 0.6910 - accuracy: 0.5327skip\n",
            "  20561/Unknown - 9136s 444ms/step - loss: 0.6910 - accuracy: 0.5327skip\n",
            "  20566/Unknown - 9138s 444ms/step - loss: 0.6910 - accuracy: 0.5327skip\n",
            "  20603/Unknown - 9155s 444ms/step - loss: 0.6910 - accuracy: 0.5328skip\n",
            "  20668/Unknown - 9184s 444ms/step - loss: 0.6910 - accuracy: 0.5328skip\n",
            "  20705/Unknown - 9200s 444ms/step - loss: 0.6910 - accuracy: 0.5328skip\n",
            "  20776/Unknown - 9232s 444ms/step - loss: 0.6909 - accuracy: 0.5329skip\n",
            "  20815/Unknown - 9249s 444ms/step - loss: 0.6909 - accuracy: 0.5329skip\n",
            "  20825/Unknown - 9253s 444ms/step - loss: 0.6909 - accuracy: 0.5329skip\n",
            "  21039/Unknown - 9349s 444ms/step - loss: 0.6909 - accuracy: 0.5329skip\n",
            "  21158/Unknown - 9401s 444ms/step - loss: 0.6909 - accuracy: 0.5331skip\n",
            "  21204/Unknown - 9422s 444ms/step - loss: 0.6909 - accuracy: 0.5332skip\n",
            "  21223/Unknown - 9430s 444ms/step - loss: 0.6909 - accuracy: 0.5332skip\n",
            "  21242/Unknown - 9439s 444ms/step - loss: 0.6909 - accuracy: 0.5333skip\n",
            "  21378/Unknown - 9499s 444ms/step - loss: 0.6909 - accuracy: 0.5334skip\n",
            "  21385/Unknown - 9502s 444ms/step - loss: 0.6909 - accuracy: 0.5334skip\n",
            "  21417/Unknown - 9517s 444ms/step - loss: 0.6909 - accuracy: 0.5335skip\n",
            "  22049/Unknown - 9798s 444ms/step - loss: 0.6909 - accuracy: 0.5336skip\n",
            "  22065/Unknown - 9806s 444ms/step - loss: 0.6909 - accuracy: 0.5336skip\n",
            "  22202/Unknown - 9867s 444ms/step - loss: 0.6908 - accuracy: 0.5337skip\n",
            "  22204/Unknown - 9868s 444ms/step - loss: 0.6908 - accuracy: 0.5337skip\n",
            "  22296/Unknown - 9909s 444ms/step - loss: 0.6908 - accuracy: 0.5337skip\n",
            "  22494/Unknown - 9997s 444ms/step - loss: 0.6908 - accuracy: 0.5336skip\n",
            "  22698/Unknown - 10087s 444ms/step - loss: 0.6908 - accuracy: 0.5339skip\n",
            "  22799/Unknown - 10132s 444ms/step - loss: 0.6908 - accuracy: 0.5339skip\n",
            "  22828/Unknown - 10145s 444ms/step - loss: 0.6908 - accuracy: 0.5340skip\n",
            "  22917/Unknown - 10184s 444ms/step - loss: 0.6908 - accuracy: 0.5341skip\n",
            "  22930/Unknown - 10190s 444ms/step - loss: 0.6908 - accuracy: 0.5341skip\n",
            "  22980/Unknown - 10212s 444ms/step - loss: 0.6908 - accuracy: 0.5342skip\n",
            "  23000/Unknown - 10221s 444ms/step - loss: 0.6908 - accuracy: 0.5342skip\n",
            "  23112/Unknown - 10271s 444ms/step - loss: 0.6908 - accuracy: 0.5343skip\n",
            "  23186/Unknown - 10304s 444ms/step - loss: 0.6907 - accuracy: 0.5344skip\n",
            "  23325/Unknown - 10366s 444ms/step - loss: 0.6907 - accuracy: 0.5345skip\n",
            "  23388/Unknown - 10393s 444ms/step - loss: 0.6907 - accuracy: 0.5346skip\n",
            "  23521/Unknown - 10452s 444ms/step - loss: 0.6907 - accuracy: 0.5347skip\n",
            "  23696/Unknown - 10530s 444ms/step - loss: 0.6907 - accuracy: 0.5346skip\n",
            "  23721/Unknown - 10541s 444ms/step - loss: 0.6907 - accuracy: 0.5346skip\n",
            "  23784/Unknown - 10569s 444ms/step - loss: 0.6907 - accuracy: 0.5347skip\n",
            "  24081/Unknown - 10703s 444ms/step - loss: 0.6907 - accuracy: 0.5347skip\n",
            "  24340/Unknown - 10820s 445ms/step - loss: 0.6907 - accuracy: 0.5348skip\n",
            "  24375/Unknown - 10835s 445ms/step - loss: 0.6907 - accuracy: 0.5348skip\n",
            "  24409/Unknown - 10850s 445ms/step - loss: 0.6907 - accuracy: 0.5348skip\n",
            "  24414/Unknown - 10853s 445ms/step - loss: 0.6907 - accuracy: 0.5348skip\n",
            "  24425/Unknown - 10858s 445ms/step - loss: 0.6907 - accuracy: 0.5348skip\n",
            "  24478/Unknown - 10882s 445ms/step - loss: 0.6907 - accuracy: 0.5349skip\n",
            "  24489/Unknown - 10887s 445ms/step - loss: 0.6907 - accuracy: 0.5349skip\n",
            "  24509/Unknown - 10896s 445ms/step - loss: 0.6907 - accuracy: 0.5349skip\n",
            "  24896/Unknown - 11069s 445ms/step - loss: 0.6906 - accuracy: 0.5350skip\n",
            "  24898/Unknown - 11070s 445ms/step - loss: 0.6906 - accuracy: 0.5350skip\n",
            "  25032/Unknown - 11129s 445ms/step - loss: 0.6906 - accuracy: 0.5350skip\n",
            "  25105/Unknown - 11162s 445ms/step - loss: 0.6906 - accuracy: 0.5350skip\n",
            "  25110/Unknown - 11164s 445ms/step - loss: 0.6906 - accuracy: 0.5350skip\n",
            "  25236/Unknown - 11222s 445ms/step - loss: 0.6906 - accuracy: 0.5351skip\n",
            "  25289/Unknown - 11245s 445ms/step - loss: 0.6906 - accuracy: 0.5352skip\n",
            "  25337/Unknown - 11267s 445ms/step - loss: 0.6906 - accuracy: 0.5352skip\n",
            "  25360/Unknown - 11277s 445ms/step - loss: 0.6906 - accuracy: 0.5353skip\n",
            "  25393/Unknown - 11292s 445ms/step - loss: 0.6906 - accuracy: 0.5353skip\n",
            "  25445/Unknown - 11316s 445ms/step - loss: 0.6906 - accuracy: 0.5354skip\n",
            "  25453/Unknown - 11319s 445ms/step - loss: 0.6906 - accuracy: 0.5354skip\n",
            "  25460/Unknown - 11322s 445ms/step - loss: 0.6906 - accuracy: 0.5354skip\n",
            "  25576/Unknown - 11375s 445ms/step - loss: 0.6906 - accuracy: 0.5355skip\n",
            "  25635/Unknown - 11402s 445ms/step - loss: 0.6906 - accuracy: 0.5355skip\n",
            "  25787/Unknown - 11470s 445ms/step - loss: 0.6905 - accuracy: 0.5356skip\n",
            "  25903/Unknown - 11523s 445ms/step - loss: 0.6905 - accuracy: 0.5358skip\n",
            "  25986/Unknown - 11561s 445ms/step - loss: 0.6905 - accuracy: 0.5358skip\n",
            "  26023/Unknown - 11577s 445ms/step - loss: 0.6905 - accuracy: 0.5358skip\n",
            "  26153/Unknown - 11636s 445ms/step - loss: 0.6905 - accuracy: 0.5359skip\n",
            "  26160/Unknown - 11639s 445ms/step - loss: 0.6905 - accuracy: 0.5359skip\n",
            "  26264/Unknown - 11686s 445ms/step - loss: 0.6905 - accuracy: 0.5359skip\n",
            "  26299/Unknown - 11702s 445ms/step - loss: 0.6905 - accuracy: 0.5358skip\n",
            "  26304/Unknown - 11704s 445ms/step - loss: 0.6905 - accuracy: 0.5358skip\n",
            "  26309/Unknown - 11707s 445ms/step - loss: 0.6905 - accuracy: 0.5358skip\n",
            "  26310/Unknown - 11707s 445ms/step - loss: 0.6905 - accuracy: 0.5358skip\n",
            "  26482/Unknown - 11785s 445ms/step - loss: 0.6905 - accuracy: 0.5357skip\n",
            "  26544/Unknown - 11813s 445ms/step - loss: 0.6905 - accuracy: 0.5357skip\n",
            "  26771/Unknown - 11916s 445ms/step - loss: 0.6905 - accuracy: 0.5357skip\n",
            "  26827/Unknown - 11942s 445ms/step - loss: 0.6905 - accuracy: 0.5357skip\n",
            "  26831/Unknown - 11943s 445ms/step - loss: 0.6905 - accuracy: 0.5357skip\n",
            "  27021/Unknown - 12029s 445ms/step - loss: 0.6904 - accuracy: 0.5360skip\n",
            "  27022/Unknown - 12030s 445ms/step - loss: 0.6904 - accuracy: 0.5360skip\n",
            "  27069/Unknown - 12051s 445ms/step - loss: 0.6904 - accuracy: 0.5361skip\n",
            "  27100/Unknown - 12065s 445ms/step - loss: 0.6904 - accuracy: 0.5360skip\n",
            "  27144/Unknown - 12085s 445ms/step - loss: 0.6904 - accuracy: 0.5360skip\n",
            "  27249/Unknown - 12133s 445ms/step - loss: 0.6904 - accuracy: 0.5360skip\n",
            "  27451/Unknown - 12225s 445ms/step - loss: 0.6905 - accuracy: 0.5358skip\n",
            "  27507/Unknown - 12250s 445ms/step - loss: 0.6904 - accuracy: 0.5359skip\n",
            "  27540/Unknown - 12265s 445ms/step - loss: 0.6904 - accuracy: 0.5360skip\n",
            "  27576/Unknown - 12282s 445ms/step - loss: 0.6904 - accuracy: 0.5360skip\n",
            "  27647/Unknown - 12314s 445ms/step - loss: 0.6904 - accuracy: 0.5361skip\n",
            "  27714/Unknown - 12344s 445ms/step - loss: 0.6904 - accuracy: 0.5361skip\n",
            "  27881/Unknown - 12420s 445ms/step - loss: 0.6904 - accuracy: 0.5363skip\n",
            "  27903/Unknown - 12430s 445ms/step - loss: 0.6904 - accuracy: 0.5364skip\n",
            "28022/28022 [==============================] - 12481s 445ms/step - loss: 0.6904 - accuracy: 0.5364\n"
          ],
          "name": "stdout"
        }
      ]
    },
    {
      "cell_type": "code",
      "metadata": {
        "id": "CTNSASD9iNQY",
        "colab_type": "code",
        "colab": {}
      },
      "source": [
        ""
      ],
      "execution_count": null,
      "outputs": []
    }
  ]
}