{
  "nbformat": 4,
  "nbformat_minor": 0,
  "metadata": {
    "colab": {
      "name": "lstm_(supervised)_viridae_reserving front.ipynb",
      "provenance": [],
      "collapsed_sections": [],
      "authorship_tag": "ABX9TyP0CZ6AFzBCx60BLopulpjn",
      "include_colab_link": true
    },
    "kernelspec": {
      "name": "python3",
      "display_name": "Python 3"
    },
    "accelerator": "GPU"
  },
  "cells": [
    {
      "cell_type": "markdown",
      "metadata": {
        "id": "view-in-github",
        "colab_type": "text"
      },
      "source": [
        "<a href=\"https://colab.research.google.com/github/csy99/dna-nn-theory/blob/master/lstm_(supervised)_viridae_reserving_front.ipynb\" target=\"_parent\"><img src=\"https://colab.research.google.com/assets/colab-badge.svg\" alt=\"Open In Colab\"/></a>"
      ]
    },
    {
      "cell_type": "code",
      "metadata": {
        "id": "FiSO3GWw8FWG"
      },
      "source": [
        "import numpy as np\n",
        "import pandas as pd\n",
        "import matplotlib\n",
        "import matplotlib.pyplot as plt\n",
        "from itertools import product\n",
        "import re\n",
        "import time\n",
        "import tensorflow as tf\n",
        "from tensorflow import keras"
      ],
      "execution_count": 1,
      "outputs": []
    },
    {
      "cell_type": "markdown",
      "metadata": {
        "id": "GuvNh5Ia8vvD"
      },
      "source": [
        "# Read Data"
      ]
    },
    {
      "cell_type": "code",
      "metadata": {
        "id": "H5SYc4iv-RPC",
        "outputId": "adf1048e-446c-4b8d-c25e-5d546a055d88",
        "colab": {
          "base_uri": "https://localhost:8080/",
          "height": 307
        }
      },
      "source": [
        "!pip install PyDrive\n",
        "from google.colab import drive\n",
        "drive.mount('/content/gdrive')"
      ],
      "execution_count": 2,
      "outputs": [
        {
          "output_type": "stream",
          "text": [
            "Requirement already satisfied: PyDrive in /usr/local/lib/python3.6/dist-packages (1.3.1)\n",
            "Requirement already satisfied: oauth2client>=4.0.0 in /usr/local/lib/python3.6/dist-packages (from PyDrive) (4.1.3)\n",
            "Requirement already satisfied: google-api-python-client>=1.2 in /usr/local/lib/python3.6/dist-packages (from PyDrive) (1.7.12)\n",
            "Requirement already satisfied: PyYAML>=3.0 in /usr/local/lib/python3.6/dist-packages (from PyDrive) (3.13)\n",
            "Requirement already satisfied: pyasn1-modules>=0.0.5 in /usr/local/lib/python3.6/dist-packages (from oauth2client>=4.0.0->PyDrive) (0.2.8)\n",
            "Requirement already satisfied: pyasn1>=0.1.7 in /usr/local/lib/python3.6/dist-packages (from oauth2client>=4.0.0->PyDrive) (0.4.8)\n",
            "Requirement already satisfied: rsa>=3.1.4 in /usr/local/lib/python3.6/dist-packages (from oauth2client>=4.0.0->PyDrive) (4.6)\n",
            "Requirement already satisfied: httplib2>=0.9.1 in /usr/local/lib/python3.6/dist-packages (from oauth2client>=4.0.0->PyDrive) (0.17.4)\n",
            "Requirement already satisfied: six>=1.6.1 in /usr/local/lib/python3.6/dist-packages (from oauth2client>=4.0.0->PyDrive) (1.15.0)\n",
            "Requirement already satisfied: uritemplate<4dev,>=3.0.0 in /usr/local/lib/python3.6/dist-packages (from google-api-python-client>=1.2->PyDrive) (3.0.1)\n",
            "Requirement already satisfied: google-auth>=1.4.1 in /usr/local/lib/python3.6/dist-packages (from google-api-python-client>=1.2->PyDrive) (1.17.2)\n",
            "Requirement already satisfied: google-auth-httplib2>=0.0.3 in /usr/local/lib/python3.6/dist-packages (from google-api-python-client>=1.2->PyDrive) (0.0.4)\n",
            "Requirement already satisfied: setuptools>=40.3.0 in /usr/local/lib/python3.6/dist-packages (from google-auth>=1.4.1->google-api-python-client>=1.2->PyDrive) (50.3.0)\n",
            "Requirement already satisfied: cachetools<5.0,>=2.0.0 in /usr/local/lib/python3.6/dist-packages (from google-auth>=1.4.1->google-api-python-client>=1.2->PyDrive) (4.1.1)\n",
            "Mounted at /content/gdrive\n"
          ],
          "name": "stdout"
        }
      ]
    },
    {
      "cell_type": "code",
      "metadata": {
        "id": "GTavNzohPEjl",
        "outputId": "1bf34e8a-684a-4a0b-8b48-62332af603b9",
        "colab": {
          "base_uri": "https://localhost:8080/",
          "height": 202
        }
      },
      "source": [
        "data_path = '/content/gdrive/My Drive/Colab Notebooks/viridae/'\n",
        "records_df = pd.read_csv(data_path + 'clean.csv')\n",
        "# replace all '-' with N (stands for any nt)\n",
        "records_df.seq = records_df.seq.str.replace('-', 'N')\n",
        "records_df.head()"
      ],
      "execution_count": 3,
      "outputs": [
        {
          "output_type": "execute_result",
          "data": {
            "text/html": [
              "<div>\n",
              "<style scoped>\n",
              "    .dataframe tbody tr th:only-of-type {\n",
              "        vertical-align: middle;\n",
              "    }\n",
              "\n",
              "    .dataframe tbody tr th {\n",
              "        vertical-align: top;\n",
              "    }\n",
              "\n",
              "    .dataframe thead th {\n",
              "        text-align: right;\n",
              "    }\n",
              "</style>\n",
              "<table border=\"1\" class=\"dataframe\">\n",
              "  <thead>\n",
              "    <tr style=\"text-align: right;\">\n",
              "      <th></th>\n",
              "      <th>id</th>\n",
              "      <th>seq</th>\n",
              "      <th>label</th>\n",
              "    </tr>\n",
              "  </thead>\n",
              "  <tbody>\n",
              "    <tr>\n",
              "      <th>0</th>\n",
              "      <td>NC_036588.1</td>\n",
              "      <td>NNNNNNNNNNNNNNNNNNNNNNNNNNNNNNNNNNNNNNNNNNNNNN...</td>\n",
              "      <td>0</td>\n",
              "    </tr>\n",
              "    <tr>\n",
              "      <th>1</th>\n",
              "      <td>NC_014412.1</td>\n",
              "      <td>NNNNNNNNNNNNNNNNNNNNNNNNNNNNNNNNNNNNNNNNNNNNNN...</td>\n",
              "      <td>0</td>\n",
              "    </tr>\n",
              "    <tr>\n",
              "      <th>2</th>\n",
              "      <td>NC_014413.1</td>\n",
              "      <td>GNNNNNNNNNNNNNNNNNNNNNNNNNNNNNNNNNNNNNNNNNNNNN...</td>\n",
              "      <td>0</td>\n",
              "    </tr>\n",
              "    <tr>\n",
              "      <th>3</th>\n",
              "      <td>NC_025890.1</td>\n",
              "      <td>NNNNNNNNNNNNNNNNNNNNNNNNNNNNNNNNNNNNNNNNNNNNNN...</td>\n",
              "      <td>0</td>\n",
              "    </tr>\n",
              "    <tr>\n",
              "      <th>4</th>\n",
              "      <td>NC_023162.1</td>\n",
              "      <td>NNNNNNNNNNNNNNNNNNNNNNNNNNNNNNNNNNNNNNNNNNNNNN...</td>\n",
              "      <td>0</td>\n",
              "    </tr>\n",
              "  </tbody>\n",
              "</table>\n",
              "</div>"
            ],
            "text/plain": [
              "            id                                                seq  label\n",
              "0  NC_036588.1  NNNNNNNNNNNNNNNNNNNNNNNNNNNNNNNNNNNNNNNNNNNNNN...      0\n",
              "1  NC_014412.1  NNNNNNNNNNNNNNNNNNNNNNNNNNNNNNNNNNNNNNNNNNNNNN...      0\n",
              "2  NC_014413.1  GNNNNNNNNNNNNNNNNNNNNNNNNNNNNNNNNNNNNNNNNNNNNN...      0\n",
              "3  NC_025890.1  NNNNNNNNNNNNNNNNNNNNNNNNNNNNNNNNNNNNNNNNNNNNNN...      0\n",
              "4  NC_023162.1  NNNNNNNNNNNNNNNNNNNNNNNNNNNNNNNNNNNNNNNNNNNNNN...      0"
            ]
          },
          "metadata": {
            "tags": []
          },
          "execution_count": 3
        }
      ]
    },
    {
      "cell_type": "code",
      "metadata": {
        "id": "h_IFMicpqYIl",
        "outputId": "ae529635-1610-4d54-9c86-327a9f97782a",
        "colab": {
          "base_uri": "https://localhost:8080/",
          "height": 89
        }
      },
      "source": [
        "seq_num = 0\n",
        "for seq in records_df[\"seq\"]:\n",
        "  char_num = 0\n",
        "  for char in seq:\n",
        "    if char != 'A' and char != 'C' and char != 'T' and char != 'G' and char != 'N':\n",
        "      print(\"seq\", seq_num, 'char', char_num, 'is', char)\n",
        "    char_num += 1\n",
        "  seq_num += 1"
      ],
      "execution_count": null,
      "outputs": [
        {
          "output_type": "stream",
          "text": [
            "seq 67 char 3290 is R\n",
            "seq 67 char 3858 is R\n",
            "seq 82 char 1766 is Y\n",
            "seq 241 char 2298 is R\n"
          ],
          "name": "stdout"
        }
      ]
    },
    {
      "cell_type": "code",
      "metadata": {
        "id": "myCtGYFV37Re"
      },
      "source": [
        "records_df.seq = records_df.seq.str.replace('R', 'N')\n",
        "records_df.seq = records_df.seq.str.replace('Y', 'N')"
      ],
      "execution_count": 4,
      "outputs": []
    },
    {
      "cell_type": "code",
      "metadata": {
        "id": "irkxCCLOZ7du"
      },
      "source": [
        "LEN = 2449\n",
        "records_df.seq = records_df.seq.str[:LEN]"
      ],
      "execution_count": 5,
      "outputs": []
    },
    {
      "cell_type": "code",
      "metadata": {
        "id": "lSFFjXSJP88L",
        "outputId": "f47a1126-da3c-4a04-9c65-894aed5cdba4",
        "colab": {
          "base_uri": "https://localhost:8080/",
          "height": 35
        }
      },
      "source": [
        "# check if the length of the sequence is the same \n",
        "seq_len = len(records_df.seq[0])\n",
        "print(\"The length of the sequence is\", seq_len)\n",
        "for seq in records_df.seq[:200]:\n",
        "  assert len(seq) == seq_len"
      ],
      "execution_count": 6,
      "outputs": [
        {
          "output_type": "stream",
          "text": [
            "The length of the sequence is 2449\n"
          ],
          "name": "stdout"
        }
      ]
    },
    {
      "cell_type": "code",
      "metadata": {
        "id": "DiHtYnLfkcrz",
        "outputId": "568f3256-f1a7-429e-f575-3baba6d6bc1f",
        "colab": {
          "base_uri": "https://localhost:8080/",
          "height": 53
        }
      },
      "source": [
        "from sklearn.model_selection import train_test_split\n",
        "from sklearn.manifold import TSNE\n",
        "xtrain_full, xtest, ytrain_full, ytest = train_test_split(records_df, records_df.label, test_size=0.2, random_state=100, stratify=records_df.label)\n",
        "xtrain, xval, ytrain, yval = train_test_split(xtrain_full, ytrain_full, test_size=0.2, random_state=100, stratify=ytrain_full)\n",
        "print(\"shape of training, validation, test set\\n\", xtrain.shape, xval.shape, xtest.shape, ytrain.shape, yval.shape, ytest.shape)"
      ],
      "execution_count": 7,
      "outputs": [
        {
          "output_type": "stream",
          "text": [
            "shape of training, validation, test set\n",
            " (179, 3) (45, 3) (57, 3) (179,) (45,) (57,)\n"
          ],
          "name": "stdout"
        }
      ]
    },
    {
      "cell_type": "code",
      "metadata": {
        "id": "W2h9sGLCVtDn",
        "outputId": "c6ea7ee6-aab5-47ee-eebf-e732344c17fa",
        "colab": {
          "base_uri": "https://localhost:8080/",
          "height": 35
        }
      },
      "source": [
        "word_size = 1\n",
        "vocab = [''.join(p) for p in product('ACGTN', repeat=word_size)]\n",
        "# word_to_idx = {word: i for i, word in enumerate(vocab)}\n",
        "vocab_size = 5\n",
        "print('vocab_size:', vocab_size)\n",
        "# print(\"word_to_idx\", word_to_idx)\n",
        "create1gram = keras.layers.experimental.preprocessing.TextVectorization(\n",
        "  standardize=lambda x: tf.strings.regex_replace(x, '(.)', '\\\\1 '), ngrams=1\n",
        ")\n",
        "create1gram.adapt(vocab)"
      ],
      "execution_count": 8,
      "outputs": [
        {
          "output_type": "stream",
          "text": [
            "vocab_size: 5\n"
          ],
          "name": "stdout"
        }
      ]
    },
    {
      "cell_type": "code",
      "metadata": {
        "id": "EHPvs2BCU_Mk"
      },
      "source": [
        "def ds_preprocess(x, y):\n",
        "  x_index = tf.subtract(create1gram(x), 2)\n",
        "  return x_index, y"
      ],
      "execution_count": 9,
      "outputs": []
    },
    {
      "cell_type": "code",
      "metadata": {
        "id": "TFvsJkEa0YuT",
        "outputId": "7d498fdd-b15d-4050-fca4-1d0669fb51e2",
        "colab": {
          "base_uri": "https://localhost:8080/",
          "height": 35
        }
      },
      "source": [
        "# not sure the correct way to get mapping from word to its index\n",
        "create1gram('A C G T N') - 2"
      ],
      "execution_count": 10,
      "outputs": [
        {
          "output_type": "execute_result",
          "data": {
            "text/plain": [
              "<tf.Tensor: shape=(5,), dtype=int64, numpy=array([4, 3, 2, 0, 1])>"
            ]
          },
          "metadata": {
            "tags": []
          },
          "execution_count": 10
        }
      ]
    },
    {
      "cell_type": "code",
      "metadata": {
        "id": "jzLRmqEjSitl"
      },
      "source": [
        "BATCH_SIZE = 256\n",
        "xtrain_ds = tf.data.Dataset.from_tensor_slices((xtrain['seq'], ytrain)).map(ds_preprocess).batch(BATCH_SIZE)\n",
        "xval_ds = tf.data.Dataset.from_tensor_slices((xval['seq'], yval)).map(ds_preprocess).batch(BATCH_SIZE)\n",
        "xtest_ds = tf.data.Dataset.from_tensor_slices((xtest['seq'], ytest)).map(ds_preprocess).batch(BATCH_SIZE)"
      ],
      "execution_count": 11,
      "outputs": []
    },
    {
      "cell_type": "code",
      "metadata": {
        "id": "gVLaIchQUWQl",
        "outputId": "1d4519b6-b229-4e72-bfa3-4e1bc371b3a1",
        "colab": {
          "base_uri": "https://localhost:8080/",
          "height": 629
        }
      },
      "source": [
        "latent_size = 256\n",
        "\n",
        "model = keras.Sequential([\n",
        "    keras.Input(shape=(seq_len,)),\n",
        "    keras.layers.Embedding(seq_len, latent_size),\n",
        "    keras.layers.LSTM(latent_size, return_sequences=False),\n",
        "    keras.layers.Dense(256, activation=\"relu\"),\n",
        "    keras.layers.Dropout(0.2),\n",
        "    keras.layers.Dense(128, activation=\"relu\"),\n",
        "    keras.layers.Dropout(0.2),\n",
        "    keras.layers.Dense(64, activation=\"relu\"),    \n",
        "    keras.layers.Dropout(0.2),\n",
        "    keras.layers.Dense(32, activation=\"relu\"),  \n",
        "    keras.layers.Dropout(0.2), \n",
        "    keras.layers.Dense(16, activation=\"relu\"), \n",
        "    keras.layers.Dropout(0.2),   \n",
        "    keras.layers.Dense(1, activation=\"sigmoid\")                               \n",
        "])\n",
        "model.summary()"
      ],
      "execution_count": 12,
      "outputs": [
        {
          "output_type": "stream",
          "text": [
            "Model: \"sequential\"\n",
            "_________________________________________________________________\n",
            "Layer (type)                 Output Shape              Param #   \n",
            "=================================================================\n",
            "embedding (Embedding)        (None, 2449, 256)         626944    \n",
            "_________________________________________________________________\n",
            "lstm (LSTM)                  (None, 256)               525312    \n",
            "_________________________________________________________________\n",
            "dense (Dense)                (None, 256)               65792     \n",
            "_________________________________________________________________\n",
            "dropout (Dropout)            (None, 256)               0         \n",
            "_________________________________________________________________\n",
            "dense_1 (Dense)              (None, 128)               32896     \n",
            "_________________________________________________________________\n",
            "dropout_1 (Dropout)          (None, 128)               0         \n",
            "_________________________________________________________________\n",
            "dense_2 (Dense)              (None, 64)                8256      \n",
            "_________________________________________________________________\n",
            "dropout_2 (Dropout)          (None, 64)                0         \n",
            "_________________________________________________________________\n",
            "dense_3 (Dense)              (None, 32)                2080      \n",
            "_________________________________________________________________\n",
            "dropout_3 (Dropout)          (None, 32)                0         \n",
            "_________________________________________________________________\n",
            "dense_4 (Dense)              (None, 16)                528       \n",
            "_________________________________________________________________\n",
            "dropout_4 (Dropout)          (None, 16)                0         \n",
            "_________________________________________________________________\n",
            "dense_5 (Dense)              (None, 1)                 17        \n",
            "=================================================================\n",
            "Total params: 1,261,825\n",
            "Trainable params: 1,261,825\n",
            "Non-trainable params: 0\n",
            "_________________________________________________________________\n"
          ],
          "name": "stdout"
        }
      ]
    },
    {
      "cell_type": "code",
      "metadata": {
        "id": "VMlnaNStWLNK",
        "outputId": "a9c5a2e5-94ce-44d4-eb33-047ecf0f5c47",
        "colab": {
          "base_uri": "https://localhost:8080/",
          "height": 1000
        }
      },
      "source": [
        "model.compile(optimizer=tf.optimizers.Adam(0.001), loss=tf.losses.BinaryCrossentropy(), metrics='accuracy')\n",
        "es_cb = keras.callbacks.EarlyStopping(patience=20, restore_best_weights=True)\n",
        "hist = model.fit(xtrain_ds, validation_data=xval_ds, epochs=1000, callbacks=[es_cb])"
      ],
      "execution_count": 13,
      "outputs": [
        {
          "output_type": "stream",
          "text": [
            "Epoch 1/1000\n",
            "1/1 [==============================] - 1s 702ms/step - loss: 0.6933 - accuracy: 0.5084 - val_loss: 0.6907 - val_accuracy: 0.6444\n",
            "Epoch 2/1000\n",
            "1/1 [==============================] - 0s 215ms/step - loss: 0.6917 - accuracy: 0.5754 - val_loss: 0.6867 - val_accuracy: 0.6444\n",
            "Epoch 3/1000\n",
            "1/1 [==============================] - 0s 217ms/step - loss: 0.6852 - accuracy: 0.5922 - val_loss: 0.6773 - val_accuracy: 0.6667\n",
            "Epoch 4/1000\n",
            "1/1 [==============================] - 0s 217ms/step - loss: 0.6866 - accuracy: 0.5810 - val_loss: 0.6666 - val_accuracy: 0.6889\n",
            "Epoch 5/1000\n",
            "1/1 [==============================] - 0s 213ms/step - loss: 0.6686 - accuracy: 0.6369 - val_loss: 0.6550 - val_accuracy: 0.6889\n",
            "Epoch 6/1000\n",
            "1/1 [==============================] - 0s 220ms/step - loss: 0.6570 - accuracy: 0.6257 - val_loss: 0.6535 - val_accuracy: 0.6667\n",
            "Epoch 7/1000\n",
            "1/1 [==============================] - 0s 215ms/step - loss: 0.6464 - accuracy: 0.6257 - val_loss: 0.6443 - val_accuracy: 0.7111\n",
            "Epoch 8/1000\n",
            "1/1 [==============================] - 0s 212ms/step - loss: 0.6773 - accuracy: 0.6592 - val_loss: 0.6482 - val_accuracy: 0.7111\n",
            "Epoch 9/1000\n",
            "1/1 [==============================] - 0s 213ms/step - loss: 0.6746 - accuracy: 0.6201 - val_loss: 0.6492 - val_accuracy: 0.7111\n",
            "Epoch 10/1000\n",
            "1/1 [==============================] - 0s 221ms/step - loss: 0.6632 - accuracy: 0.6425 - val_loss: 0.6421 - val_accuracy: 0.7111\n",
            "Epoch 11/1000\n",
            "1/1 [==============================] - 0s 215ms/step - loss: 0.6595 - accuracy: 0.6872 - val_loss: 0.6321 - val_accuracy: 0.7111\n",
            "Epoch 12/1000\n",
            "1/1 [==============================] - 0s 212ms/step - loss: 0.6580 - accuracy: 0.6648 - val_loss: 0.6207 - val_accuracy: 0.7111\n",
            "Epoch 13/1000\n",
            "1/1 [==============================] - 0s 218ms/step - loss: 0.6429 - accuracy: 0.6816 - val_loss: 0.6048 - val_accuracy: 0.7111\n",
            "Epoch 14/1000\n",
            "1/1 [==============================] - 0s 215ms/step - loss: 0.6330 - accuracy: 0.6704 - val_loss: 0.5840 - val_accuracy: 0.7111\n",
            "Epoch 15/1000\n",
            "1/1 [==============================] - 0s 237ms/step - loss: 0.6178 - accuracy: 0.6816 - val_loss: 0.5597 - val_accuracy: 0.7111\n",
            "Epoch 16/1000\n",
            "1/1 [==============================] - 0s 225ms/step - loss: 0.6230 - accuracy: 0.6816 - val_loss: 0.5353 - val_accuracy: 0.7333\n",
            "Epoch 17/1000\n",
            "1/1 [==============================] - 0s 233ms/step - loss: 0.5777 - accuracy: 0.6704 - val_loss: 0.5211 - val_accuracy: 0.7556\n",
            "Epoch 18/1000\n",
            "1/1 [==============================] - 0s 219ms/step - loss: 0.5939 - accuracy: 0.6704 - val_loss: 0.5121 - val_accuracy: 0.7556\n",
            "Epoch 19/1000\n",
            "1/1 [==============================] - 0s 213ms/step - loss: 0.5804 - accuracy: 0.6872 - val_loss: 0.5150 - val_accuracy: 0.7333\n",
            "Epoch 20/1000\n",
            "1/1 [==============================] - 0s 234ms/step - loss: 0.5993 - accuracy: 0.6872 - val_loss: 0.5113 - val_accuracy: 0.7333\n",
            "Epoch 21/1000\n",
            "1/1 [==============================] - 0s 216ms/step - loss: 0.5810 - accuracy: 0.7039 - val_loss: 0.4936 - val_accuracy: 0.7556\n",
            "Epoch 22/1000\n",
            "1/1 [==============================] - 0s 226ms/step - loss: 0.5675 - accuracy: 0.7095 - val_loss: 0.4929 - val_accuracy: 0.7556\n",
            "Epoch 23/1000\n",
            "1/1 [==============================] - 0s 218ms/step - loss: 0.5569 - accuracy: 0.7095 - val_loss: 0.4905 - val_accuracy: 0.7556\n",
            "Epoch 24/1000\n",
            "1/1 [==============================] - 0s 205ms/step - loss: 0.5589 - accuracy: 0.7039 - val_loss: 0.4931 - val_accuracy: 0.7556\n",
            "Epoch 25/1000\n",
            "1/1 [==============================] - 0s 212ms/step - loss: 0.5569 - accuracy: 0.6983 - val_loss: 0.4953 - val_accuracy: 0.7556\n",
            "Epoch 26/1000\n",
            "1/1 [==============================] - 0s 209ms/step - loss: 0.5492 - accuracy: 0.6927 - val_loss: 0.4966 - val_accuracy: 0.7556\n",
            "Epoch 27/1000\n",
            "1/1 [==============================] - 0s 213ms/step - loss: 0.5533 - accuracy: 0.6927 - val_loss: 0.4969 - val_accuracy: 0.7556\n",
            "Epoch 28/1000\n",
            "1/1 [==============================] - 0s 212ms/step - loss: 0.5574 - accuracy: 0.6927 - val_loss: 0.4970 - val_accuracy: 0.7556\n",
            "Epoch 29/1000\n",
            "1/1 [==============================] - 0s 215ms/step - loss: 0.5291 - accuracy: 0.7095 - val_loss: 0.4946 - val_accuracy: 0.7556\n",
            "Epoch 30/1000\n",
            "1/1 [==============================] - 0s 204ms/step - loss: 0.5422 - accuracy: 0.7151 - val_loss: 0.4940 - val_accuracy: 0.7556\n",
            "Epoch 31/1000\n",
            "1/1 [==============================] - 0s 212ms/step - loss: 0.5483 - accuracy: 0.7151 - val_loss: 0.5204 - val_accuracy: 0.7333\n",
            "Epoch 32/1000\n",
            "1/1 [==============================] - 0s 205ms/step - loss: 0.5666 - accuracy: 0.6872 - val_loss: 0.5279 - val_accuracy: 0.7111\n",
            "Epoch 33/1000\n",
            "1/1 [==============================] - 0s 204ms/step - loss: 0.5651 - accuracy: 0.6816 - val_loss: 0.5275 - val_accuracy: 0.7111\n",
            "Epoch 34/1000\n",
            "1/1 [==============================] - 0s 208ms/step - loss: 0.5640 - accuracy: 0.6927 - val_loss: 0.5252 - val_accuracy: 0.7111\n",
            "Epoch 35/1000\n",
            "1/1 [==============================] - 0s 205ms/step - loss: 0.5696 - accuracy: 0.6760 - val_loss: 0.5213 - val_accuracy: 0.7333\n",
            "Epoch 36/1000\n",
            "1/1 [==============================] - 0s 206ms/step - loss: 0.5674 - accuracy: 0.6927 - val_loss: 0.5152 - val_accuracy: 0.7556\n",
            "Epoch 37/1000\n",
            "1/1 [==============================] - 0s 221ms/step - loss: 0.5579 - accuracy: 0.6927 - val_loss: 0.5094 - val_accuracy: 0.7556\n",
            "Epoch 38/1000\n",
            "1/1 [==============================] - 0s 215ms/step - loss: 0.5624 - accuracy: 0.7039 - val_loss: 0.4975 - val_accuracy: 0.7556\n",
            "Epoch 39/1000\n",
            "1/1 [==============================] - 0s 214ms/step - loss: 0.5465 - accuracy: 0.7095 - val_loss: 0.4918 - val_accuracy: 0.7556\n",
            "Epoch 40/1000\n",
            "1/1 [==============================] - 0s 225ms/step - loss: 0.5350 - accuracy: 0.7151 - val_loss: 0.4922 - val_accuracy: 0.7556\n",
            "Epoch 41/1000\n",
            "1/1 [==============================] - 0s 207ms/step - loss: 0.5380 - accuracy: 0.7039 - val_loss: 0.4926 - val_accuracy: 0.7556\n",
            "Epoch 42/1000\n",
            "1/1 [==============================] - 0s 212ms/step - loss: 0.5329 - accuracy: 0.7095 - val_loss: 0.4910 - val_accuracy: 0.7556\n",
            "Epoch 43/1000\n",
            "1/1 [==============================] - 0s 216ms/step - loss: 0.5425 - accuracy: 0.7151 - val_loss: 0.4890 - val_accuracy: 0.7556\n",
            "Epoch 44/1000\n",
            "1/1 [==============================] - 0s 226ms/step - loss: 0.5370 - accuracy: 0.7151 - val_loss: 0.4874 - val_accuracy: 0.7556\n",
            "Epoch 45/1000\n",
            "1/1 [==============================] - 0s 236ms/step - loss: 0.5455 - accuracy: 0.7151 - val_loss: 0.4864 - val_accuracy: 0.7556\n",
            "Epoch 46/1000\n",
            "1/1 [==============================] - 0s 216ms/step - loss: 0.5353 - accuracy: 0.7151 - val_loss: 0.4859 - val_accuracy: 0.7556\n",
            "Epoch 47/1000\n",
            "1/1 [==============================] - 0s 229ms/step - loss: 0.5896 - accuracy: 0.7039 - val_loss: 0.4859 - val_accuracy: 0.7556\n",
            "Epoch 48/1000\n",
            "1/1 [==============================] - 0s 247ms/step - loss: 0.5430 - accuracy: 0.7095 - val_loss: 0.4871 - val_accuracy: 0.7556\n",
            "Epoch 49/1000\n",
            "1/1 [==============================] - 0s 206ms/step - loss: 0.5372 - accuracy: 0.7095 - val_loss: 0.4878 - val_accuracy: 0.7556\n",
            "Epoch 50/1000\n",
            "1/1 [==============================] - 0s 212ms/step - loss: 0.5469 - accuracy: 0.7095 - val_loss: 0.4879 - val_accuracy: 0.7556\n",
            "Epoch 51/1000\n",
            "1/1 [==============================] - 0s 208ms/step - loss: 0.5401 - accuracy: 0.7151 - val_loss: 0.4884 - val_accuracy: 0.7556\n",
            "Epoch 52/1000\n",
            "1/1 [==============================] - 0s 212ms/step - loss: 0.5445 - accuracy: 0.7039 - val_loss: 0.4895 - val_accuracy: 0.7556\n",
            "Epoch 53/1000\n",
            "1/1 [==============================] - 0s 210ms/step - loss: 0.5321 - accuracy: 0.7263 - val_loss: 0.4891 - val_accuracy: 0.7556\n",
            "Epoch 54/1000\n",
            "1/1 [==============================] - 0s 208ms/step - loss: 0.5304 - accuracy: 0.7095 - val_loss: 0.4875 - val_accuracy: 0.7556\n",
            "Epoch 55/1000\n",
            "1/1 [==============================] - 0s 216ms/step - loss: 0.5432 - accuracy: 0.7095 - val_loss: 0.4864 - val_accuracy: 0.7556\n",
            "Epoch 56/1000\n",
            "1/1 [==============================] - 0s 210ms/step - loss: 0.5390 - accuracy: 0.7207 - val_loss: 0.4866 - val_accuracy: 0.7556\n",
            "Epoch 57/1000\n",
            "1/1 [==============================] - 0s 213ms/step - loss: 0.5696 - accuracy: 0.7151 - val_loss: 0.4879 - val_accuracy: 0.7556\n",
            "Epoch 58/1000\n",
            "1/1 [==============================] - 0s 214ms/step - loss: 0.5377 - accuracy: 0.7151 - val_loss: 0.4888 - val_accuracy: 0.7556\n",
            "Epoch 59/1000\n",
            "1/1 [==============================] - 0s 203ms/step - loss: 0.5282 - accuracy: 0.7095 - val_loss: 0.4889 - val_accuracy: 0.7556\n",
            "Epoch 60/1000\n",
            "1/1 [==============================] - 0s 212ms/step - loss: 0.5431 - accuracy: 0.7151 - val_loss: 0.4896 - val_accuracy: 0.7556\n",
            "Epoch 61/1000\n",
            "1/1 [==============================] - 0s 206ms/step - loss: 0.5559 - accuracy: 0.7095 - val_loss: 0.4914 - val_accuracy: 0.7556\n",
            "Epoch 62/1000\n",
            "1/1 [==============================] - 0s 213ms/step - loss: 0.5557 - accuracy: 0.7151 - val_loss: 0.4934 - val_accuracy: 0.7556\n",
            "Epoch 63/1000\n",
            "1/1 [==============================] - 0s 213ms/step - loss: 0.5345 - accuracy: 0.7263 - val_loss: 0.4942 - val_accuracy: 0.7556\n",
            "Epoch 64/1000\n",
            "1/1 [==============================] - 0s 210ms/step - loss: 0.5406 - accuracy: 0.7095 - val_loss: 0.4942 - val_accuracy: 0.7556\n",
            "Epoch 65/1000\n",
            "1/1 [==============================] - 0s 213ms/step - loss: 0.5472 - accuracy: 0.7151 - val_loss: 0.4942 - val_accuracy: 0.7556\n",
            "Epoch 66/1000\n",
            "1/1 [==============================] - 0s 209ms/step - loss: 0.5323 - accuracy: 0.7263 - val_loss: 0.4936 - val_accuracy: 0.7556\n",
            "Epoch 67/1000\n",
            "1/1 [==============================] - 0s 222ms/step - loss: 0.5362 - accuracy: 0.7151 - val_loss: 0.4924 - val_accuracy: 0.7556\n"
          ],
          "name": "stdout"
        }
      ]
    },
    {
      "cell_type": "code",
      "metadata": {
        "id": "AjiRiXQHwNOS",
        "outputId": "3fbd69e0-0916-4b7c-aebb-244ed2edf2f0",
        "colab": {
          "base_uri": "https://localhost:8080/",
          "height": 369
        }
      },
      "source": [
        "fig, axes = plt.subplots(1, 2, figsize=(10, 5))\n",
        "for i in range(1):\n",
        "  ax1 = axes[0]\n",
        "  ax2 = axes[1]\n",
        "\n",
        "  ax1.plot(hist.history['loss'], label='training')\n",
        "  ax1.plot(hist.history['val_loss'], label='validation')\n",
        "  ax1.set_title('lstm autoencoder loss')\n",
        "  ax1.set_xlabel('epoch')\n",
        "  ax1.set_ylabel('loss')\n",
        "  ax1.legend(['train', 'validation'], loc='upper left')\n",
        "  \n",
        "  ax2.plot(hist.history['accuracy'], label='training')\n",
        "  ax2.plot(hist.history['val_accuracy'], label='validation')\n",
        "  ax2.set_title('lstm autoencoder accuracy')\n",
        "  ax2.set_xlabel('epoch')\n",
        "  ax2.set_ylabel('accuracy')\n",
        "  ax2.legend(['train', 'validation'], loc='upper left')\n",
        "fig.tight_layout()"
      ],
      "execution_count": 14,
      "outputs": [
        {
          "output_type": "display_data",
          "data": {
            "image/png": "[encoded data removed]",
            "text/plain": [
              "<Figure size 720x360 with 2 Axes>"
            ]
          },
          "metadata": {
            "tags": [],
            "needs_background": "light"
          }
        }
      ]
    },
    {
      "cell_type": "code",
      "metadata": {
        "id": "6sgxZ6qrU9-9"
      },
      "source": [
        "def eval_model(model, ds, ds_name=\"Training\"):\n",
        "  loss, acc = model.evaluate(ds, verbose=0)\n",
        "  print(\"{} Dataset: loss = {} and acccuracy = {}%\".format(ds_name, np.round(loss, 3), np.round(acc*100, 2)))"
      ],
      "execution_count": 15,
      "outputs": []
    },
    {
      "cell_type": "code",
      "metadata": {
        "id": "YwcedsFqDUnm",
        "outputId": "ca56276f-f494-4e4b-c951-2e7b992471cf",
        "colab": {
          "base_uri": "https://localhost:8080/",
          "height": 71
        }
      },
      "source": [
        "eval_model(model, xtrain_ds, \"Training\")\n",
        "eval_model(model, xval_ds, \"Validation\")\n",
        "eval_model(model, xtest_ds, \"Test\")"
      ],
      "execution_count": 16,
      "outputs": [
        {
          "output_type": "stream",
          "text": [
            "Training Dataset: loss = 0.534 and acccuracy = 71.51%\n",
            "Validation Dataset: loss = 0.486 and acccuracy = 75.56%\n",
            "Test Dataset: loss = 0.553 and acccuracy = 70.18%\n"
          ],
          "name": "stdout"
        }
      ]
    }
  ]
}
