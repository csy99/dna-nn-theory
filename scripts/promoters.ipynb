{
  "nbformat": 4,
  "nbformat_minor": 0,
  "metadata": {
    "kernelspec": {
      "display_name": "Python 3",
      "language": "python",
      "name": "python3"
    },
    "language_info": {
      "codemirror_mode": {
        "name": "ipython",
        "version": 3
      },
      "file_extension": ".py",
      "mimetype": "text/x-python",
      "name": "python",
      "nbconvert_exporter": "python",
      "pygments_lexer": "ipython3",
      "version": "3.7.7"
    },
    "colab": {
      "name": "promoters.ipynb",
      "provenance": [],
      "collapsed_sections": [],
      "include_colab_link": true
    }
  },
  "cells": [
    {
      "cell_type": "markdown",
      "metadata": {
        "id": "view-in-github",
        "colab_type": "text"
      },
      "source": [
        "<a href=\"https://colab.research.google.com/github/solislemuslab/dna-nn-theory/blob/master/scripts/promoters.ipynb\" target=\"_parent\"><img src=\"https://colab.research.google.com/assets/colab-badge.svg\" alt=\"Open In Colab\"/></a>"
      ]
    },
    {
      "cell_type": "code",
      "metadata": {
        "id": "QC3Q7M9Yih-W",
        "colab_type": "code",
        "colab": {
          "base_uri": "https://localhost:8080/",
          "height": 34
        },
        "outputId": "598147e1-61a5-4b5c-e3be-5507d43b9ef6"
      },
      "source": [
        "!pip install -q biopython"
      ],
      "execution_count": null,
      "outputs": [
        {
          "output_type": "stream",
          "text": [
            "\u001b[K     |████████████████████████████████| 2.3MB 3.4MB/s \n",
            "\u001b[?25h"
          ],
          "name": "stdout"
        }
      ]
    },
    {
      "cell_type": "code",
      "metadata": {
        "id": "pXhpX5IlhXPP",
        "colab_type": "code",
        "colab": {
          "base_uri": "https://localhost:8080/",
          "height": 121
        },
        "outputId": "bfe8f552-3a2c-4604-daa4-cff1d1168e73"
      },
      "source": [
        "from google.colab import drive\n",
        "drive.mount('/content/drive')"
      ],
      "execution_count": null,
      "outputs": [
        {
          "output_type": "stream",
          "text": [
            "Go to this URL in a browser: https://accounts.google.com/o/oauth2/auth?client_id=947318989803-6bn6qk8qdgf4n4g3pfee6491hc0brc4i.apps.googleusercontent.com&redirect_uri=urn%3aietf%3awg%3aoauth%3a2.0%3aoob&response_type=code&scope=email%20https%3a%2f%2fwww.googleapis.com%2fauth%2fdocs.test%20https%3a%2f%2fwww.googleapis.com%2fauth%2fdrive%20https%3a%2f%2fwww.googleapis.com%2fauth%2fdrive.photos.readonly%20https%3a%2f%2fwww.googleapis.com%2fauth%2fpeopleapi.readonly\n",
            "\n",
            "Enter your authorization code:\n",
            "··········\n",
            "Mounted at /content/drive\n"
          ],
          "name": "stdout"
        }
      ]
    },
    {
      "cell_type": "code",
      "metadata": {
        "id": "UFf_t8G9hpZ0",
        "colab_type": "code",
        "colab": {
          "base_uri": "https://localhost:8080/",
          "height": 34
        },
        "outputId": "28b40b25-b582-4a5a-8e37-8762f05b0a7e"
      },
      "source": [
        "!cp -r '/content/drive/My Drive/dna_nn' .\n",
        "!ls dna_nn"
      ],
      "execution_count": null,
      "outputs": [
        {
          "output_type": "stream",
          "text": [
            "download.py  load.py\n"
          ],
          "name": "stdout"
        }
      ]
    },
    {
      "cell_type": "code",
      "metadata": {
        "id": "VefxTwnkcvnP",
        "colab_type": "code",
        "colab": {}
      },
      "source": [
        "import gc\n",
        "\n",
        "import numpy as np\n",
        "import pandas as pd\n",
        "from sklearn.model_selection import train_test_split\n",
        "import tensorflow as tf\n",
        "from tensorflow import keras\n",
        "\n",
        "from dna_nn.load import encode, encoded_shape, gen_from_arrays\n",
        "\n",
        "%load_ext autoreload\n",
        "%autoreload 2"
      ],
      "execution_count": null,
      "outputs": []
    },
    {
      "cell_type": "code",
      "metadata": {
        "id": "xMd1bwRcemlY",
        "colab_type": "code",
        "colab": {
          "base_uri": "https://localhost:8080/",
          "height": 195
        },
        "outputId": "c561176e-38fe-4343-d621-5bee1ff8775d"
      },
      "source": [
        "DATA_PATH = '/content/drive/My Drive/data/UCI/promoters.data'\n",
        "\n",
        "data = pd.read_csv(DATA_PATH, header=None, sep=',\\\\W*', engine='python',\n",
        "                   usecols=[0, 2])\n",
        "data.columns = ['class', 'sequence']\n",
        "data['sequence'] = data['sequence'].str.upper()\n",
        "data['class'] = data['class'].map(lambda y: int(y == '+'))\n",
        "data.head()"
      ],
      "execution_count": null,
      "outputs": [
        {
          "output_type": "execute_result",
          "data": {
            "text/html": [
              "<div>\n",
              "<style scoped>\n",
              "    .dataframe tbody tr th:only-of-type {\n",
              "        vertical-align: middle;\n",
              "    }\n",
              "\n",
              "    .dataframe tbody tr th {\n",
              "        vertical-align: top;\n",
              "    }\n",
              "\n",
              "    .dataframe thead th {\n",
              "        text-align: right;\n",
              "    }\n",
              "</style>\n",
              "<table border=\"1\" class=\"dataframe\">\n",
              "  <thead>\n",
              "    <tr style=\"text-align: right;\">\n",
              "      <th></th>\n",
              "      <th>class</th>\n",
              "      <th>sequence</th>\n",
              "    </tr>\n",
              "  </thead>\n",
              "  <tbody>\n",
              "    <tr>\n",
              "      <th>0</th>\n",
              "      <td>1</td>\n",
              "      <td>TACTAGCAATACGCTTGCGTTCGGTGGTTAAGTATGTATAATGCGC...</td>\n",
              "    </tr>\n",
              "    <tr>\n",
              "      <th>1</th>\n",
              "      <td>1</td>\n",
              "      <td>TGCTATCCTGACAGTTGTCACGCTGATTGGTGTCGTTACAATCTAA...</td>\n",
              "    </tr>\n",
              "    <tr>\n",
              "      <th>2</th>\n",
              "      <td>1</td>\n",
              "      <td>GTACTAGAGAACTAGTGCATTAGCTTATTTTTTTGTTATCATGCTA...</td>\n",
              "    </tr>\n",
              "    <tr>\n",
              "      <th>3</th>\n",
              "      <td>1</td>\n",
              "      <td>AATTGTGATGTGTATCGAAGTGTGTTGCGGAGTAGATGTTAGAATA...</td>\n",
              "    </tr>\n",
              "    <tr>\n",
              "      <th>4</th>\n",
              "      <td>1</td>\n",
              "      <td>TCGATAATTAACTATTGACGAAAAGCTGAAAACCACTAGAATGCGC...</td>\n",
              "    </tr>\n",
              "  </tbody>\n",
              "</table>\n",
              "</div>"
            ],
            "text/plain": [
              "   class                                           sequence\n",
              "0      1  TACTAGCAATACGCTTGCGTTCGGTGGTTAAGTATGTATAATGCGC...\n",
              "1      1  TGCTATCCTGACAGTTGTCACGCTGATTGGTGTCGTTACAATCTAA...\n",
              "2      1  GTACTAGAGAACTAGTGCATTAGCTTATTTTTTTGTTATCATGCTA...\n",
              "3      1  AATTGTGATGTGTATCGAAGTGTGTTGCGGAGTAGATGTTAGAATA...\n",
              "4      1  TCGATAATTAACTATTGACGAAAAGCTGAAAACCACTAGAATGCGC..."
            ]
          },
          "metadata": {
            "tags": []
          },
          "execution_count": 2
        }
      ]
    },
    {
      "cell_type": "code",
      "metadata": {
        "id": "FNyHexqEcvnX",
        "colab_type": "code",
        "colab": {
          "base_uri": "https://localhost:8080/",
          "height": 312
        },
        "outputId": "6b023a4e-e53f-4fea-846d-e93a4d3c8e06"
      },
      "source": [
        "ax = data['class'].value_counts().plot(kind='bar')\n",
        "ax.set_title('class distribution')\n",
        "ax.set_xlabel('class')\n",
        "ax.set_ylabel('count')\n",
        "ax.tick_params(rotation=0)\n",
        "\n",
        "print('# features:', len(data['sequence'][0]), 'bp')"
      ],
      "execution_count": null,
      "outputs": [
        {
          "output_type": "stream",
          "text": [
            "# features: 57 bp\n"
          ],
          "name": "stdout"
        },
        {
          "output_type": "display_data",
          "data": {
            "image/png": "[encoded data removed]",
            "text/plain": [
              "<Figure size 432x288 with 1 Axes>"
            ]
          },
          "metadata": {
            "tags": [],
            "needs_background": "light"
          }
        }
      ]
    },
    {
      "cell_type": "markdown",
      "metadata": {
        "id": "41kNdR0tcvng",
        "colab_type": "text"
      },
      "source": [
        "# Conv2D"
      ]
    },
    {
      "cell_type": "code",
      "metadata": {
        "id": "sMcBktTqjCow",
        "colab_type": "code",
        "colab": {
          "base_uri": "https://localhost:8080/",
          "height": 34
        },
        "outputId": "f104d4aa-a473-4299-fe4a-f2c4ea1f8cf2"
      },
      "source": [
        "word_size = 3\n",
        "region_size = 0\n",
        "\n",
        "encode_func = encode(word_size, region_size)\n",
        "x_shape = encoded_shape(data['sequence'][0], word_size, region_size)\n",
        "\n",
        "x, y = data['sequence'].to_numpy(), data['class'].to_numpy()\n",
        "x = np.array([encode_func(_) for _ in x])\n",
        "x_train, x_test, y_train, y_test = train_test_split(x, y, stratify=y)\n",
        "\n",
        "len(x_train), len(x_test)"
      ],
      "execution_count": null,
      "outputs": [
        {
          "output_type": "execute_result",
          "data": {
            "text/plain": [
              "(79, 27)"
            ]
          },
          "metadata": {
            "tags": []
          },
          "execution_count": 4
        }
      ]
    },
    {
      "cell_type": "code",
      "metadata": {
        "id": "UtGl-cWScvnn",
        "colab_type": "code",
        "colab": {
          "base_uri": "https://localhost:8080/",
          "height": 386
        },
        "outputId": "575118ff-d1db-4183-9f28-6fac001f9717"
      },
      "source": [
        "keras.backend.clear_session()\n",
        "\n",
        "model = keras.Sequential([\n",
        "    keras.layers.Conv2D(64, 3, activation='relu', input_shape=x_shape),\n",
        "    keras.layers.MaxPooling2D(),\n",
        "    keras.layers.Dropout(0.75),\n",
        "    keras.layers.Flatten(),\n",
        "    keras.layers.Dropout(0.75),\n",
        "    keras.layers.Dense(128, activation='relu'),\n",
        "    keras.layers.Dense(2, activation='softmax'),\n",
        "])\n",
        "model.compile(optimizer='adam', loss='sparse_categorical_crossentropy', metrics='accuracy')\n",
        "model.summary()"
      ],
      "execution_count": null,
      "outputs": [
        {
          "output_type": "stream",
          "text": [
            "Model: \"sequential\"\n",
            "_________________________________________________________________\n",
            "Layer (type)                 Output Shape              Param #   \n",
            "=================================================================\n",
            "conv2d (Conv2D)              (None, 53, 62, 64)        640       \n",
            "_________________________________________________________________\n",
            "max_pooling2d (MaxPooling2D) (None, 26, 31, 64)        0         \n",
            "_________________________________________________________________\n",
            "dropout (Dropout)            (None, 26, 31, 64)        0         \n",
            "_________________________________________________________________\n",
            "flatten (Flatten)            (None, 51584)             0         \n",
            "_________________________________________________________________\n",
            "dropout_1 (Dropout)          (None, 51584)             0         \n",
            "_________________________________________________________________\n",
            "dense (Dense)                (None, 128)               6602880   \n",
            "_________________________________________________________________\n",
            "dense_1 (Dense)              (None, 2)                 258       \n",
            "=================================================================\n",
            "Total params: 6,603,778\n",
            "Trainable params: 6,603,778\n",
            "Non-trainable params: 0\n",
            "_________________________________________________________________\n"
          ],
          "name": "stdout"
        }
      ]
    },
    {
      "cell_type": "code",
      "metadata": {
        "id": "sTeifAy6cvnq",
        "colab_type": "code",
        "colab": {
          "base_uri": "https://localhost:8080/",
          "height": 265
        },
        "outputId": "dbdc1a0d-4c3f-4885-db37-ac38880a47fd"
      },
      "source": [
        "history = model.fit(x_train, y_train, epochs=30, validation_split=0.1, verbose=0)\n",
        "ax = pd.DataFrame(history.history).plot()\n",
        "ax.legend(bbox_to_anchor=(1, 1), loc='upper left')\n",
        "ax.grid()"
      ],
      "execution_count": null,
      "outputs": [
        {
          "output_type": "display_data",
          "data": {
            "image/png": "[encoded data removed]",
            "text/plain": [
              "<Figure size 432x288 with 1 Axes>"
            ]
          },
          "metadata": {
            "tags": [],
            "needs_background": "light"
          }
        }
      ]
    },
    {
      "cell_type": "code",
      "metadata": {
        "id": "30mFyvC1cvnv",
        "colab_type": "code",
        "colab": {
          "base_uri": "https://localhost:8080/",
          "height": 50
        },
        "outputId": "b221c478-118e-4b68-e84a-936a6c613a41"
      },
      "source": [
        "model.evaluate(x_test, y_test)"
      ],
      "execution_count": null,
      "outputs": [
        {
          "output_type": "stream",
          "text": [
            "1/1 [==============================] - 0s 2ms/step - loss: 0.2263 - accuracy: 0.9259\n"
          ],
          "name": "stdout"
        },
        {
          "output_type": "execute_result",
          "data": {
            "text/plain": [
              "[0.22630460560321808, 0.9259259104728699]"
            ]
          },
          "metadata": {
            "tags": []
          },
          "execution_count": 21
        }
      ]
    },
    {
      "cell_type": "code",
      "metadata": {
        "id": "QB_1gARyvv9X",
        "colab_type": "code",
        "colab": {}
      },
      "source": [
        "model.save('/content/drive/My Drive/dna-nn/UCI/promoters-2D.h5')"
      ],
      "execution_count": null,
      "outputs": []
    },
    {
      "cell_type": "markdown",
      "metadata": {
        "id": "A9uvncY6cvn5",
        "colab_type": "text"
      },
      "source": [
        "# Conv1D"
      ]
    },
    {
      "cell_type": "code",
      "metadata": {
        "id": "uufMW_Oycvn-",
        "colab_type": "code",
        "colab": {
          "base_uri": "https://localhost:8080/",
          "height": 34
        },
        "outputId": "6721cd77-33a7-403a-aa5f-bcfd80a56978"
      },
      "source": [
        "encode_func = encode(word_size, region_size, expand=False)\n",
        "x_shape = encoded_shape(data['sequence'][0], word_size, region_size, expand=False)\n",
        "\n",
        "x, y = data['sequence'].to_numpy(), data['class'].to_numpy()\n",
        "x = np.array([encode_func(_) for _ in x])\n",
        "x_train, x_test, y_train, y_test = train_test_split(x, y, stratify=y)\n",
        "\n",
        "len(x_train), len(x_test)"
      ],
      "execution_count": null,
      "outputs": [
        {
          "output_type": "execute_result",
          "data": {
            "text/plain": [
              "(79, 27)"
            ]
          },
          "metadata": {
            "tags": []
          },
          "execution_count": 22
        }
      ]
    },
    {
      "cell_type": "code",
      "metadata": {
        "id": "6-bGza8ecvoA",
        "colab_type": "code",
        "colab": {
          "base_uri": "https://localhost:8080/",
          "height": 386
        },
        "outputId": "819abbd7-9df2-4cd9-fec7-3f8da152d8af"
      },
      "source": [
        "keras.backend.clear_session()\n",
        "\n",
        "model = keras.Sequential([\n",
        "    keras.layers.Conv1D(64, 3, activation='relu', input_shape=x_shape),\n",
        "    keras.layers.MaxPooling1D(),\n",
        "    keras.layers.Dropout(0.75),\n",
        "    keras.layers.Flatten(),\n",
        "    keras.layers.Dropout(0.75),\n",
        "    keras.layers.Dense(128, activation='relu'),\n",
        "    keras.layers.Dense(2, activation='softmax'),\n",
        "])\n",
        "model.compile(optimizer='adam', loss='sparse_categorical_crossentropy', metrics='accuracy')\n",
        "model.summary()"
      ],
      "execution_count": null,
      "outputs": [
        {
          "output_type": "stream",
          "text": [
            "Model: \"sequential\"\n",
            "_________________________________________________________________\n",
            "Layer (type)                 Output Shape              Param #   \n",
            "=================================================================\n",
            "conv1d (Conv1D)              (None, 53, 64)            12352     \n",
            "_________________________________________________________________\n",
            "max_pooling1d (MaxPooling1D) (None, 26, 64)            0         \n",
            "_________________________________________________________________\n",
            "dropout (Dropout)            (None, 26, 64)            0         \n",
            "_________________________________________________________________\n",
            "flatten (Flatten)            (None, 1664)              0         \n",
            "_________________________________________________________________\n",
            "dropout_1 (Dropout)          (None, 1664)              0         \n",
            "_________________________________________________________________\n",
            "dense (Dense)                (None, 128)               213120    \n",
            "_________________________________________________________________\n",
            "dense_1 (Dense)              (None, 2)                 258       \n",
            "=================================================================\n",
            "Total params: 225,730\n",
            "Trainable params: 225,730\n",
            "Non-trainable params: 0\n",
            "_________________________________________________________________\n"
          ],
          "name": "stdout"
        }
      ]
    },
    {
      "cell_type": "code",
      "metadata": {
        "id": "Qbc_c7HicvoC",
        "colab_type": "code",
        "colab": {
          "base_uri": "https://localhost:8080/",
          "height": 265
        },
        "outputId": "e207546f-3718-4479-81bd-390633a450d4"
      },
      "source": [
        "history = model.fit(x_train, y_train, epochs=30, validation_split=0.1, verbose=0)\n",
        "ax = pd.DataFrame(history.history).plot()\n",
        "ax.legend(bbox_to_anchor=(1, 1), loc='upper left')\n",
        "ax.grid()"
      ],
      "execution_count": null,
      "outputs": [
        {
          "output_type": "display_data",
          "data": {
            "image/png": "[encoded data removed]",
            "text/plain": [
              "<Figure size 432x288 with 1 Axes>"
            ]
          },
          "metadata": {
            "tags": [],
            "needs_background": "light"
          }
        }
      ]
    },
    {
      "cell_type": "code",
      "metadata": {
        "id": "Q7eL0B3UcvoH",
        "colab_type": "code",
        "colab": {
          "base_uri": "https://localhost:8080/",
          "height": 50
        },
        "outputId": "24e4a56a-234e-4eb0-bcfb-030ea71fa290"
      },
      "source": [
        "model.evaluate(x_test, y_test)"
      ],
      "execution_count": null,
      "outputs": [
        {
          "output_type": "stream",
          "text": [
            "1/1 [==============================] - 0s 2ms/step - loss: 0.4575 - accuracy: 1.0000\n"
          ],
          "name": "stdout"
        },
        {
          "output_type": "execute_result",
          "data": {
            "text/plain": [
              "[0.45751258730888367, 1.0]"
            ]
          },
          "metadata": {
            "tags": []
          },
          "execution_count": 25
        }
      ]
    },
    {
      "cell_type": "code",
      "metadata": {
        "id": "xsQuYok0cvoK",
        "colab_type": "code",
        "colab": {}
      },
      "source": [
        "model.save('/content/drive/My Drive/dna-nn/UCI/promoters-1D.h5')"
      ],
      "execution_count": null,
      "outputs": []
    },
    {
      "cell_type": "code",
      "metadata": {
        "id": "pzWwB_-Qw-Wi",
        "colab_type": "code",
        "colab": {}
      },
      "source": [
        ""
      ],
      "execution_count": null,
      "outputs": []
    }
  ]
}