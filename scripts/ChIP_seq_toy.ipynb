{
  "nbformat": 4,
  "nbformat_minor": 0,
  "metadata": {
    "colab": {
      "name": "ChIP-seq-toy.ipynb",
      "provenance": [],
      "collapsed_sections": [],
      "authorship_tag": "ABX9TyPM/Q8WoTsBBabjTijr61Ip",
      "include_colab_link": true
    },
    "kernelspec": {
      "name": "python3",
      "display_name": "Python 3"
    },
    "accelerator": "GPU"
  },
  "cells": [
    {
      "cell_type": "markdown",
      "metadata": {
        "id": "view-in-github",
        "colab_type": "text"
      },
      "source": [
        "<a href=\"https://colab.research.google.com/github/solislemuslab/dna-nn-theory/blob/master/scripts/ChIP_seq_toy.ipynb\" target=\"_parent\"><img src=\"https://colab.research.google.com/assets/colab-badge.svg\" alt=\"Open In Colab\"/></a>"
      ]
    },
    {
      "cell_type": "markdown",
      "metadata": {
        "id": "knTllJ0A4EVQ",
        "colab_type": "text"
      },
      "source": [
        "version:\n",
        "- v1: one Conv2D"
      ]
    },
    {
      "cell_type": "markdown",
      "metadata": {
        "id": "aH6zuDwgt3Er",
        "colab_type": "text"
      },
      "source": [
        "# Setup"
      ]
    },
    {
      "cell_type": "code",
      "metadata": {
        "id": "UIY0MfCJoPK6",
        "colab_type": "code",
        "colab": {
          "base_uri": "https://localhost:8080/",
          "height": 34
        },
        "outputId": "15c29c71-1db7-4f01-f6c6-892c6320ee69"
      },
      "source": [
        "!pip install -q biopython"
      ],
      "execution_count": null,
      "outputs": [
        {
          "output_type": "stream",
          "text": [
            "\u001b[?25l\r\u001b[K     |▏                               | 10kB 18.2MB/s eta 0:00:01\r\u001b[K     |▎                               | 20kB 4.6MB/s eta 0:00:01\r\u001b[K     |▍                               | 30kB 6.0MB/s eta 0:00:01\r\u001b[K     |▋                               | 40kB 5.8MB/s eta 0:00:01\r\u001b[K     |▊                               | 51kB 5.1MB/s eta 0:00:01\r\u001b[K     |▉                               | 61kB 5.6MB/s eta 0:00:01\r\u001b[K     |█                               | 71kB 6.2MB/s eta 0:00:01\r\u001b[K     |█▏                              | 81kB 6.7MB/s eta 0:00:01\r\u001b[K     |█▎                              | 92kB 7.0MB/s eta 0:00:01\r\u001b[K     |█▌                              | 102kB 7.0MB/s eta 0:00:01\r\u001b[K     |█▋                              | 112kB 7.0MB/s eta 0:00:01\r\u001b[K     |█▊                              | 122kB 7.0MB/s eta 0:00:01\r\u001b[K     |█▉                              | 133kB 7.0MB/s eta 0:00:01\r\u001b[K     |██                              | 143kB 7.0MB/s eta 0:00:01\r\u001b[K     |██▏                             | 153kB 7.0MB/s eta 0:00:01\r\u001b[K     |██▎                             | 163kB 7.0MB/s eta 0:00:01\r\u001b[K     |██▌                             | 174kB 7.0MB/s eta 0:00:01\r\u001b[K     |██▋                             | 184kB 7.0MB/s eta 0:00:01\r\u001b[K     |██▊                             | 194kB 7.0MB/s eta 0:00:01\r\u001b[K     |███                             | 204kB 7.0MB/s eta 0:00:01\r\u001b[K     |███                             | 215kB 7.0MB/s eta 0:00:01\r\u001b[K     |███▏                            | 225kB 7.0MB/s eta 0:00:01\r\u001b[K     |███▎                            | 235kB 7.0MB/s eta 0:00:01\r\u001b[K     |███▌                            | 245kB 7.0MB/s eta 0:00:01\r\u001b[K     |███▋                            | 256kB 7.0MB/s eta 0:00:01\r\u001b[K     |███▊                            | 266kB 7.0MB/s eta 0:00:01\r\u001b[K     |████                            | 276kB 7.0MB/s eta 0:00:01\r\u001b[K     |████                            | 286kB 7.0MB/s eta 0:00:01\r\u001b[K     |████▏                           | 296kB 7.0MB/s eta 0:00:01\r\u001b[K     |████▍                           | 307kB 7.0MB/s eta 0:00:01\r\u001b[K     |████▌                           | 317kB 7.0MB/s eta 0:00:01\r\u001b[K     |████▋                           | 327kB 7.0MB/s eta 0:00:01\r\u001b[K     |████▊                           | 337kB 7.0MB/s eta 0:00:01\r\u001b[K     |█████                           | 348kB 7.0MB/s eta 0:00:01\r\u001b[K     |█████                           | 358kB 7.0MB/s eta 0:00:01\r\u001b[K     |█████▏                          | 368kB 7.0MB/s eta 0:00:01\r\u001b[K     |█████▍                          | 378kB 7.0MB/s eta 0:00:01\r\u001b[K     |█████▌                          | 389kB 7.0MB/s eta 0:00:01\r\u001b[K     |█████▋                          | 399kB 7.0MB/s eta 0:00:01\r\u001b[K     |█████▉                          | 409kB 7.0MB/s eta 0:00:01\r\u001b[K     |██████                          | 419kB 7.0MB/s eta 0:00:01\r\u001b[K     |██████                          | 430kB 7.0MB/s eta 0:00:01\r\u001b[K     |██████▏                         | 440kB 7.0MB/s eta 0:00:01\r\u001b[K     |██████▍                         | 450kB 7.0MB/s eta 0:00:01\r\u001b[K     |██████▌                         | 460kB 7.0MB/s eta 0:00:01\r\u001b[K     |██████▋                         | 471kB 7.0MB/s eta 0:00:01\r\u001b[K     |██████▉                         | 481kB 7.0MB/s eta 0:00:01\r\u001b[K     |███████                         | 491kB 7.0MB/s eta 0:00:01\r\u001b[K     |███████                         | 501kB 7.0MB/s eta 0:00:01\r\u001b[K     |███████▎                        | 512kB 7.0MB/s eta 0:00:01\r\u001b[K     |███████▍                        | 522kB 7.0MB/s eta 0:00:01\r\u001b[K     |███████▌                        | 532kB 7.0MB/s eta 0:00:01\r\u001b[K     |███████▋                        | 542kB 7.0MB/s eta 0:00:01\r\u001b[K     |███████▉                        | 552kB 7.0MB/s eta 0:00:01\r\u001b[K     |████████                        | 563kB 7.0MB/s eta 0:00:01\r\u001b[K     |████████                        | 573kB 7.0MB/s eta 0:00:01\r\u001b[K     |████████▎                       | 583kB 7.0MB/s eta 0:00:01\r\u001b[K     |████████▍                       | 593kB 7.0MB/s eta 0:00:01\r\u001b[K     |████████▌                       | 604kB 7.0MB/s eta 0:00:01\r\u001b[K     |████████▊                       | 614kB 7.0MB/s eta 0:00:01\r\u001b[K     |████████▉                       | 624kB 7.0MB/s eta 0:00:01\r\u001b[K     |█████████                       | 634kB 7.0MB/s eta 0:00:01\r\u001b[K     |█████████                       | 645kB 7.0MB/s eta 0:00:01\r\u001b[K     |█████████▎                      | 655kB 7.0MB/s eta 0:00:01\r\u001b[K     |█████████▍                      | 665kB 7.0MB/s eta 0:00:01\r\u001b[K     |█████████▌                      | 675kB 7.0MB/s eta 0:00:01\r\u001b[K     |█████████▊                      | 686kB 7.0MB/s eta 0:00:01\r\u001b[K     |█████████▉                      | 696kB 7.0MB/s eta 0:00:01\r\u001b[K     |██████████                      | 706kB 7.0MB/s eta 0:00:01\r\u001b[K     |██████████▏                     | 716kB 7.0MB/s eta 0:00:01\r\u001b[K     |██████████▎                     | 727kB 7.0MB/s eta 0:00:01\r\u001b[K     |██████████▍                     | 737kB 7.0MB/s eta 0:00:01\r\u001b[K     |██████████▌                     | 747kB 7.0MB/s eta 0:00:01\r\u001b[K     |██████████▊                     | 757kB 7.0MB/s eta 0:00:01\r\u001b[K     |██████████▉                     | 768kB 7.0MB/s eta 0:00:01\r\u001b[K     |███████████                     | 778kB 7.0MB/s eta 0:00:01\r\u001b[K     |███████████▏                    | 788kB 7.0MB/s eta 0:00:01\r\u001b[K     |███████████▎                    | 798kB 7.0MB/s eta 0:00:01\r\u001b[K     |███████████▍                    | 808kB 7.0MB/s eta 0:00:01\r\u001b[K     |███████████▋                    | 819kB 7.0MB/s eta 0:00:01\r\u001b[K     |███████████▊                    | 829kB 7.0MB/s eta 0:00:01\r\u001b[K     |███████████▉                    | 839kB 7.0MB/s eta 0:00:01\r\u001b[K     |████████████                    | 849kB 7.0MB/s eta 0:00:01\r\u001b[K     |████████████▏                   | 860kB 7.0MB/s eta 0:00:01\r\u001b[K     |████████████▎                   | 870kB 7.0MB/s eta 0:00:01\r\u001b[K     |████████████▍                   | 880kB 7.0MB/s eta 0:00:01\r\u001b[K     |████████████▋                   | 890kB 7.0MB/s eta 0:00:01\r\u001b[K     |████████████▊                   | 901kB 7.0MB/s eta 0:00:01\r\u001b[K     |████████████▉                   | 911kB 7.0MB/s eta 0:00:01\r\u001b[K     |█████████████                   | 921kB 7.0MB/s eta 0:00:01\r\u001b[K     |█████████████▏                  | 931kB 7.0MB/s eta 0:00:01\r\u001b[K     |█████████████▎                  | 942kB 7.0MB/s eta 0:00:01\r\u001b[K     |█████████████▍                  | 952kB 7.0MB/s eta 0:00:01\r\u001b[K     |█████████████▋                  | 962kB 7.0MB/s eta 0:00:01\r\u001b[K     |█████████████▊                  | 972kB 7.0MB/s eta 0:00:01\r\u001b[K     |█████████████▉                  | 983kB 7.0MB/s eta 0:00:01\r\u001b[K     |██████████████                  | 993kB 7.0MB/s eta 0:00:01\r\u001b[K     |██████████████▏                 | 1.0MB 7.0MB/s eta 0:00:01\r\u001b[K     |██████████████▎                 | 1.0MB 7.0MB/s eta 0:00:01\r\u001b[K     |██████████████▌                 | 1.0MB 7.0MB/s eta 0:00:01\r\u001b[K     |██████████████▋                 | 1.0MB 7.0MB/s eta 0:00:01\r\u001b[K     |██████████████▊                 | 1.0MB 7.0MB/s eta 0:00:01\r\u001b[K     |██████████████▉                 | 1.1MB 7.0MB/s eta 0:00:01\r\u001b[K     |███████████████                 | 1.1MB 7.0MB/s eta 0:00:01\r\u001b[K     |███████████████▏                | 1.1MB 7.0MB/s eta 0:00:01\r\u001b[K     |███████████████▎                | 1.1MB 7.0MB/s eta 0:00:01\r\u001b[K     |███████████████▌                | 1.1MB 7.0MB/s eta 0:00:01\r\u001b[K     |███████████████▋                | 1.1MB 7.0MB/s eta 0:00:01\r\u001b[K     |███████████████▊                | 1.1MB 7.0MB/s eta 0:00:01\r\u001b[K     |████████████████                | 1.1MB 7.0MB/s eta 0:00:01\r\u001b[K     |████████████████                | 1.1MB 7.0MB/s eta 0:00:01\r\u001b[K     |████████████████▏               | 1.1MB 7.0MB/s eta 0:00:01\r\u001b[K     |████████████████▎               | 1.2MB 7.0MB/s eta 0:00:01\r\u001b[K     |████████████████▌               | 1.2MB 7.0MB/s eta 0:00:01\r\u001b[K     |████████████████▋               | 1.2MB 7.0MB/s eta 0:00:01\r\u001b[K     |████████████████▊               | 1.2MB 7.0MB/s eta 0:00:01\r\u001b[K     |█████████████████               | 1.2MB 7.0MB/s eta 0:00:01\r\u001b[K     |█████████████████               | 1.2MB 7.0MB/s eta 0:00:01\r\u001b[K     |█████████████████▏              | 1.2MB 7.0MB/s eta 0:00:01\r\u001b[K     |█████████████████▍              | 1.2MB 7.0MB/s eta 0:00:01\r\u001b[K     |█████████████████▌              | 1.2MB 7.0MB/s eta 0:00:01\r\u001b[K     |█████████████████▋              | 1.2MB 7.0MB/s eta 0:00:01\r\u001b[K     |█████████████████▊              | 1.3MB 7.0MB/s eta 0:00:01\r\u001b[K     |██████████████████              | 1.3MB 7.0MB/s eta 0:00:01\r\u001b[K     |██████████████████              | 1.3MB 7.0MB/s eta 0:00:01\r\u001b[K     |██████████████████▏             | 1.3MB 7.0MB/s eta 0:00:01\r\u001b[K     |██████████████████▍             | 1.3MB 7.0MB/s eta 0:00:01\r\u001b[K     |██████████████████▌             | 1.3MB 7.0MB/s eta 0:00:01\r\u001b[K     |██████████████████▋             | 1.3MB 7.0MB/s eta 0:00:01\r\u001b[K     |██████████████████▉             | 1.3MB 7.0MB/s eta 0:00:01\r\u001b[K     |███████████████████             | 1.3MB 7.0MB/s eta 0:00:01\r\u001b[K     |███████████████████             | 1.4MB 7.0MB/s eta 0:00:01\r\u001b[K     |███████████████████▏            | 1.4MB 7.0MB/s eta 0:00:01\r\u001b[K     |███████████████████▍            | 1.4MB 7.0MB/s eta 0:00:01\r\u001b[K     |███████████████████▌            | 1.4MB 7.0MB/s eta 0:00:01\r\u001b[K     |███████████████████▋            | 1.4MB 7.0MB/s eta 0:00:01\r\u001b[K     |███████████████████▉            | 1.4MB 7.0MB/s eta 0:00:01\r\u001b[K     |████████████████████            | 1.4MB 7.0MB/s eta 0:00:01\r\u001b[K     |████████████████████            | 1.4MB 7.0MB/s eta 0:00:01\r\u001b[K     |████████████████████▎           | 1.4MB 7.0MB/s eta 0:00:01\r\u001b[K     |████████████████████▍           | 1.4MB 7.0MB/s eta 0:00:01\r\u001b[K     |████████████████████▌           | 1.5MB 7.0MB/s eta 0:00:01\r\u001b[K     |████████████████████▋           | 1.5MB 7.0MB/s eta 0:00:01\r\u001b[K     |████████████████████▉           | 1.5MB 7.0MB/s eta 0:00:01\r\u001b[K     |█████████████████████           | 1.5MB 7.0MB/s eta 0:00:01\r\u001b[K     |█████████████████████           | 1.5MB 7.0MB/s eta 0:00:01\r\u001b[K     |█████████████████████▎          | 1.5MB 7.0MB/s eta 0:00:01\r\u001b[K     |█████████████████████▍          | 1.5MB 7.0MB/s eta 0:00:01\r\u001b[K     |█████████████████████▌          | 1.5MB 7.0MB/s eta 0:00:01\r\u001b[K     |█████████████████████▊          | 1.5MB 7.0MB/s eta 0:00:01\r\u001b[K     |█████████████████████▉          | 1.5MB 7.0MB/s eta 0:00:01\r\u001b[K     |██████████████████████          | 1.6MB 7.0MB/s eta 0:00:01\r\u001b[K     |██████████████████████▏         | 1.6MB 7.0MB/s eta 0:00:01\r\u001b[K     |██████████████████████▎         | 1.6MB 7.0MB/s eta 0:00:01\r\u001b[K     |██████████████████████▍         | 1.6MB 7.0MB/s eta 0:00:01\r\u001b[K     |██████████████████████▌         | 1.6MB 7.0MB/s eta 0:00:01\r\u001b[K     |██████████████████████▊         | 1.6MB 7.0MB/s eta 0:00:01\r\u001b[K     |██████████████████████▉         | 1.6MB 7.0MB/s eta 0:00:01\r\u001b[K     |███████████████████████         | 1.6MB 7.0MB/s eta 0:00:01\r\u001b[K     |███████████████████████▏        | 1.6MB 7.0MB/s eta 0:00:01\r\u001b[K     |███████████████████████▎        | 1.6MB 7.0MB/s eta 0:00:01\r\u001b[K     |███████████████████████▍        | 1.7MB 7.0MB/s eta 0:00:01\r\u001b[K     |███████████████████████▋        | 1.7MB 7.0MB/s eta 0:00:01\r\u001b[K     |███████████████████████▊        | 1.7MB 7.0MB/s eta 0:00:01\r\u001b[K     |███████████████████████▉        | 1.7MB 7.0MB/s eta 0:00:01\r\u001b[K     |████████████████████████        | 1.7MB 7.0MB/s eta 0:00:01\r\u001b[K     |████████████████████████▏       | 1.7MB 7.0MB/s eta 0:00:01\r\u001b[K     |████████████████████████▎       | 1.7MB 7.0MB/s eta 0:00:01\r\u001b[K     |████████████████████████▍       | 1.7MB 7.0MB/s eta 0:00:01\r\u001b[K     |████████████████████████▋       | 1.7MB 7.0MB/s eta 0:00:01\r\u001b[K     |████████████████████████▊       | 1.8MB 7.0MB/s eta 0:00:01\r\u001b[K     |████████████████████████▉       | 1.8MB 7.0MB/s eta 0:00:01\r\u001b[K     |█████████████████████████       | 1.8MB 7.0MB/s eta 0:00:01\r\u001b[K     |█████████████████████████▏      | 1.8MB 7.0MB/s eta 0:00:01\r\u001b[K     |█████████████████████████▎      | 1.8MB 7.0MB/s eta 0:00:01\r\u001b[K     |█████████████████████████▍      | 1.8MB 7.0MB/s eta 0:00:01\r\u001b[K     |█████████████████████████▋      | 1.8MB 7.0MB/s eta 0:00:01\r\u001b[K     |█████████████████████████▊      | 1.8MB 7.0MB/s eta 0:00:01\r\u001b[K     |█████████████████████████▉      | 1.8MB 7.0MB/s eta 0:00:01\r\u001b[K     |██████████████████████████      | 1.8MB 7.0MB/s eta 0:00:01\r\u001b[K     |██████████████████████████▏     | 1.9MB 7.0MB/s eta 0:00:01\r\u001b[K     |██████████████████████████▎     | 1.9MB 7.0MB/s eta 0:00:01\r\u001b[K     |██████████████████████████▌     | 1.9MB 7.0MB/s eta 0:00:01\r\u001b[K     |██████████████████████████▋     | 1.9MB 7.0MB/s eta 0:00:01\r\u001b[K     |██████████████████████████▊     | 1.9MB 7.0MB/s eta 0:00:01\r\u001b[K     |██████████████████████████▉     | 1.9MB 7.0MB/s eta 0:00:01\r\u001b[K     |███████████████████████████     | 1.9MB 7.0MB/s eta 0:00:01\r\u001b[K     |███████████████████████████▏    | 1.9MB 7.0MB/s eta 0:00:01\r\u001b[K     |███████████████████████████▎    | 1.9MB 7.0MB/s eta 0:00:01\r\u001b[K     |███████████████████████████▌    | 1.9MB 7.0MB/s eta 0:00:01\r\u001b[K     |███████████████████████████▋    | 2.0MB 7.0MB/s eta 0:00:01\r\u001b[K     |███████████████████████████▊    | 2.0MB 7.0MB/s eta 0:00:01\r\u001b[K     |████████████████████████████    | 2.0MB 7.0MB/s eta 0:00:01\r\u001b[K     |████████████████████████████    | 2.0MB 7.0MB/s eta 0:00:01\r\u001b[K     |████████████████████████████▏   | 2.0MB 7.0MB/s eta 0:00:01\r\u001b[K     |████████████████████████████▎   | 2.0MB 7.0MB/s eta 0:00:01\r\u001b[K     |████████████████████████████▌   | 2.0MB 7.0MB/s eta 0:00:01\r\u001b[K     |████████████████████████████▋   | 2.0MB 7.0MB/s eta 0:00:01\r\u001b[K     |████████████████████████████▊   | 2.0MB 7.0MB/s eta 0:00:01\r\u001b[K     |█████████████████████████████   | 2.0MB 7.0MB/s eta 0:00:01\r\u001b[K     |█████████████████████████████   | 2.1MB 7.0MB/s eta 0:00:01\r\u001b[K     |█████████████████████████████▏  | 2.1MB 7.0MB/s eta 0:00:01\r\u001b[K     |█████████████████████████████▍  | 2.1MB 7.0MB/s eta 0:00:01\r\u001b[K     |█████████████████████████████▌  | 2.1MB 7.0MB/s eta 0:00:01\r\u001b[K     |█████████████████████████████▋  | 2.1MB 7.0MB/s eta 0:00:01\r\u001b[K     |█████████████████████████████▊  | 2.1MB 7.0MB/s eta 0:00:01\r\u001b[K     |██████████████████████████████  | 2.1MB 7.0MB/s eta 0:00:01\r\u001b[K     |██████████████████████████████  | 2.1MB 7.0MB/s eta 0:00:01\r\u001b[K     |██████████████████████████████▏ | 2.1MB 7.0MB/s eta 0:00:01\r\u001b[K     |██████████████████████████████▍ | 2.2MB 7.0MB/s eta 0:00:01\r\u001b[K     |██████████████████████████████▌ | 2.2MB 7.0MB/s eta 0:00:01\r\u001b[K     |██████████████████████████████▋ | 2.2MB 7.0MB/s eta 0:00:01\r\u001b[K     |██████████████████████████████▉ | 2.2MB 7.0MB/s eta 0:00:01\r\u001b[K     |███████████████████████████████ | 2.2MB 7.0MB/s eta 0:00:01\r\u001b[K     |███████████████████████████████ | 2.2MB 7.0MB/s eta 0:00:01\r\u001b[K     |███████████████████████████████▏| 2.2MB 7.0MB/s eta 0:00:01\r\u001b[K     |███████████████████████████████▍| 2.2MB 7.0MB/s eta 0:00:01\r\u001b[K     |███████████████████████████████▌| 2.2MB 7.0MB/s eta 0:00:01\r\u001b[K     |███████████████████████████████▋| 2.2MB 7.0MB/s eta 0:00:01\r\u001b[K     |███████████████████████████████▉| 2.3MB 7.0MB/s eta 0:00:01\r\u001b[K     |████████████████████████████████| 2.3MB 7.0MB/s eta 0:00:01\r\u001b[K     |████████████████████████████████| 2.3MB 7.0MB/s \n",
            "\u001b[?25h"
          ],
          "name": "stdout"
        }
      ]
    },
    {
      "cell_type": "code",
      "metadata": {
        "id": "afDk77Xcw8_z",
        "colab_type": "code",
        "colab": {
          "base_uri": "https://localhost:8080/",
          "height": 34
        },
        "outputId": "2f4684f3-3fe6-4849-a69c-412bfa1eca91"
      },
      "source": [
        "from google.colab import drive\n",
        "drive.mount('/content/drive')\n",
        "DATA_DIR = '/content/drive/My Drive/data/ChIP-seq-toy/'\n",
        "LOG_DIR = '/content/drive/My Drive/dna-nn/ChIP-seq-toy/'"
      ],
      "execution_count": null,
      "outputs": [
        {
          "output_type": "stream",
          "text": [
            "Drive already mounted at /content/drive; to attempt to forcibly remount, call drive.mount(\"/content/drive\", force_remount=True).\n"
          ],
          "name": "stdout"
        }
      ]
    },
    {
      "cell_type": "code",
      "metadata": {
        "id": "OhkZSNbEVo2f",
        "colab_type": "code",
        "colab": {
          "base_uri": "https://localhost:8080/",
          "height": 34
        },
        "outputId": "8c4290f3-0322-463e-e81d-ecd86307cab0"
      },
      "source": [
        "!cp -r '/content/drive/My Drive/dna_nn' .\n",
        "!ls dna_nn"
      ],
      "execution_count": null,
      "outputs": [
        {
          "output_type": "stream",
          "text": [
            "download.py  load.py\n"
          ],
          "name": "stdout"
        }
      ]
    },
    {
      "cell_type": "code",
      "metadata": {
        "id": "737cygb8wRIC",
        "colab_type": "code",
        "colab": {}
      },
      "source": [
        "import gc\n",
        "\n",
        "import matplotlib.pyplot as plt\n",
        "import numpy as np\n",
        "import pandas as pd\n",
        "import tensorflow as tf\n",
        "from tensorflow import keras\n",
        "from tensorflow.data import Dataset\n",
        "\n",
        "from dna_nn.load import encode, encoded_shape, gen_from_fasta\n",
        "\n",
        "%load_ext autoreload\n",
        "%autoreload 2"
      ],
      "execution_count": null,
      "outputs": []
    },
    {
      "cell_type": "markdown",
      "metadata": {
        "id": "YcjH_ZTUuwAJ",
        "colab_type": "text"
      },
      "source": [
        "# Create dataset"
      ]
    },
    {
      "cell_type": "code",
      "metadata": {
        "id": "jZI-1Zh3XU5O",
        "colab_type": "code",
        "colab": {
          "base_uri": "https://localhost:8080/",
          "height": 50
        },
        "outputId": "e23e6d7e-2db2-4339-bdd4-c0f9ac40b567"
      },
      "source": [
        "# generators\n",
        "word_size = 1\n",
        "region_size = 0\n",
        "\n",
        "def cut(x):\n",
        "    return x[:50]\n",
        "\n",
        "x_shape = encoded_shape(range(101), word_size, region_size)\n",
        "encode_func = encode(word_size, region_size)\n",
        "\n",
        "x_shape = (50 - word_size + 1, ) + x_shape[1:]\n",
        "\n",
        "train_file = DATA_DIR + 'train.fasta'\n",
        "val_file = DATA_DIR + 'valid.fasta'\n",
        "test_file = DATA_DIR + 'test.fasta'\n",
        "train_gen = gen_from_fasta(train_file, [cut, encode_func])\n",
        "val_gen = gen_from_fasta(val_file, [cut, encode_func])\n",
        "test_gen = gen_from_fasta(test_file, [cut, encode_func])\n",
        "\n",
        "# datasets\n",
        "bacth_size = 512\n",
        "prefetch = tf.data.experimental.AUTOTUNE\n",
        "\n",
        "output_shapes = (x_shape, ())\n",
        "output_types = (tf.float32, tf.float32)\n",
        "\n",
        "train_ds = Dataset.from_generator(train_gen, output_types, output_shapes)\n",
        "train_ds = train_ds.take(5000).shuffle(500).batch(bacth_size).prefetch(prefetch)\n",
        "\n",
        "val_ds = Dataset.from_generator(val_gen, output_types, output_shapes)\n",
        "\n",
        "test_ds = Dataset.from_generator(test_gen, output_types, output_shapes)\n",
        "test_ds = test_ds.batch(bacth_size).prefetch(prefetch)\n",
        "\n",
        "print('x shape:', train_ds.element_spec[0].shape)\n",
        "print('y shape:', train_ds.element_spec[1].shape)"
      ],
      "execution_count": null,
      "outputs": [
        {
          "output_type": "stream",
          "text": [
            "x shape: (None, 50, 4, 1)\n",
            "y shape: (None,)\n"
          ],
          "name": "stdout"
        }
      ]
    },
    {
      "cell_type": "code",
      "metadata": {
        "id": "QNR_7Ivfhj0J",
        "colab_type": "code",
        "colab": {
          "base_uri": "https://localhost:8080/",
          "height": 50
        },
        "outputId": "48ac3c14-3dad-4233-e17b-c456fc1a5067"
      },
      "source": [
        "%%time\n",
        "x_val, y_val = [], []\n",
        "for d in val_ds:\n",
        "    x_val.append(d[0])\n",
        "    y_val.append(d[1])\n",
        "x_val = tf.convert_to_tensor(x_val)\n",
        "y_val = tf.convert_to_tensor(y_val)\n",
        "validation_data = (x_val, y_val)"
      ],
      "execution_count": null,
      "outputs": [
        {
          "output_type": "stream",
          "text": [
            "CPU times: user 745 ms, sys: 83.6 ms, total: 828 ms\n",
            "Wall time: 635 ms\n"
          ],
          "name": "stdout"
        }
      ]
    },
    {
      "cell_type": "markdown",
      "metadata": {
        "id": "wEuLcLAUluei",
        "colab_type": "text"
      },
      "source": [
        "## Build model"
      ]
    },
    {
      "cell_type": "code",
      "metadata": {
        "id": "8eDkJNcl2sWi",
        "colab_type": "code",
        "colab": {
          "base_uri": "https://localhost:8080/",
          "height": 353
        },
        "outputId": "4dd1426e-533f-4338-e906-b990c3d2b177"
      },
      "source": [
        "keras.backend.clear_session()\n",
        "\n",
        "model = keras.Sequential([\n",
        "    keras.layers.Conv2D(128, 3, activation='relu', input_shape=x_shape),\n",
        "    keras.layers.MaxPooling2D(),\n",
        "    keras.layers.Flatten(),\n",
        "    keras.layers.Dense(64, activation='relu'),\n",
        "    keras.layers.Dropout(0.5),\n",
        "    keras.layers.Dense(2, activation='softmax')\n",
        "])\n",
        "optimizer = keras.optimizers.Adam()\n",
        "model.compile(optimizer=optimizer, loss='sparse_categorical_crossentropy',\n",
        "              metrics=['accuracy'])\n",
        "model.summary()"
      ],
      "execution_count": null,
      "outputs": [
        {
          "output_type": "stream",
          "text": [
            "Model: \"sequential\"\n",
            "_________________________________________________________________\n",
            "Layer (type)                 Output Shape              Param #   \n",
            "=================================================================\n",
            "conv2d (Conv2D)              (None, 48, 2, 128)        1280      \n",
            "_________________________________________________________________\n",
            "max_pooling2d (MaxPooling2D) (None, 24, 1, 128)        0         \n",
            "_________________________________________________________________\n",
            "flatten (Flatten)            (None, 3072)              0         \n",
            "_________________________________________________________________\n",
            "dense (Dense)                (None, 64)                196672    \n",
            "_________________________________________________________________\n",
            "dropout (Dropout)            (None, 64)                0         \n",
            "_________________________________________________________________\n",
            "dense_1 (Dense)              (None, 2)                 130       \n",
            "=================================================================\n",
            "Total params: 198,082\n",
            "Trainable params: 198,082\n",
            "Non-trainable params: 0\n",
            "_________________________________________________________________\n"
          ],
          "name": "stdout"
        }
      ]
    },
    {
      "cell_type": "code",
      "metadata": {
        "id": "XLxGTj__lAJS",
        "colab_type": "code",
        "colab": {
          "base_uri": "https://localhost:8080/",
          "height": 1000
        },
        "outputId": "77af3661-def2-40ac-f06a-dc0cfbbdf654"
      },
      "source": [
        "version = 'v1-base'\n",
        "\n",
        "def scheduler(epoch, lr):\n",
        "    return lr if (epoch % 10) else lr / 10\n",
        "\n",
        "callbacks = [\n",
        "    # keras.callbacks.CSVLogger(LOG_DIR + f'{version}.csv'),\n",
        "    # keras.callbacks.TensorBoard(log_dir=LOG_DIR + f'log/{version}/'),\n",
        "    # keras.callbacks.LambdaCallback(\n",
        "    #     on_epoch_end=lambda epoch, logs: gc.collect(),\n",
        "    #     on_train_end=lambda logs: model.save(LOG_DIR + f'{version}.h5')\n",
        "    # ),\n",
        "    # keras.callbacks.LearningRateScheduler(scheduler),\n",
        "    # keras.callbacks.EarlyStopping(monitor=\"accuracy\", min_delta=0.01 ,patience=5)\n",
        "]\n",
        "\n",
        "history = model.fit(train_ds, validation_data=validation_data, epochs=30, callbacks=callbacks)"
      ],
      "execution_count": null,
      "outputs": [
        {
          "output_type": "stream",
          "text": [
            "Epoch 1/30\n",
            "10/10 [==============================] - 2s 163ms/step - loss: 0.7030 - accuracy: 0.5056 - val_loss: 0.6922 - val_accuracy: 0.5030\n",
            "Epoch 2/30\n",
            "10/10 [==============================] - 2s 151ms/step - loss: 0.6922 - accuracy: 0.5206 - val_loss: 0.6918 - val_accuracy: 0.5610\n",
            "Epoch 3/30\n",
            "10/10 [==============================] - 1s 148ms/step - loss: 0.6913 - accuracy: 0.5234 - val_loss: 0.6908 - val_accuracy: 0.5040\n",
            "Epoch 4/30\n",
            "10/10 [==============================] - 1s 150ms/step - loss: 0.6886 - accuracy: 0.5398 - val_loss: 0.6888 - val_accuracy: 0.5890\n",
            "Epoch 5/30\n",
            "10/10 [==============================] - 2s 152ms/step - loss: 0.6879 - accuracy: 0.5348 - val_loss: 0.6868 - val_accuracy: 0.5750\n",
            "Epoch 6/30\n",
            "10/10 [==============================] - 2s 152ms/step - loss: 0.6837 - accuracy: 0.5584 - val_loss: 0.6840 - val_accuracy: 0.5730\n",
            "Epoch 7/30\n",
            "10/10 [==============================] - 2s 151ms/step - loss: 0.6800 - accuracy: 0.5656 - val_loss: 0.6810 - val_accuracy: 0.5810\n",
            "Epoch 8/30\n",
            "10/10 [==============================] - 1s 150ms/step - loss: 0.6763 - accuracy: 0.5742 - val_loss: 0.6782 - val_accuracy: 0.5790\n",
            "Epoch 9/30\n",
            "10/10 [==============================] - 2s 154ms/step - loss: 0.6692 - accuracy: 0.5920 - val_loss: 0.6751 - val_accuracy: 0.5760\n",
            "Epoch 10/30\n",
            "10/10 [==============================] - 2s 150ms/step - loss: 0.6613 - accuracy: 0.6180 - val_loss: 0.6745 - val_accuracy: 0.5770\n",
            "Epoch 11/30\n",
            "10/10 [==============================] - 1s 150ms/step - loss: 0.6602 - accuracy: 0.6030 - val_loss: 0.6699 - val_accuracy: 0.5800\n",
            "Epoch 12/30\n",
            "10/10 [==============================] - 2s 152ms/step - loss: 0.6540 - accuracy: 0.6184 - val_loss: 0.6648 - val_accuracy: 0.5930\n",
            "Epoch 13/30\n",
            "10/10 [==============================] - 2s 153ms/step - loss: 0.6470 - accuracy: 0.6334 - val_loss: 0.6630 - val_accuracy: 0.5940\n",
            "Epoch 14/30\n",
            "10/10 [==============================] - 2s 155ms/step - loss: 0.6425 - accuracy: 0.6376 - val_loss: 0.6609 - val_accuracy: 0.5980\n",
            "Epoch 15/30\n",
            "10/10 [==============================] - 2s 151ms/step - loss: 0.6377 - accuracy: 0.6434 - val_loss: 0.6648 - val_accuracy: 0.5840\n",
            "Epoch 16/30\n",
            "10/10 [==============================] - 2s 154ms/step - loss: 0.6374 - accuracy: 0.6422 - val_loss: 0.6584 - val_accuracy: 0.6030\n",
            "Epoch 17/30\n",
            "10/10 [==============================] - 2s 154ms/step - loss: 0.6286 - accuracy: 0.6542 - val_loss: 0.6588 - val_accuracy: 0.5930\n",
            "Epoch 18/30\n",
            "10/10 [==============================] - 1s 150ms/step - loss: 0.6249 - accuracy: 0.6612 - val_loss: 0.6592 - val_accuracy: 0.5950\n",
            "Epoch 19/30\n",
            "10/10 [==============================] - 2s 152ms/step - loss: 0.6244 - accuracy: 0.6564 - val_loss: 0.6590 - val_accuracy: 0.5910\n",
            "Epoch 20/30\n",
            "10/10 [==============================] - 2s 154ms/step - loss: 0.6195 - accuracy: 0.6598 - val_loss: 0.6560 - val_accuracy: 0.6070\n",
            "Epoch 21/30\n",
            "10/10 [==============================] - 2s 152ms/step - loss: 0.6125 - accuracy: 0.6654 - val_loss: 0.6559 - val_accuracy: 0.5980\n",
            "Epoch 22/30\n",
            "10/10 [==============================] - 2s 151ms/step - loss: 0.6114 - accuracy: 0.6704 - val_loss: 0.6556 - val_accuracy: 0.6000\n",
            "Epoch 23/30\n",
            "10/10 [==============================] - 2s 154ms/step - loss: 0.6059 - accuracy: 0.6784 - val_loss: 0.6547 - val_accuracy: 0.6000\n",
            "Epoch 24/30\n",
            "10/10 [==============================] - 2s 155ms/step - loss: 0.6068 - accuracy: 0.6746 - val_loss: 0.6569 - val_accuracy: 0.5890\n",
            "Epoch 25/30\n",
            "10/10 [==============================] - 2s 158ms/step - loss: 0.6008 - accuracy: 0.6808 - val_loss: 0.6607 - val_accuracy: 0.6040\n",
            "Epoch 26/30\n",
            "10/10 [==============================] - 2s 151ms/step - loss: 0.6008 - accuracy: 0.6766 - val_loss: 0.6599 - val_accuracy: 0.5910\n",
            "Epoch 27/30\n",
            "10/10 [==============================] - 1s 149ms/step - loss: 0.5934 - accuracy: 0.6852 - val_loss: 0.6557 - val_accuracy: 0.6100\n",
            "Epoch 28/30\n",
            "10/10 [==============================] - 1s 149ms/step - loss: 0.5898 - accuracy: 0.6828 - val_loss: 0.6609 - val_accuracy: 0.6080\n",
            "Epoch 29/30\n",
            "10/10 [==============================] - 1s 150ms/step - loss: 0.5912 - accuracy: 0.6872 - val_loss: 0.6558 - val_accuracy: 0.6150\n",
            "Epoch 30/30\n",
            "10/10 [==============================] - 2s 155ms/step - loss: 0.5872 - accuracy: 0.6870 - val_loss: 0.6545 - val_accuracy: 0.6020\n"
          ],
          "name": "stdout"
        }
      ]
    },
    {
      "cell_type": "code",
      "metadata": {
        "id": "2DO6li9Wi1-C",
        "colab_type": "code",
        "colab": {
          "base_uri": "https://localhost:8080/",
          "height": 50
        },
        "outputId": "878c95c4-af59-4961-b0a5-a133c912eaea"
      },
      "source": [
        "model.evaluate(test_ds)"
      ],
      "execution_count": null,
      "outputs": [
        {
          "output_type": "stream",
          "text": [
            "39/39 [==============================] - 7s 180ms/step - loss: 0.5559 - accuracy: 0.7123\n"
          ],
          "name": "stdout"
        },
        {
          "output_type": "execute_result",
          "data": {
            "text/plain": [
              "[0.5559330582618713, 0.7122902274131775]"
            ]
          },
          "metadata": {
            "tags": []
          },
          "execution_count": 32
        }
      ]
    },
    {
      "cell_type": "code",
      "metadata": {
        "id": "4gUsjUoljfI7",
        "colab_type": "code",
        "colab": {}
      },
      "source": [
        "m = keras.metrics.AUC()\n",
        "y_pred = model.predict((xy[0] for xy in test_ds))\n",
        "y_true = [xy[1] for xy in test_ds.unbatch()]"
      ],
      "execution_count": null,
      "outputs": []
    },
    {
      "cell_type": "code",
      "metadata": {
        "id": "_eYHa1FkyzaA",
        "colab_type": "code",
        "colab": {
          "base_uri": "https://localhost:8080/",
          "height": 34
        },
        "outputId": "92afbd36-6fa8-4090-cf3b-5b865a5a7177"
      },
      "source": [
        "m.reset_states()\n",
        "# m.update_state(y_true, y_pred[range(len(y_pred)), np.argmax(y_pred, axis=1)])\n",
        "m.update_state(y_true, np.argmax(y_pred, axis=1))\n",
        "m.result()"
      ],
      "execution_count": null,
      "outputs": [
        {
          "output_type": "execute_result",
          "data": {
            "text/plain": [
              "<tf.Tensor: shape=(), dtype=float32, numpy=0.71232647>"
            ]
          },
          "metadata": {
            "tags": []
          },
          "execution_count": 60
        }
      ]
    },
    {
      "cell_type": "code",
      "metadata": {
        "id": "RvgRHkwT3bBC",
        "colab_type": "code",
        "colab": {}
      },
      "source": [
        ""
      ],
      "execution_count": null,
      "outputs": []
    }
  ]
}