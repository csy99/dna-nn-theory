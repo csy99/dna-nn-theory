{
  "nbformat": 4,
  "nbformat_minor": 0,
  "metadata": {
    "colab": {
      "name": "lstm_(supervised)_chip(256 adam).ipynb",
      "provenance": [],
      "collapsed_sections": [],
      "authorship_tag": "ABX9TyODbAW71x4f4DP0aO2YJ1C5",
      "include_colab_link": true
    },
    "kernelspec": {
      "name": "python3",
      "display_name": "Python 3"
    },
    "accelerator": "GPU"
  },
  "cells": [
    {
      "cell_type": "markdown",
      "metadata": {
        "id": "view-in-github",
        "colab_type": "text"
      },
      "source": [
        "<a href=\"https://colab.research.google.com/github/csy99/dna-nn-theory/blob/master/lstm_(supervised)_chip(256_adam).ipynb\" target=\"_parent\"><img src=\"https://colab.research.google.com/assets/colab-badge.svg\" alt=\"Open In Colab\"/></a>"
      ]
    },
    {
      "cell_type": "code",
      "metadata": {
        "id": "FiSO3GWw8FWG"
      },
      "source": [
        "import numpy as np\n",
        "import pandas as pd\n",
        "import matplotlib\n",
        "import matplotlib.pyplot as plt\n",
        "from itertools import product\n",
        "import re\n",
        "import time\n",
        "# from sklearn.model_selection import train_test_split\n",
        "from sklearn.manifold import TSNE\n",
        "import tensorflow as tf\n",
        "from tensorflow import keras"
      ],
      "execution_count": 1,
      "outputs": []
    },
    {
      "cell_type": "code",
      "metadata": {
        "id": "7LCWC3mMfj_i",
        "outputId": "decb02f3-d914-4696-fea9-46bd3df8b44e",
        "colab": {
          "base_uri": "https://localhost:8080/",
          "height": 145
        }
      },
      "source": [
        "!pip install biopython\n",
        "from Bio import SeqIO"
      ],
      "execution_count": 2,
      "outputs": [
        {
          "output_type": "stream",
          "text": [
            "Collecting biopython\n",
            "\u001b[?25l  Downloading https://files.pythonhosted.org/packages/76/02/8b606c4aa92ff61b5eda71d23b499ab1de57d5e818be33f77b01a6f435a8/biopython-1.78-cp36-cp36m-manylinux1_x86_64.whl (2.3MB)\n",
            "\u001b[K     |████████████████████████████████| 2.3MB 3.4MB/s \n",
            "\u001b[?25hRequirement already satisfied: numpy in /usr/local/lib/python3.6/dist-packages (from biopython) (1.18.5)\n",
            "Installing collected packages: biopython\n",
            "Successfully installed biopython-1.78\n"
          ],
          "name": "stdout"
        }
      ]
    },
    {
      "cell_type": "markdown",
      "metadata": {
        "id": "GuvNh5Ia8vvD"
      },
      "source": [
        "# Read Data"
      ]
    },
    {
      "cell_type": "code",
      "metadata": {
        "id": "H5SYc4iv-RPC",
        "outputId": "b65be39d-6a4f-448e-8633-0ff1de454c32",
        "colab": {
          "base_uri": "https://localhost:8080/",
          "height": 307
        }
      },
      "source": [
        "!pip install PyDrive\n",
        "from google.colab import drive\n",
        "drive.mount('/content/gdrive')"
      ],
      "execution_count": 3,
      "outputs": [
        {
          "output_type": "stream",
          "text": [
            "Requirement already satisfied: PyDrive in /usr/local/lib/python3.6/dist-packages (1.3.1)\n",
            "Requirement already satisfied: google-api-python-client>=1.2 in /usr/local/lib/python3.6/dist-packages (from PyDrive) (1.7.12)\n",
            "Requirement already satisfied: PyYAML>=3.0 in /usr/local/lib/python3.6/dist-packages (from PyDrive) (3.13)\n",
            "Requirement already satisfied: oauth2client>=4.0.0 in /usr/local/lib/python3.6/dist-packages (from PyDrive) (4.1.3)\n",
            "Requirement already satisfied: uritemplate<4dev,>=3.0.0 in /usr/local/lib/python3.6/dist-packages (from google-api-python-client>=1.2->PyDrive) (3.0.1)\n",
            "Requirement already satisfied: google-auth-httplib2>=0.0.3 in /usr/local/lib/python3.6/dist-packages (from google-api-python-client>=1.2->PyDrive) (0.0.4)\n",
            "Requirement already satisfied: six<2dev,>=1.6.1 in /usr/local/lib/python3.6/dist-packages (from google-api-python-client>=1.2->PyDrive) (1.15.0)\n",
            "Requirement already satisfied: google-auth>=1.4.1 in /usr/local/lib/python3.6/dist-packages (from google-api-python-client>=1.2->PyDrive) (1.17.2)\n",
            "Requirement already satisfied: httplib2<1dev,>=0.17.0 in /usr/local/lib/python3.6/dist-packages (from google-api-python-client>=1.2->PyDrive) (0.17.4)\n",
            "Requirement already satisfied: pyasn1-modules>=0.0.5 in /usr/local/lib/python3.6/dist-packages (from oauth2client>=4.0.0->PyDrive) (0.2.8)\n",
            "Requirement already satisfied: pyasn1>=0.1.7 in /usr/local/lib/python3.6/dist-packages (from oauth2client>=4.0.0->PyDrive) (0.4.8)\n",
            "Requirement already satisfied: rsa>=3.1.4 in /usr/local/lib/python3.6/dist-packages (from oauth2client>=4.0.0->PyDrive) (4.6)\n",
            "Requirement already satisfied: cachetools<5.0,>=2.0.0 in /usr/local/lib/python3.6/dist-packages (from google-auth>=1.4.1->google-api-python-client>=1.2->PyDrive) (4.1.1)\n",
            "Requirement already satisfied: setuptools>=40.3.0 in /usr/local/lib/python3.6/dist-packages (from google-auth>=1.4.1->google-api-python-client>=1.2->PyDrive) (50.3.0)\n",
            "Mounted at /content/gdrive\n"
          ],
          "name": "stdout"
        }
      ]
    },
    {
      "cell_type": "code",
      "metadata": {
        "id": "r3Qvmz3MfcR1"
      },
      "source": [
        "def readFasta(file):\n",
        "  with open(file, 'r') as f:\n",
        "    records = np.array([record.seq._data.upper() for record in SeqIO.parse(f, 'fasta')])\n",
        "  with open(file, 'r') as f:\n",
        "    records_id = np.array([record.id for record in SeqIO.parse(f, 'fasta')])\n",
        "  print('reading', str(file), 'Number of sequences :', \n",
        "        len(records), 'Length of sequences :', len(records[0]))\n",
        "  records_df = pd.DataFrame({'id': records_id, 'seq': records})\n",
        "  return records_df"
      ],
      "execution_count": 4,
      "outputs": []
    },
    {
      "cell_type": "code",
      "metadata": {
        "id": "Ue0xl7xUfeCZ",
        "outputId": "ef852050-e18f-49d1-b906-e77c2e9c07e5",
        "colab": {
          "base_uri": "https://localhost:8080/",
          "height": 233
        }
      },
      "source": [
        "# read fasta data\n",
        "data_path = '/content/gdrive/My Drive/Colab Notebooks/CHIP/'\n",
        "chip_train = readFasta(data_path + 'train.fasta')\n",
        "chip_val = readFasta(data_path + 'valid.fasta')\n",
        "chip_test = readFasta(data_path + 'test.fasta')\n",
        "chip_train[\"id\"] = chip_train[\"id\"].astype(int)\n",
        "chip_val[\"id\"] = chip_val[\"id\"].astype(int)\n",
        "chip_test[\"id\"] = chip_test[\"id\"].astype(int)\n",
        "print(chip_train.id.value_counts())\n",
        "print(chip_val.id.value_counts())\n",
        "print(chip_test.id.value_counts())"
      ],
      "execution_count": 5,
      "outputs": [
        {
          "output_type": "stream",
          "text": [
            "reading /content/gdrive/My Drive/Colab Notebooks/CHIP/train.fasta Number of sequences : 77174 Length of sequences : 101\n",
            "reading /content/gdrive/My Drive/Colab Notebooks/CHIP/valid.fasta Number of sequences : 1000 Length of sequences : 101\n",
            "reading /content/gdrive/My Drive/Colab Notebooks/CHIP/test.fasta Number of sequences : 19544 Length of sequences : 101\n",
            "1    38638\n",
            "0    38536\n",
            "Name: id, dtype: int64\n",
            "1    500\n",
            "0    500\n",
            "Name: id, dtype: int64\n",
            "0    9823\n",
            "1    9721\n",
            "Name: id, dtype: int64\n"
          ],
          "name": "stdout"
        }
      ]
    },
    {
      "cell_type": "code",
      "metadata": {
        "id": "h_IFMicpqYIl"
      },
      "source": [
        "# seq_num = 0\n",
        "# for seq in chip_train[\"seq\"]:\n",
        "#   char_num = 0\n",
        "#   for char in seq:\n",
        "#     if char != 'A' and char != 'C' and char != 'T' and char != 'G':\n",
        "#       print(\"seq\", seq_num, 'char', char_num, 'is', char)\n",
        "#     char_num += 1\n",
        "#   seq_num += 1"
      ],
      "execution_count": null,
      "outputs": []
    },
    {
      "cell_type": "code",
      "metadata": {
        "id": "lSFFjXSJP88L",
        "outputId": "4ccd5d07-2703-4ae2-c7f4-772fa597bd6a",
        "colab": {
          "base_uri": "https://localhost:8080/",
          "height": 35
        }
      },
      "source": [
        "# check if the length of the sequence is the same \n",
        "seq_len = len(chip_train.seq[0])\n",
        "print(\"The length of the sequence is\", seq_len)\n",
        "for seq in chip_train.seq[:200]:\n",
        "  assert len(seq) == seq_len"
      ],
      "execution_count": 6,
      "outputs": [
        {
          "output_type": "stream",
          "text": [
            "The length of the sequence is 101\n"
          ],
          "name": "stdout"
        }
      ]
    },
    {
      "cell_type": "code",
      "metadata": {
        "id": "W2h9sGLCVtDn",
        "outputId": "99e3ca3a-14cf-4b1a-87c2-d5ec9bcaa5f3",
        "colab": {
          "base_uri": "https://localhost:8080/",
          "height": 35
        }
      },
      "source": [
        "word_size = 1\n",
        "vocab = [''.join(p) for p in product('ACGT', repeat=word_size)]\n",
        "vocab_size = len('ACGT')\n",
        "print('vocab_size:', vocab_size)\n",
        "# print(\"word_to_idx\", word_to_idx)\n",
        "create1gram = keras.layers.experimental.preprocessing.TextVectorization(\n",
        "  standardize=lambda x: tf.strings.regex_replace(x, '(.)', '\\\\1 '), ngrams=1\n",
        ")\n",
        "create1gram.adapt(vocab)"
      ],
      "execution_count": 7,
      "outputs": [
        {
          "output_type": "stream",
          "text": [
            "vocab_size: 4\n"
          ],
          "name": "stdout"
        }
      ]
    },
    {
      "cell_type": "code",
      "metadata": {
        "id": "EHPvs2BCU_Mk"
      },
      "source": [
        "# the first two index of TextVectorization has been reserved to EOS and OOV\n",
        "def index_preprocess(x):\n",
        "  x_index = tf.subtract(create1gram(x), 2)\n",
        "  return x_index,x_index"
      ],
      "execution_count": 19,
      "outputs": []
    },
    {
      "cell_type": "code",
      "metadata": {
        "id": "2zPhtxRTSyGW"
      },
      "source": [
        "def ds_preprocess(x, y):\n",
        "  x_index = tf.subtract(create1gram(x), 2)\n",
        "  return x_index, y"
      ],
      "execution_count": 20,
      "outputs": []
    },
    {
      "cell_type": "code",
      "metadata": {
        "id": "TFvsJkEa0YuT",
        "outputId": "78b8b811-b0f2-4767-86e5-26d65bce1f1a",
        "colab": {
          "base_uri": "https://localhost:8080/",
          "height": 35
        }
      },
      "source": [
        "# not sure the correct way to get mapping from word to its index\n",
        "create1gram('A C G T') - 2"
      ],
      "execution_count": null,
      "outputs": [
        {
          "output_type": "execute_result",
          "data": {
            "text/plain": [
              "<tf.Tensor: shape=(4,), dtype=int64, numpy=array([3, 2, 1, 0])>"
            ]
          },
          "metadata": {
            "tags": []
          },
          "execution_count": 9
        }
      ]
    },
    {
      "cell_type": "code",
      "metadata": {
        "id": "jzLRmqEjSitl"
      },
      "source": [
        "BATCH_SIZE = 256\n",
        "xtrain_ds = tf.data.Dataset.from_tensor_slices((chip_train['seq'], chip_train['id'])).map(ds_preprocess).batch(BATCH_SIZE)\n",
        "xval_ds = tf.data.Dataset.from_tensor_slices((chip_val['seq'], chip_val['id'])).map(ds_preprocess).batch(BATCH_SIZE)\n",
        "xtest_ds = tf.data.Dataset.from_tensor_slices((chip_test['seq'], chip_test['id'])).map(ds_preprocess).batch(BATCH_SIZE)\n",
        "# xtrain_seq = np.array(xtrain_seq)\n",
        "# xval_seq = np.array(xval_seq)\n",
        "# xtest_seq = np.array(xtest_seq)"
      ],
      "execution_count": 22,
      "outputs": []
    },
    {
      "cell_type": "code",
      "metadata": {
        "id": "gVLaIchQUWQl",
        "outputId": "4c61c429-7f21-485f-af43-e4d30c59816d",
        "colab": {
          "base_uri": "https://localhost:8080/",
          "height": 557
        }
      },
      "source": [
        "latent_size = 30\n",
        "\n",
        "model = keras.Sequential([\n",
        "    keras.Input(shape=(seq_len,)),\n",
        "    keras.layers.Embedding(seq_len, latent_size),\n",
        "    keras.layers.LSTM(latent_size, return_sequences=False),\n",
        "    keras.layers.Dense(128, activation=\"relu\", input_shape=[latent_size]),\n",
        "    keras.layers.Dropout(0.2),\n",
        "    keras.layers.Dense(64, activation=\"relu\"),    \n",
        "    keras.layers.Dropout(0.2),\n",
        "    keras.layers.Dense(32, activation=\"relu\"),  \n",
        "    keras.layers.Dropout(0.2), \n",
        "    keras.layers.Dense(16, activation=\"relu\"), \n",
        "    keras.layers.Dropout(0.2),   \n",
        "    keras.layers.Dense(1, activation=\"sigmoid\")                               \n",
        "])\n",
        "model.summary()"
      ],
      "execution_count": 10,
      "outputs": [
        {
          "output_type": "stream",
          "text": [
            "Model: \"sequential\"\n",
            "_________________________________________________________________\n",
            "Layer (type)                 Output Shape              Param #   \n",
            "=================================================================\n",
            "embedding (Embedding)        (None, 101, 30)           3030      \n",
            "_________________________________________________________________\n",
            "lstm (LSTM)                  (None, 30)                7320      \n",
            "_________________________________________________________________\n",
            "dense (Dense)                (None, 128)               3968      \n",
            "_________________________________________________________________\n",
            "dropout (Dropout)            (None, 128)               0         \n",
            "_________________________________________________________________\n",
            "dense_1 (Dense)              (None, 64)                8256      \n",
            "_________________________________________________________________\n",
            "dropout_1 (Dropout)          (None, 64)                0         \n",
            "_________________________________________________________________\n",
            "dense_2 (Dense)              (None, 32)                2080      \n",
            "_________________________________________________________________\n",
            "dropout_2 (Dropout)          (None, 32)                0         \n",
            "_________________________________________________________________\n",
            "dense_3 (Dense)              (None, 16)                528       \n",
            "_________________________________________________________________\n",
            "dropout_3 (Dropout)          (None, 16)                0         \n",
            "_________________________________________________________________\n",
            "dense_4 (Dense)              (None, 1)                 17        \n",
            "=================================================================\n",
            "Total params: 25,199\n",
            "Trainable params: 25,199\n",
            "Non-trainable params: 0\n",
            "_________________________________________________________________\n"
          ],
          "name": "stdout"
        }
      ]
    },
    {
      "cell_type": "code",
      "metadata": {
        "id": "VMlnaNStWLNK"
      },
      "source": [
        "# save_freq=1500 means that the model will be saved around every 20 epochs (each epochs contain 76 batches)\n",
        "checkpoint_filepath = '/content/gdrive/My Drive/Colab Notebooks/models/lstm_supervised_chip.256adam.{epoch:04d}.h5'\n",
        "model_checkpoint_callback = tf.keras.callbacks.ModelCheckpoint(\n",
        "    filepath=checkpoint_filepath,\n",
        "    save_weights_only=False,\n",
        "    monitor='val_acc',\n",
        "    mode='max',\n",
        "    save_best_only=False,\n",
        "    save_freq=1500)\n",
        "es_cb = keras.callbacks.EarlyStopping(patience=20, restore_best_weights=True)"
      ],
      "execution_count": 11,
      "outputs": []
    },
    {
      "cell_type": "code",
      "metadata": {
        "id": "YzGk4gMahIvw",
        "outputId": "efc6d1b8-cd69-447c-b20f-d4ec36268a14",
        "colab": {
          "base_uri": "https://localhost:8080/",
          "height": 1000
        }
      },
      "source": [
        "BATCH_SIZE = 256\n",
        "model.compile(keras.optimizers.Adam(0.0005), loss=keras.losses.BinaryCrossentropy(), metrics=['accuracy'])\n",
        "hist = model.fit(xtrain_ds, validation_data=xval_ds, epochs=1000, callbacks=[es_cb, model_checkpoint_callback])"
      ],
      "execution_count": 23,
      "outputs": [
        {
          "output_type": "stream",
          "text": [
            "Epoch 1/1000\n",
            "302/302 [==============================] - 16s 53ms/step - loss: 0.6814 - accuracy: 0.5533 - val_loss: 0.6693 - val_accuracy: 0.5870\n",
            "Epoch 2/1000\n",
            "302/302 [==============================] - 15s 51ms/step - loss: 0.6630 - accuracy: 0.6021 - val_loss: 0.6631 - val_accuracy: 0.5950\n",
            "Epoch 3/1000\n",
            "302/302 [==============================] - 15s 51ms/step - loss: 0.6600 - accuracy: 0.6040 - val_loss: 0.6601 - val_accuracy: 0.5990\n",
            "Epoch 4/1000\n",
            "302/302 [==============================] - 15s 50ms/step - loss: 0.6579 - accuracy: 0.6100 - val_loss: 0.6604 - val_accuracy: 0.5920\n",
            "Epoch 5/1000\n",
            "302/302 [==============================] - 16s 53ms/step - loss: 0.6551 - accuracy: 0.6146 - val_loss: 0.6547 - val_accuracy: 0.6100\n",
            "Epoch 6/1000\n",
            "302/302 [==============================] - 16s 51ms/step - loss: 0.6499 - accuracy: 0.6226 - val_loss: 0.6485 - val_accuracy: 0.6240\n",
            "Epoch 7/1000\n",
            "302/302 [==============================] - 15s 50ms/step - loss: 0.6452 - accuracy: 0.6295 - val_loss: 0.6396 - val_accuracy: 0.6310\n",
            "Epoch 8/1000\n",
            "302/302 [==============================] - 15s 51ms/step - loss: 0.6353 - accuracy: 0.6435 - val_loss: 0.6259 - val_accuracy: 0.6590\n",
            "Epoch 9/1000\n",
            "302/302 [==============================] - 17s 55ms/step - loss: 0.6207 - accuracy: 0.6578 - val_loss: 0.5992 - val_accuracy: 0.6570\n",
            "Epoch 10/1000\n",
            "302/302 [==============================] - 16s 52ms/step - loss: 0.6041 - accuracy: 0.6775 - val_loss: 0.5913 - val_accuracy: 0.6630\n",
            "Epoch 11/1000\n",
            "302/302 [==============================] - 16s 52ms/step - loss: 0.5915 - accuracy: 0.6883 - val_loss: 0.5772 - val_accuracy: 0.6860\n",
            "Epoch 12/1000\n",
            "302/302 [==============================] - 16s 51ms/step - loss: 0.5863 - accuracy: 0.6951 - val_loss: 0.5755 - val_accuracy: 0.7010\n",
            "Epoch 13/1000\n",
            "302/302 [==============================] - 16s 52ms/step - loss: 0.5799 - accuracy: 0.7008 - val_loss: 0.5694 - val_accuracy: 0.6940\n",
            "Epoch 14/1000\n",
            "302/302 [==============================] - 16s 52ms/step - loss: 0.5740 - accuracy: 0.7052 - val_loss: 0.5625 - val_accuracy: 0.7050\n",
            "Epoch 15/1000\n",
            "302/302 [==============================] - 16s 52ms/step - loss: 0.5667 - accuracy: 0.7110 - val_loss: 0.5589 - val_accuracy: 0.6930\n",
            "Epoch 16/1000\n",
            "302/302 [==============================] - 16s 52ms/step - loss: 0.5611 - accuracy: 0.7164 - val_loss: 0.5537 - val_accuracy: 0.7070\n",
            "Epoch 17/1000\n",
            "302/302 [==============================] - 16s 52ms/step - loss: 0.5519 - accuracy: 0.7223 - val_loss: 0.5460 - val_accuracy: 0.7070\n",
            "Epoch 18/1000\n",
            "302/302 [==============================] - 16s 52ms/step - loss: 0.5432 - accuracy: 0.7286 - val_loss: 0.5412 - val_accuracy: 0.7260\n",
            "Epoch 19/1000\n",
            "302/302 [==============================] - 16s 51ms/step - loss: 0.5357 - accuracy: 0.7365 - val_loss: 0.5333 - val_accuracy: 0.7260\n",
            "Epoch 20/1000\n",
            "302/302 [==============================] - 15s 50ms/step - loss: 0.5236 - accuracy: 0.7436 - val_loss: 0.5213 - val_accuracy: 0.7360\n",
            "Epoch 21/1000\n",
            "302/302 [==============================] - 16s 53ms/step - loss: 0.5140 - accuracy: 0.7512 - val_loss: 0.5193 - val_accuracy: 0.7430\n",
            "Epoch 22/1000\n",
            "302/302 [==============================] - 16s 52ms/step - loss: 0.5042 - accuracy: 0.7561 - val_loss: 0.5007 - val_accuracy: 0.7550\n",
            "Epoch 23/1000\n",
            "302/302 [==============================] - 16s 54ms/step - loss: 0.4939 - accuracy: 0.7644 - val_loss: 0.4958 - val_accuracy: 0.7720\n",
            "Epoch 24/1000\n",
            "302/302 [==============================] - 16s 51ms/step - loss: 0.4859 - accuracy: 0.7692 - val_loss: 0.4984 - val_accuracy: 0.7560\n",
            "Epoch 25/1000\n",
            "302/302 [==============================] - 16s 52ms/step - loss: 0.4777 - accuracy: 0.7750 - val_loss: 0.4888 - val_accuracy: 0.7580\n",
            "Epoch 26/1000\n",
            "302/302 [==============================] - 16s 54ms/step - loss: 0.4702 - accuracy: 0.7812 - val_loss: 0.4735 - val_accuracy: 0.7760\n",
            "Epoch 27/1000\n",
            "302/302 [==============================] - 15s 51ms/step - loss: 0.4617 - accuracy: 0.7871 - val_loss: 0.4694 - val_accuracy: 0.7780\n",
            "Epoch 28/1000\n",
            "302/302 [==============================] - 16s 54ms/step - loss: 0.4565 - accuracy: 0.7903 - val_loss: 0.4589 - val_accuracy: 0.7860\n",
            "Epoch 29/1000\n",
            "302/302 [==============================] - 17s 57ms/step - loss: 0.4475 - accuracy: 0.7958 - val_loss: 0.4540 - val_accuracy: 0.7950\n",
            "Epoch 30/1000\n",
            "302/302 [==============================] - 15s 50ms/step - loss: 0.4401 - accuracy: 0.8009 - val_loss: 0.4475 - val_accuracy: 0.7990\n",
            "Epoch 31/1000\n",
            "302/302 [==============================] - 16s 53ms/step - loss: 0.4342 - accuracy: 0.8038 - val_loss: 0.4480 - val_accuracy: 0.7940\n",
            "Epoch 32/1000\n",
            "302/302 [==============================] - 16s 51ms/step - loss: 0.4275 - accuracy: 0.8084 - val_loss: 0.4380 - val_accuracy: 0.7990\n",
            "Epoch 33/1000\n",
            "302/302 [==============================] - 15s 51ms/step - loss: 0.4206 - accuracy: 0.8110 - val_loss: 0.4393 - val_accuracy: 0.8030\n",
            "Epoch 34/1000\n",
            "302/302 [==============================] - 16s 52ms/step - loss: 0.4159 - accuracy: 0.8145 - val_loss: 0.4395 - val_accuracy: 0.8020\n",
            "Epoch 35/1000\n",
            "302/302 [==============================] - 15s 50ms/step - loss: 0.4089 - accuracy: 0.8186 - val_loss: 0.4197 - val_accuracy: 0.8110\n",
            "Epoch 36/1000\n",
            "302/302 [==============================] - 16s 52ms/step - loss: 0.4037 - accuracy: 0.8227 - val_loss: 0.4238 - val_accuracy: 0.8090\n",
            "Epoch 37/1000\n",
            "302/302 [==============================] - 15s 51ms/step - loss: 0.3964 - accuracy: 0.8254 - val_loss: 0.4210 - val_accuracy: 0.8150\n",
            "Epoch 38/1000\n",
            "302/302 [==============================] - 15s 51ms/step - loss: 0.3917 - accuracy: 0.8290 - val_loss: 0.4166 - val_accuracy: 0.8120\n",
            "Epoch 39/1000\n",
            "302/302 [==============================] - 16s 52ms/step - loss: 0.3843 - accuracy: 0.8324 - val_loss: 0.3971 - val_accuracy: 0.8310\n",
            "Epoch 40/1000\n",
            "302/302 [==============================] - 15s 50ms/step - loss: 0.3802 - accuracy: 0.8359 - val_loss: 0.4071 - val_accuracy: 0.8110\n",
            "Epoch 41/1000\n",
            "302/302 [==============================] - 16s 52ms/step - loss: 0.3751 - accuracy: 0.8379 - val_loss: 0.3968 - val_accuracy: 0.8220\n",
            "Epoch 42/1000\n",
            "302/302 [==============================] - 16s 52ms/step - loss: 0.3686 - accuracy: 0.8418 - val_loss: 0.3911 - val_accuracy: 0.8210\n",
            "Epoch 43/1000\n",
            "302/302 [==============================] - 16s 51ms/step - loss: 0.3660 - accuracy: 0.8434 - val_loss: 0.3853 - val_accuracy: 0.8280\n",
            "Epoch 44/1000\n",
            "302/302 [==============================] - 16s 52ms/step - loss: 0.3603 - accuracy: 0.8467 - val_loss: 0.3753 - val_accuracy: 0.8350\n",
            "Epoch 45/1000\n",
            "302/302 [==============================] - 16s 52ms/step - loss: 0.3582 - accuracy: 0.8480 - val_loss: 0.3830 - val_accuracy: 0.8280\n",
            "Epoch 46/1000\n",
            "302/302 [==============================] - 15s 51ms/step - loss: 0.3526 - accuracy: 0.8502 - val_loss: 0.3738 - val_accuracy: 0.8290\n",
            "Epoch 47/1000\n",
            "302/302 [==============================] - 16s 53ms/step - loss: 0.3481 - accuracy: 0.8532 - val_loss: 0.3879 - val_accuracy: 0.8270\n",
            "Epoch 48/1000\n",
            "302/302 [==============================] - 16s 52ms/step - loss: 0.3450 - accuracy: 0.8547 - val_loss: 0.3765 - val_accuracy: 0.8300\n",
            "Epoch 49/1000\n",
            "302/302 [==============================] - 17s 56ms/step - loss: 0.3417 - accuracy: 0.8564 - val_loss: 0.3673 - val_accuracy: 0.8390\n",
            "Epoch 50/1000\n",
            "302/302 [==============================] - 15s 51ms/step - loss: 0.3391 - accuracy: 0.8572 - val_loss: 0.3674 - val_accuracy: 0.8430\n",
            "Epoch 51/1000\n",
            "302/302 [==============================] - 15s 51ms/step - loss: 0.3361 - accuracy: 0.8587 - val_loss: 0.3560 - val_accuracy: 0.8420\n",
            "Epoch 52/1000\n",
            "302/302 [==============================] - 15s 51ms/step - loss: 0.3332 - accuracy: 0.8601 - val_loss: 0.3512 - val_accuracy: 0.8440\n",
            "Epoch 53/1000\n",
            "302/302 [==============================] - 16s 53ms/step - loss: 0.3301 - accuracy: 0.8619 - val_loss: 0.3656 - val_accuracy: 0.8450\n",
            "Epoch 54/1000\n",
            "302/302 [==============================] - 16s 52ms/step - loss: 0.3273 - accuracy: 0.8634 - val_loss: 0.3505 - val_accuracy: 0.8490\n",
            "Epoch 55/1000\n",
            "302/302 [==============================] - 16s 53ms/step - loss: 0.3262 - accuracy: 0.8643 - val_loss: 0.3545 - val_accuracy: 0.8450\n",
            "Epoch 56/1000\n",
            "302/302 [==============================] - 16s 51ms/step - loss: 0.3243 - accuracy: 0.8649 - val_loss: 0.3435 - val_accuracy: 0.8510\n",
            "Epoch 57/1000\n",
            "302/302 [==============================] - 15s 51ms/step - loss: 0.3211 - accuracy: 0.8664 - val_loss: 0.3457 - val_accuracy: 0.8520\n",
            "Epoch 58/1000\n",
            "302/302 [==============================] - 15s 51ms/step - loss: 0.3189 - accuracy: 0.8681 - val_loss: 0.3484 - val_accuracy: 0.8470\n",
            "Epoch 59/1000\n",
            "302/302 [==============================] - 15s 51ms/step - loss: 0.3172 - accuracy: 0.8679 - val_loss: 0.3471 - val_accuracy: 0.8530\n",
            "Epoch 60/1000\n",
            "302/302 [==============================] - 16s 52ms/step - loss: 0.3142 - accuracy: 0.8699 - val_loss: 0.3409 - val_accuracy: 0.8600\n",
            "Epoch 61/1000\n",
            "302/302 [==============================] - 16s 52ms/step - loss: 0.3121 - accuracy: 0.8709 - val_loss: 0.3428 - val_accuracy: 0.8600\n",
            "Epoch 62/1000\n",
            "302/302 [==============================] - 15s 51ms/step - loss: 0.3107 - accuracy: 0.8723 - val_loss: 0.3345 - val_accuracy: 0.8630\n",
            "Epoch 63/1000\n",
            "302/302 [==============================] - 16s 53ms/step - loss: 0.3089 - accuracy: 0.8725 - val_loss: 0.3449 - val_accuracy: 0.8570\n",
            "Epoch 64/1000\n",
            "302/302 [==============================] - 16s 52ms/step - loss: 0.3071 - accuracy: 0.8732 - val_loss: 0.3323 - val_accuracy: 0.8590\n",
            "Epoch 65/1000\n",
            "302/302 [==============================] - 15s 51ms/step - loss: 0.3045 - accuracy: 0.8746 - val_loss: 0.3240 - val_accuracy: 0.8620\n",
            "Epoch 66/1000\n",
            "302/302 [==============================] - 16s 53ms/step - loss: 0.3025 - accuracy: 0.8762 - val_loss: 0.3252 - val_accuracy: 0.8670\n",
            "Epoch 67/1000\n",
            "302/302 [==============================] - 15s 51ms/step - loss: 0.3030 - accuracy: 0.8755 - val_loss: 0.3479 - val_accuracy: 0.8580\n",
            "Epoch 68/1000\n",
            "302/302 [==============================] - 16s 52ms/step - loss: 0.3005 - accuracy: 0.8771 - val_loss: 0.3330 - val_accuracy: 0.8620\n",
            "Epoch 69/1000\n",
            "302/302 [==============================] - 16s 54ms/step - loss: 0.2995 - accuracy: 0.8765 - val_loss: 0.3300 - val_accuracy: 0.8660\n",
            "Epoch 70/1000\n",
            "302/302 [==============================] - 16s 53ms/step - loss: 0.2974 - accuracy: 0.8787 - val_loss: 0.3172 - val_accuracy: 0.8700\n",
            "Epoch 71/1000\n",
            "302/302 [==============================] - 15s 51ms/step - loss: 0.2943 - accuracy: 0.8801 - val_loss: 0.3405 - val_accuracy: 0.8570\n",
            "Epoch 72/1000\n",
            "302/302 [==============================] - 15s 51ms/step - loss: 0.2921 - accuracy: 0.8799 - val_loss: 0.3184 - val_accuracy: 0.8700\n",
            "Epoch 73/1000\n",
            "302/302 [==============================] - 16s 53ms/step - loss: 0.2918 - accuracy: 0.8810 - val_loss: 0.3230 - val_accuracy: 0.8710\n",
            "Epoch 74/1000\n",
            "302/302 [==============================] - 17s 55ms/step - loss: 0.2904 - accuracy: 0.8815 - val_loss: 0.3220 - val_accuracy: 0.8680\n",
            "Epoch 75/1000\n",
            "302/302 [==============================] - 16s 51ms/step - loss: 0.2905 - accuracy: 0.8824 - val_loss: 0.3423 - val_accuracy: 0.8680\n",
            "Epoch 76/1000\n",
            "302/302 [==============================] - 16s 53ms/step - loss: 0.2879 - accuracy: 0.8836 - val_loss: 0.3501 - val_accuracy: 0.8660\n",
            "Epoch 77/1000\n",
            "302/302 [==============================] - 16s 51ms/step - loss: 0.2876 - accuracy: 0.8835 - val_loss: 0.3262 - val_accuracy: 0.8730\n",
            "Epoch 78/1000\n",
            "302/302 [==============================] - 15s 51ms/step - loss: 0.2837 - accuracy: 0.8847 - val_loss: 0.3410 - val_accuracy: 0.8640\n",
            "Epoch 79/1000\n",
            "302/302 [==============================] - 16s 53ms/step - loss: 0.2825 - accuracy: 0.8863 - val_loss: 0.3241 - val_accuracy: 0.8760\n",
            "Epoch 80/1000\n",
            "302/302 [==============================] - 16s 54ms/step - loss: 0.2819 - accuracy: 0.8864 - val_loss: 0.3111 - val_accuracy: 0.8770\n",
            "Epoch 81/1000\n",
            "302/302 [==============================] - 15s 51ms/step - loss: 0.2819 - accuracy: 0.8859 - val_loss: 0.3162 - val_accuracy: 0.8810\n",
            "Epoch 82/1000\n",
            "302/302 [==============================] - 15s 51ms/step - loss: 0.2800 - accuracy: 0.8867 - val_loss: 0.3044 - val_accuracy: 0.8820\n",
            "Epoch 83/1000\n",
            "302/302 [==============================] - 16s 52ms/step - loss: 0.2778 - accuracy: 0.8876 - val_loss: 0.3093 - val_accuracy: 0.8790\n",
            "Epoch 84/1000\n",
            "302/302 [==============================] - 16s 55ms/step - loss: 0.2749 - accuracy: 0.8892 - val_loss: 0.3082 - val_accuracy: 0.8790\n",
            "Epoch 85/1000\n",
            "302/302 [==============================] - 16s 52ms/step - loss: 0.2762 - accuracy: 0.8886 - val_loss: 0.3169 - val_accuracy: 0.8830\n",
            "Epoch 86/1000\n",
            "302/302 [==============================] - 16s 53ms/step - loss: 0.2747 - accuracy: 0.8899 - val_loss: 0.3031 - val_accuracy: 0.8800\n",
            "Epoch 87/1000\n",
            "302/302 [==============================] - 15s 51ms/step - loss: 0.2725 - accuracy: 0.8904 - val_loss: 0.3093 - val_accuracy: 0.8800\n",
            "Epoch 88/1000\n",
            "302/302 [==============================] - 18s 58ms/step - loss: 0.2722 - accuracy: 0.8910 - val_loss: 0.3013 - val_accuracy: 0.8830\n",
            "Epoch 89/1000\n",
            "302/302 [==============================] - 16s 53ms/step - loss: 0.2690 - accuracy: 0.8913 - val_loss: 0.3028 - val_accuracy: 0.8790\n",
            "Epoch 90/1000\n",
            "302/302 [==============================] - 16s 52ms/step - loss: 0.2675 - accuracy: 0.8929 - val_loss: 0.3175 - val_accuracy: 0.8790\n",
            "Epoch 91/1000\n",
            "302/302 [==============================] - 16s 54ms/step - loss: 0.2678 - accuracy: 0.8927 - val_loss: 0.3076 - val_accuracy: 0.8820\n",
            "Epoch 92/1000\n",
            "302/302 [==============================] - 16s 52ms/step - loss: 0.2662 - accuracy: 0.8931 - val_loss: 0.3321 - val_accuracy: 0.8740\n",
            "Epoch 93/1000\n",
            "302/302 [==============================] - 16s 52ms/step - loss: 0.2645 - accuracy: 0.8940 - val_loss: 0.3105 - val_accuracy: 0.8740\n",
            "Epoch 94/1000\n",
            "302/302 [==============================] - 16s 53ms/step - loss: 0.2640 - accuracy: 0.8952 - val_loss: 0.3032 - val_accuracy: 0.8750\n",
            "Epoch 95/1000\n",
            "302/302 [==============================] - 16s 51ms/step - loss: 0.2611 - accuracy: 0.8953 - val_loss: 0.3102 - val_accuracy: 0.8790\n",
            "Epoch 96/1000\n",
            "302/302 [==============================] - 16s 54ms/step - loss: 0.2623 - accuracy: 0.8953 - val_loss: 0.3110 - val_accuracy: 0.8790\n",
            "Epoch 97/1000\n",
            "302/302 [==============================] - 16s 52ms/step - loss: 0.2604 - accuracy: 0.8953 - val_loss: 0.3112 - val_accuracy: 0.8820\n",
            "Epoch 98/1000\n",
            "302/302 [==============================] - 16s 53ms/step - loss: 0.2598 - accuracy: 0.8967 - val_loss: 0.3137 - val_accuracy: 0.8760\n",
            "Epoch 99/1000\n",
            "302/302 [==============================] - 16s 53ms/step - loss: 0.2580 - accuracy: 0.8968 - val_loss: 0.3006 - val_accuracy: 0.8870\n",
            "Epoch 100/1000\n",
            "302/302 [==============================] - 16s 52ms/step - loss: 0.2558 - accuracy: 0.8982 - val_loss: 0.3051 - val_accuracy: 0.8780\n",
            "Epoch 101/1000\n",
            "302/302 [==============================] - 16s 52ms/step - loss: 0.2555 - accuracy: 0.8984 - val_loss: 0.3063 - val_accuracy: 0.8770\n",
            "Epoch 102/1000\n",
            "302/302 [==============================] - 15s 50ms/step - loss: 0.2564 - accuracy: 0.8980 - val_loss: 0.3038 - val_accuracy: 0.8760\n",
            "Epoch 103/1000\n",
            "302/302 [==============================] - 17s 55ms/step - loss: 0.2542 - accuracy: 0.8995 - val_loss: 0.2969 - val_accuracy: 0.8890\n",
            "Epoch 104/1000\n",
            "302/302 [==============================] - 16s 54ms/step - loss: 0.2510 - accuracy: 0.9007 - val_loss: 0.2904 - val_accuracy: 0.8870\n",
            "Epoch 105/1000\n",
            "302/302 [==============================] - 16s 53ms/step - loss: 0.2495 - accuracy: 0.9015 - val_loss: 0.2989 - val_accuracy: 0.8800\n",
            "Epoch 106/1000\n",
            "302/302 [==============================] - 16s 52ms/step - loss: 0.2499 - accuracy: 0.9014 - val_loss: 0.3034 - val_accuracy: 0.8760\n",
            "Epoch 107/1000\n",
            "302/302 [==============================] - 16s 53ms/step - loss: 0.2525 - accuracy: 0.8996 - val_loss: 0.2893 - val_accuracy: 0.8870\n",
            "Epoch 108/1000\n",
            "302/302 [==============================] - 16s 52ms/step - loss: 0.2490 - accuracy: 0.9022 - val_loss: 0.2818 - val_accuracy: 0.8940\n",
            "Epoch 109/1000\n",
            "302/302 [==============================] - 15s 51ms/step - loss: 0.2463 - accuracy: 0.9022 - val_loss: 0.2849 - val_accuracy: 0.8970\n",
            "Epoch 110/1000\n",
            "302/302 [==============================] - 15s 51ms/step - loss: 0.2452 - accuracy: 0.9035 - val_loss: 0.2850 - val_accuracy: 0.8960\n",
            "Epoch 111/1000\n",
            "302/302 [==============================] - 16s 52ms/step - loss: 0.2444 - accuracy: 0.9039 - val_loss: 0.2727 - val_accuracy: 0.9000\n",
            "Epoch 112/1000\n",
            "302/302 [==============================] - 16s 53ms/step - loss: 0.2439 - accuracy: 0.9049 - val_loss: 0.2718 - val_accuracy: 0.9050\n",
            "Epoch 113/1000\n",
            "302/302 [==============================] - 16s 52ms/step - loss: 0.2455 - accuracy: 0.9041 - val_loss: 0.2729 - val_accuracy: 0.8980\n",
            "Epoch 114/1000\n",
            "302/302 [==============================] - 16s 53ms/step - loss: 0.2458 - accuracy: 0.9036 - val_loss: 0.2682 - val_accuracy: 0.9060\n",
            "Epoch 115/1000\n",
            "302/302 [==============================] - 16s 52ms/step - loss: 0.2436 - accuracy: 0.9049 - val_loss: 0.2667 - val_accuracy: 0.9060\n",
            "Epoch 116/1000\n",
            "302/302 [==============================] - 15s 51ms/step - loss: 0.2420 - accuracy: 0.9054 - val_loss: 0.2709 - val_accuracy: 0.9000\n",
            "Epoch 117/1000\n",
            "302/302 [==============================] - 16s 53ms/step - loss: 0.2402 - accuracy: 0.9061 - val_loss: 0.2675 - val_accuracy: 0.9040\n",
            "Epoch 118/1000\n",
            "302/302 [==============================] - 16s 54ms/step - loss: 0.2387 - accuracy: 0.9061 - val_loss: 0.2766 - val_accuracy: 0.8960\n",
            "Epoch 119/1000\n",
            "302/302 [==============================] - 16s 54ms/step - loss: 0.2361 - accuracy: 0.9077 - val_loss: 0.2732 - val_accuracy: 0.9000\n",
            "Epoch 120/1000\n",
            "302/302 [==============================] - 16s 52ms/step - loss: 0.2367 - accuracy: 0.9075 - val_loss: 0.2642 - val_accuracy: 0.9010\n",
            "Epoch 121/1000\n",
            "302/302 [==============================] - 16s 52ms/step - loss: 0.2371 - accuracy: 0.9082 - val_loss: 0.2622 - val_accuracy: 0.9020\n",
            "Epoch 122/1000\n",
            "302/302 [==============================] - 17s 55ms/step - loss: 0.2341 - accuracy: 0.9090 - val_loss: 0.2665 - val_accuracy: 0.9070\n",
            "Epoch 123/1000\n",
            "302/302 [==============================] - 16s 51ms/step - loss: 0.2344 - accuracy: 0.9085 - val_loss: 0.2642 - val_accuracy: 0.9010\n",
            "Epoch 124/1000\n",
            "302/302 [==============================] - 16s 52ms/step - loss: 0.2335 - accuracy: 0.9084 - val_loss: 0.2607 - val_accuracy: 0.9060\n",
            "Epoch 125/1000\n",
            "302/302 [==============================] - 16s 52ms/step - loss: 0.2340 - accuracy: 0.9083 - val_loss: 0.2705 - val_accuracy: 0.8970\n",
            "Epoch 126/1000\n",
            "302/302 [==============================] - 16s 52ms/step - loss: 0.2322 - accuracy: 0.9101 - val_loss: 0.2635 - val_accuracy: 0.9020\n",
            "Epoch 127/1000\n",
            "302/302 [==============================] - 17s 57ms/step - loss: 0.2317 - accuracy: 0.9093 - val_loss: 0.2623 - val_accuracy: 0.9000\n",
            "Epoch 128/1000\n",
            "302/302 [==============================] - 16s 53ms/step - loss: 0.2295 - accuracy: 0.9104 - val_loss: 0.2640 - val_accuracy: 0.8970\n",
            "Epoch 129/1000\n",
            "302/302 [==============================] - 16s 54ms/step - loss: 0.2277 - accuracy: 0.9113 - val_loss: 0.2648 - val_accuracy: 0.8990\n",
            "Epoch 130/1000\n",
            "302/302 [==============================] - 16s 54ms/step - loss: 0.2293 - accuracy: 0.9114 - val_loss: 0.2626 - val_accuracy: 0.9020\n",
            "Epoch 131/1000\n",
            "302/302 [==============================] - 16s 52ms/step - loss: 0.2281 - accuracy: 0.9114 - val_loss: 0.2593 - val_accuracy: 0.9020\n",
            "Epoch 132/1000\n",
            "302/302 [==============================] - 16s 52ms/step - loss: 0.2266 - accuracy: 0.9114 - val_loss: 0.2632 - val_accuracy: 0.9050\n",
            "Epoch 133/1000\n",
            "302/302 [==============================] - 16s 51ms/step - loss: 0.2257 - accuracy: 0.9124 - val_loss: 0.2646 - val_accuracy: 0.9040\n",
            "Epoch 134/1000\n",
            "302/302 [==============================] - 16s 51ms/step - loss: 0.2257 - accuracy: 0.9118 - val_loss: 0.2597 - val_accuracy: 0.9040\n",
            "Epoch 135/1000\n",
            "302/302 [==============================] - 15s 50ms/step - loss: 0.2247 - accuracy: 0.9131 - val_loss: 0.2557 - val_accuracy: 0.9090\n",
            "Epoch 136/1000\n",
            "302/302 [==============================] - 16s 51ms/step - loss: 0.2242 - accuracy: 0.9130 - val_loss: 0.2572 - val_accuracy: 0.9050\n",
            "Epoch 137/1000\n",
            "302/302 [==============================] - 15s 50ms/step - loss: 0.2235 - accuracy: 0.9133 - val_loss: 0.2577 - val_accuracy: 0.9050\n",
            "Epoch 138/1000\n",
            "302/302 [==============================] - 16s 52ms/step - loss: 0.2232 - accuracy: 0.9138 - val_loss: 0.2585 - val_accuracy: 0.9030\n",
            "Epoch 139/1000\n",
            "302/302 [==============================] - 15s 51ms/step - loss: 0.2226 - accuracy: 0.9135 - val_loss: 0.2591 - val_accuracy: 0.9080\n",
            "Epoch 140/1000\n",
            "302/302 [==============================] - 16s 53ms/step - loss: 0.2227 - accuracy: 0.9138 - val_loss: 0.2571 - val_accuracy: 0.9060\n",
            "Epoch 141/1000\n",
            "302/302 [==============================] - 16s 52ms/step - loss: 0.2226 - accuracy: 0.9139 - val_loss: 0.2601 - val_accuracy: 0.9080\n",
            "Epoch 142/1000\n",
            "302/302 [==============================] - 16s 52ms/step - loss: 0.2209 - accuracy: 0.9139 - val_loss: 0.2598 - val_accuracy: 0.8990\n",
            "Epoch 143/1000\n",
            "302/302 [==============================] - 15s 51ms/step - loss: 0.2191 - accuracy: 0.9157 - val_loss: 0.2610 - val_accuracy: 0.9040\n",
            "Epoch 144/1000\n",
            "302/302 [==============================] - 15s 51ms/step - loss: 0.2204 - accuracy: 0.9155 - val_loss: 0.2658 - val_accuracy: 0.9000\n",
            "Epoch 145/1000\n",
            "302/302 [==============================] - 16s 52ms/step - loss: 0.2213 - accuracy: 0.9146 - val_loss: 0.2620 - val_accuracy: 0.9060\n",
            "Epoch 146/1000\n",
            "302/302 [==============================] - 16s 52ms/step - loss: 0.2188 - accuracy: 0.9158 - val_loss: 0.2545 - val_accuracy: 0.9050\n",
            "Epoch 147/1000\n",
            "302/302 [==============================] - 16s 53ms/step - loss: 0.2176 - accuracy: 0.9160 - val_loss: 0.2643 - val_accuracy: 0.9070\n",
            "Epoch 148/1000\n",
            "302/302 [==============================] - 16s 52ms/step - loss: 0.2201 - accuracy: 0.9147 - val_loss: 0.2604 - val_accuracy: 0.9040\n",
            "Epoch 149/1000\n",
            "302/302 [==============================] - 16s 52ms/step - loss: 0.2190 - accuracy: 0.9153 - val_loss: 0.2623 - val_accuracy: 0.8980\n",
            "Epoch 150/1000\n",
            "302/302 [==============================] - 16s 52ms/step - loss: 0.2196 - accuracy: 0.9151 - val_loss: 0.2597 - val_accuracy: 0.9050\n",
            "Epoch 151/1000\n",
            "302/302 [==============================] - 16s 52ms/step - loss: 0.2167 - accuracy: 0.9163 - val_loss: 0.2556 - val_accuracy: 0.9040\n",
            "Epoch 152/1000\n",
            "302/302 [==============================] - 16s 54ms/step - loss: 0.2170 - accuracy: 0.9170 - val_loss: 0.2601 - val_accuracy: 0.9010\n",
            "Epoch 153/1000\n",
            "302/302 [==============================] - 16s 53ms/step - loss: 0.2201 - accuracy: 0.9157 - val_loss: 0.2549 - val_accuracy: 0.9070\n",
            "Epoch 154/1000\n",
            "302/302 [==============================] - 16s 52ms/step - loss: 0.2158 - accuracy: 0.9170 - val_loss: 0.2622 - val_accuracy: 0.9030\n",
            "Epoch 155/1000\n",
            "302/302 [==============================] - 16s 52ms/step - loss: 0.2135 - accuracy: 0.9179 - val_loss: 0.2589 - val_accuracy: 0.9020\n",
            "Epoch 156/1000\n",
            "302/302 [==============================] - 15s 51ms/step - loss: 0.2156 - accuracy: 0.9175 - val_loss: 0.2582 - val_accuracy: 0.9080\n",
            "Epoch 157/1000\n",
            "302/302 [==============================] - 16s 52ms/step - loss: 0.2150 - accuracy: 0.9177 - val_loss: 0.2668 - val_accuracy: 0.9090\n",
            "Epoch 158/1000\n",
            "302/302 [==============================] - 15s 51ms/step - loss: 0.2163 - accuracy: 0.9172 - val_loss: 0.2624 - val_accuracy: 0.9080\n",
            "Epoch 159/1000\n",
            "302/302 [==============================] - 15s 49ms/step - loss: 0.2143 - accuracy: 0.9178 - val_loss: 0.2610 - val_accuracy: 0.9060\n",
            "Epoch 160/1000\n",
            "302/302 [==============================] - 15s 51ms/step - loss: 0.2134 - accuracy: 0.9176 - val_loss: 0.2562 - val_accuracy: 0.9080\n",
            "Epoch 161/1000\n",
            "302/302 [==============================] - 16s 53ms/step - loss: 0.2104 - accuracy: 0.9195 - val_loss: 0.2563 - val_accuracy: 0.9090\n",
            "Epoch 162/1000\n",
            "302/302 [==============================] - 16s 51ms/step - loss: 0.2117 - accuracy: 0.9184 - val_loss: 0.2543 - val_accuracy: 0.9070\n",
            "Epoch 163/1000\n",
            "302/302 [==============================] - 15s 51ms/step - loss: 0.2106 - accuracy: 0.9194 - val_loss: 0.2551 - val_accuracy: 0.9100\n",
            "Epoch 164/1000\n",
            "302/302 [==============================] - 16s 51ms/step - loss: 0.2115 - accuracy: 0.9196 - val_loss: 0.2559 - val_accuracy: 0.9070\n",
            "Epoch 165/1000\n",
            "302/302 [==============================] - 17s 55ms/step - loss: 0.2097 - accuracy: 0.9196 - val_loss: 0.2566 - val_accuracy: 0.9040\n",
            "Epoch 166/1000\n",
            "302/302 [==============================] - 17s 56ms/step - loss: 0.2103 - accuracy: 0.9192 - val_loss: 0.2559 - val_accuracy: 0.9110\n",
            "Epoch 167/1000\n",
            "302/302 [==============================] - 16s 53ms/step - loss: 0.2092 - accuracy: 0.9201 - val_loss: 0.2572 - val_accuracy: 0.9080\n",
            "Epoch 168/1000\n",
            "302/302 [==============================] - 16s 52ms/step - loss: 0.2071 - accuracy: 0.9209 - val_loss: 0.2501 - val_accuracy: 0.9130\n",
            "Epoch 169/1000\n",
            "302/302 [==============================] - 16s 52ms/step - loss: 0.2090 - accuracy: 0.9203 - val_loss: 0.2583 - val_accuracy: 0.9040\n",
            "Epoch 170/1000\n",
            "302/302 [==============================] - 16s 51ms/step - loss: 0.2074 - accuracy: 0.9202 - val_loss: 0.2606 - val_accuracy: 0.9050\n",
            "Epoch 171/1000\n",
            "302/302 [==============================] - 16s 52ms/step - loss: 0.2090 - accuracy: 0.9197 - val_loss: 0.2605 - val_accuracy: 0.9060\n",
            "Epoch 172/1000\n",
            "302/302 [==============================] - 16s 52ms/step - loss: 0.2081 - accuracy: 0.9200 - val_loss: 0.2761 - val_accuracy: 0.9060\n",
            "Epoch 173/1000\n",
            "302/302 [==============================] - 15s 50ms/step - loss: 0.2078 - accuracy: 0.9200 - val_loss: 0.2650 - val_accuracy: 0.9010\n",
            "Epoch 174/1000\n",
            "302/302 [==============================] - 16s 52ms/step - loss: 0.2064 - accuracy: 0.9206 - val_loss: 0.2630 - val_accuracy: 0.9030\n",
            "Epoch 175/1000\n",
            "302/302 [==============================] - 16s 53ms/step - loss: 0.2066 - accuracy: 0.9212 - val_loss: 0.2554 - val_accuracy: 0.9100\n",
            "Epoch 176/1000\n",
            "302/302 [==============================] - 16s 52ms/step - loss: 0.2070 - accuracy: 0.9212 - val_loss: 0.2516 - val_accuracy: 0.9110\n",
            "Epoch 177/1000\n",
            "302/302 [==============================] - 16s 52ms/step - loss: 0.2055 - accuracy: 0.9223 - val_loss: 0.2586 - val_accuracy: 0.9080\n",
            "Epoch 178/1000\n",
            "302/302 [==============================] - 15s 51ms/step - loss: 0.2069 - accuracy: 0.9212 - val_loss: 0.2648 - val_accuracy: 0.9040\n",
            "Epoch 179/1000\n",
            "302/302 [==============================] - 16s 53ms/step - loss: 0.2052 - accuracy: 0.9217 - val_loss: 0.2569 - val_accuracy: 0.9040\n",
            "Epoch 180/1000\n",
            "302/302 [==============================] - 16s 53ms/step - loss: 0.2059 - accuracy: 0.9204 - val_loss: 0.2590 - val_accuracy: 0.9050\n",
            "Epoch 181/1000\n",
            "302/302 [==============================] - 16s 53ms/step - loss: 0.2045 - accuracy: 0.9218 - val_loss: 0.2478 - val_accuracy: 0.9120\n",
            "Epoch 182/1000\n",
            "302/302 [==============================] - 16s 52ms/step - loss: 0.2024 - accuracy: 0.9232 - val_loss: 0.2462 - val_accuracy: 0.9120\n",
            "Epoch 183/1000\n",
            "302/302 [==============================] - 16s 53ms/step - loss: 0.2019 - accuracy: 0.9222 - val_loss: 0.2554 - val_accuracy: 0.9080\n",
            "Epoch 184/1000\n",
            "302/302 [==============================] - 15s 51ms/step - loss: 0.2024 - accuracy: 0.9235 - val_loss: 0.2593 - val_accuracy: 0.9060\n",
            "Epoch 185/1000\n",
            "302/302 [==============================] - 16s 54ms/step - loss: 0.2021 - accuracy: 0.9222 - val_loss: 0.2712 - val_accuracy: 0.8970\n",
            "Epoch 186/1000\n",
            "302/302 [==============================] - 17s 56ms/step - loss: 0.2026 - accuracy: 0.9229 - val_loss: 0.2472 - val_accuracy: 0.9140\n",
            "Epoch 187/1000\n",
            "302/302 [==============================] - 16s 53ms/step - loss: 0.2029 - accuracy: 0.9222 - val_loss: 0.2598 - val_accuracy: 0.9030\n",
            "Epoch 188/1000\n",
            "302/302 [==============================] - 15s 51ms/step - loss: 0.2020 - accuracy: 0.9224 - val_loss: 0.2606 - val_accuracy: 0.9050\n",
            "Epoch 189/1000\n",
            "302/302 [==============================] - 15s 51ms/step - loss: 0.2011 - accuracy: 0.9237 - val_loss: 0.2617 - val_accuracy: 0.9030\n",
            "Epoch 190/1000\n",
            "302/302 [==============================] - 16s 54ms/step - loss: 0.2002 - accuracy: 0.9231 - val_loss: 0.2616 - val_accuracy: 0.9080\n",
            "Epoch 191/1000\n",
            "302/302 [==============================] - 16s 52ms/step - loss: 0.1978 - accuracy: 0.9246 - val_loss: 0.2517 - val_accuracy: 0.9070\n",
            "Epoch 192/1000\n",
            "302/302 [==============================] - 16s 53ms/step - loss: 0.2005 - accuracy: 0.9236 - val_loss: 0.2509 - val_accuracy: 0.9070\n",
            "Epoch 193/1000\n",
            "302/302 [==============================] - 15s 51ms/step - loss: 0.1985 - accuracy: 0.9241 - val_loss: 0.2583 - val_accuracy: 0.9010\n",
            "Epoch 194/1000\n",
            "302/302 [==============================] - 16s 53ms/step - loss: 0.2004 - accuracy: 0.9234 - val_loss: 0.2677 - val_accuracy: 0.9040\n",
            "Epoch 195/1000\n",
            "302/302 [==============================] - 15s 51ms/step - loss: 0.1997 - accuracy: 0.9244 - val_loss: 0.2561 - val_accuracy: 0.9100\n",
            "Epoch 196/1000\n",
            "302/302 [==============================] - 16s 52ms/step - loss: 0.1989 - accuracy: 0.9239 - val_loss: 0.2622 - val_accuracy: 0.9040\n",
            "Epoch 197/1000\n",
            "302/302 [==============================] - 16s 52ms/step - loss: 0.1990 - accuracy: 0.9247 - val_loss: 0.2561 - val_accuracy: 0.9080\n",
            "Epoch 198/1000\n",
            "302/302 [==============================] - 16s 53ms/step - loss: 0.1981 - accuracy: 0.9250 - val_loss: 0.2562 - val_accuracy: 0.9070\n",
            "Epoch 199/1000\n",
            "302/302 [==============================] - 16s 53ms/step - loss: 0.1970 - accuracy: 0.9255 - val_loss: 0.2485 - val_accuracy: 0.9100\n",
            "Epoch 200/1000\n",
            "302/302 [==============================] - 16s 53ms/step - loss: 0.1961 - accuracy: 0.9265 - val_loss: 0.2515 - val_accuracy: 0.9080\n",
            "Epoch 201/1000\n",
            "302/302 [==============================] - 16s 52ms/step - loss: 0.1934 - accuracy: 0.9271 - val_loss: 0.2510 - val_accuracy: 0.9090\n",
            "Epoch 202/1000\n",
            "302/302 [==============================] - 15s 51ms/step - loss: 0.1956 - accuracy: 0.9263 - val_loss: 0.2509 - val_accuracy: 0.9090\n"
          ],
          "name": "stdout"
        }
      ]
    },
    {
      "cell_type": "code",
      "metadata": {
        "id": "iXRSsdEzcog7"
      },
      "source": [
        "# # # can continue training\n",
        "# loaded_ae_model = keras.models.load_model('/content/gdrive/My Drive/Colab Notebooks/models/lstm1_chip.1024sgd.0362.h5')\n",
        "# encoder = keras.Model(loaded_ae_model.layers[0].input, loaded_ae_model.layers[0].output)\n",
        "# decoder = keras.Model(loaded_ae_model.layers[1].input, loaded_ae_model.layers[1].output)\n",
        "# recurrent_ae = keras.Sequential([encoder, decoder])\n",
        "# recurrent_ae.compile(optimizer=keras.optimizers.SGD(0.01), loss='sparse_categorical_crossentropy', metrics='accuracy')\n",
        "# ae_hist = recurrent_ae.fit(xtrain_seq, validation_data=xval_seq, epochs=1000, callbacks=[es_cb, model_checkpoint_callback])"
      ],
      "execution_count": null,
      "outputs": []
    },
    {
      "cell_type": "code",
      "metadata": {
        "id": "AjiRiXQHwNOS",
        "outputId": "c6036fc2-1c9f-45b9-f9e1-0c950089eea4",
        "colab": {
          "base_uri": "https://localhost:8080/",
          "height": 369
        }
      },
      "source": [
        "fig, axes = plt.subplots(1, 2, figsize=(10, 5))\n",
        "for i in range(1):\n",
        "  ax1 = axes[0]\n",
        "  ax2 = axes[1]\n",
        "\n",
        "  ax1.plot(hist.history['loss'], label='training')\n",
        "  ax1.plot(hist.history['val_loss'], label='validation')\n",
        "  ax1.set_title('model loss')\n",
        "  ax1.set_xlabel('epoch')\n",
        "  ax1.set_ylabel('loss')\n",
        "  ax1.legend(['train', 'validation'], loc='upper left')\n",
        "  \n",
        "  ax2.plot(hist.history['accuracy'], label='training')\n",
        "  ax2.plot(hist.history['val_accuracy'], label='validation')\n",
        "  ax2.set_title('model accuracy')\n",
        "  ax2.set_xlabel('epoch')\n",
        "  ax2.set_ylabel('accuracy')\n",
        "  ax2.legend(['train', 'validation'], loc='upper left')\n",
        "fig.tight_layout()"
      ],
      "execution_count": 25,
      "outputs": [
        {
          "output_type": "display_data",
          "data": {
            "image/png": "[encoded data removed]",
            "text/plain": [
              "<Figure size 720x360 with 2 Axes>"
            ]
          },
          "metadata": {
            "tags": [],
            "needs_background": "light"
          }
        }
      ]
    },
    {
      "cell_type": "code",
      "metadata": {
        "id": "6sgxZ6qrU9-9"
      },
      "source": [
        "# def eval_model(model, x, true_label, ds_name=\"Training\"):\n",
        "#   loss, acc = model.evaluate(x, true_label, verbose=0)\n",
        "#   print(\"{} Dataset: loss = {} and acccuracy = {}\".format(ds_name, np.round(loss, 3), np.round(acc, 3)))"
      ],
      "execution_count": null,
      "outputs": []
    },
    {
      "cell_type": "code",
      "metadata": {
        "id": "mzZVgESaf49n"
      },
      "source": [
        "def eval_model2(model, ds, ds_name=\"Training\"):\n",
        "  loss, acc = model.evaluate(ds, verbose=0)\n",
        "  print(\"{} Dataset: loss = {} and acccuracy = {}%\".format(ds_name, np.round(loss, 3), np.round(acc*100, 2)))"
      ],
      "execution_count": 31,
      "outputs": []
    },
    {
      "cell_type": "code",
      "metadata": {
        "id": "CbJ0nJ90WiLN",
        "outputId": "5b8e1860-96a1-4655-ea77-4d6ac6cdc15f",
        "colab": {
          "base_uri": "https://localhost:8080/",
          "height": 71
        }
      },
      "source": [
        "eval_model2(model, xtrain_ds, \"Training\")\n",
        "eval_model2(model, xval_ds, \"Validation\")\n",
        "eval_model2(model, xtest_ds, \"Test\")"
      ],
      "execution_count": 32,
      "outputs": [
        {
          "output_type": "stream",
          "text": [
            "Training Dataset: loss = 0.191 and acccuracy = 92.64%\n",
            "Validation Dataset: loss = 0.246 and acccuracy = 91.2%\n",
            "Test Dataset: loss = 0.232 and acccuracy = 90.62%\n"
          ],
          "name": "stdout"
        }
      ]
    },
    {
      "cell_type": "code",
      "metadata": {
        "id": "1kUn_jsA-ne1"
      },
      "source": [
        "# def plotVec(ax, x, y, title=\"title\"):\n",
        "#   scatter = ax.scatter(x[:, 0], x[:, 1], c=y, \n",
        "#              cmap=matplotlib.colors.ListedColormap([\"red\", \"blue\", \"yellow\"]))\n",
        "#   ax.set_title(title)\n",
        "#   ax.legend(*scatter.legend_elements(), loc=0, title=\"Classes\")"
      ],
      "execution_count": null,
      "outputs": []
    }
  ]
}