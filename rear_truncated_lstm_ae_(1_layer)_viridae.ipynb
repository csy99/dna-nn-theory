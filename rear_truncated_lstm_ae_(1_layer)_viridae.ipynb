{
  "nbformat": 4,
  "nbformat_minor": 0,
  "metadata": {
    "colab": {
      "name": "rear truncated lstm_ae_(1 layer)_viridae.ipynb",
      "provenance": [],
      "collapsed_sections": [],
      "authorship_tag": "ABX9TyOpyZk42uruE+18LpTvEI/7",
      "include_colab_link": true
    },
    "kernelspec": {
      "name": "python3",
      "display_name": "Python 3"
    },
    "accelerator": "GPU"
  },
  "cells": [
    {
      "cell_type": "markdown",
      "metadata": {
        "id": "view-in-github",
        "colab_type": "text"
      },
      "source": [
        "<a href=\"https://colab.research.google.com/github/csy99/dna-nn-theory/blob/master/rear_truncated_lstm_ae_(1_layer)_viridae.ipynb\" target=\"_parent\"><img src=\"https://colab.research.google.com/assets/colab-badge.svg\" alt=\"Open In Colab\"/></a>"
      ]
    },
    {
      "cell_type": "code",
      "metadata": {
        "id": "FiSO3GWw8FWG",
        "colab_type": "code",
        "colab": {}
      },
      "source": [
        "import numpy as np\n",
        "import pandas as pd\n",
        "import matplotlib\n",
        "import matplotlib.pyplot as plt\n",
        "from itertools import product\n",
        "import re\n",
        "import time\n",
        "from sklearn.model_selection import train_test_split\n",
        "from sklearn.manifold import TSNE\n",
        "import tensorflow as tf\n",
        "from tensorflow import keras"
      ],
      "execution_count": 1,
      "outputs": []
    },
    {
      "cell_type": "markdown",
      "metadata": {
        "id": "GuvNh5Ia8vvD",
        "colab_type": "text"
      },
      "source": [
        "# Read Data"
      ]
    },
    {
      "cell_type": "code",
      "metadata": {
        "id": "H5SYc4iv-RPC",
        "colab_type": "code",
        "colab": {
          "base_uri": "https://localhost:8080/",
          "height": 307
        },
        "outputId": "18bed0be-a4ec-45c0-e033-ad7858e4a5d0"
      },
      "source": [
        "!pip install PyDrive\n",
        "from google.colab import drive\n",
        "drive.mount('/content/gdrive')"
      ],
      "execution_count": 2,
      "outputs": [
        {
          "output_type": "stream",
          "text": [
            "Requirement already satisfied: PyDrive in /usr/local/lib/python3.6/dist-packages (1.3.1)\n",
            "Requirement already satisfied: PyYAML>=3.0 in /usr/local/lib/python3.6/dist-packages (from PyDrive) (3.13)\n",
            "Requirement already satisfied: oauth2client>=4.0.0 in /usr/local/lib/python3.6/dist-packages (from PyDrive) (4.1.3)\n",
            "Requirement already satisfied: google-api-python-client>=1.2 in /usr/local/lib/python3.6/dist-packages (from PyDrive) (1.7.12)\n",
            "Requirement already satisfied: httplib2>=0.9.1 in /usr/local/lib/python3.6/dist-packages (from oauth2client>=4.0.0->PyDrive) (0.17.4)\n",
            "Requirement already satisfied: six>=1.6.1 in /usr/local/lib/python3.6/dist-packages (from oauth2client>=4.0.0->PyDrive) (1.15.0)\n",
            "Requirement already satisfied: rsa>=3.1.4 in /usr/local/lib/python3.6/dist-packages (from oauth2client>=4.0.0->PyDrive) (4.6)\n",
            "Requirement already satisfied: pyasn1>=0.1.7 in /usr/local/lib/python3.6/dist-packages (from oauth2client>=4.0.0->PyDrive) (0.4.8)\n",
            "Requirement already satisfied: pyasn1-modules>=0.0.5 in /usr/local/lib/python3.6/dist-packages (from oauth2client>=4.0.0->PyDrive) (0.2.8)\n",
            "Requirement already satisfied: google-auth-httplib2>=0.0.3 in /usr/local/lib/python3.6/dist-packages (from google-api-python-client>=1.2->PyDrive) (0.0.4)\n",
            "Requirement already satisfied: uritemplate<4dev,>=3.0.0 in /usr/local/lib/python3.6/dist-packages (from google-api-python-client>=1.2->PyDrive) (3.0.1)\n",
            "Requirement already satisfied: google-auth>=1.4.1 in /usr/local/lib/python3.6/dist-packages (from google-api-python-client>=1.2->PyDrive) (1.17.2)\n",
            "Requirement already satisfied: setuptools>=40.3.0 in /usr/local/lib/python3.6/dist-packages (from google-auth>=1.4.1->google-api-python-client>=1.2->PyDrive) (50.3.0)\n",
            "Requirement already satisfied: cachetools<5.0,>=2.0.0 in /usr/local/lib/python3.6/dist-packages (from google-auth>=1.4.1->google-api-python-client>=1.2->PyDrive) (4.1.1)\n",
            "Mounted at /content/gdrive\n"
          ],
          "name": "stdout"
        }
      ]
    },
    {
      "cell_type": "code",
      "metadata": {
        "id": "f5CniV6I_SQZ",
        "colab_type": "code",
        "colab": {
          "base_uri": "https://localhost:8080/",
          "height": 220
        },
        "outputId": "3e53ea55-a43c-4873-f396-6fb936985f3d"
      },
      "source": [
        "data_path = '/content/gdrive/My Drive/Colab Notebooks/viridae/'\n",
        "filename = 'clean.csv'\n",
        "records_df = pd.read_csv(data_path + filename)\n",
        "# replace all '-' with N (stands for any nt)\n",
        "records_df.seq = records_df.seq.str.replace('-', 'N')\n",
        "print(len(records_df))\n",
        "records_df.head()"
      ],
      "execution_count": 12,
      "outputs": [
        {
          "output_type": "stream",
          "text": [
            "281\n"
          ],
          "name": "stdout"
        },
        {
          "output_type": "execute_result",
          "data": {
            "text/html": [
              "<div>\n",
              "<style scoped>\n",
              "    .dataframe tbody tr th:only-of-type {\n",
              "        vertical-align: middle;\n",
              "    }\n",
              "\n",
              "    .dataframe tbody tr th {\n",
              "        vertical-align: top;\n",
              "    }\n",
              "\n",
              "    .dataframe thead th {\n",
              "        text-align: right;\n",
              "    }\n",
              "</style>\n",
              "<table border=\"1\" class=\"dataframe\">\n",
              "  <thead>\n",
              "    <tr style=\"text-align: right;\">\n",
              "      <th></th>\n",
              "      <th>id</th>\n",
              "      <th>seq</th>\n",
              "      <th>label</th>\n",
              "    </tr>\n",
              "  </thead>\n",
              "  <tbody>\n",
              "    <tr>\n",
              "      <th>0</th>\n",
              "      <td>NC_036588.1</td>\n",
              "      <td>NNNNNNNNNNNNNNNNNNNNNNNNNNNNNNNNNNNNNNNNNNNNNN...</td>\n",
              "      <td>0</td>\n",
              "    </tr>\n",
              "    <tr>\n",
              "      <th>1</th>\n",
              "      <td>NC_014412.1</td>\n",
              "      <td>NNNNNNNNNNNNNNNNNNNNNNNNNNNNNNNNNNNNNNNNNNNNNN...</td>\n",
              "      <td>0</td>\n",
              "    </tr>\n",
              "    <tr>\n",
              "      <th>2</th>\n",
              "      <td>NC_014413.1</td>\n",
              "      <td>GNNNNNNNNNNNNNNNNNNNNNNNNNNNNNNNNNNNNNNNNNNNNN...</td>\n",
              "      <td>0</td>\n",
              "    </tr>\n",
              "    <tr>\n",
              "      <th>3</th>\n",
              "      <td>NC_025890.1</td>\n",
              "      <td>NNNNNNNNNNNNNNNNNNNNNNNNNNNNNNNNNNNNNNNNNNNNNN...</td>\n",
              "      <td>0</td>\n",
              "    </tr>\n",
              "    <tr>\n",
              "      <th>4</th>\n",
              "      <td>NC_023162.1</td>\n",
              "      <td>NNNNNNNNNNNNNNNNNNNNNNNNNNNNNNNNNNNNNNNNNNNNNN...</td>\n",
              "      <td>0</td>\n",
              "    </tr>\n",
              "  </tbody>\n",
              "</table>\n",
              "</div>"
            ],
            "text/plain": [
              "            id                                                seq  label\n",
              "0  NC_036588.1  NNNNNNNNNNNNNNNNNNNNNNNNNNNNNNNNNNNNNNNNNNNNNN...      0\n",
              "1  NC_014412.1  NNNNNNNNNNNNNNNNNNNNNNNNNNNNNNNNNNNNNNNNNNNNNN...      0\n",
              "2  NC_014413.1  GNNNNNNNNNNNNNNNNNNNNNNNNNNNNNNNNNNNNNNNNNNNNN...      0\n",
              "3  NC_025890.1  NNNNNNNNNNNNNNNNNNNNNNNNNNNNNNNNNNNNNNNNNNNNNN...      0\n",
              "4  NC_023162.1  NNNNNNNNNNNNNNNNNNNNNNNNNNNNNNNNNNNNNNNNNNNNNN...      0"
            ]
          },
          "metadata": {
            "tags": []
          },
          "execution_count": 12
        }
      ]
    },
    {
      "cell_type": "code",
      "metadata": {
        "id": "oLwouxsLPgUV",
        "colab_type": "code",
        "colab": {}
      },
      "source": [
        "records_df.seq = records_df.seq.str.replace('R', 'A')\n",
        "records_df.seq = records_df.seq.str.replace('Y', 'T')"
      ],
      "execution_count": 13,
      "outputs": []
    },
    {
      "cell_type": "code",
      "metadata": {
        "id": "YJZ46Yj4Lpl3",
        "colab_type": "code",
        "colab": {
          "base_uri": "https://localhost:8080/",
          "height": 35
        },
        "outputId": "1bc977f8-c095-43ec-b812-f25c036b1b63"
      },
      "source": [
        "seq_len = len(records_df.seq[0])\n",
        "seq_len"
      ],
      "execution_count": 4,
      "outputs": [
        {
          "output_type": "execute_result",
          "data": {
            "text/plain": [
              "4132"
            ]
          },
          "metadata": {
            "tags": []
          },
          "execution_count": 4
        }
      ]
    },
    {
      "cell_type": "code",
      "metadata": {
        "id": "y7Pt8UuIOexP",
        "colab_type": "code",
        "colab": {
          "base_uri": "https://localhost:8080/",
          "height": 35
        },
        "outputId": "d5e186dd-111c-46fa-88b1-866a77c37a7b"
      },
      "source": [
        "# extract only first 2449 nts\n",
        "length = 2449\n",
        "records_df.seq = records_df.seq.str[:length]\n",
        "seq_len = len(records_df.seq[0])\n",
        "seq_len"
      ],
      "execution_count": 14,
      "outputs": [
        {
          "output_type": "execute_result",
          "data": {
            "text/plain": [
              "2449"
            ]
          },
          "metadata": {
            "tags": []
          },
          "execution_count": 14
        }
      ]
    },
    {
      "cell_type": "code",
      "metadata": {
        "id": "62vYLakHBNeB",
        "colab_type": "code",
        "colab": {}
      },
      "source": [
        "def n_gram(x, word_size=3):\n",
        "  arr_x = [c for c in x]\n",
        "  words = tf.strings.ngrams(arr_x, ngram_width=word_size, separator='').numpy()\n",
        "  words = list(pd.Series(words).apply(lambda b: b.decode('utf-8')))\n",
        "  return words"
      ],
      "execution_count": 9,
      "outputs": []
    },
    {
      "cell_type": "code",
      "metadata": {
        "id": "06s80CQhB9G7",
        "colab_type": "code",
        "colab": {
          "base_uri": "https://localhost:8080/",
          "height": 202
        },
        "outputId": "3a499fae-68fe-44b1-8c75-52eab503d9c8"
      },
      "source": [
        "records_df[\"ngram\"] = records_df.seq.apply(n_gram)\n",
        "records_df.head()"
      ],
      "execution_count": 10,
      "outputs": [
        {
          "output_type": "execute_result",
          "data": {
            "text/html": [
              "<div>\n",
              "<style scoped>\n",
              "    .dataframe tbody tr th:only-of-type {\n",
              "        vertical-align: middle;\n",
              "    }\n",
              "\n",
              "    .dataframe tbody tr th {\n",
              "        vertical-align: top;\n",
              "    }\n",
              "\n",
              "    .dataframe thead th {\n",
              "        text-align: right;\n",
              "    }\n",
              "</style>\n",
              "<table border=\"1\" class=\"dataframe\">\n",
              "  <thead>\n",
              "    <tr style=\"text-align: right;\">\n",
              "      <th></th>\n",
              "      <th>id</th>\n",
              "      <th>seq</th>\n",
              "      <th>label</th>\n",
              "      <th>ngram</th>\n",
              "    </tr>\n",
              "  </thead>\n",
              "  <tbody>\n",
              "    <tr>\n",
              "      <th>0</th>\n",
              "      <td>NC_036588.1</td>\n",
              "      <td>NNNNNNNNNNNNNNNNNNNNNNNNNNNNNNNNNNNNNNNNNNNNNN...</td>\n",
              "      <td>0</td>\n",
              "      <td>[NNN, NNN, NNN, NNN, NNN, NNN, NNN, NNN, NNN, ...</td>\n",
              "    </tr>\n",
              "    <tr>\n",
              "      <th>1</th>\n",
              "      <td>NC_014412.1</td>\n",
              "      <td>NNNNNNNNNNNNNNNNNNNNNNNNNNNNNNNNNNNNNNNNNNNNNN...</td>\n",
              "      <td>0</td>\n",
              "      <td>[NNN, NNN, NNN, NNN, NNN, NNN, NNN, NNN, NNN, ...</td>\n",
              "    </tr>\n",
              "    <tr>\n",
              "      <th>2</th>\n",
              "      <td>NC_014413.1</td>\n",
              "      <td>GNNNNNNNNNNNNNNNNNNNNNNNNNNNNNNNNNNNNNNNNNNNNN...</td>\n",
              "      <td>0</td>\n",
              "      <td>[GNN, NNN, NNN, NNN, NNN, NNN, NNN, NNN, NNN, ...</td>\n",
              "    </tr>\n",
              "    <tr>\n",
              "      <th>3</th>\n",
              "      <td>NC_025890.1</td>\n",
              "      <td>NNNNNNNNNNNNNNNNNNNNNNNNNNNNNNNNNNNNNNNNNNNNNN...</td>\n",
              "      <td>0</td>\n",
              "      <td>[NNN, NNN, NNN, NNN, NNN, NNN, NNN, NNN, NNN, ...</td>\n",
              "    </tr>\n",
              "    <tr>\n",
              "      <th>4</th>\n",
              "      <td>NC_023162.1</td>\n",
              "      <td>NNNNNNNNNNNNNNNNNNNNNNNNNNNNNNNNNNNNNNNNNNNNNN...</td>\n",
              "      <td>0</td>\n",
              "      <td>[NNN, NNN, NNN, NNN, NNN, NNN, NNN, NNN, NNN, ...</td>\n",
              "    </tr>\n",
              "  </tbody>\n",
              "</table>\n",
              "</div>"
            ],
            "text/plain": [
              "            id  ...                                              ngram\n",
              "0  NC_036588.1  ...  [NNN, NNN, NNN, NNN, NNN, NNN, NNN, NNN, NNN, ...\n",
              "1  NC_014412.1  ...  [NNN, NNN, NNN, NNN, NNN, NNN, NNN, NNN, NNN, ...\n",
              "2  NC_014413.1  ...  [GNN, NNN, NNN, NNN, NNN, NNN, NNN, NNN, NNN, ...\n",
              "3  NC_025890.1  ...  [NNN, NNN, NNN, NNN, NNN, NNN, NNN, NNN, NNN, ...\n",
              "4  NC_023162.1  ...  [NNN, NNN, NNN, NNN, NNN, NNN, NNN, NNN, NNN, ...\n",
              "\n",
              "[5 rows x 4 columns]"
            ]
          },
          "metadata": {
            "tags": []
          },
          "execution_count": 10
        }
      ]
    },
    {
      "cell_type": "code",
      "metadata": {
        "id": "gbVyPBvW70XS",
        "colab_type": "code",
        "colab": {
          "base_uri": "https://localhost:8080/",
          "height": 53
        },
        "outputId": "bf990700-2556-469d-ca14-e9342a6416c8"
      },
      "source": [
        "from sklearn.model_selection import train_test_split\n",
        "from sklearn.manifold import TSNE\n",
        "xtrain_full, xtest, ytrain_full, ytest = train_test_split(records_df, records_df.label, test_size=0.2, random_state=100, stratify=records_df.label)\n",
        "xtrain, xval, ytrain, yval = train_test_split(xtrain_full, ytrain_full, test_size=0.2, random_state=100, stratify=ytrain_full)\n",
        "print(\"shape of training, validation, test set\\n\", xtrain.shape, xval.shape, xtest.shape, ytrain.shape, yval.shape, ytest.shape)"
      ],
      "execution_count": 15,
      "outputs": [
        {
          "output_type": "stream",
          "text": [
            "shape of training, validation, test set\n",
            " (179, 3) (45, 3) (57, 3) (179,) (45,) (57,)\n"
          ],
          "name": "stdout"
        }
      ]
    },
    {
      "cell_type": "code",
      "metadata": {
        "id": "rOAyZSSQC-Li",
        "colab_type": "code",
        "colab": {
          "base_uri": "https://localhost:8080/",
          "height": 35
        },
        "outputId": "0ff389c7-24ec-466a-a9bc-26b4ece39252"
      },
      "source": [
        "word_size = 1\n",
        "bp_list = 'ACGTN'\n",
        "vocab = [''.join(p) for p in product(bp_list, repeat=word_size)]\n",
        "# word_to_idx = {word: i for i, word in enumerate(vocab)}\n",
        "vocab_size = len(bp_list)\n",
        "print('vocab_size:', vocab_size)\n",
        "# print(\"word_to_idx\", word_to_idx)\n",
        "create1gram = keras.layers.experimental.preprocessing.TextVectorization(\n",
        "  standardize=lambda x: tf.strings.regex_replace(x, '(.)', '\\\\1 '), ngrams=1\n",
        ")\n",
        "create1gram.adapt(vocab)"
      ],
      "execution_count": 16,
      "outputs": [
        {
          "output_type": "stream",
          "text": [
            "vocab_size: 5\n"
          ],
          "name": "stdout"
        }
      ]
    },
    {
      "cell_type": "code",
      "metadata": {
        "id": "sD6nFJywF8k1",
        "colab_type": "code",
        "colab": {}
      },
      "source": [
        "# the first two index of TextVectorization has been reserved to EOS and OOV\n",
        "def index_preprocess(x):\n",
        "  x_index = tf.subtract(create1gram(x), 2)\n",
        "  return x_index, x_index\n",
        "xtrain_seq = tf.data.Dataset.from_tensor_slices(xtrain['seq']).map(index_preprocess).batch(32)\n",
        "xval_seq = tf.data.Dataset.from_tensor_slices(xval['seq']).map(index_preprocess).batch(32)\n",
        "xtest_seq = tf.data.Dataset.from_tensor_slices(xtest['seq']).map(index_preprocess).batch(32)"
      ],
      "execution_count": 17,
      "outputs": []
    },
    {
      "cell_type": "code",
      "metadata": {
        "id": "iQ5S-N88FmIx",
        "colab_type": "code",
        "colab": {
          "base_uri": "https://localhost:8080/",
          "height": 233
        },
        "outputId": "18ef3f33-17b3-444a-c1e5-47dd2bdddc6f"
      },
      "source": [
        "latent_size = 256\n",
        "\n",
        "encoder = keras.Sequential([\n",
        "    keras.Input(shape=(seq_len,)),\n",
        "    keras.layers.Embedding(seq_len, latent_size),\n",
        "    keras.layers.LSTM(latent_size, return_sequences=False),\n",
        "])\n",
        "\n",
        "decoder = keras.Sequential([\n",
        "    keras.layers.RepeatVector(seq_len, input_shape=[latent_size]),\n",
        "    keras.layers.LSTM(latent_size, return_sequences=True),\n",
        "    keras.layers.TimeDistributed(keras.layers.Dense(5, activation='softmax'))  # ACTGN\n",
        "])\n",
        "\n",
        "recurrent_ae = keras.Sequential([encoder, decoder])\n",
        "recurrent_ae.summary()"
      ],
      "execution_count": 18,
      "outputs": [
        {
          "output_type": "stream",
          "text": [
            "Model: \"sequential_2\"\n",
            "_________________________________________________________________\n",
            "Layer (type)                 Output Shape              Param #   \n",
            "=================================================================\n",
            "sequential (Sequential)      (None, 256)               1152256   \n",
            "_________________________________________________________________\n",
            "sequential_1 (Sequential)    (None, 2449, 5)           526597    \n",
            "=================================================================\n",
            "Total params: 1,678,853\n",
            "Trainable params: 1,678,853\n",
            "Non-trainable params: 0\n",
            "_________________________________________________________________\n"
          ],
          "name": "stdout"
        }
      ]
    },
    {
      "cell_type": "code",
      "metadata": {
        "id": "wXJVV0B3FmGx",
        "colab_type": "code",
        "colab": {}
      },
      "source": [
        "checkpoint_filepath = '/content/gdrive/My Drive/Colab Notebooks/models/lstm1_viridae_random.32.{epoch:04d}.h5'\n",
        "model_checkpoint_callback = tf.keras.callbacks.ModelCheckpoint(\n",
        "    filepath=checkpoint_filepath,\n",
        "    save_weights_only=False,\n",
        "    monitor='val_acc',\n",
        "    mode='max',\n",
        "    save_best_only=False,\n",
        "    save_freq=360)\n",
        "es_cb = keras.callbacks.EarlyStopping(patience=20, restore_best_weights=True)"
      ],
      "execution_count": 19,
      "outputs": []
    },
    {
      "cell_type": "code",
      "metadata": {
        "id": "tbA6ekIqFl8R",
        "colab_type": "code",
        "colab": {
          "base_uri": "https://localhost:8080/",
          "height": 1000
        },
        "outputId": "1e8bba52-151a-4c68-aa9d-0fdaa6fb68b6"
      },
      "source": [
        "recurrent_ae.compile(optimizer='adam', loss='sparse_categorical_crossentropy', metrics='accuracy')\n",
        "# ae_hist = recurrent_ae.fit(xtrain_seq, validation_data=xval_seq, epochs=1000, callbacks=[es_cb, model_checkpoint_callback])\n",
        "ae_hist = recurrent_ae.fit(xtrain_seq, validation_data=xval_seq, epochs=1000, callbacks=[es_cb])"
      ],
      "execution_count": 20,
      "outputs": [
        {
          "output_type": "stream",
          "text": [
            "Epoch 1/1000\n",
            "6/6 [==============================] - 3s 446ms/step - loss: 0.9443 - accuracy: 0.9173 - val_loss: 0.5350 - val_accuracy: 0.8991\n",
            "Epoch 2/1000\n",
            "6/6 [==============================] - 2s 335ms/step - loss: 0.4093 - accuracy: 0.9173 - val_loss: 0.4624 - val_accuracy: 0.8991\n",
            "Epoch 3/1000\n",
            "6/6 [==============================] - 2s 339ms/step - loss: 0.4045 - accuracy: 0.9173 - val_loss: 0.4790 - val_accuracy: 0.8991\n",
            "Epoch 4/1000\n",
            "6/6 [==============================] - 2s 338ms/step - loss: 0.3983 - accuracy: 0.9173 - val_loss: 0.4612 - val_accuracy: 0.8991\n",
            "Epoch 5/1000\n",
            "6/6 [==============================] - 2s 332ms/step - loss: 0.3963 - accuracy: 0.9173 - val_loss: 0.4598 - val_accuracy: 0.8991\n",
            "Epoch 6/1000\n",
            "6/6 [==============================] - 2s 333ms/step - loss: 0.3957 - accuracy: 0.9173 - val_loss: 0.4617 - val_accuracy: 0.8991\n",
            "Epoch 7/1000\n",
            "6/6 [==============================] - 2s 334ms/step - loss: 0.3942 - accuracy: 0.9173 - val_loss: 0.4604 - val_accuracy: 0.8991\n",
            "Epoch 8/1000\n",
            "6/6 [==============================] - 2s 333ms/step - loss: 0.3937 - accuracy: 0.9173 - val_loss: 0.4595 - val_accuracy: 0.8991\n",
            "Epoch 9/1000\n",
            "6/6 [==============================] - 2s 336ms/step - loss: 0.3944 - accuracy: 0.9173 - val_loss: 0.4600 - val_accuracy: 0.8991\n",
            "Epoch 10/1000\n",
            "6/6 [==============================] - 2s 334ms/step - loss: 0.3936 - accuracy: 0.9173 - val_loss: 0.4594 - val_accuracy: 0.8991\n",
            "Epoch 11/1000\n",
            "6/6 [==============================] - 2s 335ms/step - loss: 0.3933 - accuracy: 0.9173 - val_loss: 0.4589 - val_accuracy: 0.8991\n",
            "Epoch 12/1000\n",
            "6/6 [==============================] - 2s 334ms/step - loss: 0.3936 - accuracy: 0.9173 - val_loss: 0.4595 - val_accuracy: 0.8991\n",
            "Epoch 13/1000\n",
            "6/6 [==============================] - 2s 339ms/step - loss: 0.3935 - accuracy: 0.9173 - val_loss: 0.4594 - val_accuracy: 0.8991\n",
            "Epoch 14/1000\n",
            "6/6 [==============================] - 2s 337ms/step - loss: 0.3934 - accuracy: 0.9173 - val_loss: 0.4592 - val_accuracy: 0.8991\n",
            "Epoch 15/1000\n",
            "6/6 [==============================] - 2s 335ms/step - loss: 0.3935 - accuracy: 0.9173 - val_loss: 0.4592 - val_accuracy: 0.8991\n",
            "Epoch 16/1000\n",
            "6/6 [==============================] - 2s 335ms/step - loss: 0.3934 - accuracy: 0.9173 - val_loss: 0.4591 - val_accuracy: 0.8991\n",
            "Epoch 17/1000\n",
            "6/6 [==============================] - 2s 341ms/step - loss: 0.3933 - accuracy: 0.9173 - val_loss: 0.4591 - val_accuracy: 0.8991\n",
            "Epoch 18/1000\n",
            "6/6 [==============================] - 2s 337ms/step - loss: 0.3934 - accuracy: 0.9173 - val_loss: 0.4591 - val_accuracy: 0.8991\n",
            "Epoch 19/1000\n",
            "6/6 [==============================] - 2s 336ms/step - loss: 0.3933 - accuracy: 0.9173 - val_loss: 0.4591 - val_accuracy: 0.8991\n",
            "Epoch 20/1000\n",
            "6/6 [==============================] - 2s 339ms/step - loss: 0.3933 - accuracy: 0.9173 - val_loss: 0.4591 - val_accuracy: 0.8991\n",
            "Epoch 21/1000\n",
            "6/6 [==============================] - 2s 340ms/step - loss: 0.3933 - accuracy: 0.9173 - val_loss: 0.4590 - val_accuracy: 0.8991\n",
            "Epoch 22/1000\n",
            "6/6 [==============================] - 2s 337ms/step - loss: 0.3932 - accuracy: 0.9173 - val_loss: 0.4590 - val_accuracy: 0.8991\n",
            "Epoch 23/1000\n",
            "6/6 [==============================] - 2s 337ms/step - loss: 0.3932 - accuracy: 0.9173 - val_loss: 0.4590 - val_accuracy: 0.8991\n",
            "Epoch 24/1000\n",
            "6/6 [==============================] - 2s 338ms/step - loss: 0.3932 - accuracy: 0.9173 - val_loss: 0.4590 - val_accuracy: 0.8991\n",
            "Epoch 25/1000\n",
            "6/6 [==============================] - 2s 337ms/step - loss: 0.3932 - accuracy: 0.9173 - val_loss: 0.4590 - val_accuracy: 0.8991\n",
            "Epoch 26/1000\n",
            "6/6 [==============================] - 2s 345ms/step - loss: 0.3932 - accuracy: 0.9173 - val_loss: 0.4590 - val_accuracy: 0.8991\n",
            "Epoch 27/1000\n",
            "6/6 [==============================] - 2s 341ms/step - loss: 0.3931 - accuracy: 0.9173 - val_loss: 0.4591 - val_accuracy: 0.8991\n",
            "Epoch 28/1000\n",
            "6/6 [==============================] - 2s 343ms/step - loss: 0.3931 - accuracy: 0.9173 - val_loss: 0.4591 - val_accuracy: 0.8991\n",
            "Epoch 29/1000\n",
            "6/6 [==============================] - 2s 341ms/step - loss: 0.3931 - accuracy: 0.9173 - val_loss: 0.4593 - val_accuracy: 0.8991\n",
            "Epoch 30/1000\n",
            "6/6 [==============================] - 2s 343ms/step - loss: 0.3930 - accuracy: 0.9173 - val_loss: 0.4594 - val_accuracy: 0.8991\n",
            "Epoch 31/1000\n",
            "6/6 [==============================] - 2s 343ms/step - loss: 0.3930 - accuracy: 0.9173 - val_loss: 0.4597 - val_accuracy: 0.8991\n"
          ],
          "name": "stdout"
        }
      ]
    },
    {
      "cell_type": "code",
      "metadata": {
        "id": "2bsxRbgoEQ6w",
        "colab_type": "code",
        "colab": {
          "base_uri": "https://localhost:8080/",
          "height": 369
        },
        "outputId": "9452900b-01e9-4d32-f191-f9c277622156"
      },
      "source": [
        "fig, axes = plt.subplots(1, 2, figsize=(10, 5))\n",
        "for i in range(1):\n",
        "  ax1 = axes[0]\n",
        "  ax2 = axes[1]\n",
        "\n",
        "  ax1.plot(ae_hist.history['loss'], label='training')\n",
        "  ax1.plot(ae_hist.history['val_loss'], label='validation')\n",
        "  ax1.set_title('lstm autoencoder loss')\n",
        "  ax1.set_xlabel('epoch')\n",
        "  ax1.set_ylabel('loss')\n",
        "  ax1.legend(['train', 'validation'], loc='upper left')\n",
        "  \n",
        "  ax2.plot(ae_hist.history['accuracy'], label='training')\n",
        "  ax2.plot(ae_hist.history['val_accuracy'], label='validation')\n",
        "  ax2.set_title('lstm autoencoder accuracy')\n",
        "  ax2.set_xlabel('epoch')\n",
        "  ax2.set_ylabel('accuracy')\n",
        "  ax2.legend(['train', 'validation'], loc='upper left')\n",
        "fig.tight_layout()"
      ],
      "execution_count": 21,
      "outputs": [
        {
          "output_type": "display_data",
          "data": {
            "image/png": "[encoded data removed]",
            "text/plain": [
              "<Figure size 720x360 with 2 Axes>"
            ]
          },
          "metadata": {
            "tags": [],
            "needs_background": "light"
          }
        }
      ]
    },
    {
      "cell_type": "code",
      "metadata": {
        "id": "gYFxBUa4P9HQ",
        "colab_type": "code",
        "colab": {
          "base_uri": "https://localhost:8080/",
          "height": 35
        },
        "outputId": "769e01a0-228c-4d74-d1a4-2d8fd215f5d3"
      },
      "source": [
        "xtrain_vec = encoder.predict(xtrain_seq)\n",
        "xval_vec = encoder.predict(xval_seq)\n",
        "xtest_vec = encoder.predict(xtest_seq)\n",
        "print('The shape of xtrain/xval/xtest_seq is', xtrain_vec.shape, xval_vec.shape, xtest_vec.shape)"
      ],
      "execution_count": 22,
      "outputs": [
        {
          "output_type": "stream",
          "text": [
            "The shape of xtrain/xval/xtest_seq is (179, 256) (45, 256) (57, 256)\n"
          ],
          "name": "stdout"
        }
      ]
    },
    {
      "cell_type": "code",
      "metadata": {
        "id": "knPqIYqfP9On",
        "colab_type": "code",
        "colab": {}
      },
      "source": [
        "def plotVec(ax, x, y, title=\"title\"):\n",
        "  scatter = ax.scatter(x[:, 0], x[:, 1], c=y, \n",
        "             cmap=matplotlib.colors.ListedColormap([\"red\", \"blue\", \"yellow\"]))\n",
        "  ax.set_title(title)\n",
        "  ax.legend(*scatter.legend_elements(), loc=0, title=\"Classes\")"
      ],
      "execution_count": 23,
      "outputs": []
    },
    {
      "cell_type": "code",
      "metadata": {
        "id": "AeZ8pGfMP9Rc",
        "colab_type": "code",
        "colab": {
          "base_uri": "https://localhost:8080/",
          "height": 369
        },
        "outputId": "0a5b6c9a-a008-4f6b-8872-29b1c23f5dc8"
      },
      "source": [
        "xtrain_tsne = TSNE(n_components=2, metric=\"cosine\").fit_transform(xtrain_vec)\n",
        "xval_tsne = TSNE(n_components=2, metric=\"cosine\").fit_transform(xval_vec)\n",
        "xtest_tsne = TSNE(n_components=2, metric=\"cosine\").fit_transform(xtest_vec)\n",
        "\n",
        "fig, axes = plt.subplots(1, 3, figsize=(15, 5))\n",
        "plotVec(axes[0], xtrain_tsne, ytrain, title=\"TSNE, training\")\n",
        "plotVec(axes[1], xval_tsne, yval, title=\"TSNE, validation\")\n",
        "plotVec(axes[2], xtest_tsne, ytest, title=\"TSNE, test\")\n",
        "fig.tight_layout()"
      ],
      "execution_count": 24,
      "outputs": [
        {
          "output_type": "display_data",
          "data": {
            "image/png": "[encoded data removed]",
            "text/plain": [
              "<Figure size 1080x360 with 3 Axes>"
            ]
          },
          "metadata": {
            "tags": [],
            "needs_background": "light"
          }
        }
      ]
    },
    {
      "cell_type": "code",
      "metadata": {
        "id": "ed_V_GNxP9V9",
        "colab_type": "code",
        "colab": {}
      },
      "source": [
        "model = keras.models.Sequential([\n",
        "  keras.layers.Dense(256, activation=\"relu\", input_shape=[latent_size]),\n",
        "  keras.layers.Dropout(0.2),\n",
        "  keras.layers.Dense(128, activation=\"relu\"),\n",
        "  keras.layers.Dropout(0.2),\n",
        "  keras.layers.Dense(64, activation=\"relu\"), \n",
        "  keras.layers.Dropout(0.2),    \n",
        "  keras.layers.Dense(32, activation=\"relu\"), \n",
        "  keras.layers.Dropout(0.2),    \n",
        "  keras.layers.Dense(16, activation=\"relu\"), \n",
        "  keras.layers.Dropout(0.2),    \n",
        "  keras.layers.Dense(1, activation=\"sigmoid\")                               \n",
        "])\n",
        "model.compile(keras.optimizers.SGD(momentum=0.9), loss=keras.losses.BinaryCrossentropy(), metrics=['accuracy'])"
      ],
      "execution_count": 25,
      "outputs": []
    },
    {
      "cell_type": "code",
      "metadata": {
        "id": "yNP1qnwoQFrL",
        "colab_type": "code",
        "colab": {
          "base_uri": "https://localhost:8080/",
          "height": 1000
        },
        "outputId": "2728e1b5-46a8-4ad5-9cb5-66227226a5da"
      },
      "source": [
        "model_hist = model.fit(xtrain_vec, ytrain, validation_data=(xval_vec, yval), epochs=50, callbacks=[es_cb])"
      ],
      "execution_count": 26,
      "outputs": [
        {
          "output_type": "stream",
          "text": [
            "Epoch 1/50\n",
            "6/6 [==============================] - 0s 26ms/step - loss: 0.6950 - accuracy: 0.4972 - val_loss: 0.6897 - val_accuracy: 0.5333\n",
            "Epoch 2/50\n",
            "6/6 [==============================] - 0s 6ms/step - loss: 0.6902 - accuracy: 0.4972 - val_loss: 0.6875 - val_accuracy: 0.5333\n",
            "Epoch 3/50\n",
            "6/6 [==============================] - 0s 6ms/step - loss: 0.6911 - accuracy: 0.5084 - val_loss: 0.6852 - val_accuracy: 0.5333\n",
            "Epoch 4/50\n",
            "6/6 [==============================] - 0s 6ms/step - loss: 0.6868 - accuracy: 0.5307 - val_loss: 0.6825 - val_accuracy: 0.5333\n",
            "Epoch 5/50\n",
            "6/6 [==============================] - 0s 5ms/step - loss: 0.6846 - accuracy: 0.5419 - val_loss: 0.6801 - val_accuracy: 0.5333\n",
            "Epoch 6/50\n",
            "6/6 [==============================] - 0s 6ms/step - loss: 0.6844 - accuracy: 0.5363 - val_loss: 0.6785 - val_accuracy: 0.5333\n",
            "Epoch 7/50\n",
            "6/6 [==============================] - 0s 6ms/step - loss: 0.6808 - accuracy: 0.5419 - val_loss: 0.6770 - val_accuracy: 0.5333\n",
            "Epoch 8/50\n",
            "6/6 [==============================] - 0s 6ms/step - loss: 0.6810 - accuracy: 0.5419 - val_loss: 0.6746 - val_accuracy: 0.5333\n",
            "Epoch 9/50\n",
            "6/6 [==============================] - 0s 6ms/step - loss: 0.6852 - accuracy: 0.5419 - val_loss: 0.6729 - val_accuracy: 0.5333\n",
            "Epoch 10/50\n",
            "6/6 [==============================] - 0s 6ms/step - loss: 0.6727 - accuracy: 0.5810 - val_loss: 0.6712 - val_accuracy: 0.6444\n",
            "Epoch 11/50\n",
            "6/6 [==============================] - 0s 6ms/step - loss: 0.6808 - accuracy: 0.5698 - val_loss: 0.6689 - val_accuracy: 0.6667\n",
            "Epoch 12/50\n",
            "6/6 [==============================] - 0s 6ms/step - loss: 0.6797 - accuracy: 0.6145 - val_loss: 0.6662 - val_accuracy: 0.6667\n",
            "Epoch 13/50\n",
            "6/6 [==============================] - 0s 6ms/step - loss: 0.6766 - accuracy: 0.6480 - val_loss: 0.6636 - val_accuracy: 0.6667\n",
            "Epoch 14/50\n",
            "6/6 [==============================] - 0s 6ms/step - loss: 0.6744 - accuracy: 0.6257 - val_loss: 0.6618 - val_accuracy: 0.6889\n",
            "Epoch 15/50\n",
            "6/6 [==============================] - 0s 6ms/step - loss: 0.6788 - accuracy: 0.6257 - val_loss: 0.6613 - val_accuracy: 0.7111\n",
            "Epoch 16/50\n",
            "6/6 [==============================] - 0s 6ms/step - loss: 0.6796 - accuracy: 0.6257 - val_loss: 0.6598 - val_accuracy: 0.6889\n",
            "Epoch 17/50\n",
            "6/6 [==============================] - 0s 5ms/step - loss: 0.6699 - accuracy: 0.6257 - val_loss: 0.6577 - val_accuracy: 0.6889\n",
            "Epoch 18/50\n",
            "6/6 [==============================] - 0s 6ms/step - loss: 0.6774 - accuracy: 0.6369 - val_loss: 0.6561 - val_accuracy: 0.7111\n",
            "Epoch 19/50\n",
            "6/6 [==============================] - 0s 6ms/step - loss: 0.6688 - accuracy: 0.6313 - val_loss: 0.6538 - val_accuracy: 0.7111\n",
            "Epoch 20/50\n",
            "6/6 [==============================] - 0s 7ms/step - loss: 0.6776 - accuracy: 0.6369 - val_loss: 0.6522 - val_accuracy: 0.7111\n",
            "Epoch 21/50\n",
            "6/6 [==============================] - 0s 6ms/step - loss: 0.6756 - accuracy: 0.6648 - val_loss: 0.6515 - val_accuracy: 0.7111\n",
            "Epoch 22/50\n",
            "6/6 [==============================] - 0s 6ms/step - loss: 0.6748 - accuracy: 0.6648 - val_loss: 0.6489 - val_accuracy: 0.7111\n",
            "Epoch 23/50\n",
            "6/6 [==============================] - 0s 6ms/step - loss: 0.6672 - accuracy: 0.6369 - val_loss: 0.6477 - val_accuracy: 0.7111\n",
            "Epoch 24/50\n",
            "6/6 [==============================] - 0s 6ms/step - loss: 0.6527 - accuracy: 0.6704 - val_loss: 0.6454 - val_accuracy: 0.7111\n",
            "Epoch 25/50\n",
            "6/6 [==============================] - 0s 6ms/step - loss: 0.6748 - accuracy: 0.6536 - val_loss: 0.6426 - val_accuracy: 0.7111\n",
            "Epoch 26/50\n",
            "6/6 [==============================] - 0s 6ms/step - loss: 0.6775 - accuracy: 0.6201 - val_loss: 0.6424 - val_accuracy: 0.7111\n",
            "Epoch 27/50\n",
            "6/6 [==============================] - 0s 7ms/step - loss: 0.6588 - accuracy: 0.6313 - val_loss: 0.6407 - val_accuracy: 0.7111\n",
            "Epoch 28/50\n",
            "6/6 [==============================] - 0s 6ms/step - loss: 0.6591 - accuracy: 0.6592 - val_loss: 0.6391 - val_accuracy: 0.7111\n",
            "Epoch 29/50\n",
            "6/6 [==============================] - 0s 5ms/step - loss: 0.6805 - accuracy: 0.6201 - val_loss: 0.6397 - val_accuracy: 0.7111\n",
            "Epoch 30/50\n",
            "6/6 [==============================] - 0s 6ms/step - loss: 0.6574 - accuracy: 0.6592 - val_loss: 0.6412 - val_accuracy: 0.7111\n",
            "Epoch 31/50\n",
            "6/6 [==============================] - 0s 5ms/step - loss: 0.6712 - accuracy: 0.6089 - val_loss: 0.6408 - val_accuracy: 0.7111\n",
            "Epoch 32/50\n",
            "6/6 [==============================] - 0s 5ms/step - loss: 0.6795 - accuracy: 0.5866 - val_loss: 0.6376 - val_accuracy: 0.7111\n",
            "Epoch 33/50\n",
            "6/6 [==============================] - 0s 6ms/step - loss: 0.6500 - accuracy: 0.6592 - val_loss: 0.6369 - val_accuracy: 0.7111\n",
            "Epoch 34/50\n",
            "6/6 [==============================] - 0s 5ms/step - loss: 0.6628 - accuracy: 0.6480 - val_loss: 0.6321 - val_accuracy: 0.7111\n",
            "Epoch 35/50\n",
            "6/6 [==============================] - 0s 5ms/step - loss: 0.6394 - accuracy: 0.6816 - val_loss: 0.6292 - val_accuracy: 0.7111\n",
            "Epoch 36/50\n",
            "6/6 [==============================] - 0s 6ms/step - loss: 0.6606 - accuracy: 0.6313 - val_loss: 0.6272 - val_accuracy: 0.7111\n",
            "Epoch 37/50\n",
            "6/6 [==============================] - 0s 7ms/step - loss: 0.6476 - accuracy: 0.6425 - val_loss: 0.6255 - val_accuracy: 0.7111\n",
            "Epoch 38/50\n",
            "6/6 [==============================] - 0s 6ms/step - loss: 0.6737 - accuracy: 0.5866 - val_loss: 0.6245 - val_accuracy: 0.7111\n",
            "Epoch 39/50\n",
            "6/6 [==============================] - 0s 7ms/step - loss: 0.6531 - accuracy: 0.6257 - val_loss: 0.6218 - val_accuracy: 0.7111\n",
            "Epoch 40/50\n",
            "6/6 [==============================] - 0s 6ms/step - loss: 0.6523 - accuracy: 0.6816 - val_loss: 0.6205 - val_accuracy: 0.7111\n",
            "Epoch 41/50\n",
            "6/6 [==============================] - 0s 6ms/step - loss: 0.6509 - accuracy: 0.6201 - val_loss: 0.6202 - val_accuracy: 0.7111\n",
            "Epoch 42/50\n",
            "6/6 [==============================] - 0s 5ms/step - loss: 0.6662 - accuracy: 0.6313 - val_loss: 0.6228 - val_accuracy: 0.7111\n",
            "Epoch 43/50\n",
            "6/6 [==============================] - 0s 6ms/step - loss: 0.6484 - accuracy: 0.6480 - val_loss: 0.6207 - val_accuracy: 0.7111\n",
            "Epoch 44/50\n",
            "6/6 [==============================] - 0s 6ms/step - loss: 0.6417 - accuracy: 0.6145 - val_loss: 0.6149 - val_accuracy: 0.7111\n",
            "Epoch 45/50\n",
            "6/6 [==============================] - 0s 6ms/step - loss: 0.6656 - accuracy: 0.6369 - val_loss: 0.6134 - val_accuracy: 0.7111\n",
            "Epoch 46/50\n",
            "6/6 [==============================] - 0s 5ms/step - loss: 0.6574 - accuracy: 0.6257 - val_loss: 0.6157 - val_accuracy: 0.7111\n",
            "Epoch 47/50\n",
            "6/6 [==============================] - 0s 6ms/step - loss: 0.6428 - accuracy: 0.6648 - val_loss: 0.6133 - val_accuracy: 0.7111\n",
            "Epoch 48/50\n",
            "6/6 [==============================] - 0s 6ms/step - loss: 0.6351 - accuracy: 0.6536 - val_loss: 0.6118 - val_accuracy: 0.7111\n",
            "Epoch 49/50\n",
            "6/6 [==============================] - 0s 6ms/step - loss: 0.6579 - accuracy: 0.6257 - val_loss: 0.6103 - val_accuracy: 0.7111\n",
            "Epoch 50/50\n",
            "6/6 [==============================] - 0s 6ms/step - loss: 0.6330 - accuracy: 0.6592 - val_loss: 0.6100 - val_accuracy: 0.7111\n"
          ],
          "name": "stdout"
        }
      ]
    },
    {
      "cell_type": "code",
      "metadata": {
        "id": "f7-sbXgqQFwb",
        "colab_type": "code",
        "colab": {}
      },
      "source": [
        "def eval_model(model, x, true_label, ds_name=\"Training\"):\n",
        "  loss, acc = model.evaluate(x, true_label, verbose=0)\n",
        "  print(\"{} Dataset: loss = {} and acccuracy = {}\".format(ds_name, np.round(loss, 3), np.round(acc, 3)))"
      ],
      "execution_count": 27,
      "outputs": []
    },
    {
      "cell_type": "code",
      "metadata": {
        "id": "5AhGsEcJQFz0",
        "colab_type": "code",
        "colab": {
          "base_uri": "https://localhost:8080/",
          "height": 71
        },
        "outputId": "4d529956-1727-4c7b-ab76-a06e2bf29578"
      },
      "source": [
        "eval_model(model, xtrain_vec, ytrain, \"Training\")\n",
        "eval_model(model, xval_vec, yval, \"Validation\")\n",
        "eval_model(model, xtest_vec, ytest, \"Test\")"
      ],
      "execution_count": 28,
      "outputs": [
        {
          "output_type": "stream",
          "text": [
            "Training Dataset: loss = 0.629 and acccuracy = 0.676\n",
            "Validation Dataset: loss = 0.61 and acccuracy = 0.711\n",
            "Test Dataset: loss = 0.644 and acccuracy = 0.667\n"
          ],
          "name": "stdout"
        }
      ]
    },
    {
      "cell_type": "code",
      "metadata": {
        "id": "YiYrk453QFuQ",
        "colab_type": "code",
        "colab": {
          "base_uri": "https://localhost:8080/",
          "height": 369
        },
        "outputId": "801e974e-df0c-4df2-f10a-f58dcc7be279"
      },
      "source": [
        "fig, axes = plt.subplots(1, 2, figsize=(10, 5))\n",
        "for i in range(1):\n",
        "  ax1 = axes[0]\n",
        "  ax2 = axes[1]\n",
        "\n",
        "  ax1.plot(model_hist.history['loss'], label='training')\n",
        "  ax1.plot(model_hist.history['val_loss'], label='validation')\n",
        "  ax1.set_title('NN Multiclassification loss')\n",
        "  ax1.set_xlabel('epoch')\n",
        "  ax1.set_ylabel('loss')\n",
        "  ax1.legend(['train', 'validation'], loc='upper left')\n",
        "  \n",
        "  ax2.plot(model_hist.history['accuracy'], label='training')\n",
        "  ax2.plot(model_hist.history['val_accuracy'], label='validation')\n",
        "  ax2.set_title('NN Multiclassification accuracy')\n",
        "  ax2.set_xlabel('epoch')\n",
        "  ax2.set_ylabel('accuracy')\n",
        "  ax2.legend(['train', 'validation'], loc='upper left')\n",
        "fig.tight_layout()"
      ],
      "execution_count": 29,
      "outputs": [
        {
          "output_type": "display_data",
          "data": {
            "image/png": "[encoded data removed]",
            "text/plain": [
              "<Figure size 720x360 with 2 Axes>"
            ]
          },
          "metadata": {
            "tags": [],
            "needs_background": "light"
          }
        }
      ]
    }
  ]
}