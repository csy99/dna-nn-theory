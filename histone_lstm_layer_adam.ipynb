{
  "nbformat": 4,
  "nbformat_minor": 0,
  "metadata": {
    "colab": {
      "name": "histone_lstm_layer_adam.ipynb",
      "provenance": [],
      "collapsed_sections": [],
      "authorship_tag": "ABX9TyOTyRj3KOE7iy25RMSGZtvH",
      "include_colab_link": true
    },
    "kernelspec": {
      "name": "python3",
      "display_name": "Python 3"
    },
    "accelerator": "GPU"
  },
  "cells": [
    {
      "cell_type": "markdown",
      "metadata": {
        "id": "view-in-github",
        "colab_type": "text"
      },
      "source": [
        "<a href=\"https://colab.research.google.com/github/csy99/dna-nn-theory/blob/master/histone_lstm_layer_adam.ipynb\" target=\"_parent\"><img src=\"https://colab.research.google.com/assets/colab-badge.svg\" alt=\"Open In Colab\"/></a>"
      ]
    },
    {
      "cell_type": "code",
      "metadata": {
        "colab": {
          "base_uri": "https://localhost:8080/"
        },
        "id": "sX2CBzgbb0Mr",
        "outputId": "32be8d8a-91fb-411c-b442-2863dba295ca"
      },
      "source": [
        "!pip install -q biopython"
      ],
      "execution_count": null,
      "outputs": [
        {
          "output_type": "stream",
          "text": [
            "\u001b[?25l\r\u001b[K     |▏                               | 10kB 25.4MB/s eta 0:00:01\r\u001b[K     |▎                               | 20kB 17.6MB/s eta 0:00:01\r\u001b[K     |▍                               | 30kB 14.5MB/s eta 0:00:01\r\u001b[K     |▋                               | 40kB 13.1MB/s eta 0:00:01\r\u001b[K     |▊                               | 51kB 9.0MB/s eta 0:00:01\r\u001b[K     |▉                               | 61kB 9.5MB/s eta 0:00:01\r\u001b[K     |█                               | 71kB 9.4MB/s eta 0:00:01\r\u001b[K     |█▏                              | 81kB 10.4MB/s eta 0:00:01\r\u001b[K     |█▎                              | 92kB 9.7MB/s eta 0:00:01\r\u001b[K     |█▌                              | 102kB 8.5MB/s eta 0:00:01\r\u001b[K     |█▋                              | 112kB 8.5MB/s eta 0:00:01\r\u001b[K     |█▊                              | 122kB 8.5MB/s eta 0:00:01\r\u001b[K     |██                              | 133kB 8.5MB/s eta 0:00:01\r\u001b[K     |██                              | 143kB 8.5MB/s eta 0:00:01\r\u001b[K     |██▏                             | 153kB 8.5MB/s eta 0:00:01\r\u001b[K     |██▎                             | 163kB 8.5MB/s eta 0:00:01\r\u001b[K     |██▌                             | 174kB 8.5MB/s eta 0:00:01\r\u001b[K     |██▋                             | 184kB 8.5MB/s eta 0:00:01\r\u001b[K     |██▊                             | 194kB 8.5MB/s eta 0:00:01\r\u001b[K     |███                             | 204kB 8.5MB/s eta 0:00:01\r\u001b[K     |███                             | 215kB 8.5MB/s eta 0:00:01\r\u001b[K     |███▏                            | 225kB 8.5MB/s eta 0:00:01\r\u001b[K     |███▍                            | 235kB 8.5MB/s eta 0:00:01\r\u001b[K     |███▌                            | 245kB 8.5MB/s eta 0:00:01\r\u001b[K     |███▋                            | 256kB 8.5MB/s eta 0:00:01\r\u001b[K     |███▉                            | 266kB 8.5MB/s eta 0:00:01\r\u001b[K     |████                            | 276kB 8.5MB/s eta 0:00:01\r\u001b[K     |████                            | 286kB 8.5MB/s eta 0:00:01\r\u001b[K     |████▏                           | 296kB 8.5MB/s eta 0:00:01\r\u001b[K     |████▍                           | 307kB 8.5MB/s eta 0:00:01\r\u001b[K     |████▌                           | 317kB 8.5MB/s eta 0:00:01\r\u001b[K     |████▋                           | 327kB 8.5MB/s eta 0:00:01\r\u001b[K     |████▉                           | 337kB 8.5MB/s eta 0:00:01\r\u001b[K     |█████                           | 348kB 8.5MB/s eta 0:00:01\r\u001b[K     |█████                           | 358kB 8.5MB/s eta 0:00:01\r\u001b[K     |█████▎                          | 368kB 8.5MB/s eta 0:00:01\r\u001b[K     |█████▍                          | 378kB 8.5MB/s eta 0:00:01\r\u001b[K     |█████▌                          | 389kB 8.5MB/s eta 0:00:01\r\u001b[K     |█████▊                          | 399kB 8.5MB/s eta 0:00:01\r\u001b[K     |█████▉                          | 409kB 8.5MB/s eta 0:00:01\r\u001b[K     |██████                          | 419kB 8.5MB/s eta 0:00:01\r\u001b[K     |██████                          | 430kB 8.5MB/s eta 0:00:01\r\u001b[K     |██████▎                         | 440kB 8.5MB/s eta 0:00:01\r\u001b[K     |██████▍                         | 450kB 8.5MB/s eta 0:00:01\r\u001b[K     |██████▌                         | 460kB 8.5MB/s eta 0:00:01\r\u001b[K     |██████▊                         | 471kB 8.5MB/s eta 0:00:01\r\u001b[K     |██████▉                         | 481kB 8.5MB/s eta 0:00:01\r\u001b[K     |███████                         | 491kB 8.5MB/s eta 0:00:01\r\u001b[K     |███████▏                        | 501kB 8.5MB/s eta 0:00:01\r\u001b[K     |███████▎                        | 512kB 8.5MB/s eta 0:00:01\r\u001b[K     |███████▍                        | 522kB 8.5MB/s eta 0:00:01\r\u001b[K     |███████▋                        | 532kB 8.5MB/s eta 0:00:01\r\u001b[K     |███████▊                        | 542kB 8.5MB/s eta 0:00:01\r\u001b[K     |███████▉                        | 552kB 8.5MB/s eta 0:00:01\r\u001b[K     |████████                        | 563kB 8.5MB/s eta 0:00:01\r\u001b[K     |████████▏                       | 573kB 8.5MB/s eta 0:00:01\r\u001b[K     |████████▎                       | 583kB 8.5MB/s eta 0:00:01\r\u001b[K     |████████▍                       | 593kB 8.5MB/s eta 0:00:01\r\u001b[K     |████████▋                       | 604kB 8.5MB/s eta 0:00:01\r\u001b[K     |████████▊                       | 614kB 8.5MB/s eta 0:00:01\r\u001b[K     |████████▉                       | 624kB 8.5MB/s eta 0:00:01\r\u001b[K     |█████████                       | 634kB 8.5MB/s eta 0:00:01\r\u001b[K     |█████████▏                      | 645kB 8.5MB/s eta 0:00:01\r\u001b[K     |█████████▎                      | 655kB 8.5MB/s eta 0:00:01\r\u001b[K     |█████████▌                      | 665kB 8.5MB/s eta 0:00:01\r\u001b[K     |█████████▋                      | 675kB 8.5MB/s eta 0:00:01\r\u001b[K     |█████████▊                      | 686kB 8.5MB/s eta 0:00:01\r\u001b[K     |█████████▉                      | 696kB 8.5MB/s eta 0:00:01\r\u001b[K     |██████████                      | 706kB 8.5MB/s eta 0:00:01\r\u001b[K     |██████████▏                     | 716kB 8.5MB/s eta 0:00:01\r\u001b[K     |██████████▎                     | 727kB 8.5MB/s eta 0:00:01\r\u001b[K     |██████████▌                     | 737kB 8.5MB/s eta 0:00:01\r\u001b[K     |██████████▋                     | 747kB 8.5MB/s eta 0:00:01\r\u001b[K     |██████████▊                     | 757kB 8.5MB/s eta 0:00:01\r\u001b[K     |███████████                     | 768kB 8.5MB/s eta 0:00:01\r\u001b[K     |███████████                     | 778kB 8.5MB/s eta 0:00:01\r\u001b[K     |███████████▏                    | 788kB 8.5MB/s eta 0:00:01\r\u001b[K     |███████████▍                    | 798kB 8.5MB/s eta 0:00:01\r\u001b[K     |███████████▌                    | 808kB 8.5MB/s eta 0:00:01\r\u001b[K     |███████████▋                    | 819kB 8.5MB/s eta 0:00:01\r\u001b[K     |███████████▉                    | 829kB 8.5MB/s eta 0:00:01\r\u001b[K     |████████████                    | 839kB 8.5MB/s eta 0:00:01\r\u001b[K     |████████████                    | 849kB 8.5MB/s eta 0:00:01\r\u001b[K     |████████████▏                   | 860kB 8.5MB/s eta 0:00:01\r\u001b[K     |████████████▍                   | 870kB 8.5MB/s eta 0:00:01\r\u001b[K     |████████████▌                   | 880kB 8.5MB/s eta 0:00:01\r\u001b[K     |████████████▋                   | 890kB 8.5MB/s eta 0:00:01\r\u001b[K     |████████████▉                   | 901kB 8.5MB/s eta 0:00:01\r\u001b[K     |█████████████                   | 911kB 8.5MB/s eta 0:00:01\r\u001b[K     |█████████████                   | 921kB 8.5MB/s eta 0:00:01\r\u001b[K     |█████████████▎                  | 931kB 8.5MB/s eta 0:00:01\r\u001b[K     |█████████████▍                  | 942kB 8.5MB/s eta 0:00:01\r\u001b[K     |█████████████▌                  | 952kB 8.5MB/s eta 0:00:01\r\u001b[K     |█████████████▊                  | 962kB 8.5MB/s eta 0:00:01\r\u001b[K     |█████████████▉                  | 972kB 8.5MB/s eta 0:00:01\r\u001b[K     |██████████████                  | 983kB 8.5MB/s eta 0:00:01\r\u001b[K     |██████████████                  | 993kB 8.5MB/s eta 0:00:01\r\u001b[K     |██████████████▎                 | 1.0MB 8.5MB/s eta 0:00:01\r\u001b[K     |██████████████▍                 | 1.0MB 8.5MB/s eta 0:00:01\r\u001b[K     |██████████████▌                 | 1.0MB 8.5MB/s eta 0:00:01\r\u001b[K     |██████████████▊                 | 1.0MB 8.5MB/s eta 0:00:01\r\u001b[K     |██████████████▉                 | 1.0MB 8.5MB/s eta 0:00:01\r\u001b[K     |███████████████                 | 1.1MB 8.5MB/s eta 0:00:01\r\u001b[K     |███████████████▏                | 1.1MB 8.5MB/s eta 0:00:01\r\u001b[K     |███████████████▎                | 1.1MB 8.5MB/s eta 0:00:01\r\u001b[K     |███████████████▍                | 1.1MB 8.5MB/s eta 0:00:01\r\u001b[K     |███████████████▋                | 1.1MB 8.5MB/s eta 0:00:01\r\u001b[K     |███████████████▊                | 1.1MB 8.5MB/s eta 0:00:01\r\u001b[K     |███████████████▉                | 1.1MB 8.5MB/s eta 0:00:01\r\u001b[K     |████████████████                | 1.1MB 8.5MB/s eta 0:00:01\r\u001b[K     |████████████████▏               | 1.1MB 8.5MB/s eta 0:00:01\r\u001b[K     |████████████████▎               | 1.1MB 8.5MB/s eta 0:00:01\r\u001b[K     |████████████████▍               | 1.2MB 8.5MB/s eta 0:00:01\r\u001b[K     |████████████████▋               | 1.2MB 8.5MB/s eta 0:00:01\r\u001b[K     |████████████████▊               | 1.2MB 8.5MB/s eta 0:00:01\r\u001b[K     |████████████████▉               | 1.2MB 8.5MB/s eta 0:00:01\r\u001b[K     |█████████████████               | 1.2MB 8.5MB/s eta 0:00:01\r\u001b[K     |█████████████████▏              | 1.2MB 8.5MB/s eta 0:00:01\r\u001b[K     |█████████████████▎              | 1.2MB 8.5MB/s eta 0:00:01\r\u001b[K     |█████████████████▌              | 1.2MB 8.5MB/s eta 0:00:01\r\u001b[K     |█████████████████▋              | 1.2MB 8.5MB/s eta 0:00:01\r\u001b[K     |█████████████████▊              | 1.2MB 8.5MB/s eta 0:00:01\r\u001b[K     |█████████████████▉              | 1.3MB 8.5MB/s eta 0:00:01\r\u001b[K     |██████████████████              | 1.3MB 8.5MB/s eta 0:00:01\r\u001b[K     |██████████████████▏             | 1.3MB 8.5MB/s eta 0:00:01\r\u001b[K     |██████████████████▎             | 1.3MB 8.5MB/s eta 0:00:01\r\u001b[K     |██████████████████▌             | 1.3MB 8.5MB/s eta 0:00:01\r\u001b[K     |██████████████████▋             | 1.3MB 8.5MB/s eta 0:00:01\r\u001b[K     |██████████████████▊             | 1.3MB 8.5MB/s eta 0:00:01\r\u001b[K     |███████████████████             | 1.3MB 8.5MB/s eta 0:00:01\r\u001b[K     |███████████████████             | 1.3MB 8.5MB/s eta 0:00:01\r\u001b[K     |███████████████████▏            | 1.4MB 8.5MB/s eta 0:00:01\r\u001b[K     |███████████████████▍            | 1.4MB 8.5MB/s eta 0:00:01\r\u001b[K     |███████████████████▌            | 1.4MB 8.5MB/s eta 0:00:01\r\u001b[K     |███████████████████▋            | 1.4MB 8.5MB/s eta 0:00:01\r\u001b[K     |███████████████████▊            | 1.4MB 8.5MB/s eta 0:00:01\r\u001b[K     |████████████████████            | 1.4MB 8.5MB/s eta 0:00:01\r\u001b[K     |████████████████████            | 1.4MB 8.5MB/s eta 0:00:01\r\u001b[K     |████████████████████▏           | 1.4MB 8.5MB/s eta 0:00:01\r\u001b[K     |████████████████████▍           | 1.4MB 8.5MB/s eta 0:00:01\r\u001b[K     |████████████████████▌           | 1.4MB 8.5MB/s eta 0:00:01\r\u001b[K     |████████████████████▋           | 1.5MB 8.5MB/s eta 0:00:01\r\u001b[K     |████████████████████▉           | 1.5MB 8.5MB/s eta 0:00:01\r\u001b[K     |█████████████████████           | 1.5MB 8.5MB/s eta 0:00:01\r\u001b[K     |█████████████████████           | 1.5MB 8.5MB/s eta 0:00:01\r\u001b[K     |█████████████████████▎          | 1.5MB 8.5MB/s eta 0:00:01\r\u001b[K     |█████████████████████▍          | 1.5MB 8.5MB/s eta 0:00:01\r\u001b[K     |█████████████████████▌          | 1.5MB 8.5MB/s eta 0:00:01\r\u001b[K     |█████████████████████▊          | 1.5MB 8.5MB/s eta 0:00:01\r\u001b[K     |█████████████████████▉          | 1.5MB 8.5MB/s eta 0:00:01\r\u001b[K     |██████████████████████          | 1.5MB 8.5MB/s eta 0:00:01\r\u001b[K     |██████████████████████          | 1.6MB 8.5MB/s eta 0:00:01\r\u001b[K     |██████████████████████▎         | 1.6MB 8.5MB/s eta 0:00:01\r\u001b[K     |██████████████████████▍         | 1.6MB 8.5MB/s eta 0:00:01\r\u001b[K     |██████████████████████▌         | 1.6MB 8.5MB/s eta 0:00:01\r\u001b[K     |██████████████████████▊         | 1.6MB 8.5MB/s eta 0:00:01\r\u001b[K     |██████████████████████▉         | 1.6MB 8.5MB/s eta 0:00:01\r\u001b[K     |███████████████████████         | 1.6MB 8.5MB/s eta 0:00:01\r\u001b[K     |███████████████████████▏        | 1.6MB 8.5MB/s eta 0:00:01\r\u001b[K     |███████████████████████▎        | 1.6MB 8.5MB/s eta 0:00:01\r\u001b[K     |███████████████████████▍        | 1.6MB 8.5MB/s eta 0:00:01\r\u001b[K     |███████████████████████▋        | 1.7MB 8.5MB/s eta 0:00:01\r\u001b[K     |███████████████████████▊        | 1.7MB 8.5MB/s eta 0:00:01\r\u001b[K     |███████████████████████▉        | 1.7MB 8.5MB/s eta 0:00:01\r\u001b[K     |████████████████████████        | 1.7MB 8.5MB/s eta 0:00:01\r\u001b[K     |████████████████████████▏       | 1.7MB 8.5MB/s eta 0:00:01\r\u001b[K     |████████████████████████▎       | 1.7MB 8.5MB/s eta 0:00:01\r\u001b[K     |████████████████████████▍       | 1.7MB 8.5MB/s eta 0:00:01\r\u001b[K     |████████████████████████▋       | 1.7MB 8.5MB/s eta 0:00:01\r\u001b[K     |████████████████████████▊       | 1.7MB 8.5MB/s eta 0:00:01\r\u001b[K     |████████████████████████▉       | 1.8MB 8.5MB/s eta 0:00:01\r\u001b[K     |█████████████████████████       | 1.8MB 8.5MB/s eta 0:00:01\r\u001b[K     |█████████████████████████▏      | 1.8MB 8.5MB/s eta 0:00:01\r\u001b[K     |█████████████████████████▎      | 1.8MB 8.5MB/s eta 0:00:01\r\u001b[K     |█████████████████████████▌      | 1.8MB 8.5MB/s eta 0:00:01\r\u001b[K     |█████████████████████████▋      | 1.8MB 8.5MB/s eta 0:00:01\r\u001b[K     |█████████████████████████▊      | 1.8MB 8.5MB/s eta 0:00:01\r\u001b[K     |█████████████████████████▉      | 1.8MB 8.5MB/s eta 0:00:01\r\u001b[K     |██████████████████████████      | 1.8MB 8.5MB/s eta 0:00:01\r\u001b[K     |██████████████████████████▏     | 1.8MB 8.5MB/s eta 0:00:01\r\u001b[K     |██████████████████████████▎     | 1.9MB 8.5MB/s eta 0:00:01\r\u001b[K     |██████████████████████████▌     | 1.9MB 8.5MB/s eta 0:00:01\r\u001b[K     |██████████████████████████▋     | 1.9MB 8.5MB/s eta 0:00:01\r\u001b[K     |██████████████████████████▊     | 1.9MB 8.5MB/s eta 0:00:01\r\u001b[K     |███████████████████████████     | 1.9MB 8.5MB/s eta 0:00:01\r\u001b[K     |███████████████████████████     | 1.9MB 8.5MB/s eta 0:00:01\r\u001b[K     |███████████████████████████▏    | 1.9MB 8.5MB/s eta 0:00:01\r\u001b[K     |███████████████████████████▍    | 1.9MB 8.5MB/s eta 0:00:01\r\u001b[K     |███████████████████████████▌    | 1.9MB 8.5MB/s eta 0:00:01\r\u001b[K     |███████████████████████████▋    | 1.9MB 8.5MB/s eta 0:00:01\r\u001b[K     |███████████████████████████▊    | 2.0MB 8.5MB/s eta 0:00:01\r\u001b[K     |████████████████████████████    | 2.0MB 8.5MB/s eta 0:00:01\r\u001b[K     |████████████████████████████    | 2.0MB 8.5MB/s eta 0:00:01\r\u001b[K     |████████████████████████████▏   | 2.0MB 8.5MB/s eta 0:00:01\r\u001b[K     |████████████████████████████▍   | 2.0MB 8.5MB/s eta 0:00:01\r\u001b[K     |████████████████████████████▌   | 2.0MB 8.5MB/s eta 0:00:01\r\u001b[K     |████████████████████████████▋   | 2.0MB 8.5MB/s eta 0:00:01\r\u001b[K     |████████████████████████████▉   | 2.0MB 8.5MB/s eta 0:00:01\r\u001b[K     |█████████████████████████████   | 2.0MB 8.5MB/s eta 0:00:01\r\u001b[K     |█████████████████████████████   | 2.0MB 8.5MB/s eta 0:00:01\r\u001b[K     |█████████████████████████████▎  | 2.1MB 8.5MB/s eta 0:00:01\r\u001b[K     |█████████████████████████████▍  | 2.1MB 8.5MB/s eta 0:00:01\r\u001b[K     |█████████████████████████████▌  | 2.1MB 8.5MB/s eta 0:00:01\r\u001b[K     |█████████████████████████████▋  | 2.1MB 8.5MB/s eta 0:00:01\r\u001b[K     |█████████████████████████████▉  | 2.1MB 8.5MB/s eta 0:00:01\r\u001b[K     |██████████████████████████████  | 2.1MB 8.5MB/s eta 0:00:01\r\u001b[K     |██████████████████████████████  | 2.1MB 8.5MB/s eta 0:00:01\r\u001b[K     |██████████████████████████████▎ | 2.1MB 8.5MB/s eta 0:00:01\r\u001b[K     |██████████████████████████████▍ | 2.1MB 8.5MB/s eta 0:00:01\r\u001b[K     |██████████████████████████████▌ | 2.2MB 8.5MB/s eta 0:00:01\r\u001b[K     |██████████████████████████████▊ | 2.2MB 8.5MB/s eta 0:00:01\r\u001b[K     |██████████████████████████████▉ | 2.2MB 8.5MB/s eta 0:00:01\r\u001b[K     |███████████████████████████████ | 2.2MB 8.5MB/s eta 0:00:01\r\u001b[K     |███████████████████████████████▏| 2.2MB 8.5MB/s eta 0:00:01\r\u001b[K     |███████████████████████████████▎| 2.2MB 8.5MB/s eta 0:00:01\r\u001b[K     |███████████████████████████████▍| 2.2MB 8.5MB/s eta 0:00:01\r\u001b[K     |███████████████████████████████▋| 2.2MB 8.5MB/s eta 0:00:01\r\u001b[K     |███████████████████████████████▊| 2.2MB 8.5MB/s eta 0:00:01\r\u001b[K     |███████████████████████████████▉| 2.2MB 8.5MB/s eta 0:00:01\r\u001b[K     |████████████████████████████████| 2.3MB 8.5MB/s eta 0:00:01\r\u001b[K     |████████████████████████████████| 2.3MB 8.5MB/s \n",
            "\u001b[?25h"
          ],
          "name": "stdout"
        }
      ]
    },
    {
      "cell_type": "code",
      "metadata": {
        "colab": {
          "base_uri": "https://localhost:8080/"
        },
        "id": "9Ju-L3fnb9Z_",
        "outputId": "c3398f8f-1822-46aa-8b50-b7c84b5fe952"
      },
      "source": [
        "from google.colab import drive\r\n",
        "drive.mount('/content/drive')\r\n",
        "\r\n",
        "# module auto reload\r\n",
        "%load_ext autoreload\r\n",
        "%autoreload 2"
      ],
      "execution_count": null,
      "outputs": [
        {
          "output_type": "stream",
          "text": [
            "Mounted at /content/drive\n"
          ],
          "name": "stdout"
        }
      ]
    },
    {
      "cell_type": "code",
      "metadata": {
        "colab": {
          "base_uri": "https://localhost:8080/"
        },
        "id": "JfD_sMuadGg-",
        "outputId": "2c0291f9-78ae-4275-e1bf-0df8bc7c0fa6"
      },
      "source": [
        "# copy modules\r\n",
        "!cp -r '/content/drive/My Drive/dna_NN_theory/reading_dna_scripts' .\r\n",
        "!ls reading_dna_scripts"
      ],
      "execution_count": null,
      "outputs": [
        {
          "output_type": "stream",
          "text": [
            "download.py  load.py\n"
          ],
          "name": "stdout"
        }
      ]
    },
    {
      "cell_type": "code",
      "metadata": {
        "id": "72WFD4aSdBIO"
      },
      "source": [
        "import re\r\n",
        "import time\r\n",
        "import numpy as np\r\n",
        "import pandas as pd\r\n",
        "import matplotlib.pyplot as plt\r\n",
        "from itertools import product\r\n",
        "\r\n",
        "from sklearn.model_selection import train_test_split\r\n",
        "import sklearn.metrics as metrics\r\n",
        "\r\n",
        "import tensorflow as tf\r\n",
        "from tensorflow import keras\r\n",
        "from tensorflow.data import Dataset\r\n",
        "\r\n",
        "from reading_dna_scripts.load import read_fasta"
      ],
      "execution_count": null,
      "outputs": []
    },
    {
      "cell_type": "code",
      "metadata": {
        "id": "E8zhPdvZb9cP"
      },
      "source": [
        "DIR = '/content/drive/My Drive/'\r\n",
        "DATA_DIR = DIR + 'data/histone/'\r\n",
        "MODEL_DIR = DIR + 'dna_NN_theory/models/'"
      ],
      "execution_count": null,
      "outputs": []
    },
    {
      "cell_type": "code",
      "metadata": {
        "colab": {
          "base_uri": "https://localhost:8080/"
        },
        "id": "a7vvQ89Gb9eK",
        "outputId": "042865e6-0992-44fd-825a-da030c3a9373"
      },
      "source": [
        "file = DIR + 'H3.fasta'\r\n",
        "sequences, labels = read_fasta(file)"
      ],
      "execution_count": null,
      "outputs": [
        {
          "output_type": "stream",
          "text": [
            "14963 samples loaded\n"
          ],
          "name": "stdout"
        }
      ]
    },
    {
      "cell_type": "code",
      "metadata": {
        "colab": {
          "base_uri": "https://localhost:8080/"
        },
        "id": "-ealq1NGb9gY",
        "outputId": "341dd081-ac70-47c8-dea3-b1b0d20fcaa3"
      },
      "source": [
        "# split\r\n",
        "SEED = 3264\r\n",
        "test_size = 0.15\r\n",
        "val_size = 0.15\r\n",
        "\r\n",
        "split_options = dict(test_size=test_size, stratify=labels, random_state=SEED)\r\n",
        "x_train_val, xtest, y_train_val, ytest = train_test_split(sequences, labels, **split_options)\r\n",
        "# normalize val_size and update options\r\n",
        "split_options.update(dict(test_size=val_size/(1-test_size), stratify=y_train_val))\r\n",
        "xtrain, xval, ytrain, yval = train_test_split(x_train_val, y_train_val, **split_options)\r\n",
        "del x_train_val, y_train_val\r\n",
        "print('train size:', len(xtrain))\r\n",
        "print('test size: ', len(xval))\r\n",
        "print('val size:  ', len(xtest))"
      ],
      "execution_count": null,
      "outputs": [
        {
          "output_type": "stream",
          "text": [
            "train size: 10473\n",
            "test size:  2245\n",
            "val size:   2245\n"
          ],
          "name": "stdout"
        }
      ]
    },
    {
      "cell_type": "code",
      "metadata": {
        "colab": {
          "base_uri": "https://localhost:8080/",
          "height": 89
        },
        "id": "EnX2OjCyb9iO",
        "outputId": "e780caff-f515-41d6-e22c-e9b9b36efcbc"
      },
      "source": [
        "x_train[0]"
      ],
      "execution_count": null,
      "outputs": [
        {
          "output_type": "execute_result",
          "data": {
            "application/vnd.google.colaboratory.intrinsic+json": {
              "type": "string"
            },
            "text/plain": [
              "'CGAACCTGCAGATGATGCAGCAATGGAATTTGGACGTCCAGAAGCTGAAATTGAAACTCCAGAAGTAAATGAGTCTATAGAAGATGCCAATGAACCTGCGGAGGATTCCAATGAACCTGTGGAGGATTCCAACAAACCTGTGAAGGATTCCAACAAACCTGTGGAGGATTCCAACAAACCTGTGGAGGATTCCAACAAACCTGTGGAGGATTCCAACAAACCTGTGGAGGATGCCAATGAACCTGTGGAAGATACCAGTGAACCTGTGGAGGATGCCGGTGAACCCGTACAAGAAACCAACGAGTTTACTACCGACATTGCCTCTCCAAGACATCAAGAAGAAGATATAGAACTTGAAGCCGAACCTAAAGATGCTACCGAAAGTGTTGCAGTCGAGCCATCCAATGAAGATGTAAAACCAGAAGAAAAAGGTTCAGAGGCAGAAGACGATATCAACAACGTTTCCAAGGAGGCTGCCTCTGGTGAGAGTACTACCCACC'"
            ]
          },
          "metadata": {
            "tags": []
          },
          "execution_count": 17
        }
      ]
    },
    {
      "cell_type": "code",
      "metadata": {
        "colab": {
          "base_uri": "https://localhost:8080/"
        },
        "id": "Rven_JITVUC7",
        "outputId": "b9cbe7fd-8537-493b-ce5e-c65f8b4d75de"
      },
      "source": [
        "ytrain[:10]"
      ],
      "execution_count": null,
      "outputs": [
        {
          "output_type": "execute_result",
          "data": {
            "text/plain": [
              "[1, 0, 0, 0, 1, 0, 0, 0, 1, 0]"
            ]
          },
          "metadata": {
            "tags": []
          },
          "execution_count": 17
        }
      ]
    },
    {
      "cell_type": "code",
      "metadata": {
        "colab": {
          "base_uri": "https://localhost:8080/"
        },
        "id": "ctL7w_U9RvHQ",
        "outputId": "ef545cd2-e1ed-430c-d72c-cab6ec399767"
      },
      "source": [
        "seq_len = len(xtrain[0])\r\n",
        "print(\"The length of the sequence is\", seq_len)"
      ],
      "execution_count": null,
      "outputs": [
        {
          "output_type": "stream",
          "text": [
            "The length of the sequence is 500\n"
          ],
          "name": "stdout"
        }
      ]
    },
    {
      "cell_type": "code",
      "metadata": {
        "colab": {
          "base_uri": "https://localhost:8080/"
        },
        "id": "8Wu5WD98b9kp",
        "outputId": "94249609-7310-44b3-e3e2-2516d158c9b0"
      },
      "source": [
        "word_size = 1\r\n",
        "neucleotides = 'ACGT'\r\n",
        "vocab = [''.join(p) for p in product(neucleotides, repeat=word_size)]\r\n",
        "# word_to_idx = {word: i for i, word in enumerate(vocab)}\r\n",
        "vocab_size = len(neucleotides)\r\n",
        "print('vocab_size:', vocab_size)\r\n",
        "# print(\"word_to_idx\", word_to_idx)\r\n",
        "create1gram = keras.layers.experimental.preprocessing.TextVectorization(\r\n",
        "  standardize=lambda x: tf.strings.regex_replace(x, '(.)', '\\\\1 '), ngrams=1\r\n",
        ")\r\n",
        "create1gram.adapt(vocab)"
      ],
      "execution_count": null,
      "outputs": [
        {
          "output_type": "stream",
          "text": [
            "vocab_size: 4\n"
          ],
          "name": "stdout"
        }
      ]
    },
    {
      "cell_type": "code",
      "metadata": {
        "id": "wZHkrTPmRCwb"
      },
      "source": [
        "def ds_preprocess(x, y):\r\n",
        "  x_index = tf.subtract(create1gram(x), 2)\r\n",
        "  return x_index, y"
      ],
      "execution_count": null,
      "outputs": []
    },
    {
      "cell_type": "code",
      "metadata": {
        "id": "kySE9izuRCy-"
      },
      "source": [
        "BATCH_SIZE = 256\r\n",
        "xtrain_ds = Dataset.from_tensor_slices((xtrain, ytrain)).map(ds_preprocess).batch(BATCH_SIZE)\r\n",
        "xval_ds = Dataset.from_tensor_slices((xval, yval)).map(ds_preprocess).batch(BATCH_SIZE)\r\n",
        "xtest_ds = Dataset.from_tensor_slices((xtest, ytest)).map(ds_preprocess).batch(BATCH_SIZE)"
      ],
      "execution_count": null,
      "outputs": []
    },
    {
      "cell_type": "code",
      "metadata": {
        "colab": {
          "base_uri": "https://localhost:8080/"
        },
        "id": "XLpl_zASRC1H",
        "outputId": "5061a30e-2318-4da0-9e1f-bebc1a740640"
      },
      "source": [
        "latent_size = 256\r\n",
        "\r\n",
        "model = keras.Sequential([\r\n",
        "    keras.Input(shape=(seq_len,)),\r\n",
        "    keras.layers.Embedding(seq_len, latent_size),\r\n",
        "    keras.layers.LSTM(latent_size, return_sequences=False),\r\n",
        "    keras.layers.Dense(128, activation=\"relu\"),\r\n",
        "    keras.layers.Dropout(0.2),\r\n",
        "    keras.layers.Dense(64, activation=\"relu\"),    \r\n",
        "    keras.layers.Dropout(0.2),\r\n",
        "    keras.layers.Dense(32, activation=\"relu\"),  \r\n",
        "    keras.layers.Dropout(0.2), \r\n",
        "    keras.layers.Dense(16, activation=\"relu\"), \r\n",
        "    keras.layers.Dropout(0.2),   \r\n",
        "    keras.layers.Dense(1, activation=\"sigmoid\")                               \r\n",
        "])\r\n",
        "model.summary()"
      ],
      "execution_count": null,
      "outputs": [
        {
          "output_type": "stream",
          "text": [
            "Model: \"sequential\"\n",
            "_________________________________________________________________\n",
            "Layer (type)                 Output Shape              Param #   \n",
            "=================================================================\n",
            "embedding (Embedding)        (None, 500, 256)          128000    \n",
            "_________________________________________________________________\n",
            "lstm (LSTM)                  (None, 256)               525312    \n",
            "_________________________________________________________________\n",
            "dense (Dense)                (None, 128)               32896     \n",
            "_________________________________________________________________\n",
            "dropout (Dropout)            (None, 128)               0         \n",
            "_________________________________________________________________\n",
            "dense_1 (Dense)              (None, 64)                8256      \n",
            "_________________________________________________________________\n",
            "dropout_1 (Dropout)          (None, 64)                0         \n",
            "_________________________________________________________________\n",
            "dense_2 (Dense)              (None, 32)                2080      \n",
            "_________________________________________________________________\n",
            "dropout_2 (Dropout)          (None, 32)                0         \n",
            "_________________________________________________________________\n",
            "dense_3 (Dense)              (None, 16)                528       \n",
            "_________________________________________________________________\n",
            "dropout_3 (Dropout)          (None, 16)                0         \n",
            "_________________________________________________________________\n",
            "dense_4 (Dense)              (None, 1)                 17        \n",
            "=================================================================\n",
            "Total params: 697,089\n",
            "Trainable params: 697,089\n",
            "Non-trainable params: 0\n",
            "_________________________________________________________________\n"
          ],
          "name": "stdout"
        }
      ]
    },
    {
      "cell_type": "code",
      "metadata": {
        "colab": {
          "base_uri": "https://localhost:8080/"
        },
        "id": "qaYGGPu9RC3G",
        "outputId": "ab44db69-895b-4591-d2b1-865b29e0ac2b"
      },
      "source": [
        "model.compile(optimizer=tf.optimizers.Adam(), loss=tf.losses.BinaryCrossentropy(), metrics='accuracy')\r\n",
        "es_cb = keras.callbacks.EarlyStopping(patience=100, restore_best_weights=True)\r\n",
        "hist = model.fit(xtrain_ds, validation_data=xval_ds, epochs=3000, callbacks=[es_cb])"
      ],
      "execution_count": null,
      "outputs": [
        {
          "output_type": "stream",
          "text": [
            "Epoch 1/3000\n",
            "41/41 [==============================] - 11s 223ms/step - loss: 0.6919 - accuracy: 0.5224 - val_loss: 0.6726 - val_accuracy: 0.6579\n",
            "Epoch 2/3000\n",
            "41/41 [==============================] - 9s 216ms/step - loss: 0.6883 - accuracy: 0.5522 - val_loss: 0.6714 - val_accuracy: 0.6557\n",
            "Epoch 3/3000\n",
            "41/41 [==============================] - 9s 217ms/step - loss: 0.6859 - accuracy: 0.5632 - val_loss: 0.6842 - val_accuracy: 0.5639\n",
            "Epoch 4/3000\n",
            "41/41 [==============================] - 9s 214ms/step - loss: 0.6783 - accuracy: 0.5905 - val_loss: 0.6920 - val_accuracy: 0.5131\n",
            "Epoch 5/3000\n",
            "41/41 [==============================] - 9s 212ms/step - loss: 0.6921 - accuracy: 0.5234 - val_loss: 0.6623 - val_accuracy: 0.6633\n",
            "Epoch 6/3000\n",
            "41/41 [==============================] - 9s 211ms/step - loss: 0.6737 - accuracy: 0.6089 - val_loss: 0.6922 - val_accuracy: 0.5020\n",
            "Epoch 7/3000\n",
            "41/41 [==============================] - 9s 211ms/step - loss: 0.6923 - accuracy: 0.5250 - val_loss: 0.6904 - val_accuracy: 0.5305\n",
            "Epoch 8/3000\n",
            "41/41 [==============================] - 9s 211ms/step - loss: 0.6855 - accuracy: 0.5580 - val_loss: 0.6910 - val_accuracy: 0.5314\n",
            "Epoch 9/3000\n",
            "41/41 [==============================] - 9s 210ms/step - loss: 0.6887 - accuracy: 0.5416 - val_loss: 0.6894 - val_accuracy: 0.5212\n",
            "Epoch 10/3000\n",
            "41/41 [==============================] - 9s 212ms/step - loss: 0.6677 - accuracy: 0.5925 - val_loss: 0.5195 - val_accuracy: 0.7684\n",
            "Epoch 11/3000\n",
            "41/41 [==============================] - 9s 213ms/step - loss: 0.5538 - accuracy: 0.7546 - val_loss: 0.6431 - val_accuracy: 0.6379\n",
            "Epoch 12/3000\n",
            "41/41 [==============================] - 9s 214ms/step - loss: 0.6217 - accuracy: 0.6563 - val_loss: 0.6169 - val_accuracy: 0.6624\n",
            "Epoch 13/3000\n",
            "41/41 [==============================] - 9s 215ms/step - loss: 0.5960 - accuracy: 0.6887 - val_loss: 0.5673 - val_accuracy: 0.7332\n",
            "Epoch 14/3000\n",
            "41/41 [==============================] - 9s 213ms/step - loss: 0.5569 - accuracy: 0.7512 - val_loss: 0.4870 - val_accuracy: 0.7898\n",
            "Epoch 15/3000\n",
            "41/41 [==============================] - 9s 211ms/step - loss: 0.4985 - accuracy: 0.7848 - val_loss: 0.4670 - val_accuracy: 0.7902\n",
            "Epoch 16/3000\n",
            "41/41 [==============================] - 9s 212ms/step - loss: 0.4850 - accuracy: 0.7907 - val_loss: 0.4688 - val_accuracy: 0.7964\n",
            "Epoch 17/3000\n",
            "41/41 [==============================] - 9s 210ms/step - loss: 0.4772 - accuracy: 0.7969 - val_loss: 0.4786 - val_accuracy: 0.7906\n",
            "Epoch 18/3000\n",
            "41/41 [==============================] - 9s 213ms/step - loss: 0.4676 - accuracy: 0.7936 - val_loss: 0.4364 - val_accuracy: 0.8120\n",
            "Epoch 19/3000\n",
            "41/41 [==============================] - 9s 212ms/step - loss: 0.4591 - accuracy: 0.8065 - val_loss: 0.4430 - val_accuracy: 0.8062\n",
            "Epoch 20/3000\n",
            "41/41 [==============================] - 9s 213ms/step - loss: 0.4487 - accuracy: 0.8062 - val_loss: 0.4305 - val_accuracy: 0.8080\n",
            "Epoch 21/3000\n",
            "41/41 [==============================] - 9s 213ms/step - loss: 0.4350 - accuracy: 0.8198 - val_loss: 0.4138 - val_accuracy: 0.8156\n",
            "Epoch 22/3000\n",
            "41/41 [==============================] - 9s 213ms/step - loss: 0.4350 - accuracy: 0.8195 - val_loss: 0.4099 - val_accuracy: 0.8183\n",
            "Epoch 23/3000\n",
            "41/41 [==============================] - 9s 212ms/step - loss: 0.4292 - accuracy: 0.8209 - val_loss: 0.4043 - val_accuracy: 0.8285\n",
            "Epoch 24/3000\n",
            "41/41 [==============================] - 9s 212ms/step - loss: 0.4281 - accuracy: 0.8221 - val_loss: 0.4118 - val_accuracy: 0.8272\n",
            "Epoch 25/3000\n",
            "41/41 [==============================] - 9s 212ms/step - loss: 0.4159 - accuracy: 0.8267 - val_loss: 0.4137 - val_accuracy: 0.8245\n",
            "Epoch 26/3000\n",
            "41/41 [==============================] - 9s 211ms/step - loss: 0.4155 - accuracy: 0.8293 - val_loss: 0.4114 - val_accuracy: 0.8330\n",
            "Epoch 27/3000\n",
            "41/41 [==============================] - 9s 212ms/step - loss: 0.4134 - accuracy: 0.8319 - val_loss: 0.4105 - val_accuracy: 0.8298\n",
            "Epoch 28/3000\n",
            "41/41 [==============================] - 9s 211ms/step - loss: 0.4092 - accuracy: 0.8329 - val_loss: 0.3992 - val_accuracy: 0.8245\n",
            "Epoch 29/3000\n",
            "41/41 [==============================] - 9s 212ms/step - loss: 0.4197 - accuracy: 0.8295 - val_loss: 0.3977 - val_accuracy: 0.8276\n",
            "Epoch 30/3000\n",
            "41/41 [==============================] - 9s 213ms/step - loss: 0.4017 - accuracy: 0.8382 - val_loss: 0.4073 - val_accuracy: 0.8249\n",
            "Epoch 31/3000\n",
            "41/41 [==============================] - 9s 211ms/step - loss: 0.4009 - accuracy: 0.8339 - val_loss: 0.3934 - val_accuracy: 0.8374\n",
            "Epoch 32/3000\n",
            "41/41 [==============================] - 9s 211ms/step - loss: 0.3932 - accuracy: 0.8384 - val_loss: 0.3946 - val_accuracy: 0.8392\n",
            "Epoch 33/3000\n",
            "41/41 [==============================] - 9s 213ms/step - loss: 0.3903 - accuracy: 0.8434 - val_loss: 0.3798 - val_accuracy: 0.8352\n",
            "Epoch 34/3000\n",
            "41/41 [==============================] - 9s 212ms/step - loss: 0.3918 - accuracy: 0.8443 - val_loss: 0.3928 - val_accuracy: 0.8374\n",
            "Epoch 35/3000\n",
            "41/41 [==============================] - 9s 212ms/step - loss: 0.3890 - accuracy: 0.8441 - val_loss: 0.3783 - val_accuracy: 0.8419\n",
            "Epoch 36/3000\n",
            "41/41 [==============================] - 9s 211ms/step - loss: 0.3782 - accuracy: 0.8462 - val_loss: 0.3845 - val_accuracy: 0.8410\n",
            "Epoch 37/3000\n",
            "41/41 [==============================] - 9s 213ms/step - loss: 0.3817 - accuracy: 0.8445 - val_loss: 0.3973 - val_accuracy: 0.8383\n",
            "Epoch 38/3000\n",
            "41/41 [==============================] - 9s 212ms/step - loss: 0.3872 - accuracy: 0.8436 - val_loss: 0.4292 - val_accuracy: 0.8236\n",
            "Epoch 39/3000\n",
            "41/41 [==============================] - 9s 211ms/step - loss: 0.3887 - accuracy: 0.8446 - val_loss: 0.3769 - val_accuracy: 0.8481\n",
            "Epoch 40/3000\n",
            "41/41 [==============================] - 9s 213ms/step - loss: 0.3807 - accuracy: 0.8498 - val_loss: 0.3735 - val_accuracy: 0.8468\n",
            "Epoch 41/3000\n",
            "41/41 [==============================] - 9s 211ms/step - loss: 0.3701 - accuracy: 0.8513 - val_loss: 0.3765 - val_accuracy: 0.8432\n",
            "Epoch 42/3000\n",
            "41/41 [==============================] - 9s 213ms/step - loss: 0.3664 - accuracy: 0.8564 - val_loss: 0.3713 - val_accuracy: 0.8410\n",
            "Epoch 43/3000\n",
            "41/41 [==============================] - 9s 212ms/step - loss: 0.3843 - accuracy: 0.8458 - val_loss: 0.3888 - val_accuracy: 0.8445\n",
            "Epoch 44/3000\n",
            "41/41 [==============================] - 9s 212ms/step - loss: 0.3719 - accuracy: 0.8530 - val_loss: 0.3766 - val_accuracy: 0.8490\n",
            "Epoch 45/3000\n",
            "41/41 [==============================] - 9s 213ms/step - loss: 0.3688 - accuracy: 0.8538 - val_loss: 0.3808 - val_accuracy: 0.8481\n",
            "Epoch 46/3000\n",
            "41/41 [==============================] - 9s 212ms/step - loss: 0.3635 - accuracy: 0.8531 - val_loss: 0.3889 - val_accuracy: 0.8472\n",
            "Epoch 47/3000\n",
            "41/41 [==============================] - 9s 213ms/step - loss: 0.3613 - accuracy: 0.8543 - val_loss: 0.3904 - val_accuracy: 0.8396\n",
            "Epoch 48/3000\n",
            "41/41 [==============================] - 9s 214ms/step - loss: 0.3614 - accuracy: 0.8563 - val_loss: 0.3672 - val_accuracy: 0.8499\n",
            "Epoch 49/3000\n",
            "41/41 [==============================] - 9s 213ms/step - loss: 0.3466 - accuracy: 0.8627 - val_loss: 0.3582 - val_accuracy: 0.8588\n",
            "Epoch 50/3000\n",
            "41/41 [==============================] - 9s 213ms/step - loss: 0.3391 - accuracy: 0.8692 - val_loss: 0.3635 - val_accuracy: 0.8543\n",
            "Epoch 51/3000\n",
            "41/41 [==============================] - 9s 212ms/step - loss: 0.3411 - accuracy: 0.8647 - val_loss: 0.3575 - val_accuracy: 0.8535\n",
            "Epoch 52/3000\n",
            "41/41 [==============================] - 9s 213ms/step - loss: 0.3339 - accuracy: 0.8723 - val_loss: 0.3547 - val_accuracy: 0.8526\n",
            "Epoch 53/3000\n",
            "41/41 [==============================] - 9s 212ms/step - loss: 0.3278 - accuracy: 0.8694 - val_loss: 0.3535 - val_accuracy: 0.8535\n",
            "Epoch 54/3000\n",
            "41/41 [==============================] - 9s 211ms/step - loss: 0.3357 - accuracy: 0.8707 - val_loss: 0.3515 - val_accuracy: 0.8579\n",
            "Epoch 55/3000\n",
            "41/41 [==============================] - 9s 213ms/step - loss: 0.3316 - accuracy: 0.8678 - val_loss: 0.3566 - val_accuracy: 0.8548\n",
            "Epoch 56/3000\n",
            "41/41 [==============================] - 9s 212ms/step - loss: 0.3215 - accuracy: 0.8737 - val_loss: 0.3600 - val_accuracy: 0.8535\n",
            "Epoch 57/3000\n",
            "41/41 [==============================] - 9s 213ms/step - loss: 0.3139 - accuracy: 0.8804 - val_loss: 0.3587 - val_accuracy: 0.8530\n",
            "Epoch 58/3000\n",
            "41/41 [==============================] - 9s 212ms/step - loss: 0.3129 - accuracy: 0.8791 - val_loss: 0.3616 - val_accuracy: 0.8494\n",
            "Epoch 59/3000\n",
            "41/41 [==============================] - 9s 212ms/step - loss: 0.3207 - accuracy: 0.8776 - val_loss: 0.3834 - val_accuracy: 0.8401\n",
            "Epoch 60/3000\n",
            "41/41 [==============================] - 9s 213ms/step - loss: 0.3190 - accuracy: 0.8771 - val_loss: 0.3664 - val_accuracy: 0.8432\n",
            "Epoch 61/3000\n",
            "41/41 [==============================] - 9s 213ms/step - loss: 0.3010 - accuracy: 0.8834 - val_loss: 0.3597 - val_accuracy: 0.8512\n",
            "Epoch 62/3000\n",
            "41/41 [==============================] - 9s 212ms/step - loss: 0.2928 - accuracy: 0.8888 - val_loss: 0.3677 - val_accuracy: 0.8481\n",
            "Epoch 63/3000\n",
            "41/41 [==============================] - 9s 213ms/step - loss: 0.2866 - accuracy: 0.8916 - val_loss: 0.3672 - val_accuracy: 0.8517\n",
            "Epoch 64/3000\n",
            "41/41 [==============================] - 9s 212ms/step - loss: 0.2795 - accuracy: 0.8948 - val_loss: 0.3700 - val_accuracy: 0.8441\n",
            "Epoch 65/3000\n",
            "41/41 [==============================] - 9s 212ms/step - loss: 0.2844 - accuracy: 0.8933 - val_loss: 0.3698 - val_accuracy: 0.8445\n",
            "Epoch 66/3000\n",
            "41/41 [==============================] - 9s 212ms/step - loss: 0.2757 - accuracy: 0.8928 - val_loss: 0.3729 - val_accuracy: 0.8486\n",
            "Epoch 67/3000\n",
            "41/41 [==============================] - 9s 213ms/step - loss: 0.2624 - accuracy: 0.9007 - val_loss: 0.3742 - val_accuracy: 0.8526\n",
            "Epoch 68/3000\n",
            "41/41 [==============================] - 9s 212ms/step - loss: 0.2648 - accuracy: 0.8988 - val_loss: 0.3663 - val_accuracy: 0.8463\n",
            "Epoch 69/3000\n",
            "41/41 [==============================] - 9s 214ms/step - loss: 0.2606 - accuracy: 0.9009 - val_loss: 0.3958 - val_accuracy: 0.8405\n",
            "Epoch 70/3000\n",
            "41/41 [==============================] - 9s 213ms/step - loss: 0.2492 - accuracy: 0.9045 - val_loss: 0.4028 - val_accuracy: 0.8535\n",
            "Epoch 71/3000\n",
            "41/41 [==============================] - 9s 212ms/step - loss: 0.2564 - accuracy: 0.8978 - val_loss: 0.4189 - val_accuracy: 0.8383\n",
            "Epoch 72/3000\n",
            "41/41 [==============================] - 9s 213ms/step - loss: 0.2416 - accuracy: 0.9051 - val_loss: 0.3920 - val_accuracy: 0.8383\n",
            "Epoch 73/3000\n",
            "41/41 [==============================] - 9s 213ms/step - loss: 0.2275 - accuracy: 0.9113 - val_loss: 0.4218 - val_accuracy: 0.8512\n",
            "Epoch 74/3000\n",
            "41/41 [==============================] - 9s 213ms/step - loss: 0.2322 - accuracy: 0.9098 - val_loss: 0.4099 - val_accuracy: 0.8428\n",
            "Epoch 75/3000\n",
            "41/41 [==============================] - 9s 214ms/step - loss: 0.2202 - accuracy: 0.9101 - val_loss: 0.4233 - val_accuracy: 0.8543\n",
            "Epoch 76/3000\n",
            "41/41 [==============================] - 9s 212ms/step - loss: 0.2136 - accuracy: 0.9191 - val_loss: 0.4366 - val_accuracy: 0.8468\n",
            "Epoch 77/3000\n",
            "41/41 [==============================] - 9s 213ms/step - loss: 0.2088 - accuracy: 0.9127 - val_loss: 0.4336 - val_accuracy: 0.8445\n",
            "Epoch 78/3000\n",
            "41/41 [==============================] - 9s 213ms/step - loss: 0.1905 - accuracy: 0.9227 - val_loss: 0.4484 - val_accuracy: 0.8388\n",
            "Epoch 79/3000\n",
            "41/41 [==============================] - 9s 212ms/step - loss: 0.1857 - accuracy: 0.9261 - val_loss: 0.4776 - val_accuracy: 0.8307\n",
            "Epoch 80/3000\n",
            "41/41 [==============================] - 9s 212ms/step - loss: 0.2257 - accuracy: 0.9099 - val_loss: 0.4754 - val_accuracy: 0.8365\n",
            "Epoch 81/3000\n",
            "41/41 [==============================] - 9s 214ms/step - loss: 0.2125 - accuracy: 0.9147 - val_loss: 0.4810 - val_accuracy: 0.8258\n",
            "Epoch 82/3000\n",
            "41/41 [==============================] - 9s 214ms/step - loss: 0.2056 - accuracy: 0.9146 - val_loss: 0.4528 - val_accuracy: 0.8330\n",
            "Epoch 83/3000\n",
            "41/41 [==============================] - 9s 213ms/step - loss: 0.2002 - accuracy: 0.9183 - val_loss: 0.4723 - val_accuracy: 0.8290\n",
            "Epoch 84/3000\n",
            "41/41 [==============================] - 9s 213ms/step - loss: 0.1996 - accuracy: 0.9179 - val_loss: 0.4762 - val_accuracy: 0.8481\n",
            "Epoch 85/3000\n",
            "41/41 [==============================] - 9s 213ms/step - loss: 0.1842 - accuracy: 0.9248 - val_loss: 0.5785 - val_accuracy: 0.8490\n",
            "Epoch 86/3000\n",
            "41/41 [==============================] - 9s 213ms/step - loss: 0.1646 - accuracy: 0.9312 - val_loss: 0.6310 - val_accuracy: 0.8539\n",
            "Epoch 87/3000\n",
            "41/41 [==============================] - 9s 211ms/step - loss: 0.1547 - accuracy: 0.9363 - val_loss: 0.6842 - val_accuracy: 0.8548\n",
            "Epoch 88/3000\n",
            "41/41 [==============================] - 9s 213ms/step - loss: 0.1250 - accuracy: 0.9503 - val_loss: 0.6625 - val_accuracy: 0.8321\n",
            "Epoch 89/3000\n",
            "41/41 [==============================] - 9s 215ms/step - loss: 0.1233 - accuracy: 0.9516 - val_loss: 0.6839 - val_accuracy: 0.8401\n",
            "Epoch 90/3000\n",
            "41/41 [==============================] - 9s 213ms/step - loss: 0.1340 - accuracy: 0.9470 - val_loss: 0.6738 - val_accuracy: 0.8463\n",
            "Epoch 91/3000\n",
            "41/41 [==============================] - 9s 215ms/step - loss: 0.1190 - accuracy: 0.9521 - val_loss: 0.8000 - val_accuracy: 0.8530\n",
            "Epoch 92/3000\n",
            "41/41 [==============================] - 9s 212ms/step - loss: 0.1465 - accuracy: 0.9449 - val_loss: 0.6302 - val_accuracy: 0.8374\n",
            "Epoch 93/3000\n",
            "41/41 [==============================] - 9s 211ms/step - loss: 0.1088 - accuracy: 0.9570 - val_loss: 0.7671 - val_accuracy: 0.8414\n",
            "Epoch 94/3000\n",
            "41/41 [==============================] - 9s 212ms/step - loss: 0.1065 - accuracy: 0.9589 - val_loss: 0.7789 - val_accuracy: 0.8419\n",
            "Epoch 95/3000\n",
            "41/41 [==============================] - 9s 212ms/step - loss: 0.0898 - accuracy: 0.9655 - val_loss: 0.8964 - val_accuracy: 0.8477\n",
            "Epoch 96/3000\n",
            "41/41 [==============================] - 9s 212ms/step - loss: 0.1110 - accuracy: 0.9612 - val_loss: 0.7260 - val_accuracy: 0.8365\n",
            "Epoch 97/3000\n",
            "41/41 [==============================] - 9s 213ms/step - loss: 0.0956 - accuracy: 0.9616 - val_loss: 0.7828 - val_accuracy: 0.8285\n",
            "Epoch 98/3000\n",
            "41/41 [==============================] - 9s 213ms/step - loss: 0.0822 - accuracy: 0.9672 - val_loss: 0.9543 - val_accuracy: 0.8352\n",
            "Epoch 99/3000\n",
            "41/41 [==============================] - 9s 213ms/step - loss: 0.0779 - accuracy: 0.9715 - val_loss: 0.9312 - val_accuracy: 0.8241\n",
            "Epoch 100/3000\n",
            "41/41 [==============================] - 9s 211ms/step - loss: 0.0750 - accuracy: 0.9734 - val_loss: 0.8349 - val_accuracy: 0.8312\n",
            "Epoch 101/3000\n",
            "41/41 [==============================] - 9s 212ms/step - loss: 0.0589 - accuracy: 0.9778 - val_loss: 0.9159 - val_accuracy: 0.8223\n",
            "Epoch 102/3000\n",
            "41/41 [==============================] - 9s 211ms/step - loss: 0.0695 - accuracy: 0.9728 - val_loss: 1.0657 - val_accuracy: 0.8325\n",
            "Epoch 103/3000\n",
            "41/41 [==============================] - 9s 212ms/step - loss: 0.0667 - accuracy: 0.9758 - val_loss: 0.9346 - val_accuracy: 0.8143\n",
            "Epoch 104/3000\n",
            "41/41 [==============================] - 9s 213ms/step - loss: 0.1080 - accuracy: 0.9626 - val_loss: 0.8427 - val_accuracy: 0.8316\n",
            "Epoch 105/3000\n",
            "41/41 [==============================] - 9s 213ms/step - loss: 0.0597 - accuracy: 0.9780 - val_loss: 1.0184 - val_accuracy: 0.8343\n",
            "Epoch 106/3000\n",
            "41/41 [==============================] - 9s 212ms/step - loss: 0.0613 - accuracy: 0.9785 - val_loss: 0.8562 - val_accuracy: 0.8267\n",
            "Epoch 107/3000\n",
            "41/41 [==============================] - 9s 212ms/step - loss: 0.0786 - accuracy: 0.9727 - val_loss: 0.8735 - val_accuracy: 0.8294\n",
            "Epoch 108/3000\n",
            "41/41 [==============================] - 9s 212ms/step - loss: 0.0602 - accuracy: 0.9767 - val_loss: 1.0093 - val_accuracy: 0.8281\n",
            "Epoch 109/3000\n",
            "41/41 [==============================] - 9s 213ms/step - loss: 0.1241 - accuracy: 0.9588 - val_loss: 0.6103 - val_accuracy: 0.8307\n",
            "Epoch 110/3000\n",
            "41/41 [==============================] - 9s 213ms/step - loss: 0.1136 - accuracy: 0.9576 - val_loss: 0.7446 - val_accuracy: 0.8316\n",
            "Epoch 111/3000\n",
            "41/41 [==============================] - 9s 215ms/step - loss: 0.0681 - accuracy: 0.9754 - val_loss: 0.9881 - val_accuracy: 0.8223\n",
            "Epoch 112/3000\n",
            "41/41 [==============================] - 9s 213ms/step - loss: 0.0673 - accuracy: 0.9752 - val_loss: 0.9838 - val_accuracy: 0.8374\n",
            "Epoch 113/3000\n",
            "41/41 [==============================] - 9s 213ms/step - loss: 0.1368 - accuracy: 0.9505 - val_loss: 0.7106 - val_accuracy: 0.8379\n",
            "Epoch 114/3000\n",
            "41/41 [==============================] - 9s 212ms/step - loss: 0.1027 - accuracy: 0.9659 - val_loss: 0.9480 - val_accuracy: 0.8303\n",
            "Epoch 115/3000\n",
            "41/41 [==============================] - 9s 213ms/step - loss: 0.0671 - accuracy: 0.9766 - val_loss: 1.2009 - val_accuracy: 0.8254\n",
            "Epoch 116/3000\n",
            "41/41 [==============================] - 9s 211ms/step - loss: 0.0713 - accuracy: 0.9750 - val_loss: 1.1019 - val_accuracy: 0.8303\n",
            "Epoch 117/3000\n",
            "41/41 [==============================] - 9s 214ms/step - loss: 0.0669 - accuracy: 0.9764 - val_loss: 1.1303 - val_accuracy: 0.8249\n",
            "Epoch 118/3000\n",
            "41/41 [==============================] - 9s 213ms/step - loss: 0.0535 - accuracy: 0.9814 - val_loss: 1.2526 - val_accuracy: 0.8102\n",
            "Epoch 119/3000\n",
            "41/41 [==============================] - 9s 212ms/step - loss: 0.0671 - accuracy: 0.9752 - val_loss: 1.1176 - val_accuracy: 0.8232\n",
            "Epoch 120/3000\n",
            "41/41 [==============================] - 9s 213ms/step - loss: 0.0703 - accuracy: 0.9772 - val_loss: 1.1594 - val_accuracy: 0.8241\n",
            "Epoch 121/3000\n",
            "41/41 [==============================] - 9s 213ms/step - loss: 0.0527 - accuracy: 0.9799 - val_loss: 1.0721 - val_accuracy: 0.8258\n",
            "Epoch 122/3000\n",
            "41/41 [==============================] - 9s 212ms/step - loss: 0.0695 - accuracy: 0.9739 - val_loss: 0.9576 - val_accuracy: 0.8174\n",
            "Epoch 123/3000\n",
            "41/41 [==============================] - 9s 213ms/step - loss: 0.0525 - accuracy: 0.9787 - val_loss: 1.0029 - val_accuracy: 0.8374\n",
            "Epoch 124/3000\n",
            "41/41 [==============================] - 9s 212ms/step - loss: 0.0526 - accuracy: 0.9820 - val_loss: 1.0400 - val_accuracy: 0.8254\n",
            "Epoch 125/3000\n",
            "41/41 [==============================] - 9s 213ms/step - loss: 0.0414 - accuracy: 0.9839 - val_loss: 1.1125 - val_accuracy: 0.8330\n",
            "Epoch 126/3000\n",
            "41/41 [==============================] - 9s 212ms/step - loss: 0.0234 - accuracy: 0.9919 - val_loss: 1.2115 - val_accuracy: 0.8263\n",
            "Epoch 127/3000\n",
            "41/41 [==============================] - 9s 213ms/step - loss: 0.0160 - accuracy: 0.9948 - val_loss: 1.3911 - val_accuracy: 0.8316\n",
            "Epoch 128/3000\n",
            "41/41 [==============================] - 9s 212ms/step - loss: 0.0091 - accuracy: 0.9970 - val_loss: 1.5122 - val_accuracy: 0.8330\n",
            "Epoch 129/3000\n",
            "41/41 [==============================] - 9s 211ms/step - loss: 0.0100 - accuracy: 0.9958 - val_loss: 1.6415 - val_accuracy: 0.8258\n",
            "Epoch 130/3000\n",
            "41/41 [==============================] - 9s 212ms/step - loss: 0.0089 - accuracy: 0.9969 - val_loss: 1.7342 - val_accuracy: 0.8298\n",
            "Epoch 131/3000\n",
            "41/41 [==============================] - 9s 212ms/step - loss: 0.0084 - accuracy: 0.9972 - val_loss: 1.7176 - val_accuracy: 0.8169\n",
            "Epoch 132/3000\n",
            "41/41 [==============================] - 9s 211ms/step - loss: 0.0095 - accuracy: 0.9965 - val_loss: 1.7126 - val_accuracy: 0.8290\n",
            "Epoch 133/3000\n",
            "41/41 [==============================] - 9s 212ms/step - loss: 0.0106 - accuracy: 0.9970 - val_loss: 1.7116 - val_accuracy: 0.8276\n",
            "Epoch 134/3000\n",
            "41/41 [==============================] - 9s 211ms/step - loss: 0.0154 - accuracy: 0.9955 - val_loss: 1.7486 - val_accuracy: 0.8312\n",
            "Epoch 135/3000\n",
            "41/41 [==============================] - 9s 213ms/step - loss: 0.0354 - accuracy: 0.9875 - val_loss: 1.2478 - val_accuracy: 0.8232\n",
            "Epoch 136/3000\n",
            "41/41 [==============================] - 9s 212ms/step - loss: 0.0520 - accuracy: 0.9810 - val_loss: 1.2489 - val_accuracy: 0.8419\n",
            "Epoch 137/3000\n",
            "41/41 [==============================] - 9s 213ms/step - loss: 0.0350 - accuracy: 0.9878 - val_loss: 1.1630 - val_accuracy: 0.8388\n",
            "Epoch 138/3000\n",
            "41/41 [==============================] - 9s 213ms/step - loss: 0.0400 - accuracy: 0.9872 - val_loss: 1.1710 - val_accuracy: 0.8383\n",
            "Epoch 139/3000\n",
            "41/41 [==============================] - 9s 213ms/step - loss: 0.0188 - accuracy: 0.9940 - val_loss: 1.2718 - val_accuracy: 0.8356\n",
            "Epoch 140/3000\n",
            "41/41 [==============================] - 9s 212ms/step - loss: 0.0127 - accuracy: 0.9953 - val_loss: 1.5396 - val_accuracy: 0.8330\n",
            "Epoch 141/3000\n",
            "41/41 [==============================] - 9s 211ms/step - loss: 0.0139 - accuracy: 0.9958 - val_loss: 1.5775 - val_accuracy: 0.8281\n",
            "Epoch 142/3000\n",
            "41/41 [==============================] - 9s 212ms/step - loss: 0.0101 - accuracy: 0.9967 - val_loss: 1.6899 - val_accuracy: 0.8343\n",
            "Epoch 143/3000\n",
            "41/41 [==============================] - 9s 211ms/step - loss: 0.0093 - accuracy: 0.9963 - val_loss: 1.8628 - val_accuracy: 0.8374\n",
            "Epoch 144/3000\n",
            "41/41 [==============================] - 9s 212ms/step - loss: 0.0125 - accuracy: 0.9966 - val_loss: 1.6756 - val_accuracy: 0.8419\n",
            "Epoch 145/3000\n",
            "41/41 [==============================] - 9s 212ms/step - loss: 0.0294 - accuracy: 0.9910 - val_loss: 1.5205 - val_accuracy: 0.8374\n",
            "Epoch 146/3000\n",
            "41/41 [==============================] - 9s 213ms/step - loss: 0.0199 - accuracy: 0.9945 - val_loss: 1.4552 - val_accuracy: 0.8334\n",
            "Epoch 147/3000\n",
            "41/41 [==============================] - 9s 212ms/step - loss: 0.0117 - accuracy: 0.9968 - val_loss: 1.5223 - val_accuracy: 0.8374\n",
            "Epoch 148/3000\n",
            "41/41 [==============================] - 9s 212ms/step - loss: 0.0083 - accuracy: 0.9978 - val_loss: 1.6258 - val_accuracy: 0.8419\n",
            "Epoch 149/3000\n",
            "41/41 [==============================] - 9s 212ms/step - loss: 0.0124 - accuracy: 0.9963 - val_loss: 1.7133 - val_accuracy: 0.8454\n",
            "Epoch 150/3000\n",
            "41/41 [==============================] - 9s 211ms/step - loss: 0.0130 - accuracy: 0.9961 - val_loss: 1.6175 - val_accuracy: 0.8294\n",
            "Epoch 151/3000\n",
            "41/41 [==============================] - 9s 212ms/step - loss: 0.0156 - accuracy: 0.9954 - val_loss: 1.5807 - val_accuracy: 0.8321\n",
            "Epoch 152/3000\n",
            "41/41 [==============================] - 9s 213ms/step - loss: 0.0266 - accuracy: 0.9915 - val_loss: 1.1917 - val_accuracy: 0.8236\n",
            "Epoch 153/3000\n",
            "41/41 [==============================] - 9s 213ms/step - loss: 0.0310 - accuracy: 0.9899 - val_loss: 1.2181 - val_accuracy: 0.8374\n",
            "Epoch 154/3000\n",
            "41/41 [==============================] - 9s 212ms/step - loss: 0.0099 - accuracy: 0.9985 - val_loss: 1.4458 - val_accuracy: 0.8374\n"
          ],
          "name": "stdout"
        }
      ]
    },
    {
      "cell_type": "code",
      "metadata": {
        "id": "18ulk79tRC6f"
      },
      "source": [
        "# saving current model\r\n",
        "date = '_20210310'\r\n",
        "suffix = \"baseline_histone_adam256\"\r\n",
        "model.save(MODEL_DIR+suffix+date+\".h5\")"
      ],
      "execution_count": null,
      "outputs": []
    },
    {
      "cell_type": "code",
      "metadata": {
        "id": "SkVj6EdaRC4t"
      },
      "source": [
        "def save_hist():\r\n",
        "  filename = DIR + 'dna_NN_theory/histone/' + suffix + \"_history.csv\"\r\n",
        "  hist_df = pd.DataFrame(hist.history) \r\n",
        "  with open(filename, mode='w') as f:\r\n",
        "    hist_df.to_csv(f)\r\n",
        "save_hist()"
      ],
      "execution_count": null,
      "outputs": []
    },
    {
      "cell_type": "code",
      "metadata": {
        "id": "7MdJxk6PUkxB"
      },
      "source": [
        "ytrain_pred = model.predict(xtrain_ds)\r\n",
        "yval_pred = model.predict(xval_ds)\r\n",
        "ytest_pred = model.predict(xtest_ds)"
      ],
      "execution_count": null,
      "outputs": []
    },
    {
      "cell_type": "code",
      "metadata": {
        "id": "zD-JevYbi0Sr"
      },
      "source": [
        "def save_prediction():\r\n",
        "  res = [ytrain, ytrain_pred, yval, yval_pred, ytest, ytest_pred]\r\n",
        "  i = 0\r\n",
        "  for ds in ['train', 'val', 'test']:\r\n",
        "    filename = DIR + 'dna_NN_theory/histone/' + suffix + \"_\" + ds + \"_prediction.csv\"\r\n",
        "    df = pd.DataFrame()\r\n",
        "    df[ds] = res[i]\r\n",
        "    i += 1\r\n",
        "    df[ds+'_pred'] = res[i]\r\n",
        "    i += 1\r\n",
        "    with open(filename, mode='w') as f:\r\n",
        "      df.to_csv(f)\r\n",
        "  \r\n",
        "save_prediction()"
      ],
      "execution_count": null,
      "outputs": []
    },
    {
      "cell_type": "code",
      "metadata": {
        "id": "bM9wXMuRfUUk"
      },
      "source": [
        "### ref: https://stackoverflow.com/questions/25009284/how-to-plot-roc-curve-in-python\r\n",
        "def plot_ROC(label, pred, title=\"ROC\"):\r\n",
        "  fpr, tpr, threshold = metrics.roc_curve(label, pred)\r\n",
        "  roc_auc = metrics.auc(fpr, tpr)\r\n",
        "\r\n",
        "  plt.title(title)\r\n",
        "  plt.plot(fpr, tpr, 'b', label = 'AUC = %0.2f' % roc_auc)\r\n",
        "  plt.legend(loc='lower right')\r\n",
        "  plt.plot([0, 1], [0, 1],'r--')\r\n",
        "  plt.xlim([0, 1])\r\n",
        "  plt.ylim([0, 1])\r\n",
        "  plt.ylabel('True Positive Rate')\r\n",
        "  plt.xlabel('False Positive Rate')\r\n",
        "  plt.show()"
      ],
      "execution_count": null,
      "outputs": []
    },
    {
      "cell_type": "code",
      "metadata": {
        "colab": {
          "base_uri": "https://localhost:8080/",
          "height": 295
        },
        "id": "gkvjFutWfpMW",
        "outputId": "122f211c-28a6-4824-ce0f-697d3db899c7"
      },
      "source": [
        "plot_ROC(ytrain,ytrain_pred, title='ROC on histone training')"
      ],
      "execution_count": null,
      "outputs": [
        {
          "output_type": "display_data",
          "data": {
            "image/png": "[encoded data removed]",
            "text/plain": [
              "<Figure size 432x288 with 1 Axes>"
            ]
          },
          "metadata": {
            "tags": [],
            "needs_background": "light"
          }
        }
      ]
    },
    {
      "cell_type": "code",
      "metadata": {
        "id": "XQakvOYof8G9"
      },
      "source": [
        "### ref: https://machinelearningmastery.com/roc-curves-and-precision-recall-curves-for-classification-in-python/\r\n",
        "def plot_recall_precision(label, pred, title=\"RP\"):\r\n",
        "  precision, recall, thresholds = metrics.precision_recall_curve(label, pred)\r\n",
        "  no_skill = np.sum(label) / len(label)\r\n",
        "  plt.plot([0, 1], [no_skill, no_skill], linestyle='--', label='random')\r\n",
        "  plt.plot(recall, precision, marker='.', label='model')\r\n",
        "  plt.xlabel('Recall')\r\n",
        "  plt.ylabel('Precision')\r\n",
        "  plt.legend()\r\n",
        "  plt.show()"
      ],
      "execution_count": null,
      "outputs": []
    },
    {
      "cell_type": "code",
      "metadata": {
        "colab": {
          "base_uri": "https://localhost:8080/",
          "height": 279
        },
        "id": "qeqR6tkchyaE",
        "outputId": "c07871df-06ef-4882-c694-e19e687a194d"
      },
      "source": [
        "plot_recall_precision(ytrain, ytrain_pred, title='precision/recall on histone training')"
      ],
      "execution_count": null,
      "outputs": [
        {
          "output_type": "display_data",
          "data": {
            "image/png": "[encoded data removed]",
            "text/plain": [
              "<Figure size 432x288 with 1 Axes>"
            ]
          },
          "metadata": {
            "tags": [],
            "needs_background": "light"
          }
        }
      ]
    },
    {
      "cell_type": "code",
      "metadata": {
        "colab": {
          "base_uri": "https://localhost:8080/",
          "height": 369
        },
        "id": "xYs8UFpbSM1N",
        "outputId": "5390a0e4-eb25-4b7a-aa18-ace6a608833a"
      },
      "source": [
        "fig, axes = plt.subplots(1, 2, figsize=(10, 5))\r\n",
        "for i in range(1):\r\n",
        "  ax1 = axes[0]\r\n",
        "  ax2 = axes[1]\r\n",
        "\r\n",
        "  ax1.plot(hist.history['loss'], label='training')\r\n",
        "  ax1.plot(hist.history['val_loss'], label='validation')\r\n",
        "  ax1.set_title('model loss')\r\n",
        "  ax1.set_xlabel('epoch')\r\n",
        "  ax1.set_ylabel('loss')\r\n",
        "  ax1.legend(['train', 'validation'], loc='upper left')\r\n",
        "  \r\n",
        "  ax2.plot(hist.history['accuracy'], label='training')\r\n",
        "  ax2.plot(hist.history['val_accuracy'], label='validation')\r\n",
        "  ax2.set_title('model accuracy')\r\n",
        "  ax2.set_xlabel('epoch')\r\n",
        "  ax2.set_ylabel('accuracy')\r\n",
        "  ax2.legend(['train', 'validation'], loc='upper left')\r\n",
        "fig.tight_layout()"
      ],
      "execution_count": null,
      "outputs": [
        {
          "output_type": "display_data",
          "data": {
            "image/png": "[encoded data removed]",
            "text/plain": [
              "<Figure size 720x360 with 2 Axes>"
            ]
          },
          "metadata": {
            "tags": [],
            "needs_background": "light"
          }
        }
      ]
    },
    {
      "cell_type": "code",
      "metadata": {
        "colab": {
          "base_uri": "https://localhost:8080/"
        },
        "id": "bxd1gJRGSOXn",
        "outputId": "98dfa3e5-9b6b-4b93-913c-8cedc0e3147b"
      },
      "source": [
        "def eval_model(model, ds, ds_name=\"Training\"):\r\n",
        "  loss, acc = model.evaluate(ds, verbose=0)\r\n",
        "  print(\"{} Dataset: loss = {} and acccuracy = {}%\".format(ds_name, np.round(loss, 3), np.round(acc*100, 2)))\r\n",
        "\r\n",
        "eval_model(model, xtrain_ds, \"Training\")\r\n",
        "eval_model(model, xval_ds, \"Validation\")\r\n",
        "eval_model(model, xtest_ds, \"Test\")"
      ],
      "execution_count": null,
      "outputs": [
        {
          "output_type": "stream",
          "text": [
            "Training Dataset: loss = 0.322 and acccuracy = 86.9%\n",
            "Validation Dataset: loss = 0.351 and acccuracy = 85.79%\n",
            "Test Dataset: loss = 0.361 and acccuracy = 85.39%\n"
          ],
          "name": "stdout"
        }
      ]
    },
    {
      "cell_type": "code",
      "metadata": {
        "id": "OJ1FMrCoSOZ4"
      },
      "source": [
        ""
      ],
      "execution_count": null,
      "outputs": []
    }
  ]
}